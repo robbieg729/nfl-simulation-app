{
 "cells": [
  {
   "cell_type": "code",
   "execution_count": 1,
   "metadata": {},
   "outputs": [
    {
     "name": "stdout",
     "output_type": "stream",
     "text": [
      "Broncos\n"
     ]
    },
    {
     "data": {
      "text/html": [
       "\n",
       "            <div style=\"float: left; border: 1px solid black; width:500px\">\n",
       "              <div id=\"8d6d9c1c-9a02-45f2-a495-593bf2978fa3\" style=\"background-color:blue; width:0%\">&nbsp;</div>\n",
       "            </div>\n",
       "            <label id=\"0ce674ef-50d0-4791-9687-7b0684e704c5\" style=\"padding-left: 10px;\" text = \"\"/>\n",
       "            "
      ],
      "text/plain": [
       "<IPython.core.display.HTML object>"
      ]
     },
     "metadata": {},
     "output_type": "display_data"
    },
    {
     "data": {
      "text/html": [
       "\n",
       "            <div style=\"float: left; border: 1px solid black; width:500px\">\n",
       "              <div id=\"ffc7eecd-26b6-4c26-a0a6-4c8676c4b6b5\" style=\"background-color:blue; width:0%\">&nbsp;</div>\n",
       "            </div>\n",
       "            <label id=\"127c965f-c75e-4709-a6e5-76806d4edc52\" style=\"padding-left: 10px;\" text = \"\"/>\n",
       "            "
      ],
      "text/plain": [
       "<IPython.core.display.HTML object>"
      ]
     },
     "metadata": {},
     "output_type": "display_data"
    },
    {
     "data": {
      "text/html": [
       "\n",
       "            <div style=\"float: left; border: 1px solid black; width:500px\">\n",
       "              <div id=\"0bd8e3e0-3a17-41dd-be41-761f47a22b6c\" style=\"background-color:blue; width:0%\">&nbsp;</div>\n",
       "            </div>\n",
       "            <label id=\"a5839cee-3275-40ad-b798-be829452fa5e\" style=\"padding-left: 10px;\" text = \"\"/>\n",
       "            "
      ],
      "text/plain": [
       "<IPython.core.display.HTML object>"
      ]
     },
     "metadata": {},
     "output_type": "display_data"
    },
    {
     "data": {
      "text/html": [
       "\n",
       "            <div style=\"float: left; border: 1px solid black; width:500px\">\n",
       "              <div id=\"56e766e8-b3ab-4bf0-a5f8-66e42a6b7786\" style=\"background-color:blue; width:0%\">&nbsp;</div>\n",
       "            </div>\n",
       "            <label id=\"052b3ea8-c81e-47be-b00d-2050fc6e5a72\" style=\"padding-left: 10px;\" text = \"\"/>\n",
       "            "
      ],
      "text/plain": [
       "<IPython.core.display.HTML object>"
      ]
     },
     "metadata": {},
     "output_type": "display_data"
    },
    {
     "name": "stdout",
     "output_type": "stream",
     "text": [
      "Chargers\n"
     ]
    },
    {
     "data": {
      "text/html": [
       "\n",
       "            <div style=\"float: left; border: 1px solid black; width:500px\">\n",
       "              <div id=\"ba5152f3-5a93-4d37-a295-45025cb5bf7a\" style=\"background-color:blue; width:0%\">&nbsp;</div>\n",
       "            </div>\n",
       "            <label id=\"c80b30a0-3ef2-42ce-985e-1d7f422f5d02\" style=\"padding-left: 10px;\" text = \"\"/>\n",
       "            "
      ],
      "text/plain": [
       "<IPython.core.display.HTML object>"
      ]
     },
     "metadata": {},
     "output_type": "display_data"
    },
    {
     "data": {
      "text/html": [
       "\n",
       "            <div style=\"float: left; border: 1px solid black; width:500px\">\n",
       "              <div id=\"fbf0b674-c378-472f-a68d-6af77e8992f1\" style=\"background-color:blue; width:0%\">&nbsp;</div>\n",
       "            </div>\n",
       "            <label id=\"aee35b50-dd27-47c8-ad0c-9e15fded619e\" style=\"padding-left: 10px;\" text = \"\"/>\n",
       "            "
      ],
      "text/plain": [
       "<IPython.core.display.HTML object>"
      ]
     },
     "metadata": {},
     "output_type": "display_data"
    },
    {
     "data": {
      "text/html": [
       "\n",
       "            <div style=\"float: left; border: 1px solid black; width:500px\">\n",
       "              <div id=\"51c6d0ba-6b52-4ff5-975d-2a96efb3b027\" style=\"background-color:blue; width:0%\">&nbsp;</div>\n",
       "            </div>\n",
       "            <label id=\"6c10b726-4464-43db-bf44-f0be7b293849\" style=\"padding-left: 10px;\" text = \"\"/>\n",
       "            "
      ],
      "text/plain": [
       "<IPython.core.display.HTML object>"
      ]
     },
     "metadata": {},
     "output_type": "display_data"
    },
    {
     "data": {
      "text/html": [
       "\n",
       "            <div style=\"float: left; border: 1px solid black; width:500px\">\n",
       "              <div id=\"01eda749-a28f-4461-a3d7-63386ced4986\" style=\"background-color:blue; width:0%\">&nbsp;</div>\n",
       "            </div>\n",
       "            <label id=\"80ccce62-db14-4466-a9db-1b01ff98d496\" style=\"padding-left: 10px;\" text = \"\"/>\n",
       "            "
      ],
      "text/plain": [
       "<IPython.core.display.HTML object>"
      ]
     },
     "metadata": {},
     "output_type": "display_data"
    },
    {
     "name": "stdout",
     "output_type": "stream",
     "text": [
      "Vikings\n"
     ]
    },
    {
     "data": {
      "text/html": [
       "\n",
       "            <div style=\"float: left; border: 1px solid black; width:500px\">\n",
       "              <div id=\"5f61f4ea-9c8f-4466-beaa-cac955789f6f\" style=\"background-color:blue; width:0%\">&nbsp;</div>\n",
       "            </div>\n",
       "            <label id=\"9e209dc7-039c-4f79-a008-1d0a8aa4cb97\" style=\"padding-left: 10px;\" text = \"\"/>\n",
       "            "
      ],
      "text/plain": [
       "<IPython.core.display.HTML object>"
      ]
     },
     "metadata": {},
     "output_type": "display_data"
    },
    {
     "data": {
      "text/html": [
       "\n",
       "            <div style=\"float: left; border: 1px solid black; width:500px\">\n",
       "              <div id=\"5b7ee726-0f24-479a-8a7d-8b322ccdc4b9\" style=\"background-color:blue; width:0%\">&nbsp;</div>\n",
       "            </div>\n",
       "            <label id=\"706b6ae0-4058-4f63-8f57-6ef769923b24\" style=\"padding-left: 10px;\" text = \"\"/>\n",
       "            "
      ],
      "text/plain": [
       "<IPython.core.display.HTML object>"
      ]
     },
     "metadata": {},
     "output_type": "display_data"
    },
    {
     "data": {
      "text/html": [
       "\n",
       "            <div style=\"float: left; border: 1px solid black; width:500px\">\n",
       "              <div id=\"4a6628bc-e7f6-4c79-ba9c-90cdc9d7f417\" style=\"background-color:blue; width:0%\">&nbsp;</div>\n",
       "            </div>\n",
       "            <label id=\"0d152784-3b85-49ce-9f5c-a988d3d5cb90\" style=\"padding-left: 10px;\" text = \"\"/>\n",
       "            "
      ],
      "text/plain": [
       "<IPython.core.display.HTML object>"
      ]
     },
     "metadata": {},
     "output_type": "display_data"
    },
    {
     "data": {
      "text/html": [
       "\n",
       "            <div style=\"float: left; border: 1px solid black; width:500px\">\n",
       "              <div id=\"aca9cab1-9437-400e-bad0-3c109424e23e\" style=\"background-color:blue; width:0%\">&nbsp;</div>\n",
       "            </div>\n",
       "            <label id=\"7b862772-3733-4b2a-a27d-1f2091a91826\" style=\"padding-left: 10px;\" text = \"\"/>\n",
       "            "
      ],
      "text/plain": [
       "<IPython.core.display.HTML object>"
      ]
     },
     "metadata": {},
     "output_type": "display_data"
    },
    {
     "name": "stdout",
     "output_type": "stream",
     "text": [
      "Bengals\n"
     ]
    },
    {
     "data": {
      "text/html": [
       "\n",
       "            <div style=\"float: left; border: 1px solid black; width:500px\">\n",
       "              <div id=\"742ca8d5-5662-46d9-a7a5-fa24dffdef16\" style=\"background-color:blue; width:0%\">&nbsp;</div>\n",
       "            </div>\n",
       "            <label id=\"d2beba90-f065-49fa-b76b-d8d268bd074d\" style=\"padding-left: 10px;\" text = \"\"/>\n",
       "            "
      ],
      "text/plain": [
       "<IPython.core.display.HTML object>"
      ]
     },
     "metadata": {},
     "output_type": "display_data"
    },
    {
     "data": {
      "text/html": [
       "\n",
       "            <div style=\"float: left; border: 1px solid black; width:500px\">\n",
       "              <div id=\"1cb03c82-4c8f-49d2-b617-994c1f93f144\" style=\"background-color:blue; width:0%\">&nbsp;</div>\n",
       "            </div>\n",
       "            <label id=\"e093b522-c5d6-4537-b391-e5aacbbfab54\" style=\"padding-left: 10px;\" text = \"\"/>\n",
       "            "
      ],
      "text/plain": [
       "<IPython.core.display.HTML object>"
      ]
     },
     "metadata": {},
     "output_type": "display_data"
    },
    {
     "data": {
      "text/html": [
       "\n",
       "            <div style=\"float: left; border: 1px solid black; width:500px\">\n",
       "              <div id=\"58ad3b2e-8864-4903-8364-4bfe27919df6\" style=\"background-color:blue; width:0%\">&nbsp;</div>\n",
       "            </div>\n",
       "            <label id=\"8294e006-369b-482c-b371-942062624b50\" style=\"padding-left: 10px;\" text = \"\"/>\n",
       "            "
      ],
      "text/plain": [
       "<IPython.core.display.HTML object>"
      ]
     },
     "metadata": {},
     "output_type": "display_data"
    },
    {
     "data": {
      "text/html": [
       "\n",
       "            <div style=\"float: left; border: 1px solid black; width:500px\">\n",
       "              <div id=\"5a07611b-221f-4bc4-810c-ba58d9d5c10a\" style=\"background-color:blue; width:0%\">&nbsp;</div>\n",
       "            </div>\n",
       "            <label id=\"5c050023-77e6-4d6d-841f-f8d148ca1e56\" style=\"padding-left: 10px;\" text = \"\"/>\n",
       "            "
      ],
      "text/plain": [
       "<IPython.core.display.HTML object>"
      ]
     },
     "metadata": {},
     "output_type": "display_data"
    },
    {
     "name": "stdout",
     "output_type": "stream",
     "text": [
      "Titans\n"
     ]
    },
    {
     "data": {
      "text/html": [
       "\n",
       "            <div style=\"float: left; border: 1px solid black; width:500px\">\n",
       "              <div id=\"8393ef9a-bc7a-4f90-bc69-51ca6d455a36\" style=\"background-color:blue; width:0%\">&nbsp;</div>\n",
       "            </div>\n",
       "            <label id=\"bfae3b10-36c2-4c2b-888c-435a7dbc293e\" style=\"padding-left: 10px;\" text = \"\"/>\n",
       "            "
      ],
      "text/plain": [
       "<IPython.core.display.HTML object>"
      ]
     },
     "metadata": {},
     "output_type": "display_data"
    },
    {
     "data": {
      "text/html": [
       "\n",
       "            <div style=\"float: left; border: 1px solid black; width:500px\">\n",
       "              <div id=\"fdea20b9-3392-4a43-af15-e2dc5eae0b4b\" style=\"background-color:blue; width:0%\">&nbsp;</div>\n",
       "            </div>\n",
       "            <label id=\"2fe06e89-643e-4589-9754-5b6e41de4f6c\" style=\"padding-left: 10px;\" text = \"\"/>\n",
       "            "
      ],
      "text/plain": [
       "<IPython.core.display.HTML object>"
      ]
     },
     "metadata": {},
     "output_type": "display_data"
    },
    {
     "data": {
      "text/html": [
       "\n",
       "            <div style=\"float: left; border: 1px solid black; width:500px\">\n",
       "              <div id=\"36e0cd07-c95c-4afb-a2a3-ed1ca11e5bf1\" style=\"background-color:blue; width:0%\">&nbsp;</div>\n",
       "            </div>\n",
       "            <label id=\"1864e1eb-5c95-4d6e-b5e0-517728bb281f\" style=\"padding-left: 10px;\" text = \"\"/>\n",
       "            "
      ],
      "text/plain": [
       "<IPython.core.display.HTML object>"
      ]
     },
     "metadata": {},
     "output_type": "display_data"
    },
    {
     "data": {
      "text/html": [
       "\n",
       "            <div style=\"float: left; border: 1px solid black; width:500px\">\n",
       "              <div id=\"a9e7bf91-1499-4b85-b4b0-0ec78838b2ee\" style=\"background-color:blue; width:0%\">&nbsp;</div>\n",
       "            </div>\n",
       "            <label id=\"312e473b-4864-4387-9175-c58cb478e4ce\" style=\"padding-left: 10px;\" text = \"\"/>\n",
       "            "
      ],
      "text/plain": [
       "<IPython.core.display.HTML object>"
      ]
     },
     "metadata": {},
     "output_type": "display_data"
    },
    {
     "name": "stdout",
     "output_type": "stream",
     "text": [
      "Falcons\n"
     ]
    },
    {
     "data": {
      "text/html": [
       "\n",
       "            <div style=\"float: left; border: 1px solid black; width:500px\">\n",
       "              <div id=\"1205d043-f85c-4ed9-826f-6013b77c547f\" style=\"background-color:blue; width:0%\">&nbsp;</div>\n",
       "            </div>\n",
       "            <label id=\"37e52031-9066-4902-ab56-5410c3367e0d\" style=\"padding-left: 10px;\" text = \"\"/>\n",
       "            "
      ],
      "text/plain": [
       "<IPython.core.display.HTML object>"
      ]
     },
     "metadata": {},
     "output_type": "display_data"
    },
    {
     "data": {
      "text/html": [
       "\n",
       "            <div style=\"float: left; border: 1px solid black; width:500px\">\n",
       "              <div id=\"92448234-5f4a-4d5f-9179-b09ab6ea2983\" style=\"background-color:blue; width:0%\">&nbsp;</div>\n",
       "            </div>\n",
       "            <label id=\"750eb400-44a4-44c9-ac67-73ea4288a870\" style=\"padding-left: 10px;\" text = \"\"/>\n",
       "            "
      ],
      "text/plain": [
       "<IPython.core.display.HTML object>"
      ]
     },
     "metadata": {},
     "output_type": "display_data"
    },
    {
     "data": {
      "text/html": [
       "\n",
       "            <div style=\"float: left; border: 1px solid black; width:500px\">\n",
       "              <div id=\"6618e302-d88c-4c5b-934e-d54a6e6a0782\" style=\"background-color:blue; width:0%\">&nbsp;</div>\n",
       "            </div>\n",
       "            <label id=\"97e4b84d-82bb-489c-b655-0045d69bae7f\" style=\"padding-left: 10px;\" text = \"\"/>\n",
       "            "
      ],
      "text/plain": [
       "<IPython.core.display.HTML object>"
      ]
     },
     "metadata": {},
     "output_type": "display_data"
    },
    {
     "data": {
      "text/html": [
       "\n",
       "            <div style=\"float: left; border: 1px solid black; width:500px\">\n",
       "              <div id=\"7460780f-71be-4743-bd90-e9b0a947b30f\" style=\"background-color:blue; width:0%\">&nbsp;</div>\n",
       "            </div>\n",
       "            <label id=\"b4739356-b3ab-4358-9da8-5380ab9e025e\" style=\"padding-left: 10px;\" text = \"\"/>\n",
       "            "
      ],
      "text/plain": [
       "<IPython.core.display.HTML object>"
      ]
     },
     "metadata": {},
     "output_type": "display_data"
    },
    {
     "name": "stdout",
     "output_type": "stream",
     "text": [
      "Patriots\n"
     ]
    },
    {
     "data": {
      "text/html": [
       "\n",
       "            <div style=\"float: left; border: 1px solid black; width:500px\">\n",
       "              <div id=\"69194b00-fd97-47cd-b957-8dea6748a987\" style=\"background-color:blue; width:0%\">&nbsp;</div>\n",
       "            </div>\n",
       "            <label id=\"32304241-a0d0-4822-b23c-112c9b58b41f\" style=\"padding-left: 10px;\" text = \"\"/>\n",
       "            "
      ],
      "text/plain": [
       "<IPython.core.display.HTML object>"
      ]
     },
     "metadata": {},
     "output_type": "display_data"
    },
    {
     "data": {
      "text/html": [
       "\n",
       "            <div style=\"float: left; border: 1px solid black; width:500px\">\n",
       "              <div id=\"1e4ad199-5f28-47b2-bc04-cb3ae2a01bff\" style=\"background-color:blue; width:0%\">&nbsp;</div>\n",
       "            </div>\n",
       "            <label id=\"b2c714b3-ee54-4d74-bef1-2b20fb24b05d\" style=\"padding-left: 10px;\" text = \"\"/>\n",
       "            "
      ],
      "text/plain": [
       "<IPython.core.display.HTML object>"
      ]
     },
     "metadata": {},
     "output_type": "display_data"
    },
    {
     "data": {
      "text/html": [
       "\n",
       "            <div style=\"float: left; border: 1px solid black; width:500px\">\n",
       "              <div id=\"1966e8b7-6aa6-441e-a946-553d1154ba34\" style=\"background-color:blue; width:0%\">&nbsp;</div>\n",
       "            </div>\n",
       "            <label id=\"c4bc205c-b897-45c8-b34e-9c973fbb90b7\" style=\"padding-left: 10px;\" text = \"\"/>\n",
       "            "
      ],
      "text/plain": [
       "<IPython.core.display.HTML object>"
      ]
     },
     "metadata": {},
     "output_type": "display_data"
    },
    {
     "data": {
      "text/html": [
       "\n",
       "            <div style=\"float: left; border: 1px solid black; width:500px\">\n",
       "              <div id=\"a7314efc-22a0-45fe-aa9e-129f475f20f1\" style=\"background-color:blue; width:0%\">&nbsp;</div>\n",
       "            </div>\n",
       "            <label id=\"8a044b9f-25a7-4ff8-b84b-71a8e9a8d0ac\" style=\"padding-left: 10px;\" text = \"\"/>\n",
       "            "
      ],
      "text/plain": [
       "<IPython.core.display.HTML object>"
      ]
     },
     "metadata": {},
     "output_type": "display_data"
    },
    {
     "name": "stdout",
     "output_type": "stream",
     "text": [
      "Packers\n"
     ]
    },
    {
     "data": {
      "text/html": [
       "\n",
       "            <div style=\"float: left; border: 1px solid black; width:500px\">\n",
       "              <div id=\"77e1b2d3-d5ce-4d2f-9d37-ffe906fc5e32\" style=\"background-color:blue; width:0%\">&nbsp;</div>\n",
       "            </div>\n",
       "            <label id=\"f1a08681-63c2-4d44-a1de-aab3b5b59a89\" style=\"padding-left: 10px;\" text = \"\"/>\n",
       "            "
      ],
      "text/plain": [
       "<IPython.core.display.HTML object>"
      ]
     },
     "metadata": {},
     "output_type": "display_data"
    },
    {
     "data": {
      "text/html": [
       "\n",
       "            <div style=\"float: left; border: 1px solid black; width:500px\">\n",
       "              <div id=\"6a20d978-59c1-4557-bfaa-fd6bac618a0c\" style=\"background-color:blue; width:0%\">&nbsp;</div>\n",
       "            </div>\n",
       "            <label id=\"bbd300d5-528f-4149-8b07-be8607c9243f\" style=\"padding-left: 10px;\" text = \"\"/>\n",
       "            "
      ],
      "text/plain": [
       "<IPython.core.display.HTML object>"
      ]
     },
     "metadata": {},
     "output_type": "display_data"
    },
    {
     "data": {
      "text/html": [
       "\n",
       "            <div style=\"float: left; border: 1px solid black; width:500px\">\n",
       "              <div id=\"83d8b76d-41e9-4f32-98e1-dbd7e21756de\" style=\"background-color:blue; width:0%\">&nbsp;</div>\n",
       "            </div>\n",
       "            <label id=\"289f9236-c766-4baf-922e-c4c0fe8a7f7c\" style=\"padding-left: 10px;\" text = \"\"/>\n",
       "            "
      ],
      "text/plain": [
       "<IPython.core.display.HTML object>"
      ]
     },
     "metadata": {},
     "output_type": "display_data"
    },
    {
     "data": {
      "text/html": [
       "\n",
       "            <div style=\"float: left; border: 1px solid black; width:500px\">\n",
       "              <div id=\"4f88d4ae-9614-47e2-b350-c2c634ea4f8e\" style=\"background-color:blue; width:0%\">&nbsp;</div>\n",
       "            </div>\n",
       "            <label id=\"52a4df6e-562f-4f31-bbb1-d679dea94f24\" style=\"padding-left: 10px;\" text = \"\"/>\n",
       "            "
      ],
      "text/plain": [
       "<IPython.core.display.HTML object>"
      ]
     },
     "metadata": {},
     "output_type": "display_data"
    },
    {
     "name": "stdout",
     "output_type": "stream",
     "text": [
      "Giants\n"
     ]
    },
    {
     "data": {
      "text/html": [
       "\n",
       "            <div style=\"float: left; border: 1px solid black; width:500px\">\n",
       "              <div id=\"3a02e981-fbdb-4da1-994a-794fe04114d6\" style=\"background-color:blue; width:0%\">&nbsp;</div>\n",
       "            </div>\n",
       "            <label id=\"ee62c3f9-5987-4ab8-b466-f11fc72a9a3d\" style=\"padding-left: 10px;\" text = \"\"/>\n",
       "            "
      ],
      "text/plain": [
       "<IPython.core.display.HTML object>"
      ]
     },
     "metadata": {},
     "output_type": "display_data"
    },
    {
     "data": {
      "text/html": [
       "\n",
       "            <div style=\"float: left; border: 1px solid black; width:500px\">\n",
       "              <div id=\"c57ff0fd-99cd-4966-8744-f97ae0e15bcb\" style=\"background-color:blue; width:0%\">&nbsp;</div>\n",
       "            </div>\n",
       "            <label id=\"b0f36d80-a9eb-42f7-9045-3a5958461dd3\" style=\"padding-left: 10px;\" text = \"\"/>\n",
       "            "
      ],
      "text/plain": [
       "<IPython.core.display.HTML object>"
      ]
     },
     "metadata": {},
     "output_type": "display_data"
    },
    {
     "data": {
      "text/html": [
       "\n",
       "            <div style=\"float: left; border: 1px solid black; width:500px\">\n",
       "              <div id=\"343e4e27-2e20-4cc7-af10-83c610514d93\" style=\"background-color:blue; width:0%\">&nbsp;</div>\n",
       "            </div>\n",
       "            <label id=\"625d26d6-0f4c-4e85-8ea8-5212ad57d8af\" style=\"padding-left: 10px;\" text = \"\"/>\n",
       "            "
      ],
      "text/plain": [
       "<IPython.core.display.HTML object>"
      ]
     },
     "metadata": {},
     "output_type": "display_data"
    },
    {
     "data": {
      "text/html": [
       "\n",
       "            <div style=\"float: left; border: 1px solid black; width:500px\">\n",
       "              <div id=\"026921cd-f52b-48aa-ae76-9d47337b591a\" style=\"background-color:blue; width:0%\">&nbsp;</div>\n",
       "            </div>\n",
       "            <label id=\"21de46e8-2831-4ff1-b37f-4f61bb65a97b\" style=\"padding-left: 10px;\" text = \"\"/>\n",
       "            "
      ],
      "text/plain": [
       "<IPython.core.display.HTML object>"
      ]
     },
     "metadata": {},
     "output_type": "display_data"
    },
    {
     "name": "stdout",
     "output_type": "stream",
     "text": [
      "Panthers\n"
     ]
    },
    {
     "data": {
      "text/html": [
       "\n",
       "            <div style=\"float: left; border: 1px solid black; width:500px\">\n",
       "              <div id=\"2a9182e1-4a58-4d03-8c85-83babfda9341\" style=\"background-color:blue; width:0%\">&nbsp;</div>\n",
       "            </div>\n",
       "            <label id=\"e77cdb41-6503-4eff-a2d9-4d884727061d\" style=\"padding-left: 10px;\" text = \"\"/>\n",
       "            "
      ],
      "text/plain": [
       "<IPython.core.display.HTML object>"
      ]
     },
     "metadata": {},
     "output_type": "display_data"
    },
    {
     "data": {
      "text/html": [
       "\n",
       "            <div style=\"float: left; border: 1px solid black; width:500px\">\n",
       "              <div id=\"f663677d-25c9-496b-9696-28a62d0728a2\" style=\"background-color:blue; width:0%\">&nbsp;</div>\n",
       "            </div>\n",
       "            <label id=\"90b57fa6-6148-4075-acbb-ace7b29e27be\" style=\"padding-left: 10px;\" text = \"\"/>\n",
       "            "
      ],
      "text/plain": [
       "<IPython.core.display.HTML object>"
      ]
     },
     "metadata": {},
     "output_type": "display_data"
    },
    {
     "data": {
      "text/html": [
       "\n",
       "            <div style=\"float: left; border: 1px solid black; width:500px\">\n",
       "              <div id=\"ccef3444-dcbd-442b-ba90-85eee8386008\" style=\"background-color:blue; width:0%\">&nbsp;</div>\n",
       "            </div>\n",
       "            <label id=\"d4316335-28ab-4f15-bb52-5965d5ef569a\" style=\"padding-left: 10px;\" text = \"\"/>\n",
       "            "
      ],
      "text/plain": [
       "<IPython.core.display.HTML object>"
      ]
     },
     "metadata": {},
     "output_type": "display_data"
    },
    {
     "data": {
      "text/html": [
       "\n",
       "            <div style=\"float: left; border: 1px solid black; width:500px\">\n",
       "              <div id=\"08408e1d-0fc1-4c6c-969f-403b60b92de9\" style=\"background-color:blue; width:0%\">&nbsp;</div>\n",
       "            </div>\n",
       "            <label id=\"a30a0675-e535-4e16-9a3c-221b49ff342a\" style=\"padding-left: 10px;\" text = \"\"/>\n",
       "            "
      ],
      "text/plain": [
       "<IPython.core.display.HTML object>"
      ]
     },
     "metadata": {},
     "output_type": "display_data"
    },
    {
     "name": "stdout",
     "output_type": "stream",
     "text": [
      "Browns\n"
     ]
    },
    {
     "data": {
      "text/html": [
       "\n",
       "            <div style=\"float: left; border: 1px solid black; width:500px\">\n",
       "              <div id=\"1a80cfc2-ade3-42a2-9871-e046e419f644\" style=\"background-color:blue; width:0%\">&nbsp;</div>\n",
       "            </div>\n",
       "            <label id=\"298f3cb2-ff9f-4293-a6e9-10a8c735c369\" style=\"padding-left: 10px;\" text = \"\"/>\n",
       "            "
      ],
      "text/plain": [
       "<IPython.core.display.HTML object>"
      ]
     },
     "metadata": {},
     "output_type": "display_data"
    },
    {
     "data": {
      "text/html": [
       "\n",
       "            <div style=\"float: left; border: 1px solid black; width:500px\">\n",
       "              <div id=\"14212d80-94d6-4760-9c4e-3ec36192cd31\" style=\"background-color:blue; width:0%\">&nbsp;</div>\n",
       "            </div>\n",
       "            <label id=\"ff838c6f-8eec-48b7-b56e-dfae061b73aa\" style=\"padding-left: 10px;\" text = \"\"/>\n",
       "            "
      ],
      "text/plain": [
       "<IPython.core.display.HTML object>"
      ]
     },
     "metadata": {},
     "output_type": "display_data"
    },
    {
     "data": {
      "text/html": [
       "\n",
       "            <div style=\"float: left; border: 1px solid black; width:500px\">\n",
       "              <div id=\"004dfe6f-beb1-4109-b5a6-e3c98dd5f860\" style=\"background-color:blue; width:0%\">&nbsp;</div>\n",
       "            </div>\n",
       "            <label id=\"723d85a7-ae90-48fa-9f4c-f59c47dd7d99\" style=\"padding-left: 10px;\" text = \"\"/>\n",
       "            "
      ],
      "text/plain": [
       "<IPython.core.display.HTML object>"
      ]
     },
     "metadata": {},
     "output_type": "display_data"
    },
    {
     "data": {
      "text/html": [
       "\n",
       "            <div style=\"float: left; border: 1px solid black; width:500px\">\n",
       "              <div id=\"7021f185-de26-4fd2-a2d1-ea8a9f548333\" style=\"background-color:blue; width:0%\">&nbsp;</div>\n",
       "            </div>\n",
       "            <label id=\"94675a67-3c08-45d1-b1d7-47aa13b4198f\" style=\"padding-left: 10px;\" text = \"\"/>\n",
       "            "
      ],
      "text/plain": [
       "<IPython.core.display.HTML object>"
      ]
     },
     "metadata": {},
     "output_type": "display_data"
    },
    {
     "name": "stdout",
     "output_type": "stream",
     "text": [
      "49ers\n"
     ]
    },
    {
     "data": {
      "text/html": [
       "\n",
       "            <div style=\"float: left; border: 1px solid black; width:500px\">\n",
       "              <div id=\"920140ef-0d87-48f0-a456-bc6012beb9da\" style=\"background-color:blue; width:0%\">&nbsp;</div>\n",
       "            </div>\n",
       "            <label id=\"6df3727f-c14d-4916-856a-9797c2b7d0cb\" style=\"padding-left: 10px;\" text = \"\"/>\n",
       "            "
      ],
      "text/plain": [
       "<IPython.core.display.HTML object>"
      ]
     },
     "metadata": {},
     "output_type": "display_data"
    },
    {
     "data": {
      "text/html": [
       "\n",
       "            <div style=\"float: left; border: 1px solid black; width:500px\">\n",
       "              <div id=\"de7af5c3-72eb-4a8c-a97a-a0597440f1be\" style=\"background-color:blue; width:0%\">&nbsp;</div>\n",
       "            </div>\n",
       "            <label id=\"80088887-e24f-47e7-ab07-6488cc51d384\" style=\"padding-left: 10px;\" text = \"\"/>\n",
       "            "
      ],
      "text/plain": [
       "<IPython.core.display.HTML object>"
      ]
     },
     "metadata": {},
     "output_type": "display_data"
    },
    {
     "data": {
      "text/html": [
       "\n",
       "            <div style=\"float: left; border: 1px solid black; width:500px\">\n",
       "              <div id=\"0465b1f5-d452-4de2-9ce8-97f3c920e761\" style=\"background-color:blue; width:0%\">&nbsp;</div>\n",
       "            </div>\n",
       "            <label id=\"86f1dd71-3ea5-49d9-b573-5841d563a66d\" style=\"padding-left: 10px;\" text = \"\"/>\n",
       "            "
      ],
      "text/plain": [
       "<IPython.core.display.HTML object>"
      ]
     },
     "metadata": {},
     "output_type": "display_data"
    },
    {
     "data": {
      "text/html": [
       "\n",
       "            <div style=\"float: left; border: 1px solid black; width:500px\">\n",
       "              <div id=\"15d2a99c-c633-4b33-b600-1281435cbb3e\" style=\"background-color:blue; width:0%\">&nbsp;</div>\n",
       "            </div>\n",
       "            <label id=\"57dd9fc9-ceef-4610-9e12-748a5cefc65d\" style=\"padding-left: 10px;\" text = \"\"/>\n",
       "            "
      ],
      "text/plain": [
       "<IPython.core.display.HTML object>"
      ]
     },
     "metadata": {},
     "output_type": "display_data"
    },
    {
     "name": "stdout",
     "output_type": "stream",
     "text": [
      "Cardinals\n"
     ]
    },
    {
     "data": {
      "text/html": [
       "\n",
       "            <div style=\"float: left; border: 1px solid black; width:500px\">\n",
       "              <div id=\"e48904ec-f66e-4338-9ee7-776d9dfe0576\" style=\"background-color:blue; width:0%\">&nbsp;</div>\n",
       "            </div>\n",
       "            <label id=\"c06842b9-5486-4217-99f1-49a9d770ecbe\" style=\"padding-left: 10px;\" text = \"\"/>\n",
       "            "
      ],
      "text/plain": [
       "<IPython.core.display.HTML object>"
      ]
     },
     "metadata": {},
     "output_type": "display_data"
    },
    {
     "data": {
      "text/html": [
       "\n",
       "            <div style=\"float: left; border: 1px solid black; width:500px\">\n",
       "              <div id=\"024afe8f-5299-4c46-9cb5-316634491c93\" style=\"background-color:blue; width:0%\">&nbsp;</div>\n",
       "            </div>\n",
       "            <label id=\"659ec646-1cc6-405d-9a16-f1f2a3410e53\" style=\"padding-left: 10px;\" text = \"\"/>\n",
       "            "
      ],
      "text/plain": [
       "<IPython.core.display.HTML object>"
      ]
     },
     "metadata": {},
     "output_type": "display_data"
    },
    {
     "data": {
      "text/html": [
       "\n",
       "            <div style=\"float: left; border: 1px solid black; width:500px\">\n",
       "              <div id=\"b22d7303-5f6c-4afb-bf51-1ab8151c15eb\" style=\"background-color:blue; width:0%\">&nbsp;</div>\n",
       "            </div>\n",
       "            <label id=\"47d4af60-d2ea-42c0-9954-93a0fd3f9ebc\" style=\"padding-left: 10px;\" text = \"\"/>\n",
       "            "
      ],
      "text/plain": [
       "<IPython.core.display.HTML object>"
      ]
     },
     "metadata": {},
     "output_type": "display_data"
    },
    {
     "data": {
      "text/html": [
       "\n",
       "            <div style=\"float: left; border: 1px solid black; width:500px\">\n",
       "              <div id=\"637a4c2c-ad57-40d2-8831-4e9f6caa3414\" style=\"background-color:blue; width:0%\">&nbsp;</div>\n",
       "            </div>\n",
       "            <label id=\"4c8d360d-d596-47ba-9d5f-ddfc43c1dba1\" style=\"padding-left: 10px;\" text = \"\"/>\n",
       "            "
      ],
      "text/plain": [
       "<IPython.core.display.HTML object>"
      ]
     },
     "metadata": {},
     "output_type": "display_data"
    },
    {
     "name": "stdout",
     "output_type": "stream",
     "text": [
      "Dolphins\n"
     ]
    },
    {
     "data": {
      "text/html": [
       "\n",
       "            <div style=\"float: left; border: 1px solid black; width:500px\">\n",
       "              <div id=\"ffd0a3d8-01c4-4dd4-9a23-18dd26a776f6\" style=\"background-color:blue; width:0%\">&nbsp;</div>\n",
       "            </div>\n",
       "            <label id=\"5dcbeb8f-0642-46ef-91ba-9cc4da3f4aec\" style=\"padding-left: 10px;\" text = \"\"/>\n",
       "            "
      ],
      "text/plain": [
       "<IPython.core.display.HTML object>"
      ]
     },
     "metadata": {},
     "output_type": "display_data"
    },
    {
     "data": {
      "text/html": [
       "\n",
       "            <div style=\"float: left; border: 1px solid black; width:500px\">\n",
       "              <div id=\"38b4c20f-0231-4e4f-90ed-93a517c5940d\" style=\"background-color:blue; width:0%\">&nbsp;</div>\n",
       "            </div>\n",
       "            <label id=\"b4dcc220-c596-4a35-abbf-b3228d3ed659\" style=\"padding-left: 10px;\" text = \"\"/>\n",
       "            "
      ],
      "text/plain": [
       "<IPython.core.display.HTML object>"
      ]
     },
     "metadata": {},
     "output_type": "display_data"
    },
    {
     "data": {
      "text/html": [
       "\n",
       "            <div style=\"float: left; border: 1px solid black; width:500px\">\n",
       "              <div id=\"b8a28665-4107-4855-bfcc-06908d5f1f1e\" style=\"background-color:blue; width:0%\">&nbsp;</div>\n",
       "            </div>\n",
       "            <label id=\"5add5a44-bb92-41f2-9a26-aa8cec0b49f7\" style=\"padding-left: 10px;\" text = \"\"/>\n",
       "            "
      ],
      "text/plain": [
       "<IPython.core.display.HTML object>"
      ]
     },
     "metadata": {},
     "output_type": "display_data"
    },
    {
     "data": {
      "text/html": [
       "\n",
       "            <div style=\"float: left; border: 1px solid black; width:500px\">\n",
       "              <div id=\"43f19f79-bc50-47cd-8eb3-140bfed15e47\" style=\"background-color:blue; width:0%\">&nbsp;</div>\n",
       "            </div>\n",
       "            <label id=\"2e015a24-2fd2-4a04-ae64-6813157edfde\" style=\"padding-left: 10px;\" text = \"\"/>\n",
       "            "
      ],
      "text/plain": [
       "<IPython.core.display.HTML object>"
      ]
     },
     "metadata": {},
     "output_type": "display_data"
    },
    {
     "name": "stdout",
     "output_type": "stream",
     "text": [
      "Jaguars\n"
     ]
    },
    {
     "data": {
      "text/html": [
       "\n",
       "            <div style=\"float: left; border: 1px solid black; width:500px\">\n",
       "              <div id=\"8aa85280-f001-4503-958c-d23497078022\" style=\"background-color:blue; width:0%\">&nbsp;</div>\n",
       "            </div>\n",
       "            <label id=\"f2a0703b-f5a8-4d20-8804-e66b626ae92d\" style=\"padding-left: 10px;\" text = \"\"/>\n",
       "            "
      ],
      "text/plain": [
       "<IPython.core.display.HTML object>"
      ]
     },
     "metadata": {},
     "output_type": "display_data"
    },
    {
     "data": {
      "text/html": [
       "\n",
       "            <div style=\"float: left; border: 1px solid black; width:500px\">\n",
       "              <div id=\"eb0268a3-40fd-457e-8498-8721268d3801\" style=\"background-color:blue; width:0%\">&nbsp;</div>\n",
       "            </div>\n",
       "            <label id=\"ebd20c61-1fc1-46c9-b960-84a59ae99444\" style=\"padding-left: 10px;\" text = \"\"/>\n",
       "            "
      ],
      "text/plain": [
       "<IPython.core.display.HTML object>"
      ]
     },
     "metadata": {},
     "output_type": "display_data"
    },
    {
     "data": {
      "text/html": [
       "\n",
       "            <div style=\"float: left; border: 1px solid black; width:500px\">\n",
       "              <div id=\"b6497b3b-f6ad-438d-9f64-6aac52169ae6\" style=\"background-color:blue; width:0%\">&nbsp;</div>\n",
       "            </div>\n",
       "            <label id=\"85151bdb-775e-4f4b-8bc8-0de4c9b3620c\" style=\"padding-left: 10px;\" text = \"\"/>\n",
       "            "
      ],
      "text/plain": [
       "<IPython.core.display.HTML object>"
      ]
     },
     "metadata": {},
     "output_type": "display_data"
    },
    {
     "data": {
      "text/html": [
       "\n",
       "            <div style=\"float: left; border: 1px solid black; width:500px\">\n",
       "              <div id=\"1ddee1a0-c393-4d86-a6aa-9a482b7c3ee6\" style=\"background-color:blue; width:0%\">&nbsp;</div>\n",
       "            </div>\n",
       "            <label id=\"0b3f5233-a6f6-4052-a6f6-6300203421ff\" style=\"padding-left: 10px;\" text = \"\"/>\n",
       "            "
      ],
      "text/plain": [
       "<IPython.core.display.HTML object>"
      ]
     },
     "metadata": {},
     "output_type": "display_data"
    },
    {
     "name": "stdout",
     "output_type": "stream",
     "text": [
      "Rams\n"
     ]
    },
    {
     "data": {
      "text/html": [
       "\n",
       "            <div style=\"float: left; border: 1px solid black; width:500px\">\n",
       "              <div id=\"784b8547-85f1-47ea-93f1-3f48988ec56e\" style=\"background-color:blue; width:0%\">&nbsp;</div>\n",
       "            </div>\n",
       "            <label id=\"6a1be45c-191a-4cb4-99e7-05ebda512086\" style=\"padding-left: 10px;\" text = \"\"/>\n",
       "            "
      ],
      "text/plain": [
       "<IPython.core.display.HTML object>"
      ]
     },
     "metadata": {},
     "output_type": "display_data"
    },
    {
     "data": {
      "text/html": [
       "\n",
       "            <div style=\"float: left; border: 1px solid black; width:500px\">\n",
       "              <div id=\"f406550f-05a2-4105-a38c-8a8c0f9f17b1\" style=\"background-color:blue; width:0%\">&nbsp;</div>\n",
       "            </div>\n",
       "            <label id=\"d985f8a9-1751-486b-9571-8d1a0779706c\" style=\"padding-left: 10px;\" text = \"\"/>\n",
       "            "
      ],
      "text/plain": [
       "<IPython.core.display.HTML object>"
      ]
     },
     "metadata": {},
     "output_type": "display_data"
    },
    {
     "data": {
      "text/html": [
       "\n",
       "            <div style=\"float: left; border: 1px solid black; width:500px\">\n",
       "              <div id=\"0ca7aa58-121b-48e5-8f92-bd973c5d4335\" style=\"background-color:blue; width:0%\">&nbsp;</div>\n",
       "            </div>\n",
       "            <label id=\"c6654605-e052-494d-acf8-ae090b5d4159\" style=\"padding-left: 10px;\" text = \"\"/>\n",
       "            "
      ],
      "text/plain": [
       "<IPython.core.display.HTML object>"
      ]
     },
     "metadata": {},
     "output_type": "display_data"
    },
    {
     "data": {
      "text/html": [
       "\n",
       "            <div style=\"float: left; border: 1px solid black; width:500px\">\n",
       "              <div id=\"32d263b9-e26e-4a0e-ab70-ea0d18197cd7\" style=\"background-color:blue; width:0%\">&nbsp;</div>\n",
       "            </div>\n",
       "            <label id=\"23935931-51c7-485b-aff8-8b76573bee6c\" style=\"padding-left: 10px;\" text = \"\"/>\n",
       "            "
      ],
      "text/plain": [
       "<IPython.core.display.HTML object>"
      ]
     },
     "metadata": {},
     "output_type": "display_data"
    },
    {
     "name": "stdout",
     "output_type": "stream",
     "text": [
      "Football Team\n"
     ]
    },
    {
     "data": {
      "text/html": [
       "\n",
       "            <div style=\"float: left; border: 1px solid black; width:500px\">\n",
       "              <div id=\"278dcc9a-3e56-4eee-a3fa-58388f596551\" style=\"background-color:blue; width:0%\">&nbsp;</div>\n",
       "            </div>\n",
       "            <label id=\"0c6bafa4-f46b-4d05-a21f-73033f56aa59\" style=\"padding-left: 10px;\" text = \"\"/>\n",
       "            "
      ],
      "text/plain": [
       "<IPython.core.display.HTML object>"
      ]
     },
     "metadata": {},
     "output_type": "display_data"
    },
    {
     "data": {
      "text/html": [
       "\n",
       "            <div style=\"float: left; border: 1px solid black; width:500px\">\n",
       "              <div id=\"e11239a9-82e2-4ef3-9fbd-8804246fc587\" style=\"background-color:blue; width:0%\">&nbsp;</div>\n",
       "            </div>\n",
       "            <label id=\"30ca0c76-78e7-4615-adb3-5204395b165d\" style=\"padding-left: 10px;\" text = \"\"/>\n",
       "            "
      ],
      "text/plain": [
       "<IPython.core.display.HTML object>"
      ]
     },
     "metadata": {},
     "output_type": "display_data"
    },
    {
     "data": {
      "text/html": [
       "\n",
       "            <div style=\"float: left; border: 1px solid black; width:500px\">\n",
       "              <div id=\"872bcae6-3af3-46e7-b759-572fdf0d11a3\" style=\"background-color:blue; width:0%\">&nbsp;</div>\n",
       "            </div>\n",
       "            <label id=\"907bbe87-96b3-4bba-bbdc-3569913d11b1\" style=\"padding-left: 10px;\" text = \"\"/>\n",
       "            "
      ],
      "text/plain": [
       "<IPython.core.display.HTML object>"
      ]
     },
     "metadata": {},
     "output_type": "display_data"
    },
    {
     "data": {
      "text/html": [
       "\n",
       "            <div style=\"float: left; border: 1px solid black; width:500px\">\n",
       "              <div id=\"4c5e7da5-ef05-450f-bd48-f23a65d518b1\" style=\"background-color:blue; width:0%\">&nbsp;</div>\n",
       "            </div>\n",
       "            <label id=\"3f5f513f-a40b-48a7-86c9-23ce6a3f82e4\" style=\"padding-left: 10px;\" text = \"\"/>\n",
       "            "
      ],
      "text/plain": [
       "<IPython.core.display.HTML object>"
      ]
     },
     "metadata": {},
     "output_type": "display_data"
    },
    {
     "name": "stdout",
     "output_type": "stream",
     "text": [
      "Saints\n"
     ]
    },
    {
     "data": {
      "text/html": [
       "\n",
       "            <div style=\"float: left; border: 1px solid black; width:500px\">\n",
       "              <div id=\"a68ff6b1-9d4f-4d79-91ac-cf155ab9bc0c\" style=\"background-color:blue; width:0%\">&nbsp;</div>\n",
       "            </div>\n",
       "            <label id=\"278b1492-a095-4aab-a2e5-96d7a131b0ee\" style=\"padding-left: 10px;\" text = \"\"/>\n",
       "            "
      ],
      "text/plain": [
       "<IPython.core.display.HTML object>"
      ]
     },
     "metadata": {},
     "output_type": "display_data"
    },
    {
     "data": {
      "text/html": [
       "\n",
       "            <div style=\"float: left; border: 1px solid black; width:500px\">\n",
       "              <div id=\"78866ac5-6d0f-41b4-9b8b-f69c20a26aee\" style=\"background-color:blue; width:0%\">&nbsp;</div>\n",
       "            </div>\n",
       "            <label id=\"d9d65a89-81cd-4a4d-9c01-48222955d45a\" style=\"padding-left: 10px;\" text = \"\"/>\n",
       "            "
      ],
      "text/plain": [
       "<IPython.core.display.HTML object>"
      ]
     },
     "metadata": {},
     "output_type": "display_data"
    },
    {
     "data": {
      "text/html": [
       "\n",
       "            <div style=\"float: left; border: 1px solid black; width:500px\">\n",
       "              <div id=\"1d13a3c8-73c4-4e18-b334-481be4162c34\" style=\"background-color:blue; width:0%\">&nbsp;</div>\n",
       "            </div>\n",
       "            <label id=\"271505a2-106e-4ecf-a1ca-81e67378d459\" style=\"padding-left: 10px;\" text = \"\"/>\n",
       "            "
      ],
      "text/plain": [
       "<IPython.core.display.HTML object>"
      ]
     },
     "metadata": {},
     "output_type": "display_data"
    },
    {
     "data": {
      "text/html": [
       "\n",
       "            <div style=\"float: left; border: 1px solid black; width:500px\">\n",
       "              <div id=\"7b407055-4fa9-4315-a73e-e0800a659acc\" style=\"background-color:blue; width:0%\">&nbsp;</div>\n",
       "            </div>\n",
       "            <label id=\"59adf7c2-fbd6-4a1b-ac0b-133251c7c28f\" style=\"padding-left: 10px;\" text = \"\"/>\n",
       "            "
      ],
      "text/plain": [
       "<IPython.core.display.HTML object>"
      ]
     },
     "metadata": {},
     "output_type": "display_data"
    },
    {
     "name": "stdout",
     "output_type": "stream",
     "text": [
      "Ravens\n"
     ]
    },
    {
     "data": {
      "text/html": [
       "\n",
       "            <div style=\"float: left; border: 1px solid black; width:500px\">\n",
       "              <div id=\"b46ae691-038e-4f53-9c17-d06834920a62\" style=\"background-color:blue; width:0%\">&nbsp;</div>\n",
       "            </div>\n",
       "            <label id=\"bfe24bca-f39c-4de0-8c8c-ae8d3922dfa5\" style=\"padding-left: 10px;\" text = \"\"/>\n",
       "            "
      ],
      "text/plain": [
       "<IPython.core.display.HTML object>"
      ]
     },
     "metadata": {},
     "output_type": "display_data"
    },
    {
     "data": {
      "text/html": [
       "\n",
       "            <div style=\"float: left; border: 1px solid black; width:500px\">\n",
       "              <div id=\"db6c4494-9b0e-42cd-bf4c-f1efec4e47b8\" style=\"background-color:blue; width:0%\">&nbsp;</div>\n",
       "            </div>\n",
       "            <label id=\"3d78c20d-e366-4bba-b0e3-6350f8e63414\" style=\"padding-left: 10px;\" text = \"\"/>\n",
       "            "
      ],
      "text/plain": [
       "<IPython.core.display.HTML object>"
      ]
     },
     "metadata": {},
     "output_type": "display_data"
    },
    {
     "data": {
      "text/html": [
       "\n",
       "            <div style=\"float: left; border: 1px solid black; width:500px\">\n",
       "              <div id=\"bd05a768-671b-476a-a0c8-188312317ed4\" style=\"background-color:blue; width:0%\">&nbsp;</div>\n",
       "            </div>\n",
       "            <label id=\"55eec3c5-071d-4a4b-9afc-f5bfd44459aa\" style=\"padding-left: 10px;\" text = \"\"/>\n",
       "            "
      ],
      "text/plain": [
       "<IPython.core.display.HTML object>"
      ]
     },
     "metadata": {},
     "output_type": "display_data"
    },
    {
     "data": {
      "text/html": [
       "\n",
       "            <div style=\"float: left; border: 1px solid black; width:500px\">\n",
       "              <div id=\"3f77c028-508a-40b8-9bb1-c2f162acbeff\" style=\"background-color:blue; width:0%\">&nbsp;</div>\n",
       "            </div>\n",
       "            <label id=\"39729f69-281d-4fef-82a5-38c09424d57d\" style=\"padding-left: 10px;\" text = \"\"/>\n",
       "            "
      ],
      "text/plain": [
       "<IPython.core.display.HTML object>"
      ]
     },
     "metadata": {},
     "output_type": "display_data"
    },
    {
     "name": "stdout",
     "output_type": "stream",
     "text": [
      "Bears\n"
     ]
    },
    {
     "data": {
      "text/html": [
       "\n",
       "            <div style=\"float: left; border: 1px solid black; width:500px\">\n",
       "              <div id=\"ca0ad119-1c45-4cf2-b606-ed4db72bc919\" style=\"background-color:blue; width:0%\">&nbsp;</div>\n",
       "            </div>\n",
       "            <label id=\"d8a0199e-146f-45c4-ba31-d5f68b156bee\" style=\"padding-left: 10px;\" text = \"\"/>\n",
       "            "
      ],
      "text/plain": [
       "<IPython.core.display.HTML object>"
      ]
     },
     "metadata": {},
     "output_type": "display_data"
    },
    {
     "data": {
      "text/html": [
       "\n",
       "            <div style=\"float: left; border: 1px solid black; width:500px\">\n",
       "              <div id=\"597633b5-a7d8-408f-8901-d779c0ef040f\" style=\"background-color:blue; width:0%\">&nbsp;</div>\n",
       "            </div>\n",
       "            <label id=\"2e09ca00-9146-484b-9d60-33582cf77331\" style=\"padding-left: 10px;\" text = \"\"/>\n",
       "            "
      ],
      "text/plain": [
       "<IPython.core.display.HTML object>"
      ]
     },
     "metadata": {},
     "output_type": "display_data"
    },
    {
     "data": {
      "text/html": [
       "\n",
       "            <div style=\"float: left; border: 1px solid black; width:500px\">\n",
       "              <div id=\"75b103f7-a30a-4d87-956f-1ad3b477f04e\" style=\"background-color:blue; width:0%\">&nbsp;</div>\n",
       "            </div>\n",
       "            <label id=\"e875ac7a-6a79-4d34-b474-d095bb2a7c2a\" style=\"padding-left: 10px;\" text = \"\"/>\n",
       "            "
      ],
      "text/plain": [
       "<IPython.core.display.HTML object>"
      ]
     },
     "metadata": {},
     "output_type": "display_data"
    },
    {
     "data": {
      "text/html": [
       "\n",
       "            <div style=\"float: left; border: 1px solid black; width:500px\">\n",
       "              <div id=\"2688312f-a776-4180-9e77-55a5467b02a4\" style=\"background-color:blue; width:0%\">&nbsp;</div>\n",
       "            </div>\n",
       "            <label id=\"c2d1a789-1c67-43ba-b9c0-7a8203538ba8\" style=\"padding-left: 10px;\" text = \"\"/>\n",
       "            "
      ],
      "text/plain": [
       "<IPython.core.display.HTML object>"
      ]
     },
     "metadata": {},
     "output_type": "display_data"
    },
    {
     "name": "stdout",
     "output_type": "stream",
     "text": [
      "Texans\n"
     ]
    },
    {
     "data": {
      "text/html": [
       "\n",
       "            <div style=\"float: left; border: 1px solid black; width:500px\">\n",
       "              <div id=\"412bcb9d-bae8-433e-9c69-79457cd16081\" style=\"background-color:blue; width:0%\">&nbsp;</div>\n",
       "            </div>\n",
       "            <label id=\"03deacf5-8885-4b2e-8aad-b246ec9ce5f9\" style=\"padding-left: 10px;\" text = \"\"/>\n",
       "            "
      ],
      "text/plain": [
       "<IPython.core.display.HTML object>"
      ]
     },
     "metadata": {},
     "output_type": "display_data"
    },
    {
     "data": {
      "text/html": [
       "\n",
       "            <div style=\"float: left; border: 1px solid black; width:500px\">\n",
       "              <div id=\"df146594-0953-4d7d-94f9-d04ff131edec\" style=\"background-color:blue; width:0%\">&nbsp;</div>\n",
       "            </div>\n",
       "            <label id=\"c52b0fc1-7cb7-4e46-aba4-41c68836c2ae\" style=\"padding-left: 10px;\" text = \"\"/>\n",
       "            "
      ],
      "text/plain": [
       "<IPython.core.display.HTML object>"
      ]
     },
     "metadata": {},
     "output_type": "display_data"
    },
    {
     "data": {
      "text/html": [
       "\n",
       "            <div style=\"float: left; border: 1px solid black; width:500px\">\n",
       "              <div id=\"09dc645e-c91a-4d7d-ae4f-1eba47265255\" style=\"background-color:blue; width:0%\">&nbsp;</div>\n",
       "            </div>\n",
       "            <label id=\"d8223f0d-5741-4f3e-a3d5-7d92d6f929a4\" style=\"padding-left: 10px;\" text = \"\"/>\n",
       "            "
      ],
      "text/plain": [
       "<IPython.core.display.HTML object>"
      ]
     },
     "metadata": {},
     "output_type": "display_data"
    },
    {
     "data": {
      "text/html": [
       "\n",
       "            <div style=\"float: left; border: 1px solid black; width:500px\">\n",
       "              <div id=\"8358c473-db4b-484c-9378-e3e8b5f235db\" style=\"background-color:blue; width:0%\">&nbsp;</div>\n",
       "            </div>\n",
       "            <label id=\"7b7cabe8-b010-40a3-8458-33989b2097f1\" style=\"padding-left: 10px;\" text = \"\"/>\n",
       "            "
      ],
      "text/plain": [
       "<IPython.core.display.HTML object>"
      ]
     },
     "metadata": {},
     "output_type": "display_data"
    },
    {
     "name": "stdout",
     "output_type": "stream",
     "text": [
      "Bills\n"
     ]
    },
    {
     "data": {
      "text/html": [
       "\n",
       "            <div style=\"float: left; border: 1px solid black; width:500px\">\n",
       "              <div id=\"ded69433-1e46-461c-8405-8e4f664db06d\" style=\"background-color:blue; width:0%\">&nbsp;</div>\n",
       "            </div>\n",
       "            <label id=\"e2aaaeb3-94c7-4aa0-a05c-a80752bf6e27\" style=\"padding-left: 10px;\" text = \"\"/>\n",
       "            "
      ],
      "text/plain": [
       "<IPython.core.display.HTML object>"
      ]
     },
     "metadata": {},
     "output_type": "display_data"
    },
    {
     "data": {
      "text/html": [
       "\n",
       "            <div style=\"float: left; border: 1px solid black; width:500px\">\n",
       "              <div id=\"2fd81e91-9098-4d7f-a209-a9b16dab0e30\" style=\"background-color:blue; width:0%\">&nbsp;</div>\n",
       "            </div>\n",
       "            <label id=\"767685e3-7137-42c5-873d-7ef8ca37bbe3\" style=\"padding-left: 10px;\" text = \"\"/>\n",
       "            "
      ],
      "text/plain": [
       "<IPython.core.display.HTML object>"
      ]
     },
     "metadata": {},
     "output_type": "display_data"
    },
    {
     "data": {
      "text/html": [
       "\n",
       "            <div style=\"float: left; border: 1px solid black; width:500px\">\n",
       "              <div id=\"754be131-93dd-4217-a758-258d97960f2b\" style=\"background-color:blue; width:0%\">&nbsp;</div>\n",
       "            </div>\n",
       "            <label id=\"41c36b75-354c-413a-aea8-f31bb13de448\" style=\"padding-left: 10px;\" text = \"\"/>\n",
       "            "
      ],
      "text/plain": [
       "<IPython.core.display.HTML object>"
      ]
     },
     "metadata": {},
     "output_type": "display_data"
    },
    {
     "data": {
      "text/html": [
       "\n",
       "            <div style=\"float: left; border: 1px solid black; width:500px\">\n",
       "              <div id=\"abebcf8c-67ee-40fa-91a7-ed094d019055\" style=\"background-color:blue; width:0%\">&nbsp;</div>\n",
       "            </div>\n",
       "            <label id=\"aacf3573-4ed5-4f4b-a62e-b9717fbac010\" style=\"padding-left: 10px;\" text = \"\"/>\n",
       "            "
      ],
      "text/plain": [
       "<IPython.core.display.HTML object>"
      ]
     },
     "metadata": {},
     "output_type": "display_data"
    },
    {
     "name": "stdout",
     "output_type": "stream",
     "text": [
      "Steelers\n"
     ]
    },
    {
     "data": {
      "text/html": [
       "\n",
       "            <div style=\"float: left; border: 1px solid black; width:500px\">\n",
       "              <div id=\"189523e4-e3e9-4990-aee8-a871b1456ab1\" style=\"background-color:blue; width:0%\">&nbsp;</div>\n",
       "            </div>\n",
       "            <label id=\"96c72cd0-0df1-4ad9-9041-3c8d03b983b4\" style=\"padding-left: 10px;\" text = \"\"/>\n",
       "            "
      ],
      "text/plain": [
       "<IPython.core.display.HTML object>"
      ]
     },
     "metadata": {},
     "output_type": "display_data"
    },
    {
     "data": {
      "text/html": [
       "\n",
       "            <div style=\"float: left; border: 1px solid black; width:500px\">\n",
       "              <div id=\"6802bfad-f142-4ca4-a3b1-283890dbe7ab\" style=\"background-color:blue; width:0%\">&nbsp;</div>\n",
       "            </div>\n",
       "            <label id=\"2b2874be-ffca-47dc-9196-60ca9d592d2f\" style=\"padding-left: 10px;\" text = \"\"/>\n",
       "            "
      ],
      "text/plain": [
       "<IPython.core.display.HTML object>"
      ]
     },
     "metadata": {},
     "output_type": "display_data"
    },
    {
     "data": {
      "text/html": [
       "\n",
       "            <div style=\"float: left; border: 1px solid black; width:500px\">\n",
       "              <div id=\"8cfb2e46-0c98-4e82-8c8c-07d9ac7fdf33\" style=\"background-color:blue; width:0%\">&nbsp;</div>\n",
       "            </div>\n",
       "            <label id=\"a3075f2d-2089-4581-86c0-09b831475560\" style=\"padding-left: 10px;\" text = \"\"/>\n",
       "            "
      ],
      "text/plain": [
       "<IPython.core.display.HTML object>"
      ]
     },
     "metadata": {},
     "output_type": "display_data"
    },
    {
     "data": {
      "text/html": [
       "\n",
       "            <div style=\"float: left; border: 1px solid black; width:500px\">\n",
       "              <div id=\"273aed7b-b7c1-4bfa-901f-42261eb0d94d\" style=\"background-color:blue; width:0%\">&nbsp;</div>\n",
       "            </div>\n",
       "            <label id=\"c348caf7-2542-4614-8c70-bae072192841\" style=\"padding-left: 10px;\" text = \"\"/>\n",
       "            "
      ],
      "text/plain": [
       "<IPython.core.display.HTML object>"
      ]
     },
     "metadata": {},
     "output_type": "display_data"
    },
    {
     "name": "stdout",
     "output_type": "stream",
     "text": [
      "Colts\n"
     ]
    },
    {
     "data": {
      "text/html": [
       "\n",
       "            <div style=\"float: left; border: 1px solid black; width:500px\">\n",
       "              <div id=\"d9ca992f-5d2e-444e-a7f8-cd4a3b1ab1ac\" style=\"background-color:blue; width:0%\">&nbsp;</div>\n",
       "            </div>\n",
       "            <label id=\"5fda85b8-c242-4ff5-9783-45deba13145d\" style=\"padding-left: 10px;\" text = \"\"/>\n",
       "            "
      ],
      "text/plain": [
       "<IPython.core.display.HTML object>"
      ]
     },
     "metadata": {},
     "output_type": "display_data"
    },
    {
     "data": {
      "text/html": [
       "\n",
       "            <div style=\"float: left; border: 1px solid black; width:500px\">\n",
       "              <div id=\"aae9de47-fb75-416e-a347-ea12e75a6441\" style=\"background-color:blue; width:0%\">&nbsp;</div>\n",
       "            </div>\n",
       "            <label id=\"cae077a4-b961-45ec-af90-5ba45ffa4dd9\" style=\"padding-left: 10px;\" text = \"\"/>\n",
       "            "
      ],
      "text/plain": [
       "<IPython.core.display.HTML object>"
      ]
     },
     "metadata": {},
     "output_type": "display_data"
    },
    {
     "data": {
      "text/html": [
       "\n",
       "            <div style=\"float: left; border: 1px solid black; width:500px\">\n",
       "              <div id=\"a5dd3b26-0f43-48c6-a8da-fbbcacb02faa\" style=\"background-color:blue; width:0%\">&nbsp;</div>\n",
       "            </div>\n",
       "            <label id=\"1731f0b6-703a-4412-b108-4ffbf075d1dc\" style=\"padding-left: 10px;\" text = \"\"/>\n",
       "            "
      ],
      "text/plain": [
       "<IPython.core.display.HTML object>"
      ]
     },
     "metadata": {},
     "output_type": "display_data"
    },
    {
     "data": {
      "text/html": [
       "\n",
       "            <div style=\"float: left; border: 1px solid black; width:500px\">\n",
       "              <div id=\"3785cab0-b271-4a22-a11d-e2d6c1cb95bb\" style=\"background-color:blue; width:0%\">&nbsp;</div>\n",
       "            </div>\n",
       "            <label id=\"34e6664c-4e65-4156-8cd0-4eed90d35e02\" style=\"padding-left: 10px;\" text = \"\"/>\n",
       "            "
      ],
      "text/plain": [
       "<IPython.core.display.HTML object>"
      ]
     },
     "metadata": {},
     "output_type": "display_data"
    },
    {
     "name": "stdout",
     "output_type": "stream",
     "text": [
      "Cowboys\n"
     ]
    },
    {
     "data": {
      "text/html": [
       "\n",
       "            <div style=\"float: left; border: 1px solid black; width:500px\">\n",
       "              <div id=\"02e97b8f-22d6-42c5-bf6f-eeaa485e0485\" style=\"background-color:blue; width:0%\">&nbsp;</div>\n",
       "            </div>\n",
       "            <label id=\"852ffc55-f0a3-4b71-99dd-eb51d0c39f7c\" style=\"padding-left: 10px;\" text = \"\"/>\n",
       "            "
      ],
      "text/plain": [
       "<IPython.core.display.HTML object>"
      ]
     },
     "metadata": {},
     "output_type": "display_data"
    },
    {
     "data": {
      "text/html": [
       "\n",
       "            <div style=\"float: left; border: 1px solid black; width:500px\">\n",
       "              <div id=\"057f819e-94f8-404b-ad57-db7227165287\" style=\"background-color:blue; width:0%\">&nbsp;</div>\n",
       "            </div>\n",
       "            <label id=\"707236d5-4215-4f92-9de7-201252881466\" style=\"padding-left: 10px;\" text = \"\"/>\n",
       "            "
      ],
      "text/plain": [
       "<IPython.core.display.HTML object>"
      ]
     },
     "metadata": {},
     "output_type": "display_data"
    },
    {
     "data": {
      "text/html": [
       "\n",
       "            <div style=\"float: left; border: 1px solid black; width:500px\">\n",
       "              <div id=\"5c4f7034-357e-47d5-96cb-7e6ed32321c4\" style=\"background-color:blue; width:0%\">&nbsp;</div>\n",
       "            </div>\n",
       "            <label id=\"6511c696-c034-42ec-b0d3-2f5d1fa95790\" style=\"padding-left: 10px;\" text = \"\"/>\n",
       "            "
      ],
      "text/plain": [
       "<IPython.core.display.HTML object>"
      ]
     },
     "metadata": {},
     "output_type": "display_data"
    },
    {
     "data": {
      "text/html": [
       "\n",
       "            <div style=\"float: left; border: 1px solid black; width:500px\">\n",
       "              <div id=\"1f13461a-1a4f-4c09-bbab-771bffb72cf2\" style=\"background-color:blue; width:0%\">&nbsp;</div>\n",
       "            </div>\n",
       "            <label id=\"23c65f6b-c912-4394-9993-25e515cafe09\" style=\"padding-left: 10px;\" text = \"\"/>\n",
       "            "
      ],
      "text/plain": [
       "<IPython.core.display.HTML object>"
      ]
     },
     "metadata": {},
     "output_type": "display_data"
    },
    {
     "name": "stdout",
     "output_type": "stream",
     "text": [
      "Chiefs\n"
     ]
    },
    {
     "data": {
      "text/html": [
       "\n",
       "            <div style=\"float: left; border: 1px solid black; width:500px\">\n",
       "              <div id=\"69b8c20b-f7c8-4f5c-bcca-1cff46d3c5e4\" style=\"background-color:blue; width:0%\">&nbsp;</div>\n",
       "            </div>\n",
       "            <label id=\"05d7a19a-c2fe-4503-89e2-8636b38c2079\" style=\"padding-left: 10px;\" text = \"\"/>\n",
       "            "
      ],
      "text/plain": [
       "<IPython.core.display.HTML object>"
      ]
     },
     "metadata": {},
     "output_type": "display_data"
    },
    {
     "data": {
      "text/html": [
       "\n",
       "            <div style=\"float: left; border: 1px solid black; width:500px\">\n",
       "              <div id=\"a372165f-cb02-4574-8c27-2883c19a1fb3\" style=\"background-color:blue; width:0%\">&nbsp;</div>\n",
       "            </div>\n",
       "            <label id=\"dd16353f-5105-4919-aa86-4fa39d755c81\" style=\"padding-left: 10px;\" text = \"\"/>\n",
       "            "
      ],
      "text/plain": [
       "<IPython.core.display.HTML object>"
      ]
     },
     "metadata": {},
     "output_type": "display_data"
    },
    {
     "data": {
      "text/html": [
       "\n",
       "            <div style=\"float: left; border: 1px solid black; width:500px\">\n",
       "              <div id=\"034dc9cf-11ef-41d5-b729-40dc8528d609\" style=\"background-color:blue; width:0%\">&nbsp;</div>\n",
       "            </div>\n",
       "            <label id=\"ec597592-6901-4d1e-9e2b-e096f7a7fa21\" style=\"padding-left: 10px;\" text = \"\"/>\n",
       "            "
      ],
      "text/plain": [
       "<IPython.core.display.HTML object>"
      ]
     },
     "metadata": {},
     "output_type": "display_data"
    },
    {
     "data": {
      "text/html": [
       "\n",
       "            <div style=\"float: left; border: 1px solid black; width:500px\">\n",
       "              <div id=\"86583b9d-84dd-4a19-8b28-4bf1c56379ed\" style=\"background-color:blue; width:0%\">&nbsp;</div>\n",
       "            </div>\n",
       "            <label id=\"b6286cf8-ece3-4528-b30b-0cf8e2567989\" style=\"padding-left: 10px;\" text = \"\"/>\n",
       "            "
      ],
      "text/plain": [
       "<IPython.core.display.HTML object>"
      ]
     },
     "metadata": {},
     "output_type": "display_data"
    },
    {
     "name": "stdout",
     "output_type": "stream",
     "text": [
      "Lions\n"
     ]
    },
    {
     "data": {
      "text/html": [
       "\n",
       "            <div style=\"float: left; border: 1px solid black; width:500px\">\n",
       "              <div id=\"7d7c9b89-e3d1-457c-bf88-42a5657e7dcc\" style=\"background-color:blue; width:0%\">&nbsp;</div>\n",
       "            </div>\n",
       "            <label id=\"a15483b1-c8e7-4436-aa6d-f8be61cbac96\" style=\"padding-left: 10px;\" text = \"\"/>\n",
       "            "
      ],
      "text/plain": [
       "<IPython.core.display.HTML object>"
      ]
     },
     "metadata": {},
     "output_type": "display_data"
    },
    {
     "data": {
      "text/html": [
       "\n",
       "            <div style=\"float: left; border: 1px solid black; width:500px\">\n",
       "              <div id=\"59b659ce-c687-4f6d-aaee-7ff5537c64ce\" style=\"background-color:blue; width:0%\">&nbsp;</div>\n",
       "            </div>\n",
       "            <label id=\"81f1fd72-ac72-47c7-b9ec-17aec2ba18f7\" style=\"padding-left: 10px;\" text = \"\"/>\n",
       "            "
      ],
      "text/plain": [
       "<IPython.core.display.HTML object>"
      ]
     },
     "metadata": {},
     "output_type": "display_data"
    },
    {
     "data": {
      "text/html": [
       "\n",
       "            <div style=\"float: left; border: 1px solid black; width:500px\">\n",
       "              <div id=\"e64d2614-dd02-48ad-81ef-183ecf5fef4f\" style=\"background-color:blue; width:0%\">&nbsp;</div>\n",
       "            </div>\n",
       "            <label id=\"bce11662-00ea-42e8-87cd-d9978084d64c\" style=\"padding-left: 10px;\" text = \"\"/>\n",
       "            "
      ],
      "text/plain": [
       "<IPython.core.display.HTML object>"
      ]
     },
     "metadata": {},
     "output_type": "display_data"
    },
    {
     "data": {
      "text/html": [
       "\n",
       "            <div style=\"float: left; border: 1px solid black; width:500px\">\n",
       "              <div id=\"cbf94dbd-0d9d-42b3-9bd6-8a83a3204172\" style=\"background-color:blue; width:0%\">&nbsp;</div>\n",
       "            </div>\n",
       "            <label id=\"de07be9c-0b16-4a38-a48d-5f31791fe30a\" style=\"padding-left: 10px;\" text = \"\"/>\n",
       "            "
      ],
      "text/plain": [
       "<IPython.core.display.HTML object>"
      ]
     },
     "metadata": {},
     "output_type": "display_data"
    },
    {
     "name": "stdout",
     "output_type": "stream",
     "text": [
      "Eagles\n"
     ]
    },
    {
     "data": {
      "text/html": [
       "\n",
       "            <div style=\"float: left; border: 1px solid black; width:500px\">\n",
       "              <div id=\"46d0ca40-13f9-4d6e-b6bf-2582b6cdc0f0\" style=\"background-color:blue; width:0%\">&nbsp;</div>\n",
       "            </div>\n",
       "            <label id=\"2a336bd4-f3c9-430c-8a1d-3527c22576ab\" style=\"padding-left: 10px;\" text = \"\"/>\n",
       "            "
      ],
      "text/plain": [
       "<IPython.core.display.HTML object>"
      ]
     },
     "metadata": {},
     "output_type": "display_data"
    },
    {
     "data": {
      "text/html": [
       "\n",
       "            <div style=\"float: left; border: 1px solid black; width:500px\">\n",
       "              <div id=\"504b1543-70fc-4fc4-922d-4233616d36db\" style=\"background-color:blue; width:0%\">&nbsp;</div>\n",
       "            </div>\n",
       "            <label id=\"e91d1717-2a4f-493d-9a08-cc437cbe7774\" style=\"padding-left: 10px;\" text = \"\"/>\n",
       "            "
      ],
      "text/plain": [
       "<IPython.core.display.HTML object>"
      ]
     },
     "metadata": {},
     "output_type": "display_data"
    },
    {
     "data": {
      "text/html": [
       "\n",
       "            <div style=\"float: left; border: 1px solid black; width:500px\">\n",
       "              <div id=\"87a7a84c-53ab-47e6-a50a-0dd3fb3861ca\" style=\"background-color:blue; width:0%\">&nbsp;</div>\n",
       "            </div>\n",
       "            <label id=\"4844b2cc-cb6d-4475-a2ff-b6b155146d91\" style=\"padding-left: 10px;\" text = \"\"/>\n",
       "            "
      ],
      "text/plain": [
       "<IPython.core.display.HTML object>"
      ]
     },
     "metadata": {},
     "output_type": "display_data"
    },
    {
     "data": {
      "text/html": [
       "\n",
       "            <div style=\"float: left; border: 1px solid black; width:500px\">\n",
       "              <div id=\"833298ed-1025-40ee-a6f5-9d59375130b4\" style=\"background-color:blue; width:0%\">&nbsp;</div>\n",
       "            </div>\n",
       "            <label id=\"bdccabb8-1d2b-4ba9-b9f5-4103321756f8\" style=\"padding-left: 10px;\" text = \"\"/>\n",
       "            "
      ],
      "text/plain": [
       "<IPython.core.display.HTML object>"
      ]
     },
     "metadata": {},
     "output_type": "display_data"
    },
    {
     "name": "stdout",
     "output_type": "stream",
     "text": [
      "Buccaneers\n"
     ]
    },
    {
     "data": {
      "text/html": [
       "\n",
       "            <div style=\"float: left; border: 1px solid black; width:500px\">\n",
       "              <div id=\"3cd073b2-eeaf-42ac-86d7-cdc5af20c68a\" style=\"background-color:blue; width:0%\">&nbsp;</div>\n",
       "            </div>\n",
       "            <label id=\"e29adb77-1f65-4396-bc6f-4a2cfb50fd7f\" style=\"padding-left: 10px;\" text = \"\"/>\n",
       "            "
      ],
      "text/plain": [
       "<IPython.core.display.HTML object>"
      ]
     },
     "metadata": {},
     "output_type": "display_data"
    },
    {
     "data": {
      "text/html": [
       "\n",
       "            <div style=\"float: left; border: 1px solid black; width:500px\">\n",
       "              <div id=\"eca3bce2-5e47-4a91-9808-b406f4b93a2c\" style=\"background-color:blue; width:0%\">&nbsp;</div>\n",
       "            </div>\n",
       "            <label id=\"1d38ee85-f914-4038-bdf6-fa9809b54735\" style=\"padding-left: 10px;\" text = \"\"/>\n",
       "            "
      ],
      "text/plain": [
       "<IPython.core.display.HTML object>"
      ]
     },
     "metadata": {},
     "output_type": "display_data"
    },
    {
     "data": {
      "text/html": [
       "\n",
       "            <div style=\"float: left; border: 1px solid black; width:500px\">\n",
       "              <div id=\"113d02a3-dea1-4ca9-804c-4ce4a8884f45\" style=\"background-color:blue; width:0%\">&nbsp;</div>\n",
       "            </div>\n",
       "            <label id=\"300b043d-1063-405f-8d9d-23e19e660754\" style=\"padding-left: 10px;\" text = \"\"/>\n",
       "            "
      ],
      "text/plain": [
       "<IPython.core.display.HTML object>"
      ]
     },
     "metadata": {},
     "output_type": "display_data"
    },
    {
     "data": {
      "text/html": [
       "\n",
       "            <div style=\"float: left; border: 1px solid black; width:500px\">\n",
       "              <div id=\"ddc16b9c-1b25-40a5-83d5-1657394c1cda\" style=\"background-color:blue; width:0%\">&nbsp;</div>\n",
       "            </div>\n",
       "            <label id=\"10855f37-0ed0-4201-94c6-c3ca5021312d\" style=\"padding-left: 10px;\" text = \"\"/>\n",
       "            "
      ],
      "text/plain": [
       "<IPython.core.display.HTML object>"
      ]
     },
     "metadata": {},
     "output_type": "display_data"
    },
    {
     "name": "stdout",
     "output_type": "stream",
     "text": [
      "Seahawks\n"
     ]
    },
    {
     "data": {
      "text/html": [
       "\n",
       "            <div style=\"float: left; border: 1px solid black; width:500px\">\n",
       "              <div id=\"32b3219b-02d0-436e-9d51-482c3403be32\" style=\"background-color:blue; width:0%\">&nbsp;</div>\n",
       "            </div>\n",
       "            <label id=\"28f7b4ff-44c0-40d1-96dc-0624218bfa6a\" style=\"padding-left: 10px;\" text = \"\"/>\n",
       "            "
      ],
      "text/plain": [
       "<IPython.core.display.HTML object>"
      ]
     },
     "metadata": {},
     "output_type": "display_data"
    },
    {
     "data": {
      "text/html": [
       "\n",
       "            <div style=\"float: left; border: 1px solid black; width:500px\">\n",
       "              <div id=\"3dfb9146-87f4-4afb-a01b-b6de9cdb0cce\" style=\"background-color:blue; width:0%\">&nbsp;</div>\n",
       "            </div>\n",
       "            <label id=\"346520cd-12c2-4e6c-b05b-67e4cd78a37e\" style=\"padding-left: 10px;\" text = \"\"/>\n",
       "            "
      ],
      "text/plain": [
       "<IPython.core.display.HTML object>"
      ]
     },
     "metadata": {},
     "output_type": "display_data"
    },
    {
     "data": {
      "text/html": [
       "\n",
       "            <div style=\"float: left; border: 1px solid black; width:500px\">\n",
       "              <div id=\"47574257-71f2-4328-9f7f-50905ed5e679\" style=\"background-color:blue; width:0%\">&nbsp;</div>\n",
       "            </div>\n",
       "            <label id=\"c869deef-1315-4d4a-a552-4dfccdcaeaa2\" style=\"padding-left: 10px;\" text = \"\"/>\n",
       "            "
      ],
      "text/plain": [
       "<IPython.core.display.HTML object>"
      ]
     },
     "metadata": {},
     "output_type": "display_data"
    },
    {
     "data": {
      "text/html": [
       "\n",
       "            <div style=\"float: left; border: 1px solid black; width:500px\">\n",
       "              <div id=\"7dbe407b-f8ee-42e0-bf7d-c0e1ae7b21b4\" style=\"background-color:blue; width:0%\">&nbsp;</div>\n",
       "            </div>\n",
       "            <label id=\"c634866b-c076-4edb-aac0-2a778148912e\" style=\"padding-left: 10px;\" text = \"\"/>\n",
       "            "
      ],
      "text/plain": [
       "<IPython.core.display.HTML object>"
      ]
     },
     "metadata": {},
     "output_type": "display_data"
    },
    {
     "name": "stdout",
     "output_type": "stream",
     "text": [
      "Raiders\n"
     ]
    },
    {
     "data": {
      "text/html": [
       "\n",
       "            <div style=\"float: left; border: 1px solid black; width:500px\">\n",
       "              <div id=\"d4d536ea-3af5-41a4-b336-6d86571c824d\" style=\"background-color:blue; width:0%\">&nbsp;</div>\n",
       "            </div>\n",
       "            <label id=\"bbc4a151-7b07-497f-b145-103c4303c56e\" style=\"padding-left: 10px;\" text = \"\"/>\n",
       "            "
      ],
      "text/plain": [
       "<IPython.core.display.HTML object>"
      ]
     },
     "metadata": {},
     "output_type": "display_data"
    },
    {
     "data": {
      "text/html": [
       "\n",
       "            <div style=\"float: left; border: 1px solid black; width:500px\">\n",
       "              <div id=\"68784bf5-1b57-49dc-803f-d340f5811c39\" style=\"background-color:blue; width:0%\">&nbsp;</div>\n",
       "            </div>\n",
       "            <label id=\"a6611683-71a7-4bd8-a685-7696336175f5\" style=\"padding-left: 10px;\" text = \"\"/>\n",
       "            "
      ],
      "text/plain": [
       "<IPython.core.display.HTML object>"
      ]
     },
     "metadata": {},
     "output_type": "display_data"
    },
    {
     "data": {
      "text/html": [
       "\n",
       "            <div style=\"float: left; border: 1px solid black; width:500px\">\n",
       "              <div id=\"886c297a-ecf2-47bf-9f61-68726489db81\" style=\"background-color:blue; width:0%\">&nbsp;</div>\n",
       "            </div>\n",
       "            <label id=\"001a3627-a3ed-4f54-9252-76fab44f055a\" style=\"padding-left: 10px;\" text = \"\"/>\n",
       "            "
      ],
      "text/plain": [
       "<IPython.core.display.HTML object>"
      ]
     },
     "metadata": {},
     "output_type": "display_data"
    },
    {
     "data": {
      "text/html": [
       "\n",
       "            <div style=\"float: left; border: 1px solid black; width:500px\">\n",
       "              <div id=\"22c74db3-c12e-4bce-a344-364ef5451cf3\" style=\"background-color:blue; width:0%\">&nbsp;</div>\n",
       "            </div>\n",
       "            <label id=\"be1796e1-35e5-493e-8ce7-2bcf553e82b1\" style=\"padding-left: 10px;\" text = \"\"/>\n",
       "            "
      ],
      "text/plain": [
       "<IPython.core.display.HTML object>"
      ]
     },
     "metadata": {},
     "output_type": "display_data"
    },
    {
     "name": "stdout",
     "output_type": "stream",
     "text": [
      "Jets\n"
     ]
    },
    {
     "data": {
      "text/html": [
       "\n",
       "            <div style=\"float: left; border: 1px solid black; width:500px\">\n",
       "              <div id=\"43778934-9246-4572-a8fd-0f1659e8039a\" style=\"background-color:blue; width:0%\">&nbsp;</div>\n",
       "            </div>\n",
       "            <label id=\"13bec4e1-48db-433e-ba7f-40847b807fda\" style=\"padding-left: 10px;\" text = \"\"/>\n",
       "            "
      ],
      "text/plain": [
       "<IPython.core.display.HTML object>"
      ]
     },
     "metadata": {},
     "output_type": "display_data"
    },
    {
     "data": {
      "text/html": [
       "\n",
       "            <div style=\"float: left; border: 1px solid black; width:500px\">\n",
       "              <div id=\"7c3c92fb-373b-43eb-bbc2-5b4e220fa21e\" style=\"background-color:blue; width:0%\">&nbsp;</div>\n",
       "            </div>\n",
       "            <label id=\"29706d3b-26ea-4ee4-ab63-9ca1df854bb6\" style=\"padding-left: 10px;\" text = \"\"/>\n",
       "            "
      ],
      "text/plain": [
       "<IPython.core.display.HTML object>"
      ]
     },
     "metadata": {},
     "output_type": "display_data"
    },
    {
     "data": {
      "text/html": [
       "\n",
       "            <div style=\"float: left; border: 1px solid black; width:500px\">\n",
       "              <div id=\"ac856c49-b841-4636-ae52-d99ea0c1c99b\" style=\"background-color:blue; width:0%\">&nbsp;</div>\n",
       "            </div>\n",
       "            <label id=\"548b2e9d-c2ae-4574-b157-1a5f352b1364\" style=\"padding-left: 10px;\" text = \"\"/>\n",
       "            "
      ],
      "text/plain": [
       "<IPython.core.display.HTML object>"
      ]
     },
     "metadata": {},
     "output_type": "display_data"
    },
    {
     "data": {
      "text/html": [
       "\n",
       "            <div style=\"float: left; border: 1px solid black; width:500px\">\n",
       "              <div id=\"5fbf364a-4c37-448a-87ee-633b2cfc5655\" style=\"background-color:blue; width:0%\">&nbsp;</div>\n",
       "            </div>\n",
       "            <label id=\"e143cb66-7b13-437a-99f3-3b8e0d279259\" style=\"padding-left: 10px;\" text = \"\"/>\n",
       "            "
      ],
      "text/plain": [
       "<IPython.core.display.HTML object>"
      ]
     },
     "metadata": {},
     "output_type": "display_data"
    },
    {
     "name": "stdout",
     "output_type": "stream",
     "text": [
      "Done\n"
     ]
    }
   ],
   "source": [
    "from fitter import Fitter\n",
    "import pandas as pd\n",
    "import os\n",
    "from Other_Functions import return_best_fit_in_str_format\n",
    "\n",
    "# Get names of all teams\n",
    "teams = set()\n",
    "for filename in os.listdir(\"Base/Gamebooks/2020/Week 1\"):\n",
    "    team_one = filename[0:filename.index(\" at\")]\n",
    "    team_two = filename[filename.index(\" at\") + 4:filename.index(\".txt\")]\n",
    "    teams.add(team_one)\n",
    "    teams.add(team_two)\n",
    "for team in teams: # Loop through teams\n",
    "    print(team)\n",
    "    yards_data = pd.ExcelFile(\"Base/Teams/\" + team + \"/2021 Team Data.xlsx\").parse(\"YDS\") # Get team data\n",
    "    rush_yards = [int(d) for d in yards_data[\"OFF\"][0].split(\" \")] # Get list of team offensive rush yards\n",
    "    pass_yards = [int(d) for d in yards_data[\"OFF\"][1].split(\" \")] # Get list of team offensive pass yards\n",
    "    rush_yards_against = [int(d) for d in yards_data[\"DEF\"][0].split(\" \")] # Get list of team defensive rush yards\n",
    "    pass_yards_against = [int(d) for d in yards_data[\"DEF\"][1].split(\" \")] # Get list of team offensive rush yards\n",
    "    \n",
    "    # Get best statistical distribution, along with parameters, for each list. Check only the distributions specified\n",
    "    f_rush_yards = Fitter(rush_yards, distributions=[\"f\", \"johnsonsu\", \"johnsonsb\", \"norm\", \"norminvgauss\", \"nct\", \"exponnorm\", \"mielke\"])\n",
    "    f_pass_yards = Fitter(pass_yards, distributions=[\"f\", \"johnsonsu\", \"johnsonsb\", \"norm\", \"norminvgauss\", \"nct\", \"exponnorm\", \"mielke\"])\n",
    "    f_rush_yards_against = Fitter(rush_yards_against, distributions=[\"f\", \"johnsonsu\", \"johnsonsb\", \"norm\", \"norminvgauss\", \"nct\", \"exponnorm\", \"mielke\"])\n",
    "    f_pass_yards_against = Fitter(pass_yards_against, distributions=[\"f\", \"johnsonsu\", \"johnsonsb\", \"norm\", \"norminvgauss\", \"nct\", \"exponnorm\", \"mielke\"])\n",
    "    \n",
    "    # Get best fits in string format for each list\n",
    "    f_rush_yards.fit()\n",
    "    best_rush_yards = return_best_fit_in_str_format(f_rush_yards.get_best(method=\"sumsquare_error\")) \n",
    "\n",
    "    f_pass_yards.fit()\n",
    "    best_pass_yards = return_best_fit_in_str_format(f_pass_yards.get_best(method=\"sumsquare_error\"))\n",
    "\n",
    "    f_rush_yards_against.fit()\n",
    "    best_rush_yards_against = return_best_fit_in_str_format(f_rush_yards_against.get_best(method=\"sumsquare_error\"))\n",
    "\n",
    "    f_pass_yards_against.fit()\n",
    "    best_pass_yards_against = return_best_fit_in_str_format(f_pass_yards_against.get_best(method=\"sumsquare_error\"))\n",
    "\n",
    "    # Create data frame containing best fits in string format\n",
    "    df = pd.DataFrame([[best_rush_yards, best_pass_yards, best_rush_yards_against, best_pass_yards_against]], columns=[\"R\", \"P\", \"RA\", \"PA\"])\n",
    "\n",
    "    # Write to excel\n",
    "    df.to_excel(\"Base/Teams/\" + team + \"/Distributions.xlsx\", sheet_name=\"YDS\")\n",
    "print(\"Done\")"
   ]
  }
 ],
 "metadata": {
  "kernelspec": {
   "display_name": "Python 3",
   "language": "python",
   "name": "python3"
  },
  "language_info": {
   "codemirror_mode": {
    "name": "ipython",
    "version": 3
   },
   "file_extension": ".py",
   "mimetype": "text/x-python",
   "name": "python",
   "nbconvert_exporter": "python",
   "pygments_lexer": "ipython3",
   "version": "3.8.5"
  }
 },
 "nbformat": 4,
 "nbformat_minor": 4
}
