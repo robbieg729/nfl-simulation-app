{
 "cells": [
  {
   "cell_type": "code",
   "execution_count": 1,
   "metadata": {},
   "outputs": [
    {
     "name": "stdout",
     "output_type": "stream",
     "text": [
      "49ers at Packers.txt\n",
      "Bengals at Titans.txt\n",
      "Bills at Chiefs.txt\n",
      "Rams at Buccaneers.txt\n",
      "Done\n"
     ]
    }
   ],
   "source": [
    "import os\n",
    "from Classes import Team\n",
    "from Gamelog import log_game, write_team_data_to_excel_files\n",
    "\n",
    "# Team abbreviations used in gamebooks\n",
    "team_mnemonics = {\"Bills\": \"BUF\", \"Dolphins\": \"MIA\", \"Jets\": \"NYJ\", \"Patriots\": \"NE\", \"Bengals\": \"CIN\", \"Browns\": \"CLV\", \"Ravens\": \"BAL\", \"Steelers\": \"PIT\", \"Colts\": \"IND\", \"Jaguars\": \"JAX\", \"Texans\": \"HST\", \"Titans\": \"TEN\", \"Broncos\": \"DEN\", \"Chargers\": \"LAC\", \"Chiefs\": \"KC\", \"Raiders\": \"LV\", \"Cowboys\": \"DAL\", \"Eagles\": \"PHI\", \"Football Team\": \"WAS\", \"Giants\": \"NYG\", \"Bears\": \"CHI\", \"Lions\": \"DET\", \"Packers\": \"GB\", \"Vikings\": \"MIN\", \"Buccaneers\": \"TB\", \"Falcons\": \"ATL\", \"Panthers\": \"CAR\", \"Saints\": \"NO\", \"49ers\": \"SF\", \"Cardinals\": \"ARZ\", \"Rams\": \"LA\", \"Seahawks\": \"SEA\"}\n",
    "year = \"2021\" # The year of the week we want to log\n",
    "week = 20 # The week of the season we want to log\n",
    "directory = \"Base/Gamebooks/\" + year + \"/Week \" + str(week) # The directory where the gamebooks for the specified year and week are\n",
    "for filename in os.listdir(directory): # Loop through gamebooks\n",
    "    print(filename)\n",
    "    road = filename[0:filename.index(\" at\")] # Road team name\n",
    "    home = filename[filename.index(\" at\") + 4:filename.index(\".txt\")] # Home team name\n",
    "    for i in range(0, 2): # Want to log data twice, for overall data and current year data    \n",
    "        # Create Team objects for each team, with different year depending on iteration. Also create players data for each team\n",
    "        road_team = Team(road) if i == 0 else Team(road, year=year + \" \") \n",
    "        road_team.create_players_data()\n",
    "        home_team = Team(home) if i == 0 else Team(home, year=year + \" \")\n",
    "        home_team.create_players_data()\n",
    "        log_game(road_team, home_team, int(year), week, team_mnemonics) # Update team and players data    \n",
    "        if i == 0: # Want to write to overall data sheet\n",
    "            write_team_data_to_excel_files(road_team, year=\"\", include_players_data=True)\n",
    "            write_team_data_to_excel_files(home_team, year=\"\", include_players_data=True)\n",
    "        else: # Want to write to single year data sheet\n",
    "            write_team_data_to_excel_files(road_team, year=year + \" \", include_players_data=False) # Don't want to write players data twice (no separate year data for players)\n",
    "            write_team_data_to_excel_files(home_team, year=year + \" \", include_players_data=False)\n",
    "print(\"Done\")"
   ]
  }
 ],
 "metadata": {
  "kernelspec": {
   "display_name": "Python 3",
   "language": "python",
   "name": "python3"
  },
  "language_info": {
   "codemirror_mode": {
    "name": "ipython",
    "version": 3
   },
   "file_extension": ".py",
   "mimetype": "text/x-python",
   "name": "python",
   "nbconvert_exporter": "python",
   "pygments_lexer": "ipython3",
   "version": "3.8.5"
  }
 },
 "nbformat": 4,
 "nbformat_minor": 4
}
