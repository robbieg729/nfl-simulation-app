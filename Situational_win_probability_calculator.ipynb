{
 "cells": [
  {
   "cell_type": "code",
   "execution_count": 1,
   "metadata": {},
   "outputs": [
    {
     "name": "stdout",
     "output_type": "stream",
     "text": [
      "[93.33, 90.39]\n"
     ]
    }
   ],
   "source": [
    "import pandas as pd\n",
    "import numpy as np\n",
    "import matplotlib.pyplot as plt\n",
    "from Classes import Simulation_Team\n",
    "from Simulate import simulate\n",
    "\n",
    "road = \"Bengals\"\n",
    "home = \"Chiefs\"\n",
    "road_team = Simulation_Team(road, year=\"2021 \")\n",
    "home_team = Simulation_Team(home, year=\"2021 \")\n",
    "road_team.create_players_data()\n",
    "home_team.create_players_data()\n",
    "\n",
    "initial_variables = {\"t\": 1805, \"down\": 2, \"distance\": 1, \"yards_to_endzone\": 1, \"ko_team\": home_team, \"team_in_poss\": home_team, \"opposition\": road_team, \"road_team_timeouts\": 3, \"home_team_timeouts\": 0, \"road_team_points\": 10, \"home_team_points\": 21, \"clock_running\": \"N\", \"td_play\": \"N\", \"kickoff\": \"N\", \"safety_kick\": \"N\", \"hurry_up\": \"N\", \"overtime\": \"N\", \"sudden_death\": \"N\"}\n",
    "\n",
    "play_options = [\"P\", \"FG\"]\n",
    "n = 10000\n",
    "sit_probs = list()\n",
    "for po in play_options:\n",
    "    for i in range(0, n):\n",
    "        simulate(road_team, home_team, initial_variables=initial_variables, playoff_game=True, forced_play=po)\n",
    "        road_team.update_all_games_or_season_stats(home_team, \"games\")\n",
    "        home_team.update_all_games_or_season_stats(road_team, \"games\")\n",
    "        road_team.reset_game_or_season_stats(\"game\")\n",
    "        home_team.reset_game_or_season_stats(\"game\")\n",
    "    sit_probs.append(round(100 * home_team.record[0] / n, 2))\n",
    "    home_team.record = [0, 0, 0]\n",
    "    road_team.record = [0, 0, 0]\n",
    "    \n",
    "print(sit_probs)"
   ]
  }
 ],
 "metadata": {
  "kernelspec": {
   "display_name": "Python 3",
   "language": "python",
   "name": "python3"
  },
  "language_info": {
   "codemirror_mode": {
    "name": "ipython",
    "version": 3
   },
   "file_extension": ".py",
   "mimetype": "text/x-python",
   "name": "python",
   "nbconvert_exporter": "python",
   "pygments_lexer": "ipython3",
   "version": "3.8.5"
  }
 },
 "nbformat": 4,
 "nbformat_minor": 4
}
