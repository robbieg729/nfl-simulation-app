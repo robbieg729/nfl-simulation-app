{
 "cells": [
  {
   "cell_type": "code",
   "execution_count": 2,
   "metadata": {},
   "outputs": [
    {
     "name": "stdout",
     "output_type": "stream",
     "text": [
      "[[83.25, 90.49, 97.68], [83.64, 91.13, 97.79]]\n"
     ]
    }
   ],
   "source": [
    "import pandas as pd\n",
    "import numpy as np\n",
    "import matplotlib.pyplot as plt\n",
    "from Classes import Simulation_Team\n",
    "from Simulate import simulate\n",
    "\n",
    "road = \"Chiefs\"\n",
    "home = \"Bengals\"\n",
    "road_team = Simulation_Team(road, year=\"2021 \")\n",
    "home_team = Simulation_Team(home, year=\"2021 \")\n",
    "road_team.create_players_data()\n",
    "home_team.create_players_data()\n",
    "\n",
    "initial_variables_list = list()\n",
    "initial_variables_list.append({\"t\": 58, \"down\": 4, \"distance\": 1, \"yards_to_endzone\": 1, \"ko_team\": home_team, \"team_in_poss\": home_team, \"opposition\": road_team, \"road_team_timeouts\": 0, \"home_team_timeouts\": 0, \"road_team_points\": 31, \"home_team_points\": 31, \"clock_running\": \"N\", \"td_play\": \"N\", \"kickoff\": \"N\", \"safety_kick\": \"N\", \"hurry_up\": \"N\", \"overtime\": \"N\", \"sudden_death\": \"N\"})\n",
    "initial_variables_list.append({\"t\": 50, \"down\": 4, \"distance\": 1, \"yards_to_endzone\": 1, \"ko_team\": home_team, \"team_in_poss\": home_team, \"opposition\": road_team, \"road_team_timeouts\": 0, \"home_team_timeouts\": 0, \"road_team_points\": 31, \"home_team_points\": 31, \"clock_running\": \"N\", \"td_play\": \"N\", \"kickoff\": \"N\", \"safety_kick\": \"N\", \"hurry_up\": \"N\", \"overtime\": \"N\", \"sudden_death\": \"N\"})\n",
    "\n",
    "play_options = [\"P\", \"R\", \"FG\"]\n",
    "n = 10000\n",
    "win_probs = list()\n",
    "for I in initial_variables_list:\n",
    "    sit_probs = list()\n",
    "    for po in play_options:\n",
    "        for i in range(0, n):\n",
    "            simulate(road_team, home_team, initial_variables=I, forced_play=po)\n",
    "            road_team.update_all_games_or_season_stats(home_team, \"games\")\n",
    "            home_team.update_all_games_or_season_stats(road_team, \"games\")\n",
    "            road_team.reset_game_or_season_stats(\"game\")\n",
    "            home_team.reset_game_or_season_stats(\"game\")\n",
    "        sit_probs.append(round(100 * home_team.record[0] / n, 2))\n",
    "        home_team.record = [0, 0, 0]\n",
    "        road_team.record = [0, 0, 0]\n",
    "    win_probs.append(sit_probs)\n",
    "    \n",
    "print(win_probs)"
   ]
  }
 ],
 "metadata": {
  "kernelspec": {
   "display_name": "Python 3",
   "language": "python",
   "name": "python3"
  },
  "language_info": {
   "codemirror_mode": {
    "name": "ipython",
    "version": 3
   },
   "file_extension": ".py",
   "mimetype": "text/x-python",
   "name": "python",
   "nbconvert_exporter": "python",
   "pygments_lexer": "ipython3",
   "version": "3.8.5"
  }
 },
 "nbformat": 4,
 "nbformat_minor": 4
}
