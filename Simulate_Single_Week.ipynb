{
 "cells": [
  {
   "cell_type": "code",
   "execution_count": 3,
   "metadata": {},
   "outputs": [
    {
     "name": "stdout",
     "output_type": "stream",
     "text": [
      "Chiefs\n",
      "Broncos\n"
     ]
    },
    {
     "data": {
      "text/html": [
       "\n",
       "            <div style=\"float: left; border: 1px solid black; width:500px\">\n",
       "              <div id=\"be6aeea0-95d4-49b6-a0b9-57fff14fc7fb\" style=\"background-color:blue; width:0%\">&nbsp;</div>\n",
       "            </div>\n",
       "            <label id=\"821cb7ca-f1eb-4b09-9dc6-25f20d29ec50\" style=\"padding-left: 10px;\" text = \"\"/>\n",
       "            "
      ],
      "text/plain": [
       "<IPython.core.display.HTML object>"
      ]
     },
     "metadata": {},
     "output_type": "display_data"
    },
    {
     "data": {
      "text/html": [
       "\n",
       "            <div style=\"float: left; border: 1px solid black; width:500px\">\n",
       "              <div id=\"4b04c17f-0597-43f9-bd2a-60c54cb0d909\" style=\"background-color:blue; width:0%\">&nbsp;</div>\n",
       "            </div>\n",
       "            <label id=\"b158d822-38e2-4226-a0fb-c46f77ab11d7\" style=\"padding-left: 10px;\" text = \"\"/>\n",
       "            "
      ],
      "text/plain": [
       "<IPython.core.display.HTML object>"
      ]
     },
     "metadata": {},
     "output_type": "display_data"
    },
    {
     "data": {
      "text/html": [
       "\n",
       "            <div style=\"float: left; border: 1px solid black; width:500px\">\n",
       "              <div id=\"9070fec6-4d6d-42ec-9a09-502fb5fd0e82\" style=\"background-color:blue; width:0%\">&nbsp;</div>\n",
       "            </div>\n",
       "            <label id=\"82488722-554e-4e18-8eec-67464b670cfe\" style=\"padding-left: 10px;\" text = \"\"/>\n",
       "            "
      ],
      "text/plain": [
       "<IPython.core.display.HTML object>"
      ]
     },
     "metadata": {},
     "output_type": "display_data"
    },
    {
     "data": {
      "text/html": [
       "\n",
       "            <div style=\"float: left; border: 1px solid black; width:500px\">\n",
       "              <div id=\"f61410cc-3bf6-4e70-a8da-804985e54cba\" style=\"background-color:blue; width:0%\">&nbsp;</div>\n",
       "            </div>\n",
       "            <label id=\"10ca772c-5f3d-49a4-a785-c976da168866\" style=\"padding-left: 10px;\" text = \"\"/>\n",
       "            "
      ],
      "text/plain": [
       "<IPython.core.display.HTML object>"
      ]
     },
     "metadata": {},
     "output_type": "display_data"
    },
    {
     "data": {
      "text/html": [
       "\n",
       "            <div style=\"float: left; border: 1px solid black; width:500px\">\n",
       "              <div id=\"3e3ac879-0617-4eef-abc4-d8b7dd965491\" style=\"background-color:blue; width:0%\">&nbsp;</div>\n",
       "            </div>\n",
       "            <label id=\"d7452daf-b05c-4f17-b608-f57c4deb3b1f\" style=\"padding-left: 10px;\" text = \"\"/>\n",
       "            "
      ],
      "text/plain": [
       "<IPython.core.display.HTML object>"
      ]
     },
     "metadata": {},
     "output_type": "display_data"
    },
    {
     "data": {
      "text/html": [
       "\n",
       "            <div style=\"float: left; border: 1px solid black; width:500px\">\n",
       "              <div id=\"1d8aea67-57fc-40bc-a90c-9dc2f28a81b9\" style=\"background-color:blue; width:0%\">&nbsp;</div>\n",
       "            </div>\n",
       "            <label id=\"e8dc65c9-16cd-49d7-bb9d-c265013224ef\" style=\"padding-left: 10px;\" text = \"\"/>\n",
       "            "
      ],
      "text/plain": [
       "<IPython.core.display.HTML object>"
      ]
     },
     "metadata": {},
     "output_type": "display_data"
    },
    {
     "data": {
      "text/html": [
       "\n",
       "            <div style=\"float: left; border: 1px solid black; width:500px\">\n",
       "              <div id=\"1fbcf2d8-99f3-4aa6-88bf-e1508944f678\" style=\"background-color:blue; width:0%\">&nbsp;</div>\n",
       "            </div>\n",
       "            <label id=\"091231fc-cbec-450f-9f90-8bf2e810a7f2\" style=\"padding-left: 10px;\" text = \"\"/>\n",
       "            "
      ],
      "text/plain": [
       "<IPython.core.display.HTML object>"
      ]
     },
     "metadata": {},
     "output_type": "display_data"
    },
    {
     "data": {
      "text/html": [
       "\n",
       "            <div style=\"float: left; border: 1px solid black; width:500px\">\n",
       "              <div id=\"f9022496-a83a-457b-80ab-62b9d33ae801\" style=\"background-color:blue; width:0%\">&nbsp;</div>\n",
       "            </div>\n",
       "            <label id=\"fc430dfe-ae45-4449-9676-bc6d50ca1d46\" style=\"padding-left: 10px;\" text = \"\"/>\n",
       "            "
      ],
      "text/plain": [
       "<IPython.core.display.HTML object>"
      ]
     },
     "metadata": {},
     "output_type": "display_data"
    },
    {
     "data": {
      "text/html": [
       "\n",
       "            <div style=\"float: left; border: 1px solid black; width:500px\">\n",
       "              <div id=\"1ce6bbe5-f41c-4478-a263-251220863653\" style=\"background-color:blue; width:0%\">&nbsp;</div>\n",
       "            </div>\n",
       "            <label id=\"7b8d270a-688b-4c9b-ba6b-da8d7d9014b1\" style=\"padding-left: 10px;\" text = \"\"/>\n",
       "            "
      ],
      "text/plain": [
       "<IPython.core.display.HTML object>"
      ]
     },
     "metadata": {},
     "output_type": "display_data"
    },
    {
     "data": {
      "text/html": [
       "\n",
       "            <div style=\"float: left; border: 1px solid black; width:500px\">\n",
       "              <div id=\"be291142-e479-441e-9dd1-45995ca180b3\" style=\"background-color:blue; width:0%\">&nbsp;</div>\n",
       "            </div>\n",
       "            <label id=\"a542966c-5d73-4524-8068-ab915433ae0a\" style=\"padding-left: 10px;\" text = \"\"/>\n",
       "            "
      ],
      "text/plain": [
       "<IPython.core.display.HTML object>"
      ]
     },
     "metadata": {},
     "output_type": "display_data"
    },
    {
     "data": {
      "text/html": [
       "\n",
       "            <div style=\"float: left; border: 1px solid black; width:500px\">\n",
       "              <div id=\"9f5a680b-d8be-4960-b9c5-c8e6d9e14aa4\" style=\"background-color:blue; width:0%\">&nbsp;</div>\n",
       "            </div>\n",
       "            <label id=\"355a1b4c-5823-4786-b50a-ba966668ae5c\" style=\"padding-left: 10px;\" text = \"\"/>\n",
       "            "
      ],
      "text/plain": [
       "<IPython.core.display.HTML object>"
      ]
     },
     "metadata": {},
     "output_type": "display_data"
    },
    {
     "data": {
      "text/html": [
       "\n",
       "            <div style=\"float: left; border: 1px solid black; width:500px\">\n",
       "              <div id=\"b8cdc3f9-2bc0-401e-a563-59ecaa2fdb83\" style=\"background-color:blue; width:0%\">&nbsp;</div>\n",
       "            </div>\n",
       "            <label id=\"efa20068-ded6-4a95-8698-a752d4789c73\" style=\"padding-left: 10px;\" text = \"\"/>\n",
       "            "
      ],
      "text/plain": [
       "<IPython.core.display.HTML object>"
      ]
     },
     "metadata": {},
     "output_type": "display_data"
    },
    {
     "data": {
      "text/html": [
       "\n",
       "            <div style=\"float: left; border: 1px solid black; width:500px\">\n",
       "              <div id=\"be72c411-2e16-4593-b31e-904e1baaf14c\" style=\"background-color:blue; width:0%\">&nbsp;</div>\n",
       "            </div>\n",
       "            <label id=\"a4930552-49dd-4718-9efc-74421e3189ab\" style=\"padding-left: 10px;\" text = \"\"/>\n",
       "            "
      ],
      "text/plain": [
       "<IPython.core.display.HTML object>"
      ]
     },
     "metadata": {},
     "output_type": "display_data"
    },
    {
     "data": {
      "text/html": [
       "\n",
       "            <div style=\"float: left; border: 1px solid black; width:500px\">\n",
       "              <div id=\"d793d9c9-5394-44ac-b70b-69448f2055a8\" style=\"background-color:blue; width:0%\">&nbsp;</div>\n",
       "            </div>\n",
       "            <label id=\"f4edbad9-0af1-4a8e-a4c0-f8f321d483ea\" style=\"padding-left: 10px;\" text = \"\"/>\n",
       "            "
      ],
      "text/plain": [
       "<IPython.core.display.HTML object>"
      ]
     },
     "metadata": {},
     "output_type": "display_data"
    },
    {
     "data": {
      "text/html": [
       "\n",
       "            <div style=\"float: left; border: 1px solid black; width:500px\">\n",
       "              <div id=\"21e282b8-1939-4457-8e95-681612b97180\" style=\"background-color:blue; width:0%\">&nbsp;</div>\n",
       "            </div>\n",
       "            <label id=\"69dbec49-10c7-43bb-b01f-ea87fe19b463\" style=\"padding-left: 10px;\" text = \"\"/>\n",
       "            "
      ],
      "text/plain": [
       "<IPython.core.display.HTML object>"
      ]
     },
     "metadata": {},
     "output_type": "display_data"
    },
    {
     "data": {
      "text/html": [
       "\n",
       "            <div style=\"float: left; border: 1px solid black; width:500px\">\n",
       "              <div id=\"e5b8894a-9a97-4055-893c-430effff2bd3\" style=\"background-color:blue; width:0%\">&nbsp;</div>\n",
       "            </div>\n",
       "            <label id=\"c9c3d7cf-f847-4883-867e-870f8b468c7b\" style=\"padding-left: 10px;\" text = \"\"/>\n",
       "            "
      ],
      "text/plain": [
       "<IPython.core.display.HTML object>"
      ]
     },
     "metadata": {},
     "output_type": "display_data"
    },
    {
     "data": {
      "text/html": [
       "\n",
       "            <div style=\"float: left; border: 1px solid black; width:500px\">\n",
       "              <div id=\"c75dc49f-f09b-4926-bdba-550bb1796c3c\" style=\"background-color:blue; width:0%\">&nbsp;</div>\n",
       "            </div>\n",
       "            <label id=\"29eeaffe-d460-480b-8c6d-633600cd4596\" style=\"padding-left: 10px;\" text = \"\"/>\n",
       "            "
      ],
      "text/plain": [
       "<IPython.core.display.HTML object>"
      ]
     },
     "metadata": {},
     "output_type": "display_data"
    },
    {
     "data": {
      "text/html": [
       "\n",
       "            <div style=\"float: left; border: 1px solid black; width:500px\">\n",
       "              <div id=\"c94bdd87-702a-478e-8819-c91db78a2f0b\" style=\"background-color:blue; width:0%\">&nbsp;</div>\n",
       "            </div>\n",
       "            <label id=\"71e5d1b5-c39a-4f32-b335-f5167aeb716f\" style=\"padding-left: 10px;\" text = \"\"/>\n",
       "            "
      ],
      "text/plain": [
       "<IPython.core.display.HTML object>"
      ]
     },
     "metadata": {},
     "output_type": "display_data"
    },
    {
     "name": "stdout",
     "output_type": "stream",
     "text": [
      "Cowboys\n",
      "Eagles\n"
     ]
    },
    {
     "data": {
      "text/html": [
       "\n",
       "            <div style=\"float: left; border: 1px solid black; width:500px\">\n",
       "              <div id=\"5eb11fed-1e36-439e-ae5b-3fba436b6ec3\" style=\"background-color:blue; width:0%\">&nbsp;</div>\n",
       "            </div>\n",
       "            <label id=\"33d57549-a5d6-4c77-a01e-de78264e8b09\" style=\"padding-left: 10px;\" text = \"\"/>\n",
       "            "
      ],
      "text/plain": [
       "<IPython.core.display.HTML object>"
      ]
     },
     "metadata": {},
     "output_type": "display_data"
    },
    {
     "data": {
      "text/html": [
       "\n",
       "            <div style=\"float: left; border: 1px solid black; width:500px\">\n",
       "              <div id=\"df695785-9fcf-4fad-b811-f328bf77f3bb\" style=\"background-color:blue; width:0%\">&nbsp;</div>\n",
       "            </div>\n",
       "            <label id=\"50c10f4e-39fb-4b19-8009-caa7f6f8b86e\" style=\"padding-left: 10px;\" text = \"\"/>\n",
       "            "
      ],
      "text/plain": [
       "<IPython.core.display.HTML object>"
      ]
     },
     "metadata": {},
     "output_type": "display_data"
    },
    {
     "data": {
      "text/html": [
       "\n",
       "            <div style=\"float: left; border: 1px solid black; width:500px\">\n",
       "              <div id=\"9e082236-611a-48c1-a645-2b38a4fdd65f\" style=\"background-color:blue; width:0%\">&nbsp;</div>\n",
       "            </div>\n",
       "            <label id=\"2e7ed2f6-ca80-4093-816a-398b518c4461\" style=\"padding-left: 10px;\" text = \"\"/>\n",
       "            "
      ],
      "text/plain": [
       "<IPython.core.display.HTML object>"
      ]
     },
     "metadata": {},
     "output_type": "display_data"
    },
    {
     "data": {
      "text/html": [
       "\n",
       "            <div style=\"float: left; border: 1px solid black; width:500px\">\n",
       "              <div id=\"6d265f7e-7371-47ce-aa21-0b18b03e933a\" style=\"background-color:blue; width:0%\">&nbsp;</div>\n",
       "            </div>\n",
       "            <label id=\"3788a924-ed74-48b7-985b-3a51083f77f8\" style=\"padding-left: 10px;\" text = \"\"/>\n",
       "            "
      ],
      "text/plain": [
       "<IPython.core.display.HTML object>"
      ]
     },
     "metadata": {},
     "output_type": "display_data"
    },
    {
     "data": {
      "text/html": [
       "\n",
       "            <div style=\"float: left; border: 1px solid black; width:500px\">\n",
       "              <div id=\"b935f1bb-133f-4105-8ca1-2387c7a41874\" style=\"background-color:blue; width:0%\">&nbsp;</div>\n",
       "            </div>\n",
       "            <label id=\"1f3f374c-ff69-4779-9913-9c1b9b6beffd\" style=\"padding-left: 10px;\" text = \"\"/>\n",
       "            "
      ],
      "text/plain": [
       "<IPython.core.display.HTML object>"
      ]
     },
     "metadata": {},
     "output_type": "display_data"
    },
    {
     "data": {
      "text/html": [
       "\n",
       "            <div style=\"float: left; border: 1px solid black; width:500px\">\n",
       "              <div id=\"892671aa-b3b4-41c4-8ff4-bdef7daa85ab\" style=\"background-color:blue; width:0%\">&nbsp;</div>\n",
       "            </div>\n",
       "            <label id=\"06af8474-2303-49fc-8127-441eb13ac2c7\" style=\"padding-left: 10px;\" text = \"\"/>\n",
       "            "
      ],
      "text/plain": [
       "<IPython.core.display.HTML object>"
      ]
     },
     "metadata": {},
     "output_type": "display_data"
    },
    {
     "data": {
      "text/html": [
       "\n",
       "            <div style=\"float: left; border: 1px solid black; width:500px\">\n",
       "              <div id=\"bd345fb6-db7d-496a-b914-b5b532c7a4fa\" style=\"background-color:blue; width:0%\">&nbsp;</div>\n",
       "            </div>\n",
       "            <label id=\"00134dd2-e5af-442c-b04d-5ab2bdcea4c2\" style=\"padding-left: 10px;\" text = \"\"/>\n",
       "            "
      ],
      "text/plain": [
       "<IPython.core.display.HTML object>"
      ]
     },
     "metadata": {},
     "output_type": "display_data"
    },
    {
     "data": {
      "text/html": [
       "\n",
       "            <div style=\"float: left; border: 1px solid black; width:500px\">\n",
       "              <div id=\"ed530eb7-cd1e-4339-a1bf-e3f07d487b55\" style=\"background-color:blue; width:0%\">&nbsp;</div>\n",
       "            </div>\n",
       "            <label id=\"1b6b8bd8-500d-429c-a0ab-0a380f08db19\" style=\"padding-left: 10px;\" text = \"\"/>\n",
       "            "
      ],
      "text/plain": [
       "<IPython.core.display.HTML object>"
      ]
     },
     "metadata": {},
     "output_type": "display_data"
    },
    {
     "data": {
      "text/html": [
       "\n",
       "            <div style=\"float: left; border: 1px solid black; width:500px\">\n",
       "              <div id=\"584af40e-1ede-4195-99ce-acfa319a1ebc\" style=\"background-color:blue; width:0%\">&nbsp;</div>\n",
       "            </div>\n",
       "            <label id=\"17f7bb4b-acdc-41da-982a-55ae1cd394fe\" style=\"padding-left: 10px;\" text = \"\"/>\n",
       "            "
      ],
      "text/plain": [
       "<IPython.core.display.HTML object>"
      ]
     },
     "metadata": {},
     "output_type": "display_data"
    },
    {
     "data": {
      "text/html": [
       "\n",
       "            <div style=\"float: left; border: 1px solid black; width:500px\">\n",
       "              <div id=\"69850444-d23a-4cc9-8aa3-cb3f6ae25bce\" style=\"background-color:blue; width:0%\">&nbsp;</div>\n",
       "            </div>\n",
       "            <label id=\"9c5fa1a3-0ae7-41a7-a9bc-b603dea9ae18\" style=\"padding-left: 10px;\" text = \"\"/>\n",
       "            "
      ],
      "text/plain": [
       "<IPython.core.display.HTML object>"
      ]
     },
     "metadata": {},
     "output_type": "display_data"
    },
    {
     "data": {
      "text/html": [
       "\n",
       "            <div style=\"float: left; border: 1px solid black; width:500px\">\n",
       "              <div id=\"361898af-9f45-469c-a1c9-7dc977c54ee5\" style=\"background-color:blue; width:0%\">&nbsp;</div>\n",
       "            </div>\n",
       "            <label id=\"3df32442-c8ae-4621-adc7-8943e0cdcfd9\" style=\"padding-left: 10px;\" text = \"\"/>\n",
       "            "
      ],
      "text/plain": [
       "<IPython.core.display.HTML object>"
      ]
     },
     "metadata": {},
     "output_type": "display_data"
    },
    {
     "data": {
      "text/html": [
       "\n",
       "            <div style=\"float: left; border: 1px solid black; width:500px\">\n",
       "              <div id=\"9fdab7a7-88d7-4361-8036-b84fa5aa331b\" style=\"background-color:blue; width:0%\">&nbsp;</div>\n",
       "            </div>\n",
       "            <label id=\"c3d6419a-6c5e-4a9d-ac5b-93cfbbb00e0e\" style=\"padding-left: 10px;\" text = \"\"/>\n",
       "            "
      ],
      "text/plain": [
       "<IPython.core.display.HTML object>"
      ]
     },
     "metadata": {},
     "output_type": "display_data"
    },
    {
     "data": {
      "text/html": [
       "\n",
       "            <div style=\"float: left; border: 1px solid black; width:500px\">\n",
       "              <div id=\"3a28abf1-7017-4c64-b6ee-80779e250a74\" style=\"background-color:blue; width:0%\">&nbsp;</div>\n",
       "            </div>\n",
       "            <label id=\"6b945a9a-c3cc-48e3-b1fd-de73916bec47\" style=\"padding-left: 10px;\" text = \"\"/>\n",
       "            "
      ],
      "text/plain": [
       "<IPython.core.display.HTML object>"
      ]
     },
     "metadata": {},
     "output_type": "display_data"
    },
    {
     "data": {
      "text/html": [
       "\n",
       "            <div style=\"float: left; border: 1px solid black; width:500px\">\n",
       "              <div id=\"5cfed63b-3bf3-4abf-bb30-205ca7af69d1\" style=\"background-color:blue; width:0%\">&nbsp;</div>\n",
       "            </div>\n",
       "            <label id=\"d906111d-4ed9-4dc0-9607-d5bcb7bfd4b4\" style=\"padding-left: 10px;\" text = \"\"/>\n",
       "            "
      ],
      "text/plain": [
       "<IPython.core.display.HTML object>"
      ]
     },
     "metadata": {},
     "output_type": "display_data"
    },
    {
     "data": {
      "text/html": [
       "\n",
       "            <div style=\"float: left; border: 1px solid black; width:500px\">\n",
       "              <div id=\"dba9ca8f-52ed-4595-91ce-84ada1fa44fa\" style=\"background-color:blue; width:0%\">&nbsp;</div>\n",
       "            </div>\n",
       "            <label id=\"10956a57-8ec2-41cc-bd47-770bfe4cc9a4\" style=\"padding-left: 10px;\" text = \"\"/>\n",
       "            "
      ],
      "text/plain": [
       "<IPython.core.display.HTML object>"
      ]
     },
     "metadata": {},
     "output_type": "display_data"
    },
    {
     "data": {
      "text/html": [
       "\n",
       "            <div style=\"float: left; border: 1px solid black; width:500px\">\n",
       "              <div id=\"aa7aa75f-9ce8-496f-bf2f-3d013751a672\" style=\"background-color:blue; width:0%\">&nbsp;</div>\n",
       "            </div>\n",
       "            <label id=\"6615f4e0-7f63-4c7a-b3b1-c1b6b7ccf38c\" style=\"padding-left: 10px;\" text = \"\"/>\n",
       "            "
      ],
      "text/plain": [
       "<IPython.core.display.HTML object>"
      ]
     },
     "metadata": {},
     "output_type": "display_data"
    },
    {
     "data": {
      "text/html": [
       "\n",
       "            <div style=\"float: left; border: 1px solid black; width:500px\">\n",
       "              <div id=\"f338f1bb-3a8d-4b6f-9ab3-07a8acd517f6\" style=\"background-color:blue; width:0%\">&nbsp;</div>\n",
       "            </div>\n",
       "            <label id=\"62c80e96-ccf9-401a-8657-8eaeaebb23c0\" style=\"padding-left: 10px;\" text = \"\"/>\n",
       "            "
      ],
      "text/plain": [
       "<IPython.core.display.HTML object>"
      ]
     },
     "metadata": {},
     "output_type": "display_data"
    },
    {
     "data": {
      "text/html": [
       "\n",
       "            <div style=\"float: left; border: 1px solid black; width:500px\">\n",
       "              <div id=\"4b53805f-b074-45b2-ae81-261ce56dde65\" style=\"background-color:blue; width:0%\">&nbsp;</div>\n",
       "            </div>\n",
       "            <label id=\"1c830933-2b6f-4bc6-98ee-54bbcfdbeeea\" style=\"padding-left: 10px;\" text = \"\"/>\n",
       "            "
      ],
      "text/plain": [
       "<IPython.core.display.HTML object>"
      ]
     },
     "metadata": {},
     "output_type": "display_data"
    },
    {
     "name": "stdout",
     "output_type": "stream",
     "text": [
      "Bengals\n",
      "Browns\n"
     ]
    },
    {
     "data": {
      "text/html": [
       "\n",
       "            <div style=\"float: left; border: 1px solid black; width:500px\">\n",
       "              <div id=\"b433b29e-68da-49da-999a-d01ead7a59fd\" style=\"background-color:blue; width:0%\">&nbsp;</div>\n",
       "            </div>\n",
       "            <label id=\"429e8f68-d02b-40f8-8305-16cef7c4255f\" style=\"padding-left: 10px;\" text = \"\"/>\n",
       "            "
      ],
      "text/plain": [
       "<IPython.core.display.HTML object>"
      ]
     },
     "metadata": {},
     "output_type": "display_data"
    },
    {
     "data": {
      "text/html": [
       "\n",
       "            <div style=\"float: left; border: 1px solid black; width:500px\">\n",
       "              <div id=\"27834891-6342-4d14-acfd-84e31e252409\" style=\"background-color:blue; width:0%\">&nbsp;</div>\n",
       "            </div>\n",
       "            <label id=\"d8e94008-3593-4f53-a456-7fa42fc277c0\" style=\"padding-left: 10px;\" text = \"\"/>\n",
       "            "
      ],
      "text/plain": [
       "<IPython.core.display.HTML object>"
      ]
     },
     "metadata": {},
     "output_type": "display_data"
    },
    {
     "data": {
      "text/html": [
       "\n",
       "            <div style=\"float: left; border: 1px solid black; width:500px\">\n",
       "              <div id=\"a54bc08c-6862-4df9-b638-80f60216c9bf\" style=\"background-color:blue; width:0%\">&nbsp;</div>\n",
       "            </div>\n",
       "            <label id=\"f01b8cb1-58dc-4c19-b2df-c18ac4e13430\" style=\"padding-left: 10px;\" text = \"\"/>\n",
       "            "
      ],
      "text/plain": [
       "<IPython.core.display.HTML object>"
      ]
     },
     "metadata": {},
     "output_type": "display_data"
    },
    {
     "data": {
      "text/html": [
       "\n",
       "            <div style=\"float: left; border: 1px solid black; width:500px\">\n",
       "              <div id=\"345c6d3c-4a6e-4eff-8bfe-f289b91862c6\" style=\"background-color:blue; width:0%\">&nbsp;</div>\n",
       "            </div>\n",
       "            <label id=\"8a1d110c-2bea-4711-acd9-8ab54c6b7b2e\" style=\"padding-left: 10px;\" text = \"\"/>\n",
       "            "
      ],
      "text/plain": [
       "<IPython.core.display.HTML object>"
      ]
     },
     "metadata": {},
     "output_type": "display_data"
    },
    {
     "data": {
      "text/html": [
       "\n",
       "            <div style=\"float: left; border: 1px solid black; width:500px\">\n",
       "              <div id=\"3d682318-1629-4314-8524-5692ec249391\" style=\"background-color:blue; width:0%\">&nbsp;</div>\n",
       "            </div>\n",
       "            <label id=\"05ec2f32-b86e-41df-bdda-0eee9bea94b9\" style=\"padding-left: 10px;\" text = \"\"/>\n",
       "            "
      ],
      "text/plain": [
       "<IPython.core.display.HTML object>"
      ]
     },
     "metadata": {},
     "output_type": "display_data"
    },
    {
     "data": {
      "text/html": [
       "\n",
       "            <div style=\"float: left; border: 1px solid black; width:500px\">\n",
       "              <div id=\"b2dbc1ca-7692-4bcc-afd3-68702be276a8\" style=\"background-color:blue; width:0%\">&nbsp;</div>\n",
       "            </div>\n",
       "            <label id=\"925a6d52-d757-4cbf-92b1-acd05a1b4512\" style=\"padding-left: 10px;\" text = \"\"/>\n",
       "            "
      ],
      "text/plain": [
       "<IPython.core.display.HTML object>"
      ]
     },
     "metadata": {},
     "output_type": "display_data"
    },
    {
     "data": {
      "text/html": [
       "\n",
       "            <div style=\"float: left; border: 1px solid black; width:500px\">\n",
       "              <div id=\"73519e96-0f8c-444d-a337-67b509184aa2\" style=\"background-color:blue; width:0%\">&nbsp;</div>\n",
       "            </div>\n",
       "            <label id=\"cd8d6c32-6825-4c16-9a77-27846a61021c\" style=\"padding-left: 10px;\" text = \"\"/>\n",
       "            "
      ],
      "text/plain": [
       "<IPython.core.display.HTML object>"
      ]
     },
     "metadata": {},
     "output_type": "display_data"
    },
    {
     "data": {
      "text/html": [
       "\n",
       "            <div style=\"float: left; border: 1px solid black; width:500px\">\n",
       "              <div id=\"898398f2-f60d-4be1-bbff-67ba2a0c15dd\" style=\"background-color:blue; width:0%\">&nbsp;</div>\n",
       "            </div>\n",
       "            <label id=\"abf68b5b-913d-4578-b3d2-795f1655fd15\" style=\"padding-left: 10px;\" text = \"\"/>\n",
       "            "
      ],
      "text/plain": [
       "<IPython.core.display.HTML object>"
      ]
     },
     "metadata": {},
     "output_type": "display_data"
    },
    {
     "data": {
      "text/html": [
       "\n",
       "            <div style=\"float: left; border: 1px solid black; width:500px\">\n",
       "              <div id=\"ce5872b9-8d97-4e73-a0dd-1ff7ae76ed3b\" style=\"background-color:blue; width:0%\">&nbsp;</div>\n",
       "            </div>\n",
       "            <label id=\"9a1be4d0-47db-41e1-a059-3b08faaae7b3\" style=\"padding-left: 10px;\" text = \"\"/>\n",
       "            "
      ],
      "text/plain": [
       "<IPython.core.display.HTML object>"
      ]
     },
     "metadata": {},
     "output_type": "display_data"
    },
    {
     "data": {
      "text/html": [
       "\n",
       "            <div style=\"float: left; border: 1px solid black; width:500px\">\n",
       "              <div id=\"a5dd2f73-a53e-42a3-9f90-d407592d1ae8\" style=\"background-color:blue; width:0%\">&nbsp;</div>\n",
       "            </div>\n",
       "            <label id=\"48278da5-75f8-4db1-a026-6a23ed3411ce\" style=\"padding-left: 10px;\" text = \"\"/>\n",
       "            "
      ],
      "text/plain": [
       "<IPython.core.display.HTML object>"
      ]
     },
     "metadata": {},
     "output_type": "display_data"
    },
    {
     "data": {
      "text/html": [
       "\n",
       "            <div style=\"float: left; border: 1px solid black; width:500px\">\n",
       "              <div id=\"94a88a66-050c-489d-a69d-e7f1c8631626\" style=\"background-color:blue; width:0%\">&nbsp;</div>\n",
       "            </div>\n",
       "            <label id=\"e8c958a7-7f63-4a5a-8b66-0409fda993cb\" style=\"padding-left: 10px;\" text = \"\"/>\n",
       "            "
      ],
      "text/plain": [
       "<IPython.core.display.HTML object>"
      ]
     },
     "metadata": {},
     "output_type": "display_data"
    },
    {
     "data": {
      "text/html": [
       "\n",
       "            <div style=\"float: left; border: 1px solid black; width:500px\">\n",
       "              <div id=\"0a4eee8b-80c7-42a1-adc9-6b897fedc74c\" style=\"background-color:blue; width:0%\">&nbsp;</div>\n",
       "            </div>\n",
       "            <label id=\"9c53a70b-2a66-468a-8deb-804342de1d99\" style=\"padding-left: 10px;\" text = \"\"/>\n",
       "            "
      ],
      "text/plain": [
       "<IPython.core.display.HTML object>"
      ]
     },
     "metadata": {},
     "output_type": "display_data"
    },
    {
     "data": {
      "text/html": [
       "\n",
       "            <div style=\"float: left; border: 1px solid black; width:500px\">\n",
       "              <div id=\"597cd4a6-09b6-4f28-8994-91dc15709c00\" style=\"background-color:blue; width:0%\">&nbsp;</div>\n",
       "            </div>\n",
       "            <label id=\"38c1df39-0373-45fe-a0d2-65d6fa1f240c\" style=\"padding-left: 10px;\" text = \"\"/>\n",
       "            "
      ],
      "text/plain": [
       "<IPython.core.display.HTML object>"
      ]
     },
     "metadata": {},
     "output_type": "display_data"
    },
    {
     "data": {
      "text/html": [
       "\n",
       "            <div style=\"float: left; border: 1px solid black; width:500px\">\n",
       "              <div id=\"0555405e-03e8-46d8-8d59-d79a73695ba8\" style=\"background-color:blue; width:0%\">&nbsp;</div>\n",
       "            </div>\n",
       "            <label id=\"c3f38f29-89f8-4f59-a97d-c7625f69cd30\" style=\"padding-left: 10px;\" text = \"\"/>\n",
       "            "
      ],
      "text/plain": [
       "<IPython.core.display.HTML object>"
      ]
     },
     "metadata": {},
     "output_type": "display_data"
    },
    {
     "data": {
      "text/html": [
       "\n",
       "            <div style=\"float: left; border: 1px solid black; width:500px\">\n",
       "              <div id=\"48776486-9a58-4a26-938b-08496c6565db\" style=\"background-color:blue; width:0%\">&nbsp;</div>\n",
       "            </div>\n",
       "            <label id=\"7ed61769-3465-4d61-883a-cd194df73571\" style=\"padding-left: 10px;\" text = \"\"/>\n",
       "            "
      ],
      "text/plain": [
       "<IPython.core.display.HTML object>"
      ]
     },
     "metadata": {},
     "output_type": "display_data"
    },
    {
     "data": {
      "text/html": [
       "\n",
       "            <div style=\"float: left; border: 1px solid black; width:500px\">\n",
       "              <div id=\"7f37f841-12c3-497b-8282-980724f6eb12\" style=\"background-color:blue; width:0%\">&nbsp;</div>\n",
       "            </div>\n",
       "            <label id=\"13d45da8-bf35-41b2-a6b2-36701a991439\" style=\"padding-left: 10px;\" text = \"\"/>\n",
       "            "
      ],
      "text/plain": [
       "<IPython.core.display.HTML object>"
      ]
     },
     "metadata": {},
     "output_type": "display_data"
    },
    {
     "data": {
      "text/html": [
       "\n",
       "            <div style=\"float: left; border: 1px solid black; width:500px\">\n",
       "              <div id=\"8f609dd2-8373-48e4-b310-51e69bf52548\" style=\"background-color:blue; width:0%\">&nbsp;</div>\n",
       "            </div>\n",
       "            <label id=\"02897e44-702b-4d4a-9273-1b5b2542d875\" style=\"padding-left: 10px;\" text = \"\"/>\n",
       "            "
      ],
      "text/plain": [
       "<IPython.core.display.HTML object>"
      ]
     },
     "metadata": {},
     "output_type": "display_data"
    },
    {
     "data": {
      "text/html": [
       "\n",
       "            <div style=\"float: left; border: 1px solid black; width:500px\">\n",
       "              <div id=\"4e3ee61e-68a9-44f0-9fea-9fbc2730cd71\" style=\"background-color:blue; width:0%\">&nbsp;</div>\n",
       "            </div>\n",
       "            <label id=\"a05d1600-4ef0-410b-871a-edcc8709860b\" style=\"padding-left: 10px;\" text = \"\"/>\n",
       "            "
      ],
      "text/plain": [
       "<IPython.core.display.HTML object>"
      ]
     },
     "metadata": {},
     "output_type": "display_data"
    },
    {
     "name": "stdout",
     "output_type": "stream",
     "text": [
      "Bears\n",
      "Vikings\n"
     ]
    },
    {
     "data": {
      "text/html": [
       "\n",
       "            <div style=\"float: left; border: 1px solid black; width:500px\">\n",
       "              <div id=\"0f1cfb22-4939-4d7d-8d42-6db8cef8f6ea\" style=\"background-color:blue; width:0%\">&nbsp;</div>\n",
       "            </div>\n",
       "            <label id=\"b97708b7-86d4-4f39-9f3c-0a551997b10e\" style=\"padding-left: 10px;\" text = \"\"/>\n",
       "            "
      ],
      "text/plain": [
       "<IPython.core.display.HTML object>"
      ]
     },
     "metadata": {},
     "output_type": "display_data"
    },
    {
     "data": {
      "text/html": [
       "\n",
       "            <div style=\"float: left; border: 1px solid black; width:500px\">\n",
       "              <div id=\"6d72cf21-725c-43df-8f35-2a84a61658ce\" style=\"background-color:blue; width:0%\">&nbsp;</div>\n",
       "            </div>\n",
       "            <label id=\"c8d62b72-ad4e-431c-8a4b-5b749de0000d\" style=\"padding-left: 10px;\" text = \"\"/>\n",
       "            "
      ],
      "text/plain": [
       "<IPython.core.display.HTML object>"
      ]
     },
     "metadata": {},
     "output_type": "display_data"
    },
    {
     "data": {
      "text/html": [
       "\n",
       "            <div style=\"float: left; border: 1px solid black; width:500px\">\n",
       "              <div id=\"d337d9f4-dec1-440a-ad1a-4362f4e14729\" style=\"background-color:blue; width:0%\">&nbsp;</div>\n",
       "            </div>\n",
       "            <label id=\"dfc83a81-13eb-413e-a1a7-833b7beb3e40\" style=\"padding-left: 10px;\" text = \"\"/>\n",
       "            "
      ],
      "text/plain": [
       "<IPython.core.display.HTML object>"
      ]
     },
     "metadata": {},
     "output_type": "display_data"
    },
    {
     "data": {
      "text/html": [
       "\n",
       "            <div style=\"float: left; border: 1px solid black; width:500px\">\n",
       "              <div id=\"eb43d827-c789-4650-931c-2ef4c56a5259\" style=\"background-color:blue; width:0%\">&nbsp;</div>\n",
       "            </div>\n",
       "            <label id=\"66a6ffa8-5fac-4e43-8753-3ec5198b430a\" style=\"padding-left: 10px;\" text = \"\"/>\n",
       "            "
      ],
      "text/plain": [
       "<IPython.core.display.HTML object>"
      ]
     },
     "metadata": {},
     "output_type": "display_data"
    },
    {
     "data": {
      "text/html": [
       "\n",
       "            <div style=\"float: left; border: 1px solid black; width:500px\">\n",
       "              <div id=\"61ecec3a-6fd6-4f34-a631-c233d830e1cf\" style=\"background-color:blue; width:0%\">&nbsp;</div>\n",
       "            </div>\n",
       "            <label id=\"40c8de76-ab5b-487a-b523-0ab4125db018\" style=\"padding-left: 10px;\" text = \"\"/>\n",
       "            "
      ],
      "text/plain": [
       "<IPython.core.display.HTML object>"
      ]
     },
     "metadata": {},
     "output_type": "display_data"
    },
    {
     "data": {
      "text/html": [
       "\n",
       "            <div style=\"float: left; border: 1px solid black; width:500px\">\n",
       "              <div id=\"4fb570b4-ac7b-42e5-9a8e-3309d5b82496\" style=\"background-color:blue; width:0%\">&nbsp;</div>\n",
       "            </div>\n",
       "            <label id=\"0ec507c9-b676-471a-b98e-82fbf04ffbea\" style=\"padding-left: 10px;\" text = \"\"/>\n",
       "            "
      ],
      "text/plain": [
       "<IPython.core.display.HTML object>"
      ]
     },
     "metadata": {},
     "output_type": "display_data"
    },
    {
     "data": {
      "text/html": [
       "\n",
       "            <div style=\"float: left; border: 1px solid black; width:500px\">\n",
       "              <div id=\"65fa5a73-3664-49e9-b554-88bbe5c9a5e8\" style=\"background-color:blue; width:0%\">&nbsp;</div>\n",
       "            </div>\n",
       "            <label id=\"40ed11c7-42c5-4751-9e46-1b95ec623338\" style=\"padding-left: 10px;\" text = \"\"/>\n",
       "            "
      ],
      "text/plain": [
       "<IPython.core.display.HTML object>"
      ]
     },
     "metadata": {},
     "output_type": "display_data"
    },
    {
     "data": {
      "text/html": [
       "\n",
       "            <div style=\"float: left; border: 1px solid black; width:500px\">\n",
       "              <div id=\"3a27ee48-e160-43ff-b40e-932ff73608b2\" style=\"background-color:blue; width:0%\">&nbsp;</div>\n",
       "            </div>\n",
       "            <label id=\"c80c0ecd-ac3e-4e5f-81f7-baa5aa95ebc6\" style=\"padding-left: 10px;\" text = \"\"/>\n",
       "            "
      ],
      "text/plain": [
       "<IPython.core.display.HTML object>"
      ]
     },
     "metadata": {},
     "output_type": "display_data"
    },
    {
     "data": {
      "text/html": [
       "\n",
       "            <div style=\"float: left; border: 1px solid black; width:500px\">\n",
       "              <div id=\"dd7f305d-be87-4637-997d-42ea414c7a7f\" style=\"background-color:blue; width:0%\">&nbsp;</div>\n",
       "            </div>\n",
       "            <label id=\"722bd858-8688-462c-aa6c-9fc7a4f6e672\" style=\"padding-left: 10px;\" text = \"\"/>\n",
       "            "
      ],
      "text/plain": [
       "<IPython.core.display.HTML object>"
      ]
     },
     "metadata": {},
     "output_type": "display_data"
    },
    {
     "data": {
      "text/html": [
       "\n",
       "            <div style=\"float: left; border: 1px solid black; width:500px\">\n",
       "              <div id=\"f4cc3e28-abca-4087-8419-2c4b3892044a\" style=\"background-color:blue; width:0%\">&nbsp;</div>\n",
       "            </div>\n",
       "            <label id=\"06c46b8a-71da-4ce7-9803-ae326c38c128\" style=\"padding-left: 10px;\" text = \"\"/>\n",
       "            "
      ],
      "text/plain": [
       "<IPython.core.display.HTML object>"
      ]
     },
     "metadata": {},
     "output_type": "display_data"
    },
    {
     "data": {
      "text/html": [
       "\n",
       "            <div style=\"float: left; border: 1px solid black; width:500px\">\n",
       "              <div id=\"cb297b0d-82cb-4a3d-8dcb-195697b43cc5\" style=\"background-color:blue; width:0%\">&nbsp;</div>\n",
       "            </div>\n",
       "            <label id=\"d5473e95-365b-4a34-a772-3ddc003df8ec\" style=\"padding-left: 10px;\" text = \"\"/>\n",
       "            "
      ],
      "text/plain": [
       "<IPython.core.display.HTML object>"
      ]
     },
     "metadata": {},
     "output_type": "display_data"
    },
    {
     "data": {
      "text/html": [
       "\n",
       "            <div style=\"float: left; border: 1px solid black; width:500px\">\n",
       "              <div id=\"1ecef582-9f15-48cb-b9f6-217125eb5ab8\" style=\"background-color:blue; width:0%\">&nbsp;</div>\n",
       "            </div>\n",
       "            <label id=\"beb2338a-93be-48f0-8a0e-7d7dcb65ba2f\" style=\"padding-left: 10px;\" text = \"\"/>\n",
       "            "
      ],
      "text/plain": [
       "<IPython.core.display.HTML object>"
      ]
     },
     "metadata": {},
     "output_type": "display_data"
    },
    {
     "data": {
      "text/html": [
       "\n",
       "            <div style=\"float: left; border: 1px solid black; width:500px\">\n",
       "              <div id=\"c0db39a5-d926-48ad-86ae-57c776746b76\" style=\"background-color:blue; width:0%\">&nbsp;</div>\n",
       "            </div>\n",
       "            <label id=\"811e23d2-6f4e-4c75-bbff-74a37d965673\" style=\"padding-left: 10px;\" text = \"\"/>\n",
       "            "
      ],
      "text/plain": [
       "<IPython.core.display.HTML object>"
      ]
     },
     "metadata": {},
     "output_type": "display_data"
    },
    {
     "data": {
      "text/html": [
       "\n",
       "            <div style=\"float: left; border: 1px solid black; width:500px\">\n",
       "              <div id=\"a38b2293-8055-4133-b05a-5a94fcc3ea66\" style=\"background-color:blue; width:0%\">&nbsp;</div>\n",
       "            </div>\n",
       "            <label id=\"fee9e246-373c-42c1-baa0-1715d8f89b3a\" style=\"padding-left: 10px;\" text = \"\"/>\n",
       "            "
      ],
      "text/plain": [
       "<IPython.core.display.HTML object>"
      ]
     },
     "metadata": {},
     "output_type": "display_data"
    },
    {
     "data": {
      "text/html": [
       "\n",
       "            <div style=\"float: left; border: 1px solid black; width:500px\">\n",
       "              <div id=\"1fa9dfe6-74cf-4657-83c4-f000c96662e0\" style=\"background-color:blue; width:0%\">&nbsp;</div>\n",
       "            </div>\n",
       "            <label id=\"1b8df60b-4cd5-48d3-9595-3c7e9f4e9f5e\" style=\"padding-left: 10px;\" text = \"\"/>\n",
       "            "
      ],
      "text/plain": [
       "<IPython.core.display.HTML object>"
      ]
     },
     "metadata": {},
     "output_type": "display_data"
    },
    {
     "data": {
      "text/html": [
       "\n",
       "            <div style=\"float: left; border: 1px solid black; width:500px\">\n",
       "              <div id=\"319868a0-507c-4809-a2a0-5744d7eaf553\" style=\"background-color:blue; width:0%\">&nbsp;</div>\n",
       "            </div>\n",
       "            <label id=\"cdb7d700-ad64-49d1-8698-e8fd64f45e1e\" style=\"padding-left: 10px;\" text = \"\"/>\n",
       "            "
      ],
      "text/plain": [
       "<IPython.core.display.HTML object>"
      ]
     },
     "metadata": {},
     "output_type": "display_data"
    },
    {
     "data": {
      "text/html": [
       "\n",
       "            <div style=\"float: left; border: 1px solid black; width:500px\">\n",
       "              <div id=\"da40b174-e513-478c-b536-b55bc0b9dd04\" style=\"background-color:blue; width:0%\">&nbsp;</div>\n",
       "            </div>\n",
       "            <label id=\"aa3daf7a-93a3-4d0e-a7dc-0a2072589706\" style=\"padding-left: 10px;\" text = \"\"/>\n",
       "            "
      ],
      "text/plain": [
       "<IPython.core.display.HTML object>"
      ]
     },
     "metadata": {},
     "output_type": "display_data"
    },
    {
     "data": {
      "text/html": [
       "\n",
       "            <div style=\"float: left; border: 1px solid black; width:500px\">\n",
       "              <div id=\"3fa74224-1fb5-47c4-8c13-fde97919da89\" style=\"background-color:blue; width:0%\">&nbsp;</div>\n",
       "            </div>\n",
       "            <label id=\"70c62d79-513c-480c-8ae8-68d7f662882e\" style=\"padding-left: 10px;\" text = \"\"/>\n",
       "            "
      ],
      "text/plain": [
       "<IPython.core.display.HTML object>"
      ]
     },
     "metadata": {},
     "output_type": "display_data"
    },
    {
     "name": "stdout",
     "output_type": "stream",
     "text": [
      "Titans\n",
      "Texans\n"
     ]
    },
    {
     "data": {
      "text/html": [
       "\n",
       "            <div style=\"float: left; border: 1px solid black; width:500px\">\n",
       "              <div id=\"51d61b9f-becb-46f4-bef8-5777ad02ad45\" style=\"background-color:blue; width:0%\">&nbsp;</div>\n",
       "            </div>\n",
       "            <label id=\"f5306164-d406-446e-8b16-5917d67ced7d\" style=\"padding-left: 10px;\" text = \"\"/>\n",
       "            "
      ],
      "text/plain": [
       "<IPython.core.display.HTML object>"
      ]
     },
     "metadata": {},
     "output_type": "display_data"
    },
    {
     "data": {
      "text/html": [
       "\n",
       "            <div style=\"float: left; border: 1px solid black; width:500px\">\n",
       "              <div id=\"00f0866e-f68c-4b74-b0af-e524d9f067f4\" style=\"background-color:blue; width:0%\">&nbsp;</div>\n",
       "            </div>\n",
       "            <label id=\"3c275ed1-6504-443d-bbb6-cb1a08e859b7\" style=\"padding-left: 10px;\" text = \"\"/>\n",
       "            "
      ],
      "text/plain": [
       "<IPython.core.display.HTML object>"
      ]
     },
     "metadata": {},
     "output_type": "display_data"
    },
    {
     "data": {
      "text/html": [
       "\n",
       "            <div style=\"float: left; border: 1px solid black; width:500px\">\n",
       "              <div id=\"3ed9777a-5261-456f-b160-c763c8019855\" style=\"background-color:blue; width:0%\">&nbsp;</div>\n",
       "            </div>\n",
       "            <label id=\"28cd7254-3d24-492c-b2f8-32fef4079765\" style=\"padding-left: 10px;\" text = \"\"/>\n",
       "            "
      ],
      "text/plain": [
       "<IPython.core.display.HTML object>"
      ]
     },
     "metadata": {},
     "output_type": "display_data"
    },
    {
     "data": {
      "text/html": [
       "\n",
       "            <div style=\"float: left; border: 1px solid black; width:500px\">\n",
       "              <div id=\"d78f8baf-5a68-4e83-a60f-bf80372fa62f\" style=\"background-color:blue; width:0%\">&nbsp;</div>\n",
       "            </div>\n",
       "            <label id=\"23860331-3af6-455e-b35f-4c77a1da0eff\" style=\"padding-left: 10px;\" text = \"\"/>\n",
       "            "
      ],
      "text/plain": [
       "<IPython.core.display.HTML object>"
      ]
     },
     "metadata": {},
     "output_type": "display_data"
    },
    {
     "data": {
      "text/html": [
       "\n",
       "            <div style=\"float: left; border: 1px solid black; width:500px\">\n",
       "              <div id=\"87ce1401-37b4-4f6b-9c85-3f5336816a0f\" style=\"background-color:blue; width:0%\">&nbsp;</div>\n",
       "            </div>\n",
       "            <label id=\"7ada6141-20a9-4ea7-976b-e262a3e4bf0e\" style=\"padding-left: 10px;\" text = \"\"/>\n",
       "            "
      ],
      "text/plain": [
       "<IPython.core.display.HTML object>"
      ]
     },
     "metadata": {},
     "output_type": "display_data"
    },
    {
     "data": {
      "text/html": [
       "\n",
       "            <div style=\"float: left; border: 1px solid black; width:500px\">\n",
       "              <div id=\"da819d60-3202-4ccb-bb7a-8c7228246bfc\" style=\"background-color:blue; width:0%\">&nbsp;</div>\n",
       "            </div>\n",
       "            <label id=\"71b3b243-88ea-4df0-8a10-ed146f01e6df\" style=\"padding-left: 10px;\" text = \"\"/>\n",
       "            "
      ],
      "text/plain": [
       "<IPython.core.display.HTML object>"
      ]
     },
     "metadata": {},
     "output_type": "display_data"
    },
    {
     "data": {
      "text/html": [
       "\n",
       "            <div style=\"float: left; border: 1px solid black; width:500px\">\n",
       "              <div id=\"40c58b7a-5d59-4bc4-a790-9bd2e3d29c56\" style=\"background-color:blue; width:0%\">&nbsp;</div>\n",
       "            </div>\n",
       "            <label id=\"5632e827-76ae-4f13-8e06-5be2bef1ee13\" style=\"padding-left: 10px;\" text = \"\"/>\n",
       "            "
      ],
      "text/plain": [
       "<IPython.core.display.HTML object>"
      ]
     },
     "metadata": {},
     "output_type": "display_data"
    },
    {
     "data": {
      "text/html": [
       "\n",
       "            <div style=\"float: left; border: 1px solid black; width:500px\">\n",
       "              <div id=\"868bd556-270a-4f92-9e38-7fed570297b5\" style=\"background-color:blue; width:0%\">&nbsp;</div>\n",
       "            </div>\n",
       "            <label id=\"20ab5c41-c937-4938-b031-646b8e95346c\" style=\"padding-left: 10px;\" text = \"\"/>\n",
       "            "
      ],
      "text/plain": [
       "<IPython.core.display.HTML object>"
      ]
     },
     "metadata": {},
     "output_type": "display_data"
    },
    {
     "data": {
      "text/html": [
       "\n",
       "            <div style=\"float: left; border: 1px solid black; width:500px\">\n",
       "              <div id=\"0ec54224-86ad-44ae-8a2b-967ac4be0d0a\" style=\"background-color:blue; width:0%\">&nbsp;</div>\n",
       "            </div>\n",
       "            <label id=\"655378e3-d92b-4f13-9ba7-6dfc14be7f67\" style=\"padding-left: 10px;\" text = \"\"/>\n",
       "            "
      ],
      "text/plain": [
       "<IPython.core.display.HTML object>"
      ]
     },
     "metadata": {},
     "output_type": "display_data"
    },
    {
     "data": {
      "text/html": [
       "\n",
       "            <div style=\"float: left; border: 1px solid black; width:500px\">\n",
       "              <div id=\"a06a1b76-a04d-451d-b16f-65d19ad3133b\" style=\"background-color:blue; width:0%\">&nbsp;</div>\n",
       "            </div>\n",
       "            <label id=\"aacf0a30-b3d3-4455-a86e-39c97e68e91c\" style=\"padding-left: 10px;\" text = \"\"/>\n",
       "            "
      ],
      "text/plain": [
       "<IPython.core.display.HTML object>"
      ]
     },
     "metadata": {},
     "output_type": "display_data"
    },
    {
     "data": {
      "text/html": [
       "\n",
       "            <div style=\"float: left; border: 1px solid black; width:500px\">\n",
       "              <div id=\"54d79ec7-95bf-47fc-b205-fadb69f08a42\" style=\"background-color:blue; width:0%\">&nbsp;</div>\n",
       "            </div>\n",
       "            <label id=\"27c9febf-dfff-4212-9096-f74902b737ec\" style=\"padding-left: 10px;\" text = \"\"/>\n",
       "            "
      ],
      "text/plain": [
       "<IPython.core.display.HTML object>"
      ]
     },
     "metadata": {},
     "output_type": "display_data"
    },
    {
     "data": {
      "text/html": [
       "\n",
       "            <div style=\"float: left; border: 1px solid black; width:500px\">\n",
       "              <div id=\"9348de24-dbfd-4b33-9649-91ac6164de93\" style=\"background-color:blue; width:0%\">&nbsp;</div>\n",
       "            </div>\n",
       "            <label id=\"b36e535b-1b3e-470d-8b4a-b9f34ffeccb9\" style=\"padding-left: 10px;\" text = \"\"/>\n",
       "            "
      ],
      "text/plain": [
       "<IPython.core.display.HTML object>"
      ]
     },
     "metadata": {},
     "output_type": "display_data"
    },
    {
     "data": {
      "text/html": [
       "\n",
       "            <div style=\"float: left; border: 1px solid black; width:500px\">\n",
       "              <div id=\"3b706220-e627-488b-991a-cc31da8828bc\" style=\"background-color:blue; width:0%\">&nbsp;</div>\n",
       "            </div>\n",
       "            <label id=\"bd09ad50-b207-49cb-b2c2-2491882554b2\" style=\"padding-left: 10px;\" text = \"\"/>\n",
       "            "
      ],
      "text/plain": [
       "<IPython.core.display.HTML object>"
      ]
     },
     "metadata": {},
     "output_type": "display_data"
    },
    {
     "data": {
      "text/html": [
       "\n",
       "            <div style=\"float: left; border: 1px solid black; width:500px\">\n",
       "              <div id=\"020992db-607f-43e0-a67f-21f2cd77c4dc\" style=\"background-color:blue; width:0%\">&nbsp;</div>\n",
       "            </div>\n",
       "            <label id=\"23a64367-485b-458b-a8d6-13c12ac6e6e2\" style=\"padding-left: 10px;\" text = \"\"/>\n",
       "            "
      ],
      "text/plain": [
       "<IPython.core.display.HTML object>"
      ]
     },
     "metadata": {},
     "output_type": "display_data"
    },
    {
     "data": {
      "text/html": [
       "\n",
       "            <div style=\"float: left; border: 1px solid black; width:500px\">\n",
       "              <div id=\"62fa9630-efb0-4d1c-b667-109295bbb8fa\" style=\"background-color:blue; width:0%\">&nbsp;</div>\n",
       "            </div>\n",
       "            <label id=\"4fbfa4ff-d336-458a-b576-2f76c4bec9e4\" style=\"padding-left: 10px;\" text = \"\"/>\n",
       "            "
      ],
      "text/plain": [
       "<IPython.core.display.HTML object>"
      ]
     },
     "metadata": {},
     "output_type": "display_data"
    },
    {
     "data": {
      "text/html": [
       "\n",
       "            <div style=\"float: left; border: 1px solid black; width:500px\">\n",
       "              <div id=\"ed886c2d-d832-4a8f-b633-0e78f8a67120\" style=\"background-color:blue; width:0%\">&nbsp;</div>\n",
       "            </div>\n",
       "            <label id=\"968fc814-64bb-40e4-950c-88da9d4f59ac\" style=\"padding-left: 10px;\" text = \"\"/>\n",
       "            "
      ],
      "text/plain": [
       "<IPython.core.display.HTML object>"
      ]
     },
     "metadata": {},
     "output_type": "display_data"
    },
    {
     "data": {
      "text/html": [
       "\n",
       "            <div style=\"float: left; border: 1px solid black; width:500px\">\n",
       "              <div id=\"511c7243-c5f4-4ca1-97f0-27ba51f0578b\" style=\"background-color:blue; width:0%\">&nbsp;</div>\n",
       "            </div>\n",
       "            <label id=\"86f6af72-842e-48d0-9a83-4e988a640dbf\" style=\"padding-left: 10px;\" text = \"\"/>\n",
       "            "
      ],
      "text/plain": [
       "<IPython.core.display.HTML object>"
      ]
     },
     "metadata": {},
     "output_type": "display_data"
    },
    {
     "data": {
      "text/html": [
       "\n",
       "            <div style=\"float: left; border: 1px solid black; width:500px\">\n",
       "              <div id=\"70aa35ba-34e3-4252-9f80-49cfd9535ee6\" style=\"background-color:blue; width:0%\">&nbsp;</div>\n",
       "            </div>\n",
       "            <label id=\"e2ed3f8b-f19b-4f2c-a640-56056a3123d1\" style=\"padding-left: 10px;\" text = \"\"/>\n",
       "            "
      ],
      "text/plain": [
       "<IPython.core.display.HTML object>"
      ]
     },
     "metadata": {},
     "output_type": "display_data"
    },
    {
     "name": "stdout",
     "output_type": "stream",
     "text": [
      "Steelers\n",
      "Ravens\n"
     ]
    },
    {
     "data": {
      "text/html": [
       "\n",
       "            <div style=\"float: left; border: 1px solid black; width:500px\">\n",
       "              <div id=\"425b616b-6f15-4e9c-865b-8c83f81f1f2e\" style=\"background-color:blue; width:0%\">&nbsp;</div>\n",
       "            </div>\n",
       "            <label id=\"5cfbb1e6-f9e5-42e1-8fb1-118e30facbc1\" style=\"padding-left: 10px;\" text = \"\"/>\n",
       "            "
      ],
      "text/plain": [
       "<IPython.core.display.HTML object>"
      ]
     },
     "metadata": {},
     "output_type": "display_data"
    },
    {
     "data": {
      "text/html": [
       "\n",
       "            <div style=\"float: left; border: 1px solid black; width:500px\">\n",
       "              <div id=\"39a4475c-383e-46eb-ae6d-bb0f2e7573ce\" style=\"background-color:blue; width:0%\">&nbsp;</div>\n",
       "            </div>\n",
       "            <label id=\"876e4bc6-7909-4105-a677-61c9b208c4df\" style=\"padding-left: 10px;\" text = \"\"/>\n",
       "            "
      ],
      "text/plain": [
       "<IPython.core.display.HTML object>"
      ]
     },
     "metadata": {},
     "output_type": "display_data"
    },
    {
     "data": {
      "text/html": [
       "\n",
       "            <div style=\"float: left; border: 1px solid black; width:500px\">\n",
       "              <div id=\"ecbc6442-612b-422d-aedc-760921a63e21\" style=\"background-color:blue; width:0%\">&nbsp;</div>\n",
       "            </div>\n",
       "            <label id=\"928b78c7-4a25-40b3-9edd-dfdb3ccd2194\" style=\"padding-left: 10px;\" text = \"\"/>\n",
       "            "
      ],
      "text/plain": [
       "<IPython.core.display.HTML object>"
      ]
     },
     "metadata": {},
     "output_type": "display_data"
    },
    {
     "data": {
      "text/html": [
       "\n",
       "            <div style=\"float: left; border: 1px solid black; width:500px\">\n",
       "              <div id=\"0252db77-ac4e-44ec-b027-1f15ffa002da\" style=\"background-color:blue; width:0%\">&nbsp;</div>\n",
       "            </div>\n",
       "            <label id=\"8732ba09-60c0-4faf-8eac-084e8afb5bd9\" style=\"padding-left: 10px;\" text = \"\"/>\n",
       "            "
      ],
      "text/plain": [
       "<IPython.core.display.HTML object>"
      ]
     },
     "metadata": {},
     "output_type": "display_data"
    },
    {
     "data": {
      "text/html": [
       "\n",
       "            <div style=\"float: left; border: 1px solid black; width:500px\">\n",
       "              <div id=\"bd670d9c-caf3-46e5-b87e-264dd06c5963\" style=\"background-color:blue; width:0%\">&nbsp;</div>\n",
       "            </div>\n",
       "            <label id=\"e7fe9021-ea42-4b9a-b5fa-d4cc344cf68b\" style=\"padding-left: 10px;\" text = \"\"/>\n",
       "            "
      ],
      "text/plain": [
       "<IPython.core.display.HTML object>"
      ]
     },
     "metadata": {},
     "output_type": "display_data"
    },
    {
     "data": {
      "text/html": [
       "\n",
       "            <div style=\"float: left; border: 1px solid black; width:500px\">\n",
       "              <div id=\"0f7b4573-5607-4cbd-8825-49d74e41045d\" style=\"background-color:blue; width:0%\">&nbsp;</div>\n",
       "            </div>\n",
       "            <label id=\"218abc20-c671-4c4a-b7cd-1cb0d4fe0012\" style=\"padding-left: 10px;\" text = \"\"/>\n",
       "            "
      ],
      "text/plain": [
       "<IPython.core.display.HTML object>"
      ]
     },
     "metadata": {},
     "output_type": "display_data"
    },
    {
     "data": {
      "text/html": [
       "\n",
       "            <div style=\"float: left; border: 1px solid black; width:500px\">\n",
       "              <div id=\"60bae655-9522-4b8f-b2d1-2f80ff2dd108\" style=\"background-color:blue; width:0%\">&nbsp;</div>\n",
       "            </div>\n",
       "            <label id=\"8939a41e-9957-4310-90d3-1b90cee69784\" style=\"padding-left: 10px;\" text = \"\"/>\n",
       "            "
      ],
      "text/plain": [
       "<IPython.core.display.HTML object>"
      ]
     },
     "metadata": {},
     "output_type": "display_data"
    },
    {
     "data": {
      "text/html": [
       "\n",
       "            <div style=\"float: left; border: 1px solid black; width:500px\">\n",
       "              <div id=\"6c89ce16-4506-4f6d-8f1a-56e35e8aeb69\" style=\"background-color:blue; width:0%\">&nbsp;</div>\n",
       "            </div>\n",
       "            <label id=\"d6511ce1-eb0e-465a-a59d-9862d25cd43b\" style=\"padding-left: 10px;\" text = \"\"/>\n",
       "            "
      ],
      "text/plain": [
       "<IPython.core.display.HTML object>"
      ]
     },
     "metadata": {},
     "output_type": "display_data"
    },
    {
     "data": {
      "text/html": [
       "\n",
       "            <div style=\"float: left; border: 1px solid black; width:500px\">\n",
       "              <div id=\"a81b06bb-6787-4726-93e4-4f651d511fff\" style=\"background-color:blue; width:0%\">&nbsp;</div>\n",
       "            </div>\n",
       "            <label id=\"6af35df0-2dfb-462c-9e2a-84e7da1a98ad\" style=\"padding-left: 10px;\" text = \"\"/>\n",
       "            "
      ],
      "text/plain": [
       "<IPython.core.display.HTML object>"
      ]
     },
     "metadata": {},
     "output_type": "display_data"
    },
    {
     "data": {
      "text/html": [
       "\n",
       "            <div style=\"float: left; border: 1px solid black; width:500px\">\n",
       "              <div id=\"c5a56300-fa93-4e76-a907-3ad29012c98d\" style=\"background-color:blue; width:0%\">&nbsp;</div>\n",
       "            </div>\n",
       "            <label id=\"8f8743f1-086a-45b3-ae90-d5909ca4665f\" style=\"padding-left: 10px;\" text = \"\"/>\n",
       "            "
      ],
      "text/plain": [
       "<IPython.core.display.HTML object>"
      ]
     },
     "metadata": {},
     "output_type": "display_data"
    },
    {
     "data": {
      "text/html": [
       "\n",
       "            <div style=\"float: left; border: 1px solid black; width:500px\">\n",
       "              <div id=\"7681a78e-e17d-4737-8ddd-d9ad6f1e75dc\" style=\"background-color:blue; width:0%\">&nbsp;</div>\n",
       "            </div>\n",
       "            <label id=\"98464f4f-780a-4d3e-abd0-cfc0a10ee750\" style=\"padding-left: 10px;\" text = \"\"/>\n",
       "            "
      ],
      "text/plain": [
       "<IPython.core.display.HTML object>"
      ]
     },
     "metadata": {},
     "output_type": "display_data"
    },
    {
     "data": {
      "text/html": [
       "\n",
       "            <div style=\"float: left; border: 1px solid black; width:500px\">\n",
       "              <div id=\"ed7b9175-4c4d-4199-8448-117574c5ac50\" style=\"background-color:blue; width:0%\">&nbsp;</div>\n",
       "            </div>\n",
       "            <label id=\"5a7ce14b-95ea-45c1-be12-4298f208f9ca\" style=\"padding-left: 10px;\" text = \"\"/>\n",
       "            "
      ],
      "text/plain": [
       "<IPython.core.display.HTML object>"
      ]
     },
     "metadata": {},
     "output_type": "display_data"
    },
    {
     "data": {
      "text/html": [
       "\n",
       "            <div style=\"float: left; border: 1px solid black; width:500px\">\n",
       "              <div id=\"2c9cae3e-189b-4cae-b664-bf279e54e765\" style=\"background-color:blue; width:0%\">&nbsp;</div>\n",
       "            </div>\n",
       "            <label id=\"7a22f4b9-ffec-45e0-a1c1-78f4b281a48d\" style=\"padding-left: 10px;\" text = \"\"/>\n",
       "            "
      ],
      "text/plain": [
       "<IPython.core.display.HTML object>"
      ]
     },
     "metadata": {},
     "output_type": "display_data"
    },
    {
     "data": {
      "text/html": [
       "\n",
       "            <div style=\"float: left; border: 1px solid black; width:500px\">\n",
       "              <div id=\"8f7e0d26-c349-4a30-b16c-c9c8e4d9a287\" style=\"background-color:blue; width:0%\">&nbsp;</div>\n",
       "            </div>\n",
       "            <label id=\"f7f135e3-571b-4764-b57e-5af461167f85\" style=\"padding-left: 10px;\" text = \"\"/>\n",
       "            "
      ],
      "text/plain": [
       "<IPython.core.display.HTML object>"
      ]
     },
     "metadata": {},
     "output_type": "display_data"
    },
    {
     "data": {
      "text/html": [
       "\n",
       "            <div style=\"float: left; border: 1px solid black; width:500px\">\n",
       "              <div id=\"d18ec60d-0563-46c4-96ee-34fa369fcfc6\" style=\"background-color:blue; width:0%\">&nbsp;</div>\n",
       "            </div>\n",
       "            <label id=\"eddd001b-fa05-44f0-9b3c-8d78be0e8262\" style=\"padding-left: 10px;\" text = \"\"/>\n",
       "            "
      ],
      "text/plain": [
       "<IPython.core.display.HTML object>"
      ]
     },
     "metadata": {},
     "output_type": "display_data"
    },
    {
     "data": {
      "text/html": [
       "\n",
       "            <div style=\"float: left; border: 1px solid black; width:500px\">\n",
       "              <div id=\"4b938959-29bc-431e-b603-0ce5bc8296cb\" style=\"background-color:blue; width:0%\">&nbsp;</div>\n",
       "            </div>\n",
       "            <label id=\"8705c41e-2048-44fd-9992-c852209f380b\" style=\"padding-left: 10px;\" text = \"\"/>\n",
       "            "
      ],
      "text/plain": [
       "<IPython.core.display.HTML object>"
      ]
     },
     "metadata": {},
     "output_type": "display_data"
    },
    {
     "data": {
      "text/html": [
       "\n",
       "            <div style=\"float: left; border: 1px solid black; width:500px\">\n",
       "              <div id=\"faf90374-bc9a-4ce6-a5c6-b86362e3a846\" style=\"background-color:blue; width:0%\">&nbsp;</div>\n",
       "            </div>\n",
       "            <label id=\"35df2502-d395-40a2-a552-202229d0dd23\" style=\"padding-left: 10px;\" text = \"\"/>\n",
       "            "
      ],
      "text/plain": [
       "<IPython.core.display.HTML object>"
      ]
     },
     "metadata": {},
     "output_type": "display_data"
    },
    {
     "data": {
      "text/html": [
       "\n",
       "            <div style=\"float: left; border: 1px solid black; width:500px\">\n",
       "              <div id=\"9179c35d-2227-4118-b110-4ab215cc4cd0\" style=\"background-color:blue; width:0%\">&nbsp;</div>\n",
       "            </div>\n",
       "            <label id=\"2933b8eb-119d-4f3f-bb32-7c6b60ca303b\" style=\"padding-left: 10px;\" text = \"\"/>\n",
       "            "
      ],
      "text/plain": [
       "<IPython.core.display.HTML object>"
      ]
     },
     "metadata": {},
     "output_type": "display_data"
    },
    {
     "name": "stdout",
     "output_type": "stream",
     "text": [
      "Football Team\n",
      "Giants\n"
     ]
    },
    {
     "data": {
      "text/html": [
       "\n",
       "            <div style=\"float: left; border: 1px solid black; width:500px\">\n",
       "              <div id=\"61d32d4b-7445-4f26-adb1-d441c0c0ef52\" style=\"background-color:blue; width:0%\">&nbsp;</div>\n",
       "            </div>\n",
       "            <label id=\"aa7e4a5f-bd24-4adb-9f47-020147bc6175\" style=\"padding-left: 10px;\" text = \"\"/>\n",
       "            "
      ],
      "text/plain": [
       "<IPython.core.display.HTML object>"
      ]
     },
     "metadata": {},
     "output_type": "display_data"
    },
    {
     "data": {
      "text/html": [
       "\n",
       "            <div style=\"float: left; border: 1px solid black; width:500px\">\n",
       "              <div id=\"2b265f79-618c-4083-bd5e-0c5c4a1b56d6\" style=\"background-color:blue; width:0%\">&nbsp;</div>\n",
       "            </div>\n",
       "            <label id=\"f8955a33-15dd-43c7-8630-769130dda997\" style=\"padding-left: 10px;\" text = \"\"/>\n",
       "            "
      ],
      "text/plain": [
       "<IPython.core.display.HTML object>"
      ]
     },
     "metadata": {},
     "output_type": "display_data"
    },
    {
     "data": {
      "text/html": [
       "\n",
       "            <div style=\"float: left; border: 1px solid black; width:500px\">\n",
       "              <div id=\"e76295b7-c538-455d-9922-e17314a4b385\" style=\"background-color:blue; width:0%\">&nbsp;</div>\n",
       "            </div>\n",
       "            <label id=\"57f35955-401f-41b6-97c0-1f82bc46d2b5\" style=\"padding-left: 10px;\" text = \"\"/>\n",
       "            "
      ],
      "text/plain": [
       "<IPython.core.display.HTML object>"
      ]
     },
     "metadata": {},
     "output_type": "display_data"
    },
    {
     "data": {
      "text/html": [
       "\n",
       "            <div style=\"float: left; border: 1px solid black; width:500px\">\n",
       "              <div id=\"f300892a-28b8-4c7f-8dd2-6ee60a7462c6\" style=\"background-color:blue; width:0%\">&nbsp;</div>\n",
       "            </div>\n",
       "            <label id=\"7b364cef-3d18-4ea5-8ecc-344a12106686\" style=\"padding-left: 10px;\" text = \"\"/>\n",
       "            "
      ],
      "text/plain": [
       "<IPython.core.display.HTML object>"
      ]
     },
     "metadata": {},
     "output_type": "display_data"
    },
    {
     "data": {
      "text/html": [
       "\n",
       "            <div style=\"float: left; border: 1px solid black; width:500px\">\n",
       "              <div id=\"d78de766-15e1-45ee-8c02-acedfbb07260\" style=\"background-color:blue; width:0%\">&nbsp;</div>\n",
       "            </div>\n",
       "            <label id=\"5cbfe6fa-cf93-480f-96d7-b8ee6334effb\" style=\"padding-left: 10px;\" text = \"\"/>\n",
       "            "
      ],
      "text/plain": [
       "<IPython.core.display.HTML object>"
      ]
     },
     "metadata": {},
     "output_type": "display_data"
    },
    {
     "data": {
      "text/html": [
       "\n",
       "            <div style=\"float: left; border: 1px solid black; width:500px\">\n",
       "              <div id=\"97dd56a6-7c98-4f94-9c6d-bfdfdc389d05\" style=\"background-color:blue; width:0%\">&nbsp;</div>\n",
       "            </div>\n",
       "            <label id=\"34a8a87c-00a9-443c-b3cd-76a51065dcef\" style=\"padding-left: 10px;\" text = \"\"/>\n",
       "            "
      ],
      "text/plain": [
       "<IPython.core.display.HTML object>"
      ]
     },
     "metadata": {},
     "output_type": "display_data"
    },
    {
     "data": {
      "text/html": [
       "\n",
       "            <div style=\"float: left; border: 1px solid black; width:500px\">\n",
       "              <div id=\"7e3e08d0-3bf3-4938-9942-9125df75a0af\" style=\"background-color:blue; width:0%\">&nbsp;</div>\n",
       "            </div>\n",
       "            <label id=\"0f0e10b9-a10f-4f07-80c0-46725e09d38f\" style=\"padding-left: 10px;\" text = \"\"/>\n",
       "            "
      ],
      "text/plain": [
       "<IPython.core.display.HTML object>"
      ]
     },
     "metadata": {},
     "output_type": "display_data"
    },
    {
     "data": {
      "text/html": [
       "\n",
       "            <div style=\"float: left; border: 1px solid black; width:500px\">\n",
       "              <div id=\"3eb7ea68-d94a-48ae-b42a-7088a7ddac77\" style=\"background-color:blue; width:0%\">&nbsp;</div>\n",
       "            </div>\n",
       "            <label id=\"556cf687-b290-4b4f-befa-b2e584bd56f2\" style=\"padding-left: 10px;\" text = \"\"/>\n",
       "            "
      ],
      "text/plain": [
       "<IPython.core.display.HTML object>"
      ]
     },
     "metadata": {},
     "output_type": "display_data"
    },
    {
     "data": {
      "text/html": [
       "\n",
       "            <div style=\"float: left; border: 1px solid black; width:500px\">\n",
       "              <div id=\"8d5ae900-0550-447a-af81-cab2378ad441\" style=\"background-color:blue; width:0%\">&nbsp;</div>\n",
       "            </div>\n",
       "            <label id=\"85aed386-2bdc-4c68-aebb-181101e2d170\" style=\"padding-left: 10px;\" text = \"\"/>\n",
       "            "
      ],
      "text/plain": [
       "<IPython.core.display.HTML object>"
      ]
     },
     "metadata": {},
     "output_type": "display_data"
    },
    {
     "data": {
      "text/html": [
       "\n",
       "            <div style=\"float: left; border: 1px solid black; width:500px\">\n",
       "              <div id=\"c208956f-8f7e-4d97-aaec-80944ac8c6b2\" style=\"background-color:blue; width:0%\">&nbsp;</div>\n",
       "            </div>\n",
       "            <label id=\"10258423-b0d2-41f0-a75a-de8099c71db8\" style=\"padding-left: 10px;\" text = \"\"/>\n",
       "            "
      ],
      "text/plain": [
       "<IPython.core.display.HTML object>"
      ]
     },
     "metadata": {},
     "output_type": "display_data"
    },
    {
     "data": {
      "text/html": [
       "\n",
       "            <div style=\"float: left; border: 1px solid black; width:500px\">\n",
       "              <div id=\"2d2c2c2c-b5e9-4de9-a03a-7f5bff25d48d\" style=\"background-color:blue; width:0%\">&nbsp;</div>\n",
       "            </div>\n",
       "            <label id=\"a3a7a36b-8bce-4dcf-bbce-4ddf173fb87b\" style=\"padding-left: 10px;\" text = \"\"/>\n",
       "            "
      ],
      "text/plain": [
       "<IPython.core.display.HTML object>"
      ]
     },
     "metadata": {},
     "output_type": "display_data"
    },
    {
     "data": {
      "text/html": [
       "\n",
       "            <div style=\"float: left; border: 1px solid black; width:500px\">\n",
       "              <div id=\"564e5223-a1de-41db-9fab-99d0936d677b\" style=\"background-color:blue; width:0%\">&nbsp;</div>\n",
       "            </div>\n",
       "            <label id=\"f606c09e-ea72-4890-9088-b4d0e46c74aa\" style=\"padding-left: 10px;\" text = \"\"/>\n",
       "            "
      ],
      "text/plain": [
       "<IPython.core.display.HTML object>"
      ]
     },
     "metadata": {},
     "output_type": "display_data"
    },
    {
     "data": {
      "text/html": [
       "\n",
       "            <div style=\"float: left; border: 1px solid black; width:500px\">\n",
       "              <div id=\"20a96317-0bbf-46bc-aaac-2117d5f024ac\" style=\"background-color:blue; width:0%\">&nbsp;</div>\n",
       "            </div>\n",
       "            <label id=\"746d7c6e-b474-49db-8d86-ea7b5adeff16\" style=\"padding-left: 10px;\" text = \"\"/>\n",
       "            "
      ],
      "text/plain": [
       "<IPython.core.display.HTML object>"
      ]
     },
     "metadata": {},
     "output_type": "display_data"
    },
    {
     "data": {
      "text/html": [
       "\n",
       "            <div style=\"float: left; border: 1px solid black; width:500px\">\n",
       "              <div id=\"d8af94d0-d5ca-4db7-8a95-3d3090ca666b\" style=\"background-color:blue; width:0%\">&nbsp;</div>\n",
       "            </div>\n",
       "            <label id=\"1703e361-b4b9-4165-9326-3dfaf1a6da73\" style=\"padding-left: 10px;\" text = \"\"/>\n",
       "            "
      ],
      "text/plain": [
       "<IPython.core.display.HTML object>"
      ]
     },
     "metadata": {},
     "output_type": "display_data"
    },
    {
     "data": {
      "text/html": [
       "\n",
       "            <div style=\"float: left; border: 1px solid black; width:500px\">\n",
       "              <div id=\"76838da4-8236-4cd7-8630-66b0881de41f\" style=\"background-color:blue; width:0%\">&nbsp;</div>\n",
       "            </div>\n",
       "            <label id=\"7d8e6f75-8070-490c-9cf4-69849470a96f\" style=\"padding-left: 10px;\" text = \"\"/>\n",
       "            "
      ],
      "text/plain": [
       "<IPython.core.display.HTML object>"
      ]
     },
     "metadata": {},
     "output_type": "display_data"
    },
    {
     "data": {
      "text/html": [
       "\n",
       "            <div style=\"float: left; border: 1px solid black; width:500px\">\n",
       "              <div id=\"f290f902-08a7-4679-be62-bcdb28649eed\" style=\"background-color:blue; width:0%\">&nbsp;</div>\n",
       "            </div>\n",
       "            <label id=\"1c452c94-2455-4470-9ed0-32869826cf93\" style=\"padding-left: 10px;\" text = \"\"/>\n",
       "            "
      ],
      "text/plain": [
       "<IPython.core.display.HTML object>"
      ]
     },
     "metadata": {},
     "output_type": "display_data"
    },
    {
     "data": {
      "text/html": [
       "\n",
       "            <div style=\"float: left; border: 1px solid black; width:500px\">\n",
       "              <div id=\"def375cf-4130-4610-8316-46d44801ef09\" style=\"background-color:blue; width:0%\">&nbsp;</div>\n",
       "            </div>\n",
       "            <label id=\"770c6b70-33c1-41e0-aa79-0cd4519ce2c7\" style=\"padding-left: 10px;\" text = \"\"/>\n",
       "            "
      ],
      "text/plain": [
       "<IPython.core.display.HTML object>"
      ]
     },
     "metadata": {},
     "output_type": "display_data"
    },
    {
     "data": {
      "text/html": [
       "\n",
       "            <div style=\"float: left; border: 1px solid black; width:500px\">\n",
       "              <div id=\"f6e4e48b-b04a-4504-b3fa-0f52357c6669\" style=\"background-color:blue; width:0%\">&nbsp;</div>\n",
       "            </div>\n",
       "            <label id=\"87c3b84a-e326-48e1-8625-98e0241b9f61\" style=\"padding-left: 10px;\" text = \"\"/>\n",
       "            "
      ],
      "text/plain": [
       "<IPython.core.display.HTML object>"
      ]
     },
     "metadata": {},
     "output_type": "display_data"
    },
    {
     "name": "stdout",
     "output_type": "stream",
     "text": [
      "Packers\n",
      "Lions\n"
     ]
    },
    {
     "data": {
      "text/html": [
       "\n",
       "            <div style=\"float: left; border: 1px solid black; width:500px\">\n",
       "              <div id=\"028a03cd-752e-4213-b533-5dd54538d344\" style=\"background-color:blue; width:0%\">&nbsp;</div>\n",
       "            </div>\n",
       "            <label id=\"61d32145-9674-4afb-b740-bffba6275f43\" style=\"padding-left: 10px;\" text = \"\"/>\n",
       "            "
      ],
      "text/plain": [
       "<IPython.core.display.HTML object>"
      ]
     },
     "metadata": {},
     "output_type": "display_data"
    },
    {
     "data": {
      "text/html": [
       "\n",
       "            <div style=\"float: left; border: 1px solid black; width:500px\">\n",
       "              <div id=\"e037fe6b-149a-4a4c-b6d8-c6dd7a22fd34\" style=\"background-color:blue; width:0%\">&nbsp;</div>\n",
       "            </div>\n",
       "            <label id=\"8b33241a-77c4-406e-b483-fe0350223173\" style=\"padding-left: 10px;\" text = \"\"/>\n",
       "            "
      ],
      "text/plain": [
       "<IPython.core.display.HTML object>"
      ]
     },
     "metadata": {},
     "output_type": "display_data"
    },
    {
     "data": {
      "text/html": [
       "\n",
       "            <div style=\"float: left; border: 1px solid black; width:500px\">\n",
       "              <div id=\"28e0d690-0213-4771-8ada-5730757dbcba\" style=\"background-color:blue; width:0%\">&nbsp;</div>\n",
       "            </div>\n",
       "            <label id=\"1f35af67-eb29-426e-99db-f988ec32495b\" style=\"padding-left: 10px;\" text = \"\"/>\n",
       "            "
      ],
      "text/plain": [
       "<IPython.core.display.HTML object>"
      ]
     },
     "metadata": {},
     "output_type": "display_data"
    },
    {
     "data": {
      "text/html": [
       "\n",
       "            <div style=\"float: left; border: 1px solid black; width:500px\">\n",
       "              <div id=\"c4ecceb8-14c7-4b37-87d7-c438cc8761c8\" style=\"background-color:blue; width:0%\">&nbsp;</div>\n",
       "            </div>\n",
       "            <label id=\"a0b9eaa0-c5ea-45d7-b9d9-55c960dfe97b\" style=\"padding-left: 10px;\" text = \"\"/>\n",
       "            "
      ],
      "text/plain": [
       "<IPython.core.display.HTML object>"
      ]
     },
     "metadata": {},
     "output_type": "display_data"
    },
    {
     "data": {
      "text/html": [
       "\n",
       "            <div style=\"float: left; border: 1px solid black; width:500px\">\n",
       "              <div id=\"cf6db838-0d80-4c0a-ac47-50404fe587a0\" style=\"background-color:blue; width:0%\">&nbsp;</div>\n",
       "            </div>\n",
       "            <label id=\"06b19518-9e5f-4b88-98e4-3fd4afd50d44\" style=\"padding-left: 10px;\" text = \"\"/>\n",
       "            "
      ],
      "text/plain": [
       "<IPython.core.display.HTML object>"
      ]
     },
     "metadata": {},
     "output_type": "display_data"
    },
    {
     "data": {
      "text/html": [
       "\n",
       "            <div style=\"float: left; border: 1px solid black; width:500px\">\n",
       "              <div id=\"e0555e53-78db-4d26-8589-855fe91ae2c2\" style=\"background-color:blue; width:0%\">&nbsp;</div>\n",
       "            </div>\n",
       "            <label id=\"399cdb15-88cb-4508-8633-16ddab0a66fe\" style=\"padding-left: 10px;\" text = \"\"/>\n",
       "            "
      ],
      "text/plain": [
       "<IPython.core.display.HTML object>"
      ]
     },
     "metadata": {},
     "output_type": "display_data"
    },
    {
     "data": {
      "text/html": [
       "\n",
       "            <div style=\"float: left; border: 1px solid black; width:500px\">\n",
       "              <div id=\"de4da3b3-c411-4342-8d5a-816b26271636\" style=\"background-color:blue; width:0%\">&nbsp;</div>\n",
       "            </div>\n",
       "            <label id=\"75fddc50-141b-4153-a7a3-4a7f7ac83d4e\" style=\"padding-left: 10px;\" text = \"\"/>\n",
       "            "
      ],
      "text/plain": [
       "<IPython.core.display.HTML object>"
      ]
     },
     "metadata": {},
     "output_type": "display_data"
    },
    {
     "data": {
      "text/html": [
       "\n",
       "            <div style=\"float: left; border: 1px solid black; width:500px\">\n",
       "              <div id=\"614f4244-b100-466f-b44d-88c170428701\" style=\"background-color:blue; width:0%\">&nbsp;</div>\n",
       "            </div>\n",
       "            <label id=\"1572be28-5232-472d-aef9-c1d633489a6a\" style=\"padding-left: 10px;\" text = \"\"/>\n",
       "            "
      ],
      "text/plain": [
       "<IPython.core.display.HTML object>"
      ]
     },
     "metadata": {},
     "output_type": "display_data"
    },
    {
     "data": {
      "text/html": [
       "\n",
       "            <div style=\"float: left; border: 1px solid black; width:500px\">\n",
       "              <div id=\"664fcf3f-cb59-4c4d-bf21-2ececde1e5c9\" style=\"background-color:blue; width:0%\">&nbsp;</div>\n",
       "            </div>\n",
       "            <label id=\"cd3bec0b-2c4c-4846-8120-912a7446faff\" style=\"padding-left: 10px;\" text = \"\"/>\n",
       "            "
      ],
      "text/plain": [
       "<IPython.core.display.HTML object>"
      ]
     },
     "metadata": {},
     "output_type": "display_data"
    },
    {
     "data": {
      "text/html": [
       "\n",
       "            <div style=\"float: left; border: 1px solid black; width:500px\">\n",
       "              <div id=\"6f1f62cf-e333-458a-8258-cf75b874238c\" style=\"background-color:blue; width:0%\">&nbsp;</div>\n",
       "            </div>\n",
       "            <label id=\"23ff8a7f-b4e3-4355-a9a1-67e19e5f5f7b\" style=\"padding-left: 10px;\" text = \"\"/>\n",
       "            "
      ],
      "text/plain": [
       "<IPython.core.display.HTML object>"
      ]
     },
     "metadata": {},
     "output_type": "display_data"
    },
    {
     "data": {
      "text/html": [
       "\n",
       "            <div style=\"float: left; border: 1px solid black; width:500px\">\n",
       "              <div id=\"99e6e0d6-4456-4952-b279-2e57b96ae545\" style=\"background-color:blue; width:0%\">&nbsp;</div>\n",
       "            </div>\n",
       "            <label id=\"de4fd84d-8731-4ff8-935d-746fe88294ed\" style=\"padding-left: 10px;\" text = \"\"/>\n",
       "            "
      ],
      "text/plain": [
       "<IPython.core.display.HTML object>"
      ]
     },
     "metadata": {},
     "output_type": "display_data"
    },
    {
     "data": {
      "text/html": [
       "\n",
       "            <div style=\"float: left; border: 1px solid black; width:500px\">\n",
       "              <div id=\"8d5a3dc9-91d9-4b3a-80fd-abad51bb630e\" style=\"background-color:blue; width:0%\">&nbsp;</div>\n",
       "            </div>\n",
       "            <label id=\"3a9c2f1c-439d-4f45-9889-a48b61a2ca9c\" style=\"padding-left: 10px;\" text = \"\"/>\n",
       "            "
      ],
      "text/plain": [
       "<IPython.core.display.HTML object>"
      ]
     },
     "metadata": {},
     "output_type": "display_data"
    },
    {
     "data": {
      "text/html": [
       "\n",
       "            <div style=\"float: left; border: 1px solid black; width:500px\">\n",
       "              <div id=\"5f8eaf3b-7203-41d2-9bf0-a771be5a7cef\" style=\"background-color:blue; width:0%\">&nbsp;</div>\n",
       "            </div>\n",
       "            <label id=\"142cd30d-239a-4b04-b929-3d7769b5b271\" style=\"padding-left: 10px;\" text = \"\"/>\n",
       "            "
      ],
      "text/plain": [
       "<IPython.core.display.HTML object>"
      ]
     },
     "metadata": {},
     "output_type": "display_data"
    },
    {
     "data": {
      "text/html": [
       "\n",
       "            <div style=\"float: left; border: 1px solid black; width:500px\">\n",
       "              <div id=\"caa3d76d-db8c-4b6e-871b-c22ddc3751f7\" style=\"background-color:blue; width:0%\">&nbsp;</div>\n",
       "            </div>\n",
       "            <label id=\"aa255cbb-a5d5-4d22-b749-0f168c0af2de\" style=\"padding-left: 10px;\" text = \"\"/>\n",
       "            "
      ],
      "text/plain": [
       "<IPython.core.display.HTML object>"
      ]
     },
     "metadata": {},
     "output_type": "display_data"
    },
    {
     "data": {
      "text/html": [
       "\n",
       "            <div style=\"float: left; border: 1px solid black; width:500px\">\n",
       "              <div id=\"3f0bb5b3-059c-44cd-a429-2103ef912e7e\" style=\"background-color:blue; width:0%\">&nbsp;</div>\n",
       "            </div>\n",
       "            <label id=\"4d6e2865-8ccd-4017-a537-3c51a07d880a\" style=\"padding-left: 10px;\" text = \"\"/>\n",
       "            "
      ],
      "text/plain": [
       "<IPython.core.display.HTML object>"
      ]
     },
     "metadata": {},
     "output_type": "display_data"
    },
    {
     "data": {
      "text/html": [
       "\n",
       "            <div style=\"float: left; border: 1px solid black; width:500px\">\n",
       "              <div id=\"71278b93-acde-4ca0-a032-31f14f9035c3\" style=\"background-color:blue; width:0%\">&nbsp;</div>\n",
       "            </div>\n",
       "            <label id=\"0bb19c4e-fc2a-4454-8dbf-6349d7317733\" style=\"padding-left: 10px;\" text = \"\"/>\n",
       "            "
      ],
      "text/plain": [
       "<IPython.core.display.HTML object>"
      ]
     },
     "metadata": {},
     "output_type": "display_data"
    },
    {
     "data": {
      "text/html": [
       "\n",
       "            <div style=\"float: left; border: 1px solid black; width:500px\">\n",
       "              <div id=\"691db94a-daca-48d2-acd1-8c28cdfc29e3\" style=\"background-color:blue; width:0%\">&nbsp;</div>\n",
       "            </div>\n",
       "            <label id=\"c4159693-9567-43a7-a7b7-65a75a715fde\" style=\"padding-left: 10px;\" text = \"\"/>\n",
       "            "
      ],
      "text/plain": [
       "<IPython.core.display.HTML object>"
      ]
     },
     "metadata": {},
     "output_type": "display_data"
    },
    {
     "data": {
      "text/html": [
       "\n",
       "            <div style=\"float: left; border: 1px solid black; width:500px\">\n",
       "              <div id=\"8855f0d5-9e19-4be3-a49d-ed6f9a263af3\" style=\"background-color:blue; width:0%\">&nbsp;</div>\n",
       "            </div>\n",
       "            <label id=\"fd8b294f-15e2-4f94-acc9-c798a241cfd1\" style=\"padding-left: 10px;\" text = \"\"/>\n",
       "            "
      ],
      "text/plain": [
       "<IPython.core.display.HTML object>"
      ]
     },
     "metadata": {},
     "output_type": "display_data"
    },
    {
     "name": "stdout",
     "output_type": "stream",
     "text": [
      "Colts\n",
      "Jaguars\n"
     ]
    },
    {
     "data": {
      "text/html": [
       "\n",
       "            <div style=\"float: left; border: 1px solid black; width:500px\">\n",
       "              <div id=\"cc3f6740-2bd8-4d59-b030-659cf6cca207\" style=\"background-color:blue; width:0%\">&nbsp;</div>\n",
       "            </div>\n",
       "            <label id=\"2abd1081-1f08-4777-819c-ab00df1a3196\" style=\"padding-left: 10px;\" text = \"\"/>\n",
       "            "
      ],
      "text/plain": [
       "<IPython.core.display.HTML object>"
      ]
     },
     "metadata": {},
     "output_type": "display_data"
    },
    {
     "data": {
      "text/html": [
       "\n",
       "            <div style=\"float: left; border: 1px solid black; width:500px\">\n",
       "              <div id=\"33fd91f9-3013-4f8c-abad-734bb3609ffc\" style=\"background-color:blue; width:0%\">&nbsp;</div>\n",
       "            </div>\n",
       "            <label id=\"fa13d662-5417-478d-b3ef-f1d442058375\" style=\"padding-left: 10px;\" text = \"\"/>\n",
       "            "
      ],
      "text/plain": [
       "<IPython.core.display.HTML object>"
      ]
     },
     "metadata": {},
     "output_type": "display_data"
    },
    {
     "data": {
      "text/html": [
       "\n",
       "            <div style=\"float: left; border: 1px solid black; width:500px\">\n",
       "              <div id=\"70b79bcf-9c1f-4294-a2e3-70e246d60133\" style=\"background-color:blue; width:0%\">&nbsp;</div>\n",
       "            </div>\n",
       "            <label id=\"3b99aa32-0edd-482b-a5d2-ef04e2b37d89\" style=\"padding-left: 10px;\" text = \"\"/>\n",
       "            "
      ],
      "text/plain": [
       "<IPython.core.display.HTML object>"
      ]
     },
     "metadata": {},
     "output_type": "display_data"
    },
    {
     "data": {
      "text/html": [
       "\n",
       "            <div style=\"float: left; border: 1px solid black; width:500px\">\n",
       "              <div id=\"ebf1d700-a6e8-4ac8-8fc1-b65d07b1870b\" style=\"background-color:blue; width:0%\">&nbsp;</div>\n",
       "            </div>\n",
       "            <label id=\"668b3e66-cddd-484a-b6fe-8ec25b06be9f\" style=\"padding-left: 10px;\" text = \"\"/>\n",
       "            "
      ],
      "text/plain": [
       "<IPython.core.display.HTML object>"
      ]
     },
     "metadata": {},
     "output_type": "display_data"
    },
    {
     "data": {
      "text/html": [
       "\n",
       "            <div style=\"float: left; border: 1px solid black; width:500px\">\n",
       "              <div id=\"2b07f1cf-282c-47da-a7dc-914fa138bc5a\" style=\"background-color:blue; width:0%\">&nbsp;</div>\n",
       "            </div>\n",
       "            <label id=\"40ce7784-7bab-4c9e-be92-b64a07346634\" style=\"padding-left: 10px;\" text = \"\"/>\n",
       "            "
      ],
      "text/plain": [
       "<IPython.core.display.HTML object>"
      ]
     },
     "metadata": {},
     "output_type": "display_data"
    },
    {
     "data": {
      "text/html": [
       "\n",
       "            <div style=\"float: left; border: 1px solid black; width:500px\">\n",
       "              <div id=\"882dfa9b-8712-440e-89c1-30f68dc4e654\" style=\"background-color:blue; width:0%\">&nbsp;</div>\n",
       "            </div>\n",
       "            <label id=\"c1af1465-8c57-45d7-9c56-6b5115f4f677\" style=\"padding-left: 10px;\" text = \"\"/>\n",
       "            "
      ],
      "text/plain": [
       "<IPython.core.display.HTML object>"
      ]
     },
     "metadata": {},
     "output_type": "display_data"
    },
    {
     "data": {
      "text/html": [
       "\n",
       "            <div style=\"float: left; border: 1px solid black; width:500px\">\n",
       "              <div id=\"79930619-86e6-4799-aa8c-896df45c2229\" style=\"background-color:blue; width:0%\">&nbsp;</div>\n",
       "            </div>\n",
       "            <label id=\"cf1cf34a-cc61-41e4-9be3-055146eabf56\" style=\"padding-left: 10px;\" text = \"\"/>\n",
       "            "
      ],
      "text/plain": [
       "<IPython.core.display.HTML object>"
      ]
     },
     "metadata": {},
     "output_type": "display_data"
    },
    {
     "data": {
      "text/html": [
       "\n",
       "            <div style=\"float: left; border: 1px solid black; width:500px\">\n",
       "              <div id=\"fcad5877-0850-4c97-938b-bfb87245f84f\" style=\"background-color:blue; width:0%\">&nbsp;</div>\n",
       "            </div>\n",
       "            <label id=\"922b91e0-ef5e-4091-9312-f8c782e6758f\" style=\"padding-left: 10px;\" text = \"\"/>\n",
       "            "
      ],
      "text/plain": [
       "<IPython.core.display.HTML object>"
      ]
     },
     "metadata": {},
     "output_type": "display_data"
    },
    {
     "data": {
      "text/html": [
       "\n",
       "            <div style=\"float: left; border: 1px solid black; width:500px\">\n",
       "              <div id=\"49933c45-7d9e-432e-93dc-a5952e512476\" style=\"background-color:blue; width:0%\">&nbsp;</div>\n",
       "            </div>\n",
       "            <label id=\"c0f35e91-b836-4e59-beae-36ee75e20fb0\" style=\"padding-left: 10px;\" text = \"\"/>\n",
       "            "
      ],
      "text/plain": [
       "<IPython.core.display.HTML object>"
      ]
     },
     "metadata": {},
     "output_type": "display_data"
    },
    {
     "data": {
      "text/html": [
       "\n",
       "            <div style=\"float: left; border: 1px solid black; width:500px\">\n",
       "              <div id=\"7147b6f2-eba9-4185-875d-5be935fa6016\" style=\"background-color:blue; width:0%\">&nbsp;</div>\n",
       "            </div>\n",
       "            <label id=\"1b470d96-a35f-4e4d-a80e-1c464e9093a3\" style=\"padding-left: 10px;\" text = \"\"/>\n",
       "            "
      ],
      "text/plain": [
       "<IPython.core.display.HTML object>"
      ]
     },
     "metadata": {},
     "output_type": "display_data"
    },
    {
     "data": {
      "text/html": [
       "\n",
       "            <div style=\"float: left; border: 1px solid black; width:500px\">\n",
       "              <div id=\"f08e5f32-8f20-4c8f-9a42-1c3a620f0534\" style=\"background-color:blue; width:0%\">&nbsp;</div>\n",
       "            </div>\n",
       "            <label id=\"e56225e0-e120-498b-abda-087507c422fb\" style=\"padding-left: 10px;\" text = \"\"/>\n",
       "            "
      ],
      "text/plain": [
       "<IPython.core.display.HTML object>"
      ]
     },
     "metadata": {},
     "output_type": "display_data"
    },
    {
     "data": {
      "text/html": [
       "\n",
       "            <div style=\"float: left; border: 1px solid black; width:500px\">\n",
       "              <div id=\"7cb37ce7-f14b-463d-937d-6b519d2b8068\" style=\"background-color:blue; width:0%\">&nbsp;</div>\n",
       "            </div>\n",
       "            <label id=\"27219eb1-6e25-4658-8853-35567f4963d4\" style=\"padding-left: 10px;\" text = \"\"/>\n",
       "            "
      ],
      "text/plain": [
       "<IPython.core.display.HTML object>"
      ]
     },
     "metadata": {},
     "output_type": "display_data"
    },
    {
     "data": {
      "text/html": [
       "\n",
       "            <div style=\"float: left; border: 1px solid black; width:500px\">\n",
       "              <div id=\"31e08b5e-93d1-4172-a297-f317c2ac6316\" style=\"background-color:blue; width:0%\">&nbsp;</div>\n",
       "            </div>\n",
       "            <label id=\"0bb00066-ba60-4bed-a0cd-549550608b9e\" style=\"padding-left: 10px;\" text = \"\"/>\n",
       "            "
      ],
      "text/plain": [
       "<IPython.core.display.HTML object>"
      ]
     },
     "metadata": {},
     "output_type": "display_data"
    },
    {
     "data": {
      "text/html": [
       "\n",
       "            <div style=\"float: left; border: 1px solid black; width:500px\">\n",
       "              <div id=\"d69a15b9-e869-4a84-b6cb-2f7e84b5bbd4\" style=\"background-color:blue; width:0%\">&nbsp;</div>\n",
       "            </div>\n",
       "            <label id=\"9381b276-bfbf-4139-88b0-39d7e64baa5e\" style=\"padding-left: 10px;\" text = \"\"/>\n",
       "            "
      ],
      "text/plain": [
       "<IPython.core.display.HTML object>"
      ]
     },
     "metadata": {},
     "output_type": "display_data"
    },
    {
     "data": {
      "text/html": [
       "\n",
       "            <div style=\"float: left; border: 1px solid black; width:500px\">\n",
       "              <div id=\"e36c7748-4e37-45bb-8307-416e423289f8\" style=\"background-color:blue; width:0%\">&nbsp;</div>\n",
       "            </div>\n",
       "            <label id=\"9733ad26-8cfc-4eff-a927-a418cc3abc1a\" style=\"padding-left: 10px;\" text = \"\"/>\n",
       "            "
      ],
      "text/plain": [
       "<IPython.core.display.HTML object>"
      ]
     },
     "metadata": {},
     "output_type": "display_data"
    },
    {
     "data": {
      "text/html": [
       "\n",
       "            <div style=\"float: left; border: 1px solid black; width:500px\">\n",
       "              <div id=\"3e5d7643-7633-48b5-8340-74aae37101ec\" style=\"background-color:blue; width:0%\">&nbsp;</div>\n",
       "            </div>\n",
       "            <label id=\"a8337f0e-447b-483a-b98d-bd29478c4a3f\" style=\"padding-left: 10px;\" text = \"\"/>\n",
       "            "
      ],
      "text/plain": [
       "<IPython.core.display.HTML object>"
      ]
     },
     "metadata": {},
     "output_type": "display_data"
    },
    {
     "data": {
      "text/html": [
       "\n",
       "            <div style=\"float: left; border: 1px solid black; width:500px\">\n",
       "              <div id=\"50d29606-6c71-4037-b716-68e624cb8952\" style=\"background-color:blue; width:0%\">&nbsp;</div>\n",
       "            </div>\n",
       "            <label id=\"ba36b089-54b9-44e4-8be9-8dd73d305355\" style=\"padding-left: 10px;\" text = \"\"/>\n",
       "            "
      ],
      "text/plain": [
       "<IPython.core.display.HTML object>"
      ]
     },
     "metadata": {},
     "output_type": "display_data"
    },
    {
     "data": {
      "text/html": [
       "\n",
       "            <div style=\"float: left; border: 1px solid black; width:500px\">\n",
       "              <div id=\"7ec69595-6947-4ec6-b1d8-5d8e5d2a16bb\" style=\"background-color:blue; width:0%\">&nbsp;</div>\n",
       "            </div>\n",
       "            <label id=\"4f9186d1-2b72-4571-bdbd-83785fd644fb\" style=\"padding-left: 10px;\" text = \"\"/>\n",
       "            "
      ],
      "text/plain": [
       "<IPython.core.display.HTML object>"
      ]
     },
     "metadata": {},
     "output_type": "display_data"
    },
    {
     "name": "stdout",
     "output_type": "stream",
     "text": [
      "Patriots\n",
      "Dolphins\n"
     ]
    },
    {
     "data": {
      "text/html": [
       "\n",
       "            <div style=\"float: left; border: 1px solid black; width:500px\">\n",
       "              <div id=\"e843f005-e612-4e04-b975-e88acbd954be\" style=\"background-color:blue; width:0%\">&nbsp;</div>\n",
       "            </div>\n",
       "            <label id=\"5fb2e67e-89a3-4e13-85b0-500d991cd2cb\" style=\"padding-left: 10px;\" text = \"\"/>\n",
       "            "
      ],
      "text/plain": [
       "<IPython.core.display.HTML object>"
      ]
     },
     "metadata": {},
     "output_type": "display_data"
    },
    {
     "data": {
      "text/html": [
       "\n",
       "            <div style=\"float: left; border: 1px solid black; width:500px\">\n",
       "              <div id=\"6a26fd18-2fe3-42b1-b9d6-c5368436dd09\" style=\"background-color:blue; width:0%\">&nbsp;</div>\n",
       "            </div>\n",
       "            <label id=\"9f6c83bf-2a91-4800-b861-a76324a45a97\" style=\"padding-left: 10px;\" text = \"\"/>\n",
       "            "
      ],
      "text/plain": [
       "<IPython.core.display.HTML object>"
      ]
     },
     "metadata": {},
     "output_type": "display_data"
    },
    {
     "data": {
      "text/html": [
       "\n",
       "            <div style=\"float: left; border: 1px solid black; width:500px\">\n",
       "              <div id=\"90417c48-77c2-441b-9a06-6b6a6dc36cdc\" style=\"background-color:blue; width:0%\">&nbsp;</div>\n",
       "            </div>\n",
       "            <label id=\"e091bcd6-5739-4592-a053-15c8455f9e2d\" style=\"padding-left: 10px;\" text = \"\"/>\n",
       "            "
      ],
      "text/plain": [
       "<IPython.core.display.HTML object>"
      ]
     },
     "metadata": {},
     "output_type": "display_data"
    },
    {
     "data": {
      "text/html": [
       "\n",
       "            <div style=\"float: left; border: 1px solid black; width:500px\">\n",
       "              <div id=\"45857779-03ed-4f40-8834-1caaacace29e\" style=\"background-color:blue; width:0%\">&nbsp;</div>\n",
       "            </div>\n",
       "            <label id=\"47ce6090-428b-4b37-a3d4-0bda7159dba9\" style=\"padding-left: 10px;\" text = \"\"/>\n",
       "            "
      ],
      "text/plain": [
       "<IPython.core.display.HTML object>"
      ]
     },
     "metadata": {},
     "output_type": "display_data"
    },
    {
     "data": {
      "text/html": [
       "\n",
       "            <div style=\"float: left; border: 1px solid black; width:500px\">\n",
       "              <div id=\"ebf00b28-7b4a-4408-bf00-66b39b853174\" style=\"background-color:blue; width:0%\">&nbsp;</div>\n",
       "            </div>\n",
       "            <label id=\"8876ee1d-96b7-43e7-9824-6504c8fb5f26\" style=\"padding-left: 10px;\" text = \"\"/>\n",
       "            "
      ],
      "text/plain": [
       "<IPython.core.display.HTML object>"
      ]
     },
     "metadata": {},
     "output_type": "display_data"
    },
    {
     "data": {
      "text/html": [
       "\n",
       "            <div style=\"float: left; border: 1px solid black; width:500px\">\n",
       "              <div id=\"b3a10a2c-295d-4684-bf9f-244857fe0da9\" style=\"background-color:blue; width:0%\">&nbsp;</div>\n",
       "            </div>\n",
       "            <label id=\"dd0788df-8b7f-4a38-a754-b947b26a4d9d\" style=\"padding-left: 10px;\" text = \"\"/>\n",
       "            "
      ],
      "text/plain": [
       "<IPython.core.display.HTML object>"
      ]
     },
     "metadata": {},
     "output_type": "display_data"
    },
    {
     "data": {
      "text/html": [
       "\n",
       "            <div style=\"float: left; border: 1px solid black; width:500px\">\n",
       "              <div id=\"4e59e524-4ad8-4dd5-b1ab-2c0fafe44212\" style=\"background-color:blue; width:0%\">&nbsp;</div>\n",
       "            </div>\n",
       "            <label id=\"c1b27389-7b51-4b8a-add7-c49a11c27bc4\" style=\"padding-left: 10px;\" text = \"\"/>\n",
       "            "
      ],
      "text/plain": [
       "<IPython.core.display.HTML object>"
      ]
     },
     "metadata": {},
     "output_type": "display_data"
    },
    {
     "data": {
      "text/html": [
       "\n",
       "            <div style=\"float: left; border: 1px solid black; width:500px\">\n",
       "              <div id=\"d90f6c14-3f87-43e8-af04-65362ebb2c12\" style=\"background-color:blue; width:0%\">&nbsp;</div>\n",
       "            </div>\n",
       "            <label id=\"4618abd8-ad30-4076-8b43-a4a4de76983f\" style=\"padding-left: 10px;\" text = \"\"/>\n",
       "            "
      ],
      "text/plain": [
       "<IPython.core.display.HTML object>"
      ]
     },
     "metadata": {},
     "output_type": "display_data"
    },
    {
     "data": {
      "text/html": [
       "\n",
       "            <div style=\"float: left; border: 1px solid black; width:500px\">\n",
       "              <div id=\"c7b637a2-c2a8-4c85-b50b-46643702434d\" style=\"background-color:blue; width:0%\">&nbsp;</div>\n",
       "            </div>\n",
       "            <label id=\"7f345838-0567-4e99-aa85-0d69ba650165\" style=\"padding-left: 10px;\" text = \"\"/>\n",
       "            "
      ],
      "text/plain": [
       "<IPython.core.display.HTML object>"
      ]
     },
     "metadata": {},
     "output_type": "display_data"
    },
    {
     "data": {
      "text/html": [
       "\n",
       "            <div style=\"float: left; border: 1px solid black; width:500px\">\n",
       "              <div id=\"047a52f1-4b84-4c53-829b-9f043eb8c050\" style=\"background-color:blue; width:0%\">&nbsp;</div>\n",
       "            </div>\n",
       "            <label id=\"dd40ddbc-f0f2-416b-9020-9858b67ceae7\" style=\"padding-left: 10px;\" text = \"\"/>\n",
       "            "
      ],
      "text/plain": [
       "<IPython.core.display.HTML object>"
      ]
     },
     "metadata": {},
     "output_type": "display_data"
    },
    {
     "data": {
      "text/html": [
       "\n",
       "            <div style=\"float: left; border: 1px solid black; width:500px\">\n",
       "              <div id=\"4e0f59a6-8e19-4ea9-b485-4892263f9d5b\" style=\"background-color:blue; width:0%\">&nbsp;</div>\n",
       "            </div>\n",
       "            <label id=\"77eeb364-c795-49ed-b3f0-ebd5eacaea30\" style=\"padding-left: 10px;\" text = \"\"/>\n",
       "            "
      ],
      "text/plain": [
       "<IPython.core.display.HTML object>"
      ]
     },
     "metadata": {},
     "output_type": "display_data"
    },
    {
     "data": {
      "text/html": [
       "\n",
       "            <div style=\"float: left; border: 1px solid black; width:500px\">\n",
       "              <div id=\"cd0082d9-01d3-4348-af70-f5c94c231e8d\" style=\"background-color:blue; width:0%\">&nbsp;</div>\n",
       "            </div>\n",
       "            <label id=\"ba64ccce-2c0f-45e5-b7c5-88812d96675b\" style=\"padding-left: 10px;\" text = \"\"/>\n",
       "            "
      ],
      "text/plain": [
       "<IPython.core.display.HTML object>"
      ]
     },
     "metadata": {},
     "output_type": "display_data"
    },
    {
     "data": {
      "text/html": [
       "\n",
       "            <div style=\"float: left; border: 1px solid black; width:500px\">\n",
       "              <div id=\"e06c90cc-31d2-4e74-af34-5a91321ec770\" style=\"background-color:blue; width:0%\">&nbsp;</div>\n",
       "            </div>\n",
       "            <label id=\"222a7694-340a-43eb-860b-7312a4b438fd\" style=\"padding-left: 10px;\" text = \"\"/>\n",
       "            "
      ],
      "text/plain": [
       "<IPython.core.display.HTML object>"
      ]
     },
     "metadata": {},
     "output_type": "display_data"
    },
    {
     "data": {
      "text/html": [
       "\n",
       "            <div style=\"float: left; border: 1px solid black; width:500px\">\n",
       "              <div id=\"276f5e31-01ba-4f7c-aeb6-7f7b713d0c18\" style=\"background-color:blue; width:0%\">&nbsp;</div>\n",
       "            </div>\n",
       "            <label id=\"f1d3f0c3-d39f-4642-a460-5dcafab1434e\" style=\"padding-left: 10px;\" text = \"\"/>\n",
       "            "
      ],
      "text/plain": [
       "<IPython.core.display.HTML object>"
      ]
     },
     "metadata": {},
     "output_type": "display_data"
    },
    {
     "data": {
      "text/html": [
       "\n",
       "            <div style=\"float: left; border: 1px solid black; width:500px\">\n",
       "              <div id=\"42c22cc6-b98a-46c6-8052-83a56c460221\" style=\"background-color:blue; width:0%\">&nbsp;</div>\n",
       "            </div>\n",
       "            <label id=\"6a09a46a-aad8-4ca2-b720-f4e6d7b6aa54\" style=\"padding-left: 10px;\" text = \"\"/>\n",
       "            "
      ],
      "text/plain": [
       "<IPython.core.display.HTML object>"
      ]
     },
     "metadata": {},
     "output_type": "display_data"
    },
    {
     "data": {
      "text/html": [
       "\n",
       "            <div style=\"float: left; border: 1px solid black; width:500px\">\n",
       "              <div id=\"56bbe271-9e11-417b-88eb-a216e36bb87b\" style=\"background-color:blue; width:0%\">&nbsp;</div>\n",
       "            </div>\n",
       "            <label id=\"b20041b2-49ef-46c2-ac6d-e6c00f73d6bc\" style=\"padding-left: 10px;\" text = \"\"/>\n",
       "            "
      ],
      "text/plain": [
       "<IPython.core.display.HTML object>"
      ]
     },
     "metadata": {},
     "output_type": "display_data"
    },
    {
     "data": {
      "text/html": [
       "\n",
       "            <div style=\"float: left; border: 1px solid black; width:500px\">\n",
       "              <div id=\"e67d6e63-5ae3-422e-9a24-d642bc56fcff\" style=\"background-color:blue; width:0%\">&nbsp;</div>\n",
       "            </div>\n",
       "            <label id=\"a80327d3-aa93-4940-abfa-e6cc0c4bd8ec\" style=\"padding-left: 10px;\" text = \"\"/>\n",
       "            "
      ],
      "text/plain": [
       "<IPython.core.display.HTML object>"
      ]
     },
     "metadata": {},
     "output_type": "display_data"
    },
    {
     "data": {
      "text/html": [
       "\n",
       "            <div style=\"float: left; border: 1px solid black; width:500px\">\n",
       "              <div id=\"9a79e047-0462-4c02-aa52-b47e030426c4\" style=\"background-color:blue; width:0%\">&nbsp;</div>\n",
       "            </div>\n",
       "            <label id=\"1eeb200e-d597-47f6-a8b5-49aaad1812fa\" style=\"padding-left: 10px;\" text = \"\"/>\n",
       "            "
      ],
      "text/plain": [
       "<IPython.core.display.HTML object>"
      ]
     },
     "metadata": {},
     "output_type": "display_data"
    },
    {
     "name": "stdout",
     "output_type": "stream",
     "text": [
      "Jets\n",
      "Bills\n"
     ]
    },
    {
     "data": {
      "text/html": [
       "\n",
       "            <div style=\"float: left; border: 1px solid black; width:500px\">\n",
       "              <div id=\"f47ad280-09f8-44ed-b78c-5cda7f9dacd4\" style=\"background-color:blue; width:0%\">&nbsp;</div>\n",
       "            </div>\n",
       "            <label id=\"c0416111-f84a-4927-ab46-60f04e5ae813\" style=\"padding-left: 10px;\" text = \"\"/>\n",
       "            "
      ],
      "text/plain": [
       "<IPython.core.display.HTML object>"
      ]
     },
     "metadata": {},
     "output_type": "display_data"
    },
    {
     "data": {
      "text/html": [
       "\n",
       "            <div style=\"float: left; border: 1px solid black; width:500px\">\n",
       "              <div id=\"970c6d7c-5161-4606-b8b0-b2031558474f\" style=\"background-color:blue; width:0%\">&nbsp;</div>\n",
       "            </div>\n",
       "            <label id=\"1332ca99-8613-4c8b-82f9-39aa90bde545\" style=\"padding-left: 10px;\" text = \"\"/>\n",
       "            "
      ],
      "text/plain": [
       "<IPython.core.display.HTML object>"
      ]
     },
     "metadata": {},
     "output_type": "display_data"
    },
    {
     "data": {
      "text/html": [
       "\n",
       "            <div style=\"float: left; border: 1px solid black; width:500px\">\n",
       "              <div id=\"67dfb06b-ff01-45c8-b6ee-71f1e5a6d18c\" style=\"background-color:blue; width:0%\">&nbsp;</div>\n",
       "            </div>\n",
       "            <label id=\"e5ea3392-9ac6-4651-acad-516d5246598c\" style=\"padding-left: 10px;\" text = \"\"/>\n",
       "            "
      ],
      "text/plain": [
       "<IPython.core.display.HTML object>"
      ]
     },
     "metadata": {},
     "output_type": "display_data"
    },
    {
     "data": {
      "text/html": [
       "\n",
       "            <div style=\"float: left; border: 1px solid black; width:500px\">\n",
       "              <div id=\"40435444-0be2-4550-a569-d871c6c4d782\" style=\"background-color:blue; width:0%\">&nbsp;</div>\n",
       "            </div>\n",
       "            <label id=\"c74fe275-c8f9-4b17-ada2-35ef8469ab30\" style=\"padding-left: 10px;\" text = \"\"/>\n",
       "            "
      ],
      "text/plain": [
       "<IPython.core.display.HTML object>"
      ]
     },
     "metadata": {},
     "output_type": "display_data"
    },
    {
     "data": {
      "text/html": [
       "\n",
       "            <div style=\"float: left; border: 1px solid black; width:500px\">\n",
       "              <div id=\"15f9a50e-0d57-436a-befb-55d995df93c8\" style=\"background-color:blue; width:0%\">&nbsp;</div>\n",
       "            </div>\n",
       "            <label id=\"886df0a5-c59b-4c62-9b6f-bdc4a7d58272\" style=\"padding-left: 10px;\" text = \"\"/>\n",
       "            "
      ],
      "text/plain": [
       "<IPython.core.display.HTML object>"
      ]
     },
     "metadata": {},
     "output_type": "display_data"
    },
    {
     "data": {
      "text/html": [
       "\n",
       "            <div style=\"float: left; border: 1px solid black; width:500px\">\n",
       "              <div id=\"41f5987c-d8a8-4a5e-b328-d1c31b43fe46\" style=\"background-color:blue; width:0%\">&nbsp;</div>\n",
       "            </div>\n",
       "            <label id=\"3dbcd691-737a-45aa-8cb9-3a7189f8cc57\" style=\"padding-left: 10px;\" text = \"\"/>\n",
       "            "
      ],
      "text/plain": [
       "<IPython.core.display.HTML object>"
      ]
     },
     "metadata": {},
     "output_type": "display_data"
    },
    {
     "data": {
      "text/html": [
       "\n",
       "            <div style=\"float: left; border: 1px solid black; width:500px\">\n",
       "              <div id=\"02d4756b-10fd-462d-960d-35e5657e0a61\" style=\"background-color:blue; width:0%\">&nbsp;</div>\n",
       "            </div>\n",
       "            <label id=\"74ef3618-0d39-43c4-bb18-e05ec4487b58\" style=\"padding-left: 10px;\" text = \"\"/>\n",
       "            "
      ],
      "text/plain": [
       "<IPython.core.display.HTML object>"
      ]
     },
     "metadata": {},
     "output_type": "display_data"
    },
    {
     "data": {
      "text/html": [
       "\n",
       "            <div style=\"float: left; border: 1px solid black; width:500px\">\n",
       "              <div id=\"8a15b8e6-3655-48f6-a511-4bdf8f08899f\" style=\"background-color:blue; width:0%\">&nbsp;</div>\n",
       "            </div>\n",
       "            <label id=\"373eb409-bc09-487d-9205-308d3996a119\" style=\"padding-left: 10px;\" text = \"\"/>\n",
       "            "
      ],
      "text/plain": [
       "<IPython.core.display.HTML object>"
      ]
     },
     "metadata": {},
     "output_type": "display_data"
    },
    {
     "data": {
      "text/html": [
       "\n",
       "            <div style=\"float: left; border: 1px solid black; width:500px\">\n",
       "              <div id=\"66c5a2bd-a437-457a-a852-ac4f093c2e40\" style=\"background-color:blue; width:0%\">&nbsp;</div>\n",
       "            </div>\n",
       "            <label id=\"a3b05269-3285-4f11-8a7e-da977a8b0622\" style=\"padding-left: 10px;\" text = \"\"/>\n",
       "            "
      ],
      "text/plain": [
       "<IPython.core.display.HTML object>"
      ]
     },
     "metadata": {},
     "output_type": "display_data"
    },
    {
     "data": {
      "text/html": [
       "\n",
       "            <div style=\"float: left; border: 1px solid black; width:500px\">\n",
       "              <div id=\"c09bfff4-a10d-4a48-bba0-859fd9e696fe\" style=\"background-color:blue; width:0%\">&nbsp;</div>\n",
       "            </div>\n",
       "            <label id=\"b0357597-90f2-4f74-85f9-b97007abb68e\" style=\"padding-left: 10px;\" text = \"\"/>\n",
       "            "
      ],
      "text/plain": [
       "<IPython.core.display.HTML object>"
      ]
     },
     "metadata": {},
     "output_type": "display_data"
    },
    {
     "data": {
      "text/html": [
       "\n",
       "            <div style=\"float: left; border: 1px solid black; width:500px\">\n",
       "              <div id=\"22803ad7-9001-41d1-932a-d11c5dd9f239\" style=\"background-color:blue; width:0%\">&nbsp;</div>\n",
       "            </div>\n",
       "            <label id=\"8df57465-2410-4645-8ea6-804c9b54d9d6\" style=\"padding-left: 10px;\" text = \"\"/>\n",
       "            "
      ],
      "text/plain": [
       "<IPython.core.display.HTML object>"
      ]
     },
     "metadata": {},
     "output_type": "display_data"
    },
    {
     "data": {
      "text/html": [
       "\n",
       "            <div style=\"float: left; border: 1px solid black; width:500px\">\n",
       "              <div id=\"4c301d4c-ec67-43a5-bdd2-681b5e0f9535\" style=\"background-color:blue; width:0%\">&nbsp;</div>\n",
       "            </div>\n",
       "            <label id=\"a5495570-b250-42a3-a193-53a5d7b3c31d\" style=\"padding-left: 10px;\" text = \"\"/>\n",
       "            "
      ],
      "text/plain": [
       "<IPython.core.display.HTML object>"
      ]
     },
     "metadata": {},
     "output_type": "display_data"
    },
    {
     "data": {
      "text/html": [
       "\n",
       "            <div style=\"float: left; border: 1px solid black; width:500px\">\n",
       "              <div id=\"ac8ed87c-7db1-4688-8324-a294eab64886\" style=\"background-color:blue; width:0%\">&nbsp;</div>\n",
       "            </div>\n",
       "            <label id=\"e9017871-5a86-4364-bbea-080f63508a38\" style=\"padding-left: 10px;\" text = \"\"/>\n",
       "            "
      ],
      "text/plain": [
       "<IPython.core.display.HTML object>"
      ]
     },
     "metadata": {},
     "output_type": "display_data"
    },
    {
     "data": {
      "text/html": [
       "\n",
       "            <div style=\"float: left; border: 1px solid black; width:500px\">\n",
       "              <div id=\"c1532253-01a6-426c-9c9f-9d862ffe02d5\" style=\"background-color:blue; width:0%\">&nbsp;</div>\n",
       "            </div>\n",
       "            <label id=\"c7d78ce4-4e13-49e4-8459-8f4d4586d8f9\" style=\"padding-left: 10px;\" text = \"\"/>\n",
       "            "
      ],
      "text/plain": [
       "<IPython.core.display.HTML object>"
      ]
     },
     "metadata": {},
     "output_type": "display_data"
    },
    {
     "data": {
      "text/html": [
       "\n",
       "            <div style=\"float: left; border: 1px solid black; width:500px\">\n",
       "              <div id=\"7e2a6982-364f-455f-9b93-15dfdecd19b2\" style=\"background-color:blue; width:0%\">&nbsp;</div>\n",
       "            </div>\n",
       "            <label id=\"b238c51b-f705-4350-9cbd-826e41c1f14c\" style=\"padding-left: 10px;\" text = \"\"/>\n",
       "            "
      ],
      "text/plain": [
       "<IPython.core.display.HTML object>"
      ]
     },
     "metadata": {},
     "output_type": "display_data"
    },
    {
     "data": {
      "text/html": [
       "\n",
       "            <div style=\"float: left; border: 1px solid black; width:500px\">\n",
       "              <div id=\"bc3571d2-72b3-4dc4-92a0-a6314be8afec\" style=\"background-color:blue; width:0%\">&nbsp;</div>\n",
       "            </div>\n",
       "            <label id=\"fe876283-e93a-43de-b638-b04eea1b4ea6\" style=\"padding-left: 10px;\" text = \"\"/>\n",
       "            "
      ],
      "text/plain": [
       "<IPython.core.display.HTML object>"
      ]
     },
     "metadata": {},
     "output_type": "display_data"
    },
    {
     "data": {
      "text/html": [
       "\n",
       "            <div style=\"float: left; border: 1px solid black; width:500px\">\n",
       "              <div id=\"52d717e5-ebc6-43d6-b83d-f8adbb420ea4\" style=\"background-color:blue; width:0%\">&nbsp;</div>\n",
       "            </div>\n",
       "            <label id=\"6c64fa7b-cba1-4a6d-b58f-d80fee4e8fdd\" style=\"padding-left: 10px;\" text = \"\"/>\n",
       "            "
      ],
      "text/plain": [
       "<IPython.core.display.HTML object>"
      ]
     },
     "metadata": {},
     "output_type": "display_data"
    },
    {
     "data": {
      "text/html": [
       "\n",
       "            <div style=\"float: left; border: 1px solid black; width:500px\">\n",
       "              <div id=\"135eed59-eac8-46e4-b387-a25794da8e3d\" style=\"background-color:blue; width:0%\">&nbsp;</div>\n",
       "            </div>\n",
       "            <label id=\"edd6bf37-fe79-4daa-89ed-d4525527b339\" style=\"padding-left: 10px;\" text = \"\"/>\n",
       "            "
      ],
      "text/plain": [
       "<IPython.core.display.HTML object>"
      ]
     },
     "metadata": {},
     "output_type": "display_data"
    },
    {
     "name": "stdout",
     "output_type": "stream",
     "text": [
      "Saints\n",
      "Falcons\n"
     ]
    },
    {
     "data": {
      "text/html": [
       "\n",
       "            <div style=\"float: left; border: 1px solid black; width:500px\">\n",
       "              <div id=\"5daeff1c-a39b-4fe5-a593-059829c9029d\" style=\"background-color:blue; width:0%\">&nbsp;</div>\n",
       "            </div>\n",
       "            <label id=\"1635ccc4-468f-4261-bfef-a614ae0ccaf2\" style=\"padding-left: 10px;\" text = \"\"/>\n",
       "            "
      ],
      "text/plain": [
       "<IPython.core.display.HTML object>"
      ]
     },
     "metadata": {},
     "output_type": "display_data"
    },
    {
     "data": {
      "text/html": [
       "\n",
       "            <div style=\"float: left; border: 1px solid black; width:500px\">\n",
       "              <div id=\"f1bf9398-6613-4616-a1f9-52996c6483ea\" style=\"background-color:blue; width:0%\">&nbsp;</div>\n",
       "            </div>\n",
       "            <label id=\"2a02055e-de67-4bd4-8599-ae15e9886404\" style=\"padding-left: 10px;\" text = \"\"/>\n",
       "            "
      ],
      "text/plain": [
       "<IPython.core.display.HTML object>"
      ]
     },
     "metadata": {},
     "output_type": "display_data"
    },
    {
     "data": {
      "text/html": [
       "\n",
       "            <div style=\"float: left; border: 1px solid black; width:500px\">\n",
       "              <div id=\"d783b367-0f99-475b-ac8e-841f5b43d8fb\" style=\"background-color:blue; width:0%\">&nbsp;</div>\n",
       "            </div>\n",
       "            <label id=\"dee7ba61-dc9d-4a37-a956-f76170b063db\" style=\"padding-left: 10px;\" text = \"\"/>\n",
       "            "
      ],
      "text/plain": [
       "<IPython.core.display.HTML object>"
      ]
     },
     "metadata": {},
     "output_type": "display_data"
    },
    {
     "data": {
      "text/html": [
       "\n",
       "            <div style=\"float: left; border: 1px solid black; width:500px\">\n",
       "              <div id=\"9150ff93-5d46-42fe-8cbc-d7bce60e1f2e\" style=\"background-color:blue; width:0%\">&nbsp;</div>\n",
       "            </div>\n",
       "            <label id=\"aa8442fe-80ed-4bf3-a409-8745c0af8764\" style=\"padding-left: 10px;\" text = \"\"/>\n",
       "            "
      ],
      "text/plain": [
       "<IPython.core.display.HTML object>"
      ]
     },
     "metadata": {},
     "output_type": "display_data"
    },
    {
     "data": {
      "text/html": [
       "\n",
       "            <div style=\"float: left; border: 1px solid black; width:500px\">\n",
       "              <div id=\"d228786b-0c76-4f6d-8dd5-349c8db747d3\" style=\"background-color:blue; width:0%\">&nbsp;</div>\n",
       "            </div>\n",
       "            <label id=\"d439970e-34c0-444b-afe8-cd44dc41f8e0\" style=\"padding-left: 10px;\" text = \"\"/>\n",
       "            "
      ],
      "text/plain": [
       "<IPython.core.display.HTML object>"
      ]
     },
     "metadata": {},
     "output_type": "display_data"
    },
    {
     "data": {
      "text/html": [
       "\n",
       "            <div style=\"float: left; border: 1px solid black; width:500px\">\n",
       "              <div id=\"76614b1a-0d23-44b1-bc4f-3569cce137b0\" style=\"background-color:blue; width:0%\">&nbsp;</div>\n",
       "            </div>\n",
       "            <label id=\"9e46cf64-024c-4583-b6b9-4835caf9a5d2\" style=\"padding-left: 10px;\" text = \"\"/>\n",
       "            "
      ],
      "text/plain": [
       "<IPython.core.display.HTML object>"
      ]
     },
     "metadata": {},
     "output_type": "display_data"
    },
    {
     "data": {
      "text/html": [
       "\n",
       "            <div style=\"float: left; border: 1px solid black; width:500px\">\n",
       "              <div id=\"f4cbd766-6d61-4b25-b91a-51030cf43318\" style=\"background-color:blue; width:0%\">&nbsp;</div>\n",
       "            </div>\n",
       "            <label id=\"997d4bd2-6968-4e9d-a134-7ed0ce9a45b0\" style=\"padding-left: 10px;\" text = \"\"/>\n",
       "            "
      ],
      "text/plain": [
       "<IPython.core.display.HTML object>"
      ]
     },
     "metadata": {},
     "output_type": "display_data"
    },
    {
     "data": {
      "text/html": [
       "\n",
       "            <div style=\"float: left; border: 1px solid black; width:500px\">\n",
       "              <div id=\"5de6c7a3-32a1-4ef5-abe5-8604181e3613\" style=\"background-color:blue; width:0%\">&nbsp;</div>\n",
       "            </div>\n",
       "            <label id=\"1151e206-292b-4023-b419-0d8a9bd24a15\" style=\"padding-left: 10px;\" text = \"\"/>\n",
       "            "
      ],
      "text/plain": [
       "<IPython.core.display.HTML object>"
      ]
     },
     "metadata": {},
     "output_type": "display_data"
    },
    {
     "data": {
      "text/html": [
       "\n",
       "            <div style=\"float: left; border: 1px solid black; width:500px\">\n",
       "              <div id=\"0bfba291-4995-4b0e-9007-e65c20049c5d\" style=\"background-color:blue; width:0%\">&nbsp;</div>\n",
       "            </div>\n",
       "            <label id=\"c447ece2-ba01-4ea7-8b8b-3ddc469ec0e4\" style=\"padding-left: 10px;\" text = \"\"/>\n",
       "            "
      ],
      "text/plain": [
       "<IPython.core.display.HTML object>"
      ]
     },
     "metadata": {},
     "output_type": "display_data"
    },
    {
     "data": {
      "text/html": [
       "\n",
       "            <div style=\"float: left; border: 1px solid black; width:500px\">\n",
       "              <div id=\"fddf1c66-b258-4600-a931-98eba0a4880c\" style=\"background-color:blue; width:0%\">&nbsp;</div>\n",
       "            </div>\n",
       "            <label id=\"d8487786-2572-40f6-9025-6e3d8cfb5394\" style=\"padding-left: 10px;\" text = \"\"/>\n",
       "            "
      ],
      "text/plain": [
       "<IPython.core.display.HTML object>"
      ]
     },
     "metadata": {},
     "output_type": "display_data"
    },
    {
     "data": {
      "text/html": [
       "\n",
       "            <div style=\"float: left; border: 1px solid black; width:500px\">\n",
       "              <div id=\"7b99e2aa-1c00-4b64-9662-9f4d85c53562\" style=\"background-color:blue; width:0%\">&nbsp;</div>\n",
       "            </div>\n",
       "            <label id=\"ada11256-588d-4889-ae56-61dafe19da70\" style=\"padding-left: 10px;\" text = \"\"/>\n",
       "            "
      ],
      "text/plain": [
       "<IPython.core.display.HTML object>"
      ]
     },
     "metadata": {},
     "output_type": "display_data"
    },
    {
     "data": {
      "text/html": [
       "\n",
       "            <div style=\"float: left; border: 1px solid black; width:500px\">\n",
       "              <div id=\"d394d620-5d9c-4d81-bc08-d45a0c16de54\" style=\"background-color:blue; width:0%\">&nbsp;</div>\n",
       "            </div>\n",
       "            <label id=\"4ad96be5-362c-4bef-856d-d5bd8cf3959b\" style=\"padding-left: 10px;\" text = \"\"/>\n",
       "            "
      ],
      "text/plain": [
       "<IPython.core.display.HTML object>"
      ]
     },
     "metadata": {},
     "output_type": "display_data"
    },
    {
     "data": {
      "text/html": [
       "\n",
       "            <div style=\"float: left; border: 1px solid black; width:500px\">\n",
       "              <div id=\"5e3401c5-f738-4f63-bb92-1ec97acbdea8\" style=\"background-color:blue; width:0%\">&nbsp;</div>\n",
       "            </div>\n",
       "            <label id=\"e16a4c7d-a1a8-44ef-8a02-c46ede72c9c5\" style=\"padding-left: 10px;\" text = \"\"/>\n",
       "            "
      ],
      "text/plain": [
       "<IPython.core.display.HTML object>"
      ]
     },
     "metadata": {},
     "output_type": "display_data"
    },
    {
     "data": {
      "text/html": [
       "\n",
       "            <div style=\"float: left; border: 1px solid black; width:500px\">\n",
       "              <div id=\"7f2a5ec7-d865-4783-a2ef-e58d2601d648\" style=\"background-color:blue; width:0%\">&nbsp;</div>\n",
       "            </div>\n",
       "            <label id=\"a0611e1e-50c8-4b33-986d-4a2cff5ed4ed\" style=\"padding-left: 10px;\" text = \"\"/>\n",
       "            "
      ],
      "text/plain": [
       "<IPython.core.display.HTML object>"
      ]
     },
     "metadata": {},
     "output_type": "display_data"
    },
    {
     "data": {
      "text/html": [
       "\n",
       "            <div style=\"float: left; border: 1px solid black; width:500px\">\n",
       "              <div id=\"5bcebb79-63c7-44d6-9536-d1666e1c96d0\" style=\"background-color:blue; width:0%\">&nbsp;</div>\n",
       "            </div>\n",
       "            <label id=\"e25fc90a-e1f5-4ac5-b61a-57284f267e20\" style=\"padding-left: 10px;\" text = \"\"/>\n",
       "            "
      ],
      "text/plain": [
       "<IPython.core.display.HTML object>"
      ]
     },
     "metadata": {},
     "output_type": "display_data"
    },
    {
     "data": {
      "text/html": [
       "\n",
       "            <div style=\"float: left; border: 1px solid black; width:500px\">\n",
       "              <div id=\"fb498329-8609-4b89-a97c-155532469fe8\" style=\"background-color:blue; width:0%\">&nbsp;</div>\n",
       "            </div>\n",
       "            <label id=\"091f7d1a-032d-4107-bcd9-c89b1b3746e0\" style=\"padding-left: 10px;\" text = \"\"/>\n",
       "            "
      ],
      "text/plain": [
       "<IPython.core.display.HTML object>"
      ]
     },
     "metadata": {},
     "output_type": "display_data"
    },
    {
     "data": {
      "text/html": [
       "\n",
       "            <div style=\"float: left; border: 1px solid black; width:500px\">\n",
       "              <div id=\"7c75651a-56c3-4692-a805-d293a212cd65\" style=\"background-color:blue; width:0%\">&nbsp;</div>\n",
       "            </div>\n",
       "            <label id=\"efe86464-0d34-4f64-a98e-3f9ff97bb022\" style=\"padding-left: 10px;\" text = \"\"/>\n",
       "            "
      ],
      "text/plain": [
       "<IPython.core.display.HTML object>"
      ]
     },
     "metadata": {},
     "output_type": "display_data"
    },
    {
     "data": {
      "text/html": [
       "\n",
       "            <div style=\"float: left; border: 1px solid black; width:500px\">\n",
       "              <div id=\"e191c35e-e122-45d8-8792-41cc90c88e8a\" style=\"background-color:blue; width:0%\">&nbsp;</div>\n",
       "            </div>\n",
       "            <label id=\"1858073f-6c0d-4401-88d2-bce3150aca3e\" style=\"padding-left: 10px;\" text = \"\"/>\n",
       "            "
      ],
      "text/plain": [
       "<IPython.core.display.HTML object>"
      ]
     },
     "metadata": {},
     "output_type": "display_data"
    },
    {
     "name": "stdout",
     "output_type": "stream",
     "text": [
      "Panthers\n",
      "Buccaneers\n"
     ]
    },
    {
     "data": {
      "text/html": [
       "\n",
       "            <div style=\"float: left; border: 1px solid black; width:500px\">\n",
       "              <div id=\"a40cbaf9-7ac4-4ab4-b264-1d1a281366c2\" style=\"background-color:blue; width:0%\">&nbsp;</div>\n",
       "            </div>\n",
       "            <label id=\"9061edcc-aaf1-41e2-b156-c6f4559d71a8\" style=\"padding-left: 10px;\" text = \"\"/>\n",
       "            "
      ],
      "text/plain": [
       "<IPython.core.display.HTML object>"
      ]
     },
     "metadata": {},
     "output_type": "display_data"
    },
    {
     "data": {
      "text/html": [
       "\n",
       "            <div style=\"float: left; border: 1px solid black; width:500px\">\n",
       "              <div id=\"190f936d-62b4-494f-af7c-70ff4d37d2eb\" style=\"background-color:blue; width:0%\">&nbsp;</div>\n",
       "            </div>\n",
       "            <label id=\"92a6095d-e815-459e-a66f-1194930c19cc\" style=\"padding-left: 10px;\" text = \"\"/>\n",
       "            "
      ],
      "text/plain": [
       "<IPython.core.display.HTML object>"
      ]
     },
     "metadata": {},
     "output_type": "display_data"
    },
    {
     "data": {
      "text/html": [
       "\n",
       "            <div style=\"float: left; border: 1px solid black; width:500px\">\n",
       "              <div id=\"07c5e6df-d4cc-40a0-9a3f-db76b73fce9c\" style=\"background-color:blue; width:0%\">&nbsp;</div>\n",
       "            </div>\n",
       "            <label id=\"11c4e1e0-29a9-42f3-8017-84ea23a61ce1\" style=\"padding-left: 10px;\" text = \"\"/>\n",
       "            "
      ],
      "text/plain": [
       "<IPython.core.display.HTML object>"
      ]
     },
     "metadata": {},
     "output_type": "display_data"
    },
    {
     "data": {
      "text/html": [
       "\n",
       "            <div style=\"float: left; border: 1px solid black; width:500px\">\n",
       "              <div id=\"7b983d6b-1e7e-4cba-b097-91d09da4ed15\" style=\"background-color:blue; width:0%\">&nbsp;</div>\n",
       "            </div>\n",
       "            <label id=\"79784cf0-2f12-4579-b1b0-af8a3a8177a8\" style=\"padding-left: 10px;\" text = \"\"/>\n",
       "            "
      ],
      "text/plain": [
       "<IPython.core.display.HTML object>"
      ]
     },
     "metadata": {},
     "output_type": "display_data"
    },
    {
     "data": {
      "text/html": [
       "\n",
       "            <div style=\"float: left; border: 1px solid black; width:500px\">\n",
       "              <div id=\"3e105a9c-d418-4adb-bcb4-bb3978d0baa7\" style=\"background-color:blue; width:0%\">&nbsp;</div>\n",
       "            </div>\n",
       "            <label id=\"ca93c3ce-aa7d-41cb-9d1a-7d0c96b028f6\" style=\"padding-left: 10px;\" text = \"\"/>\n",
       "            "
      ],
      "text/plain": [
       "<IPython.core.display.HTML object>"
      ]
     },
     "metadata": {},
     "output_type": "display_data"
    },
    {
     "data": {
      "text/html": [
       "\n",
       "            <div style=\"float: left; border: 1px solid black; width:500px\">\n",
       "              <div id=\"950a86ee-3478-4274-b110-3359a787de3f\" style=\"background-color:blue; width:0%\">&nbsp;</div>\n",
       "            </div>\n",
       "            <label id=\"ef097796-854c-4225-aaf1-39d072f66eac\" style=\"padding-left: 10px;\" text = \"\"/>\n",
       "            "
      ],
      "text/plain": [
       "<IPython.core.display.HTML object>"
      ]
     },
     "metadata": {},
     "output_type": "display_data"
    },
    {
     "data": {
      "text/html": [
       "\n",
       "            <div style=\"float: left; border: 1px solid black; width:500px\">\n",
       "              <div id=\"b1cd6973-1e25-451b-b2c6-993c95f4469e\" style=\"background-color:blue; width:0%\">&nbsp;</div>\n",
       "            </div>\n",
       "            <label id=\"b4646c4f-cf87-4f1a-968f-3aa4f63b496c\" style=\"padding-left: 10px;\" text = \"\"/>\n",
       "            "
      ],
      "text/plain": [
       "<IPython.core.display.HTML object>"
      ]
     },
     "metadata": {},
     "output_type": "display_data"
    },
    {
     "data": {
      "text/html": [
       "\n",
       "            <div style=\"float: left; border: 1px solid black; width:500px\">\n",
       "              <div id=\"e85a844e-af7d-4394-897d-88679790c4c2\" style=\"background-color:blue; width:0%\">&nbsp;</div>\n",
       "            </div>\n",
       "            <label id=\"44377267-a10b-462f-8128-18fab504877b\" style=\"padding-left: 10px;\" text = \"\"/>\n",
       "            "
      ],
      "text/plain": [
       "<IPython.core.display.HTML object>"
      ]
     },
     "metadata": {},
     "output_type": "display_data"
    },
    {
     "data": {
      "text/html": [
       "\n",
       "            <div style=\"float: left; border: 1px solid black; width:500px\">\n",
       "              <div id=\"fbf11861-0b8d-4137-908f-44ff58e9bf87\" style=\"background-color:blue; width:0%\">&nbsp;</div>\n",
       "            </div>\n",
       "            <label id=\"52ada482-b38d-4cf5-a2be-e51cb87d0f31\" style=\"padding-left: 10px;\" text = \"\"/>\n",
       "            "
      ],
      "text/plain": [
       "<IPython.core.display.HTML object>"
      ]
     },
     "metadata": {},
     "output_type": "display_data"
    },
    {
     "data": {
      "text/html": [
       "\n",
       "            <div style=\"float: left; border: 1px solid black; width:500px\">\n",
       "              <div id=\"dc3c078c-5266-44ed-84fa-7f3ec01d4dfc\" style=\"background-color:blue; width:0%\">&nbsp;</div>\n",
       "            </div>\n",
       "            <label id=\"bf91c8a6-284a-45a2-b308-44f85f50c98b\" style=\"padding-left: 10px;\" text = \"\"/>\n",
       "            "
      ],
      "text/plain": [
       "<IPython.core.display.HTML object>"
      ]
     },
     "metadata": {},
     "output_type": "display_data"
    },
    {
     "data": {
      "text/html": [
       "\n",
       "            <div style=\"float: left; border: 1px solid black; width:500px\">\n",
       "              <div id=\"4f878e48-19a8-4b77-aaa1-3e4289b2b5b6\" style=\"background-color:blue; width:0%\">&nbsp;</div>\n",
       "            </div>\n",
       "            <label id=\"eda11bd1-f634-4943-9b84-253fa65646e8\" style=\"padding-left: 10px;\" text = \"\"/>\n",
       "            "
      ],
      "text/plain": [
       "<IPython.core.display.HTML object>"
      ]
     },
     "metadata": {},
     "output_type": "display_data"
    },
    {
     "data": {
      "text/html": [
       "\n",
       "            <div style=\"float: left; border: 1px solid black; width:500px\">\n",
       "              <div id=\"5b1a8ec1-a5e8-4feb-81c7-b99ec6846b3d\" style=\"background-color:blue; width:0%\">&nbsp;</div>\n",
       "            </div>\n",
       "            <label id=\"ee0c2402-1834-436a-b1ea-5623eda3118f\" style=\"padding-left: 10px;\" text = \"\"/>\n",
       "            "
      ],
      "text/plain": [
       "<IPython.core.display.HTML object>"
      ]
     },
     "metadata": {},
     "output_type": "display_data"
    },
    {
     "data": {
      "text/html": [
       "\n",
       "            <div style=\"float: left; border: 1px solid black; width:500px\">\n",
       "              <div id=\"f7c50ad5-6b6e-40b9-92b9-1464230df29c\" style=\"background-color:blue; width:0%\">&nbsp;</div>\n",
       "            </div>\n",
       "            <label id=\"273a4791-eeea-4e2b-9f33-c5f345670eed\" style=\"padding-left: 10px;\" text = \"\"/>\n",
       "            "
      ],
      "text/plain": [
       "<IPython.core.display.HTML object>"
      ]
     },
     "metadata": {},
     "output_type": "display_data"
    },
    {
     "data": {
      "text/html": [
       "\n",
       "            <div style=\"float: left; border: 1px solid black; width:500px\">\n",
       "              <div id=\"4a057953-373c-4f4f-8982-8c61f4c69689\" style=\"background-color:blue; width:0%\">&nbsp;</div>\n",
       "            </div>\n",
       "            <label id=\"04fdddaf-f3af-4225-a913-8a4a5f55086e\" style=\"padding-left: 10px;\" text = \"\"/>\n",
       "            "
      ],
      "text/plain": [
       "<IPython.core.display.HTML object>"
      ]
     },
     "metadata": {},
     "output_type": "display_data"
    },
    {
     "data": {
      "text/html": [
       "\n",
       "            <div style=\"float: left; border: 1px solid black; width:500px\">\n",
       "              <div id=\"b6ec4720-c46a-4108-98da-d8f994995c30\" style=\"background-color:blue; width:0%\">&nbsp;</div>\n",
       "            </div>\n",
       "            <label id=\"81c6e2a5-4911-4727-966c-9515fe43ec17\" style=\"padding-left: 10px;\" text = \"\"/>\n",
       "            "
      ],
      "text/plain": [
       "<IPython.core.display.HTML object>"
      ]
     },
     "metadata": {},
     "output_type": "display_data"
    },
    {
     "data": {
      "text/html": [
       "\n",
       "            <div style=\"float: left; border: 1px solid black; width:500px\">\n",
       "              <div id=\"772550d6-075c-4456-98f5-d7868371256f\" style=\"background-color:blue; width:0%\">&nbsp;</div>\n",
       "            </div>\n",
       "            <label id=\"eeb8f96c-a0d6-4b55-8398-4ad89414b8d1\" style=\"padding-left: 10px;\" text = \"\"/>\n",
       "            "
      ],
      "text/plain": [
       "<IPython.core.display.HTML object>"
      ]
     },
     "metadata": {},
     "output_type": "display_data"
    },
    {
     "data": {
      "text/html": [
       "\n",
       "            <div style=\"float: left; border: 1px solid black; width:500px\">\n",
       "              <div id=\"f08610c7-7681-43f2-b72f-48c1785aa5db\" style=\"background-color:blue; width:0%\">&nbsp;</div>\n",
       "            </div>\n",
       "            <label id=\"9dd3fa41-6a7f-4d26-a95f-3135e55b8182\" style=\"padding-left: 10px;\" text = \"\"/>\n",
       "            "
      ],
      "text/plain": [
       "<IPython.core.display.HTML object>"
      ]
     },
     "metadata": {},
     "output_type": "display_data"
    },
    {
     "data": {
      "text/html": [
       "\n",
       "            <div style=\"float: left; border: 1px solid black; width:500px\">\n",
       "              <div id=\"2d141ce3-89fa-4427-b1f1-468a738ad721\" style=\"background-color:blue; width:0%\">&nbsp;</div>\n",
       "            </div>\n",
       "            <label id=\"a1f319dd-108a-41f2-9132-d8bbbe7bb372\" style=\"padding-left: 10px;\" text = \"\"/>\n",
       "            "
      ],
      "text/plain": [
       "<IPython.core.display.HTML object>"
      ]
     },
     "metadata": {},
     "output_type": "display_data"
    },
    {
     "name": "stdout",
     "output_type": "stream",
     "text": [
      "Seahawks\n",
      "Cardinals\n"
     ]
    },
    {
     "data": {
      "text/html": [
       "\n",
       "            <div style=\"float: left; border: 1px solid black; width:500px\">\n",
       "              <div id=\"597435b2-ac92-4533-b5d7-6ec4a5171fa6\" style=\"background-color:blue; width:0%\">&nbsp;</div>\n",
       "            </div>\n",
       "            <label id=\"036fb6e6-e74d-4f07-ba45-c0529125e6d1\" style=\"padding-left: 10px;\" text = \"\"/>\n",
       "            "
      ],
      "text/plain": [
       "<IPython.core.display.HTML object>"
      ]
     },
     "metadata": {},
     "output_type": "display_data"
    },
    {
     "data": {
      "text/html": [
       "\n",
       "            <div style=\"float: left; border: 1px solid black; width:500px\">\n",
       "              <div id=\"bb6d35d4-212b-4e70-a390-4470c7304256\" style=\"background-color:blue; width:0%\">&nbsp;</div>\n",
       "            </div>\n",
       "            <label id=\"1fdaae04-eb99-4e26-a345-7eca08d14870\" style=\"padding-left: 10px;\" text = \"\"/>\n",
       "            "
      ],
      "text/plain": [
       "<IPython.core.display.HTML object>"
      ]
     },
     "metadata": {},
     "output_type": "display_data"
    },
    {
     "data": {
      "text/html": [
       "\n",
       "            <div style=\"float: left; border: 1px solid black; width:500px\">\n",
       "              <div id=\"7f962ebf-330d-40fa-a7ba-eb3592dfd1f2\" style=\"background-color:blue; width:0%\">&nbsp;</div>\n",
       "            </div>\n",
       "            <label id=\"d4e2e9ae-9675-4640-9415-e0d5446061df\" style=\"padding-left: 10px;\" text = \"\"/>\n",
       "            "
      ],
      "text/plain": [
       "<IPython.core.display.HTML object>"
      ]
     },
     "metadata": {},
     "output_type": "display_data"
    },
    {
     "data": {
      "text/html": [
       "\n",
       "            <div style=\"float: left; border: 1px solid black; width:500px\">\n",
       "              <div id=\"542c2959-aa55-4316-8036-1fb0c3df0f96\" style=\"background-color:blue; width:0%\">&nbsp;</div>\n",
       "            </div>\n",
       "            <label id=\"096d7c2a-242d-4986-bb1e-47f62a6aa0f5\" style=\"padding-left: 10px;\" text = \"\"/>\n",
       "            "
      ],
      "text/plain": [
       "<IPython.core.display.HTML object>"
      ]
     },
     "metadata": {},
     "output_type": "display_data"
    },
    {
     "data": {
      "text/html": [
       "\n",
       "            <div style=\"float: left; border: 1px solid black; width:500px\">\n",
       "              <div id=\"86743733-148b-42d5-99e4-4297f2ed16b7\" style=\"background-color:blue; width:0%\">&nbsp;</div>\n",
       "            </div>\n",
       "            <label id=\"0b1fbc35-b59c-4cfc-82e1-24e344643879\" style=\"padding-left: 10px;\" text = \"\"/>\n",
       "            "
      ],
      "text/plain": [
       "<IPython.core.display.HTML object>"
      ]
     },
     "metadata": {},
     "output_type": "display_data"
    },
    {
     "data": {
      "text/html": [
       "\n",
       "            <div style=\"float: left; border: 1px solid black; width:500px\">\n",
       "              <div id=\"b90164a3-d102-4b8c-a858-485db69714a9\" style=\"background-color:blue; width:0%\">&nbsp;</div>\n",
       "            </div>\n",
       "            <label id=\"b2fcf706-d3c6-4dba-8d70-20d57d1ffcfb\" style=\"padding-left: 10px;\" text = \"\"/>\n",
       "            "
      ],
      "text/plain": [
       "<IPython.core.display.HTML object>"
      ]
     },
     "metadata": {},
     "output_type": "display_data"
    },
    {
     "data": {
      "text/html": [
       "\n",
       "            <div style=\"float: left; border: 1px solid black; width:500px\">\n",
       "              <div id=\"2b3a66a0-29e6-4078-9e8a-694ee99e3ead\" style=\"background-color:blue; width:0%\">&nbsp;</div>\n",
       "            </div>\n",
       "            <label id=\"9fe1c003-dfe1-4213-ad60-a7c2192b0c04\" style=\"padding-left: 10px;\" text = \"\"/>\n",
       "            "
      ],
      "text/plain": [
       "<IPython.core.display.HTML object>"
      ]
     },
     "metadata": {},
     "output_type": "display_data"
    },
    {
     "data": {
      "text/html": [
       "\n",
       "            <div style=\"float: left; border: 1px solid black; width:500px\">\n",
       "              <div id=\"5a4c3dc5-428b-434e-aa65-efa3dfc49552\" style=\"background-color:blue; width:0%\">&nbsp;</div>\n",
       "            </div>\n",
       "            <label id=\"c4275c6f-5505-418a-80e9-f396a8a2a8dd\" style=\"padding-left: 10px;\" text = \"\"/>\n",
       "            "
      ],
      "text/plain": [
       "<IPython.core.display.HTML object>"
      ]
     },
     "metadata": {},
     "output_type": "display_data"
    },
    {
     "data": {
      "text/html": [
       "\n",
       "            <div style=\"float: left; border: 1px solid black; width:500px\">\n",
       "              <div id=\"68b3543a-3132-49f2-b13c-41450bd7a11c\" style=\"background-color:blue; width:0%\">&nbsp;</div>\n",
       "            </div>\n",
       "            <label id=\"01afb390-fc74-4c38-89e5-6a74480e1475\" style=\"padding-left: 10px;\" text = \"\"/>\n",
       "            "
      ],
      "text/plain": [
       "<IPython.core.display.HTML object>"
      ]
     },
     "metadata": {},
     "output_type": "display_data"
    },
    {
     "data": {
      "text/html": [
       "\n",
       "            <div style=\"float: left; border: 1px solid black; width:500px\">\n",
       "              <div id=\"56b021f9-c869-4297-a02a-370b3e34f66e\" style=\"background-color:blue; width:0%\">&nbsp;</div>\n",
       "            </div>\n",
       "            <label id=\"546e560d-31a9-4492-b378-b7df3a4e63bd\" style=\"padding-left: 10px;\" text = \"\"/>\n",
       "            "
      ],
      "text/plain": [
       "<IPython.core.display.HTML object>"
      ]
     },
     "metadata": {},
     "output_type": "display_data"
    },
    {
     "data": {
      "text/html": [
       "\n",
       "            <div style=\"float: left; border: 1px solid black; width:500px\">\n",
       "              <div id=\"797199b1-9db3-4498-aae8-2ee43dbbb5a6\" style=\"background-color:blue; width:0%\">&nbsp;</div>\n",
       "            </div>\n",
       "            <label id=\"eb2c2f9b-b652-4f49-a192-53f8b81274c5\" style=\"padding-left: 10px;\" text = \"\"/>\n",
       "            "
      ],
      "text/plain": [
       "<IPython.core.display.HTML object>"
      ]
     },
     "metadata": {},
     "output_type": "display_data"
    },
    {
     "data": {
      "text/html": [
       "\n",
       "            <div style=\"float: left; border: 1px solid black; width:500px\">\n",
       "              <div id=\"4323482d-5193-442b-a5db-2aae3d8cdf0a\" style=\"background-color:blue; width:0%\">&nbsp;</div>\n",
       "            </div>\n",
       "            <label id=\"2a4192cb-0986-4767-b968-181685ee30ee\" style=\"padding-left: 10px;\" text = \"\"/>\n",
       "            "
      ],
      "text/plain": [
       "<IPython.core.display.HTML object>"
      ]
     },
     "metadata": {},
     "output_type": "display_data"
    },
    {
     "data": {
      "text/html": [
       "\n",
       "            <div style=\"float: left; border: 1px solid black; width:500px\">\n",
       "              <div id=\"7c4911ae-6e12-43e8-8aef-0c47e4343ab1\" style=\"background-color:blue; width:0%\">&nbsp;</div>\n",
       "            </div>\n",
       "            <label id=\"bd0bd0ce-8f03-404e-bb0b-fc98d6ba6464\" style=\"padding-left: 10px;\" text = \"\"/>\n",
       "            "
      ],
      "text/plain": [
       "<IPython.core.display.HTML object>"
      ]
     },
     "metadata": {},
     "output_type": "display_data"
    },
    {
     "data": {
      "text/html": [
       "\n",
       "            <div style=\"float: left; border: 1px solid black; width:500px\">\n",
       "              <div id=\"ccbf4a5f-645d-4d9e-8492-efee76361bde\" style=\"background-color:blue; width:0%\">&nbsp;</div>\n",
       "            </div>\n",
       "            <label id=\"1b913f74-85d2-4099-8f6c-6282dbf6b4af\" style=\"padding-left: 10px;\" text = \"\"/>\n",
       "            "
      ],
      "text/plain": [
       "<IPython.core.display.HTML object>"
      ]
     },
     "metadata": {},
     "output_type": "display_data"
    },
    {
     "data": {
      "text/html": [
       "\n",
       "            <div style=\"float: left; border: 1px solid black; width:500px\">\n",
       "              <div id=\"5cbba6dc-445b-4b21-9b87-133c9cf089c9\" style=\"background-color:blue; width:0%\">&nbsp;</div>\n",
       "            </div>\n",
       "            <label id=\"fafcee04-db7b-4228-8eb5-ce35bef42d99\" style=\"padding-left: 10px;\" text = \"\"/>\n",
       "            "
      ],
      "text/plain": [
       "<IPython.core.display.HTML object>"
      ]
     },
     "metadata": {},
     "output_type": "display_data"
    },
    {
     "data": {
      "text/html": [
       "\n",
       "            <div style=\"float: left; border: 1px solid black; width:500px\">\n",
       "              <div id=\"07ad9300-c830-4292-9a03-fd5a21736297\" style=\"background-color:blue; width:0%\">&nbsp;</div>\n",
       "            </div>\n",
       "            <label id=\"9b4534bf-79d9-4743-a283-4ec379121eae\" style=\"padding-left: 10px;\" text = \"\"/>\n",
       "            "
      ],
      "text/plain": [
       "<IPython.core.display.HTML object>"
      ]
     },
     "metadata": {},
     "output_type": "display_data"
    },
    {
     "data": {
      "text/html": [
       "\n",
       "            <div style=\"float: left; border: 1px solid black; width:500px\">\n",
       "              <div id=\"8bdb7506-da90-410b-8e53-8314f96fbdbf\" style=\"background-color:blue; width:0%\">&nbsp;</div>\n",
       "            </div>\n",
       "            <label id=\"1e9594b7-3e41-4f3a-b166-04be5945fcc2\" style=\"padding-left: 10px;\" text = \"\"/>\n",
       "            "
      ],
      "text/plain": [
       "<IPython.core.display.HTML object>"
      ]
     },
     "metadata": {},
     "output_type": "display_data"
    },
    {
     "data": {
      "text/html": [
       "\n",
       "            <div style=\"float: left; border: 1px solid black; width:500px\">\n",
       "              <div id=\"25aad587-50dd-4e38-b98d-1f4d1e175832\" style=\"background-color:blue; width:0%\">&nbsp;</div>\n",
       "            </div>\n",
       "            <label id=\"ef85d492-2196-454a-8df3-837768f80a0b\" style=\"padding-left: 10px;\" text = \"\"/>\n",
       "            "
      ],
      "text/plain": [
       "<IPython.core.display.HTML object>"
      ]
     },
     "metadata": {},
     "output_type": "display_data"
    },
    {
     "name": "stdout",
     "output_type": "stream",
     "text": [
      "49ers\n",
      "Rams\n"
     ]
    },
    {
     "data": {
      "text/html": [
       "\n",
       "            <div style=\"float: left; border: 1px solid black; width:500px\">\n",
       "              <div id=\"a1c03e3e-a5b2-4cdb-a17f-5f5ef858e4a0\" style=\"background-color:blue; width:0%\">&nbsp;</div>\n",
       "            </div>\n",
       "            <label id=\"d2163787-8f71-49ee-aa3d-d2cf3dbb3e05\" style=\"padding-left: 10px;\" text = \"\"/>\n",
       "            "
      ],
      "text/plain": [
       "<IPython.core.display.HTML object>"
      ]
     },
     "metadata": {},
     "output_type": "display_data"
    },
    {
     "data": {
      "text/html": [
       "\n",
       "            <div style=\"float: left; border: 1px solid black; width:500px\">\n",
       "              <div id=\"38122115-1715-41a8-be49-45390075ba33\" style=\"background-color:blue; width:0%\">&nbsp;</div>\n",
       "            </div>\n",
       "            <label id=\"7f6b5843-ef3e-4b94-bcfb-72f93ff9b1aa\" style=\"padding-left: 10px;\" text = \"\"/>\n",
       "            "
      ],
      "text/plain": [
       "<IPython.core.display.HTML object>"
      ]
     },
     "metadata": {},
     "output_type": "display_data"
    },
    {
     "data": {
      "text/html": [
       "\n",
       "            <div style=\"float: left; border: 1px solid black; width:500px\">\n",
       "              <div id=\"8bc1b120-8bda-476c-b1f1-534b1ceeb537\" style=\"background-color:blue; width:0%\">&nbsp;</div>\n",
       "            </div>\n",
       "            <label id=\"5b5c05ae-49fa-44f3-8542-94a6dd026bbc\" style=\"padding-left: 10px;\" text = \"\"/>\n",
       "            "
      ],
      "text/plain": [
       "<IPython.core.display.HTML object>"
      ]
     },
     "metadata": {},
     "output_type": "display_data"
    },
    {
     "data": {
      "text/html": [
       "\n",
       "            <div style=\"float: left; border: 1px solid black; width:500px\">\n",
       "              <div id=\"c7d4cfaf-9d26-448e-ad51-e50c1e89c8d2\" style=\"background-color:blue; width:0%\">&nbsp;</div>\n",
       "            </div>\n",
       "            <label id=\"8097bf63-7a11-4479-b98d-f5e7427211f0\" style=\"padding-left: 10px;\" text = \"\"/>\n",
       "            "
      ],
      "text/plain": [
       "<IPython.core.display.HTML object>"
      ]
     },
     "metadata": {},
     "output_type": "display_data"
    },
    {
     "data": {
      "text/html": [
       "\n",
       "            <div style=\"float: left; border: 1px solid black; width:500px\">\n",
       "              <div id=\"a9f45ad5-5262-4084-ba3d-f2f55241f243\" style=\"background-color:blue; width:0%\">&nbsp;</div>\n",
       "            </div>\n",
       "            <label id=\"1437cb74-c835-434e-bb47-fd6ef3f0afcc\" style=\"padding-left: 10px;\" text = \"\"/>\n",
       "            "
      ],
      "text/plain": [
       "<IPython.core.display.HTML object>"
      ]
     },
     "metadata": {},
     "output_type": "display_data"
    },
    {
     "data": {
      "text/html": [
       "\n",
       "            <div style=\"float: left; border: 1px solid black; width:500px\">\n",
       "              <div id=\"492b05f4-24af-45e6-aaa2-b5425995126c\" style=\"background-color:blue; width:0%\">&nbsp;</div>\n",
       "            </div>\n",
       "            <label id=\"fd26822e-c9f8-4332-9681-9c5dc8a74607\" style=\"padding-left: 10px;\" text = \"\"/>\n",
       "            "
      ],
      "text/plain": [
       "<IPython.core.display.HTML object>"
      ]
     },
     "metadata": {},
     "output_type": "display_data"
    },
    {
     "data": {
      "text/html": [
       "\n",
       "            <div style=\"float: left; border: 1px solid black; width:500px\">\n",
       "              <div id=\"9aab9e15-9000-4c5b-beb3-599e1e3c5a45\" style=\"background-color:blue; width:0%\">&nbsp;</div>\n",
       "            </div>\n",
       "            <label id=\"d54673d9-3cea-436c-a811-33c9deb3f8f5\" style=\"padding-left: 10px;\" text = \"\"/>\n",
       "            "
      ],
      "text/plain": [
       "<IPython.core.display.HTML object>"
      ]
     },
     "metadata": {},
     "output_type": "display_data"
    },
    {
     "data": {
      "text/html": [
       "\n",
       "            <div style=\"float: left; border: 1px solid black; width:500px\">\n",
       "              <div id=\"242f4d97-1139-408a-8300-72a8e51952a0\" style=\"background-color:blue; width:0%\">&nbsp;</div>\n",
       "            </div>\n",
       "            <label id=\"ffb0ff3c-01cb-4214-adf9-a46bd6df4dd3\" style=\"padding-left: 10px;\" text = \"\"/>\n",
       "            "
      ],
      "text/plain": [
       "<IPython.core.display.HTML object>"
      ]
     },
     "metadata": {},
     "output_type": "display_data"
    },
    {
     "data": {
      "text/html": [
       "\n",
       "            <div style=\"float: left; border: 1px solid black; width:500px\">\n",
       "              <div id=\"e596c98d-7b50-44e0-90c1-ef5453fe06ac\" style=\"background-color:blue; width:0%\">&nbsp;</div>\n",
       "            </div>\n",
       "            <label id=\"f8d9200f-e27c-4417-ac85-7510db3cd2e9\" style=\"padding-left: 10px;\" text = \"\"/>\n",
       "            "
      ],
      "text/plain": [
       "<IPython.core.display.HTML object>"
      ]
     },
     "metadata": {},
     "output_type": "display_data"
    },
    {
     "data": {
      "text/html": [
       "\n",
       "            <div style=\"float: left; border: 1px solid black; width:500px\">\n",
       "              <div id=\"8358ea23-a61d-474d-9ac1-1c412e45d615\" style=\"background-color:blue; width:0%\">&nbsp;</div>\n",
       "            </div>\n",
       "            <label id=\"e0c7bff0-dd2a-4a35-980d-51460751ae09\" style=\"padding-left: 10px;\" text = \"\"/>\n",
       "            "
      ],
      "text/plain": [
       "<IPython.core.display.HTML object>"
      ]
     },
     "metadata": {},
     "output_type": "display_data"
    },
    {
     "data": {
      "text/html": [
       "\n",
       "            <div style=\"float: left; border: 1px solid black; width:500px\">\n",
       "              <div id=\"74025e35-df81-4b0c-864c-797a43310b32\" style=\"background-color:blue; width:0%\">&nbsp;</div>\n",
       "            </div>\n",
       "            <label id=\"90a3e2c0-aaf9-4976-8ca6-4561fe1f4cd4\" style=\"padding-left: 10px;\" text = \"\"/>\n",
       "            "
      ],
      "text/plain": [
       "<IPython.core.display.HTML object>"
      ]
     },
     "metadata": {},
     "output_type": "display_data"
    },
    {
     "data": {
      "text/html": [
       "\n",
       "            <div style=\"float: left; border: 1px solid black; width:500px\">\n",
       "              <div id=\"bb694270-8ed2-4532-b521-da5181c5b4d1\" style=\"background-color:blue; width:0%\">&nbsp;</div>\n",
       "            </div>\n",
       "            <label id=\"33e5bb41-f8af-4018-a93f-db45fa839a19\" style=\"padding-left: 10px;\" text = \"\"/>\n",
       "            "
      ],
      "text/plain": [
       "<IPython.core.display.HTML object>"
      ]
     },
     "metadata": {},
     "output_type": "display_data"
    },
    {
     "data": {
      "text/html": [
       "\n",
       "            <div style=\"float: left; border: 1px solid black; width:500px\">\n",
       "              <div id=\"5120977d-95da-4d0a-bbf4-b18cbb8e3517\" style=\"background-color:blue; width:0%\">&nbsp;</div>\n",
       "            </div>\n",
       "            <label id=\"c173fcdf-b45e-4605-9061-6aa7bdf032c0\" style=\"padding-left: 10px;\" text = \"\"/>\n",
       "            "
      ],
      "text/plain": [
       "<IPython.core.display.HTML object>"
      ]
     },
     "metadata": {},
     "output_type": "display_data"
    },
    {
     "data": {
      "text/html": [
       "\n",
       "            <div style=\"float: left; border: 1px solid black; width:500px\">\n",
       "              <div id=\"a5ea8d11-5e0c-438b-9c13-bfa29fbe3c39\" style=\"background-color:blue; width:0%\">&nbsp;</div>\n",
       "            </div>\n",
       "            <label id=\"9c940e5f-3ff7-49b2-9a58-a4815d2ac1d2\" style=\"padding-left: 10px;\" text = \"\"/>\n",
       "            "
      ],
      "text/plain": [
       "<IPython.core.display.HTML object>"
      ]
     },
     "metadata": {},
     "output_type": "display_data"
    },
    {
     "data": {
      "text/html": [
       "\n",
       "            <div style=\"float: left; border: 1px solid black; width:500px\">\n",
       "              <div id=\"a2ac1cd1-2cda-4968-b763-4f62432df8de\" style=\"background-color:blue; width:0%\">&nbsp;</div>\n",
       "            </div>\n",
       "            <label id=\"97b0d5b4-3f0c-478e-b7e0-879245016e2c\" style=\"padding-left: 10px;\" text = \"\"/>\n",
       "            "
      ],
      "text/plain": [
       "<IPython.core.display.HTML object>"
      ]
     },
     "metadata": {},
     "output_type": "display_data"
    },
    {
     "data": {
      "text/html": [
       "\n",
       "            <div style=\"float: left; border: 1px solid black; width:500px\">\n",
       "              <div id=\"48fe9853-c188-47b9-a69b-90272dea2b3e\" style=\"background-color:blue; width:0%\">&nbsp;</div>\n",
       "            </div>\n",
       "            <label id=\"cfc2a4b8-5f66-44db-be51-c25ef432d87a\" style=\"padding-left: 10px;\" text = \"\"/>\n",
       "            "
      ],
      "text/plain": [
       "<IPython.core.display.HTML object>"
      ]
     },
     "metadata": {},
     "output_type": "display_data"
    },
    {
     "data": {
      "text/html": [
       "\n",
       "            <div style=\"float: left; border: 1px solid black; width:500px\">\n",
       "              <div id=\"a49aac55-70f8-4184-b86c-0d40493609c1\" style=\"background-color:blue; width:0%\">&nbsp;</div>\n",
       "            </div>\n",
       "            <label id=\"6584e5d4-6275-4519-ac18-c782f6cca930\" style=\"padding-left: 10px;\" text = \"\"/>\n",
       "            "
      ],
      "text/plain": [
       "<IPython.core.display.HTML object>"
      ]
     },
     "metadata": {},
     "output_type": "display_data"
    },
    {
     "data": {
      "text/html": [
       "\n",
       "            <div style=\"float: left; border: 1px solid black; width:500px\">\n",
       "              <div id=\"743e3154-866f-44c7-81bf-b1a05a0cc4e6\" style=\"background-color:blue; width:0%\">&nbsp;</div>\n",
       "            </div>\n",
       "            <label id=\"d22d91c2-7708-4e6f-846b-e4b0f7c4e2b5\" style=\"padding-left: 10px;\" text = \"\"/>\n",
       "            "
      ],
      "text/plain": [
       "<IPython.core.display.HTML object>"
      ]
     },
     "metadata": {},
     "output_type": "display_data"
    },
    {
     "name": "stdout",
     "output_type": "stream",
     "text": [
      "Chargers\n",
      "Raiders\n"
     ]
    },
    {
     "data": {
      "text/html": [
       "\n",
       "            <div style=\"float: left; border: 1px solid black; width:500px\">\n",
       "              <div id=\"72b19ec7-16ad-4548-baba-7acec0399f6a\" style=\"background-color:blue; width:0%\">&nbsp;</div>\n",
       "            </div>\n",
       "            <label id=\"2d7dd0ab-7e88-4133-a457-9083b9f805b1\" style=\"padding-left: 10px;\" text = \"\"/>\n",
       "            "
      ],
      "text/plain": [
       "<IPython.core.display.HTML object>"
      ]
     },
     "metadata": {},
     "output_type": "display_data"
    },
    {
     "data": {
      "text/html": [
       "\n",
       "            <div style=\"float: left; border: 1px solid black; width:500px\">\n",
       "              <div id=\"3c695e7a-ed97-4b3c-859d-28457ccc0e4b\" style=\"background-color:blue; width:0%\">&nbsp;</div>\n",
       "            </div>\n",
       "            <label id=\"3173dfea-434f-4dbd-a221-8cdd02780f6d\" style=\"padding-left: 10px;\" text = \"\"/>\n",
       "            "
      ],
      "text/plain": [
       "<IPython.core.display.HTML object>"
      ]
     },
     "metadata": {},
     "output_type": "display_data"
    },
    {
     "data": {
      "text/html": [
       "\n",
       "            <div style=\"float: left; border: 1px solid black; width:500px\">\n",
       "              <div id=\"9be8b788-a1dc-44eb-965a-d479359ee379\" style=\"background-color:blue; width:0%\">&nbsp;</div>\n",
       "            </div>\n",
       "            <label id=\"e7df15b8-26d0-4b9e-994a-bd322b807304\" style=\"padding-left: 10px;\" text = \"\"/>\n",
       "            "
      ],
      "text/plain": [
       "<IPython.core.display.HTML object>"
      ]
     },
     "metadata": {},
     "output_type": "display_data"
    },
    {
     "data": {
      "text/html": [
       "\n",
       "            <div style=\"float: left; border: 1px solid black; width:500px\">\n",
       "              <div id=\"b11501c2-dc8f-436a-98f5-031ea6c0d3c2\" style=\"background-color:blue; width:0%\">&nbsp;</div>\n",
       "            </div>\n",
       "            <label id=\"fdd15db1-f10f-4f0a-8321-4edc0ae13a7d\" style=\"padding-left: 10px;\" text = \"\"/>\n",
       "            "
      ],
      "text/plain": [
       "<IPython.core.display.HTML object>"
      ]
     },
     "metadata": {},
     "output_type": "display_data"
    },
    {
     "data": {
      "text/html": [
       "\n",
       "            <div style=\"float: left; border: 1px solid black; width:500px\">\n",
       "              <div id=\"2dd3b7b5-156a-4f38-a821-6b5d556ea2aa\" style=\"background-color:blue; width:0%\">&nbsp;</div>\n",
       "            </div>\n",
       "            <label id=\"4523cb16-386b-4065-a506-e90077dc2ab5\" style=\"padding-left: 10px;\" text = \"\"/>\n",
       "            "
      ],
      "text/plain": [
       "<IPython.core.display.HTML object>"
      ]
     },
     "metadata": {},
     "output_type": "display_data"
    },
    {
     "data": {
      "text/html": [
       "\n",
       "            <div style=\"float: left; border: 1px solid black; width:500px\">\n",
       "              <div id=\"6fb1f1bc-ca09-4ad5-abc2-4c3beea9b2aa\" style=\"background-color:blue; width:0%\">&nbsp;</div>\n",
       "            </div>\n",
       "            <label id=\"6cd5a8bf-aa43-4dc5-9316-bd600d9dab16\" style=\"padding-left: 10px;\" text = \"\"/>\n",
       "            "
      ],
      "text/plain": [
       "<IPython.core.display.HTML object>"
      ]
     },
     "metadata": {},
     "output_type": "display_data"
    },
    {
     "data": {
      "text/html": [
       "\n",
       "            <div style=\"float: left; border: 1px solid black; width:500px\">\n",
       "              <div id=\"3f202fef-e699-4082-ad26-caa37624aa05\" style=\"background-color:blue; width:0%\">&nbsp;</div>\n",
       "            </div>\n",
       "            <label id=\"939ecfd0-88ff-447b-b346-662fe2a3fae5\" style=\"padding-left: 10px;\" text = \"\"/>\n",
       "            "
      ],
      "text/plain": [
       "<IPython.core.display.HTML object>"
      ]
     },
     "metadata": {},
     "output_type": "display_data"
    },
    {
     "data": {
      "text/html": [
       "\n",
       "            <div style=\"float: left; border: 1px solid black; width:500px\">\n",
       "              <div id=\"13e264b7-3d1d-40c4-b30a-16ffed78afb6\" style=\"background-color:blue; width:0%\">&nbsp;</div>\n",
       "            </div>\n",
       "            <label id=\"d57d97f8-7007-40aa-a988-4bce349a2bec\" style=\"padding-left: 10px;\" text = \"\"/>\n",
       "            "
      ],
      "text/plain": [
       "<IPython.core.display.HTML object>"
      ]
     },
     "metadata": {},
     "output_type": "display_data"
    },
    {
     "data": {
      "text/html": [
       "\n",
       "            <div style=\"float: left; border: 1px solid black; width:500px\">\n",
       "              <div id=\"462907bb-daec-408d-9354-e015cc7a2395\" style=\"background-color:blue; width:0%\">&nbsp;</div>\n",
       "            </div>\n",
       "            <label id=\"4491f45c-ae09-4bc3-85ad-cd554966958f\" style=\"padding-left: 10px;\" text = \"\"/>\n",
       "            "
      ],
      "text/plain": [
       "<IPython.core.display.HTML object>"
      ]
     },
     "metadata": {},
     "output_type": "display_data"
    },
    {
     "data": {
      "text/html": [
       "\n",
       "            <div style=\"float: left; border: 1px solid black; width:500px\">\n",
       "              <div id=\"ac16f77a-e378-4136-8fd7-ca718556ba55\" style=\"background-color:blue; width:0%\">&nbsp;</div>\n",
       "            </div>\n",
       "            <label id=\"80e4bf13-4c34-4bb9-8849-81f3c6d6f2bb\" style=\"padding-left: 10px;\" text = \"\"/>\n",
       "            "
      ],
      "text/plain": [
       "<IPython.core.display.HTML object>"
      ]
     },
     "metadata": {},
     "output_type": "display_data"
    },
    {
     "data": {
      "text/html": [
       "\n",
       "            <div style=\"float: left; border: 1px solid black; width:500px\">\n",
       "              <div id=\"84d8bcca-c4fc-41eb-8301-552c92f81817\" style=\"background-color:blue; width:0%\">&nbsp;</div>\n",
       "            </div>\n",
       "            <label id=\"76d672d8-3ad1-448b-99be-3ff4f5357452\" style=\"padding-left: 10px;\" text = \"\"/>\n",
       "            "
      ],
      "text/plain": [
       "<IPython.core.display.HTML object>"
      ]
     },
     "metadata": {},
     "output_type": "display_data"
    },
    {
     "data": {
      "text/html": [
       "\n",
       "            <div style=\"float: left; border: 1px solid black; width:500px\">\n",
       "              <div id=\"a693076b-d512-438c-ad1c-199246820cdf\" style=\"background-color:blue; width:0%\">&nbsp;</div>\n",
       "            </div>\n",
       "            <label id=\"2ffb74d0-5718-4c69-aaa1-95bb55dc6dcf\" style=\"padding-left: 10px;\" text = \"\"/>\n",
       "            "
      ],
      "text/plain": [
       "<IPython.core.display.HTML object>"
      ]
     },
     "metadata": {},
     "output_type": "display_data"
    },
    {
     "data": {
      "text/html": [
       "\n",
       "            <div style=\"float: left; border: 1px solid black; width:500px\">\n",
       "              <div id=\"5a758c1a-5bd9-48b7-93fe-4caca8257bd4\" style=\"background-color:blue; width:0%\">&nbsp;</div>\n",
       "            </div>\n",
       "            <label id=\"45bf7d4b-da86-4682-821b-cada14b94f02\" style=\"padding-left: 10px;\" text = \"\"/>\n",
       "            "
      ],
      "text/plain": [
       "<IPython.core.display.HTML object>"
      ]
     },
     "metadata": {},
     "output_type": "display_data"
    },
    {
     "data": {
      "text/html": [
       "\n",
       "            <div style=\"float: left; border: 1px solid black; width:500px\">\n",
       "              <div id=\"18b156aa-4179-4083-9df0-63388d783b20\" style=\"background-color:blue; width:0%\">&nbsp;</div>\n",
       "            </div>\n",
       "            <label id=\"fb0d1071-67ab-4386-967f-8603fb4c62e2\" style=\"padding-left: 10px;\" text = \"\"/>\n",
       "            "
      ],
      "text/plain": [
       "<IPython.core.display.HTML object>"
      ]
     },
     "metadata": {},
     "output_type": "display_data"
    },
    {
     "data": {
      "text/html": [
       "\n",
       "            <div style=\"float: left; border: 1px solid black; width:500px\">\n",
       "              <div id=\"2ec7cf79-cd3e-4c8c-afe6-9208fdb7352b\" style=\"background-color:blue; width:0%\">&nbsp;</div>\n",
       "            </div>\n",
       "            <label id=\"b4dda5c1-c979-4c9f-b53e-fcf546aa9871\" style=\"padding-left: 10px;\" text = \"\"/>\n",
       "            "
      ],
      "text/plain": [
       "<IPython.core.display.HTML object>"
      ]
     },
     "metadata": {},
     "output_type": "display_data"
    },
    {
     "data": {
      "text/html": [
       "\n",
       "            <div style=\"float: left; border: 1px solid black; width:500px\">\n",
       "              <div id=\"b1937226-5fc5-4dee-9489-9d45bc4e3040\" style=\"background-color:blue; width:0%\">&nbsp;</div>\n",
       "            </div>\n",
       "            <label id=\"21942a56-4bf0-4f7d-a21b-58a99b9aec25\" style=\"padding-left: 10px;\" text = \"\"/>\n",
       "            "
      ],
      "text/plain": [
       "<IPython.core.display.HTML object>"
      ]
     },
     "metadata": {},
     "output_type": "display_data"
    },
    {
     "data": {
      "text/html": [
       "\n",
       "            <div style=\"float: left; border: 1px solid black; width:500px\">\n",
       "              <div id=\"fd2f605b-dfc3-40c3-8eca-a7c35fdcd62b\" style=\"background-color:blue; width:0%\">&nbsp;</div>\n",
       "            </div>\n",
       "            <label id=\"8aeb05c2-cad2-4aa0-8a44-096a95396eb9\" style=\"padding-left: 10px;\" text = \"\"/>\n",
       "            "
      ],
      "text/plain": [
       "<IPython.core.display.HTML object>"
      ]
     },
     "metadata": {},
     "output_type": "display_data"
    },
    {
     "data": {
      "text/html": [
       "\n",
       "            <div style=\"float: left; border: 1px solid black; width:500px\">\n",
       "              <div id=\"ddc984c2-a629-44c8-885d-da2703a23bf0\" style=\"background-color:blue; width:0%\">&nbsp;</div>\n",
       "            </div>\n",
       "            <label id=\"59bb42bc-ddac-4633-8285-ddb595f58dbc\" style=\"padding-left: 10px;\" text = \"\"/>\n",
       "            "
      ],
      "text/plain": [
       "<IPython.core.display.HTML object>"
      ]
     },
     "metadata": {},
     "output_type": "display_data"
    },
    {
     "name": "stdout",
     "output_type": "stream",
     "text": [
      "Done\n"
     ]
    }
   ],
   "source": [
    "from fitter import Fitter\n",
    "import pandas as pd\n",
    "import numpy as np\n",
    "from Classes import Simulation_Team\n",
    "from Simulate import simulate\n",
    "from Image_Making import create_win_probabilities_image, create_fantasy_rankings_image, create_primetime_opener_image, create_primetime_stat_projections_image\n",
    "from Other_Functions import bubble_sort_by_fpts, return_best_fit_in_str_format\n",
    "\n",
    "# Base team colors, for image making\n",
    "team_colors = {\"Bills\": (2, 45, 147), \"Dolphins\": (1, 142, 151), \"Jets\": (12, 87, 64), \"Patriots\": (206, 2, 29), \"Bengals\": (239, 72, 30), \"Browns\": (221, 96, 6), \"Ravens\": (42, 44, 129), \"Steelers\": (240, 200, 24), \"Colts\": (0, 50, 101), \"Jaguars\": (18, 101, 119), \"Texans\": (199, 35, 62), \"Titans\": (68, 148, 209), \"Broncos\": (242, 105, 34), \"Chargers\": (55, 120, 188), \"Chiefs\": (204, 3, 25), \"Raiders\": (209, 209, 211), \"Cowboys\": (212, 213, 215), \"Eagles\": (0, 71, 81), \"Football Team\": (88, 20, 19), \"Giants\": (0, 57, 124), \"Bears\": (27, 27, 63), \"Lions\": (1, 116, 181), \"Packers\": (31, 53, 48), \"Vikings\": (70, 23, 89), \"Buccaneers\": (234, 18, 5), \"Falcons\": (200, 33, 59), \"Panthers\": (12, 149, 211), \"Saints\": (209, 187, 140), \"49ers\": (196, 168, 114), \"Cardinals\": (176, 5, 57), \"Rams\": (0, 53, 148), \"Seahawks\": (99, 187, 38)}\n",
    "# Team abbrevations, for image making\n",
    "team_mnemonics = {\"Bills\": \"BUF\", \"Dolphins\": \"MIA\", \"Jets\": \"NYJ\", \"Patriots\": \"NE\", \"Bengals\": \"CIN\", \"Browns\": \"CLE\", \"Ravens\": \"BAL\", \"Steelers\": \"PIT\", \"Colts\": \"IND\", \"Jaguars\": \"JAX\", \"Texans\": \"HOU\", \"Titans\": \"TEN\", \"Broncos\": \"DEN\", \"Chargers\": \"LAC\", \"Chiefs\": \"KC\", \"Raiders\": \"LV\", \"Cowboys\": \"DAL\", \"Eagles\": \"PHI\", \"Football Team\": \"WAS\", \"Giants\": \"NYG\", \"Bears\": \"CHI\", \"Lions\": \"DET\", \"Packers\": \"GB\", \"Vikings\": \"MIN\", \"Buccaneers\": \"TB\", \"Falcons\": \"ATL\", \"Panthers\": \"CAR\", \"Saints\": \"NO\", \"49ers\": \"SF\", \"Cardinals\": \"ARI\", \"Rams\": \"LAR\", \"Seahawks\": \"SEA\"}\n",
    "# Weekly schedule. Games with a value of \"Primetime\" indicate they are primetime games, and should not be included when making Sunday win probability images\n",
    "schedule = {\"Chiefs at Broncos\": \"Primetime\", \"Cowboys at Eagles\": \"Primetime\", \"Bengals at Browns\": \"\", \"Bears at Vikings\": \"\", \"Titans at Texans\": \"\", \"Steelers at Ravens\": \"\", \"Football Team at Giants\": \"\", \"Packers at Lions\": \"\", \"Colts at Jaguars\": \"\", \"Patriots at Dolphins\": \"\", \"Jets at Bills\": \"\", \"Saints at Falcons\": \"\", \"Panthers at Buccaneers\": \"\", \"Seahawks at Cardinals\": \"\", \"49ers at Rams\": \"\", \"Chargers at Raiders\": \"Primetime\"}   \n",
    "# Fanduel Sportsbook bets for each game (only primetime games considered). In form [road spread, total points over/under]\n",
    "bets = [[-11.5, 45], [-4.5, 43.5], [], [], [], [], [], [], [], [], [], [], [], [], [], [-3, 49.5]]\n",
    "week = 18 # Current week being simulated\n",
    "n = 10000 # Number of times to simulate each game\n",
    "matchups_data = list()\n",
    "primetime_data = list()\n",
    "all_qbs = list()\n",
    "all_rbs = list()\n",
    "all_wrs = list()\n",
    "all_tes = list()\n",
    "all_ks = list()\n",
    "all_teams = list()\n",
    "j = -1 # Acts as an indexer, don't use range() for loop as it looks more readable this way\n",
    "for game in schedule:\n",
    "    j += 1\n",
    "\n",
    "    # Initalize road and home team objects for the current game\n",
    "    road = game[0:game.index(\" at\")]\n",
    "    home = game[game.index(\" at\") + 4:]\n",
    "    print(road)\n",
    "    print(home)\n",
    "    road_team = Simulation_Team(road, year=\"2021 \")\n",
    "    home_team = Simulation_Team(home, year=\"2021 \")\n",
    "    road_team.create_players_data()\n",
    "    home_team.create_players_data()\n",
    "\n",
    "    # Add road and home team to teams playing this week    \n",
    "    all_teams.append(road_team)\n",
    "    all_teams.append(home_team)\n",
    "\n",
    "    # Add road and home players to respective positional lists\n",
    "    for position in road_team.players:\n",
    "        for player in road_team.players[position]:\n",
    "            if position == \"QBs\":\n",
    "                all_qbs.append(player)\n",
    "            elif position == \"RBs\":\n",
    "                all_rbs.append(player)\n",
    "            elif position == \"WRs\":\n",
    "                all_wrs.append(player)\n",
    "            elif position == \"TEs\":\n",
    "                all_tes.append(player)\n",
    "            elif position == \"Ks\":\n",
    "                all_ks.append(player)\n",
    "    for position in home_team.players:\n",
    "        for player in home_team.players[position]:\n",
    "            if position == \"QBs\":\n",
    "                all_qbs.append(player)\n",
    "            elif position == \"RBs\":\n",
    "                all_rbs.append(player)\n",
    "            elif position == \"WRs\":\n",
    "                all_wrs.append(player)\n",
    "            elif position == \"TEs\":\n",
    "                all_tes.append(player)\n",
    "            elif position == \"Ks\":\n",
    "                all_ks.append(player)\n",
    "    point_differential = list() # List of point differential in every simulation for this game\n",
    "    total_points = list() # List of total points in every simulation for this game\n",
    "    for i in range(0, n): # Simulate game n times, update stats\n",
    "        simulate(road_team, home_team)\n",
    "        point_differential.append(road_team.points - home_team.points)\n",
    "        total_points.append(road_team.points + home_team.points)\n",
    "        road_team.update_all_games_or_season_stats(home_team, \"games\")\n",
    "        home_team.update_all_games_or_season_stats(road_team, \"games\")\n",
    "        road_team.reset_game_or_season_stats(\"game\")\n",
    "        home_team.reset_game_or_season_stats(\"game\")\n",
    "    if schedule[road_team.name + \" at \" + home_team.name] != \"Primetime\": # Game is not primetime\n",
    "        # Add data for the matchup to matchups_data, which will later be passed to a function to create the Sunday win probabilities image\n",
    "        matchups_data.append([road_team.name, round(100 * road_team.record[0] / n, 1), home_team.name, round(100 * home_team.record[0] / n, 1), round(100 - round(100 * home_team.record[0] / n, 1) - round(100 * road_team.record[0] / n, 1), 1)])\n",
    "    else: # Game is primetime\n",
    "        primetime_data.append([road_team, home_team, bets[j]]) # Add data for the matchup to primetime_data\n",
    "\n",
    "    # Statistical distributions to consider when fitting data    \n",
    "    _distributions = [\"exponnorm\", \"f\", \"fatiguelife\", \"gamma\", \"johnsonsb\", \"johnsonsu\", \"mielke\", \"norminvgauss\", \"norm\"]\n",
    "\n",
    "    # Fit several stats to data\n",
    "    f_point_differential = Fitter(point_differential, distributions=_distributions)\n",
    "    f_point_differential.fit()\n",
    "    f_total_points = Fitter(total_points, distributions=_distributions)\n",
    "    f_total_points.fit()\n",
    "    f_road_points = Fitter(road_team.all_games_stats[\"PTS\"], distributions=_distributions)\n",
    "    f_road_points.fit()\n",
    "    f_road_pass_comps = Fitter(road_team.all_games_stats[\"PCOMPs\"], distributions=_distributions)\n",
    "    f_road_pass_comps.fit()\n",
    "    f_road_pass_atts = Fitter(road_team.all_games_stats[\"PATTs\"], distributions=_distributions)\n",
    "    f_road_pass_atts.fit()\n",
    "    f_road_pass_yards = Fitter(road_team.all_games_stats[\"PYDs\"], distributions=_distributions)\n",
    "    f_road_pass_yards.fit()\n",
    "    f_road_pass_tds = Fitter(road_team.all_games_stats[\"PTDs\"], distributions=_distributions)\n",
    "    f_road_pass_tds.fit()\n",
    "    f_road_ints = Fitter(road_team.all_games_stats[\"INTs\"], distributions=_distributions)\n",
    "    f_road_ints.fit()\n",
    "    f_road_rush_yards = Fitter(road_team.all_games_stats[\"RYDs\"], distributions=_distributions)\n",
    "    f_road_rush_yards.fit()\n",
    "    f_road_rush_tds = Fitter(road_team.all_games_stats[\"RTDs\"], distributions=_distributions)\n",
    "    f_road_rush_tds.fit()\n",
    "    f_home_points = Fitter(home_team.all_games_stats[\"PTS\"], distributions=_distributions)\n",
    "    f_home_points.fit()\n",
    "    f_home_pass_comps = Fitter(home_team.all_games_stats[\"PCOMPs\"], distributions=_distributions)\n",
    "    f_home_pass_comps.fit()\n",
    "    f_home_pass_atts = Fitter(home_team.all_games_stats[\"PATTs\"], distributions=_distributions)\n",
    "    f_home_pass_atts.fit()\n",
    "    f_home_pass_yards = Fitter(home_team.all_games_stats[\"PYDs\"], distributions=_distributions)\n",
    "    f_home_pass_yards.fit()\n",
    "    f_home_pass_tds = Fitter(home_team.all_games_stats[\"PTDs\"], distributions=_distributions)\n",
    "    f_home_pass_tds.fit()\n",
    "    f_home_ints = Fitter(home_team.all_games_stats[\"INTs\"], distributions=_distributions)\n",
    "    f_home_ints.fit()\n",
    "    f_home_rush_yards = Fitter(home_team.all_games_stats[\"RYDs\"], distributions=_distributions)\n",
    "    f_home_rush_yards.fit()\n",
    "    f_home_rush_tds = Fitter(home_team.all_games_stats[\"RTDs\"], distributions=_distributions)\n",
    "    f_home_rush_tds.fit()\n",
    "\n",
    "    # Create data frames to write to excel for the game, and write them to an Excel Spreadsheet\n",
    "    overall_stats_df = pd.DataFrame([[round(100 * road_team.record[0] / n, 1), round(100 * home_team.record[0] / n, 1), round(100 * road_team.record[2] / n, 1), round(np.mean(point_differential), 1), return_best_fit_in_str_format(f_point_differential.get_best(method=\"sumsquare_error\")), \" \".join([str(num) for num in point_differential]), round(np.mean(total_points), 1), return_best_fit_in_str_format(f_total_points.get_best(method=\"sumsquare_error\")), \" \".join([str(num) for num in total_points]), round(np.mean(road_team.all_games_stats[\"FPTS\"]), 2), round(np.mean(home_team.all_games_stats[\"FPTS\"]), 2)]], columns=[road_team.name + \" WIN %\", home_team.name + \" WIN %\", \"TIE %\", \"Avg. Point Differential\", \"Point Differential Distribution\", \"Point Differential List\", \"Avg. Tot. PTS\", \"PTS Distribution\", \"PTS List\", road_team.name + \"Avg. FPTS\", home_team.name + \"Avg. FPTS\"])\n",
    "    road_stats_df = pd.DataFrame([[round(np.mean(road_team.all_games_stats[\"PTS\"]), 1), round(np.mean(road_team.all_games_stats[\"PCOMPs\"]), 1), round(np.mean(road_team.all_games_stats[\"PATTs\"]), 1), round(np.mean(road_team.all_games_stats[\"PYDs\"]), 2), round(np.mean(road_team.all_games_stats[\"PTDs\"]), 2), round(np.mean(road_team.all_games_stats[\"INTs\"]), 2), round(np.mean(road_team.all_games_stats[\"RYDs\"]), 2), round(np.mean(road_team.all_games_stats[\"RTDs\"]), 2)], [return_best_fit_in_str_format(f_road_points.get_best(method=\"sumsquare_error\")), return_best_fit_in_str_format(f_road_pass_comps.get_best(method=\"sumsquare_error\")), return_best_fit_in_str_format(f_road_pass_atts.get_best(method=\"sumsquare_error\")), return_best_fit_in_str_format(f_road_pass_yards.get_best(method=\"sumsquare_error\")), return_best_fit_in_str_format(f_road_pass_tds.get_best(method=\"sumsquare_error\")), return_best_fit_in_str_format(f_road_ints.get_best(method=\"sumsquare_error\")), return_best_fit_in_str_format(f_road_rush_yards.get_best(method=\"sumsquare_error\")), return_best_fit_in_str_format(f_road_rush_tds.get_best(method=\"sumsquare_error\"))], [\" \".join([str(num) for num in road_team.all_games_stats[\"PTS\"]]), \" \".join([str(num) for num in road_team.all_games_stats[\"PCOMPs\"]]), \" \".join([str(num) for num in road_team.all_games_stats[\"PATTs\"]]), \" \".join([str(num) for num in road_team.all_games_stats[\"PYDs\"]]), \" \".join([str(num) for num in road_team.all_games_stats[\"PTDs\"]]), \" \".join([str(num) for num in road_team.all_games_stats[\"INTs\"]]), \" \".join([str(num) for num in road_team.all_games_stats[\"RYDs\"]]), \" \".join([str(num) for num in road_team.all_games_stats[\"RTDs\"]])]], columns=[\"PTS\", \"PCOMPs\", \"PATTs\", \"PYDs\", \"PTDs\", \"INTs\", \"RYDs\", \"RTDs\"], index=[\"Avg.\", \"Best Dist.\", \"List\"])\n",
    "    road_qbs_stats_df = pd.DataFrame([[player.name, round(np.mean(player.all_games_stats[\"PCOMPs\"]), 1), round(np.mean(player.all_games_stats[\"PATTs\"]), 1), round(np.mean(player.all_games_stats[\"PYDs\"]), 2), round(np.mean(player.all_games_stats[\"PTDs\"]), 2), round(np.mean(player.all_games_stats[\"INTs\"]), 2), round(np.mean(player.all_games_stats[\"FMBLs\"]), 2), round(np.mean(player.all_games_stats[\"RATTs\"]), 1), round(np.mean(player.all_games_stats[\"RYDs\"]), 2), round(np.mean(player.all_games_stats[\"RTDs\"]), 2), round(np.mean(player.all_games_stats[\"2PCs\"]), 2), round(np.mean(player.all_games_stats[\"FPTS\"]), 2)] for player in bubble_sort_by_fpts(road_team.players[\"QBs\"])], columns=[\"Name\", \"PCOMPs\", \"PATTs\", \"PYDs\", \"PTDs\", \"INTs\", \"FMBLs\", \"RATTs\", \"RYDs\", \"RTDs\", \"2PCs\", \"FPTS\"])\n",
    "    road_skill_players_stats_df = pd.DataFrame([[player.name, round(np.mean(player.all_games_stats[\"Rec\"]), 2), round(np.mean(player.all_games_stats[\"RecYDs\"]), 2), round(np.mean(player.all_games_stats[\"RecTDs\"]), 2), round(np.mean(player.all_games_stats[\"FMBLs\"]), 2), round(np.mean(player.all_games_stats[\"RATTs\"]), 1), round(np.mean(player.all_games_stats[\"RYDs\"]), 2), round(np.mean(player.all_games_stats[\"RTDs\"]), 2), round(np.mean(player.all_games_stats[\"2PCs\"]), 2), round(np.mean(player.all_games_stats[\"FPTS\"]), 2), round(np.mean(player.all_games_stats[\"FPTS\"]) - np.mean(player.all_games_stats[\"Rec\"]), 2)] for player in bubble_sort_by_fpts(road_team.skill_position_players)], columns=[\"Name\", \"Rec\", \"RecYDs\", \"RecTDs\", \"FMBLs\", \"RATTs\", \"RYDs\", \"RTDs\", \"2PCs\", \"FPTS (PPR)\", \"FPTS (Non-PPR)\"])\n",
    "    road_k_stats_df = pd.DataFrame([[road_team.players[\"Ks\"][0].name, round(np.mean(road_team.players[\"Ks\"][0].all_games_stats[\"XPM\"]), 2), round(np.mean(road_team.players[\"Ks\"][0].all_games_stats[\"XPA\"]), 2), round(np.mean(road_team.players[\"Ks\"][0].all_games_stats[\"FG50-M\"]), 2), round(np.mean(road_team.players[\"Ks\"][0].all_games_stats[\"FG50-A\"]), 2), round(np.mean(road_team.players[\"Ks\"][0].all_games_stats[\"FG50+M\"]), 2), round(np.mean(road_team.players[\"Ks\"][0].all_games_stats[\"FG50+A\"]), 2), round(np.mean(road_team.players[\"Ks\"][0].all_games_stats[\"FPTS\"]), 2)]], columns=[\"Name\", \"XPM\", \"XPA\", \"FG50-M\", \"FG50-A\", \"FG50+M\", \"FG50+A\", \"FPTS\"])\n",
    "    home_stats_df = pd.DataFrame([[round(np.mean(home_team.all_games_stats[\"PTS\"]), 1), round(np.mean(home_team.all_games_stats[\"PCOMPs\"]), 1), round(np.mean(home_team.all_games_stats[\"PATTs\"]), 1), round(np.mean(home_team.all_games_stats[\"PYDs\"]), 2), round(np.mean(home_team.all_games_stats[\"PTDs\"]), 2), round(np.mean(home_team.all_games_stats[\"INTs\"]), 2), round(np.mean(home_team.all_games_stats[\"RYDs\"]), 2), round(np.mean(home_team.all_games_stats[\"RTDs\"]), 2)], [return_best_fit_in_str_format(f_home_points.get_best(method=\"sumsquare_error\")), return_best_fit_in_str_format(f_home_pass_comps.get_best(method=\"sumsquare_error\")), return_best_fit_in_str_format(f_home_pass_atts.get_best(method=\"sumsquare_error\")), return_best_fit_in_str_format(f_home_pass_yards.get_best(method=\"sumsquare_error\")), return_best_fit_in_str_format(f_home_pass_tds.get_best(method=\"sumsquare_error\")), return_best_fit_in_str_format(f_home_ints.get_best(method=\"sumsquare_error\")), return_best_fit_in_str_format(f_home_rush_yards.get_best(method=\"sumsquare_error\")), return_best_fit_in_str_format(f_home_rush_tds.get_best(method=\"sumsquare_error\"))], [\" \".join([str(num) for num in home_team.all_games_stats[\"PTS\"]]), \" \".join([str(num) for num in home_team.all_games_stats[\"PCOMPs\"]]), \" \".join([str(num) for num in home_team.all_games_stats[\"PATTs\"]]), \" \".join([str(num) for num in home_team.all_games_stats[\"PYDs\"]]), \" \".join([str(num) for num in home_team.all_games_stats[\"PTDs\"]]), \" \".join([str(num) for num in home_team.all_games_stats[\"INTs\"]]), \" \".join([str(num) for num in home_team.all_games_stats[\"RYDs\"]]), \" \".join([str(num) for num in home_team.all_games_stats[\"RTDs\"]])]], columns=[\"PTS\", \"PCOMPs\", \"PATTs\", \"PYDs\", \"PTDs\", \"INTs\", \"RYDs\", \"RTDs\"], index=[\"Avg.\", \"Best Dist.\", \"List\"])\n",
    "    home_qbs_stats_df = pd.DataFrame([[player.name, round(np.mean(player.all_games_stats[\"PCOMPs\"]), 1), round(np.mean(player.all_games_stats[\"PATTs\"]), 1), round(np.mean(player.all_games_stats[\"PYDs\"]), 2), round(np.mean(player.all_games_stats[\"PTDs\"]), 2), round(np.mean(player.all_games_stats[\"INTs\"]), 2), round(np.mean(player.all_games_stats[\"FMBLs\"]), 2), round(np.mean(player.all_games_stats[\"RATTs\"]), 1), round(np.mean(player.all_games_stats[\"RYDs\"]), 2), round(np.mean(player.all_games_stats[\"RTDs\"]), 2), round(np.mean(player.all_games_stats[\"2PCs\"]), 2), round(np.mean(player.all_games_stats[\"FPTS\"]), 2)] for player in bubble_sort_by_fpts(home_team.players[\"QBs\"])], columns=[\"Name\", \"PCOMPs\", \"PATTs\", \"PYDs\", \"PTDs\", \"INTs\", \"FMBLs\", \"RATTs\", \"RYDs\", \"RTDs\", \"2PCs\", \"FPTS\"])\n",
    "    home_skill_players_stats_df = pd.DataFrame([[player.name, round(np.mean(player.all_games_stats[\"Rec\"]), 2), round(np.mean(player.all_games_stats[\"RecYDs\"]), 2), round(np.mean(player.all_games_stats[\"RecTDs\"]), 2), round(np.mean(player.all_games_stats[\"FMBLs\"]), 2), round(np.mean(player.all_games_stats[\"RATTs\"]), 1), round(np.mean(player.all_games_stats[\"RYDs\"]), 2), round(np.mean(player.all_games_stats[\"RTDs\"]), 2), round(np.mean(player.all_games_stats[\"2PCs\"]), 2), round(np.mean(player.all_games_stats[\"FPTS\"]), 2), round(np.mean(player.all_games_stats[\"FPTS\"]) - np.mean(player.all_games_stats[\"Rec\"]), 2)] for player in bubble_sort_by_fpts(home_team.skill_position_players)], columns=[\"Name\", \"Rec\", \"RecYDs\", \"RecTDs\", \"FMBLs\", \"RATTs\", \"RYDs\", \"RTDs\", \"2PCs\", \"FPTS (PPR)\", \"FPTS (Non-PPR)\"])\n",
    "    home_k_stats_df = pd.DataFrame([[home_team.players[\"Ks\"][0].name, round(np.mean(home_team.players[\"Ks\"][0].all_games_stats[\"XPM\"]), 2), round(np.mean(home_team.players[\"Ks\"][0].all_games_stats[\"XPA\"]), 2), round(np.mean(home_team.players[\"Ks\"][0].all_games_stats[\"FG50-M\"]), 2), round(np.mean(home_team.players[\"Ks\"][0].all_games_stats[\"FG50-A\"]), 2), round(np.mean(home_team.players[\"Ks\"][0].all_games_stats[\"FG50+M\"]), 2), round(np.mean(home_team.players[\"Ks\"][0].all_games_stats[\"FG50+A\"]), 2), round(np.mean(home_team.players[\"Ks\"][0].all_games_stats[\"FPTS\"]), 2)]], columns=[\"Name\", \"XPM\", \"XPA\", \"FG50-M\", \"FG50-A\", \"FG50+M\", \"FG50+A\", \"FPTS\"])\n",
    "    with pd.ExcelWriter(\"Game Simulations/Week \" + str(week) + \"/\" + road_team.name + \" at \" + home_team.name + \".xlsx\") as writer:\n",
    "        overall_stats_df.to_excel(writer, sheet_name=\"Overall game stats\")\n",
    "        road_stats_df.to_excel(writer, sheet_name=team_mnemonics[road_team.name] + \" game stats\")\n",
    "        road_qbs_stats_df.to_excel(writer, sheet_name=team_mnemonics[road_team.name] + \" pass stats\")\n",
    "        road_skill_players_stats_df.to_excel(writer, sheet_name=team_mnemonics[road_team.name] + \" rec and rush stats\")\n",
    "        road_k_stats_df.to_excel(writer, sheet_name=team_mnemonics[road_team.name] + \" kicking stats\")\n",
    "        home_stats_df.to_excel(writer, sheet_name=team_mnemonics[home_team.name] + \" game stats\")\n",
    "        home_qbs_stats_df.to_excel(writer, sheet_name=team_mnemonics[home_team.name] + \" pass stats\")\n",
    "        home_skill_players_stats_df.to_excel(writer, sheet_name=team_mnemonics[home_team.name] + \" rec and rush stats\")\n",
    "        home_k_stats_df.to_excel(writer, sheet_name=home_team.name + \" kicking stats\")\n",
    "\n",
    "# Create data frames for the full weekly fantasy projections, and write them to an Excel spreadsheet\n",
    "all_qbs_stats_df = pd.DataFrame([[player.name + \"(\" + team_mnemonics[player.team] + \")\", round(np.mean(player.all_games_stats[\"PCOMPs\"]), 1), round(np.mean(player.all_games_stats[\"PATTs\"]), 1), round(np.mean(player.all_games_stats[\"PYDs\"]), 2), round(np.mean(player.all_games_stats[\"PTDs\"]), 2), round(np.mean(player.all_games_stats[\"INTs\"]), 2), round(np.mean(player.all_games_stats[\"FMBLs\"]), 2), round(np.mean(player.all_games_stats[\"RATTs\"]), 1), round(np.mean(player.all_games_stats[\"RYDs\"]), 2), round(np.mean(player.all_games_stats[\"RTDs\"]), 2), round(np.mean(player.all_games_stats[\"2PCs\"]), 2), round(np.mean(player.all_games_stats[\"FPTS\"]), 2)] for player in bubble_sort_by_fpts(all_qbs)], columns=[\"Name\", \"PCOMPs\", \"PATTs\", \"PYDs\", \"PTDs\", \"INTs\", \"FMBLs\", \"RATTs\", \"RYDs\", \"RTDs\", \"2PCs\", \"FPTS\"]) \n",
    "all_rbs_stats_df = pd.DataFrame([[player.name + \"(\" + team_mnemonics[player.team] + \")\", round(np.mean(player.all_games_stats[\"Rec\"]), 2), round(np.mean(player.all_games_stats[\"RecYDs\"]), 2), round(np.mean(player.all_games_stats[\"RecTDs\"]), 2), round(np.mean(player.all_games_stats[\"FMBLs\"]), 2), round(np.mean(player.all_games_stats[\"RATTs\"]), 1), round(np.mean(player.all_games_stats[\"RYDs\"]), 2), round(np.mean(player.all_games_stats[\"RTDs\"]), 2), round(np.mean(player.all_games_stats[\"2PCs\"]), 2), round(np.mean(player.all_games_stats[\"FPTS\"]), 2), round(np.mean(player.all_games_stats[\"FPTS\"]) - np.mean(player.all_games_stats[\"Rec\"]), 2)] for player in bubble_sort_by_fpts(all_rbs)], columns=[\"Name\", \"Rec\", \"RecYDs\", \"RecTDs\", \"FMBLs\", \"RATTs\", \"RYDs\", \"RTDs\", \"2PCs\", \"FPTS (PPR)\", \"FPTS (Non-PPR)\"])\n",
    "all_wrs_stats_df = pd.DataFrame([[player.name + \"(\" + team_mnemonics[player.team] + \")\", round(np.mean(player.all_games_stats[\"Rec\"]), 2), round(np.mean(player.all_games_stats[\"RecYDs\"]), 2), round(np.mean(player.all_games_stats[\"RecTDs\"]), 2), round(np.mean(player.all_games_stats[\"FMBLs\"]), 2), round(np.mean(player.all_games_stats[\"RATTs\"]), 1), round(np.mean(player.all_games_stats[\"RYDs\"]), 2), round(np.mean(player.all_games_stats[\"RTDs\"]), 2), round(np.mean(player.all_games_stats[\"2PCs\"]), 2), round(np.mean(player.all_games_stats[\"FPTS\"]), 2), round(np.mean(player.all_games_stats[\"FPTS\"]) - np.mean(player.all_games_stats[\"Rec\"]), 2)] for player in bubble_sort_by_fpts(all_wrs)], columns=[\"Name\", \"Rec\", \"RecYDs\", \"RecTDs\", \"FMBLs\", \"RATTs\", \"RYDs\", \"RTDs\", \"2PCs\", \"FPTS (PPR)\", \"FPTS (Non-PPR)\"])\n",
    "all_tes_stats_df = pd.DataFrame([[player.name + \"(\" + team_mnemonics[player.team] + \")\", round(np.mean(player.all_games_stats[\"Rec\"]), 2), round(np.mean(player.all_games_stats[\"RecYDs\"]), 2), round(np.mean(player.all_games_stats[\"RecTDs\"]), 2), round(np.mean(player.all_games_stats[\"FMBLs\"]), 2), round(np.mean(player.all_games_stats[\"RATTs\"]), 1), round(np.mean(player.all_games_stats[\"RYDs\"]), 2), round(np.mean(player.all_games_stats[\"RTDs\"]), 2), round(np.mean(player.all_games_stats[\"2PCs\"]), 2), round(np.mean(player.all_games_stats[\"FPTS\"]), 2), round(np.mean(player.all_games_stats[\"FPTS\"]) - np.mean(player.all_games_stats[\"Rec\"]), 2)] for player in bubble_sort_by_fpts(all_tes)], columns=[\"Name\", \"Rec\", \"RecYDs\", \"RecTDs\", \"FMBLs\", \"RATTs\", \"RYDs\", \"RTDs\", \"2PCs\", \"FPTS (PPR)\", \"FPTS (Non-PPR)\"])\n",
    "all_ks_stats_df = pd.DataFrame([[player.name + \"(\" + team_mnemonics[player.team] + \")\", round(np.mean(player.all_games_stats[\"XPM\"]), 2), round(np.mean(player.all_games_stats[\"XPA\"]), 2), round(np.mean(player.all_games_stats[\"FG50-M\"]), 2), round(np.mean(player.all_games_stats[\"FG50-A\"]), 2), round(np.mean(player.all_games_stats[\"FG50+M\"]), 2), round(np.mean(player.all_games_stats[\"FG50+A\"]), 2), round(np.mean(player.all_games_stats[\"FPTS\"]), 2)] for player in bubble_sort_by_fpts(all_ks)], columns=[\"Name\", \"XPM\", \"XPA\", \"FG50-M\", \"FG50-A\", \"FG50+M\", \"FG50+A\", \"FPTS\"])\n",
    "all_defenses_stats_df = pd.DataFrame([[team.name, round(np.mean(team.all_games_stats[\"FPTS\"]), 2)] for team in bubble_sort_by_fpts(all_teams)], columns=[\"Team\", \"FPTS\"])\n",
    "with pd.ExcelWriter(\"Game Simulations/Week \" + str(week) + \"/Fantasy Projections.xlsx\") as writer:\n",
    "    all_qbs_stats_df.to_excel(writer, sheet_name=\"QBs\")\n",
    "    all_rbs_stats_df.to_excel(writer, sheet_name=\"RBs\")\n",
    "    all_wrs_stats_df.to_excel(writer, sheet_name=\"WRs\")\n",
    "    all_tes_stats_df.to_excel(writer, sheet_name=\"TEs\")\n",
    "    all_ks_stats_df.to_excel(writer, sheet_name=\"Ks\")\n",
    "    all_defenses_stats_df.to_excel(writer, sheet_name=\"DEFs\")\n",
    "\n",
    "for p in primetime_data: # Loop through primetime games\n",
    "    # Create primetime images for each game (automatically saved)\n",
    "    create_primetime_opener_image(p[0], p[1], week, p[2], n)\n",
    "    create_primetime_stat_projections_image(p[0], p[1], week)\n",
    "create_win_probabilities_image(matchups_data[0:8], week, 1) # Create and save win probabilities image for the first 8 Sunday early matchups\n",
    "create_win_probabilities_image(matchups_data[8:], week, 2) # Create and save win probabilities image for the remaining Sunday early matchups\n",
    "\n",
    "# Create and save fantasy rankings image for each position, for different scoring formats\n",
    "all_qbs = bubble_sort_by_fpts(all_qbs)\n",
    "create_fantasy_rankings_image(all_qbs[0:2*len(bets)], [qb.team for qb in all_qbs[0:2*len(bets)]], team_colors, team_mnemonics, \"QB\", week, 1, schedule=schedule)\n",
    "all_rbs = bubble_sort_by_fpts(all_rbs)\n",
    "create_fantasy_rankings_image(all_rbs[0:32], [rb.team for rb in all_rbs[0:32]], team_colors, team_mnemonics, \"RB\", week, 1, scoring_format=\"PPR\", schedule=schedule)\n",
    "create_fantasy_rankings_image(all_rbs[32:64], [rb.team for rb in all_rbs[32:64]], team_colors, team_mnemonics, \"RB\", week, 2, scoring_format=\"PPR\", schedule=schedule, starting_num=33)\n",
    "all_rbs = bubble_sort_by_fpts(all_rbs, scoring_format=\"Non-PPR\")\n",
    "create_fantasy_rankings_image(all_rbs[0:32], [rb.team for rb in all_rbs[0:32]], team_colors, team_mnemonics, \"RB\", week, 1, scoring_format=\"Non-PPR\", schedule=schedule)\n",
    "create_fantasy_rankings_image(all_rbs[32:64], [rb.team for rb in all_rbs[32:64]], team_colors, team_mnemonics, \"RB\", week, 2, scoring_format=\"Non-PPR\", schedule=schedule, starting_num=33)\n",
    "all_wrs = bubble_sort_by_fpts(all_wrs)\n",
    "create_fantasy_rankings_image(all_wrs[0:32], [wr.team for wr in all_wrs[0:32]], team_colors, team_mnemonics, \"WR\", week, 1, scoring_format=\"PPR\", schedule=schedule)\n",
    "create_fantasy_rankings_image(all_wrs[32:64], [wr.team for wr in all_wrs[32:64]], team_colors, team_mnemonics, \"WR\", week, 2, scoring_format=\"PPR\", schedule=schedule, starting_num=33) \n",
    "all_wrs = bubble_sort_by_fpts(all_wrs, scoring_format=\"Non-PPR\")\n",
    "create_fantasy_rankings_image(all_wrs[0:32], [wr.team for wr in all_wrs[0:32]], team_colors, team_mnemonics, \"WR\", week, 1, scoring_format=\"Non-PPR\", schedule=schedule)\n",
    "create_fantasy_rankings_image(all_wrs[32:64], [wr.team for wr in all_wrs[32:64]], team_colors, team_mnemonics, \"WR\", week, 2, scoring_format=\"Non-PPR\", schedule=schedule, starting_num=33)\n",
    "all_tes = bubble_sort_by_fpts(all_tes)\n",
    "create_fantasy_rankings_image(all_tes[0:32], [te.team for te in all_tes[0:32]], team_colors, team_mnemonics, \"TE\", week, 1, scoring_format=\"PPR\", schedule=schedule)\n",
    "all_tes = bubble_sort_by_fpts(all_tes, scoring_format=\"Non-PPR\")\n",
    "create_fantasy_rankings_image(all_tes[0:32], [te.team for te in all_tes[0:32]], team_colors, team_mnemonics, \"TE\", week, 1, scoring_format=\"Non-PPR\", schedule=schedule)\n",
    "all_ks = bubble_sort_by_fpts(all_ks)\n",
    "create_fantasy_rankings_image(all_ks, [k.team for k in all_ks], team_colors, team_mnemonics, \"K\", week, 1, schedule=schedule)\n",
    "all_teams = bubble_sort_by_fpts(all_teams)\n",
    "create_fantasy_rankings_image(all_teams, [team.name for team in all_teams], team_colors, team_mnemonics, \"DEF\", week, 1, schedule=schedule)\n",
    "print(\"Done\")"
   ]
  },
  {
   "cell_type": "code",
   "execution_count": null,
   "metadata": {},
   "outputs": [],
   "source": []
  }
 ],
 "metadata": {
  "kernelspec": {
   "display_name": "Python 3",
   "language": "python",
   "name": "python3"
  },
  "language_info": {
   "codemirror_mode": {
    "name": "ipython",
    "version": 3
   },
   "file_extension": ".py",
   "mimetype": "text/x-python",
   "name": "python",
   "nbconvert_exporter": "python",
   "pygments_lexer": "ipython3",
   "version": "3.8.5"
  }
 },
 "nbformat": 4,
 "nbformat_minor": 4
}
