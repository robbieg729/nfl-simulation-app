{
 "cells": [
  {
   "cell_type": "code",
   "execution_count": 2,
   "metadata": {},
   "outputs": [
    {
     "name": "stdout",
     "output_type": "stream",
     "text": [
      "Patriots\n",
      "Colts\n"
     ]
    },
    {
     "data": {
      "text/html": [
       "\n",
       "            <div style=\"float: left; border: 1px solid black; width:500px\">\n",
       "              <div id=\"c2b41cea-c18a-47ac-b071-c34039cd0350\" style=\"background-color:blue; width:0%\">&nbsp;</div>\n",
       "            </div>\n",
       "            <label id=\"cd69f03d-b490-46ac-bf07-3df36281d564\" style=\"padding-left: 10px;\" text = \"\"/>\n",
       "            "
      ],
      "text/plain": [
       "<IPython.core.display.HTML object>"
      ]
     },
     "metadata": {},
     "output_type": "display_data"
    },
    {
     "data": {
      "text/html": [
       "\n",
       "            <div style=\"float: left; border: 1px solid black; width:500px\">\n",
       "              <div id=\"1bba7753-6cd6-49cf-a862-f13c1159b053\" style=\"background-color:blue; width:0%\">&nbsp;</div>\n",
       "            </div>\n",
       "            <label id=\"0b77eb79-f784-49d9-8b18-9d2e08264571\" style=\"padding-left: 10px;\" text = \"\"/>\n",
       "            "
      ],
      "text/plain": [
       "<IPython.core.display.HTML object>"
      ]
     },
     "metadata": {},
     "output_type": "display_data"
    },
    {
     "data": {
      "text/html": [
       "\n",
       "            <div style=\"float: left; border: 1px solid black; width:500px\">\n",
       "              <div id=\"b873ed94-f48b-4edb-9458-f8249802cb7c\" style=\"background-color:blue; width:0%\">&nbsp;</div>\n",
       "            </div>\n",
       "            <label id=\"fff7b3c4-5d3a-47a3-8f0d-e377e502b397\" style=\"padding-left: 10px;\" text = \"\"/>\n",
       "            "
      ],
      "text/plain": [
       "<IPython.core.display.HTML object>"
      ]
     },
     "metadata": {},
     "output_type": "display_data"
    },
    {
     "data": {
      "text/html": [
       "\n",
       "            <div style=\"float: left; border: 1px solid black; width:500px\">\n",
       "              <div id=\"406fcc8f-45c5-45d6-b749-ddbf6996d5b8\" style=\"background-color:blue; width:0%\">&nbsp;</div>\n",
       "            </div>\n",
       "            <label id=\"633176fb-cfb3-4114-bafb-2530832b0ac1\" style=\"padding-left: 10px;\" text = \"\"/>\n",
       "            "
      ],
      "text/plain": [
       "<IPython.core.display.HTML object>"
      ]
     },
     "metadata": {},
     "output_type": "display_data"
    },
    {
     "data": {
      "text/html": [
       "\n",
       "            <div style=\"float: left; border: 1px solid black; width:500px\">\n",
       "              <div id=\"04805b95-d44e-44d1-a38f-e10c96636e70\" style=\"background-color:blue; width:0%\">&nbsp;</div>\n",
       "            </div>\n",
       "            <label id=\"83a827dc-e9e5-4b80-8241-70af14dfd252\" style=\"padding-left: 10px;\" text = \"\"/>\n",
       "            "
      ],
      "text/plain": [
       "<IPython.core.display.HTML object>"
      ]
     },
     "metadata": {},
     "output_type": "display_data"
    },
    {
     "data": {
      "text/html": [
       "\n",
       "            <div style=\"float: left; border: 1px solid black; width:500px\">\n",
       "              <div id=\"4554292b-6555-4a4f-a8c6-e323db579a21\" style=\"background-color:blue; width:0%\">&nbsp;</div>\n",
       "            </div>\n",
       "            <label id=\"8b6a077a-1d42-48a4-9d8f-de1d1f32c7be\" style=\"padding-left: 10px;\" text = \"\"/>\n",
       "            "
      ],
      "text/plain": [
       "<IPython.core.display.HTML object>"
      ]
     },
     "metadata": {},
     "output_type": "display_data"
    },
    {
     "data": {
      "text/html": [
       "\n",
       "            <div style=\"float: left; border: 1px solid black; width:500px\">\n",
       "              <div id=\"95c84f06-7196-450a-b0d2-c54f8100eae6\" style=\"background-color:blue; width:0%\">&nbsp;</div>\n",
       "            </div>\n",
       "            <label id=\"0e6d49a6-f4b7-408d-a98c-dddcb71ac8b1\" style=\"padding-left: 10px;\" text = \"\"/>\n",
       "            "
      ],
      "text/plain": [
       "<IPython.core.display.HTML object>"
      ]
     },
     "metadata": {},
     "output_type": "display_data"
    },
    {
     "data": {
      "text/html": [
       "\n",
       "            <div style=\"float: left; border: 1px solid black; width:500px\">\n",
       "              <div id=\"a8e6ddbc-15e8-44b6-a087-42e00737fd27\" style=\"background-color:blue; width:0%\">&nbsp;</div>\n",
       "            </div>\n",
       "            <label id=\"36e1ecfd-e305-410a-a732-dd0ef5641ac4\" style=\"padding-left: 10px;\" text = \"\"/>\n",
       "            "
      ],
      "text/plain": [
       "<IPython.core.display.HTML object>"
      ]
     },
     "metadata": {},
     "output_type": "display_data"
    },
    {
     "data": {
      "text/html": [
       "\n",
       "            <div style=\"float: left; border: 1px solid black; width:500px\">\n",
       "              <div id=\"6e099e6c-32ca-45fd-bff4-37be5e506a7b\" style=\"background-color:blue; width:0%\">&nbsp;</div>\n",
       "            </div>\n",
       "            <label id=\"2bc42ef0-4e07-4563-a827-ec466ba91d64\" style=\"padding-left: 10px;\" text = \"\"/>\n",
       "            "
      ],
      "text/plain": [
       "<IPython.core.display.HTML object>"
      ]
     },
     "metadata": {},
     "output_type": "display_data"
    },
    {
     "data": {
      "text/html": [
       "\n",
       "            <div style=\"float: left; border: 1px solid black; width:500px\">\n",
       "              <div id=\"c37fe38b-8334-48ad-a6cb-529e817b4c29\" style=\"background-color:blue; width:0%\">&nbsp;</div>\n",
       "            </div>\n",
       "            <label id=\"af16d058-3069-42b8-9160-0b28b63feae6\" style=\"padding-left: 10px;\" text = \"\"/>\n",
       "            "
      ],
      "text/plain": [
       "<IPython.core.display.HTML object>"
      ]
     },
     "metadata": {},
     "output_type": "display_data"
    },
    {
     "data": {
      "text/html": [
       "\n",
       "            <div style=\"float: left; border: 1px solid black; width:500px\">\n",
       "              <div id=\"7251d273-3d9a-48b8-b536-f65e402962a0\" style=\"background-color:blue; width:0%\">&nbsp;</div>\n",
       "            </div>\n",
       "            <label id=\"7e9dbf9f-abea-455e-886a-151f1f4f9b2a\" style=\"padding-left: 10px;\" text = \"\"/>\n",
       "            "
      ],
      "text/plain": [
       "<IPython.core.display.HTML object>"
      ]
     },
     "metadata": {},
     "output_type": "display_data"
    },
    {
     "data": {
      "text/html": [
       "\n",
       "            <div style=\"float: left; border: 1px solid black; width:500px\">\n",
       "              <div id=\"59175545-e782-4747-89e3-b9a64ac6cd8b\" style=\"background-color:blue; width:0%\">&nbsp;</div>\n",
       "            </div>\n",
       "            <label id=\"e5427fce-d842-4588-a091-f0d746896aed\" style=\"padding-left: 10px;\" text = \"\"/>\n",
       "            "
      ],
      "text/plain": [
       "<IPython.core.display.HTML object>"
      ]
     },
     "metadata": {},
     "output_type": "display_data"
    },
    {
     "data": {
      "text/html": [
       "\n",
       "            <div style=\"float: left; border: 1px solid black; width:500px\">\n",
       "              <div id=\"ba15a717-e03d-4f8a-8771-18c6ea5a7fac\" style=\"background-color:blue; width:0%\">&nbsp;</div>\n",
       "            </div>\n",
       "            <label id=\"d66cbe3a-d7b4-46e4-9dc5-14079ab1ebc0\" style=\"padding-left: 10px;\" text = \"\"/>\n",
       "            "
      ],
      "text/plain": [
       "<IPython.core.display.HTML object>"
      ]
     },
     "metadata": {},
     "output_type": "display_data"
    },
    {
     "data": {
      "text/html": [
       "\n",
       "            <div style=\"float: left; border: 1px solid black; width:500px\">\n",
       "              <div id=\"0942578a-8d2f-4061-942d-72d867242b13\" style=\"background-color:blue; width:0%\">&nbsp;</div>\n",
       "            </div>\n",
       "            <label id=\"856f25db-c8ae-430b-b7e1-4eb2a983b3b1\" style=\"padding-left: 10px;\" text = \"\"/>\n",
       "            "
      ],
      "text/plain": [
       "<IPython.core.display.HTML object>"
      ]
     },
     "metadata": {},
     "output_type": "display_data"
    },
    {
     "data": {
      "text/html": [
       "\n",
       "            <div style=\"float: left; border: 1px solid black; width:500px\">\n",
       "              <div id=\"7022594f-34cf-4333-8dab-dc7c19c2132d\" style=\"background-color:blue; width:0%\">&nbsp;</div>\n",
       "            </div>\n",
       "            <label id=\"c2d2ea11-d105-4ed6-987e-375d8bfa8cf7\" style=\"padding-left: 10px;\" text = \"\"/>\n",
       "            "
      ],
      "text/plain": [
       "<IPython.core.display.HTML object>"
      ]
     },
     "metadata": {},
     "output_type": "display_data"
    },
    {
     "data": {
      "text/html": [
       "\n",
       "            <div style=\"float: left; border: 1px solid black; width:500px\">\n",
       "              <div id=\"1e64ad0a-e531-48bf-a864-fef961a51e60\" style=\"background-color:blue; width:0%\">&nbsp;</div>\n",
       "            </div>\n",
       "            <label id=\"fa9826d1-3ade-4a80-af8b-f78c200a9f41\" style=\"padding-left: 10px;\" text = \"\"/>\n",
       "            "
      ],
      "text/plain": [
       "<IPython.core.display.HTML object>"
      ]
     },
     "metadata": {},
     "output_type": "display_data"
    },
    {
     "data": {
      "text/html": [
       "\n",
       "            <div style=\"float: left; border: 1px solid black; width:500px\">\n",
       "              <div id=\"b73f6306-7a81-4434-a168-3fc8c3437d3c\" style=\"background-color:blue; width:0%\">&nbsp;</div>\n",
       "            </div>\n",
       "            <label id=\"f50c797f-8fc2-4a49-a23d-d67da6727ada\" style=\"padding-left: 10px;\" text = \"\"/>\n",
       "            "
      ],
      "text/plain": [
       "<IPython.core.display.HTML object>"
      ]
     },
     "metadata": {},
     "output_type": "display_data"
    },
    {
     "data": {
      "text/html": [
       "\n",
       "            <div style=\"float: left; border: 1px solid black; width:500px\">\n",
       "              <div id=\"7a0e68bb-c155-4042-bcce-3e099f27d039\" style=\"background-color:blue; width:0%\">&nbsp;</div>\n",
       "            </div>\n",
       "            <label id=\"e7f921a3-73be-4e8c-9760-d89b6ca2b1f0\" style=\"padding-left: 10px;\" text = \"\"/>\n",
       "            "
      ],
      "text/plain": [
       "<IPython.core.display.HTML object>"
      ]
     },
     "metadata": {},
     "output_type": "display_data"
    },
    {
     "name": "stdout",
     "output_type": "stream",
     "text": [
      "Jets\n",
      "Dolphins\n"
     ]
    },
    {
     "data": {
      "text/html": [
       "\n",
       "            <div style=\"float: left; border: 1px solid black; width:500px\">\n",
       "              <div id=\"e2875a68-8d0d-4f90-bdd4-44c4516b18e3\" style=\"background-color:blue; width:0%\">&nbsp;</div>\n",
       "            </div>\n",
       "            <label id=\"493bd572-3880-4632-a132-ebb6449adbce\" style=\"padding-left: 10px;\" text = \"\"/>\n",
       "            "
      ],
      "text/plain": [
       "<IPython.core.display.HTML object>"
      ]
     },
     "metadata": {},
     "output_type": "display_data"
    },
    {
     "data": {
      "text/html": [
       "\n",
       "            <div style=\"float: left; border: 1px solid black; width:500px\">\n",
       "              <div id=\"3763c728-b16e-4cd7-b877-68fcadc99ad1\" style=\"background-color:blue; width:0%\">&nbsp;</div>\n",
       "            </div>\n",
       "            <label id=\"6021b653-cd6f-4e3b-855c-acace4987123\" style=\"padding-left: 10px;\" text = \"\"/>\n",
       "            "
      ],
      "text/plain": [
       "<IPython.core.display.HTML object>"
      ]
     },
     "metadata": {},
     "output_type": "display_data"
    },
    {
     "data": {
      "text/html": [
       "\n",
       "            <div style=\"float: left; border: 1px solid black; width:500px\">\n",
       "              <div id=\"1c5048b9-1e4f-4f33-aea1-072d63fbd48c\" style=\"background-color:blue; width:0%\">&nbsp;</div>\n",
       "            </div>\n",
       "            <label id=\"ff562cc3-76f7-458c-9df8-511735d60610\" style=\"padding-left: 10px;\" text = \"\"/>\n",
       "            "
      ],
      "text/plain": [
       "<IPython.core.display.HTML object>"
      ]
     },
     "metadata": {},
     "output_type": "display_data"
    },
    {
     "data": {
      "text/html": [
       "\n",
       "            <div style=\"float: left; border: 1px solid black; width:500px\">\n",
       "              <div id=\"776cb954-135e-40b1-8096-066d0744e967\" style=\"background-color:blue; width:0%\">&nbsp;</div>\n",
       "            </div>\n",
       "            <label id=\"523a9aa1-a7de-4805-b26b-fb19ecaf505b\" style=\"padding-left: 10px;\" text = \"\"/>\n",
       "            "
      ],
      "text/plain": [
       "<IPython.core.display.HTML object>"
      ]
     },
     "metadata": {},
     "output_type": "display_data"
    },
    {
     "data": {
      "text/html": [
       "\n",
       "            <div style=\"float: left; border: 1px solid black; width:500px\">\n",
       "              <div id=\"89f23246-50bd-4c0d-a644-68ce9edafca8\" style=\"background-color:blue; width:0%\">&nbsp;</div>\n",
       "            </div>\n",
       "            <label id=\"ceb1a6de-aa57-49bd-b22a-282d81ec52de\" style=\"padding-left: 10px;\" text = \"\"/>\n",
       "            "
      ],
      "text/plain": [
       "<IPython.core.display.HTML object>"
      ]
     },
     "metadata": {},
     "output_type": "display_data"
    },
    {
     "data": {
      "text/html": [
       "\n",
       "            <div style=\"float: left; border: 1px solid black; width:500px\">\n",
       "              <div id=\"c22a0587-9888-45f9-8506-c2165951d243\" style=\"background-color:blue; width:0%\">&nbsp;</div>\n",
       "            </div>\n",
       "            <label id=\"ee938252-0061-4a2d-b326-877209bf4dff\" style=\"padding-left: 10px;\" text = \"\"/>\n",
       "            "
      ],
      "text/plain": [
       "<IPython.core.display.HTML object>"
      ]
     },
     "metadata": {},
     "output_type": "display_data"
    },
    {
     "data": {
      "text/html": [
       "\n",
       "            <div style=\"float: left; border: 1px solid black; width:500px\">\n",
       "              <div id=\"5e84bde2-ad31-4677-b88b-f1e901101663\" style=\"background-color:blue; width:0%\">&nbsp;</div>\n",
       "            </div>\n",
       "            <label id=\"656dc6de-cf34-4bcf-88db-18f02ce4aa8c\" style=\"padding-left: 10px;\" text = \"\"/>\n",
       "            "
      ],
      "text/plain": [
       "<IPython.core.display.HTML object>"
      ]
     },
     "metadata": {},
     "output_type": "display_data"
    },
    {
     "data": {
      "text/html": [
       "\n",
       "            <div style=\"float: left; border: 1px solid black; width:500px\">\n",
       "              <div id=\"ad2cdf48-ce78-4561-88e9-d40be4ab442e\" style=\"background-color:blue; width:0%\">&nbsp;</div>\n",
       "            </div>\n",
       "            <label id=\"6e498b5b-3c31-4c0f-8b23-a858c949debd\" style=\"padding-left: 10px;\" text = \"\"/>\n",
       "            "
      ],
      "text/plain": [
       "<IPython.core.display.HTML object>"
      ]
     },
     "metadata": {},
     "output_type": "display_data"
    },
    {
     "data": {
      "text/html": [
       "\n",
       "            <div style=\"float: left; border: 1px solid black; width:500px\">\n",
       "              <div id=\"1f7f6430-d678-455c-9ce4-130c07c3a0a9\" style=\"background-color:blue; width:0%\">&nbsp;</div>\n",
       "            </div>\n",
       "            <label id=\"05ca416b-0474-47f2-a92c-dd241b1cd11f\" style=\"padding-left: 10px;\" text = \"\"/>\n",
       "            "
      ],
      "text/plain": [
       "<IPython.core.display.HTML object>"
      ]
     },
     "metadata": {},
     "output_type": "display_data"
    },
    {
     "data": {
      "text/html": [
       "\n",
       "            <div style=\"float: left; border: 1px solid black; width:500px\">\n",
       "              <div id=\"20d730cb-0898-46b6-bb06-abd269d46ef5\" style=\"background-color:blue; width:0%\">&nbsp;</div>\n",
       "            </div>\n",
       "            <label id=\"299bd346-5922-4fa8-b993-f52db98fbd56\" style=\"padding-left: 10px;\" text = \"\"/>\n",
       "            "
      ],
      "text/plain": [
       "<IPython.core.display.HTML object>"
      ]
     },
     "metadata": {},
     "output_type": "display_data"
    },
    {
     "data": {
      "text/html": [
       "\n",
       "            <div style=\"float: left; border: 1px solid black; width:500px\">\n",
       "              <div id=\"247478e3-013e-410b-bbd0-d7d6a33183fa\" style=\"background-color:blue; width:0%\">&nbsp;</div>\n",
       "            </div>\n",
       "            <label id=\"96dbfae6-f16d-49b0-ac7b-dabf842bc02c\" style=\"padding-left: 10px;\" text = \"\"/>\n",
       "            "
      ],
      "text/plain": [
       "<IPython.core.display.HTML object>"
      ]
     },
     "metadata": {},
     "output_type": "display_data"
    },
    {
     "data": {
      "text/html": [
       "\n",
       "            <div style=\"float: left; border: 1px solid black; width:500px\">\n",
       "              <div id=\"216f0e1b-00f9-4190-aec5-413bf3c0ee1c\" style=\"background-color:blue; width:0%\">&nbsp;</div>\n",
       "            </div>\n",
       "            <label id=\"b1af44f3-6e7d-4479-8030-09fe8c086135\" style=\"padding-left: 10px;\" text = \"\"/>\n",
       "            "
      ],
      "text/plain": [
       "<IPython.core.display.HTML object>"
      ]
     },
     "metadata": {},
     "output_type": "display_data"
    },
    {
     "data": {
      "text/html": [
       "\n",
       "            <div style=\"float: left; border: 1px solid black; width:500px\">\n",
       "              <div id=\"d178edee-0fe9-45cc-8483-e3b25e018a44\" style=\"background-color:blue; width:0%\">&nbsp;</div>\n",
       "            </div>\n",
       "            <label id=\"7875f3ec-d5a7-46dc-9180-b4c07b3224e7\" style=\"padding-left: 10px;\" text = \"\"/>\n",
       "            "
      ],
      "text/plain": [
       "<IPython.core.display.HTML object>"
      ]
     },
     "metadata": {},
     "output_type": "display_data"
    },
    {
     "data": {
      "text/html": [
       "\n",
       "            <div style=\"float: left; border: 1px solid black; width:500px\">\n",
       "              <div id=\"1948a09b-737f-464a-b81f-49f7abb11d09\" style=\"background-color:blue; width:0%\">&nbsp;</div>\n",
       "            </div>\n",
       "            <label id=\"a2f27c45-ae78-4694-ab7b-f2fd3ecb71c5\" style=\"padding-left: 10px;\" text = \"\"/>\n",
       "            "
      ],
      "text/plain": [
       "<IPython.core.display.HTML object>"
      ]
     },
     "metadata": {},
     "output_type": "display_data"
    },
    {
     "data": {
      "text/html": [
       "\n",
       "            <div style=\"float: left; border: 1px solid black; width:500px\">\n",
       "              <div id=\"95405cb9-ebab-40cf-beb7-254aea96625c\" style=\"background-color:blue; width:0%\">&nbsp;</div>\n",
       "            </div>\n",
       "            <label id=\"697dd9a6-ad19-4cf5-8258-282eb0e7ca25\" style=\"padding-left: 10px;\" text = \"\"/>\n",
       "            "
      ],
      "text/plain": [
       "<IPython.core.display.HTML object>"
      ]
     },
     "metadata": {},
     "output_type": "display_data"
    },
    {
     "data": {
      "text/html": [
       "\n",
       "            <div style=\"float: left; border: 1px solid black; width:500px\">\n",
       "              <div id=\"7263ec8c-2e2a-45be-b8a6-a06fa3e1f5cd\" style=\"background-color:blue; width:0%\">&nbsp;</div>\n",
       "            </div>\n",
       "            <label id=\"368fbcb1-afb0-4bb3-a148-ce18a000b6ba\" style=\"padding-left: 10px;\" text = \"\"/>\n",
       "            "
      ],
      "text/plain": [
       "<IPython.core.display.HTML object>"
      ]
     },
     "metadata": {},
     "output_type": "display_data"
    },
    {
     "data": {
      "text/html": [
       "\n",
       "            <div style=\"float: left; border: 1px solid black; width:500px\">\n",
       "              <div id=\"45faf8f5-2ea9-4d1f-a651-d3217f333a30\" style=\"background-color:blue; width:0%\">&nbsp;</div>\n",
       "            </div>\n",
       "            <label id=\"68159cea-d463-4b0f-b475-3c89a880b537\" style=\"padding-left: 10px;\" text = \"\"/>\n",
       "            "
      ],
      "text/plain": [
       "<IPython.core.display.HTML object>"
      ]
     },
     "metadata": {},
     "output_type": "display_data"
    },
    {
     "data": {
      "text/html": [
       "\n",
       "            <div style=\"float: left; border: 1px solid black; width:500px\">\n",
       "              <div id=\"1df56b06-bbfe-4a0a-b2bb-18dc8d5d35f6\" style=\"background-color:blue; width:0%\">&nbsp;</div>\n",
       "            </div>\n",
       "            <label id=\"2c6e1bf4-1322-4528-b6f1-6dcf80265d0e\" style=\"padding-left: 10px;\" text = \"\"/>\n",
       "            "
      ],
      "text/plain": [
       "<IPython.core.display.HTML object>"
      ]
     },
     "metadata": {},
     "output_type": "display_data"
    },
    {
     "name": "stdout",
     "output_type": "stream",
     "text": [
      "Panthers\n",
      "Bills\n"
     ]
    },
    {
     "data": {
      "text/html": [
       "\n",
       "            <div style=\"float: left; border: 1px solid black; width:500px\">\n",
       "              <div id=\"0593705d-576d-412f-9eee-9c74a6896733\" style=\"background-color:blue; width:0%\">&nbsp;</div>\n",
       "            </div>\n",
       "            <label id=\"40c8b0d2-773b-435f-ad03-c158c0a90c80\" style=\"padding-left: 10px;\" text = \"\"/>\n",
       "            "
      ],
      "text/plain": [
       "<IPython.core.display.HTML object>"
      ]
     },
     "metadata": {},
     "output_type": "display_data"
    },
    {
     "data": {
      "text/html": [
       "\n",
       "            <div style=\"float: left; border: 1px solid black; width:500px\">\n",
       "              <div id=\"3b7c2188-d7b4-450b-af39-3b85364c79b3\" style=\"background-color:blue; width:0%\">&nbsp;</div>\n",
       "            </div>\n",
       "            <label id=\"cd8e3a95-fefc-4886-9a2d-dd2a5985f7b4\" style=\"padding-left: 10px;\" text = \"\"/>\n",
       "            "
      ],
      "text/plain": [
       "<IPython.core.display.HTML object>"
      ]
     },
     "metadata": {},
     "output_type": "display_data"
    },
    {
     "data": {
      "text/html": [
       "\n",
       "            <div style=\"float: left; border: 1px solid black; width:500px\">\n",
       "              <div id=\"be361126-3998-4908-80c0-94015b0ba797\" style=\"background-color:blue; width:0%\">&nbsp;</div>\n",
       "            </div>\n",
       "            <label id=\"693b43c6-d641-47d7-b30a-c887ddcf420a\" style=\"padding-left: 10px;\" text = \"\"/>\n",
       "            "
      ],
      "text/plain": [
       "<IPython.core.display.HTML object>"
      ]
     },
     "metadata": {},
     "output_type": "display_data"
    },
    {
     "data": {
      "text/html": [
       "\n",
       "            <div style=\"float: left; border: 1px solid black; width:500px\">\n",
       "              <div id=\"f33ac510-5329-48c1-b84d-222916b0ce16\" style=\"background-color:blue; width:0%\">&nbsp;</div>\n",
       "            </div>\n",
       "            <label id=\"f6697a21-b5fc-4b6e-bff6-4717a6174ef8\" style=\"padding-left: 10px;\" text = \"\"/>\n",
       "            "
      ],
      "text/plain": [
       "<IPython.core.display.HTML object>"
      ]
     },
     "metadata": {},
     "output_type": "display_data"
    },
    {
     "data": {
      "text/html": [
       "\n",
       "            <div style=\"float: left; border: 1px solid black; width:500px\">\n",
       "              <div id=\"c0b91bf3-d13c-4c7b-a8fc-d8b9e22a7cba\" style=\"background-color:blue; width:0%\">&nbsp;</div>\n",
       "            </div>\n",
       "            <label id=\"414e863f-67bf-4f75-a0bb-0aac6b6257af\" style=\"padding-left: 10px;\" text = \"\"/>\n",
       "            "
      ],
      "text/plain": [
       "<IPython.core.display.HTML object>"
      ]
     },
     "metadata": {},
     "output_type": "display_data"
    },
    {
     "data": {
      "text/html": [
       "\n",
       "            <div style=\"float: left; border: 1px solid black; width:500px\">\n",
       "              <div id=\"2c862712-a77a-47fc-bacf-e7410add07c3\" style=\"background-color:blue; width:0%\">&nbsp;</div>\n",
       "            </div>\n",
       "            <label id=\"a9485ddc-886b-45ea-9139-081a56f7ada7\" style=\"padding-left: 10px;\" text = \"\"/>\n",
       "            "
      ],
      "text/plain": [
       "<IPython.core.display.HTML object>"
      ]
     },
     "metadata": {},
     "output_type": "display_data"
    },
    {
     "data": {
      "text/html": [
       "\n",
       "            <div style=\"float: left; border: 1px solid black; width:500px\">\n",
       "              <div id=\"d3a33eee-ffc9-4a57-9e04-1891f4ba28aa\" style=\"background-color:blue; width:0%\">&nbsp;</div>\n",
       "            </div>\n",
       "            <label id=\"d91633eb-c9ad-4162-b7ab-63498de34204\" style=\"padding-left: 10px;\" text = \"\"/>\n",
       "            "
      ],
      "text/plain": [
       "<IPython.core.display.HTML object>"
      ]
     },
     "metadata": {},
     "output_type": "display_data"
    },
    {
     "data": {
      "text/html": [
       "\n",
       "            <div style=\"float: left; border: 1px solid black; width:500px\">\n",
       "              <div id=\"66321df3-a150-4065-b18f-8a2e57dcbfe9\" style=\"background-color:blue; width:0%\">&nbsp;</div>\n",
       "            </div>\n",
       "            <label id=\"5d0f344a-2581-49db-acdb-99d4754449bd\" style=\"padding-left: 10px;\" text = \"\"/>\n",
       "            "
      ],
      "text/plain": [
       "<IPython.core.display.HTML object>"
      ]
     },
     "metadata": {},
     "output_type": "display_data"
    },
    {
     "data": {
      "text/html": [
       "\n",
       "            <div style=\"float: left; border: 1px solid black; width:500px\">\n",
       "              <div id=\"603cc3a1-2e4b-4c4e-9b9a-0b871d2fb2ed\" style=\"background-color:blue; width:0%\">&nbsp;</div>\n",
       "            </div>\n",
       "            <label id=\"2d945a6b-8eb7-4f17-8307-fa73a0ab767b\" style=\"padding-left: 10px;\" text = \"\"/>\n",
       "            "
      ],
      "text/plain": [
       "<IPython.core.display.HTML object>"
      ]
     },
     "metadata": {},
     "output_type": "display_data"
    },
    {
     "data": {
      "text/html": [
       "\n",
       "            <div style=\"float: left; border: 1px solid black; width:500px\">\n",
       "              <div id=\"0159de84-5332-46f8-9458-a00bd4e34e20\" style=\"background-color:blue; width:0%\">&nbsp;</div>\n",
       "            </div>\n",
       "            <label id=\"498297fc-e2d0-4b24-b763-cb56a5d7ed32\" style=\"padding-left: 10px;\" text = \"\"/>\n",
       "            "
      ],
      "text/plain": [
       "<IPython.core.display.HTML object>"
      ]
     },
     "metadata": {},
     "output_type": "display_data"
    },
    {
     "data": {
      "text/html": [
       "\n",
       "            <div style=\"float: left; border: 1px solid black; width:500px\">\n",
       "              <div id=\"f52eec33-4363-4a65-b0b3-448fb46b9b36\" style=\"background-color:blue; width:0%\">&nbsp;</div>\n",
       "            </div>\n",
       "            <label id=\"8189b9bc-e70e-4b94-b73d-c11e34967758\" style=\"padding-left: 10px;\" text = \"\"/>\n",
       "            "
      ],
      "text/plain": [
       "<IPython.core.display.HTML object>"
      ]
     },
     "metadata": {},
     "output_type": "display_data"
    },
    {
     "data": {
      "text/html": [
       "\n",
       "            <div style=\"float: left; border: 1px solid black; width:500px\">\n",
       "              <div id=\"a372986b-36c9-45b2-b184-bd21a42c609f\" style=\"background-color:blue; width:0%\">&nbsp;</div>\n",
       "            </div>\n",
       "            <label id=\"cdd41df8-cf1c-442a-975d-f13cd2d13924\" style=\"padding-left: 10px;\" text = \"\"/>\n",
       "            "
      ],
      "text/plain": [
       "<IPython.core.display.HTML object>"
      ]
     },
     "metadata": {},
     "output_type": "display_data"
    },
    {
     "data": {
      "text/html": [
       "\n",
       "            <div style=\"float: left; border: 1px solid black; width:500px\">\n",
       "              <div id=\"32534820-abb1-492b-9d6a-63dae3facb95\" style=\"background-color:blue; width:0%\">&nbsp;</div>\n",
       "            </div>\n",
       "            <label id=\"daf474cc-9ad7-4139-80b0-8c83e8c2383f\" style=\"padding-left: 10px;\" text = \"\"/>\n",
       "            "
      ],
      "text/plain": [
       "<IPython.core.display.HTML object>"
      ]
     },
     "metadata": {},
     "output_type": "display_data"
    },
    {
     "data": {
      "text/html": [
       "\n",
       "            <div style=\"float: left; border: 1px solid black; width:500px\">\n",
       "              <div id=\"cbb4a505-6a50-4451-8408-0b9ac8d959a1\" style=\"background-color:blue; width:0%\">&nbsp;</div>\n",
       "            </div>\n",
       "            <label id=\"3a6c37f2-abec-4167-9244-2ec9438c4c85\" style=\"padding-left: 10px;\" text = \"\"/>\n",
       "            "
      ],
      "text/plain": [
       "<IPython.core.display.HTML object>"
      ]
     },
     "metadata": {},
     "output_type": "display_data"
    },
    {
     "data": {
      "text/html": [
       "\n",
       "            <div style=\"float: left; border: 1px solid black; width:500px\">\n",
       "              <div id=\"fd6c8460-06be-4743-a1c9-ff2e3627f6a2\" style=\"background-color:blue; width:0%\">&nbsp;</div>\n",
       "            </div>\n",
       "            <label id=\"3d8203fb-1667-4e30-b216-2cc0be39db3d\" style=\"padding-left: 10px;\" text = \"\"/>\n",
       "            "
      ],
      "text/plain": [
       "<IPython.core.display.HTML object>"
      ]
     },
     "metadata": {},
     "output_type": "display_data"
    },
    {
     "data": {
      "text/html": [
       "\n",
       "            <div style=\"float: left; border: 1px solid black; width:500px\">\n",
       "              <div id=\"b2b36db1-0b80-4583-916b-da45c6ea3bff\" style=\"background-color:blue; width:0%\">&nbsp;</div>\n",
       "            </div>\n",
       "            <label id=\"fbb6f5aa-c5d0-498d-a0ce-534d85bfb053\" style=\"padding-left: 10px;\" text = \"\"/>\n",
       "            "
      ],
      "text/plain": [
       "<IPython.core.display.HTML object>"
      ]
     },
     "metadata": {},
     "output_type": "display_data"
    },
    {
     "data": {
      "text/html": [
       "\n",
       "            <div style=\"float: left; border: 1px solid black; width:500px\">\n",
       "              <div id=\"0ea08a96-2ac6-490d-b26c-22f8cb9a3e4a\" style=\"background-color:blue; width:0%\">&nbsp;</div>\n",
       "            </div>\n",
       "            <label id=\"0ab9c427-e90b-4de9-962c-c035d0031a25\" style=\"padding-left: 10px;\" text = \"\"/>\n",
       "            "
      ],
      "text/plain": [
       "<IPython.core.display.HTML object>"
      ]
     },
     "metadata": {},
     "output_type": "display_data"
    },
    {
     "data": {
      "text/html": [
       "\n",
       "            <div style=\"float: left; border: 1px solid black; width:500px\">\n",
       "              <div id=\"586c04a7-9942-4e49-8f3a-fafd7338af1d\" style=\"background-color:blue; width:0%\">&nbsp;</div>\n",
       "            </div>\n",
       "            <label id=\"194b8f01-8577-43d8-85fe-83775badfd5a\" style=\"padding-left: 10px;\" text = \"\"/>\n",
       "            "
      ],
      "text/plain": [
       "<IPython.core.display.HTML object>"
      ]
     },
     "metadata": {},
     "output_type": "display_data"
    },
    {
     "name": "stdout",
     "output_type": "stream",
     "text": [
      "Cowboys\n",
      "Giants\n"
     ]
    },
    {
     "data": {
      "text/html": [
       "\n",
       "            <div style=\"float: left; border: 1px solid black; width:500px\">\n",
       "              <div id=\"948c0ec9-acbb-4a3c-8932-f8856ee26ede\" style=\"background-color:blue; width:0%\">&nbsp;</div>\n",
       "            </div>\n",
       "            <label id=\"a07e053f-0980-4493-bf90-c751f5aa1afe\" style=\"padding-left: 10px;\" text = \"\"/>\n",
       "            "
      ],
      "text/plain": [
       "<IPython.core.display.HTML object>"
      ]
     },
     "metadata": {},
     "output_type": "display_data"
    },
    {
     "data": {
      "text/html": [
       "\n",
       "            <div style=\"float: left; border: 1px solid black; width:500px\">\n",
       "              <div id=\"5d0309f7-3838-4f22-82e6-1e119cc52df7\" style=\"background-color:blue; width:0%\">&nbsp;</div>\n",
       "            </div>\n",
       "            <label id=\"93e98288-de82-4e66-a7e9-d8c13093bc8a\" style=\"padding-left: 10px;\" text = \"\"/>\n",
       "            "
      ],
      "text/plain": [
       "<IPython.core.display.HTML object>"
      ]
     },
     "metadata": {},
     "output_type": "display_data"
    },
    {
     "data": {
      "text/html": [
       "\n",
       "            <div style=\"float: left; border: 1px solid black; width:500px\">\n",
       "              <div id=\"0232ee13-11a8-4f09-95fb-933a79f51421\" style=\"background-color:blue; width:0%\">&nbsp;</div>\n",
       "            </div>\n",
       "            <label id=\"c670d2a0-2652-4f92-bc64-948f62ab0ffc\" style=\"padding-left: 10px;\" text = \"\"/>\n",
       "            "
      ],
      "text/plain": [
       "<IPython.core.display.HTML object>"
      ]
     },
     "metadata": {},
     "output_type": "display_data"
    },
    {
     "data": {
      "text/html": [
       "\n",
       "            <div style=\"float: left; border: 1px solid black; width:500px\">\n",
       "              <div id=\"00798195-876e-4aaa-8145-8b99250eb0b3\" style=\"background-color:blue; width:0%\">&nbsp;</div>\n",
       "            </div>\n",
       "            <label id=\"4f423170-8880-4940-b003-0e6090e9e167\" style=\"padding-left: 10px;\" text = \"\"/>\n",
       "            "
      ],
      "text/plain": [
       "<IPython.core.display.HTML object>"
      ]
     },
     "metadata": {},
     "output_type": "display_data"
    },
    {
     "data": {
      "text/html": [
       "\n",
       "            <div style=\"float: left; border: 1px solid black; width:500px\">\n",
       "              <div id=\"131f89bb-b998-4cfe-842a-440946dd3f34\" style=\"background-color:blue; width:0%\">&nbsp;</div>\n",
       "            </div>\n",
       "            <label id=\"7462af3f-515a-442c-8b71-b006732d8e99\" style=\"padding-left: 10px;\" text = \"\"/>\n",
       "            "
      ],
      "text/plain": [
       "<IPython.core.display.HTML object>"
      ]
     },
     "metadata": {},
     "output_type": "display_data"
    },
    {
     "data": {
      "text/html": [
       "\n",
       "            <div style=\"float: left; border: 1px solid black; width:500px\">\n",
       "              <div id=\"c97fcdca-9fd2-492f-b96a-4116bd78c5e5\" style=\"background-color:blue; width:0%\">&nbsp;</div>\n",
       "            </div>\n",
       "            <label id=\"44103f5f-6904-4a00-a2d4-3f2c93716c1a\" style=\"padding-left: 10px;\" text = \"\"/>\n",
       "            "
      ],
      "text/plain": [
       "<IPython.core.display.HTML object>"
      ]
     },
     "metadata": {},
     "output_type": "display_data"
    },
    {
     "data": {
      "text/html": [
       "\n",
       "            <div style=\"float: left; border: 1px solid black; width:500px\">\n",
       "              <div id=\"7b7fd07c-3209-46b6-8f71-b6a333cb9121\" style=\"background-color:blue; width:0%\">&nbsp;</div>\n",
       "            </div>\n",
       "            <label id=\"5cfd8fec-8a3b-4308-bc01-837e3c301922\" style=\"padding-left: 10px;\" text = \"\"/>\n",
       "            "
      ],
      "text/plain": [
       "<IPython.core.display.HTML object>"
      ]
     },
     "metadata": {},
     "output_type": "display_data"
    },
    {
     "data": {
      "text/html": [
       "\n",
       "            <div style=\"float: left; border: 1px solid black; width:500px\">\n",
       "              <div id=\"fe048fae-638c-45fc-9713-ad622ae3afe8\" style=\"background-color:blue; width:0%\">&nbsp;</div>\n",
       "            </div>\n",
       "            <label id=\"724c01fa-350b-405e-ad24-8763164b7692\" style=\"padding-left: 10px;\" text = \"\"/>\n",
       "            "
      ],
      "text/plain": [
       "<IPython.core.display.HTML object>"
      ]
     },
     "metadata": {},
     "output_type": "display_data"
    },
    {
     "data": {
      "text/html": [
       "\n",
       "            <div style=\"float: left; border: 1px solid black; width:500px\">\n",
       "              <div id=\"22ba0516-0127-420c-8a16-982b71f05027\" style=\"background-color:blue; width:0%\">&nbsp;</div>\n",
       "            </div>\n",
       "            <label id=\"889c69d5-547a-49fb-b14c-0e63c559def0\" style=\"padding-left: 10px;\" text = \"\"/>\n",
       "            "
      ],
      "text/plain": [
       "<IPython.core.display.HTML object>"
      ]
     },
     "metadata": {},
     "output_type": "display_data"
    },
    {
     "data": {
      "text/html": [
       "\n",
       "            <div style=\"float: left; border: 1px solid black; width:500px\">\n",
       "              <div id=\"a4136f31-8110-4674-84c1-42508aea2705\" style=\"background-color:blue; width:0%\">&nbsp;</div>\n",
       "            </div>\n",
       "            <label id=\"c5cf7f16-f981-4f63-b60d-cea616ae31a4\" style=\"padding-left: 10px;\" text = \"\"/>\n",
       "            "
      ],
      "text/plain": [
       "<IPython.core.display.HTML object>"
      ]
     },
     "metadata": {},
     "output_type": "display_data"
    },
    {
     "data": {
      "text/html": [
       "\n",
       "            <div style=\"float: left; border: 1px solid black; width:500px\">\n",
       "              <div id=\"8dbfb845-cda4-4195-9846-0f623565ccf8\" style=\"background-color:blue; width:0%\">&nbsp;</div>\n",
       "            </div>\n",
       "            <label id=\"9b5f9a6a-ee73-4f29-9b6c-bf24ffb9b90b\" style=\"padding-left: 10px;\" text = \"\"/>\n",
       "            "
      ],
      "text/plain": [
       "<IPython.core.display.HTML object>"
      ]
     },
     "metadata": {},
     "output_type": "display_data"
    },
    {
     "data": {
      "text/html": [
       "\n",
       "            <div style=\"float: left; border: 1px solid black; width:500px\">\n",
       "              <div id=\"ce702ecd-a47a-483d-9d43-40e947d9b0ea\" style=\"background-color:blue; width:0%\">&nbsp;</div>\n",
       "            </div>\n",
       "            <label id=\"d05aca47-ad2c-4628-b802-7c65411374fe\" style=\"padding-left: 10px;\" text = \"\"/>\n",
       "            "
      ],
      "text/plain": [
       "<IPython.core.display.HTML object>"
      ]
     },
     "metadata": {},
     "output_type": "display_data"
    },
    {
     "data": {
      "text/html": [
       "\n",
       "            <div style=\"float: left; border: 1px solid black; width:500px\">\n",
       "              <div id=\"2eb57adb-42cc-4ef8-bfd6-f562bc54ca83\" style=\"background-color:blue; width:0%\">&nbsp;</div>\n",
       "            </div>\n",
       "            <label id=\"412a7688-55bf-4b11-a998-2c3fc7d31330\" style=\"padding-left: 10px;\" text = \"\"/>\n",
       "            "
      ],
      "text/plain": [
       "<IPython.core.display.HTML object>"
      ]
     },
     "metadata": {},
     "output_type": "display_data"
    },
    {
     "data": {
      "text/html": [
       "\n",
       "            <div style=\"float: left; border: 1px solid black; width:500px\">\n",
       "              <div id=\"c93db8f0-952e-4ad1-9fc9-57e26ea82cc5\" style=\"background-color:blue; width:0%\">&nbsp;</div>\n",
       "            </div>\n",
       "            <label id=\"b0d489e4-d6a0-4698-a59d-09817ac35e48\" style=\"padding-left: 10px;\" text = \"\"/>\n",
       "            "
      ],
      "text/plain": [
       "<IPython.core.display.HTML object>"
      ]
     },
     "metadata": {},
     "output_type": "display_data"
    },
    {
     "data": {
      "text/html": [
       "\n",
       "            <div style=\"float: left; border: 1px solid black; width:500px\">\n",
       "              <div id=\"facf2e78-c132-4199-9d19-d707396c64cd\" style=\"background-color:blue; width:0%\">&nbsp;</div>\n",
       "            </div>\n",
       "            <label id=\"5f480a79-b3d6-4736-9aeb-0e9eff24d304\" style=\"padding-left: 10px;\" text = \"\"/>\n",
       "            "
      ],
      "text/plain": [
       "<IPython.core.display.HTML object>"
      ]
     },
     "metadata": {},
     "output_type": "display_data"
    },
    {
     "data": {
      "text/html": [
       "\n",
       "            <div style=\"float: left; border: 1px solid black; width:500px\">\n",
       "              <div id=\"ac1e02aa-8715-4d8c-9c6d-023da3144ec7\" style=\"background-color:blue; width:0%\">&nbsp;</div>\n",
       "            </div>\n",
       "            <label id=\"b1603add-324a-46ca-b6b7-f91adb5c298f\" style=\"padding-left: 10px;\" text = \"\"/>\n",
       "            "
      ],
      "text/plain": [
       "<IPython.core.display.HTML object>"
      ]
     },
     "metadata": {},
     "output_type": "display_data"
    },
    {
     "data": {
      "text/html": [
       "\n",
       "            <div style=\"float: left; border: 1px solid black; width:500px\">\n",
       "              <div id=\"343f2402-d7da-42e0-a366-b2431c0a4c63\" style=\"background-color:blue; width:0%\">&nbsp;</div>\n",
       "            </div>\n",
       "            <label id=\"5537892d-8395-470e-bb28-ad87e5fc3dee\" style=\"padding-left: 10px;\" text = \"\"/>\n",
       "            "
      ],
      "text/plain": [
       "<IPython.core.display.HTML object>"
      ]
     },
     "metadata": {},
     "output_type": "display_data"
    },
    {
     "data": {
      "text/html": [
       "\n",
       "            <div style=\"float: left; border: 1px solid black; width:500px\">\n",
       "              <div id=\"3c9d8307-b219-4b30-9993-f135efbad1c0\" style=\"background-color:blue; width:0%\">&nbsp;</div>\n",
       "            </div>\n",
       "            <label id=\"e4d7deee-91cc-4b2d-adfc-e4d82372731c\" style=\"padding-left: 10px;\" text = \"\"/>\n",
       "            "
      ],
      "text/plain": [
       "<IPython.core.display.HTML object>"
      ]
     },
     "metadata": {},
     "output_type": "display_data"
    },
    {
     "name": "stdout",
     "output_type": "stream",
     "text": [
      "Texans\n",
      "Jaguars\n"
     ]
    },
    {
     "data": {
      "text/html": [
       "\n",
       "            <div style=\"float: left; border: 1px solid black; width:500px\">\n",
       "              <div id=\"384d9edf-6357-4914-9a13-d5cc963442a8\" style=\"background-color:blue; width:0%\">&nbsp;</div>\n",
       "            </div>\n",
       "            <label id=\"f26e9903-e07b-47fe-83b0-2fc782dbd195\" style=\"padding-left: 10px;\" text = \"\"/>\n",
       "            "
      ],
      "text/plain": [
       "<IPython.core.display.HTML object>"
      ]
     },
     "metadata": {},
     "output_type": "display_data"
    },
    {
     "data": {
      "text/html": [
       "\n",
       "            <div style=\"float: left; border: 1px solid black; width:500px\">\n",
       "              <div id=\"365223e2-f8f8-4628-b62b-a28fd34fe3e6\" style=\"background-color:blue; width:0%\">&nbsp;</div>\n",
       "            </div>\n",
       "            <label id=\"3c9168b8-2d8e-4bf6-a9ea-802367c204d1\" style=\"padding-left: 10px;\" text = \"\"/>\n",
       "            "
      ],
      "text/plain": [
       "<IPython.core.display.HTML object>"
      ]
     },
     "metadata": {},
     "output_type": "display_data"
    },
    {
     "data": {
      "text/html": [
       "\n",
       "            <div style=\"float: left; border: 1px solid black; width:500px\">\n",
       "              <div id=\"3b91d610-7661-4917-92bd-26cd89cf9f9b\" style=\"background-color:blue; width:0%\">&nbsp;</div>\n",
       "            </div>\n",
       "            <label id=\"b6346771-c0a5-4760-91f6-ff521b1c0584\" style=\"padding-left: 10px;\" text = \"\"/>\n",
       "            "
      ],
      "text/plain": [
       "<IPython.core.display.HTML object>"
      ]
     },
     "metadata": {},
     "output_type": "display_data"
    },
    {
     "data": {
      "text/html": [
       "\n",
       "            <div style=\"float: left; border: 1px solid black; width:500px\">\n",
       "              <div id=\"8f02fb4b-5f59-4d88-a9ee-4938a75d9cb0\" style=\"background-color:blue; width:0%\">&nbsp;</div>\n",
       "            </div>\n",
       "            <label id=\"f18569ab-9d61-4c2b-bfe3-188272558a78\" style=\"padding-left: 10px;\" text = \"\"/>\n",
       "            "
      ],
      "text/plain": [
       "<IPython.core.display.HTML object>"
      ]
     },
     "metadata": {},
     "output_type": "display_data"
    },
    {
     "data": {
      "text/html": [
       "\n",
       "            <div style=\"float: left; border: 1px solid black; width:500px\">\n",
       "              <div id=\"0311da83-3029-4908-aafa-2f2124b6fd24\" style=\"background-color:blue; width:0%\">&nbsp;</div>\n",
       "            </div>\n",
       "            <label id=\"4974048c-ea73-42dc-b7cf-7d5261a7755f\" style=\"padding-left: 10px;\" text = \"\"/>\n",
       "            "
      ],
      "text/plain": [
       "<IPython.core.display.HTML object>"
      ]
     },
     "metadata": {},
     "output_type": "display_data"
    },
    {
     "data": {
      "text/html": [
       "\n",
       "            <div style=\"float: left; border: 1px solid black; width:500px\">\n",
       "              <div id=\"1c13c6c1-ae9d-46b9-808b-0f8387a8726a\" style=\"background-color:blue; width:0%\">&nbsp;</div>\n",
       "            </div>\n",
       "            <label id=\"1174ec16-6188-4fc2-b00d-8f7748c086c8\" style=\"padding-left: 10px;\" text = \"\"/>\n",
       "            "
      ],
      "text/plain": [
       "<IPython.core.display.HTML object>"
      ]
     },
     "metadata": {},
     "output_type": "display_data"
    },
    {
     "data": {
      "text/html": [
       "\n",
       "            <div style=\"float: left; border: 1px solid black; width:500px\">\n",
       "              <div id=\"475c5eb5-3f14-4645-959c-a2eaf86733c9\" style=\"background-color:blue; width:0%\">&nbsp;</div>\n",
       "            </div>\n",
       "            <label id=\"bb61c947-1f1d-456a-ba9c-6d0a3ced48f9\" style=\"padding-left: 10px;\" text = \"\"/>\n",
       "            "
      ],
      "text/plain": [
       "<IPython.core.display.HTML object>"
      ]
     },
     "metadata": {},
     "output_type": "display_data"
    },
    {
     "data": {
      "text/html": [
       "\n",
       "            <div style=\"float: left; border: 1px solid black; width:500px\">\n",
       "              <div id=\"905b8c90-1999-4d63-a800-627aa1bef905\" style=\"background-color:blue; width:0%\">&nbsp;</div>\n",
       "            </div>\n",
       "            <label id=\"f3848c2a-2d78-4cdb-b590-ec170b97d40c\" style=\"padding-left: 10px;\" text = \"\"/>\n",
       "            "
      ],
      "text/plain": [
       "<IPython.core.display.HTML object>"
      ]
     },
     "metadata": {},
     "output_type": "display_data"
    },
    {
     "data": {
      "text/html": [
       "\n",
       "            <div style=\"float: left; border: 1px solid black; width:500px\">\n",
       "              <div id=\"5a13892a-0d10-4611-94a8-781bf1c10401\" style=\"background-color:blue; width:0%\">&nbsp;</div>\n",
       "            </div>\n",
       "            <label id=\"fd7a0de7-43d3-4457-b72a-40ed2997da92\" style=\"padding-left: 10px;\" text = \"\"/>\n",
       "            "
      ],
      "text/plain": [
       "<IPython.core.display.HTML object>"
      ]
     },
     "metadata": {},
     "output_type": "display_data"
    },
    {
     "data": {
      "text/html": [
       "\n",
       "            <div style=\"float: left; border: 1px solid black; width:500px\">\n",
       "              <div id=\"74c78349-235e-4f1d-bb35-29c03c28714f\" style=\"background-color:blue; width:0%\">&nbsp;</div>\n",
       "            </div>\n",
       "            <label id=\"7d6bc0c1-8727-4e48-b061-26c7d6b4cb01\" style=\"padding-left: 10px;\" text = \"\"/>\n",
       "            "
      ],
      "text/plain": [
       "<IPython.core.display.HTML object>"
      ]
     },
     "metadata": {},
     "output_type": "display_data"
    },
    {
     "data": {
      "text/html": [
       "\n",
       "            <div style=\"float: left; border: 1px solid black; width:500px\">\n",
       "              <div id=\"b8ddc847-95c4-4638-b3bd-c17833264e30\" style=\"background-color:blue; width:0%\">&nbsp;</div>\n",
       "            </div>\n",
       "            <label id=\"3e4d2e2d-5d60-4a3b-a689-b21733cc8dff\" style=\"padding-left: 10px;\" text = \"\"/>\n",
       "            "
      ],
      "text/plain": [
       "<IPython.core.display.HTML object>"
      ]
     },
     "metadata": {},
     "output_type": "display_data"
    },
    {
     "data": {
      "text/html": [
       "\n",
       "            <div style=\"float: left; border: 1px solid black; width:500px\">\n",
       "              <div id=\"652418d5-75a2-4076-b9b2-81dcd424000f\" style=\"background-color:blue; width:0%\">&nbsp;</div>\n",
       "            </div>\n",
       "            <label id=\"fd76b49e-7c45-4a82-96ec-1edf92084c2b\" style=\"padding-left: 10px;\" text = \"\"/>\n",
       "            "
      ],
      "text/plain": [
       "<IPython.core.display.HTML object>"
      ]
     },
     "metadata": {},
     "output_type": "display_data"
    },
    {
     "data": {
      "text/html": [
       "\n",
       "            <div style=\"float: left; border: 1px solid black; width:500px\">\n",
       "              <div id=\"efe766dd-327f-4845-9275-646d5a01b2c3\" style=\"background-color:blue; width:0%\">&nbsp;</div>\n",
       "            </div>\n",
       "            <label id=\"a15e181c-599d-46ce-97be-1bf5278a3c03\" style=\"padding-left: 10px;\" text = \"\"/>\n",
       "            "
      ],
      "text/plain": [
       "<IPython.core.display.HTML object>"
      ]
     },
     "metadata": {},
     "output_type": "display_data"
    },
    {
     "data": {
      "text/html": [
       "\n",
       "            <div style=\"float: left; border: 1px solid black; width:500px\">\n",
       "              <div id=\"57acec3a-d52f-4a35-a966-dc0933109ac4\" style=\"background-color:blue; width:0%\">&nbsp;</div>\n",
       "            </div>\n",
       "            <label id=\"174c6e3a-9181-4fef-8e13-946b7cd01c5c\" style=\"padding-left: 10px;\" text = \"\"/>\n",
       "            "
      ],
      "text/plain": [
       "<IPython.core.display.HTML object>"
      ]
     },
     "metadata": {},
     "output_type": "display_data"
    },
    {
     "data": {
      "text/html": [
       "\n",
       "            <div style=\"float: left; border: 1px solid black; width:500px\">\n",
       "              <div id=\"dfb3e5b4-8505-416b-8d8f-50dd350605be\" style=\"background-color:blue; width:0%\">&nbsp;</div>\n",
       "            </div>\n",
       "            <label id=\"ee6d0fe4-7905-4e45-98c6-0865a5f057a3\" style=\"padding-left: 10px;\" text = \"\"/>\n",
       "            "
      ],
      "text/plain": [
       "<IPython.core.display.HTML object>"
      ]
     },
     "metadata": {},
     "output_type": "display_data"
    },
    {
     "data": {
      "text/html": [
       "\n",
       "            <div style=\"float: left; border: 1px solid black; width:500px\">\n",
       "              <div id=\"fbdce4ba-18f9-4d0b-8b99-287d8c8f87d2\" style=\"background-color:blue; width:0%\">&nbsp;</div>\n",
       "            </div>\n",
       "            <label id=\"36c115e9-fd5f-4e4e-8de3-87205f032705\" style=\"padding-left: 10px;\" text = \"\"/>\n",
       "            "
      ],
      "text/plain": [
       "<IPython.core.display.HTML object>"
      ]
     },
     "metadata": {},
     "output_type": "display_data"
    },
    {
     "data": {
      "text/html": [
       "\n",
       "            <div style=\"float: left; border: 1px solid black; width:500px\">\n",
       "              <div id=\"64c9fb7c-6027-4f19-a43d-a1a5aa459de2\" style=\"background-color:blue; width:0%\">&nbsp;</div>\n",
       "            </div>\n",
       "            <label id=\"03bccc96-3d1d-4b48-be85-04a72bb85b3d\" style=\"padding-left: 10px;\" text = \"\"/>\n",
       "            "
      ],
      "text/plain": [
       "<IPython.core.display.HTML object>"
      ]
     },
     "metadata": {},
     "output_type": "display_data"
    },
    {
     "data": {
      "text/html": [
       "\n",
       "            <div style=\"float: left; border: 1px solid black; width:500px\">\n",
       "              <div id=\"2cd65573-b953-4268-98f3-14ed1fb0d054\" style=\"background-color:blue; width:0%\">&nbsp;</div>\n",
       "            </div>\n",
       "            <label id=\"542cf07f-6882-41de-b987-c0bd58defffc\" style=\"padding-left: 10px;\" text = \"\"/>\n",
       "            "
      ],
      "text/plain": [
       "<IPython.core.display.HTML object>"
      ]
     },
     "metadata": {},
     "output_type": "display_data"
    },
    {
     "name": "stdout",
     "output_type": "stream",
     "text": [
      "Titans\n",
      "Steelers\n"
     ]
    },
    {
     "data": {
      "text/html": [
       "\n",
       "            <div style=\"float: left; border: 1px solid black; width:500px\">\n",
       "              <div id=\"cf1b0440-2ef7-40b0-8b40-d3c0d07b1019\" style=\"background-color:blue; width:0%\">&nbsp;</div>\n",
       "            </div>\n",
       "            <label id=\"4a5e1297-370d-4569-b6a7-e8e67b47d8e0\" style=\"padding-left: 10px;\" text = \"\"/>\n",
       "            "
      ],
      "text/plain": [
       "<IPython.core.display.HTML object>"
      ]
     },
     "metadata": {},
     "output_type": "display_data"
    },
    {
     "data": {
      "text/html": [
       "\n",
       "            <div style=\"float: left; border: 1px solid black; width:500px\">\n",
       "              <div id=\"1fb5bf26-2f86-4a9c-aa3d-361283787e55\" style=\"background-color:blue; width:0%\">&nbsp;</div>\n",
       "            </div>\n",
       "            <label id=\"64105109-a7e6-4801-98af-1070fceecf55\" style=\"padding-left: 10px;\" text = \"\"/>\n",
       "            "
      ],
      "text/plain": [
       "<IPython.core.display.HTML object>"
      ]
     },
     "metadata": {},
     "output_type": "display_data"
    },
    {
     "data": {
      "text/html": [
       "\n",
       "            <div style=\"float: left; border: 1px solid black; width:500px\">\n",
       "              <div id=\"b1061e44-f8a3-4c9d-866b-50c15e5be21f\" style=\"background-color:blue; width:0%\">&nbsp;</div>\n",
       "            </div>\n",
       "            <label id=\"21e25dcb-a889-41e7-ba17-a9773bd11e6c\" style=\"padding-left: 10px;\" text = \"\"/>\n",
       "            "
      ],
      "text/plain": [
       "<IPython.core.display.HTML object>"
      ]
     },
     "metadata": {},
     "output_type": "display_data"
    },
    {
     "data": {
      "text/html": [
       "\n",
       "            <div style=\"float: left; border: 1px solid black; width:500px\">\n",
       "              <div id=\"49d23ecf-22c1-4b3d-8d7a-d6c75d193db4\" style=\"background-color:blue; width:0%\">&nbsp;</div>\n",
       "            </div>\n",
       "            <label id=\"d76bcf52-59a3-486f-a78a-612da1b58c7a\" style=\"padding-left: 10px;\" text = \"\"/>\n",
       "            "
      ],
      "text/plain": [
       "<IPython.core.display.HTML object>"
      ]
     },
     "metadata": {},
     "output_type": "display_data"
    },
    {
     "data": {
      "text/html": [
       "\n",
       "            <div style=\"float: left; border: 1px solid black; width:500px\">\n",
       "              <div id=\"0ba27862-ed13-452c-a2d7-ea7b425cf9ff\" style=\"background-color:blue; width:0%\">&nbsp;</div>\n",
       "            </div>\n",
       "            <label id=\"155ba045-a943-4c30-8ab9-20ff3e9715d8\" style=\"padding-left: 10px;\" text = \"\"/>\n",
       "            "
      ],
      "text/plain": [
       "<IPython.core.display.HTML object>"
      ]
     },
     "metadata": {},
     "output_type": "display_data"
    },
    {
     "data": {
      "text/html": [
       "\n",
       "            <div style=\"float: left; border: 1px solid black; width:500px\">\n",
       "              <div id=\"08b66109-02f5-443f-b067-8412f40e5751\" style=\"background-color:blue; width:0%\">&nbsp;</div>\n",
       "            </div>\n",
       "            <label id=\"dbcc340c-e2ca-4df9-bd12-58720fb3df6b\" style=\"padding-left: 10px;\" text = \"\"/>\n",
       "            "
      ],
      "text/plain": [
       "<IPython.core.display.HTML object>"
      ]
     },
     "metadata": {},
     "output_type": "display_data"
    },
    {
     "data": {
      "text/html": [
       "\n",
       "            <div style=\"float: left; border: 1px solid black; width:500px\">\n",
       "              <div id=\"a2d1db77-fb5b-463d-9f46-4bf088d2c33a\" style=\"background-color:blue; width:0%\">&nbsp;</div>\n",
       "            </div>\n",
       "            <label id=\"b71beb90-b0be-4aa4-a703-fc834f4d82db\" style=\"padding-left: 10px;\" text = \"\"/>\n",
       "            "
      ],
      "text/plain": [
       "<IPython.core.display.HTML object>"
      ]
     },
     "metadata": {},
     "output_type": "display_data"
    },
    {
     "data": {
      "text/html": [
       "\n",
       "            <div style=\"float: left; border: 1px solid black; width:500px\">\n",
       "              <div id=\"88a9c1ab-9a7d-4b22-9b56-89b05ea2be4c\" style=\"background-color:blue; width:0%\">&nbsp;</div>\n",
       "            </div>\n",
       "            <label id=\"7876fd6b-3bf0-4dd5-a20a-6f08de42e48b\" style=\"padding-left: 10px;\" text = \"\"/>\n",
       "            "
      ],
      "text/plain": [
       "<IPython.core.display.HTML object>"
      ]
     },
     "metadata": {},
     "output_type": "display_data"
    },
    {
     "data": {
      "text/html": [
       "\n",
       "            <div style=\"float: left; border: 1px solid black; width:500px\">\n",
       "              <div id=\"0bfc04a5-2a39-4e09-b927-79de735e39a5\" style=\"background-color:blue; width:0%\">&nbsp;</div>\n",
       "            </div>\n",
       "            <label id=\"0a7ec720-75d3-4be9-87bb-f561ed9e7ae8\" style=\"padding-left: 10px;\" text = \"\"/>\n",
       "            "
      ],
      "text/plain": [
       "<IPython.core.display.HTML object>"
      ]
     },
     "metadata": {},
     "output_type": "display_data"
    },
    {
     "data": {
      "text/html": [
       "\n",
       "            <div style=\"float: left; border: 1px solid black; width:500px\">\n",
       "              <div id=\"dd40615a-f998-4d53-be6a-24c47fc03de4\" style=\"background-color:blue; width:0%\">&nbsp;</div>\n",
       "            </div>\n",
       "            <label id=\"9f51f9f0-e0e0-4b91-8152-c6068de7d854\" style=\"padding-left: 10px;\" text = \"\"/>\n",
       "            "
      ],
      "text/plain": [
       "<IPython.core.display.HTML object>"
      ]
     },
     "metadata": {},
     "output_type": "display_data"
    },
    {
     "data": {
      "text/html": [
       "\n",
       "            <div style=\"float: left; border: 1px solid black; width:500px\">\n",
       "              <div id=\"ece2aee4-8db7-43b8-9d60-1646db1ab6a0\" style=\"background-color:blue; width:0%\">&nbsp;</div>\n",
       "            </div>\n",
       "            <label id=\"f9a97f4f-860b-41eb-b430-e1d52a4b85bf\" style=\"padding-left: 10px;\" text = \"\"/>\n",
       "            "
      ],
      "text/plain": [
       "<IPython.core.display.HTML object>"
      ]
     },
     "metadata": {},
     "output_type": "display_data"
    },
    {
     "data": {
      "text/html": [
       "\n",
       "            <div style=\"float: left; border: 1px solid black; width:500px\">\n",
       "              <div id=\"be928a13-ce9b-4bf3-9069-b06a85ad584e\" style=\"background-color:blue; width:0%\">&nbsp;</div>\n",
       "            </div>\n",
       "            <label id=\"555d7692-7583-4521-9274-e7e820422565\" style=\"padding-left: 10px;\" text = \"\"/>\n",
       "            "
      ],
      "text/plain": [
       "<IPython.core.display.HTML object>"
      ]
     },
     "metadata": {},
     "output_type": "display_data"
    },
    {
     "data": {
      "text/html": [
       "\n",
       "            <div style=\"float: left; border: 1px solid black; width:500px\">\n",
       "              <div id=\"76c90d73-280d-4bad-80e6-1deb55f63d1c\" style=\"background-color:blue; width:0%\">&nbsp;</div>\n",
       "            </div>\n",
       "            <label id=\"b5261e2d-6f11-4cd0-b194-cbc4c65723d5\" style=\"padding-left: 10px;\" text = \"\"/>\n",
       "            "
      ],
      "text/plain": [
       "<IPython.core.display.HTML object>"
      ]
     },
     "metadata": {},
     "output_type": "display_data"
    },
    {
     "data": {
      "text/html": [
       "\n",
       "            <div style=\"float: left; border: 1px solid black; width:500px\">\n",
       "              <div id=\"16974d5b-a1bd-45ae-b00f-e2f33688c159\" style=\"background-color:blue; width:0%\">&nbsp;</div>\n",
       "            </div>\n",
       "            <label id=\"665884a5-55ae-4468-bb14-f926cd3fb1de\" style=\"padding-left: 10px;\" text = \"\"/>\n",
       "            "
      ],
      "text/plain": [
       "<IPython.core.display.HTML object>"
      ]
     },
     "metadata": {},
     "output_type": "display_data"
    },
    {
     "data": {
      "text/html": [
       "\n",
       "            <div style=\"float: left; border: 1px solid black; width:500px\">\n",
       "              <div id=\"53a56d17-8649-4806-89b7-db1d394b1e56\" style=\"background-color:blue; width:0%\">&nbsp;</div>\n",
       "            </div>\n",
       "            <label id=\"0ace9964-f25e-493d-a0b4-9ab7068ad801\" style=\"padding-left: 10px;\" text = \"\"/>\n",
       "            "
      ],
      "text/plain": [
       "<IPython.core.display.HTML object>"
      ]
     },
     "metadata": {},
     "output_type": "display_data"
    },
    {
     "data": {
      "text/html": [
       "\n",
       "            <div style=\"float: left; border: 1px solid black; width:500px\">\n",
       "              <div id=\"d904e6bb-2b1b-4690-8066-b817d8440972\" style=\"background-color:blue; width:0%\">&nbsp;</div>\n",
       "            </div>\n",
       "            <label id=\"b49da7e4-228c-412f-9fe4-c7bc83116ba0\" style=\"padding-left: 10px;\" text = \"\"/>\n",
       "            "
      ],
      "text/plain": [
       "<IPython.core.display.HTML object>"
      ]
     },
     "metadata": {},
     "output_type": "display_data"
    },
    {
     "data": {
      "text/html": [
       "\n",
       "            <div style=\"float: left; border: 1px solid black; width:500px\">\n",
       "              <div id=\"f49e8505-e4cb-4966-965a-91495c28c280\" style=\"background-color:blue; width:0%\">&nbsp;</div>\n",
       "            </div>\n",
       "            <label id=\"0f518bc4-79d2-45f3-8a2c-6018e5c91445\" style=\"padding-left: 10px;\" text = \"\"/>\n",
       "            "
      ],
      "text/plain": [
       "<IPython.core.display.HTML object>"
      ]
     },
     "metadata": {},
     "output_type": "display_data"
    },
    {
     "data": {
      "text/html": [
       "\n",
       "            <div style=\"float: left; border: 1px solid black; width:500px\">\n",
       "              <div id=\"9d997be6-300c-4dc3-b73d-2e9ef1841d3a\" style=\"background-color:blue; width:0%\">&nbsp;</div>\n",
       "            </div>\n",
       "            <label id=\"87f6c703-4b68-4d05-b0ef-7ae40df58b3e\" style=\"padding-left: 10px;\" text = \"\"/>\n",
       "            "
      ],
      "text/plain": [
       "<IPython.core.display.HTML object>"
      ]
     },
     "metadata": {},
     "output_type": "display_data"
    },
    {
     "name": "stdout",
     "output_type": "stream",
     "text": [
      "Cardinals\n",
      "Lions\n"
     ]
    },
    {
     "data": {
      "text/html": [
       "\n",
       "            <div style=\"float: left; border: 1px solid black; width:500px\">\n",
       "              <div id=\"46be4397-0ac7-4405-b10d-9a82ccec9f22\" style=\"background-color:blue; width:0%\">&nbsp;</div>\n",
       "            </div>\n",
       "            <label id=\"7a5d8991-e259-4885-a2b6-26b819c280e7\" style=\"padding-left: 10px;\" text = \"\"/>\n",
       "            "
      ],
      "text/plain": [
       "<IPython.core.display.HTML object>"
      ]
     },
     "metadata": {},
     "output_type": "display_data"
    },
    {
     "data": {
      "text/html": [
       "\n",
       "            <div style=\"float: left; border: 1px solid black; width:500px\">\n",
       "              <div id=\"9eb7f3ec-b003-4852-b212-a787374857ef\" style=\"background-color:blue; width:0%\">&nbsp;</div>\n",
       "            </div>\n",
       "            <label id=\"cc233bde-062d-4a0b-a5e1-b1bd12a8c544\" style=\"padding-left: 10px;\" text = \"\"/>\n",
       "            "
      ],
      "text/plain": [
       "<IPython.core.display.HTML object>"
      ]
     },
     "metadata": {},
     "output_type": "display_data"
    },
    {
     "data": {
      "text/html": [
       "\n",
       "            <div style=\"float: left; border: 1px solid black; width:500px\">\n",
       "              <div id=\"41687c89-3b72-4a35-9b2f-8a7703b78571\" style=\"background-color:blue; width:0%\">&nbsp;</div>\n",
       "            </div>\n",
       "            <label id=\"25dbdcef-458e-4d4f-89cc-f2faf517a6f3\" style=\"padding-left: 10px;\" text = \"\"/>\n",
       "            "
      ],
      "text/plain": [
       "<IPython.core.display.HTML object>"
      ]
     },
     "metadata": {},
     "output_type": "display_data"
    },
    {
     "data": {
      "text/html": [
       "\n",
       "            <div style=\"float: left; border: 1px solid black; width:500px\">\n",
       "              <div id=\"ca4fa3b8-de3f-449e-8be7-53ec2340a250\" style=\"background-color:blue; width:0%\">&nbsp;</div>\n",
       "            </div>\n",
       "            <label id=\"0cc98f2e-17bd-4e25-8dec-b947d8005ece\" style=\"padding-left: 10px;\" text = \"\"/>\n",
       "            "
      ],
      "text/plain": [
       "<IPython.core.display.HTML object>"
      ]
     },
     "metadata": {},
     "output_type": "display_data"
    },
    {
     "data": {
      "text/html": [
       "\n",
       "            <div style=\"float: left; border: 1px solid black; width:500px\">\n",
       "              <div id=\"c1835a31-e770-46a5-a0a0-dc9ae70ba6d8\" style=\"background-color:blue; width:0%\">&nbsp;</div>\n",
       "            </div>\n",
       "            <label id=\"d98c4de6-dadc-4c89-86c7-94e1d3b303ea\" style=\"padding-left: 10px;\" text = \"\"/>\n",
       "            "
      ],
      "text/plain": [
       "<IPython.core.display.HTML object>"
      ]
     },
     "metadata": {},
     "output_type": "display_data"
    },
    {
     "data": {
      "text/html": [
       "\n",
       "            <div style=\"float: left; border: 1px solid black; width:500px\">\n",
       "              <div id=\"d1dc928e-6b7a-4d93-985f-fc85a0f4aca6\" style=\"background-color:blue; width:0%\">&nbsp;</div>\n",
       "            </div>\n",
       "            <label id=\"33d4c01d-01eb-4aed-b238-e9df4cf43383\" style=\"padding-left: 10px;\" text = \"\"/>\n",
       "            "
      ],
      "text/plain": [
       "<IPython.core.display.HTML object>"
      ]
     },
     "metadata": {},
     "output_type": "display_data"
    },
    {
     "data": {
      "text/html": [
       "\n",
       "            <div style=\"float: left; border: 1px solid black; width:500px\">\n",
       "              <div id=\"63aeda90-630c-4025-9433-9468559df82c\" style=\"background-color:blue; width:0%\">&nbsp;</div>\n",
       "            </div>\n",
       "            <label id=\"db72b74c-5024-4e2d-9c42-97e5572e2734\" style=\"padding-left: 10px;\" text = \"\"/>\n",
       "            "
      ],
      "text/plain": [
       "<IPython.core.display.HTML object>"
      ]
     },
     "metadata": {},
     "output_type": "display_data"
    },
    {
     "data": {
      "text/html": [
       "\n",
       "            <div style=\"float: left; border: 1px solid black; width:500px\">\n",
       "              <div id=\"375d81e0-271b-4e58-9cbf-d400176992f1\" style=\"background-color:blue; width:0%\">&nbsp;</div>\n",
       "            </div>\n",
       "            <label id=\"309a1e55-9642-4ba4-b6e4-cdd00705d074\" style=\"padding-left: 10px;\" text = \"\"/>\n",
       "            "
      ],
      "text/plain": [
       "<IPython.core.display.HTML object>"
      ]
     },
     "metadata": {},
     "output_type": "display_data"
    },
    {
     "data": {
      "text/html": [
       "\n",
       "            <div style=\"float: left; border: 1px solid black; width:500px\">\n",
       "              <div id=\"b15245bb-aa94-4a8b-8dc5-a4603dedef2a\" style=\"background-color:blue; width:0%\">&nbsp;</div>\n",
       "            </div>\n",
       "            <label id=\"afa9aa3c-e543-4c36-900e-bb70e5f0c20a\" style=\"padding-left: 10px;\" text = \"\"/>\n",
       "            "
      ],
      "text/plain": [
       "<IPython.core.display.HTML object>"
      ]
     },
     "metadata": {},
     "output_type": "display_data"
    },
    {
     "data": {
      "text/html": [
       "\n",
       "            <div style=\"float: left; border: 1px solid black; width:500px\">\n",
       "              <div id=\"2def606e-4c6e-41ac-85a8-858b763ba1db\" style=\"background-color:blue; width:0%\">&nbsp;</div>\n",
       "            </div>\n",
       "            <label id=\"b17120e8-022a-4900-968c-aeea078feb57\" style=\"padding-left: 10px;\" text = \"\"/>\n",
       "            "
      ],
      "text/plain": [
       "<IPython.core.display.HTML object>"
      ]
     },
     "metadata": {},
     "output_type": "display_data"
    },
    {
     "data": {
      "text/html": [
       "\n",
       "            <div style=\"float: left; border: 1px solid black; width:500px\">\n",
       "              <div id=\"0c967a0e-7042-42fd-9a6f-c73bf73df099\" style=\"background-color:blue; width:0%\">&nbsp;</div>\n",
       "            </div>\n",
       "            <label id=\"6a32652f-d215-401e-9985-b1ce02f8ac9b\" style=\"padding-left: 10px;\" text = \"\"/>\n",
       "            "
      ],
      "text/plain": [
       "<IPython.core.display.HTML object>"
      ]
     },
     "metadata": {},
     "output_type": "display_data"
    },
    {
     "data": {
      "text/html": [
       "\n",
       "            <div style=\"float: left; border: 1px solid black; width:500px\">\n",
       "              <div id=\"4d160fd2-eb47-4be6-acff-35f092ec7396\" style=\"background-color:blue; width:0%\">&nbsp;</div>\n",
       "            </div>\n",
       "            <label id=\"5911d765-12ad-4a35-9b9a-339232ac421a\" style=\"padding-left: 10px;\" text = \"\"/>\n",
       "            "
      ],
      "text/plain": [
       "<IPython.core.display.HTML object>"
      ]
     },
     "metadata": {},
     "output_type": "display_data"
    },
    {
     "data": {
      "text/html": [
       "\n",
       "            <div style=\"float: left; border: 1px solid black; width:500px\">\n",
       "              <div id=\"805f2f2c-e944-420d-831e-f75aa5154165\" style=\"background-color:blue; width:0%\">&nbsp;</div>\n",
       "            </div>\n",
       "            <label id=\"7349778a-dab4-4411-ac5f-d34438431a46\" style=\"padding-left: 10px;\" text = \"\"/>\n",
       "            "
      ],
      "text/plain": [
       "<IPython.core.display.HTML object>"
      ]
     },
     "metadata": {},
     "output_type": "display_data"
    },
    {
     "data": {
      "text/html": [
       "\n",
       "            <div style=\"float: left; border: 1px solid black; width:500px\">\n",
       "              <div id=\"ee369e1e-4439-46d3-b746-890bec344e98\" style=\"background-color:blue; width:0%\">&nbsp;</div>\n",
       "            </div>\n",
       "            <label id=\"63b06c20-f6d5-4205-9f05-505834acba9c\" style=\"padding-left: 10px;\" text = \"\"/>\n",
       "            "
      ],
      "text/plain": [
       "<IPython.core.display.HTML object>"
      ]
     },
     "metadata": {},
     "output_type": "display_data"
    },
    {
     "data": {
      "text/html": [
       "\n",
       "            <div style=\"float: left; border: 1px solid black; width:500px\">\n",
       "              <div id=\"55612df0-390a-42ca-9bd9-564bf273ba34\" style=\"background-color:blue; width:0%\">&nbsp;</div>\n",
       "            </div>\n",
       "            <label id=\"616f6aa1-a50c-4173-88b0-f8b56ca8d96d\" style=\"padding-left: 10px;\" text = \"\"/>\n",
       "            "
      ],
      "text/plain": [
       "<IPython.core.display.HTML object>"
      ]
     },
     "metadata": {},
     "output_type": "display_data"
    },
    {
     "data": {
      "text/html": [
       "\n",
       "            <div style=\"float: left; border: 1px solid black; width:500px\">\n",
       "              <div id=\"a6627c77-03d1-428f-b060-c780f1249da6\" style=\"background-color:blue; width:0%\">&nbsp;</div>\n",
       "            </div>\n",
       "            <label id=\"2ef151a7-ca13-4ebb-8ed2-9b01a61e97bf\" style=\"padding-left: 10px;\" text = \"\"/>\n",
       "            "
      ],
      "text/plain": [
       "<IPython.core.display.HTML object>"
      ]
     },
     "metadata": {},
     "output_type": "display_data"
    },
    {
     "data": {
      "text/html": [
       "\n",
       "            <div style=\"float: left; border: 1px solid black; width:500px\">\n",
       "              <div id=\"44f4c49a-44da-42c9-b0f8-0ed2ca0b8ece\" style=\"background-color:blue; width:0%\">&nbsp;</div>\n",
       "            </div>\n",
       "            <label id=\"3b24fac6-ecd1-48ef-af0c-1248a5fc55ff\" style=\"padding-left: 10px;\" text = \"\"/>\n",
       "            "
      ],
      "text/plain": [
       "<IPython.core.display.HTML object>"
      ]
     },
     "metadata": {},
     "output_type": "display_data"
    },
    {
     "data": {
      "text/html": [
       "\n",
       "            <div style=\"float: left; border: 1px solid black; width:500px\">\n",
       "              <div id=\"b8979242-fd50-43cd-9606-b61acb81776b\" style=\"background-color:blue; width:0%\">&nbsp;</div>\n",
       "            </div>\n",
       "            <label id=\"657a1cc6-9ff4-4388-9816-0aee5438d9df\" style=\"padding-left: 10px;\" text = \"\"/>\n",
       "            "
      ],
      "text/plain": [
       "<IPython.core.display.HTML object>"
      ]
     },
     "metadata": {},
     "output_type": "display_data"
    },
    {
     "name": "stdout",
     "output_type": "stream",
     "text": [
      "Falcons\n",
      "49ers\n"
     ]
    },
    {
     "data": {
      "text/html": [
       "\n",
       "            <div style=\"float: left; border: 1px solid black; width:500px\">\n",
       "              <div id=\"ffc695a6-c3de-41b5-966d-5ecbe88902ec\" style=\"background-color:blue; width:0%\">&nbsp;</div>\n",
       "            </div>\n",
       "            <label id=\"a856641d-1857-45e5-9a1a-ac2c7e3a5c71\" style=\"padding-left: 10px;\" text = \"\"/>\n",
       "            "
      ],
      "text/plain": [
       "<IPython.core.display.HTML object>"
      ]
     },
     "metadata": {},
     "output_type": "display_data"
    },
    {
     "data": {
      "text/html": [
       "\n",
       "            <div style=\"float: left; border: 1px solid black; width:500px\">\n",
       "              <div id=\"bbcd3e10-ac58-464e-9783-f9240a204f65\" style=\"background-color:blue; width:0%\">&nbsp;</div>\n",
       "            </div>\n",
       "            <label id=\"461e275c-ae29-447f-ba5f-0ced5eb4671a\" style=\"padding-left: 10px;\" text = \"\"/>\n",
       "            "
      ],
      "text/plain": [
       "<IPython.core.display.HTML object>"
      ]
     },
     "metadata": {},
     "output_type": "display_data"
    },
    {
     "data": {
      "text/html": [
       "\n",
       "            <div style=\"float: left; border: 1px solid black; width:500px\">\n",
       "              <div id=\"7a00f18d-3a9e-4cb3-8299-890db3ce4c00\" style=\"background-color:blue; width:0%\">&nbsp;</div>\n",
       "            </div>\n",
       "            <label id=\"3b71b0f0-e6bc-4be9-b4c1-bf3a2155b410\" style=\"padding-left: 10px;\" text = \"\"/>\n",
       "            "
      ],
      "text/plain": [
       "<IPython.core.display.HTML object>"
      ]
     },
     "metadata": {},
     "output_type": "display_data"
    },
    {
     "data": {
      "text/html": [
       "\n",
       "            <div style=\"float: left; border: 1px solid black; width:500px\">\n",
       "              <div id=\"fd2f49a9-58c1-4e62-9034-41e498be0524\" style=\"background-color:blue; width:0%\">&nbsp;</div>\n",
       "            </div>\n",
       "            <label id=\"1eacc3d5-4b85-42b7-b32a-00fb60180b56\" style=\"padding-left: 10px;\" text = \"\"/>\n",
       "            "
      ],
      "text/plain": [
       "<IPython.core.display.HTML object>"
      ]
     },
     "metadata": {},
     "output_type": "display_data"
    },
    {
     "data": {
      "text/html": [
       "\n",
       "            <div style=\"float: left; border: 1px solid black; width:500px\">\n",
       "              <div id=\"e9f9a5e1-363c-4493-ba79-ead89414d587\" style=\"background-color:blue; width:0%\">&nbsp;</div>\n",
       "            </div>\n",
       "            <label id=\"316067a1-fe82-4508-bf26-6680a611297b\" style=\"padding-left: 10px;\" text = \"\"/>\n",
       "            "
      ],
      "text/plain": [
       "<IPython.core.display.HTML object>"
      ]
     },
     "metadata": {},
     "output_type": "display_data"
    },
    {
     "data": {
      "text/html": [
       "\n",
       "            <div style=\"float: left; border: 1px solid black; width:500px\">\n",
       "              <div id=\"5432f7e9-a0b6-4868-b3ee-0d6ecbc0cdbc\" style=\"background-color:blue; width:0%\">&nbsp;</div>\n",
       "            </div>\n",
       "            <label id=\"b0980e4d-83d0-4650-b583-516bc8be5cb2\" style=\"padding-left: 10px;\" text = \"\"/>\n",
       "            "
      ],
      "text/plain": [
       "<IPython.core.display.HTML object>"
      ]
     },
     "metadata": {},
     "output_type": "display_data"
    },
    {
     "data": {
      "text/html": [
       "\n",
       "            <div style=\"float: left; border: 1px solid black; width:500px\">\n",
       "              <div id=\"3c18147b-2265-4a85-84bc-d84414c8ca50\" style=\"background-color:blue; width:0%\">&nbsp;</div>\n",
       "            </div>\n",
       "            <label id=\"4ee06f5b-1de4-4a07-9a94-b2ca69f941cf\" style=\"padding-left: 10px;\" text = \"\"/>\n",
       "            "
      ],
      "text/plain": [
       "<IPython.core.display.HTML object>"
      ]
     },
     "metadata": {},
     "output_type": "display_data"
    },
    {
     "data": {
      "text/html": [
       "\n",
       "            <div style=\"float: left; border: 1px solid black; width:500px\">\n",
       "              <div id=\"c081ebc8-2acc-4ff0-bb49-0f4147c98450\" style=\"background-color:blue; width:0%\">&nbsp;</div>\n",
       "            </div>\n",
       "            <label id=\"da1bdcc7-4806-49b9-9204-8872cd214637\" style=\"padding-left: 10px;\" text = \"\"/>\n",
       "            "
      ],
      "text/plain": [
       "<IPython.core.display.HTML object>"
      ]
     },
     "metadata": {},
     "output_type": "display_data"
    },
    {
     "data": {
      "text/html": [
       "\n",
       "            <div style=\"float: left; border: 1px solid black; width:500px\">\n",
       "              <div id=\"ac8f3765-53b1-46e6-a902-d3cb17b16f3e\" style=\"background-color:blue; width:0%\">&nbsp;</div>\n",
       "            </div>\n",
       "            <label id=\"77dbb75c-66ae-4556-b8a8-6bf51375653c\" style=\"padding-left: 10px;\" text = \"\"/>\n",
       "            "
      ],
      "text/plain": [
       "<IPython.core.display.HTML object>"
      ]
     },
     "metadata": {},
     "output_type": "display_data"
    },
    {
     "data": {
      "text/html": [
       "\n",
       "            <div style=\"float: left; border: 1px solid black; width:500px\">\n",
       "              <div id=\"7875c52e-bc38-46a3-bbc4-77cf3befddad\" style=\"background-color:blue; width:0%\">&nbsp;</div>\n",
       "            </div>\n",
       "            <label id=\"f76e0456-5030-4a26-aa4b-68d238dc4fc0\" style=\"padding-left: 10px;\" text = \"\"/>\n",
       "            "
      ],
      "text/plain": [
       "<IPython.core.display.HTML object>"
      ]
     },
     "metadata": {},
     "output_type": "display_data"
    },
    {
     "data": {
      "text/html": [
       "\n",
       "            <div style=\"float: left; border: 1px solid black; width:500px\">\n",
       "              <div id=\"25cd9e03-003d-4219-970c-e41e0ca9d8cd\" style=\"background-color:blue; width:0%\">&nbsp;</div>\n",
       "            </div>\n",
       "            <label id=\"a2f725b1-19bf-4c96-a3cf-75296acedb74\" style=\"padding-left: 10px;\" text = \"\"/>\n",
       "            "
      ],
      "text/plain": [
       "<IPython.core.display.HTML object>"
      ]
     },
     "metadata": {},
     "output_type": "display_data"
    },
    {
     "data": {
      "text/html": [
       "\n",
       "            <div style=\"float: left; border: 1px solid black; width:500px\">\n",
       "              <div id=\"8ac46854-4d42-4ef7-97eb-62acdf38cf0d\" style=\"background-color:blue; width:0%\">&nbsp;</div>\n",
       "            </div>\n",
       "            <label id=\"93b1f564-b33f-4a27-8bfc-1ae22c0bafe5\" style=\"padding-left: 10px;\" text = \"\"/>\n",
       "            "
      ],
      "text/plain": [
       "<IPython.core.display.HTML object>"
      ]
     },
     "metadata": {},
     "output_type": "display_data"
    },
    {
     "data": {
      "text/html": [
       "\n",
       "            <div style=\"float: left; border: 1px solid black; width:500px\">\n",
       "              <div id=\"6305e507-d2b8-4848-a8bc-70a58e1fce33\" style=\"background-color:blue; width:0%\">&nbsp;</div>\n",
       "            </div>\n",
       "            <label id=\"8ca9edc9-ff55-4e1c-b653-948c0b882beb\" style=\"padding-left: 10px;\" text = \"\"/>\n",
       "            "
      ],
      "text/plain": [
       "<IPython.core.display.HTML object>"
      ]
     },
     "metadata": {},
     "output_type": "display_data"
    },
    {
     "data": {
      "text/html": [
       "\n",
       "            <div style=\"float: left; border: 1px solid black; width:500px\">\n",
       "              <div id=\"bdbb0a3c-16d2-4d62-a564-a83be97499dd\" style=\"background-color:blue; width:0%\">&nbsp;</div>\n",
       "            </div>\n",
       "            <label id=\"739b488b-ac16-4468-aea6-bf74b749b337\" style=\"padding-left: 10px;\" text = \"\"/>\n",
       "            "
      ],
      "text/plain": [
       "<IPython.core.display.HTML object>"
      ]
     },
     "metadata": {},
     "output_type": "display_data"
    },
    {
     "data": {
      "text/html": [
       "\n",
       "            <div style=\"float: left; border: 1px solid black; width:500px\">\n",
       "              <div id=\"eb6da3dd-34d4-457d-b43c-4562707ae196\" style=\"background-color:blue; width:0%\">&nbsp;</div>\n",
       "            </div>\n",
       "            <label id=\"e72375a0-2633-4337-ae19-787e9916e525\" style=\"padding-left: 10px;\" text = \"\"/>\n",
       "            "
      ],
      "text/plain": [
       "<IPython.core.display.HTML object>"
      ]
     },
     "metadata": {},
     "output_type": "display_data"
    },
    {
     "data": {
      "text/html": [
       "\n",
       "            <div style=\"float: left; border: 1px solid black; width:500px\">\n",
       "              <div id=\"1da151c3-d02b-48ea-8910-3b3e7ec1b150\" style=\"background-color:blue; width:0%\">&nbsp;</div>\n",
       "            </div>\n",
       "            <label id=\"ab13da41-cbf7-4efc-9afc-5be41fae1b2b\" style=\"padding-left: 10px;\" text = \"\"/>\n",
       "            "
      ],
      "text/plain": [
       "<IPython.core.display.HTML object>"
      ]
     },
     "metadata": {},
     "output_type": "display_data"
    },
    {
     "data": {
      "text/html": [
       "\n",
       "            <div style=\"float: left; border: 1px solid black; width:500px\">\n",
       "              <div id=\"d81d27af-deff-4b4e-8cd0-8dda76a36526\" style=\"background-color:blue; width:0%\">&nbsp;</div>\n",
       "            </div>\n",
       "            <label id=\"028f2016-229c-43bc-b986-a4e18d3a19f5\" style=\"padding-left: 10px;\" text = \"\"/>\n",
       "            "
      ],
      "text/plain": [
       "<IPython.core.display.HTML object>"
      ]
     },
     "metadata": {},
     "output_type": "display_data"
    },
    {
     "data": {
      "text/html": [
       "\n",
       "            <div style=\"float: left; border: 1px solid black; width:500px\">\n",
       "              <div id=\"cb4daa8c-7cea-4541-9ba0-29c84baebcc6\" style=\"background-color:blue; width:0%\">&nbsp;</div>\n",
       "            </div>\n",
       "            <label id=\"ea722c19-022f-40bf-8f55-0a5ab0b7f746\" style=\"padding-left: 10px;\" text = \"\"/>\n",
       "            "
      ],
      "text/plain": [
       "<IPython.core.display.HTML object>"
      ]
     },
     "metadata": {},
     "output_type": "display_data"
    },
    {
     "name": "stdout",
     "output_type": "stream",
     "text": [
      "Bengals\n",
      "Broncos\n"
     ]
    },
    {
     "data": {
      "text/html": [
       "\n",
       "            <div style=\"float: left; border: 1px solid black; width:500px\">\n",
       "              <div id=\"4a39043d-7766-4e9b-b7fa-555d0e341449\" style=\"background-color:blue; width:0%\">&nbsp;</div>\n",
       "            </div>\n",
       "            <label id=\"a508df88-3275-441e-86eb-923dc5ce745d\" style=\"padding-left: 10px;\" text = \"\"/>\n",
       "            "
      ],
      "text/plain": [
       "<IPython.core.display.HTML object>"
      ]
     },
     "metadata": {},
     "output_type": "display_data"
    },
    {
     "data": {
      "text/html": [
       "\n",
       "            <div style=\"float: left; border: 1px solid black; width:500px\">\n",
       "              <div id=\"1dc0d4ff-ac3b-4f70-8b4b-79ded5acab08\" style=\"background-color:blue; width:0%\">&nbsp;</div>\n",
       "            </div>\n",
       "            <label id=\"951a3bac-ff83-4dfc-b040-b5bf756ba85b\" style=\"padding-left: 10px;\" text = \"\"/>\n",
       "            "
      ],
      "text/plain": [
       "<IPython.core.display.HTML object>"
      ]
     },
     "metadata": {},
     "output_type": "display_data"
    },
    {
     "data": {
      "text/html": [
       "\n",
       "            <div style=\"float: left; border: 1px solid black; width:500px\">\n",
       "              <div id=\"702bec17-ebe6-4698-9db8-46114b215a85\" style=\"background-color:blue; width:0%\">&nbsp;</div>\n",
       "            </div>\n",
       "            <label id=\"c1da839b-bcd3-4fb6-8e25-3c4e1eb16818\" style=\"padding-left: 10px;\" text = \"\"/>\n",
       "            "
      ],
      "text/plain": [
       "<IPython.core.display.HTML object>"
      ]
     },
     "metadata": {},
     "output_type": "display_data"
    },
    {
     "data": {
      "text/html": [
       "\n",
       "            <div style=\"float: left; border: 1px solid black; width:500px\">\n",
       "              <div id=\"b9f67873-1b89-4479-aaf1-be0a55e3c531\" style=\"background-color:blue; width:0%\">&nbsp;</div>\n",
       "            </div>\n",
       "            <label id=\"7ec81f6c-6314-4fbb-a104-cfdea057516f\" style=\"padding-left: 10px;\" text = \"\"/>\n",
       "            "
      ],
      "text/plain": [
       "<IPython.core.display.HTML object>"
      ]
     },
     "metadata": {},
     "output_type": "display_data"
    },
    {
     "data": {
      "text/html": [
       "\n",
       "            <div style=\"float: left; border: 1px solid black; width:500px\">\n",
       "              <div id=\"386046cb-e75a-4b35-bfd3-9e021b026b69\" style=\"background-color:blue; width:0%\">&nbsp;</div>\n",
       "            </div>\n",
       "            <label id=\"fd49e6bf-94d7-49eb-a21b-44060bba6bfc\" style=\"padding-left: 10px;\" text = \"\"/>\n",
       "            "
      ],
      "text/plain": [
       "<IPython.core.display.HTML object>"
      ]
     },
     "metadata": {},
     "output_type": "display_data"
    },
    {
     "data": {
      "text/html": [
       "\n",
       "            <div style=\"float: left; border: 1px solid black; width:500px\">\n",
       "              <div id=\"ea177591-8dce-4054-ae4f-bb5c8ad2aae4\" style=\"background-color:blue; width:0%\">&nbsp;</div>\n",
       "            </div>\n",
       "            <label id=\"e6adf3cb-4c01-47cc-a003-caa5af02419f\" style=\"padding-left: 10px;\" text = \"\"/>\n",
       "            "
      ],
      "text/plain": [
       "<IPython.core.display.HTML object>"
      ]
     },
     "metadata": {},
     "output_type": "display_data"
    },
    {
     "data": {
      "text/html": [
       "\n",
       "            <div style=\"float: left; border: 1px solid black; width:500px\">\n",
       "              <div id=\"b3a4d63d-74d0-4931-941e-98b19c9d53e9\" style=\"background-color:blue; width:0%\">&nbsp;</div>\n",
       "            </div>\n",
       "            <label id=\"81b42764-bb64-4ddb-a857-575ec4f6c360\" style=\"padding-left: 10px;\" text = \"\"/>\n",
       "            "
      ],
      "text/plain": [
       "<IPython.core.display.HTML object>"
      ]
     },
     "metadata": {},
     "output_type": "display_data"
    },
    {
     "data": {
      "text/html": [
       "\n",
       "            <div style=\"float: left; border: 1px solid black; width:500px\">\n",
       "              <div id=\"a3af3a75-1576-4917-ae15-c1d217952204\" style=\"background-color:blue; width:0%\">&nbsp;</div>\n",
       "            </div>\n",
       "            <label id=\"629bd2a9-80ae-4a7e-b9a4-9466f8d7b697\" style=\"padding-left: 10px;\" text = \"\"/>\n",
       "            "
      ],
      "text/plain": [
       "<IPython.core.display.HTML object>"
      ]
     },
     "metadata": {},
     "output_type": "display_data"
    },
    {
     "data": {
      "text/html": [
       "\n",
       "            <div style=\"float: left; border: 1px solid black; width:500px\">\n",
       "              <div id=\"5eb22449-4a4a-4338-b99f-1f7854dee4ca\" style=\"background-color:blue; width:0%\">&nbsp;</div>\n",
       "            </div>\n",
       "            <label id=\"829b0028-38d9-4cf8-9681-314135f49c87\" style=\"padding-left: 10px;\" text = \"\"/>\n",
       "            "
      ],
      "text/plain": [
       "<IPython.core.display.HTML object>"
      ]
     },
     "metadata": {},
     "output_type": "display_data"
    },
    {
     "data": {
      "text/html": [
       "\n",
       "            <div style=\"float: left; border: 1px solid black; width:500px\">\n",
       "              <div id=\"8086a7c3-0a3d-437a-a72c-df97089cfa19\" style=\"background-color:blue; width:0%\">&nbsp;</div>\n",
       "            </div>\n",
       "            <label id=\"c3f1f61e-e79d-49ce-812d-9ed678ea3e36\" style=\"padding-left: 10px;\" text = \"\"/>\n",
       "            "
      ],
      "text/plain": [
       "<IPython.core.display.HTML object>"
      ]
     },
     "metadata": {},
     "output_type": "display_data"
    },
    {
     "data": {
      "text/html": [
       "\n",
       "            <div style=\"float: left; border: 1px solid black; width:500px\">\n",
       "              <div id=\"533d2c7f-9c01-48ad-a920-42324df9bc75\" style=\"background-color:blue; width:0%\">&nbsp;</div>\n",
       "            </div>\n",
       "            <label id=\"75dcf829-b01e-41fa-a3fa-a584d8e9eb97\" style=\"padding-left: 10px;\" text = \"\"/>\n",
       "            "
      ],
      "text/plain": [
       "<IPython.core.display.HTML object>"
      ]
     },
     "metadata": {},
     "output_type": "display_data"
    },
    {
     "data": {
      "text/html": [
       "\n",
       "            <div style=\"float: left; border: 1px solid black; width:500px\">\n",
       "              <div id=\"24ec737d-a5bc-46eb-a68d-0202ae3f67ea\" style=\"background-color:blue; width:0%\">&nbsp;</div>\n",
       "            </div>\n",
       "            <label id=\"fb2da89c-6180-41f3-8359-f7f99d3e7000\" style=\"padding-left: 10px;\" text = \"\"/>\n",
       "            "
      ],
      "text/plain": [
       "<IPython.core.display.HTML object>"
      ]
     },
     "metadata": {},
     "output_type": "display_data"
    },
    {
     "data": {
      "text/html": [
       "\n",
       "            <div style=\"float: left; border: 1px solid black; width:500px\">\n",
       "              <div id=\"14571a29-80a4-41bd-ac66-b0008739a1a0\" style=\"background-color:blue; width:0%\">&nbsp;</div>\n",
       "            </div>\n",
       "            <label id=\"d5f14ed7-d251-4893-b198-7ef8ba79b983\" style=\"padding-left: 10px;\" text = \"\"/>\n",
       "            "
      ],
      "text/plain": [
       "<IPython.core.display.HTML object>"
      ]
     },
     "metadata": {},
     "output_type": "display_data"
    },
    {
     "data": {
      "text/html": [
       "\n",
       "            <div style=\"float: left; border: 1px solid black; width:500px\">\n",
       "              <div id=\"e400914d-606e-49fe-a60c-c57cd2079ffc\" style=\"background-color:blue; width:0%\">&nbsp;</div>\n",
       "            </div>\n",
       "            <label id=\"30eb8978-50c3-41b5-bfee-bbd7812642b2\" style=\"padding-left: 10px;\" text = \"\"/>\n",
       "            "
      ],
      "text/plain": [
       "<IPython.core.display.HTML object>"
      ]
     },
     "metadata": {},
     "output_type": "display_data"
    },
    {
     "data": {
      "text/html": [
       "\n",
       "            <div style=\"float: left; border: 1px solid black; width:500px\">\n",
       "              <div id=\"98414c76-62e3-4e0c-9b1f-61ff3e46cb3f\" style=\"background-color:blue; width:0%\">&nbsp;</div>\n",
       "            </div>\n",
       "            <label id=\"e905d7f7-f7d0-4ccc-aff4-5e5fd83bb023\" style=\"padding-left: 10px;\" text = \"\"/>\n",
       "            "
      ],
      "text/plain": [
       "<IPython.core.display.HTML object>"
      ]
     },
     "metadata": {},
     "output_type": "display_data"
    },
    {
     "data": {
      "text/html": [
       "\n",
       "            <div style=\"float: left; border: 1px solid black; width:500px\">\n",
       "              <div id=\"56f7cc1f-3a58-48c8-8060-c9270a500c92\" style=\"background-color:blue; width:0%\">&nbsp;</div>\n",
       "            </div>\n",
       "            <label id=\"11d8bb1e-a82a-49a4-af88-308e333a3b1b\" style=\"padding-left: 10px;\" text = \"\"/>\n",
       "            "
      ],
      "text/plain": [
       "<IPython.core.display.HTML object>"
      ]
     },
     "metadata": {},
     "output_type": "display_data"
    },
    {
     "data": {
      "text/html": [
       "\n",
       "            <div style=\"float: left; border: 1px solid black; width:500px\">\n",
       "              <div id=\"78e2f818-f979-44eb-bd45-6236f7eb87f3\" style=\"background-color:blue; width:0%\">&nbsp;</div>\n",
       "            </div>\n",
       "            <label id=\"9c95c610-036a-4a0d-af89-762b01c76bce\" style=\"padding-left: 10px;\" text = \"\"/>\n",
       "            "
      ],
      "text/plain": [
       "<IPython.core.display.HTML object>"
      ]
     },
     "metadata": {},
     "output_type": "display_data"
    },
    {
     "data": {
      "text/html": [
       "\n",
       "            <div style=\"float: left; border: 1px solid black; width:500px\">\n",
       "              <div id=\"b743f93d-bad7-4065-abe4-b736405bb1c0\" style=\"background-color:blue; width:0%\">&nbsp;</div>\n",
       "            </div>\n",
       "            <label id=\"e54b262e-8453-4c9b-b8fc-f28e01f2da0f\" style=\"padding-left: 10px;\" text = \"\"/>\n",
       "            "
      ],
      "text/plain": [
       "<IPython.core.display.HTML object>"
      ]
     },
     "metadata": {},
     "output_type": "display_data"
    },
    {
     "name": "stdout",
     "output_type": "stream",
     "text": [
      "Packers\n",
      "Ravens\n"
     ]
    },
    {
     "data": {
      "text/html": [
       "\n",
       "            <div style=\"float: left; border: 1px solid black; width:500px\">\n",
       "              <div id=\"f8feba19-d86c-4e4e-b1f1-bbc80b503743\" style=\"background-color:blue; width:0%\">&nbsp;</div>\n",
       "            </div>\n",
       "            <label id=\"491e55cb-ec13-4344-8e30-0f8dc4bd2770\" style=\"padding-left: 10px;\" text = \"\"/>\n",
       "            "
      ],
      "text/plain": [
       "<IPython.core.display.HTML object>"
      ]
     },
     "metadata": {},
     "output_type": "display_data"
    },
    {
     "data": {
      "text/html": [
       "\n",
       "            <div style=\"float: left; border: 1px solid black; width:500px\">\n",
       "              <div id=\"fdaaa31a-d3cb-4d93-ba87-f2abb37014bc\" style=\"background-color:blue; width:0%\">&nbsp;</div>\n",
       "            </div>\n",
       "            <label id=\"786caa24-d030-4efc-b534-72f2f4b09cc6\" style=\"padding-left: 10px;\" text = \"\"/>\n",
       "            "
      ],
      "text/plain": [
       "<IPython.core.display.HTML object>"
      ]
     },
     "metadata": {},
     "output_type": "display_data"
    },
    {
     "data": {
      "text/html": [
       "\n",
       "            <div style=\"float: left; border: 1px solid black; width:500px\">\n",
       "              <div id=\"74964bd9-a8de-4907-96f2-0be3d7fd7ca0\" style=\"background-color:blue; width:0%\">&nbsp;</div>\n",
       "            </div>\n",
       "            <label id=\"8b58548e-5c82-4b95-9ff4-d8e835531d48\" style=\"padding-left: 10px;\" text = \"\"/>\n",
       "            "
      ],
      "text/plain": [
       "<IPython.core.display.HTML object>"
      ]
     },
     "metadata": {},
     "output_type": "display_data"
    },
    {
     "data": {
      "text/html": [
       "\n",
       "            <div style=\"float: left; border: 1px solid black; width:500px\">\n",
       "              <div id=\"d5744d15-4467-45e5-b59c-f2b30855183e\" style=\"background-color:blue; width:0%\">&nbsp;</div>\n",
       "            </div>\n",
       "            <label id=\"6ea488ae-0bee-4bc6-b641-7105ef953130\" style=\"padding-left: 10px;\" text = \"\"/>\n",
       "            "
      ],
      "text/plain": [
       "<IPython.core.display.HTML object>"
      ]
     },
     "metadata": {},
     "output_type": "display_data"
    },
    {
     "data": {
      "text/html": [
       "\n",
       "            <div style=\"float: left; border: 1px solid black; width:500px\">\n",
       "              <div id=\"ca66394e-87e7-4d8a-bc6d-ad851029159b\" style=\"background-color:blue; width:0%\">&nbsp;</div>\n",
       "            </div>\n",
       "            <label id=\"a9ab53a5-40b6-495f-b629-ffd5f1357a1a\" style=\"padding-left: 10px;\" text = \"\"/>\n",
       "            "
      ],
      "text/plain": [
       "<IPython.core.display.HTML object>"
      ]
     },
     "metadata": {},
     "output_type": "display_data"
    },
    {
     "data": {
      "text/html": [
       "\n",
       "            <div style=\"float: left; border: 1px solid black; width:500px\">\n",
       "              <div id=\"1e7364be-8d12-41dc-977d-feded865b13c\" style=\"background-color:blue; width:0%\">&nbsp;</div>\n",
       "            </div>\n",
       "            <label id=\"069b1bf3-2c57-4cb8-89a5-93da45d1a03d\" style=\"padding-left: 10px;\" text = \"\"/>\n",
       "            "
      ],
      "text/plain": [
       "<IPython.core.display.HTML object>"
      ]
     },
     "metadata": {},
     "output_type": "display_data"
    },
    {
     "data": {
      "text/html": [
       "\n",
       "            <div style=\"float: left; border: 1px solid black; width:500px\">\n",
       "              <div id=\"dedba41f-04f4-4864-b805-97a79febdf6b\" style=\"background-color:blue; width:0%\">&nbsp;</div>\n",
       "            </div>\n",
       "            <label id=\"d7de8533-150f-4ab4-b618-8835d36cd8ef\" style=\"padding-left: 10px;\" text = \"\"/>\n",
       "            "
      ],
      "text/plain": [
       "<IPython.core.display.HTML object>"
      ]
     },
     "metadata": {},
     "output_type": "display_data"
    },
    {
     "data": {
      "text/html": [
       "\n",
       "            <div style=\"float: left; border: 1px solid black; width:500px\">\n",
       "              <div id=\"ff760fc3-a3b4-4ce7-9a11-c4a86b81a7e2\" style=\"background-color:blue; width:0%\">&nbsp;</div>\n",
       "            </div>\n",
       "            <label id=\"a4180de8-f729-4678-9915-c071396d33a4\" style=\"padding-left: 10px;\" text = \"\"/>\n",
       "            "
      ],
      "text/plain": [
       "<IPython.core.display.HTML object>"
      ]
     },
     "metadata": {},
     "output_type": "display_data"
    },
    {
     "data": {
      "text/html": [
       "\n",
       "            <div style=\"float: left; border: 1px solid black; width:500px\">\n",
       "              <div id=\"f2f7b1e3-d7d2-46df-ad82-625e40fd2570\" style=\"background-color:blue; width:0%\">&nbsp;</div>\n",
       "            </div>\n",
       "            <label id=\"32ef897d-cd75-4923-81e9-f0f949b6702d\" style=\"padding-left: 10px;\" text = \"\"/>\n",
       "            "
      ],
      "text/plain": [
       "<IPython.core.display.HTML object>"
      ]
     },
     "metadata": {},
     "output_type": "display_data"
    },
    {
     "data": {
      "text/html": [
       "\n",
       "            <div style=\"float: left; border: 1px solid black; width:500px\">\n",
       "              <div id=\"ceaa6ec4-95f7-4dae-acf3-10611fb3d760\" style=\"background-color:blue; width:0%\">&nbsp;</div>\n",
       "            </div>\n",
       "            <label id=\"eab397bd-070d-4f07-a6c6-659ccf6596dc\" style=\"padding-left: 10px;\" text = \"\"/>\n",
       "            "
      ],
      "text/plain": [
       "<IPython.core.display.HTML object>"
      ]
     },
     "metadata": {},
     "output_type": "display_data"
    },
    {
     "data": {
      "text/html": [
       "\n",
       "            <div style=\"float: left; border: 1px solid black; width:500px\">\n",
       "              <div id=\"072bb92d-88fd-4b99-ad94-2ac03a03094c\" style=\"background-color:blue; width:0%\">&nbsp;</div>\n",
       "            </div>\n",
       "            <label id=\"d006e857-1b17-4313-92fe-7a10568830db\" style=\"padding-left: 10px;\" text = \"\"/>\n",
       "            "
      ],
      "text/plain": [
       "<IPython.core.display.HTML object>"
      ]
     },
     "metadata": {},
     "output_type": "display_data"
    },
    {
     "data": {
      "text/html": [
       "\n",
       "            <div style=\"float: left; border: 1px solid black; width:500px\">\n",
       "              <div id=\"9930325a-2a56-42e1-8ed8-06160108e0e9\" style=\"background-color:blue; width:0%\">&nbsp;</div>\n",
       "            </div>\n",
       "            <label id=\"8457ee8e-3c4a-4114-8f0f-8b629e0818a2\" style=\"padding-left: 10px;\" text = \"\"/>\n",
       "            "
      ],
      "text/plain": [
       "<IPython.core.display.HTML object>"
      ]
     },
     "metadata": {},
     "output_type": "display_data"
    },
    {
     "data": {
      "text/html": [
       "\n",
       "            <div style=\"float: left; border: 1px solid black; width:500px\">\n",
       "              <div id=\"ad887761-9edc-4996-9ba3-aa986139d7dc\" style=\"background-color:blue; width:0%\">&nbsp;</div>\n",
       "            </div>\n",
       "            <label id=\"99ccdb1d-f676-4186-897d-f219022510dc\" style=\"padding-left: 10px;\" text = \"\"/>\n",
       "            "
      ],
      "text/plain": [
       "<IPython.core.display.HTML object>"
      ]
     },
     "metadata": {},
     "output_type": "display_data"
    },
    {
     "data": {
      "text/html": [
       "\n",
       "            <div style=\"float: left; border: 1px solid black; width:500px\">\n",
       "              <div id=\"85151b61-3af0-4845-b132-bc20622a1f84\" style=\"background-color:blue; width:0%\">&nbsp;</div>\n",
       "            </div>\n",
       "            <label id=\"a475e123-3f9d-4707-bb5d-e07a6a8d66d5\" style=\"padding-left: 10px;\" text = \"\"/>\n",
       "            "
      ],
      "text/plain": [
       "<IPython.core.display.HTML object>"
      ]
     },
     "metadata": {},
     "output_type": "display_data"
    },
    {
     "data": {
      "text/html": [
       "\n",
       "            <div style=\"float: left; border: 1px solid black; width:500px\">\n",
       "              <div id=\"1c249f75-2132-4cad-b5c6-c5b32ecbb5d7\" style=\"background-color:blue; width:0%\">&nbsp;</div>\n",
       "            </div>\n",
       "            <label id=\"f48b0ee7-d789-445a-982d-e3d4530fad3e\" style=\"padding-left: 10px;\" text = \"\"/>\n",
       "            "
      ],
      "text/plain": [
       "<IPython.core.display.HTML object>"
      ]
     },
     "metadata": {},
     "output_type": "display_data"
    },
    {
     "data": {
      "text/html": [
       "\n",
       "            <div style=\"float: left; border: 1px solid black; width:500px\">\n",
       "              <div id=\"b4a0e20d-eee9-4ccc-b49d-81b5683d005c\" style=\"background-color:blue; width:0%\">&nbsp;</div>\n",
       "            </div>\n",
       "            <label id=\"6ed2f33d-cdc1-4d82-8089-9b439cf27966\" style=\"padding-left: 10px;\" text = \"\"/>\n",
       "            "
      ],
      "text/plain": [
       "<IPython.core.display.HTML object>"
      ]
     },
     "metadata": {},
     "output_type": "display_data"
    },
    {
     "data": {
      "text/html": [
       "\n",
       "            <div style=\"float: left; border: 1px solid black; width:500px\">\n",
       "              <div id=\"4386c61f-4c51-4782-9ce6-594e30e06656\" style=\"background-color:blue; width:0%\">&nbsp;</div>\n",
       "            </div>\n",
       "            <label id=\"7b04ad34-24e1-4a80-8e1f-684c4a8f36a0\" style=\"padding-left: 10px;\" text = \"\"/>\n",
       "            "
      ],
      "text/plain": [
       "<IPython.core.display.HTML object>"
      ]
     },
     "metadata": {},
     "output_type": "display_data"
    },
    {
     "data": {
      "text/html": [
       "\n",
       "            <div style=\"float: left; border: 1px solid black; width:500px\">\n",
       "              <div id=\"0354d635-4045-4d9c-9818-3be39a330a36\" style=\"background-color:blue; width:0%\">&nbsp;</div>\n",
       "            </div>\n",
       "            <label id=\"ab9b365b-23db-4763-a2df-dcbad624d78d\" style=\"padding-left: 10px;\" text = \"\"/>\n",
       "            "
      ],
      "text/plain": [
       "<IPython.core.display.HTML object>"
      ]
     },
     "metadata": {},
     "output_type": "display_data"
    },
    {
     "name": "stdout",
     "output_type": "stream",
     "text": [
      "Saints\n",
      "Buccaneers\n"
     ]
    },
    {
     "data": {
      "text/html": [
       "\n",
       "            <div style=\"float: left; border: 1px solid black; width:500px\">\n",
       "              <div id=\"95963c58-5de4-409e-b039-2c8c970a3c9f\" style=\"background-color:blue; width:0%\">&nbsp;</div>\n",
       "            </div>\n",
       "            <label id=\"a40177de-0cf8-48d7-b3c3-34e423935d39\" style=\"padding-left: 10px;\" text = \"\"/>\n",
       "            "
      ],
      "text/plain": [
       "<IPython.core.display.HTML object>"
      ]
     },
     "metadata": {},
     "output_type": "display_data"
    },
    {
     "data": {
      "text/html": [
       "\n",
       "            <div style=\"float: left; border: 1px solid black; width:500px\">\n",
       "              <div id=\"87c4faf7-66a0-4351-b820-10eace6415fa\" style=\"background-color:blue; width:0%\">&nbsp;</div>\n",
       "            </div>\n",
       "            <label id=\"657021f4-e2c4-4527-8328-50644c22fe94\" style=\"padding-left: 10px;\" text = \"\"/>\n",
       "            "
      ],
      "text/plain": [
       "<IPython.core.display.HTML object>"
      ]
     },
     "metadata": {},
     "output_type": "display_data"
    },
    {
     "data": {
      "text/html": [
       "\n",
       "            <div style=\"float: left; border: 1px solid black; width:500px\">\n",
       "              <div id=\"0c5d439c-5305-4d03-bb21-8df3f6181590\" style=\"background-color:blue; width:0%\">&nbsp;</div>\n",
       "            </div>\n",
       "            <label id=\"5b57cef7-6023-4831-ad28-31983ecb36d7\" style=\"padding-left: 10px;\" text = \"\"/>\n",
       "            "
      ],
      "text/plain": [
       "<IPython.core.display.HTML object>"
      ]
     },
     "metadata": {},
     "output_type": "display_data"
    },
    {
     "data": {
      "text/html": [
       "\n",
       "            <div style=\"float: left; border: 1px solid black; width:500px\">\n",
       "              <div id=\"b38bed9b-fff4-460f-bf23-7eae7311880a\" style=\"background-color:blue; width:0%\">&nbsp;</div>\n",
       "            </div>\n",
       "            <label id=\"fb52a0d1-9318-4281-b709-495aed00be17\" style=\"padding-left: 10px;\" text = \"\"/>\n",
       "            "
      ],
      "text/plain": [
       "<IPython.core.display.HTML object>"
      ]
     },
     "metadata": {},
     "output_type": "display_data"
    },
    {
     "data": {
      "text/html": [
       "\n",
       "            <div style=\"float: left; border: 1px solid black; width:500px\">\n",
       "              <div id=\"a627ce15-8138-45aa-93c6-6a7e6a7b72b6\" style=\"background-color:blue; width:0%\">&nbsp;</div>\n",
       "            </div>\n",
       "            <label id=\"8c67f943-a4a3-4116-89d3-2dae84b424fc\" style=\"padding-left: 10px;\" text = \"\"/>\n",
       "            "
      ],
      "text/plain": [
       "<IPython.core.display.HTML object>"
      ]
     },
     "metadata": {},
     "output_type": "display_data"
    },
    {
     "data": {
      "text/html": [
       "\n",
       "            <div style=\"float: left; border: 1px solid black; width:500px\">\n",
       "              <div id=\"8943eb45-8c5c-4ba2-aba4-d401ef4b1c77\" style=\"background-color:blue; width:0%\">&nbsp;</div>\n",
       "            </div>\n",
       "            <label id=\"c6692dec-0bfe-42c9-b294-f74ce57b7ce6\" style=\"padding-left: 10px;\" text = \"\"/>\n",
       "            "
      ],
      "text/plain": [
       "<IPython.core.display.HTML object>"
      ]
     },
     "metadata": {},
     "output_type": "display_data"
    },
    {
     "data": {
      "text/html": [
       "\n",
       "            <div style=\"float: left; border: 1px solid black; width:500px\">\n",
       "              <div id=\"4eed0e6f-9da4-4d1f-865c-dbec806c2478\" style=\"background-color:blue; width:0%\">&nbsp;</div>\n",
       "            </div>\n",
       "            <label id=\"afa603a2-cd44-4f32-ad28-cfe2c20a2666\" style=\"padding-left: 10px;\" text = \"\"/>\n",
       "            "
      ],
      "text/plain": [
       "<IPython.core.display.HTML object>"
      ]
     },
     "metadata": {},
     "output_type": "display_data"
    },
    {
     "data": {
      "text/html": [
       "\n",
       "            <div style=\"float: left; border: 1px solid black; width:500px\">\n",
       "              <div id=\"22f4fcaa-4e72-4664-abb2-0364b8361953\" style=\"background-color:blue; width:0%\">&nbsp;</div>\n",
       "            </div>\n",
       "            <label id=\"ca0ad0eb-bea2-476a-b876-ac10a1e433fc\" style=\"padding-left: 10px;\" text = \"\"/>\n",
       "            "
      ],
      "text/plain": [
       "<IPython.core.display.HTML object>"
      ]
     },
     "metadata": {},
     "output_type": "display_data"
    },
    {
     "data": {
      "text/html": [
       "\n",
       "            <div style=\"float: left; border: 1px solid black; width:500px\">\n",
       "              <div id=\"da8225e6-9897-48f0-9605-91b98d450ba2\" style=\"background-color:blue; width:0%\">&nbsp;</div>\n",
       "            </div>\n",
       "            <label id=\"debce028-12aa-446e-b7e7-bab0ebb517cd\" style=\"padding-left: 10px;\" text = \"\"/>\n",
       "            "
      ],
      "text/plain": [
       "<IPython.core.display.HTML object>"
      ]
     },
     "metadata": {},
     "output_type": "display_data"
    },
    {
     "data": {
      "text/html": [
       "\n",
       "            <div style=\"float: left; border: 1px solid black; width:500px\">\n",
       "              <div id=\"53367d60-c69e-44ec-9030-73643f0461e1\" style=\"background-color:blue; width:0%\">&nbsp;</div>\n",
       "            </div>\n",
       "            <label id=\"9a8cae72-656d-4a58-b0d3-88515789d605\" style=\"padding-left: 10px;\" text = \"\"/>\n",
       "            "
      ],
      "text/plain": [
       "<IPython.core.display.HTML object>"
      ]
     },
     "metadata": {},
     "output_type": "display_data"
    },
    {
     "data": {
      "text/html": [
       "\n",
       "            <div style=\"float: left; border: 1px solid black; width:500px\">\n",
       "              <div id=\"172e3bcc-a2f1-4db9-8a80-0f551821bd4d\" style=\"background-color:blue; width:0%\">&nbsp;</div>\n",
       "            </div>\n",
       "            <label id=\"06af92b9-8a3d-4e3c-832d-afc3290a3202\" style=\"padding-left: 10px;\" text = \"\"/>\n",
       "            "
      ],
      "text/plain": [
       "<IPython.core.display.HTML object>"
      ]
     },
     "metadata": {},
     "output_type": "display_data"
    },
    {
     "data": {
      "text/html": [
       "\n",
       "            <div style=\"float: left; border: 1px solid black; width:500px\">\n",
       "              <div id=\"6296421b-d05f-43f6-85ee-ec0de9c2b122\" style=\"background-color:blue; width:0%\">&nbsp;</div>\n",
       "            </div>\n",
       "            <label id=\"04427567-b6a0-4ee8-8332-cc13af889bfc\" style=\"padding-left: 10px;\" text = \"\"/>\n",
       "            "
      ],
      "text/plain": [
       "<IPython.core.display.HTML object>"
      ]
     },
     "metadata": {},
     "output_type": "display_data"
    },
    {
     "data": {
      "text/html": [
       "\n",
       "            <div style=\"float: left; border: 1px solid black; width:500px\">\n",
       "              <div id=\"2b3a6417-a62b-4c70-b905-046dbd8277cf\" style=\"background-color:blue; width:0%\">&nbsp;</div>\n",
       "            </div>\n",
       "            <label id=\"4f2a2e06-0d7b-47df-9c11-56933d0adc8d\" style=\"padding-left: 10px;\" text = \"\"/>\n",
       "            "
      ],
      "text/plain": [
       "<IPython.core.display.HTML object>"
      ]
     },
     "metadata": {},
     "output_type": "display_data"
    },
    {
     "data": {
      "text/html": [
       "\n",
       "            <div style=\"float: left; border: 1px solid black; width:500px\">\n",
       "              <div id=\"364b1a48-ebf0-4d36-9ca4-4f8bf5bcb2ac\" style=\"background-color:blue; width:0%\">&nbsp;</div>\n",
       "            </div>\n",
       "            <label id=\"22d7aaac-035d-4c84-84a4-bd081590e0bf\" style=\"padding-left: 10px;\" text = \"\"/>\n",
       "            "
      ],
      "text/plain": [
       "<IPython.core.display.HTML object>"
      ]
     },
     "metadata": {},
     "output_type": "display_data"
    },
    {
     "data": {
      "text/html": [
       "\n",
       "            <div style=\"float: left; border: 1px solid black; width:500px\">\n",
       "              <div id=\"6118882a-7131-452c-b9b7-4aebaa642647\" style=\"background-color:blue; width:0%\">&nbsp;</div>\n",
       "            </div>\n",
       "            <label id=\"f41530ba-479c-496b-85a6-38d7caa51efa\" style=\"padding-left: 10px;\" text = \"\"/>\n",
       "            "
      ],
      "text/plain": [
       "<IPython.core.display.HTML object>"
      ]
     },
     "metadata": {},
     "output_type": "display_data"
    },
    {
     "data": {
      "text/html": [
       "\n",
       "            <div style=\"float: left; border: 1px solid black; width:500px\">\n",
       "              <div id=\"d8899682-6f0c-4dd0-a0cf-eb90b2453a49\" style=\"background-color:blue; width:0%\">&nbsp;</div>\n",
       "            </div>\n",
       "            <label id=\"2b6c44a3-a467-4960-956a-17177a4d7c34\" style=\"padding-left: 10px;\" text = \"\"/>\n",
       "            "
      ],
      "text/plain": [
       "<IPython.core.display.HTML object>"
      ]
     },
     "metadata": {},
     "output_type": "display_data"
    },
    {
     "data": {
      "text/html": [
       "\n",
       "            <div style=\"float: left; border: 1px solid black; width:500px\">\n",
       "              <div id=\"05681d46-f1f8-4d9f-ac81-73aba3815209\" style=\"background-color:blue; width:0%\">&nbsp;</div>\n",
       "            </div>\n",
       "            <label id=\"b53a674a-f34f-423d-b71e-761a652d1329\" style=\"padding-left: 10px;\" text = \"\"/>\n",
       "            "
      ],
      "text/plain": [
       "<IPython.core.display.HTML object>"
      ]
     },
     "metadata": {},
     "output_type": "display_data"
    },
    {
     "data": {
      "text/html": [
       "\n",
       "            <div style=\"float: left; border: 1px solid black; width:500px\">\n",
       "              <div id=\"0d4f3aca-cb8c-4675-a97d-146523911de7\" style=\"background-color:blue; width:0%\">&nbsp;</div>\n",
       "            </div>\n",
       "            <label id=\"f6538ad6-fd76-47b5-ae6f-e38aa48a7080\" style=\"padding-left: 10px;\" text = \"\"/>\n",
       "            "
      ],
      "text/plain": [
       "<IPython.core.display.HTML object>"
      ]
     },
     "metadata": {},
     "output_type": "display_data"
    },
    {
     "name": "stdout",
     "output_type": "stream",
     "text": [
      "Raiders\n",
      "Browns\n"
     ]
    },
    {
     "data": {
      "text/html": [
       "\n",
       "            <div style=\"float: left; border: 1px solid black; width:500px\">\n",
       "              <div id=\"a09662b0-291c-4218-8044-81baa611b147\" style=\"background-color:blue; width:0%\">&nbsp;</div>\n",
       "            </div>\n",
       "            <label id=\"60b38788-3d64-4010-96f9-d4aa2e77ce9a\" style=\"padding-left: 10px;\" text = \"\"/>\n",
       "            "
      ],
      "text/plain": [
       "<IPython.core.display.HTML object>"
      ]
     },
     "metadata": {},
     "output_type": "display_data"
    },
    {
     "data": {
      "text/html": [
       "\n",
       "            <div style=\"float: left; border: 1px solid black; width:500px\">\n",
       "              <div id=\"7e06876a-d183-47d2-961b-29a45c23a1a2\" style=\"background-color:blue; width:0%\">&nbsp;</div>\n",
       "            </div>\n",
       "            <label id=\"734a79b4-ecfa-417a-b456-ad2d5f91401d\" style=\"padding-left: 10px;\" text = \"\"/>\n",
       "            "
      ],
      "text/plain": [
       "<IPython.core.display.HTML object>"
      ]
     },
     "metadata": {},
     "output_type": "display_data"
    },
    {
     "data": {
      "text/html": [
       "\n",
       "            <div style=\"float: left; border: 1px solid black; width:500px\">\n",
       "              <div id=\"e3619241-d74e-4591-aa96-dd6055bc5b5d\" style=\"background-color:blue; width:0%\">&nbsp;</div>\n",
       "            </div>\n",
       "            <label id=\"07a736bf-ba89-427b-a5a9-217bea67d082\" style=\"padding-left: 10px;\" text = \"\"/>\n",
       "            "
      ],
      "text/plain": [
       "<IPython.core.display.HTML object>"
      ]
     },
     "metadata": {},
     "output_type": "display_data"
    },
    {
     "data": {
      "text/html": [
       "\n",
       "            <div style=\"float: left; border: 1px solid black; width:500px\">\n",
       "              <div id=\"24e1d120-6b96-47f8-917c-eb91dd17b850\" style=\"background-color:blue; width:0%\">&nbsp;</div>\n",
       "            </div>\n",
       "            <label id=\"604b3f01-4994-470d-a110-80d94047006b\" style=\"padding-left: 10px;\" text = \"\"/>\n",
       "            "
      ],
      "text/plain": [
       "<IPython.core.display.HTML object>"
      ]
     },
     "metadata": {},
     "output_type": "display_data"
    },
    {
     "data": {
      "text/html": [
       "\n",
       "            <div style=\"float: left; border: 1px solid black; width:500px\">\n",
       "              <div id=\"e6d8cce8-41f8-4eaf-8b7f-40d4f242b730\" style=\"background-color:blue; width:0%\">&nbsp;</div>\n",
       "            </div>\n",
       "            <label id=\"70f9749b-216d-4b7d-bfe7-fcd00e6a57d8\" style=\"padding-left: 10px;\" text = \"\"/>\n",
       "            "
      ],
      "text/plain": [
       "<IPython.core.display.HTML object>"
      ]
     },
     "metadata": {},
     "output_type": "display_data"
    },
    {
     "data": {
      "text/html": [
       "\n",
       "            <div style=\"float: left; border: 1px solid black; width:500px\">\n",
       "              <div id=\"326efb5e-8340-417e-a90f-4f591eb90407\" style=\"background-color:blue; width:0%\">&nbsp;</div>\n",
       "            </div>\n",
       "            <label id=\"066c6059-67b0-4f23-b945-7cebd6de6518\" style=\"padding-left: 10px;\" text = \"\"/>\n",
       "            "
      ],
      "text/plain": [
       "<IPython.core.display.HTML object>"
      ]
     },
     "metadata": {},
     "output_type": "display_data"
    },
    {
     "data": {
      "text/html": [
       "\n",
       "            <div style=\"float: left; border: 1px solid black; width:500px\">\n",
       "              <div id=\"a60dd41b-b60c-4993-9499-e5d78ee562e4\" style=\"background-color:blue; width:0%\">&nbsp;</div>\n",
       "            </div>\n",
       "            <label id=\"c2374503-e733-4b73-bdfa-ed718acb3615\" style=\"padding-left: 10px;\" text = \"\"/>\n",
       "            "
      ],
      "text/plain": [
       "<IPython.core.display.HTML object>"
      ]
     },
     "metadata": {},
     "output_type": "display_data"
    },
    {
     "data": {
      "text/html": [
       "\n",
       "            <div style=\"float: left; border: 1px solid black; width:500px\">\n",
       "              <div id=\"5065b55a-e623-4ed5-9d49-ad2f5a52e55f\" style=\"background-color:blue; width:0%\">&nbsp;</div>\n",
       "            </div>\n",
       "            <label id=\"2f7047d0-ed73-4033-ac04-443316d099f1\" style=\"padding-left: 10px;\" text = \"\"/>\n",
       "            "
      ],
      "text/plain": [
       "<IPython.core.display.HTML object>"
      ]
     },
     "metadata": {},
     "output_type": "display_data"
    },
    {
     "data": {
      "text/html": [
       "\n",
       "            <div style=\"float: left; border: 1px solid black; width:500px\">\n",
       "              <div id=\"0187741d-13f1-40b4-a0d4-a8a6ff466de2\" style=\"background-color:blue; width:0%\">&nbsp;</div>\n",
       "            </div>\n",
       "            <label id=\"f8c6ecc6-d5d7-4ece-b47d-8feca4d2214a\" style=\"padding-left: 10px;\" text = \"\"/>\n",
       "            "
      ],
      "text/plain": [
       "<IPython.core.display.HTML object>"
      ]
     },
     "metadata": {},
     "output_type": "display_data"
    },
    {
     "data": {
      "text/html": [
       "\n",
       "            <div style=\"float: left; border: 1px solid black; width:500px\">\n",
       "              <div id=\"3f61b077-890a-4b5d-a8d5-8a12efb15a2e\" style=\"background-color:blue; width:0%\">&nbsp;</div>\n",
       "            </div>\n",
       "            <label id=\"78a000da-e4a8-4f76-a407-1b57643284cd\" style=\"padding-left: 10px;\" text = \"\"/>\n",
       "            "
      ],
      "text/plain": [
       "<IPython.core.display.HTML object>"
      ]
     },
     "metadata": {},
     "output_type": "display_data"
    },
    {
     "data": {
      "text/html": [
       "\n",
       "            <div style=\"float: left; border: 1px solid black; width:500px\">\n",
       "              <div id=\"e13f34d4-6409-4f43-a865-65c1ed83f727\" style=\"background-color:blue; width:0%\">&nbsp;</div>\n",
       "            </div>\n",
       "            <label id=\"2949c859-bced-426e-a6ca-3263c707b6d4\" style=\"padding-left: 10px;\" text = \"\"/>\n",
       "            "
      ],
      "text/plain": [
       "<IPython.core.display.HTML object>"
      ]
     },
     "metadata": {},
     "output_type": "display_data"
    },
    {
     "data": {
      "text/html": [
       "\n",
       "            <div style=\"float: left; border: 1px solid black; width:500px\">\n",
       "              <div id=\"0e6ec0db-b9d9-4a87-b812-8315543b264b\" style=\"background-color:blue; width:0%\">&nbsp;</div>\n",
       "            </div>\n",
       "            <label id=\"c88a278d-3269-4b4a-9b65-5503b3555b3a\" style=\"padding-left: 10px;\" text = \"\"/>\n",
       "            "
      ],
      "text/plain": [
       "<IPython.core.display.HTML object>"
      ]
     },
     "metadata": {},
     "output_type": "display_data"
    },
    {
     "data": {
      "text/html": [
       "\n",
       "            <div style=\"float: left; border: 1px solid black; width:500px\">\n",
       "              <div id=\"6558b4fb-298a-4ff5-abea-bbccd7dc489c\" style=\"background-color:blue; width:0%\">&nbsp;</div>\n",
       "            </div>\n",
       "            <label id=\"40835f0c-6935-45a0-8d79-2d516ee69e20\" style=\"padding-left: 10px;\" text = \"\"/>\n",
       "            "
      ],
      "text/plain": [
       "<IPython.core.display.HTML object>"
      ]
     },
     "metadata": {},
     "output_type": "display_data"
    },
    {
     "data": {
      "text/html": [
       "\n",
       "            <div style=\"float: left; border: 1px solid black; width:500px\">\n",
       "              <div id=\"6283c12a-a643-4b1e-8cb8-0c8245898c53\" style=\"background-color:blue; width:0%\">&nbsp;</div>\n",
       "            </div>\n",
       "            <label id=\"49f04220-c3d5-4446-96db-fa61c12da8b0\" style=\"padding-left: 10px;\" text = \"\"/>\n",
       "            "
      ],
      "text/plain": [
       "<IPython.core.display.HTML object>"
      ]
     },
     "metadata": {},
     "output_type": "display_data"
    },
    {
     "data": {
      "text/html": [
       "\n",
       "            <div style=\"float: left; border: 1px solid black; width:500px\">\n",
       "              <div id=\"2b26cdab-7f1b-4d5a-b0f1-811bd5448dfd\" style=\"background-color:blue; width:0%\">&nbsp;</div>\n",
       "            </div>\n",
       "            <label id=\"af65bc58-6981-4487-8f0d-28b296d99c45\" style=\"padding-left: 10px;\" text = \"\"/>\n",
       "            "
      ],
      "text/plain": [
       "<IPython.core.display.HTML object>"
      ]
     },
     "metadata": {},
     "output_type": "display_data"
    },
    {
     "data": {
      "text/html": [
       "\n",
       "            <div style=\"float: left; border: 1px solid black; width:500px\">\n",
       "              <div id=\"86d0ca3d-ef9a-404e-98b1-127e061481b1\" style=\"background-color:blue; width:0%\">&nbsp;</div>\n",
       "            </div>\n",
       "            <label id=\"5a88f560-fee9-4271-8748-d7d15e526840\" style=\"padding-left: 10px;\" text = \"\"/>\n",
       "            "
      ],
      "text/plain": [
       "<IPython.core.display.HTML object>"
      ]
     },
     "metadata": {},
     "output_type": "display_data"
    },
    {
     "data": {
      "text/html": [
       "\n",
       "            <div style=\"float: left; border: 1px solid black; width:500px\">\n",
       "              <div id=\"606a5fec-0928-477b-9dbe-e49c08fc2ac2\" style=\"background-color:blue; width:0%\">&nbsp;</div>\n",
       "            </div>\n",
       "            <label id=\"13927aaa-cc09-4305-ba1e-d4ba2f60e474\" style=\"padding-left: 10px;\" text = \"\"/>\n",
       "            "
      ],
      "text/plain": [
       "<IPython.core.display.HTML object>"
      ]
     },
     "metadata": {},
     "output_type": "display_data"
    },
    {
     "data": {
      "text/html": [
       "\n",
       "            <div style=\"float: left; border: 1px solid black; width:500px\">\n",
       "              <div id=\"92f945be-0770-4153-a699-39d67bbfc2d7\" style=\"background-color:blue; width:0%\">&nbsp;</div>\n",
       "            </div>\n",
       "            <label id=\"b7ffc36b-9464-4a42-a9f0-6cb8e831d3ee\" style=\"padding-left: 10px;\" text = \"\"/>\n",
       "            "
      ],
      "text/plain": [
       "<IPython.core.display.HTML object>"
      ]
     },
     "metadata": {},
     "output_type": "display_data"
    },
    {
     "name": "stdout",
     "output_type": "stream",
     "text": [
      "Vikings\n",
      "Bears\n"
     ]
    },
    {
     "data": {
      "text/html": [
       "\n",
       "            <div style=\"float: left; border: 1px solid black; width:500px\">\n",
       "              <div id=\"cde5f429-4c70-4c67-b893-e1fd6f963f4b\" style=\"background-color:blue; width:0%\">&nbsp;</div>\n",
       "            </div>\n",
       "            <label id=\"8a3a34a5-673c-4ff8-81d5-227bc225e49d\" style=\"padding-left: 10px;\" text = \"\"/>\n",
       "            "
      ],
      "text/plain": [
       "<IPython.core.display.HTML object>"
      ]
     },
     "metadata": {},
     "output_type": "display_data"
    },
    {
     "data": {
      "text/html": [
       "\n",
       "            <div style=\"float: left; border: 1px solid black; width:500px\">\n",
       "              <div id=\"c5b44ceb-9fd3-418d-8e35-a51213305d0d\" style=\"background-color:blue; width:0%\">&nbsp;</div>\n",
       "            </div>\n",
       "            <label id=\"b75adc18-60fc-40a7-9f65-199bcc7b00d2\" style=\"padding-left: 10px;\" text = \"\"/>\n",
       "            "
      ],
      "text/plain": [
       "<IPython.core.display.HTML object>"
      ]
     },
     "metadata": {},
     "output_type": "display_data"
    },
    {
     "data": {
      "text/html": [
       "\n",
       "            <div style=\"float: left; border: 1px solid black; width:500px\">\n",
       "              <div id=\"9b4c487c-843a-40cc-a4af-5c2e416d902d\" style=\"background-color:blue; width:0%\">&nbsp;</div>\n",
       "            </div>\n",
       "            <label id=\"9d8655f7-f65d-4029-8f93-832662541a32\" style=\"padding-left: 10px;\" text = \"\"/>\n",
       "            "
      ],
      "text/plain": [
       "<IPython.core.display.HTML object>"
      ]
     },
     "metadata": {},
     "output_type": "display_data"
    },
    {
     "data": {
      "text/html": [
       "\n",
       "            <div style=\"float: left; border: 1px solid black; width:500px\">\n",
       "              <div id=\"3899dcfc-83c4-4e16-83d6-51e86eeaf1de\" style=\"background-color:blue; width:0%\">&nbsp;</div>\n",
       "            </div>\n",
       "            <label id=\"835415d0-8f95-440f-9ee6-7c98326693dc\" style=\"padding-left: 10px;\" text = \"\"/>\n",
       "            "
      ],
      "text/plain": [
       "<IPython.core.display.HTML object>"
      ]
     },
     "metadata": {},
     "output_type": "display_data"
    },
    {
     "data": {
      "text/html": [
       "\n",
       "            <div style=\"float: left; border: 1px solid black; width:500px\">\n",
       "              <div id=\"20d81224-44ee-4d98-99e7-7e04760561ef\" style=\"background-color:blue; width:0%\">&nbsp;</div>\n",
       "            </div>\n",
       "            <label id=\"4ec4e8a4-d3b3-4ced-bb40-c7df71a38d7c\" style=\"padding-left: 10px;\" text = \"\"/>\n",
       "            "
      ],
      "text/plain": [
       "<IPython.core.display.HTML object>"
      ]
     },
     "metadata": {},
     "output_type": "display_data"
    },
    {
     "data": {
      "text/html": [
       "\n",
       "            <div style=\"float: left; border: 1px solid black; width:500px\">\n",
       "              <div id=\"b3a1ba81-c6b7-41a7-b9b8-e0e210dbbbd7\" style=\"background-color:blue; width:0%\">&nbsp;</div>\n",
       "            </div>\n",
       "            <label id=\"5a6b8ead-75dc-433a-80ea-8d43c52c861b\" style=\"padding-left: 10px;\" text = \"\"/>\n",
       "            "
      ],
      "text/plain": [
       "<IPython.core.display.HTML object>"
      ]
     },
     "metadata": {},
     "output_type": "display_data"
    },
    {
     "data": {
      "text/html": [
       "\n",
       "            <div style=\"float: left; border: 1px solid black; width:500px\">\n",
       "              <div id=\"b685515b-0fdd-4d9d-b8f8-a9c32fc0f819\" style=\"background-color:blue; width:0%\">&nbsp;</div>\n",
       "            </div>\n",
       "            <label id=\"acdf7b0f-4669-4fc7-a94b-d4279e125924\" style=\"padding-left: 10px;\" text = \"\"/>\n",
       "            "
      ],
      "text/plain": [
       "<IPython.core.display.HTML object>"
      ]
     },
     "metadata": {},
     "output_type": "display_data"
    },
    {
     "data": {
      "text/html": [
       "\n",
       "            <div style=\"float: left; border: 1px solid black; width:500px\">\n",
       "              <div id=\"13228205-1c8f-4b14-95e4-7a72c17c061b\" style=\"background-color:blue; width:0%\">&nbsp;</div>\n",
       "            </div>\n",
       "            <label id=\"02213711-8caa-4e1b-9fbe-54208ae29404\" style=\"padding-left: 10px;\" text = \"\"/>\n",
       "            "
      ],
      "text/plain": [
       "<IPython.core.display.HTML object>"
      ]
     },
     "metadata": {},
     "output_type": "display_data"
    },
    {
     "data": {
      "text/html": [
       "\n",
       "            <div style=\"float: left; border: 1px solid black; width:500px\">\n",
       "              <div id=\"90b43c8d-9648-4beb-ac36-630c8ac02af5\" style=\"background-color:blue; width:0%\">&nbsp;</div>\n",
       "            </div>\n",
       "            <label id=\"a253aa28-94ea-41a5-b4c4-44fca12ce39a\" style=\"padding-left: 10px;\" text = \"\"/>\n",
       "            "
      ],
      "text/plain": [
       "<IPython.core.display.HTML object>"
      ]
     },
     "metadata": {},
     "output_type": "display_data"
    },
    {
     "data": {
      "text/html": [
       "\n",
       "            <div style=\"float: left; border: 1px solid black; width:500px\">\n",
       "              <div id=\"85b76f96-f209-4b2c-a35d-1364fbca34d2\" style=\"background-color:blue; width:0%\">&nbsp;</div>\n",
       "            </div>\n",
       "            <label id=\"cac5f95a-23c5-4ad3-a28b-1f65e4fb2a9f\" style=\"padding-left: 10px;\" text = \"\"/>\n",
       "            "
      ],
      "text/plain": [
       "<IPython.core.display.HTML object>"
      ]
     },
     "metadata": {},
     "output_type": "display_data"
    },
    {
     "data": {
      "text/html": [
       "\n",
       "            <div style=\"float: left; border: 1px solid black; width:500px\">\n",
       "              <div id=\"09813c0a-d8e9-4baa-9265-e50fc00ff85a\" style=\"background-color:blue; width:0%\">&nbsp;</div>\n",
       "            </div>\n",
       "            <label id=\"6bff7bb0-d039-4f2d-a7d9-e8751a105c95\" style=\"padding-left: 10px;\" text = \"\"/>\n",
       "            "
      ],
      "text/plain": [
       "<IPython.core.display.HTML object>"
      ]
     },
     "metadata": {},
     "output_type": "display_data"
    },
    {
     "data": {
      "text/html": [
       "\n",
       "            <div style=\"float: left; border: 1px solid black; width:500px\">\n",
       "              <div id=\"bb89afa7-e5c6-4589-9543-9c3517ff1e3c\" style=\"background-color:blue; width:0%\">&nbsp;</div>\n",
       "            </div>\n",
       "            <label id=\"18a367ae-1374-460b-9684-9ef0780152f7\" style=\"padding-left: 10px;\" text = \"\"/>\n",
       "            "
      ],
      "text/plain": [
       "<IPython.core.display.HTML object>"
      ]
     },
     "metadata": {},
     "output_type": "display_data"
    },
    {
     "data": {
      "text/html": [
       "\n",
       "            <div style=\"float: left; border: 1px solid black; width:500px\">\n",
       "              <div id=\"af29fcde-ffce-4656-9151-d6b41d67bfff\" style=\"background-color:blue; width:0%\">&nbsp;</div>\n",
       "            </div>\n",
       "            <label id=\"a8cc1063-2d40-49b3-b51a-2b1b12cc0c29\" style=\"padding-left: 10px;\" text = \"\"/>\n",
       "            "
      ],
      "text/plain": [
       "<IPython.core.display.HTML object>"
      ]
     },
     "metadata": {},
     "output_type": "display_data"
    },
    {
     "data": {
      "text/html": [
       "\n",
       "            <div style=\"float: left; border: 1px solid black; width:500px\">\n",
       "              <div id=\"ba59d2bd-535e-4fb6-8ca6-5815277bafcb\" style=\"background-color:blue; width:0%\">&nbsp;</div>\n",
       "            </div>\n",
       "            <label id=\"ae476dc7-a3c6-4365-bdc2-4aa3c6dcbbc9\" style=\"padding-left: 10px;\" text = \"\"/>\n",
       "            "
      ],
      "text/plain": [
       "<IPython.core.display.HTML object>"
      ]
     },
     "metadata": {},
     "output_type": "display_data"
    },
    {
     "data": {
      "text/html": [
       "\n",
       "            <div style=\"float: left; border: 1px solid black; width:500px\">\n",
       "              <div id=\"e9a23079-ec12-4214-921f-83fb39424db6\" style=\"background-color:blue; width:0%\">&nbsp;</div>\n",
       "            </div>\n",
       "            <label id=\"805dc4f3-0741-4051-8ed8-1373f011f8b9\" style=\"padding-left: 10px;\" text = \"\"/>\n",
       "            "
      ],
      "text/plain": [
       "<IPython.core.display.HTML object>"
      ]
     },
     "metadata": {},
     "output_type": "display_data"
    },
    {
     "data": {
      "text/html": [
       "\n",
       "            <div style=\"float: left; border: 1px solid black; width:500px\">\n",
       "              <div id=\"066e18e9-c958-4a32-b2c0-932171478381\" style=\"background-color:blue; width:0%\">&nbsp;</div>\n",
       "            </div>\n",
       "            <label id=\"98355128-185d-4c31-b93e-c0f56d493c0b\" style=\"padding-left: 10px;\" text = \"\"/>\n",
       "            "
      ],
      "text/plain": [
       "<IPython.core.display.HTML object>"
      ]
     },
     "metadata": {},
     "output_type": "display_data"
    },
    {
     "data": {
      "text/html": [
       "\n",
       "            <div style=\"float: left; border: 1px solid black; width:500px\">\n",
       "              <div id=\"406ab409-1f96-4344-8834-9672ed6ab8d9\" style=\"background-color:blue; width:0%\">&nbsp;</div>\n",
       "            </div>\n",
       "            <label id=\"826b3400-a4f9-4818-90e4-7c210a5e01cc\" style=\"padding-left: 10px;\" text = \"\"/>\n",
       "            "
      ],
      "text/plain": [
       "<IPython.core.display.HTML object>"
      ]
     },
     "metadata": {},
     "output_type": "display_data"
    },
    {
     "data": {
      "text/html": [
       "\n",
       "            <div style=\"float: left; border: 1px solid black; width:500px\">\n",
       "              <div id=\"91ea55bc-477f-4f68-ad00-451f3727909a\" style=\"background-color:blue; width:0%\">&nbsp;</div>\n",
       "            </div>\n",
       "            <label id=\"c4d0b90e-03f5-4b06-a1df-4866e8292352\" style=\"padding-left: 10px;\" text = \"\"/>\n",
       "            "
      ],
      "text/plain": [
       "<IPython.core.display.HTML object>"
      ]
     },
     "metadata": {},
     "output_type": "display_data"
    },
    {
     "name": "stdout",
     "output_type": "stream",
     "text": [
      "Seahawks\n",
      "Rams\n"
     ]
    },
    {
     "data": {
      "text/html": [
       "\n",
       "            <div style=\"float: left; border: 1px solid black; width:500px\">\n",
       "              <div id=\"a61c220b-d46d-470a-ac7d-23fec72764a0\" style=\"background-color:blue; width:0%\">&nbsp;</div>\n",
       "            </div>\n",
       "            <label id=\"7da089a6-b3cf-44e7-86b8-12ef56211739\" style=\"padding-left: 10px;\" text = \"\"/>\n",
       "            "
      ],
      "text/plain": [
       "<IPython.core.display.HTML object>"
      ]
     },
     "metadata": {},
     "output_type": "display_data"
    },
    {
     "data": {
      "text/html": [
       "\n",
       "            <div style=\"float: left; border: 1px solid black; width:500px\">\n",
       "              <div id=\"d6ce7fa3-3f63-4b0b-ad2e-53344ea97f09\" style=\"background-color:blue; width:0%\">&nbsp;</div>\n",
       "            </div>\n",
       "            <label id=\"751d7de4-0bf6-4888-b1ef-9c266f25a275\" style=\"padding-left: 10px;\" text = \"\"/>\n",
       "            "
      ],
      "text/plain": [
       "<IPython.core.display.HTML object>"
      ]
     },
     "metadata": {},
     "output_type": "display_data"
    },
    {
     "data": {
      "text/html": [
       "\n",
       "            <div style=\"float: left; border: 1px solid black; width:500px\">\n",
       "              <div id=\"508909b6-e0e6-48be-83c9-f758a25ff56c\" style=\"background-color:blue; width:0%\">&nbsp;</div>\n",
       "            </div>\n",
       "            <label id=\"930071be-f7fa-46d5-98fa-bc81593bc7b1\" style=\"padding-left: 10px;\" text = \"\"/>\n",
       "            "
      ],
      "text/plain": [
       "<IPython.core.display.HTML object>"
      ]
     },
     "metadata": {},
     "output_type": "display_data"
    },
    {
     "data": {
      "text/html": [
       "\n",
       "            <div style=\"float: left; border: 1px solid black; width:500px\">\n",
       "              <div id=\"cf6909ea-453b-4366-a1c2-0235b8e32dcd\" style=\"background-color:blue; width:0%\">&nbsp;</div>\n",
       "            </div>\n",
       "            <label id=\"2443f17c-ba06-4159-9b71-5912229ce98d\" style=\"padding-left: 10px;\" text = \"\"/>\n",
       "            "
      ],
      "text/plain": [
       "<IPython.core.display.HTML object>"
      ]
     },
     "metadata": {},
     "output_type": "display_data"
    },
    {
     "data": {
      "text/html": [
       "\n",
       "            <div style=\"float: left; border: 1px solid black; width:500px\">\n",
       "              <div id=\"e494a402-3e3c-4f19-b23e-52b358bd7af2\" style=\"background-color:blue; width:0%\">&nbsp;</div>\n",
       "            </div>\n",
       "            <label id=\"7fc5928b-65fe-4cb2-aa7b-aff0b0c7fee4\" style=\"padding-left: 10px;\" text = \"\"/>\n",
       "            "
      ],
      "text/plain": [
       "<IPython.core.display.HTML object>"
      ]
     },
     "metadata": {},
     "output_type": "display_data"
    },
    {
     "data": {
      "text/html": [
       "\n",
       "            <div style=\"float: left; border: 1px solid black; width:500px\">\n",
       "              <div id=\"e98fef74-2cfd-4fee-aae8-592c7fe437bd\" style=\"background-color:blue; width:0%\">&nbsp;</div>\n",
       "            </div>\n",
       "            <label id=\"f67555a2-5bc1-4562-b526-cb8d7be21c56\" style=\"padding-left: 10px;\" text = \"\"/>\n",
       "            "
      ],
      "text/plain": [
       "<IPython.core.display.HTML object>"
      ]
     },
     "metadata": {},
     "output_type": "display_data"
    },
    {
     "data": {
      "text/html": [
       "\n",
       "            <div style=\"float: left; border: 1px solid black; width:500px\">\n",
       "              <div id=\"045791d6-c25d-4fc5-9986-3ff08e677907\" style=\"background-color:blue; width:0%\">&nbsp;</div>\n",
       "            </div>\n",
       "            <label id=\"44f2a241-775c-41e5-8be1-b6fc9fd1c2b7\" style=\"padding-left: 10px;\" text = \"\"/>\n",
       "            "
      ],
      "text/plain": [
       "<IPython.core.display.HTML object>"
      ]
     },
     "metadata": {},
     "output_type": "display_data"
    },
    {
     "data": {
      "text/html": [
       "\n",
       "            <div style=\"float: left; border: 1px solid black; width:500px\">\n",
       "              <div id=\"42c319fa-68a4-498f-9888-1730c195a1b6\" style=\"background-color:blue; width:0%\">&nbsp;</div>\n",
       "            </div>\n",
       "            <label id=\"31c38a70-d87a-4482-a268-8a8fe3e37c68\" style=\"padding-left: 10px;\" text = \"\"/>\n",
       "            "
      ],
      "text/plain": [
       "<IPython.core.display.HTML object>"
      ]
     },
     "metadata": {},
     "output_type": "display_data"
    },
    {
     "data": {
      "text/html": [
       "\n",
       "            <div style=\"float: left; border: 1px solid black; width:500px\">\n",
       "              <div id=\"e1bd9d66-fa6b-4519-b45a-3df98f8b5912\" style=\"background-color:blue; width:0%\">&nbsp;</div>\n",
       "            </div>\n",
       "            <label id=\"2ae25168-c4e4-42f1-8bfe-e6df7ab9038a\" style=\"padding-left: 10px;\" text = \"\"/>\n",
       "            "
      ],
      "text/plain": [
       "<IPython.core.display.HTML object>"
      ]
     },
     "metadata": {},
     "output_type": "display_data"
    },
    {
     "data": {
      "text/html": [
       "\n",
       "            <div style=\"float: left; border: 1px solid black; width:500px\">\n",
       "              <div id=\"762e12e5-bd57-4406-8ede-1ec380b7c615\" style=\"background-color:blue; width:0%\">&nbsp;</div>\n",
       "            </div>\n",
       "            <label id=\"348698f4-879c-4d26-83c2-bd0efa56b36c\" style=\"padding-left: 10px;\" text = \"\"/>\n",
       "            "
      ],
      "text/plain": [
       "<IPython.core.display.HTML object>"
      ]
     },
     "metadata": {},
     "output_type": "display_data"
    },
    {
     "data": {
      "text/html": [
       "\n",
       "            <div style=\"float: left; border: 1px solid black; width:500px\">\n",
       "              <div id=\"a640379d-f738-43c1-961e-58396bd1beda\" style=\"background-color:blue; width:0%\">&nbsp;</div>\n",
       "            </div>\n",
       "            <label id=\"c1b48c9f-a49a-4e7c-8dbc-d10dbf3ddab6\" style=\"padding-left: 10px;\" text = \"\"/>\n",
       "            "
      ],
      "text/plain": [
       "<IPython.core.display.HTML object>"
      ]
     },
     "metadata": {},
     "output_type": "display_data"
    },
    {
     "data": {
      "text/html": [
       "\n",
       "            <div style=\"float: left; border: 1px solid black; width:500px\">\n",
       "              <div id=\"6099bb02-78a4-40bd-a2d7-5baba428756f\" style=\"background-color:blue; width:0%\">&nbsp;</div>\n",
       "            </div>\n",
       "            <label id=\"87fd5b78-8f49-468b-b35f-e8f896ce2df6\" style=\"padding-left: 10px;\" text = \"\"/>\n",
       "            "
      ],
      "text/plain": [
       "<IPython.core.display.HTML object>"
      ]
     },
     "metadata": {},
     "output_type": "display_data"
    },
    {
     "data": {
      "text/html": [
       "\n",
       "            <div style=\"float: left; border: 1px solid black; width:500px\">\n",
       "              <div id=\"56d2709c-9d2e-4b8f-bf5e-1a99af4ba06d\" style=\"background-color:blue; width:0%\">&nbsp;</div>\n",
       "            </div>\n",
       "            <label id=\"d64c3a4b-5ea5-4563-94e2-a6cdda3b55f2\" style=\"padding-left: 10px;\" text = \"\"/>\n",
       "            "
      ],
      "text/plain": [
       "<IPython.core.display.HTML object>"
      ]
     },
     "metadata": {},
     "output_type": "display_data"
    },
    {
     "data": {
      "text/html": [
       "\n",
       "            <div style=\"float: left; border: 1px solid black; width:500px\">\n",
       "              <div id=\"be4a05b9-3418-4777-aaf6-a54d439426ed\" style=\"background-color:blue; width:0%\">&nbsp;</div>\n",
       "            </div>\n",
       "            <label id=\"cf86ac7a-cd70-422e-afd8-fcb32491180e\" style=\"padding-left: 10px;\" text = \"\"/>\n",
       "            "
      ],
      "text/plain": [
       "<IPython.core.display.HTML object>"
      ]
     },
     "metadata": {},
     "output_type": "display_data"
    },
    {
     "data": {
      "text/html": [
       "\n",
       "            <div style=\"float: left; border: 1px solid black; width:500px\">\n",
       "              <div id=\"82219c15-41a1-42f0-ab8a-3b75781f2ddf\" style=\"background-color:blue; width:0%\">&nbsp;</div>\n",
       "            </div>\n",
       "            <label id=\"4df5120c-a878-4047-bbba-fafb4c57a137\" style=\"padding-left: 10px;\" text = \"\"/>\n",
       "            "
      ],
      "text/plain": [
       "<IPython.core.display.HTML object>"
      ]
     },
     "metadata": {},
     "output_type": "display_data"
    },
    {
     "data": {
      "text/html": [
       "\n",
       "            <div style=\"float: left; border: 1px solid black; width:500px\">\n",
       "              <div id=\"aa363be6-d4fc-4bd7-9e0e-2871b1c0f914\" style=\"background-color:blue; width:0%\">&nbsp;</div>\n",
       "            </div>\n",
       "            <label id=\"977b7fee-f9b5-4799-a138-c2a68e6c5deb\" style=\"padding-left: 10px;\" text = \"\"/>\n",
       "            "
      ],
      "text/plain": [
       "<IPython.core.display.HTML object>"
      ]
     },
     "metadata": {},
     "output_type": "display_data"
    },
    {
     "data": {
      "text/html": [
       "\n",
       "            <div style=\"float: left; border: 1px solid black; width:500px\">\n",
       "              <div id=\"e3db8d24-9b23-47e9-a9e2-63a1ce50a9a5\" style=\"background-color:blue; width:0%\">&nbsp;</div>\n",
       "            </div>\n",
       "            <label id=\"acd5731e-7bad-4af8-8be2-51d0212af23f\" style=\"padding-left: 10px;\" text = \"\"/>\n",
       "            "
      ],
      "text/plain": [
       "<IPython.core.display.HTML object>"
      ]
     },
     "metadata": {},
     "output_type": "display_data"
    },
    {
     "data": {
      "text/html": [
       "\n",
       "            <div style=\"float: left; border: 1px solid black; width:500px\">\n",
       "              <div id=\"ebad2136-77f1-4525-b665-4ab8e3f53331\" style=\"background-color:blue; width:0%\">&nbsp;</div>\n",
       "            </div>\n",
       "            <label id=\"c48d4761-3f9e-4f8c-bc69-ceb98adfc5b0\" style=\"padding-left: 10px;\" text = \"\"/>\n",
       "            "
      ],
      "text/plain": [
       "<IPython.core.display.HTML object>"
      ]
     },
     "metadata": {},
     "output_type": "display_data"
    },
    {
     "name": "stdout",
     "output_type": "stream",
     "text": [
      "Football Team\n",
      "Eagles\n"
     ]
    },
    {
     "data": {
      "text/html": [
       "\n",
       "            <div style=\"float: left; border: 1px solid black; width:500px\">\n",
       "              <div id=\"d778783b-0a35-401f-b4b1-8a1aa01b59c1\" style=\"background-color:blue; width:0%\">&nbsp;</div>\n",
       "            </div>\n",
       "            <label id=\"c33c9d9e-39e7-4382-a684-4ba57b0a3d1c\" style=\"padding-left: 10px;\" text = \"\"/>\n",
       "            "
      ],
      "text/plain": [
       "<IPython.core.display.HTML object>"
      ]
     },
     "metadata": {},
     "output_type": "display_data"
    },
    {
     "data": {
      "text/html": [
       "\n",
       "            <div style=\"float: left; border: 1px solid black; width:500px\">\n",
       "              <div id=\"ee34d7a7-8012-4bef-a7e0-b9597b051b3b\" style=\"background-color:blue; width:0%\">&nbsp;</div>\n",
       "            </div>\n",
       "            <label id=\"61ab25de-6ad7-4aa2-8734-9d0bea826a63\" style=\"padding-left: 10px;\" text = \"\"/>\n",
       "            "
      ],
      "text/plain": [
       "<IPython.core.display.HTML object>"
      ]
     },
     "metadata": {},
     "output_type": "display_data"
    },
    {
     "data": {
      "text/html": [
       "\n",
       "            <div style=\"float: left; border: 1px solid black; width:500px\">\n",
       "              <div id=\"301e9aad-59c0-4461-a733-e0b5727b6812\" style=\"background-color:blue; width:0%\">&nbsp;</div>\n",
       "            </div>\n",
       "            <label id=\"a1e168ee-c069-414d-8f56-951a91228e94\" style=\"padding-left: 10px;\" text = \"\"/>\n",
       "            "
      ],
      "text/plain": [
       "<IPython.core.display.HTML object>"
      ]
     },
     "metadata": {},
     "output_type": "display_data"
    },
    {
     "data": {
      "text/html": [
       "\n",
       "            <div style=\"float: left; border: 1px solid black; width:500px\">\n",
       "              <div id=\"d6285b7f-2a02-4383-b9c2-62f04435b951\" style=\"background-color:blue; width:0%\">&nbsp;</div>\n",
       "            </div>\n",
       "            <label id=\"ab111fd6-059e-4d39-8402-d6b025089ce8\" style=\"padding-left: 10px;\" text = \"\"/>\n",
       "            "
      ],
      "text/plain": [
       "<IPython.core.display.HTML object>"
      ]
     },
     "metadata": {},
     "output_type": "display_data"
    },
    {
     "data": {
      "text/html": [
       "\n",
       "            <div style=\"float: left; border: 1px solid black; width:500px\">\n",
       "              <div id=\"8f9fde4e-6fe7-4fbb-aaab-fbd077096900\" style=\"background-color:blue; width:0%\">&nbsp;</div>\n",
       "            </div>\n",
       "            <label id=\"79bcb955-c66a-49a0-8f6a-1f88bdc11a71\" style=\"padding-left: 10px;\" text = \"\"/>\n",
       "            "
      ],
      "text/plain": [
       "<IPython.core.display.HTML object>"
      ]
     },
     "metadata": {},
     "output_type": "display_data"
    },
    {
     "data": {
      "text/html": [
       "\n",
       "            <div style=\"float: left; border: 1px solid black; width:500px\">\n",
       "              <div id=\"fd294e54-c2ac-429b-901d-0ec99b98017e\" style=\"background-color:blue; width:0%\">&nbsp;</div>\n",
       "            </div>\n",
       "            <label id=\"22e8fca3-b5e0-4b67-97fe-ef252b7438f8\" style=\"padding-left: 10px;\" text = \"\"/>\n",
       "            "
      ],
      "text/plain": [
       "<IPython.core.display.HTML object>"
      ]
     },
     "metadata": {},
     "output_type": "display_data"
    },
    {
     "data": {
      "text/html": [
       "\n",
       "            <div style=\"float: left; border: 1px solid black; width:500px\">\n",
       "              <div id=\"3a347b3c-341b-4939-99aa-a456604a5a91\" style=\"background-color:blue; width:0%\">&nbsp;</div>\n",
       "            </div>\n",
       "            <label id=\"f48bdc29-b409-437c-ade5-5f3d62552206\" style=\"padding-left: 10px;\" text = \"\"/>\n",
       "            "
      ],
      "text/plain": [
       "<IPython.core.display.HTML object>"
      ]
     },
     "metadata": {},
     "output_type": "display_data"
    },
    {
     "data": {
      "text/html": [
       "\n",
       "            <div style=\"float: left; border: 1px solid black; width:500px\">\n",
       "              <div id=\"3b80f03b-a1e4-4cb3-85f5-d2e1e7615b14\" style=\"background-color:blue; width:0%\">&nbsp;</div>\n",
       "            </div>\n",
       "            <label id=\"7be31dd0-ab8e-4798-9f9d-b83313c278ca\" style=\"padding-left: 10px;\" text = \"\"/>\n",
       "            "
      ],
      "text/plain": [
       "<IPython.core.display.HTML object>"
      ]
     },
     "metadata": {},
     "output_type": "display_data"
    },
    {
     "data": {
      "text/html": [
       "\n",
       "            <div style=\"float: left; border: 1px solid black; width:500px\">\n",
       "              <div id=\"10ef8025-8178-4bac-8363-fc756e341a80\" style=\"background-color:blue; width:0%\">&nbsp;</div>\n",
       "            </div>\n",
       "            <label id=\"25c8cb0f-c547-4fa8-9cf8-39ce68a2dda8\" style=\"padding-left: 10px;\" text = \"\"/>\n",
       "            "
      ],
      "text/plain": [
       "<IPython.core.display.HTML object>"
      ]
     },
     "metadata": {},
     "output_type": "display_data"
    },
    {
     "data": {
      "text/html": [
       "\n",
       "            <div style=\"float: left; border: 1px solid black; width:500px\">\n",
       "              <div id=\"87188875-3b51-41b0-90ca-8eedd0d55aac\" style=\"background-color:blue; width:0%\">&nbsp;</div>\n",
       "            </div>\n",
       "            <label id=\"39c22f0d-1d89-46cd-a15f-02bd5b9eff41\" style=\"padding-left: 10px;\" text = \"\"/>\n",
       "            "
      ],
      "text/plain": [
       "<IPython.core.display.HTML object>"
      ]
     },
     "metadata": {},
     "output_type": "display_data"
    },
    {
     "data": {
      "text/html": [
       "\n",
       "            <div style=\"float: left; border: 1px solid black; width:500px\">\n",
       "              <div id=\"4ab684d5-d13d-4c0c-a017-15a86c3f5ac1\" style=\"background-color:blue; width:0%\">&nbsp;</div>\n",
       "            </div>\n",
       "            <label id=\"4f5059a5-43f7-45b9-a762-4154c8e9f559\" style=\"padding-left: 10px;\" text = \"\"/>\n",
       "            "
      ],
      "text/plain": [
       "<IPython.core.display.HTML object>"
      ]
     },
     "metadata": {},
     "output_type": "display_data"
    },
    {
     "data": {
      "text/html": [
       "\n",
       "            <div style=\"float: left; border: 1px solid black; width:500px\">\n",
       "              <div id=\"cb8cfe5f-b06b-466d-9afb-6d9ee844b354\" style=\"background-color:blue; width:0%\">&nbsp;</div>\n",
       "            </div>\n",
       "            <label id=\"443fe76c-4ebd-43ac-b887-1de642b23f16\" style=\"padding-left: 10px;\" text = \"\"/>\n",
       "            "
      ],
      "text/plain": [
       "<IPython.core.display.HTML object>"
      ]
     },
     "metadata": {},
     "output_type": "display_data"
    },
    {
     "data": {
      "text/html": [
       "\n",
       "            <div style=\"float: left; border: 1px solid black; width:500px\">\n",
       "              <div id=\"18831c58-51c5-4bd8-ab11-6da9a856ace9\" style=\"background-color:blue; width:0%\">&nbsp;</div>\n",
       "            </div>\n",
       "            <label id=\"207b574a-97ff-447b-a40b-a872b36e446f\" style=\"padding-left: 10px;\" text = \"\"/>\n",
       "            "
      ],
      "text/plain": [
       "<IPython.core.display.HTML object>"
      ]
     },
     "metadata": {},
     "output_type": "display_data"
    },
    {
     "data": {
      "text/html": [
       "\n",
       "            <div style=\"float: left; border: 1px solid black; width:500px\">\n",
       "              <div id=\"6eb6e65d-dc70-4353-8d5c-527a68d113e4\" style=\"background-color:blue; width:0%\">&nbsp;</div>\n",
       "            </div>\n",
       "            <label id=\"ebc07c54-225f-4901-aa18-96934ac71bd7\" style=\"padding-left: 10px;\" text = \"\"/>\n",
       "            "
      ],
      "text/plain": [
       "<IPython.core.display.HTML object>"
      ]
     },
     "metadata": {},
     "output_type": "display_data"
    },
    {
     "data": {
      "text/html": [
       "\n",
       "            <div style=\"float: left; border: 1px solid black; width:500px\">\n",
       "              <div id=\"44394eaa-edd3-4438-bb64-96f6a35d4e53\" style=\"background-color:blue; width:0%\">&nbsp;</div>\n",
       "            </div>\n",
       "            <label id=\"8f64bea9-f3fb-423c-bf1b-df1d42d06223\" style=\"padding-left: 10px;\" text = \"\"/>\n",
       "            "
      ],
      "text/plain": [
       "<IPython.core.display.HTML object>"
      ]
     },
     "metadata": {},
     "output_type": "display_data"
    },
    {
     "data": {
      "text/html": [
       "\n",
       "            <div style=\"float: left; border: 1px solid black; width:500px\">\n",
       "              <div id=\"48649f7f-2d52-422b-9681-7fb6f132a1d9\" style=\"background-color:blue; width:0%\">&nbsp;</div>\n",
       "            </div>\n",
       "            <label id=\"b709cf2e-814a-4233-b638-1ed1c72cd95c\" style=\"padding-left: 10px;\" text = \"\"/>\n",
       "            "
      ],
      "text/plain": [
       "<IPython.core.display.HTML object>"
      ]
     },
     "metadata": {},
     "output_type": "display_data"
    },
    {
     "data": {
      "text/html": [
       "\n",
       "            <div style=\"float: left; border: 1px solid black; width:500px\">\n",
       "              <div id=\"f1053a4e-b3ce-4d1c-b1e9-c1cfc228cfaf\" style=\"background-color:blue; width:0%\">&nbsp;</div>\n",
       "            </div>\n",
       "            <label id=\"3208adc6-b47e-4e23-834c-75093a545a9c\" style=\"padding-left: 10px;\" text = \"\"/>\n",
       "            "
      ],
      "text/plain": [
       "<IPython.core.display.HTML object>"
      ]
     },
     "metadata": {},
     "output_type": "display_data"
    },
    {
     "data": {
      "text/html": [
       "\n",
       "            <div style=\"float: left; border: 1px solid black; width:500px\">\n",
       "              <div id=\"abcfcc84-ad47-4fc5-8dfc-8b7ca8b7d56c\" style=\"background-color:blue; width:0%\">&nbsp;</div>\n",
       "            </div>\n",
       "            <label id=\"d00136bc-c7ec-4730-826e-f980be356fb1\" style=\"padding-left: 10px;\" text = \"\"/>\n",
       "            "
      ],
      "text/plain": [
       "<IPython.core.display.HTML object>"
      ]
     },
     "metadata": {},
     "output_type": "display_data"
    },
    {
     "name": "stdout",
     "output_type": "stream",
     "text": [
      "Done\n"
     ]
    }
   ],
   "source": [
    "from fitter import Fitter\n",
    "import pandas as pd\n",
    "import numpy as np\n",
    "from Classes import Simulation_Team\n",
    "from Simulate import simulate\n",
    "from Image_Making import create_win_probabilities_image, create_fantasy_rankings_image, create_primetime_opener_image, create_primetime_stat_projections_image\n",
    "from Other_Functions import bubble_sort_by_fpts, return_best_fit_in_str_format\n",
    "\n",
    "# Base team colors, for image making\n",
    "team_colors = {\"Bills\": (2, 45, 147), \"Dolphins\": (1, 142, 151), \"Jets\": (12, 87, 64), \"Patriots\": (206, 2, 29), \"Bengals\": (239, 72, 30), \"Browns\": (221, 96, 6), \"Ravens\": (42, 44, 129), \"Steelers\": (240, 200, 24), \"Colts\": (0, 50, 101), \"Jaguars\": (18, 101, 119), \"Texans\": (199, 35, 62), \"Titans\": (68, 148, 209), \"Broncos\": (242, 105, 34), \"Chargers\": (55, 120, 188), \"Chiefs\": (204, 3, 25), \"Raiders\": (209, 209, 211), \"Cowboys\": (212, 213, 215), \"Eagles\": (0, 71, 81), \"Football Team\": (88, 20, 19), \"Giants\": (0, 57, 124), \"Bears\": (27, 27, 63), \"Lions\": (1, 116, 181), \"Packers\": (31, 53, 48), \"Vikings\": (70, 23, 89), \"Buccaneers\": (234, 18, 5), \"Falcons\": (200, 33, 59), \"Panthers\": (12, 149, 211), \"Saints\": (209, 187, 140), \"49ers\": (196, 168, 114), \"Cardinals\": (176, 5, 57), \"Rams\": (0, 53, 148), \"Seahawks\": (99, 187, 38)}\n",
    "# Team abbrevations, for image making\n",
    "team_mnemonics = {\"Bills\": \"BUF\", \"Dolphins\": \"MIA\", \"Jets\": \"NYJ\", \"Patriots\": \"NE\", \"Bengals\": \"CIN\", \"Browns\": \"CLE\", \"Ravens\": \"BAL\", \"Steelers\": \"PIT\", \"Colts\": \"IND\", \"Jaguars\": \"JAX\", \"Texans\": \"HOU\", \"Titans\": \"TEN\", \"Broncos\": \"DEN\", \"Chargers\": \"LAC\", \"Chiefs\": \"KC\", \"Raiders\": \"LV\", \"Cowboys\": \"DAL\", \"Eagles\": \"PHI\", \"Football Team\": \"WAS\", \"Giants\": \"NYG\", \"Bears\": \"CHI\", \"Lions\": \"DET\", \"Packers\": \"GB\", \"Vikings\": \"MIN\", \"Buccaneers\": \"TB\", \"Falcons\": \"ATL\", \"Panthers\": \"CAR\", \"Saints\": \"NO\", \"49ers\": \"SF\", \"Cardinals\": \"ARI\", \"Rams\": \"LAR\", \"Seahawks\": \"SEA\"}\n",
    "# Weekly schedule. Games with a value of \"Primetime\" indicate they are primetime games, and should not be included when making Sunday win probability images\n",
    "schedule = {\"Patriots at Colts\": \"Primetime\", \"Jets at Dolphins\": \"\", \"Panthers at Bills\": \"\", \"Cowboys at Giants\": \"\", \"Texans at Jaguars\": \"\", \"Titans at Steelers\": \"\", \"Cardinals at Lions\": \"\", \"Falcons at 49ers\": \"\", \"Bengals at Broncos\": \"\", \"Packers at Ravens\": \"\", \"Saints at Buccaneers\": \"Primetime\", \"Raiders at Browns\": \"Primetime\", \"Vikings at Bears\": \"Primetime\", \"Seahawks at Rams\": \"Primetime\", \"Football Team at Eagles\": \"Primetime\"}\n",
    "# Fanduel Sportsbook bets for each game (only primetime games considered). In form [road spread, total points over/under]\n",
    "bets = [[2.5, 45.5], [], [], [], [], [], [], [], [], [], [11, 45], [1, 41.5], [-6.5, 44], [6, 45.5], [8, 43]]\n",
    "week = 15 # Current week being simulated\n",
    "n = 10000 # Number of times to simulate each game\n",
    "matchups_data = list()\n",
    "primetime_data = list()\n",
    "all_qbs = list()\n",
    "all_rbs = list()\n",
    "all_wrs = list()\n",
    "all_tes = list()\n",
    "all_ks = list()\n",
    "all_teams = list()\n",
    "j = -1 # Acts as an indexer, don't use range() for loop as it looks more readable this way\n",
    "for game in schedule:\n",
    "    j += 1\n",
    "\n",
    "    # Initalize road and home team objects for the current game\n",
    "    road = game[0:game.index(\" at\")]\n",
    "    home = game[game.index(\" at\") + 4:]\n",
    "    print(road)\n",
    "    print(home)\n",
    "    road_team = Simulation_Team(road, year=\"2021 \")\n",
    "    home_team = Simulation_Team(home, year=\"2021 \")\n",
    "    road_team.create_players_data()\n",
    "    home_team.create_players_data()\n",
    "\n",
    "    # Add road and home team to teams playing this week    \n",
    "    all_teams.append(road_team)\n",
    "    all_teams.append(home_team)\n",
    "\n",
    "    # Add road and home players to respective positional lists\n",
    "    for position in road_team.players:\n",
    "        for player in road_team.players[position]:\n",
    "            if position == \"QBs\":\n",
    "                all_qbs.append(player)\n",
    "            elif position == \"RBs\":\n",
    "                all_rbs.append(player)\n",
    "            elif position == \"WRs\":\n",
    "                all_wrs.append(player)\n",
    "            elif position == \"TEs\":\n",
    "                all_tes.append(player)\n",
    "            elif position == \"Ks\":\n",
    "                all_ks.append(player)\n",
    "    for position in home_team.players:\n",
    "        for player in home_team.players[position]:\n",
    "            if position == \"QBs\":\n",
    "                all_qbs.append(player)\n",
    "            elif position == \"RBs\":\n",
    "                all_rbs.append(player)\n",
    "            elif position == \"WRs\":\n",
    "                all_wrs.append(player)\n",
    "            elif position == \"TEs\":\n",
    "                all_tes.append(player)\n",
    "            elif position == \"Ks\":\n",
    "                all_ks.append(player)\n",
    "    point_differential = list() # List of point differential in every simulation for this game\n",
    "    total_points = list() # List of total points in every simulation for this game\n",
    "    for i in range(0, n): # Simulate game n times, update stats\n",
    "        simulate(road_team, home_team)\n",
    "        point_differential.append(road_team.points - home_team.points)\n",
    "        total_points.append(road_team.points + home_team.points)\n",
    "        road_team.update_all_games_or_season_stats(home_team, \"games\")\n",
    "        home_team.update_all_games_or_season_stats(road_team, \"games\")\n",
    "        road_team.reset_game_or_season_stats(\"game\")\n",
    "        home_team.reset_game_or_season_stats(\"game\")\n",
    "    if schedule[road_team.name + \" at \" + home_team.name] != \"Primetime\": # Game is not primetime\n",
    "        # Add data for the matchup to matchups_data, which will later be passed to a function to create the Sunday win probabilities image\n",
    "        matchups_data.append([road_team.name, round(100 * road_team.record[0] / n, 1), home_team.name, round(100 * home_team.record[0] / n, 1), round(100 - round(100 * home_team.record[0] / n, 1) - round(100 * road_team.record[0] / n, 1), 1)])\n",
    "    else: # Game is primetime\n",
    "        primetime_data.append([road_team, home_team, bets[j]]) # Add data for the matchup to primetime_data\n",
    "\n",
    "    # Statistical distributions to consider when fitting data    \n",
    "    _distributions = [\"exponnorm\", \"f\", \"fatiguelife\", \"gamma\", \"johnsonsb\", \"johnsonsu\", \"mielke\", \"norminvgauss\", \"norm\"]\n",
    "\n",
    "    # Fit several stats to data\n",
    "    f_point_differential = Fitter(point_differential, distributions=_distributions)\n",
    "    f_point_differential.fit()\n",
    "    f_total_points = Fitter(total_points, distributions=_distributions)\n",
    "    f_total_points.fit()\n",
    "    f_road_points = Fitter(road_team.all_games_stats[\"PTS\"], distributions=_distributions)\n",
    "    f_road_points.fit()\n",
    "    f_road_pass_comps = Fitter(road_team.all_games_stats[\"PCOMPs\"], distributions=_distributions)\n",
    "    f_road_pass_comps.fit()\n",
    "    f_road_pass_atts = Fitter(road_team.all_games_stats[\"PATTs\"], distributions=_distributions)\n",
    "    f_road_pass_atts.fit()\n",
    "    f_road_pass_yards = Fitter(road_team.all_games_stats[\"PYDs\"], distributions=_distributions)\n",
    "    f_road_pass_yards.fit()\n",
    "    f_road_pass_tds = Fitter(road_team.all_games_stats[\"PTDs\"], distributions=_distributions)\n",
    "    f_road_pass_tds.fit()\n",
    "    f_road_ints = Fitter(road_team.all_games_stats[\"INTs\"], distributions=_distributions)\n",
    "    f_road_ints.fit()\n",
    "    f_road_rush_yards = Fitter(road_team.all_games_stats[\"RYDs\"], distributions=_distributions)\n",
    "    f_road_rush_yards.fit()\n",
    "    f_road_rush_tds = Fitter(road_team.all_games_stats[\"RTDs\"], distributions=_distributions)\n",
    "    f_road_rush_tds.fit()\n",
    "    f_home_points = Fitter(home_team.all_games_stats[\"PTS\"], distributions=_distributions)\n",
    "    f_home_points.fit()\n",
    "    f_home_pass_comps = Fitter(home_team.all_games_stats[\"PCOMPs\"], distributions=_distributions)\n",
    "    f_home_pass_comps.fit()\n",
    "    f_home_pass_atts = Fitter(home_team.all_games_stats[\"PATTs\"], distributions=_distributions)\n",
    "    f_home_pass_atts.fit()\n",
    "    f_home_pass_yards = Fitter(home_team.all_games_stats[\"PYDs\"], distributions=_distributions)\n",
    "    f_home_pass_yards.fit()\n",
    "    f_home_pass_tds = Fitter(home_team.all_games_stats[\"PTDs\"], distributions=_distributions)\n",
    "    f_home_pass_tds.fit()\n",
    "    f_home_ints = Fitter(home_team.all_games_stats[\"INTs\"], distributions=_distributions)\n",
    "    f_home_ints.fit()\n",
    "    f_home_rush_yards = Fitter(home_team.all_games_stats[\"RYDs\"], distributions=_distributions)\n",
    "    f_home_rush_yards.fit()\n",
    "    f_home_rush_tds = Fitter(home_team.all_games_stats[\"RTDs\"], distributions=_distributions)\n",
    "    f_home_rush_tds.fit()\n",
    "\n",
    "    # Create data frames to write to excel for the game, and write them to an Excel Spreadsheet\n",
    "    overall_stats_df = pd.DataFrame([[round(100 * road_team.record[0] / n, 1), round(100 * home_team.record[0] / n, 1), round(100 * road_team.record[2] / n, 1), round(np.mean(point_differential), 1), return_best_fit_in_str_format(f_point_differential.get_best(method=\"sumsquare_error\")), \" \".join([str(num) for num in point_differential]), round(np.mean(total_points), 1), return_best_fit_in_str_format(f_total_points.get_best(method=\"sumsquare_error\")), \" \".join([str(num) for num in total_points]), round(np.mean(road_team.all_games_stats[\"FPTS\"]), 2), round(np.mean(home_team.all_games_stats[\"FPTS\"]), 2)]], columns=[road_team.name + \" WIN %\", home_team.name + \" WIN %\", \"TIE %\", \"Avg. Point Differential\", \"Point Differential Distribution\", \"Point Differential List\", \"Avg. Tot. PTS\", \"PTS Distribution\", \"PTS List\", road_team.name + \"Avg. FPTS\", home_team.name + \"Avg. FPTS\"])\n",
    "    road_stats_df = pd.DataFrame([[round(np.mean(road_team.all_games_stats[\"PTS\"]), 1), round(np.mean(road_team.all_games_stats[\"PCOMPs\"]), 1), round(np.mean(road_team.all_games_stats[\"PATTs\"]), 1), round(np.mean(road_team.all_games_stats[\"PYDs\"]), 2), round(np.mean(road_team.all_games_stats[\"PTDs\"]), 2), round(np.mean(road_team.all_games_stats[\"INTs\"]), 2), round(np.mean(road_team.all_games_stats[\"RYDs\"]), 2), round(np.mean(road_team.all_games_stats[\"RTDs\"]), 2)], [return_best_fit_in_str_format(f_road_points.get_best(method=\"sumsquare_error\")), return_best_fit_in_str_format(f_road_pass_comps.get_best(method=\"sumsquare_error\")), return_best_fit_in_str_format(f_road_pass_atts.get_best(method=\"sumsquare_error\")), return_best_fit_in_str_format(f_road_pass_yards.get_best(method=\"sumsquare_error\")), return_best_fit_in_str_format(f_road_pass_tds.get_best(method=\"sumsquare_error\")), return_best_fit_in_str_format(f_road_ints.get_best(method=\"sumsquare_error\")), return_best_fit_in_str_format(f_road_rush_yards.get_best(method=\"sumsquare_error\")), return_best_fit_in_str_format(f_road_rush_tds.get_best(method=\"sumsquare_error\"))], [\" \".join([str(num) for num in road_team.all_games_stats[\"PTS\"]]), \" \".join([str(num) for num in road_team.all_games_stats[\"PCOMPs\"]]), \" \".join([str(num) for num in road_team.all_games_stats[\"PATTs\"]]), \" \".join([str(num) for num in road_team.all_games_stats[\"PYDs\"]]), \" \".join([str(num) for num in road_team.all_games_stats[\"PTDs\"]]), \" \".join([str(num) for num in road_team.all_games_stats[\"INTs\"]]), \" \".join([str(num) for num in road_team.all_games_stats[\"RYDs\"]]), \" \".join([str(num) for num in road_team.all_games_stats[\"RTDs\"]])]], columns=[\"PTS\", \"PCOMPs\", \"PATTs\", \"PYDs\", \"PTDs\", \"INTs\", \"RYDs\", \"RTDs\"], index=[\"Avg.\", \"Best Dist.\", \"List\"])\n",
    "    road_qbs_stats_df = pd.DataFrame([[player.name, round(np.mean(player.all_games_stats[\"PCOMPs\"]), 1), round(np.mean(player.all_games_stats[\"PATTs\"]), 1), round(np.mean(player.all_games_stats[\"PYDs\"]), 2), round(np.mean(player.all_games_stats[\"PTDs\"]), 2), round(np.mean(player.all_games_stats[\"INTs\"]), 2), round(np.mean(player.all_games_stats[\"FMBLs\"]), 2), round(np.mean(player.all_games_stats[\"RATTs\"]), 1), round(np.mean(player.all_games_stats[\"RYDs\"]), 2), round(np.mean(player.all_games_stats[\"RTDs\"]), 2), round(np.mean(player.all_games_stats[\"2PCs\"]), 2), round(np.mean(player.all_games_stats[\"FPTS\"]), 2)] for player in bubble_sort_by_fpts(road_team.players[\"QBs\"])], columns=[\"Name\", \"PCOMPs\", \"PATTs\", \"PYDs\", \"PTDs\", \"INTs\", \"FMBLs\", \"RATTs\", \"RYDs\", \"RTDs\", \"2PCs\", \"FPTS\"])\n",
    "    road_skill_players_stats_df = pd.DataFrame([[player.name, round(np.mean(player.all_games_stats[\"Rec\"]), 2), round(np.mean(player.all_games_stats[\"RecYDs\"]), 2), round(np.mean(player.all_games_stats[\"RecTDs\"]), 2), round(np.mean(player.all_games_stats[\"FMBLs\"]), 2), round(np.mean(player.all_games_stats[\"RATTs\"]), 1), round(np.mean(player.all_games_stats[\"RYDs\"]), 2), round(np.mean(player.all_games_stats[\"RTDs\"]), 2), round(np.mean(player.all_games_stats[\"2PCs\"]), 2), round(np.mean(player.all_games_stats[\"FPTS\"]), 2), round(np.mean(player.all_games_stats[\"FPTS\"]) - np.mean(player.all_games_stats[\"Rec\"]), 2)] for player in bubble_sort_by_fpts(road_team.skill_position_players)], columns=[\"Name\", \"Rec\", \"RecYDs\", \"RecTDs\", \"FMBLs\", \"RATTs\", \"RYDs\", \"RTDs\", \"2PCs\", \"FPTS (PPR)\", \"FPTS (Non-PPR)\"])\n",
    "    road_k_stats_df = pd.DataFrame([[road_team.players[\"Ks\"][0].name, round(np.mean(road_team.players[\"Ks\"][0].all_games_stats[\"XPM\"]), 2), round(np.mean(road_team.players[\"Ks\"][0].all_games_stats[\"XPA\"]), 2), round(np.mean(road_team.players[\"Ks\"][0].all_games_stats[\"FG50-M\"]), 2), round(np.mean(road_team.players[\"Ks\"][0].all_games_stats[\"FG50-A\"]), 2), round(np.mean(road_team.players[\"Ks\"][0].all_games_stats[\"FG50+M\"]), 2), round(np.mean(road_team.players[\"Ks\"][0].all_games_stats[\"FG50+A\"]), 2), round(np.mean(road_team.players[\"Ks\"][0].all_games_stats[\"FPTS\"]), 2)]], columns=[\"Name\", \"XPM\", \"XPA\", \"FG50-M\", \"FG50-A\", \"FG50+M\", \"FG50+A\", \"FPTS\"])\n",
    "    home_stats_df = pd.DataFrame([[round(np.mean(home_team.all_games_stats[\"PTS\"]), 1), round(np.mean(home_team.all_games_stats[\"PCOMPs\"]), 1), round(np.mean(home_team.all_games_stats[\"PATTs\"]), 1), round(np.mean(home_team.all_games_stats[\"PYDs\"]), 2), round(np.mean(home_team.all_games_stats[\"PTDs\"]), 2), round(np.mean(home_team.all_games_stats[\"INTs\"]), 2), round(np.mean(home_team.all_games_stats[\"RYDs\"]), 2), round(np.mean(home_team.all_games_stats[\"RTDs\"]), 2)], [return_best_fit_in_str_format(f_home_points.get_best(method=\"sumsquare_error\")), return_best_fit_in_str_format(f_home_pass_comps.get_best(method=\"sumsquare_error\")), return_best_fit_in_str_format(f_home_pass_atts.get_best(method=\"sumsquare_error\")), return_best_fit_in_str_format(f_home_pass_yards.get_best(method=\"sumsquare_error\")), return_best_fit_in_str_format(f_home_pass_tds.get_best(method=\"sumsquare_error\")), return_best_fit_in_str_format(f_home_ints.get_best(method=\"sumsquare_error\")), return_best_fit_in_str_format(f_home_rush_yards.get_best(method=\"sumsquare_error\")), return_best_fit_in_str_format(f_home_rush_tds.get_best(method=\"sumsquare_error\"))], [\" \".join([str(num) for num in home_team.all_games_stats[\"PTS\"]]), \" \".join([str(num) for num in home_team.all_games_stats[\"PCOMPs\"]]), \" \".join([str(num) for num in home_team.all_games_stats[\"PATTs\"]]), \" \".join([str(num) for num in home_team.all_games_stats[\"PYDs\"]]), \" \".join([str(num) for num in home_team.all_games_stats[\"PTDs\"]]), \" \".join([str(num) for num in home_team.all_games_stats[\"INTs\"]]), \" \".join([str(num) for num in home_team.all_games_stats[\"RYDs\"]]), \" \".join([str(num) for num in home_team.all_games_stats[\"RTDs\"]])]], columns=[\"PTS\", \"PCOMPs\", \"PATTs\", \"PYDs\", \"PTDs\", \"INTs\", \"RYDs\", \"RTDs\"], index=[\"Avg.\", \"Best Dist.\", \"List\"])\n",
    "    home_qbs_stats_df = pd.DataFrame([[player.name, round(np.mean(player.all_games_stats[\"PCOMPs\"]), 1), round(np.mean(player.all_games_stats[\"PATTs\"]), 1), round(np.mean(player.all_games_stats[\"PYDs\"]), 2), round(np.mean(player.all_games_stats[\"PTDs\"]), 2), round(np.mean(player.all_games_stats[\"INTs\"]), 2), round(np.mean(player.all_games_stats[\"FMBLs\"]), 2), round(np.mean(player.all_games_stats[\"RATTs\"]), 1), round(np.mean(player.all_games_stats[\"RYDs\"]), 2), round(np.mean(player.all_games_stats[\"RTDs\"]), 2), round(np.mean(player.all_games_stats[\"2PCs\"]), 2), round(np.mean(player.all_games_stats[\"FPTS\"]), 2)] for player in bubble_sort_by_fpts(home_team.players[\"QBs\"])], columns=[\"Name\", \"PCOMPs\", \"PATTs\", \"PYDs\", \"PTDs\", \"INTs\", \"FMBLs\", \"RATTs\", \"RYDs\", \"RTDs\", \"2PCs\", \"FPTS\"])\n",
    "    home_skill_players_stats_df = pd.DataFrame([[player.name, round(np.mean(player.all_games_stats[\"Rec\"]), 2), round(np.mean(player.all_games_stats[\"RecYDs\"]), 2), round(np.mean(player.all_games_stats[\"RecTDs\"]), 2), round(np.mean(player.all_games_stats[\"FMBLs\"]), 2), round(np.mean(player.all_games_stats[\"RATTs\"]), 1), round(np.mean(player.all_games_stats[\"RYDs\"]), 2), round(np.mean(player.all_games_stats[\"RTDs\"]), 2), round(np.mean(player.all_games_stats[\"2PCs\"]), 2), round(np.mean(player.all_games_stats[\"FPTS\"]), 2), round(np.mean(player.all_games_stats[\"FPTS\"]) - np.mean(player.all_games_stats[\"Rec\"]), 2)] for player in bubble_sort_by_fpts(home_team.skill_position_players)], columns=[\"Name\", \"Rec\", \"RecYDs\", \"RecTDs\", \"FMBLs\", \"RATTs\", \"RYDs\", \"RTDs\", \"2PCs\", \"FPTS (PPR)\", \"FPTS (Non-PPR)\"])\n",
    "    home_k_stats_df = pd.DataFrame([[home_team.players[\"Ks\"][0].name, round(np.mean(home_team.players[\"Ks\"][0].all_games_stats[\"XPM\"]), 2), round(np.mean(home_team.players[\"Ks\"][0].all_games_stats[\"XPA\"]), 2), round(np.mean(home_team.players[\"Ks\"][0].all_games_stats[\"FG50-M\"]), 2), round(np.mean(home_team.players[\"Ks\"][0].all_games_stats[\"FG50-A\"]), 2), round(np.mean(home_team.players[\"Ks\"][0].all_games_stats[\"FG50+M\"]), 2), round(np.mean(home_team.players[\"Ks\"][0].all_games_stats[\"FG50+A\"]), 2), round(np.mean(home_team.players[\"Ks\"][0].all_games_stats[\"FPTS\"]), 2)]], columns=[\"Name\", \"XPM\", \"XPA\", \"FG50-M\", \"FG50-A\", \"FG50+M\", \"FG50+A\", \"FPTS\"])\n",
    "    with pd.ExcelWriter(\"Game Simulations/Week \" + str(week) + \"/\" + road_team.name + \" at \" + home_team.name + \".xlsx\") as writer:\n",
    "        overall_stats_df.to_excel(writer, sheet_name=\"Overall game stats\")\n",
    "        road_stats_df.to_excel(writer, sheet_name=team_mnemonics[road_team.name] + \" game stats\")\n",
    "        road_qbs_stats_df.to_excel(writer, sheet_name=team_mnemonics[road_team.name] + \" pass stats\")\n",
    "        road_skill_players_stats_df.to_excel(writer, sheet_name=team_mnemonics[road_team.name] + \" rec and rush stats\")\n",
    "        road_k_stats_df.to_excel(writer, sheet_name=team_mnemonics[road_team.name] + \" kicking stats\")\n",
    "        home_stats_df.to_excel(writer, sheet_name=team_mnemonics[home_team.name] + \" game stats\")\n",
    "        home_qbs_stats_df.to_excel(writer, sheet_name=team_mnemonics[home_team.name] + \" pass stats\")\n",
    "        home_skill_players_stats_df.to_excel(writer, sheet_name=team_mnemonics[home_team.name] + \" rec and rush stats\")\n",
    "        home_k_stats_df.to_excel(writer, sheet_name=home_team.name + \" kicking stats\")\n",
    "\n",
    "# Create data frames for the full weekly fantasy projections, and write them to an Excel spreadsheet\n",
    "all_qbs_stats_df = pd.DataFrame([[player.name + \"(\" + team_mnemonics[player.team] + \")\", round(np.mean(player.all_games_stats[\"PCOMPs\"]), 1), round(np.mean(player.all_games_stats[\"PATTs\"]), 1), round(np.mean(player.all_games_stats[\"PYDs\"]), 2), round(np.mean(player.all_games_stats[\"PTDs\"]), 2), round(np.mean(player.all_games_stats[\"INTs\"]), 2), round(np.mean(player.all_games_stats[\"FMBLs\"]), 2), round(np.mean(player.all_games_stats[\"RATTs\"]), 1), round(np.mean(player.all_games_stats[\"RYDs\"]), 2), round(np.mean(player.all_games_stats[\"RTDs\"]), 2), round(np.mean(player.all_games_stats[\"2PCs\"]), 2), round(np.mean(player.all_games_stats[\"FPTS\"]), 2)] for player in bubble_sort_by_fpts(all_qbs)], columns=[\"Name\", \"PCOMPs\", \"PATTs\", \"PYDs\", \"PTDs\", \"INTs\", \"FMBLs\", \"RATTs\", \"RYDs\", \"RTDs\", \"2PCs\", \"FPTS\"]) \n",
    "all_rbs_stats_df = pd.DataFrame([[player.name + \"(\" + team_mnemonics[player.team] + \")\", round(np.mean(player.all_games_stats[\"Rec\"]), 2), round(np.mean(player.all_games_stats[\"RecYDs\"]), 2), round(np.mean(player.all_games_stats[\"RecTDs\"]), 2), round(np.mean(player.all_games_stats[\"FMBLs\"]), 2), round(np.mean(player.all_games_stats[\"RATTs\"]), 1), round(np.mean(player.all_games_stats[\"RYDs\"]), 2), round(np.mean(player.all_games_stats[\"RTDs\"]), 2), round(np.mean(player.all_games_stats[\"2PCs\"]), 2), round(np.mean(player.all_games_stats[\"FPTS\"]), 2), round(np.mean(player.all_games_stats[\"FPTS\"]) - np.mean(player.all_games_stats[\"Rec\"]), 2)] for player in bubble_sort_by_fpts(all_rbs)], columns=[\"Name\", \"Rec\", \"RecYDs\", \"RecTDs\", \"FMBLs\", \"RATTs\", \"RYDs\", \"RTDs\", \"2PCs\", \"FPTS (PPR)\", \"FPTS (Non-PPR)\"])\n",
    "all_wrs_stats_df = pd.DataFrame([[player.name + \"(\" + team_mnemonics[player.team] + \")\", round(np.mean(player.all_games_stats[\"Rec\"]), 2), round(np.mean(player.all_games_stats[\"RecYDs\"]), 2), round(np.mean(player.all_games_stats[\"RecTDs\"]), 2), round(np.mean(player.all_games_stats[\"FMBLs\"]), 2), round(np.mean(player.all_games_stats[\"RATTs\"]), 1), round(np.mean(player.all_games_stats[\"RYDs\"]), 2), round(np.mean(player.all_games_stats[\"RTDs\"]), 2), round(np.mean(player.all_games_stats[\"2PCs\"]), 2), round(np.mean(player.all_games_stats[\"FPTS\"]), 2), round(np.mean(player.all_games_stats[\"FPTS\"]) - np.mean(player.all_games_stats[\"Rec\"]), 2)] for player in bubble_sort_by_fpts(all_wrs)], columns=[\"Name\", \"Rec\", \"RecYDs\", \"RecTDs\", \"FMBLs\", \"RATTs\", \"RYDs\", \"RTDs\", \"2PCs\", \"FPTS (PPR)\", \"FPTS (Non-PPR)\"])\n",
    "all_tes_stats_df = pd.DataFrame([[player.name + \"(\" + team_mnemonics[player.team] + \")\", round(np.mean(player.all_games_stats[\"Rec\"]), 2), round(np.mean(player.all_games_stats[\"RecYDs\"]), 2), round(np.mean(player.all_games_stats[\"RecTDs\"]), 2), round(np.mean(player.all_games_stats[\"FMBLs\"]), 2), round(np.mean(player.all_games_stats[\"RATTs\"]), 1), round(np.mean(player.all_games_stats[\"RYDs\"]), 2), round(np.mean(player.all_games_stats[\"RTDs\"]), 2), round(np.mean(player.all_games_stats[\"2PCs\"]), 2), round(np.mean(player.all_games_stats[\"FPTS\"]), 2), round(np.mean(player.all_games_stats[\"FPTS\"]) - np.mean(player.all_games_stats[\"Rec\"]), 2)] for player in bubble_sort_by_fpts(all_tes)], columns=[\"Name\", \"Rec\", \"RecYDs\", \"RecTDs\", \"FMBLs\", \"RATTs\", \"RYDs\", \"RTDs\", \"2PCs\", \"FPTS (PPR)\", \"FPTS (Non-PPR)\"])\n",
    "all_ks_stats_df = pd.DataFrame([[player.name + \"(\" + team_mnemonics[player.team] + \")\", round(np.mean(player.all_games_stats[\"XPM\"]), 2), round(np.mean(player.all_games_stats[\"XPA\"]), 2), round(np.mean(player.all_games_stats[\"FG50-M\"]), 2), round(np.mean(player.all_games_stats[\"FG50-A\"]), 2), round(np.mean(player.all_games_stats[\"FG50+M\"]), 2), round(np.mean(player.all_games_stats[\"FG50+A\"]), 2), round(np.mean(player.all_games_stats[\"FPTS\"]), 2)] for player in bubble_sort_by_fpts(all_ks)], columns=[\"Name\", \"XPM\", \"XPA\", \"FG50-M\", \"FG50-A\", \"FG50+M\", \"FG50+A\", \"FPTS\"])\n",
    "all_defenses_stats_df = pd.DataFrame([[team.name, round(np.mean(team.all_games_stats[\"FPTS\"]), 2)] for team in bubble_sort_by_fpts(all_teams)], columns=[\"Team\", \"FPTS\"])\n",
    "with pd.ExcelWriter(\"Game Simulations/Week \" + str(week) + \"/Fantasy Projections.xlsx\") as writer:\n",
    "    all_qbs_stats_df.to_excel(writer, sheet_name=\"QBs\")\n",
    "    all_rbs_stats_df.to_excel(writer, sheet_name=\"RBs\")\n",
    "    all_wrs_stats_df.to_excel(writer, sheet_name=\"WRs\")\n",
    "    all_tes_stats_df.to_excel(writer, sheet_name=\"TEs\")\n",
    "    all_ks_stats_df.to_excel(writer, sheet_name=\"Ks\")\n",
    "    all_defenses_stats_df.to_excel(writer, sheet_name=\"DEFs\")\n",
    "\n",
    "for p in primetime_data: # Loop through primetime games\n",
    "    # Create primetime images for each game (automatically saved)\n",
    "    create_primetime_opener_image(p[0], p[1], week, p[2], n)\n",
    "    create_primetime_stat_projections_image(p[0], p[1], week)\n",
    "create_win_probabilities_image(matchups_data[0:8], week, 1) # Create and save win probabilities image for the first 8 Sunday early matchups\n",
    "create_win_probabilities_image(matchups_data[8:], week, 2) # Create and save win probabilities image for the remaining Sunday early matchups\n",
    "\n",
    "# Create and save fantasy rankings image for each position, for different scoring formats\n",
    "all_qbs = bubble_sort_by_fpts(all_qbs)\n",
    "create_fantasy_rankings_image(all_qbs[0:2*len(bets)], [qb.team for qb in all_qbs[0:2*len(bets)]], team_colors, team_mnemonics, \"QB\", week, 1, schedule=schedule)\n",
    "all_rbs = bubble_sort_by_fpts(all_rbs)\n",
    "create_fantasy_rankings_image(all_rbs[0:32], [rb.team for rb in all_rbs[0:32]], team_colors, team_mnemonics, \"RB\", week, 1, scoring_format=\"PPR\", schedule=schedule)\n",
    "create_fantasy_rankings_image(all_rbs[32:64], [rb.team for rb in all_rbs[32:64]], team_colors, team_mnemonics, \"RB\", week, 2, scoring_format=\"PPR\", schedule=schedule, starting_num=33)\n",
    "all_rbs = bubble_sort_by_fpts(all_rbs, scoring_format=\"Non-PPR\")\n",
    "create_fantasy_rankings_image(all_rbs[0:32], [rb.team for rb in all_rbs[0:32]], team_colors, team_mnemonics, \"RB\", week, 1, scoring_format=\"Non-PPR\", schedule=schedule)\n",
    "create_fantasy_rankings_image(all_rbs[32:64], [rb.team for rb in all_rbs[32:64]], team_colors, team_mnemonics, \"RB\", week, 2, scoring_format=\"Non-PPR\", schedule=schedule, starting_num=33)\n",
    "all_wrs = bubble_sort_by_fpts(all_wrs)\n",
    "create_fantasy_rankings_image(all_wrs[0:32], [wr.team for wr in all_wrs[0:32]], team_colors, team_mnemonics, \"WR\", week, 1, scoring_format=\"PPR\", schedule=schedule)\n",
    "create_fantasy_rankings_image(all_wrs[32:64], [wr.team for wr in all_wrs[32:64]], team_colors, team_mnemonics, \"WR\", week, 2, scoring_format=\"PPR\", schedule=schedule, starting_num=33) \n",
    "all_wrs = bubble_sort_by_fpts(all_wrs, scoring_format=\"Non-PPR\")\n",
    "create_fantasy_rankings_image(all_wrs[0:32], [wr.team for wr in all_wrs[0:32]], team_colors, team_mnemonics, \"WR\", week, 1, scoring_format=\"Non-PPR\", schedule=schedule)\n",
    "create_fantasy_rankings_image(all_wrs[32:64], [wr.team for wr in all_wrs[32:64]], team_colors, team_mnemonics, \"WR\", week, 2, scoring_format=\"Non-PPR\", schedule=schedule, starting_num=33)\n",
    "all_tes = bubble_sort_by_fpts(all_tes)\n",
    "create_fantasy_rankings_image(all_tes[0:32], [te.team for te in all_tes[0:32]], team_colors, team_mnemonics, \"TE\", week, 1, scoring_format=\"PPR\", schedule=schedule)\n",
    "all_tes = bubble_sort_by_fpts(all_tes, scoring_format=\"Non-PPR\")\n",
    "create_fantasy_rankings_image(all_tes[0:32], [te.team for te in all_tes[0:32]], team_colors, team_mnemonics, \"TE\", week, 1, scoring_format=\"Non-PPR\", schedule=schedule)\n",
    "all_ks = bubble_sort_by_fpts(all_ks)\n",
    "create_fantasy_rankings_image(all_ks, [k.team for k in all_ks], team_colors, team_mnemonics, \"K\", week, 1, schedule=schedule)\n",
    "all_teams = bubble_sort_by_fpts(all_teams)\n",
    "create_fantasy_rankings_image(all_teams, [team.name for team in all_teams], team_colors, team_mnemonics, \"DEF\", week, 1, schedule=schedule)\n",
    "print(\"Done\")"
   ]
  }
 ],
 "metadata": {
  "kernelspec": {
   "display_name": "Python 3",
   "language": "python",
   "name": "python3"
  },
  "language_info": {
   "codemirror_mode": {
    "name": "ipython",
    "version": 3
   },
   "file_extension": ".py",
   "mimetype": "text/x-python",
   "name": "python",
   "nbconvert_exporter": "python",
   "pygments_lexer": "ipython3",
   "version": "3.8.5"
  }
 },
 "nbformat": 4,
 "nbformat_minor": 4
}
