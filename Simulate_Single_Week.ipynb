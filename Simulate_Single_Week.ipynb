{
 "cells": [
  {
   "cell_type": "code",
   "execution_count": 1,
   "metadata": {},
   "outputs": [
    {
     "name": "stdout",
     "output_type": "stream",
     "text": [
      "49ers\n",
      "Titans\n"
     ]
    },
    {
     "data": {
      "text/html": [
       "\n",
       "            <div style=\"float: left; border: 1px solid black; width:500px\">\n",
       "              <div id=\"3d80f303-0374-4d48-bada-42e1eda13839\" style=\"background-color:blue; width:0%\">&nbsp;</div>\n",
       "            </div>\n",
       "            <label id=\"ecdaab9c-d750-406a-a087-88336b9e4da4\" style=\"padding-left: 10px;\" text = \"\"/>\n",
       "            "
      ],
      "text/plain": [
       "<IPython.core.display.HTML object>"
      ]
     },
     "metadata": {},
     "output_type": "display_data"
    },
    {
     "data": {
      "text/html": [
       "\n",
       "            <div style=\"float: left; border: 1px solid black; width:500px\">\n",
       "              <div id=\"f02e0582-0928-493d-ad8f-0dcb0adde034\" style=\"background-color:blue; width:0%\">&nbsp;</div>\n",
       "            </div>\n",
       "            <label id=\"5153cb3b-c9eb-424e-97c6-6c7bb4d3d464\" style=\"padding-left: 10px;\" text = \"\"/>\n",
       "            "
      ],
      "text/plain": [
       "<IPython.core.display.HTML object>"
      ]
     },
     "metadata": {},
     "output_type": "display_data"
    },
    {
     "data": {
      "text/html": [
       "\n",
       "            <div style=\"float: left; border: 1px solid black; width:500px\">\n",
       "              <div id=\"8b887e3f-ce0f-42f1-9f59-afb9248da15c\" style=\"background-color:blue; width:0%\">&nbsp;</div>\n",
       "            </div>\n",
       "            <label id=\"11815810-85a0-46ea-ac27-10df83af0a32\" style=\"padding-left: 10px;\" text = \"\"/>\n",
       "            "
      ],
      "text/plain": [
       "<IPython.core.display.HTML object>"
      ]
     },
     "metadata": {},
     "output_type": "display_data"
    },
    {
     "data": {
      "text/html": [
       "\n",
       "            <div style=\"float: left; border: 1px solid black; width:500px\">\n",
       "              <div id=\"d674640d-2619-4fdd-8926-a71fc83316f8\" style=\"background-color:blue; width:0%\">&nbsp;</div>\n",
       "            </div>\n",
       "            <label id=\"e837fe6d-046d-4e05-be83-98fcbc0e5a2e\" style=\"padding-left: 10px;\" text = \"\"/>\n",
       "            "
      ],
      "text/plain": [
       "<IPython.core.display.HTML object>"
      ]
     },
     "metadata": {},
     "output_type": "display_data"
    },
    {
     "data": {
      "text/html": [
       "\n",
       "            <div style=\"float: left; border: 1px solid black; width:500px\">\n",
       "              <div id=\"d5ea3f19-a2b4-476e-8911-54e1c124303c\" style=\"background-color:blue; width:0%\">&nbsp;</div>\n",
       "            </div>\n",
       "            <label id=\"d95efa61-fd92-493c-a34d-2e5c6d28c6b5\" style=\"padding-left: 10px;\" text = \"\"/>\n",
       "            "
      ],
      "text/plain": [
       "<IPython.core.display.HTML object>"
      ]
     },
     "metadata": {},
     "output_type": "display_data"
    },
    {
     "data": {
      "text/html": [
       "\n",
       "            <div style=\"float: left; border: 1px solid black; width:500px\">\n",
       "              <div id=\"2ee78303-c518-4837-b7c3-76c4b496d9fe\" style=\"background-color:blue; width:0%\">&nbsp;</div>\n",
       "            </div>\n",
       "            <label id=\"7803adb9-a6ef-4d5e-bfcb-26f2de5fdea1\" style=\"padding-left: 10px;\" text = \"\"/>\n",
       "            "
      ],
      "text/plain": [
       "<IPython.core.display.HTML object>"
      ]
     },
     "metadata": {},
     "output_type": "display_data"
    },
    {
     "data": {
      "text/html": [
       "\n",
       "            <div style=\"float: left; border: 1px solid black; width:500px\">\n",
       "              <div id=\"943aaa2b-bd89-4bae-883d-ab5c5f249996\" style=\"background-color:blue; width:0%\">&nbsp;</div>\n",
       "            </div>\n",
       "            <label id=\"a46bde0e-9a61-44e6-a9b0-95307c475268\" style=\"padding-left: 10px;\" text = \"\"/>\n",
       "            "
      ],
      "text/plain": [
       "<IPython.core.display.HTML object>"
      ]
     },
     "metadata": {},
     "output_type": "display_data"
    },
    {
     "data": {
      "text/html": [
       "\n",
       "            <div style=\"float: left; border: 1px solid black; width:500px\">\n",
       "              <div id=\"6f093200-250a-49f4-b8e7-8a6b7e2a2f82\" style=\"background-color:blue; width:0%\">&nbsp;</div>\n",
       "            </div>\n",
       "            <label id=\"ee4d6676-5e14-4b1f-a520-7c8f75d3e772\" style=\"padding-left: 10px;\" text = \"\"/>\n",
       "            "
      ],
      "text/plain": [
       "<IPython.core.display.HTML object>"
      ]
     },
     "metadata": {},
     "output_type": "display_data"
    },
    {
     "data": {
      "text/html": [
       "\n",
       "            <div style=\"float: left; border: 1px solid black; width:500px\">\n",
       "              <div id=\"a0a564be-28da-4f70-8634-66d7ce836c73\" style=\"background-color:blue; width:0%\">&nbsp;</div>\n",
       "            </div>\n",
       "            <label id=\"002d8089-c449-4a2f-bb37-f88ba29c2ada\" style=\"padding-left: 10px;\" text = \"\"/>\n",
       "            "
      ],
      "text/plain": [
       "<IPython.core.display.HTML object>"
      ]
     },
     "metadata": {},
     "output_type": "display_data"
    },
    {
     "data": {
      "text/html": [
       "\n",
       "            <div style=\"float: left; border: 1px solid black; width:500px\">\n",
       "              <div id=\"c9ef6d58-ca4c-42b0-916e-a918e23be29f\" style=\"background-color:blue; width:0%\">&nbsp;</div>\n",
       "            </div>\n",
       "            <label id=\"fb4ed110-8225-44c8-8003-bac744e24653\" style=\"padding-left: 10px;\" text = \"\"/>\n",
       "            "
      ],
      "text/plain": [
       "<IPython.core.display.HTML object>"
      ]
     },
     "metadata": {},
     "output_type": "display_data"
    },
    {
     "data": {
      "text/html": [
       "\n",
       "            <div style=\"float: left; border: 1px solid black; width:500px\">\n",
       "              <div id=\"a92cfef3-e1ee-4d73-9478-6e41951dadd0\" style=\"background-color:blue; width:0%\">&nbsp;</div>\n",
       "            </div>\n",
       "            <label id=\"7a23ac34-a0e9-4e54-bcbc-060cfa1b7445\" style=\"padding-left: 10px;\" text = \"\"/>\n",
       "            "
      ],
      "text/plain": [
       "<IPython.core.display.HTML object>"
      ]
     },
     "metadata": {},
     "output_type": "display_data"
    },
    {
     "data": {
      "text/html": [
       "\n",
       "            <div style=\"float: left; border: 1px solid black; width:500px\">\n",
       "              <div id=\"4598dc95-8b87-49c6-b791-c38056f42158\" style=\"background-color:blue; width:0%\">&nbsp;</div>\n",
       "            </div>\n",
       "            <label id=\"e066bc9e-1e87-49bc-8c5e-2359abbb8bef\" style=\"padding-left: 10px;\" text = \"\"/>\n",
       "            "
      ],
      "text/plain": [
       "<IPython.core.display.HTML object>"
      ]
     },
     "metadata": {},
     "output_type": "display_data"
    },
    {
     "data": {
      "text/html": [
       "\n",
       "            <div style=\"float: left; border: 1px solid black; width:500px\">\n",
       "              <div id=\"e5066d18-922f-4e54-b681-ae8c27061de0\" style=\"background-color:blue; width:0%\">&nbsp;</div>\n",
       "            </div>\n",
       "            <label id=\"6f958a83-d4bd-460a-a909-cdc7da1b0a82\" style=\"padding-left: 10px;\" text = \"\"/>\n",
       "            "
      ],
      "text/plain": [
       "<IPython.core.display.HTML object>"
      ]
     },
     "metadata": {},
     "output_type": "display_data"
    },
    {
     "data": {
      "text/html": [
       "\n",
       "            <div style=\"float: left; border: 1px solid black; width:500px\">\n",
       "              <div id=\"d09d72e9-547c-442c-a3de-eb1a77ac899b\" style=\"background-color:blue; width:0%\">&nbsp;</div>\n",
       "            </div>\n",
       "            <label id=\"33c3bd46-58c4-4c97-b615-2930142a1e6a\" style=\"padding-left: 10px;\" text = \"\"/>\n",
       "            "
      ],
      "text/plain": [
       "<IPython.core.display.HTML object>"
      ]
     },
     "metadata": {},
     "output_type": "display_data"
    },
    {
     "data": {
      "text/html": [
       "\n",
       "            <div style=\"float: left; border: 1px solid black; width:500px\">\n",
       "              <div id=\"fd0b679c-e243-44a2-9ee1-760ed9e2a9b2\" style=\"background-color:blue; width:0%\">&nbsp;</div>\n",
       "            </div>\n",
       "            <label id=\"5ea102b5-a2e5-41f3-b0f1-b84ed521e74e\" style=\"padding-left: 10px;\" text = \"\"/>\n",
       "            "
      ],
      "text/plain": [
       "<IPython.core.display.HTML object>"
      ]
     },
     "metadata": {},
     "output_type": "display_data"
    },
    {
     "data": {
      "text/html": [
       "\n",
       "            <div style=\"float: left; border: 1px solid black; width:500px\">\n",
       "              <div id=\"9a6c1c2b-b75f-476f-9ed3-818a854f48a0\" style=\"background-color:blue; width:0%\">&nbsp;</div>\n",
       "            </div>\n",
       "            <label id=\"434d98cc-0585-49b0-9e63-f58401995566\" style=\"padding-left: 10px;\" text = \"\"/>\n",
       "            "
      ],
      "text/plain": [
       "<IPython.core.display.HTML object>"
      ]
     },
     "metadata": {},
     "output_type": "display_data"
    },
    {
     "data": {
      "text/html": [
       "\n",
       "            <div style=\"float: left; border: 1px solid black; width:500px\">\n",
       "              <div id=\"b1348577-a05a-459f-be98-016ea00a5431\" style=\"background-color:blue; width:0%\">&nbsp;</div>\n",
       "            </div>\n",
       "            <label id=\"a938caf0-a457-4477-afcb-3ebc08706a0a\" style=\"padding-left: 10px;\" text = \"\"/>\n",
       "            "
      ],
      "text/plain": [
       "<IPython.core.display.HTML object>"
      ]
     },
     "metadata": {},
     "output_type": "display_data"
    },
    {
     "data": {
      "text/html": [
       "\n",
       "            <div style=\"float: left; border: 1px solid black; width:500px\">\n",
       "              <div id=\"9068683a-5cef-4df3-afef-89ec2eeb8050\" style=\"background-color:blue; width:0%\">&nbsp;</div>\n",
       "            </div>\n",
       "            <label id=\"7ccbc6dc-10b5-459f-bcf7-36cdc1e0aedb\" style=\"padding-left: 10px;\" text = \"\"/>\n",
       "            "
      ],
      "text/plain": [
       "<IPython.core.display.HTML object>"
      ]
     },
     "metadata": {},
     "output_type": "display_data"
    },
    {
     "name": "stdout",
     "output_type": "stream",
     "text": [
      "Browns\n",
      "Packers\n"
     ]
    },
    {
     "data": {
      "text/html": [
       "\n",
       "            <div style=\"float: left; border: 1px solid black; width:500px\">\n",
       "              <div id=\"da2abb7d-9aff-4851-8ca8-b413b0c3978a\" style=\"background-color:blue; width:0%\">&nbsp;</div>\n",
       "            </div>\n",
       "            <label id=\"3c3bc0ed-ba1e-4250-9042-c11129a62cc1\" style=\"padding-left: 10px;\" text = \"\"/>\n",
       "            "
      ],
      "text/plain": [
       "<IPython.core.display.HTML object>"
      ]
     },
     "metadata": {},
     "output_type": "display_data"
    },
    {
     "data": {
      "text/html": [
       "\n",
       "            <div style=\"float: left; border: 1px solid black; width:500px\">\n",
       "              <div id=\"b18af83a-eb3a-451c-9887-0f2785b80be0\" style=\"background-color:blue; width:0%\">&nbsp;</div>\n",
       "            </div>\n",
       "            <label id=\"89dbdbb3-cd12-440f-8c3d-473192f00f03\" style=\"padding-left: 10px;\" text = \"\"/>\n",
       "            "
      ],
      "text/plain": [
       "<IPython.core.display.HTML object>"
      ]
     },
     "metadata": {},
     "output_type": "display_data"
    },
    {
     "data": {
      "text/html": [
       "\n",
       "            <div style=\"float: left; border: 1px solid black; width:500px\">\n",
       "              <div id=\"3a4704d3-37bb-46a1-b31c-1b1331e28b16\" style=\"background-color:blue; width:0%\">&nbsp;</div>\n",
       "            </div>\n",
       "            <label id=\"411a67c3-deb3-45ba-b500-8639632a9302\" style=\"padding-left: 10px;\" text = \"\"/>\n",
       "            "
      ],
      "text/plain": [
       "<IPython.core.display.HTML object>"
      ]
     },
     "metadata": {},
     "output_type": "display_data"
    },
    {
     "data": {
      "text/html": [
       "\n",
       "            <div style=\"float: left; border: 1px solid black; width:500px\">\n",
       "              <div id=\"759ba8fb-fde8-445a-be9a-e0137c077713\" style=\"background-color:blue; width:0%\">&nbsp;</div>\n",
       "            </div>\n",
       "            <label id=\"d1011af5-e7cf-4250-83f2-4c9bf9c02417\" style=\"padding-left: 10px;\" text = \"\"/>\n",
       "            "
      ],
      "text/plain": [
       "<IPython.core.display.HTML object>"
      ]
     },
     "metadata": {},
     "output_type": "display_data"
    },
    {
     "data": {
      "text/html": [
       "\n",
       "            <div style=\"float: left; border: 1px solid black; width:500px\">\n",
       "              <div id=\"cfa7f7e6-df32-4475-9fcd-a55b0247dc3b\" style=\"background-color:blue; width:0%\">&nbsp;</div>\n",
       "            </div>\n",
       "            <label id=\"4390b403-9828-486b-a2d9-fccae8295a76\" style=\"padding-left: 10px;\" text = \"\"/>\n",
       "            "
      ],
      "text/plain": [
       "<IPython.core.display.HTML object>"
      ]
     },
     "metadata": {},
     "output_type": "display_data"
    },
    {
     "data": {
      "text/html": [
       "\n",
       "            <div style=\"float: left; border: 1px solid black; width:500px\">\n",
       "              <div id=\"c87af878-9115-42b8-9331-36d115af33d1\" style=\"background-color:blue; width:0%\">&nbsp;</div>\n",
       "            </div>\n",
       "            <label id=\"896dee8a-7bcc-44d2-a373-9d42734ed0ab\" style=\"padding-left: 10px;\" text = \"\"/>\n",
       "            "
      ],
      "text/plain": [
       "<IPython.core.display.HTML object>"
      ]
     },
     "metadata": {},
     "output_type": "display_data"
    },
    {
     "data": {
      "text/html": [
       "\n",
       "            <div style=\"float: left; border: 1px solid black; width:500px\">\n",
       "              <div id=\"9eccfae3-85a5-46df-b73f-448a2f2c6d48\" style=\"background-color:blue; width:0%\">&nbsp;</div>\n",
       "            </div>\n",
       "            <label id=\"ac14e69a-3822-4ad5-8b47-2f6417874d80\" style=\"padding-left: 10px;\" text = \"\"/>\n",
       "            "
      ],
      "text/plain": [
       "<IPython.core.display.HTML object>"
      ]
     },
     "metadata": {},
     "output_type": "display_data"
    },
    {
     "data": {
      "text/html": [
       "\n",
       "            <div style=\"float: left; border: 1px solid black; width:500px\">\n",
       "              <div id=\"d035f1ad-d122-4151-9793-ce3547951756\" style=\"background-color:blue; width:0%\">&nbsp;</div>\n",
       "            </div>\n",
       "            <label id=\"7cebf7fe-0c50-4b25-b8e8-4e26edae70e4\" style=\"padding-left: 10px;\" text = \"\"/>\n",
       "            "
      ],
      "text/plain": [
       "<IPython.core.display.HTML object>"
      ]
     },
     "metadata": {},
     "output_type": "display_data"
    },
    {
     "data": {
      "text/html": [
       "\n",
       "            <div style=\"float: left; border: 1px solid black; width:500px\">\n",
       "              <div id=\"125c2db4-f428-4c65-8bbe-803156a5f641\" style=\"background-color:blue; width:0%\">&nbsp;</div>\n",
       "            </div>\n",
       "            <label id=\"4622c2b6-a607-4e89-9c9b-91a1a2fdb34a\" style=\"padding-left: 10px;\" text = \"\"/>\n",
       "            "
      ],
      "text/plain": [
       "<IPython.core.display.HTML object>"
      ]
     },
     "metadata": {},
     "output_type": "display_data"
    },
    {
     "data": {
      "text/html": [
       "\n",
       "            <div style=\"float: left; border: 1px solid black; width:500px\">\n",
       "              <div id=\"48b34153-44d3-40e4-9c63-82d7b81eba9e\" style=\"background-color:blue; width:0%\">&nbsp;</div>\n",
       "            </div>\n",
       "            <label id=\"b14b4c66-ac62-430c-9a32-1acb83797fed\" style=\"padding-left: 10px;\" text = \"\"/>\n",
       "            "
      ],
      "text/plain": [
       "<IPython.core.display.HTML object>"
      ]
     },
     "metadata": {},
     "output_type": "display_data"
    },
    {
     "data": {
      "text/html": [
       "\n",
       "            <div style=\"float: left; border: 1px solid black; width:500px\">\n",
       "              <div id=\"c9dae01c-5abe-4a75-8d7a-b938103834ec\" style=\"background-color:blue; width:0%\">&nbsp;</div>\n",
       "            </div>\n",
       "            <label id=\"b9ca8948-3292-4360-b391-c36e2cb974f3\" style=\"padding-left: 10px;\" text = \"\"/>\n",
       "            "
      ],
      "text/plain": [
       "<IPython.core.display.HTML object>"
      ]
     },
     "metadata": {},
     "output_type": "display_data"
    },
    {
     "data": {
      "text/html": [
       "\n",
       "            <div style=\"float: left; border: 1px solid black; width:500px\">\n",
       "              <div id=\"ad1eebb0-df26-4116-86ab-5e49f8e77969\" style=\"background-color:blue; width:0%\">&nbsp;</div>\n",
       "            </div>\n",
       "            <label id=\"3be610c6-e8ab-45fa-8c6b-3375350fa115\" style=\"padding-left: 10px;\" text = \"\"/>\n",
       "            "
      ],
      "text/plain": [
       "<IPython.core.display.HTML object>"
      ]
     },
     "metadata": {},
     "output_type": "display_data"
    },
    {
     "data": {
      "text/html": [
       "\n",
       "            <div style=\"float: left; border: 1px solid black; width:500px\">\n",
       "              <div id=\"2b14b116-5ee6-4ce5-a2d7-477be844f1f3\" style=\"background-color:blue; width:0%\">&nbsp;</div>\n",
       "            </div>\n",
       "            <label id=\"03d0fc0b-0021-4fa8-97bb-8273cab1432a\" style=\"padding-left: 10px;\" text = \"\"/>\n",
       "            "
      ],
      "text/plain": [
       "<IPython.core.display.HTML object>"
      ]
     },
     "metadata": {},
     "output_type": "display_data"
    },
    {
     "data": {
      "text/html": [
       "\n",
       "            <div style=\"float: left; border: 1px solid black; width:500px\">\n",
       "              <div id=\"786893c4-7221-4019-be06-8b382d55efa7\" style=\"background-color:blue; width:0%\">&nbsp;</div>\n",
       "            </div>\n",
       "            <label id=\"bfb88877-c6b7-4898-b6c8-054a335df55e\" style=\"padding-left: 10px;\" text = \"\"/>\n",
       "            "
      ],
      "text/plain": [
       "<IPython.core.display.HTML object>"
      ]
     },
     "metadata": {},
     "output_type": "display_data"
    },
    {
     "data": {
      "text/html": [
       "\n",
       "            <div style=\"float: left; border: 1px solid black; width:500px\">\n",
       "              <div id=\"7b7f7cf4-abc3-4247-ada9-5818f0cda052\" style=\"background-color:blue; width:0%\">&nbsp;</div>\n",
       "            </div>\n",
       "            <label id=\"31defe41-cad0-45da-a56b-ea4ae00bd7c4\" style=\"padding-left: 10px;\" text = \"\"/>\n",
       "            "
      ],
      "text/plain": [
       "<IPython.core.display.HTML object>"
      ]
     },
     "metadata": {},
     "output_type": "display_data"
    },
    {
     "data": {
      "text/html": [
       "\n",
       "            <div style=\"float: left; border: 1px solid black; width:500px\">\n",
       "              <div id=\"69f66a61-5574-4d0c-ba0e-75a7dfd51df0\" style=\"background-color:blue; width:0%\">&nbsp;</div>\n",
       "            </div>\n",
       "            <label id=\"8e8db94b-43b4-4be8-b438-6d92a8407d7d\" style=\"padding-left: 10px;\" text = \"\"/>\n",
       "            "
      ],
      "text/plain": [
       "<IPython.core.display.HTML object>"
      ]
     },
     "metadata": {},
     "output_type": "display_data"
    },
    {
     "data": {
      "text/html": [
       "\n",
       "            <div style=\"float: left; border: 1px solid black; width:500px\">\n",
       "              <div id=\"d65d4ea8-95da-4777-91fe-e9bc8587300c\" style=\"background-color:blue; width:0%\">&nbsp;</div>\n",
       "            </div>\n",
       "            <label id=\"635a3ed1-32ca-4a3b-a6ec-834698dc3f1f\" style=\"padding-left: 10px;\" text = \"\"/>\n",
       "            "
      ],
      "text/plain": [
       "<IPython.core.display.HTML object>"
      ]
     },
     "metadata": {},
     "output_type": "display_data"
    },
    {
     "data": {
      "text/html": [
       "\n",
       "            <div style=\"float: left; border: 1px solid black; width:500px\">\n",
       "              <div id=\"0f149f81-a8ba-4904-ae79-6c8f96ea2f1c\" style=\"background-color:blue; width:0%\">&nbsp;</div>\n",
       "            </div>\n",
       "            <label id=\"5cddd3c6-2d61-4100-b42d-52a416722150\" style=\"padding-left: 10px;\" text = \"\"/>\n",
       "            "
      ],
      "text/plain": [
       "<IPython.core.display.HTML object>"
      ]
     },
     "metadata": {},
     "output_type": "display_data"
    },
    {
     "name": "stdout",
     "output_type": "stream",
     "text": [
      "Colts\n",
      "Cardinals\n"
     ]
    },
    {
     "data": {
      "text/html": [
       "\n",
       "            <div style=\"float: left; border: 1px solid black; width:500px\">\n",
       "              <div id=\"a87e1dfb-671a-4db6-8822-4cd856b5dfff\" style=\"background-color:blue; width:0%\">&nbsp;</div>\n",
       "            </div>\n",
       "            <label id=\"07a59a56-c9be-45a6-b9d7-8a1b100c5f7e\" style=\"padding-left: 10px;\" text = \"\"/>\n",
       "            "
      ],
      "text/plain": [
       "<IPython.core.display.HTML object>"
      ]
     },
     "metadata": {},
     "output_type": "display_data"
    },
    {
     "data": {
      "text/html": [
       "\n",
       "            <div style=\"float: left; border: 1px solid black; width:500px\">\n",
       "              <div id=\"2f7a2dc9-29b0-4cf7-b438-0fdc871477fe\" style=\"background-color:blue; width:0%\">&nbsp;</div>\n",
       "            </div>\n",
       "            <label id=\"d98a5997-5924-48bd-9d9f-3d84e4b25d08\" style=\"padding-left: 10px;\" text = \"\"/>\n",
       "            "
      ],
      "text/plain": [
       "<IPython.core.display.HTML object>"
      ]
     },
     "metadata": {},
     "output_type": "display_data"
    },
    {
     "data": {
      "text/html": [
       "\n",
       "            <div style=\"float: left; border: 1px solid black; width:500px\">\n",
       "              <div id=\"f29cdf77-851f-40b5-bac6-a786e9b58f4f\" style=\"background-color:blue; width:0%\">&nbsp;</div>\n",
       "            </div>\n",
       "            <label id=\"c0c9298b-ad7b-423a-aee9-7b4e52e60764\" style=\"padding-left: 10px;\" text = \"\"/>\n",
       "            "
      ],
      "text/plain": [
       "<IPython.core.display.HTML object>"
      ]
     },
     "metadata": {},
     "output_type": "display_data"
    },
    {
     "data": {
      "text/html": [
       "\n",
       "            <div style=\"float: left; border: 1px solid black; width:500px\">\n",
       "              <div id=\"cd1e7ec1-7876-43f9-b9ff-68ab11115768\" style=\"background-color:blue; width:0%\">&nbsp;</div>\n",
       "            </div>\n",
       "            <label id=\"eed12eb0-762f-418a-afb3-c304243f3f4f\" style=\"padding-left: 10px;\" text = \"\"/>\n",
       "            "
      ],
      "text/plain": [
       "<IPython.core.display.HTML object>"
      ]
     },
     "metadata": {},
     "output_type": "display_data"
    },
    {
     "data": {
      "text/html": [
       "\n",
       "            <div style=\"float: left; border: 1px solid black; width:500px\">\n",
       "              <div id=\"4f17d84c-fffa-4492-a6da-e5a03146d7a1\" style=\"background-color:blue; width:0%\">&nbsp;</div>\n",
       "            </div>\n",
       "            <label id=\"0a177035-2fc8-461c-add8-873da5b06939\" style=\"padding-left: 10px;\" text = \"\"/>\n",
       "            "
      ],
      "text/plain": [
       "<IPython.core.display.HTML object>"
      ]
     },
     "metadata": {},
     "output_type": "display_data"
    },
    {
     "data": {
      "text/html": [
       "\n",
       "            <div style=\"float: left; border: 1px solid black; width:500px\">\n",
       "              <div id=\"fb249ee5-af11-4b1a-ab21-eaad44419330\" style=\"background-color:blue; width:0%\">&nbsp;</div>\n",
       "            </div>\n",
       "            <label id=\"4e2949b7-61c4-404c-8dd1-102057ee0107\" style=\"padding-left: 10px;\" text = \"\"/>\n",
       "            "
      ],
      "text/plain": [
       "<IPython.core.display.HTML object>"
      ]
     },
     "metadata": {},
     "output_type": "display_data"
    },
    {
     "data": {
      "text/html": [
       "\n",
       "            <div style=\"float: left; border: 1px solid black; width:500px\">\n",
       "              <div id=\"0bd190c2-bc74-48ff-a8a1-24ee4a7ce222\" style=\"background-color:blue; width:0%\">&nbsp;</div>\n",
       "            </div>\n",
       "            <label id=\"6d395a4c-23ea-4a71-a577-2a6611a4df5c\" style=\"padding-left: 10px;\" text = \"\"/>\n",
       "            "
      ],
      "text/plain": [
       "<IPython.core.display.HTML object>"
      ]
     },
     "metadata": {},
     "output_type": "display_data"
    },
    {
     "data": {
      "text/html": [
       "\n",
       "            <div style=\"float: left; border: 1px solid black; width:500px\">\n",
       "              <div id=\"290e48fe-caf1-4f37-848e-f369e5b67880\" style=\"background-color:blue; width:0%\">&nbsp;</div>\n",
       "            </div>\n",
       "            <label id=\"3e6d2447-ce25-41b8-924e-0f4995e0fd43\" style=\"padding-left: 10px;\" text = \"\"/>\n",
       "            "
      ],
      "text/plain": [
       "<IPython.core.display.HTML object>"
      ]
     },
     "metadata": {},
     "output_type": "display_data"
    },
    {
     "data": {
      "text/html": [
       "\n",
       "            <div style=\"float: left; border: 1px solid black; width:500px\">\n",
       "              <div id=\"d5d548ea-0f69-4c0d-9006-3bf4cd01964e\" style=\"background-color:blue; width:0%\">&nbsp;</div>\n",
       "            </div>\n",
       "            <label id=\"d5bd4a9f-2da0-4581-a306-14e6ece5268f\" style=\"padding-left: 10px;\" text = \"\"/>\n",
       "            "
      ],
      "text/plain": [
       "<IPython.core.display.HTML object>"
      ]
     },
     "metadata": {},
     "output_type": "display_data"
    },
    {
     "data": {
      "text/html": [
       "\n",
       "            <div style=\"float: left; border: 1px solid black; width:500px\">\n",
       "              <div id=\"debd296c-3a23-42ff-873c-7b4a03616902\" style=\"background-color:blue; width:0%\">&nbsp;</div>\n",
       "            </div>\n",
       "            <label id=\"8a7d17bb-e783-47f3-97d8-ecdc7d946783\" style=\"padding-left: 10px;\" text = \"\"/>\n",
       "            "
      ],
      "text/plain": [
       "<IPython.core.display.HTML object>"
      ]
     },
     "metadata": {},
     "output_type": "display_data"
    },
    {
     "data": {
      "text/html": [
       "\n",
       "            <div style=\"float: left; border: 1px solid black; width:500px\">\n",
       "              <div id=\"6f723bd0-e7f8-490f-829b-9dc239ebbc7e\" style=\"background-color:blue; width:0%\">&nbsp;</div>\n",
       "            </div>\n",
       "            <label id=\"161253e5-0a31-45d7-8c9b-69d51907defd\" style=\"padding-left: 10px;\" text = \"\"/>\n",
       "            "
      ],
      "text/plain": [
       "<IPython.core.display.HTML object>"
      ]
     },
     "metadata": {},
     "output_type": "display_data"
    },
    {
     "data": {
      "text/html": [
       "\n",
       "            <div style=\"float: left; border: 1px solid black; width:500px\">\n",
       "              <div id=\"9c83a901-efbe-42aa-a0a4-00da357ba4f1\" style=\"background-color:blue; width:0%\">&nbsp;</div>\n",
       "            </div>\n",
       "            <label id=\"c4312001-ba57-44e8-b0f2-0e9a78dd51d0\" style=\"padding-left: 10px;\" text = \"\"/>\n",
       "            "
      ],
      "text/plain": [
       "<IPython.core.display.HTML object>"
      ]
     },
     "metadata": {},
     "output_type": "display_data"
    },
    {
     "data": {
      "text/html": [
       "\n",
       "            <div style=\"float: left; border: 1px solid black; width:500px\">\n",
       "              <div id=\"bf1aa01a-8d1a-4dc1-ac4c-bd59b1a18177\" style=\"background-color:blue; width:0%\">&nbsp;</div>\n",
       "            </div>\n",
       "            <label id=\"fc1daa70-a4de-455d-9b87-cc7ffe3c587b\" style=\"padding-left: 10px;\" text = \"\"/>\n",
       "            "
      ],
      "text/plain": [
       "<IPython.core.display.HTML object>"
      ]
     },
     "metadata": {},
     "output_type": "display_data"
    },
    {
     "data": {
      "text/html": [
       "\n",
       "            <div style=\"float: left; border: 1px solid black; width:500px\">\n",
       "              <div id=\"0097aa6f-b9e6-48ca-b29d-e4aae2169594\" style=\"background-color:blue; width:0%\">&nbsp;</div>\n",
       "            </div>\n",
       "            <label id=\"40a646b7-72d3-4e44-bf50-94706c47b998\" style=\"padding-left: 10px;\" text = \"\"/>\n",
       "            "
      ],
      "text/plain": [
       "<IPython.core.display.HTML object>"
      ]
     },
     "metadata": {},
     "output_type": "display_data"
    },
    {
     "data": {
      "text/html": [
       "\n",
       "            <div style=\"float: left; border: 1px solid black; width:500px\">\n",
       "              <div id=\"ef5b7586-0f80-41df-bf74-de80053601d2\" style=\"background-color:blue; width:0%\">&nbsp;</div>\n",
       "            </div>\n",
       "            <label id=\"3e3cc121-07f1-4431-9ab2-5813ba64fc7d\" style=\"padding-left: 10px;\" text = \"\"/>\n",
       "            "
      ],
      "text/plain": [
       "<IPython.core.display.HTML object>"
      ]
     },
     "metadata": {},
     "output_type": "display_data"
    },
    {
     "data": {
      "text/html": [
       "\n",
       "            <div style=\"float: left; border: 1px solid black; width:500px\">\n",
       "              <div id=\"e05a854f-9bcb-4546-b292-131fd2bfe370\" style=\"background-color:blue; width:0%\">&nbsp;</div>\n",
       "            </div>\n",
       "            <label id=\"198f358a-202a-46bf-ab87-a5d6c52f28f5\" style=\"padding-left: 10px;\" text = \"\"/>\n",
       "            "
      ],
      "text/plain": [
       "<IPython.core.display.HTML object>"
      ]
     },
     "metadata": {},
     "output_type": "display_data"
    },
    {
     "data": {
      "text/html": [
       "\n",
       "            <div style=\"float: left; border: 1px solid black; width:500px\">\n",
       "              <div id=\"92a6b1c0-f28c-49dc-94bb-47918a1f8f87\" style=\"background-color:blue; width:0%\">&nbsp;</div>\n",
       "            </div>\n",
       "            <label id=\"1d60748a-a034-4eb5-bfbb-a4bbf590a4b2\" style=\"padding-left: 10px;\" text = \"\"/>\n",
       "            "
      ],
      "text/plain": [
       "<IPython.core.display.HTML object>"
      ]
     },
     "metadata": {},
     "output_type": "display_data"
    },
    {
     "data": {
      "text/html": [
       "\n",
       "            <div style=\"float: left; border: 1px solid black; width:500px\">\n",
       "              <div id=\"7ee346af-65e0-43f0-b30b-448bb87e0b8c\" style=\"background-color:blue; width:0%\">&nbsp;</div>\n",
       "            </div>\n",
       "            <label id=\"40183c86-596b-4b48-bbff-5499f4678551\" style=\"padding-left: 10px;\" text = \"\"/>\n",
       "            "
      ],
      "text/plain": [
       "<IPython.core.display.HTML object>"
      ]
     },
     "metadata": {},
     "output_type": "display_data"
    },
    {
     "name": "stdout",
     "output_type": "stream",
     "text": [
      "Giants\n",
      "Eagles\n"
     ]
    },
    {
     "data": {
      "text/html": [
       "\n",
       "            <div style=\"float: left; border: 1px solid black; width:500px\">\n",
       "              <div id=\"7bbbb1de-bc1a-45d3-9638-4e3e2c2dd34c\" style=\"background-color:blue; width:0%\">&nbsp;</div>\n",
       "            </div>\n",
       "            <label id=\"39664af6-c343-4d23-b32c-d30ead9a0e33\" style=\"padding-left: 10px;\" text = \"\"/>\n",
       "            "
      ],
      "text/plain": [
       "<IPython.core.display.HTML object>"
      ]
     },
     "metadata": {},
     "output_type": "display_data"
    },
    {
     "data": {
      "text/html": [
       "\n",
       "            <div style=\"float: left; border: 1px solid black; width:500px\">\n",
       "              <div id=\"59220732-0e9d-47be-aecd-290151dbf39d\" style=\"background-color:blue; width:0%\">&nbsp;</div>\n",
       "            </div>\n",
       "            <label id=\"0bdfc2df-5f1f-4e86-b95d-a18f8ebdb940\" style=\"padding-left: 10px;\" text = \"\"/>\n",
       "            "
      ],
      "text/plain": [
       "<IPython.core.display.HTML object>"
      ]
     },
     "metadata": {},
     "output_type": "display_data"
    },
    {
     "data": {
      "text/html": [
       "\n",
       "            <div style=\"float: left; border: 1px solid black; width:500px\">\n",
       "              <div id=\"dc585675-a05d-4d54-be13-c35e56b3f64d\" style=\"background-color:blue; width:0%\">&nbsp;</div>\n",
       "            </div>\n",
       "            <label id=\"bf9e1e71-09fa-46e8-a7bf-ccbfb11ecafd\" style=\"padding-left: 10px;\" text = \"\"/>\n",
       "            "
      ],
      "text/plain": [
       "<IPython.core.display.HTML object>"
      ]
     },
     "metadata": {},
     "output_type": "display_data"
    },
    {
     "data": {
      "text/html": [
       "\n",
       "            <div style=\"float: left; border: 1px solid black; width:500px\">\n",
       "              <div id=\"fb5247af-7d63-4b50-b1f9-66fba69758e9\" style=\"background-color:blue; width:0%\">&nbsp;</div>\n",
       "            </div>\n",
       "            <label id=\"dea5430a-3c7d-461b-83e0-63ea48c88d35\" style=\"padding-left: 10px;\" text = \"\"/>\n",
       "            "
      ],
      "text/plain": [
       "<IPython.core.display.HTML object>"
      ]
     },
     "metadata": {},
     "output_type": "display_data"
    },
    {
     "data": {
      "text/html": [
       "\n",
       "            <div style=\"float: left; border: 1px solid black; width:500px\">\n",
       "              <div id=\"037aea9a-1309-453b-a388-092ad744340f\" style=\"background-color:blue; width:0%\">&nbsp;</div>\n",
       "            </div>\n",
       "            <label id=\"92c62aac-04ed-425a-9f19-8a5cf1336425\" style=\"padding-left: 10px;\" text = \"\"/>\n",
       "            "
      ],
      "text/plain": [
       "<IPython.core.display.HTML object>"
      ]
     },
     "metadata": {},
     "output_type": "display_data"
    },
    {
     "data": {
      "text/html": [
       "\n",
       "            <div style=\"float: left; border: 1px solid black; width:500px\">\n",
       "              <div id=\"3d3f7ef8-d70c-4817-9167-5dc405c375dc\" style=\"background-color:blue; width:0%\">&nbsp;</div>\n",
       "            </div>\n",
       "            <label id=\"7d2a0691-6979-49d0-adf0-3c236ed5a796\" style=\"padding-left: 10px;\" text = \"\"/>\n",
       "            "
      ],
      "text/plain": [
       "<IPython.core.display.HTML object>"
      ]
     },
     "metadata": {},
     "output_type": "display_data"
    },
    {
     "data": {
      "text/html": [
       "\n",
       "            <div style=\"float: left; border: 1px solid black; width:500px\">\n",
       "              <div id=\"023eb3b4-d986-4721-8120-01a6a317cc3e\" style=\"background-color:blue; width:0%\">&nbsp;</div>\n",
       "            </div>\n",
       "            <label id=\"73aa37e1-b95a-4625-b1a4-b073cb57b8bc\" style=\"padding-left: 10px;\" text = \"\"/>\n",
       "            "
      ],
      "text/plain": [
       "<IPython.core.display.HTML object>"
      ]
     },
     "metadata": {},
     "output_type": "display_data"
    },
    {
     "data": {
      "text/html": [
       "\n",
       "            <div style=\"float: left; border: 1px solid black; width:500px\">\n",
       "              <div id=\"be3537d6-270d-443d-aba4-58f5d13657d3\" style=\"background-color:blue; width:0%\">&nbsp;</div>\n",
       "            </div>\n",
       "            <label id=\"ff7f6b99-9515-4867-bb95-5f6b18f27984\" style=\"padding-left: 10px;\" text = \"\"/>\n",
       "            "
      ],
      "text/plain": [
       "<IPython.core.display.HTML object>"
      ]
     },
     "metadata": {},
     "output_type": "display_data"
    },
    {
     "data": {
      "text/html": [
       "\n",
       "            <div style=\"float: left; border: 1px solid black; width:500px\">\n",
       "              <div id=\"da191911-5c53-4bd4-9574-79401ca33466\" style=\"background-color:blue; width:0%\">&nbsp;</div>\n",
       "            </div>\n",
       "            <label id=\"a6073da9-bc87-4f6f-ba55-d3d6398cab2d\" style=\"padding-left: 10px;\" text = \"\"/>\n",
       "            "
      ],
      "text/plain": [
       "<IPython.core.display.HTML object>"
      ]
     },
     "metadata": {},
     "output_type": "display_data"
    },
    {
     "data": {
      "text/html": [
       "\n",
       "            <div style=\"float: left; border: 1px solid black; width:500px\">\n",
       "              <div id=\"79eac399-baa0-4767-8edd-f1681ff37863\" style=\"background-color:blue; width:0%\">&nbsp;</div>\n",
       "            </div>\n",
       "            <label id=\"7474fa75-93a6-4851-91ce-cb58df8da8d1\" style=\"padding-left: 10px;\" text = \"\"/>\n",
       "            "
      ],
      "text/plain": [
       "<IPython.core.display.HTML object>"
      ]
     },
     "metadata": {},
     "output_type": "display_data"
    },
    {
     "data": {
      "text/html": [
       "\n",
       "            <div style=\"float: left; border: 1px solid black; width:500px\">\n",
       "              <div id=\"8ab03653-e4d2-426d-96b2-512876921d24\" style=\"background-color:blue; width:0%\">&nbsp;</div>\n",
       "            </div>\n",
       "            <label id=\"c0eb140f-dea7-4416-96d3-4f1d504bc06a\" style=\"padding-left: 10px;\" text = \"\"/>\n",
       "            "
      ],
      "text/plain": [
       "<IPython.core.display.HTML object>"
      ]
     },
     "metadata": {},
     "output_type": "display_data"
    },
    {
     "data": {
      "text/html": [
       "\n",
       "            <div style=\"float: left; border: 1px solid black; width:500px\">\n",
       "              <div id=\"6fb6de22-400b-4333-98b1-16039e87119d\" style=\"background-color:blue; width:0%\">&nbsp;</div>\n",
       "            </div>\n",
       "            <label id=\"68f175d6-6fd1-493a-ba65-e1c3914d891f\" style=\"padding-left: 10px;\" text = \"\"/>\n",
       "            "
      ],
      "text/plain": [
       "<IPython.core.display.HTML object>"
      ]
     },
     "metadata": {},
     "output_type": "display_data"
    },
    {
     "data": {
      "text/html": [
       "\n",
       "            <div style=\"float: left; border: 1px solid black; width:500px\">\n",
       "              <div id=\"d43b4de2-41cb-47da-9bdf-971a1120b2ae\" style=\"background-color:blue; width:0%\">&nbsp;</div>\n",
       "            </div>\n",
       "            <label id=\"3fad7daf-f67e-4f29-89af-eed1a1136dbf\" style=\"padding-left: 10px;\" text = \"\"/>\n",
       "            "
      ],
      "text/plain": [
       "<IPython.core.display.HTML object>"
      ]
     },
     "metadata": {},
     "output_type": "display_data"
    },
    {
     "data": {
      "text/html": [
       "\n",
       "            <div style=\"float: left; border: 1px solid black; width:500px\">\n",
       "              <div id=\"7e547ebf-c520-4691-9213-aa3a7258e3a5\" style=\"background-color:blue; width:0%\">&nbsp;</div>\n",
       "            </div>\n",
       "            <label id=\"94089197-3721-4b2c-af87-cf6feeb07915\" style=\"padding-left: 10px;\" text = \"\"/>\n",
       "            "
      ],
      "text/plain": [
       "<IPython.core.display.HTML object>"
      ]
     },
     "metadata": {},
     "output_type": "display_data"
    },
    {
     "data": {
      "text/html": [
       "\n",
       "            <div style=\"float: left; border: 1px solid black; width:500px\">\n",
       "              <div id=\"fd85d088-84c8-4e7b-a42d-12063d4a0fbb\" style=\"background-color:blue; width:0%\">&nbsp;</div>\n",
       "            </div>\n",
       "            <label id=\"425fa053-5a75-486c-942e-20858137191d\" style=\"padding-left: 10px;\" text = \"\"/>\n",
       "            "
      ],
      "text/plain": [
       "<IPython.core.display.HTML object>"
      ]
     },
     "metadata": {},
     "output_type": "display_data"
    },
    {
     "data": {
      "text/html": [
       "\n",
       "            <div style=\"float: left; border: 1px solid black; width:500px\">\n",
       "              <div id=\"8f990efd-2910-4389-899e-7af1dd2b0825\" style=\"background-color:blue; width:0%\">&nbsp;</div>\n",
       "            </div>\n",
       "            <label id=\"121ee792-3040-45c0-9bc6-202cf3c3e40a\" style=\"padding-left: 10px;\" text = \"\"/>\n",
       "            "
      ],
      "text/plain": [
       "<IPython.core.display.HTML object>"
      ]
     },
     "metadata": {},
     "output_type": "display_data"
    },
    {
     "data": {
      "text/html": [
       "\n",
       "            <div style=\"float: left; border: 1px solid black; width:500px\">\n",
       "              <div id=\"d45db5e8-2ab3-4412-a839-61a50d0130a8\" style=\"background-color:blue; width:0%\">&nbsp;</div>\n",
       "            </div>\n",
       "            <label id=\"2c2e7f1b-943d-4d85-a4d6-2b68e9c65e1f\" style=\"padding-left: 10px;\" text = \"\"/>\n",
       "            "
      ],
      "text/plain": [
       "<IPython.core.display.HTML object>"
      ]
     },
     "metadata": {},
     "output_type": "display_data"
    },
    {
     "data": {
      "text/html": [
       "\n",
       "            <div style=\"float: left; border: 1px solid black; width:500px\">\n",
       "              <div id=\"dd3bb7e8-0d80-43dd-a5b5-e8635d45d05d\" style=\"background-color:blue; width:0%\">&nbsp;</div>\n",
       "            </div>\n",
       "            <label id=\"565eebed-94ff-4aba-9f18-a9bc3a95a308\" style=\"padding-left: 10px;\" text = \"\"/>\n",
       "            "
      ],
      "text/plain": [
       "<IPython.core.display.HTML object>"
      ]
     },
     "metadata": {},
     "output_type": "display_data"
    },
    {
     "name": "stdout",
     "output_type": "stream",
     "text": [
      "Rams\n",
      "Vikings\n"
     ]
    },
    {
     "data": {
      "text/html": [
       "\n",
       "            <div style=\"float: left; border: 1px solid black; width:500px\">\n",
       "              <div id=\"5ac923db-39fc-4071-a54f-092b97fad484\" style=\"background-color:blue; width:0%\">&nbsp;</div>\n",
       "            </div>\n",
       "            <label id=\"71faeebf-5b46-44f2-83ad-8f6201eb391f\" style=\"padding-left: 10px;\" text = \"\"/>\n",
       "            "
      ],
      "text/plain": [
       "<IPython.core.display.HTML object>"
      ]
     },
     "metadata": {},
     "output_type": "display_data"
    },
    {
     "data": {
      "text/html": [
       "\n",
       "            <div style=\"float: left; border: 1px solid black; width:500px\">\n",
       "              <div id=\"acfff2fd-b7af-44ff-a62b-c016e78ff661\" style=\"background-color:blue; width:0%\">&nbsp;</div>\n",
       "            </div>\n",
       "            <label id=\"4e6a4641-e82b-4a7d-9218-833fcf782f93\" style=\"padding-left: 10px;\" text = \"\"/>\n",
       "            "
      ],
      "text/plain": [
       "<IPython.core.display.HTML object>"
      ]
     },
     "metadata": {},
     "output_type": "display_data"
    },
    {
     "data": {
      "text/html": [
       "\n",
       "            <div style=\"float: left; border: 1px solid black; width:500px\">\n",
       "              <div id=\"8a3fee63-c86a-4d2f-b03c-6325cdb3bcd4\" style=\"background-color:blue; width:0%\">&nbsp;</div>\n",
       "            </div>\n",
       "            <label id=\"fc0b6955-acd8-423b-92a5-4c9d0f56190a\" style=\"padding-left: 10px;\" text = \"\"/>\n",
       "            "
      ],
      "text/plain": [
       "<IPython.core.display.HTML object>"
      ]
     },
     "metadata": {},
     "output_type": "display_data"
    },
    {
     "data": {
      "text/html": [
       "\n",
       "            <div style=\"float: left; border: 1px solid black; width:500px\">\n",
       "              <div id=\"3c3a319b-973e-49b2-8da1-6ffc1fe305b0\" style=\"background-color:blue; width:0%\">&nbsp;</div>\n",
       "            </div>\n",
       "            <label id=\"0775789f-2d77-4adf-b79b-72da6b3bdf86\" style=\"padding-left: 10px;\" text = \"\"/>\n",
       "            "
      ],
      "text/plain": [
       "<IPython.core.display.HTML object>"
      ]
     },
     "metadata": {},
     "output_type": "display_data"
    },
    {
     "data": {
      "text/html": [
       "\n",
       "            <div style=\"float: left; border: 1px solid black; width:500px\">\n",
       "              <div id=\"b3cb037a-4db5-443e-b632-c6aece4b271b\" style=\"background-color:blue; width:0%\">&nbsp;</div>\n",
       "            </div>\n",
       "            <label id=\"4e9ca15c-8e80-4cc5-9641-31bd0f41fe1e\" style=\"padding-left: 10px;\" text = \"\"/>\n",
       "            "
      ],
      "text/plain": [
       "<IPython.core.display.HTML object>"
      ]
     },
     "metadata": {},
     "output_type": "display_data"
    },
    {
     "data": {
      "text/html": [
       "\n",
       "            <div style=\"float: left; border: 1px solid black; width:500px\">\n",
       "              <div id=\"3ac8d2ca-8650-4457-b32f-d5d6f4c1b32e\" style=\"background-color:blue; width:0%\">&nbsp;</div>\n",
       "            </div>\n",
       "            <label id=\"72182dca-936a-4152-9401-946cdf277ea9\" style=\"padding-left: 10px;\" text = \"\"/>\n",
       "            "
      ],
      "text/plain": [
       "<IPython.core.display.HTML object>"
      ]
     },
     "metadata": {},
     "output_type": "display_data"
    },
    {
     "data": {
      "text/html": [
       "\n",
       "            <div style=\"float: left; border: 1px solid black; width:500px\">\n",
       "              <div id=\"c8dff528-b3a0-43b8-a97e-92cd7777db4f\" style=\"background-color:blue; width:0%\">&nbsp;</div>\n",
       "            </div>\n",
       "            <label id=\"31e4fede-7ddc-461d-a7e4-f7524829fa04\" style=\"padding-left: 10px;\" text = \"\"/>\n",
       "            "
      ],
      "text/plain": [
       "<IPython.core.display.HTML object>"
      ]
     },
     "metadata": {},
     "output_type": "display_data"
    },
    {
     "data": {
      "text/html": [
       "\n",
       "            <div style=\"float: left; border: 1px solid black; width:500px\">\n",
       "              <div id=\"208d9df5-f9fc-41e7-a346-ab662fecc1cb\" style=\"background-color:blue; width:0%\">&nbsp;</div>\n",
       "            </div>\n",
       "            <label id=\"8b436ce5-5b3d-49c9-9ba1-31602879b792\" style=\"padding-left: 10px;\" text = \"\"/>\n",
       "            "
      ],
      "text/plain": [
       "<IPython.core.display.HTML object>"
      ]
     },
     "metadata": {},
     "output_type": "display_data"
    },
    {
     "data": {
      "text/html": [
       "\n",
       "            <div style=\"float: left; border: 1px solid black; width:500px\">\n",
       "              <div id=\"161f322e-538f-40d2-b265-5b982ff4e051\" style=\"background-color:blue; width:0%\">&nbsp;</div>\n",
       "            </div>\n",
       "            <label id=\"f3d7eee4-3ea9-4671-b5d5-8ffa6bd6dfbc\" style=\"padding-left: 10px;\" text = \"\"/>\n",
       "            "
      ],
      "text/plain": [
       "<IPython.core.display.HTML object>"
      ]
     },
     "metadata": {},
     "output_type": "display_data"
    },
    {
     "data": {
      "text/html": [
       "\n",
       "            <div style=\"float: left; border: 1px solid black; width:500px\">\n",
       "              <div id=\"0605f41e-719f-474e-b2f4-aa60b583ae7d\" style=\"background-color:blue; width:0%\">&nbsp;</div>\n",
       "            </div>\n",
       "            <label id=\"b18e8917-bf48-407f-bd3f-b9c27cf6115a\" style=\"padding-left: 10px;\" text = \"\"/>\n",
       "            "
      ],
      "text/plain": [
       "<IPython.core.display.HTML object>"
      ]
     },
     "metadata": {},
     "output_type": "display_data"
    },
    {
     "data": {
      "text/html": [
       "\n",
       "            <div style=\"float: left; border: 1px solid black; width:500px\">\n",
       "              <div id=\"2a39abe6-a3cd-4e3c-ad5c-22c2513ea61a\" style=\"background-color:blue; width:0%\">&nbsp;</div>\n",
       "            </div>\n",
       "            <label id=\"2be4abbb-b9a7-432b-8cc2-fed0ef04112e\" style=\"padding-left: 10px;\" text = \"\"/>\n",
       "            "
      ],
      "text/plain": [
       "<IPython.core.display.HTML object>"
      ]
     },
     "metadata": {},
     "output_type": "display_data"
    },
    {
     "data": {
      "text/html": [
       "\n",
       "            <div style=\"float: left; border: 1px solid black; width:500px\">\n",
       "              <div id=\"d148e4fe-6d00-448b-a7c6-721359e7f1c5\" style=\"background-color:blue; width:0%\">&nbsp;</div>\n",
       "            </div>\n",
       "            <label id=\"0e7c466f-3b84-4882-95b5-fbd4831a2ce9\" style=\"padding-left: 10px;\" text = \"\"/>\n",
       "            "
      ],
      "text/plain": [
       "<IPython.core.display.HTML object>"
      ]
     },
     "metadata": {},
     "output_type": "display_data"
    },
    {
     "data": {
      "text/html": [
       "\n",
       "            <div style=\"float: left; border: 1px solid black; width:500px\">\n",
       "              <div id=\"6bbd44ae-48b9-4ca9-a710-b66162c44e79\" style=\"background-color:blue; width:0%\">&nbsp;</div>\n",
       "            </div>\n",
       "            <label id=\"b1d37f16-7d3d-4f29-891f-567ee3978787\" style=\"padding-left: 10px;\" text = \"\"/>\n",
       "            "
      ],
      "text/plain": [
       "<IPython.core.display.HTML object>"
      ]
     },
     "metadata": {},
     "output_type": "display_data"
    },
    {
     "data": {
      "text/html": [
       "\n",
       "            <div style=\"float: left; border: 1px solid black; width:500px\">\n",
       "              <div id=\"7ce3ec52-ae77-4aa3-bd7b-187bcbe46f52\" style=\"background-color:blue; width:0%\">&nbsp;</div>\n",
       "            </div>\n",
       "            <label id=\"4ad236e7-4863-4d39-a7d8-b954e01cec83\" style=\"padding-left: 10px;\" text = \"\"/>\n",
       "            "
      ],
      "text/plain": [
       "<IPython.core.display.HTML object>"
      ]
     },
     "metadata": {},
     "output_type": "display_data"
    },
    {
     "data": {
      "text/html": [
       "\n",
       "            <div style=\"float: left; border: 1px solid black; width:500px\">\n",
       "              <div id=\"8e26180d-357a-4e11-9c1a-5adfef64f6dd\" style=\"background-color:blue; width:0%\">&nbsp;</div>\n",
       "            </div>\n",
       "            <label id=\"cdf94f8a-0737-40d7-96e1-3feda4b57b4d\" style=\"padding-left: 10px;\" text = \"\"/>\n",
       "            "
      ],
      "text/plain": [
       "<IPython.core.display.HTML object>"
      ]
     },
     "metadata": {},
     "output_type": "display_data"
    },
    {
     "data": {
      "text/html": [
       "\n",
       "            <div style=\"float: left; border: 1px solid black; width:500px\">\n",
       "              <div id=\"f61c32cd-1cd1-4e77-b404-4695a7855bf9\" style=\"background-color:blue; width:0%\">&nbsp;</div>\n",
       "            </div>\n",
       "            <label id=\"7a119041-ce4e-4083-91f6-b8c748ec7581\" style=\"padding-left: 10px;\" text = \"\"/>\n",
       "            "
      ],
      "text/plain": [
       "<IPython.core.display.HTML object>"
      ]
     },
     "metadata": {},
     "output_type": "display_data"
    },
    {
     "data": {
      "text/html": [
       "\n",
       "            <div style=\"float: left; border: 1px solid black; width:500px\">\n",
       "              <div id=\"6c48f8df-d347-4c9e-8c48-00ed0412961d\" style=\"background-color:blue; width:0%\">&nbsp;</div>\n",
       "            </div>\n",
       "            <label id=\"38041bba-48e2-4241-a585-d7f0300ab5f3\" style=\"padding-left: 10px;\" text = \"\"/>\n",
       "            "
      ],
      "text/plain": [
       "<IPython.core.display.HTML object>"
      ]
     },
     "metadata": {},
     "output_type": "display_data"
    },
    {
     "data": {
      "text/html": [
       "\n",
       "            <div style=\"float: left; border: 1px solid black; width:500px\">\n",
       "              <div id=\"2a1b3e9f-1938-4df5-8fb3-05236d052f26\" style=\"background-color:blue; width:0%\">&nbsp;</div>\n",
       "            </div>\n",
       "            <label id=\"6e3db5e4-caf6-4101-881c-3571a136e3e6\" style=\"padding-left: 10px;\" text = \"\"/>\n",
       "            "
      ],
      "text/plain": [
       "<IPython.core.display.HTML object>"
      ]
     },
     "metadata": {},
     "output_type": "display_data"
    },
    {
     "name": "stdout",
     "output_type": "stream",
     "text": [
      "Bills\n",
      "Patriots\n"
     ]
    },
    {
     "data": {
      "text/html": [
       "\n",
       "            <div style=\"float: left; border: 1px solid black; width:500px\">\n",
       "              <div id=\"a877d4db-8618-43ad-818f-26e46028bb0a\" style=\"background-color:blue; width:0%\">&nbsp;</div>\n",
       "            </div>\n",
       "            <label id=\"8b8b98f2-c928-43be-a66e-51bcb4ed61e1\" style=\"padding-left: 10px;\" text = \"\"/>\n",
       "            "
      ],
      "text/plain": [
       "<IPython.core.display.HTML object>"
      ]
     },
     "metadata": {},
     "output_type": "display_data"
    },
    {
     "data": {
      "text/html": [
       "\n",
       "            <div style=\"float: left; border: 1px solid black; width:500px\">\n",
       "              <div id=\"a36b1a48-fede-41f8-b5aa-6898065b4b27\" style=\"background-color:blue; width:0%\">&nbsp;</div>\n",
       "            </div>\n",
       "            <label id=\"c1948a78-0933-426d-aab0-ce20314d17cf\" style=\"padding-left: 10px;\" text = \"\"/>\n",
       "            "
      ],
      "text/plain": [
       "<IPython.core.display.HTML object>"
      ]
     },
     "metadata": {},
     "output_type": "display_data"
    },
    {
     "data": {
      "text/html": [
       "\n",
       "            <div style=\"float: left; border: 1px solid black; width:500px\">\n",
       "              <div id=\"1f8a1f54-14e1-48b3-9232-46940fe8d313\" style=\"background-color:blue; width:0%\">&nbsp;</div>\n",
       "            </div>\n",
       "            <label id=\"49e9b00d-2271-47ba-a511-7a67993fd2de\" style=\"padding-left: 10px;\" text = \"\"/>\n",
       "            "
      ],
      "text/plain": [
       "<IPython.core.display.HTML object>"
      ]
     },
     "metadata": {},
     "output_type": "display_data"
    },
    {
     "data": {
      "text/html": [
       "\n",
       "            <div style=\"float: left; border: 1px solid black; width:500px\">\n",
       "              <div id=\"fbbdfe1a-af22-41cb-9a32-a81a2e8cd8be\" style=\"background-color:blue; width:0%\">&nbsp;</div>\n",
       "            </div>\n",
       "            <label id=\"7f840b53-0b9e-4f45-9d6a-1f906db46724\" style=\"padding-left: 10px;\" text = \"\"/>\n",
       "            "
      ],
      "text/plain": [
       "<IPython.core.display.HTML object>"
      ]
     },
     "metadata": {},
     "output_type": "display_data"
    },
    {
     "data": {
      "text/html": [
       "\n",
       "            <div style=\"float: left; border: 1px solid black; width:500px\">\n",
       "              <div id=\"3f159d68-9bbb-4320-803f-d54383289d7e\" style=\"background-color:blue; width:0%\">&nbsp;</div>\n",
       "            </div>\n",
       "            <label id=\"5947ec3b-49ae-4de4-bc5b-1cd8aa64b535\" style=\"padding-left: 10px;\" text = \"\"/>\n",
       "            "
      ],
      "text/plain": [
       "<IPython.core.display.HTML object>"
      ]
     },
     "metadata": {},
     "output_type": "display_data"
    },
    {
     "data": {
      "text/html": [
       "\n",
       "            <div style=\"float: left; border: 1px solid black; width:500px\">\n",
       "              <div id=\"12e080ca-611d-45e3-a76a-34cad84926c1\" style=\"background-color:blue; width:0%\">&nbsp;</div>\n",
       "            </div>\n",
       "            <label id=\"63d3b40c-1f84-4b47-b58d-ceeebc6a2936\" style=\"padding-left: 10px;\" text = \"\"/>\n",
       "            "
      ],
      "text/plain": [
       "<IPython.core.display.HTML object>"
      ]
     },
     "metadata": {},
     "output_type": "display_data"
    },
    {
     "data": {
      "text/html": [
       "\n",
       "            <div style=\"float: left; border: 1px solid black; width:500px\">\n",
       "              <div id=\"d8d8dbde-1095-48e6-8392-32bb82acee29\" style=\"background-color:blue; width:0%\">&nbsp;</div>\n",
       "            </div>\n",
       "            <label id=\"4b955258-78be-48e8-8238-bb16745de036\" style=\"padding-left: 10px;\" text = \"\"/>\n",
       "            "
      ],
      "text/plain": [
       "<IPython.core.display.HTML object>"
      ]
     },
     "metadata": {},
     "output_type": "display_data"
    },
    {
     "data": {
      "text/html": [
       "\n",
       "            <div style=\"float: left; border: 1px solid black; width:500px\">\n",
       "              <div id=\"ddeef152-cfc9-4f9c-9c19-900ba24a5bac\" style=\"background-color:blue; width:0%\">&nbsp;</div>\n",
       "            </div>\n",
       "            <label id=\"8f2dbe36-945f-4fef-932d-7852d8d37ea6\" style=\"padding-left: 10px;\" text = \"\"/>\n",
       "            "
      ],
      "text/plain": [
       "<IPython.core.display.HTML object>"
      ]
     },
     "metadata": {},
     "output_type": "display_data"
    },
    {
     "data": {
      "text/html": [
       "\n",
       "            <div style=\"float: left; border: 1px solid black; width:500px\">\n",
       "              <div id=\"f30f12bc-4af8-4556-8b0d-f13e395a03ed\" style=\"background-color:blue; width:0%\">&nbsp;</div>\n",
       "            </div>\n",
       "            <label id=\"5e83c6d2-02df-4423-a159-9ea04bcfdbaf\" style=\"padding-left: 10px;\" text = \"\"/>\n",
       "            "
      ],
      "text/plain": [
       "<IPython.core.display.HTML object>"
      ]
     },
     "metadata": {},
     "output_type": "display_data"
    },
    {
     "data": {
      "text/html": [
       "\n",
       "            <div style=\"float: left; border: 1px solid black; width:500px\">\n",
       "              <div id=\"6c936081-bbef-4b43-a9fa-04dfd6a45057\" style=\"background-color:blue; width:0%\">&nbsp;</div>\n",
       "            </div>\n",
       "            <label id=\"f1957283-86d1-4833-b962-49fc105b9974\" style=\"padding-left: 10px;\" text = \"\"/>\n",
       "            "
      ],
      "text/plain": [
       "<IPython.core.display.HTML object>"
      ]
     },
     "metadata": {},
     "output_type": "display_data"
    },
    {
     "data": {
      "text/html": [
       "\n",
       "            <div style=\"float: left; border: 1px solid black; width:500px\">\n",
       "              <div id=\"bd85e5bb-7855-4e19-80f0-377eb6885ea1\" style=\"background-color:blue; width:0%\">&nbsp;</div>\n",
       "            </div>\n",
       "            <label id=\"c2f7c993-4970-41c1-b3c2-1c67acff7b89\" style=\"padding-left: 10px;\" text = \"\"/>\n",
       "            "
      ],
      "text/plain": [
       "<IPython.core.display.HTML object>"
      ]
     },
     "metadata": {},
     "output_type": "display_data"
    },
    {
     "data": {
      "text/html": [
       "\n",
       "            <div style=\"float: left; border: 1px solid black; width:500px\">\n",
       "              <div id=\"0f870b7d-2174-481c-ac84-9884f775df42\" style=\"background-color:blue; width:0%\">&nbsp;</div>\n",
       "            </div>\n",
       "            <label id=\"9ec2c22b-8a3c-4581-ac75-1d78c2c88d63\" style=\"padding-left: 10px;\" text = \"\"/>\n",
       "            "
      ],
      "text/plain": [
       "<IPython.core.display.HTML object>"
      ]
     },
     "metadata": {},
     "output_type": "display_data"
    },
    {
     "data": {
      "text/html": [
       "\n",
       "            <div style=\"float: left; border: 1px solid black; width:500px\">\n",
       "              <div id=\"a4c45eb2-e871-41ee-921b-aeb7e96c448a\" style=\"background-color:blue; width:0%\">&nbsp;</div>\n",
       "            </div>\n",
       "            <label id=\"081f1194-3c8f-4fdd-81b3-b370694c5559\" style=\"padding-left: 10px;\" text = \"\"/>\n",
       "            "
      ],
      "text/plain": [
       "<IPython.core.display.HTML object>"
      ]
     },
     "metadata": {},
     "output_type": "display_data"
    },
    {
     "data": {
      "text/html": [
       "\n",
       "            <div style=\"float: left; border: 1px solid black; width:500px\">\n",
       "              <div id=\"c657bbc4-4f50-40c8-9104-24415df982b2\" style=\"background-color:blue; width:0%\">&nbsp;</div>\n",
       "            </div>\n",
       "            <label id=\"24d9a847-fb77-4f7a-afb7-f6548114529f\" style=\"padding-left: 10px;\" text = \"\"/>\n",
       "            "
      ],
      "text/plain": [
       "<IPython.core.display.HTML object>"
      ]
     },
     "metadata": {},
     "output_type": "display_data"
    },
    {
     "data": {
      "text/html": [
       "\n",
       "            <div style=\"float: left; border: 1px solid black; width:500px\">\n",
       "              <div id=\"6a600990-35d3-4a26-b224-55b01239bbe4\" style=\"background-color:blue; width:0%\">&nbsp;</div>\n",
       "            </div>\n",
       "            <label id=\"ffb5b80d-d62c-48c7-8fe1-ef6aa75afffd\" style=\"padding-left: 10px;\" text = \"\"/>\n",
       "            "
      ],
      "text/plain": [
       "<IPython.core.display.HTML object>"
      ]
     },
     "metadata": {},
     "output_type": "display_data"
    },
    {
     "data": {
      "text/html": [
       "\n",
       "            <div style=\"float: left; border: 1px solid black; width:500px\">\n",
       "              <div id=\"6df9f7cd-c23a-4138-8ce0-fc0b54cb515e\" style=\"background-color:blue; width:0%\">&nbsp;</div>\n",
       "            </div>\n",
       "            <label id=\"ae15a2ef-a749-4116-80f9-04b94b2b42e4\" style=\"padding-left: 10px;\" text = \"\"/>\n",
       "            "
      ],
      "text/plain": [
       "<IPython.core.display.HTML object>"
      ]
     },
     "metadata": {},
     "output_type": "display_data"
    },
    {
     "data": {
      "text/html": [
       "\n",
       "            <div style=\"float: left; border: 1px solid black; width:500px\">\n",
       "              <div id=\"dccba6b6-c86a-4413-9478-8744682e0242\" style=\"background-color:blue; width:0%\">&nbsp;</div>\n",
       "            </div>\n",
       "            <label id=\"3b9b8671-c1d4-46dd-b6e0-4856bf8ef49e\" style=\"padding-left: 10px;\" text = \"\"/>\n",
       "            "
      ],
      "text/plain": [
       "<IPython.core.display.HTML object>"
      ]
     },
     "metadata": {},
     "output_type": "display_data"
    },
    {
     "data": {
      "text/html": [
       "\n",
       "            <div style=\"float: left; border: 1px solid black; width:500px\">\n",
       "              <div id=\"55cabf62-721c-46cc-bdcc-5f67ee651a3e\" style=\"background-color:blue; width:0%\">&nbsp;</div>\n",
       "            </div>\n",
       "            <label id=\"a1219892-885b-4d01-8649-07eadad08b72\" style=\"padding-left: 10px;\" text = \"\"/>\n",
       "            "
      ],
      "text/plain": [
       "<IPython.core.display.HTML object>"
      ]
     },
     "metadata": {},
     "output_type": "display_data"
    },
    {
     "name": "stdout",
     "output_type": "stream",
     "text": [
      "Buccaneers\n",
      "Panthers\n"
     ]
    },
    {
     "data": {
      "text/html": [
       "\n",
       "            <div style=\"float: left; border: 1px solid black; width:500px\">\n",
       "              <div id=\"492b6221-c582-4b1f-8f98-e51ec7b4c80a\" style=\"background-color:blue; width:0%\">&nbsp;</div>\n",
       "            </div>\n",
       "            <label id=\"3555d02f-2851-4822-906b-6ec3ff671ed8\" style=\"padding-left: 10px;\" text = \"\"/>\n",
       "            "
      ],
      "text/plain": [
       "<IPython.core.display.HTML object>"
      ]
     },
     "metadata": {},
     "output_type": "display_data"
    },
    {
     "data": {
      "text/html": [
       "\n",
       "            <div style=\"float: left; border: 1px solid black; width:500px\">\n",
       "              <div id=\"4467b0d3-6bee-41f1-9844-e9042a0780c4\" style=\"background-color:blue; width:0%\">&nbsp;</div>\n",
       "            </div>\n",
       "            <label id=\"966eeecf-0626-4f70-ad7e-5335fa95008b\" style=\"padding-left: 10px;\" text = \"\"/>\n",
       "            "
      ],
      "text/plain": [
       "<IPython.core.display.HTML object>"
      ]
     },
     "metadata": {},
     "output_type": "display_data"
    },
    {
     "data": {
      "text/html": [
       "\n",
       "            <div style=\"float: left; border: 1px solid black; width:500px\">\n",
       "              <div id=\"7a6fa177-d3c0-422d-b530-aec158f18eeb\" style=\"background-color:blue; width:0%\">&nbsp;</div>\n",
       "            </div>\n",
       "            <label id=\"3f2b2df0-1fe8-4baf-822a-242c7328349b\" style=\"padding-left: 10px;\" text = \"\"/>\n",
       "            "
      ],
      "text/plain": [
       "<IPython.core.display.HTML object>"
      ]
     },
     "metadata": {},
     "output_type": "display_data"
    },
    {
     "data": {
      "text/html": [
       "\n",
       "            <div style=\"float: left; border: 1px solid black; width:500px\">\n",
       "              <div id=\"f94f1608-113f-44ab-9b01-fc23e8843792\" style=\"background-color:blue; width:0%\">&nbsp;</div>\n",
       "            </div>\n",
       "            <label id=\"961961a5-878d-432a-8092-2ec77e338cc0\" style=\"padding-left: 10px;\" text = \"\"/>\n",
       "            "
      ],
      "text/plain": [
       "<IPython.core.display.HTML object>"
      ]
     },
     "metadata": {},
     "output_type": "display_data"
    },
    {
     "data": {
      "text/html": [
       "\n",
       "            <div style=\"float: left; border: 1px solid black; width:500px\">\n",
       "              <div id=\"386e3d3c-e6af-4e66-b8e7-523dc0b73ded\" style=\"background-color:blue; width:0%\">&nbsp;</div>\n",
       "            </div>\n",
       "            <label id=\"7d1f0c2c-6e8b-41b1-900f-ebe097d97489\" style=\"padding-left: 10px;\" text = \"\"/>\n",
       "            "
      ],
      "text/plain": [
       "<IPython.core.display.HTML object>"
      ]
     },
     "metadata": {},
     "output_type": "display_data"
    },
    {
     "data": {
      "text/html": [
       "\n",
       "            <div style=\"float: left; border: 1px solid black; width:500px\">\n",
       "              <div id=\"808720ad-fb0c-4cd9-adbf-3416cfcf4f8e\" style=\"background-color:blue; width:0%\">&nbsp;</div>\n",
       "            </div>\n",
       "            <label id=\"ff953830-bd99-4f90-b9e0-1dc97626ed04\" style=\"padding-left: 10px;\" text = \"\"/>\n",
       "            "
      ],
      "text/plain": [
       "<IPython.core.display.HTML object>"
      ]
     },
     "metadata": {},
     "output_type": "display_data"
    },
    {
     "data": {
      "text/html": [
       "\n",
       "            <div style=\"float: left; border: 1px solid black; width:500px\">\n",
       "              <div id=\"0a038264-9a8a-4651-be2c-2f55f9a4dee0\" style=\"background-color:blue; width:0%\">&nbsp;</div>\n",
       "            </div>\n",
       "            <label id=\"7e0598f6-1e11-4a38-a01c-62be223bc8fb\" style=\"padding-left: 10px;\" text = \"\"/>\n",
       "            "
      ],
      "text/plain": [
       "<IPython.core.display.HTML object>"
      ]
     },
     "metadata": {},
     "output_type": "display_data"
    },
    {
     "data": {
      "text/html": [
       "\n",
       "            <div style=\"float: left; border: 1px solid black; width:500px\">\n",
       "              <div id=\"08ba237c-2c3c-4f6e-b3ca-3bdd6effa08e\" style=\"background-color:blue; width:0%\">&nbsp;</div>\n",
       "            </div>\n",
       "            <label id=\"3ce502c6-4fc2-4a78-b4f1-d50ffb0f5acc\" style=\"padding-left: 10px;\" text = \"\"/>\n",
       "            "
      ],
      "text/plain": [
       "<IPython.core.display.HTML object>"
      ]
     },
     "metadata": {},
     "output_type": "display_data"
    },
    {
     "data": {
      "text/html": [
       "\n",
       "            <div style=\"float: left; border: 1px solid black; width:500px\">\n",
       "              <div id=\"0088cc64-6389-4c25-a1dd-1adce973b1ab\" style=\"background-color:blue; width:0%\">&nbsp;</div>\n",
       "            </div>\n",
       "            <label id=\"adb9802e-274a-4d0d-9c13-99729a968594\" style=\"padding-left: 10px;\" text = \"\"/>\n",
       "            "
      ],
      "text/plain": [
       "<IPython.core.display.HTML object>"
      ]
     },
     "metadata": {},
     "output_type": "display_data"
    },
    {
     "data": {
      "text/html": [
       "\n",
       "            <div style=\"float: left; border: 1px solid black; width:500px\">\n",
       "              <div id=\"41d0da82-48f1-49d2-90b6-368173c2322b\" style=\"background-color:blue; width:0%\">&nbsp;</div>\n",
       "            </div>\n",
       "            <label id=\"ce29f168-f040-48b1-8e93-d05dc5dcf481\" style=\"padding-left: 10px;\" text = \"\"/>\n",
       "            "
      ],
      "text/plain": [
       "<IPython.core.display.HTML object>"
      ]
     },
     "metadata": {},
     "output_type": "display_data"
    },
    {
     "data": {
      "text/html": [
       "\n",
       "            <div style=\"float: left; border: 1px solid black; width:500px\">\n",
       "              <div id=\"9afc1f36-a3f0-4540-8e35-492cbf3f40ac\" style=\"background-color:blue; width:0%\">&nbsp;</div>\n",
       "            </div>\n",
       "            <label id=\"21d9e53b-2fa5-4ec7-8673-adac0dd7f8e8\" style=\"padding-left: 10px;\" text = \"\"/>\n",
       "            "
      ],
      "text/plain": [
       "<IPython.core.display.HTML object>"
      ]
     },
     "metadata": {},
     "output_type": "display_data"
    },
    {
     "data": {
      "text/html": [
       "\n",
       "            <div style=\"float: left; border: 1px solid black; width:500px\">\n",
       "              <div id=\"366dda74-bfa4-4a96-b70f-6385c1d760b8\" style=\"background-color:blue; width:0%\">&nbsp;</div>\n",
       "            </div>\n",
       "            <label id=\"666261ab-d178-435a-a2d0-b2c026378819\" style=\"padding-left: 10px;\" text = \"\"/>\n",
       "            "
      ],
      "text/plain": [
       "<IPython.core.display.HTML object>"
      ]
     },
     "metadata": {},
     "output_type": "display_data"
    },
    {
     "data": {
      "text/html": [
       "\n",
       "            <div style=\"float: left; border: 1px solid black; width:500px\">\n",
       "              <div id=\"c68a094e-c283-4f6c-b6dc-017853045022\" style=\"background-color:blue; width:0%\">&nbsp;</div>\n",
       "            </div>\n",
       "            <label id=\"cd62dec3-a75a-4503-b5a1-11f3175f5ca7\" style=\"padding-left: 10px;\" text = \"\"/>\n",
       "            "
      ],
      "text/plain": [
       "<IPython.core.display.HTML object>"
      ]
     },
     "metadata": {},
     "output_type": "display_data"
    },
    {
     "data": {
      "text/html": [
       "\n",
       "            <div style=\"float: left; border: 1px solid black; width:500px\">\n",
       "              <div id=\"02a0711e-01f0-4fc2-bd2d-9ae07bd123ce\" style=\"background-color:blue; width:0%\">&nbsp;</div>\n",
       "            </div>\n",
       "            <label id=\"a0e6a3ad-bfb7-421b-a220-0edb72dc1be3\" style=\"padding-left: 10px;\" text = \"\"/>\n",
       "            "
      ],
      "text/plain": [
       "<IPython.core.display.HTML object>"
      ]
     },
     "metadata": {},
     "output_type": "display_data"
    },
    {
     "data": {
      "text/html": [
       "\n",
       "            <div style=\"float: left; border: 1px solid black; width:500px\">\n",
       "              <div id=\"0882380c-465e-40cb-b323-c36996a21cf2\" style=\"background-color:blue; width:0%\">&nbsp;</div>\n",
       "            </div>\n",
       "            <label id=\"492c4573-cc01-4420-8a98-cb29036acc4d\" style=\"padding-left: 10px;\" text = \"\"/>\n",
       "            "
      ],
      "text/plain": [
       "<IPython.core.display.HTML object>"
      ]
     },
     "metadata": {},
     "output_type": "display_data"
    },
    {
     "data": {
      "text/html": [
       "\n",
       "            <div style=\"float: left; border: 1px solid black; width:500px\">\n",
       "              <div id=\"d371c536-6f4c-4d18-94a8-0aa2d7b23e86\" style=\"background-color:blue; width:0%\">&nbsp;</div>\n",
       "            </div>\n",
       "            <label id=\"cea122e8-c5a0-40c8-a79d-41e0a5a3782d\" style=\"padding-left: 10px;\" text = \"\"/>\n",
       "            "
      ],
      "text/plain": [
       "<IPython.core.display.HTML object>"
      ]
     },
     "metadata": {},
     "output_type": "display_data"
    },
    {
     "data": {
      "text/html": [
       "\n",
       "            <div style=\"float: left; border: 1px solid black; width:500px\">\n",
       "              <div id=\"75a4183f-eb8b-4abd-9b55-2c1c0bde8ccb\" style=\"background-color:blue; width:0%\">&nbsp;</div>\n",
       "            </div>\n",
       "            <label id=\"7c7cf8f6-cdfe-45ee-8cc5-f7b11743ab4d\" style=\"padding-left: 10px;\" text = \"\"/>\n",
       "            "
      ],
      "text/plain": [
       "<IPython.core.display.HTML object>"
      ]
     },
     "metadata": {},
     "output_type": "display_data"
    },
    {
     "data": {
      "text/html": [
       "\n",
       "            <div style=\"float: left; border: 1px solid black; width:500px\">\n",
       "              <div id=\"e9d35f53-8aec-4d85-b48f-75d462f01d3f\" style=\"background-color:blue; width:0%\">&nbsp;</div>\n",
       "            </div>\n",
       "            <label id=\"8e649162-38c9-45f6-b387-09850ea7651b\" style=\"padding-left: 10px;\" text = \"\"/>\n",
       "            "
      ],
      "text/plain": [
       "<IPython.core.display.HTML object>"
      ]
     },
     "metadata": {},
     "output_type": "display_data"
    },
    {
     "name": "stdout",
     "output_type": "stream",
     "text": [
      "Jaguars\n",
      "Jets\n"
     ]
    },
    {
     "data": {
      "text/html": [
       "\n",
       "            <div style=\"float: left; border: 1px solid black; width:500px\">\n",
       "              <div id=\"0c473e58-583a-46a9-8e35-a231a0076dd1\" style=\"background-color:blue; width:0%\">&nbsp;</div>\n",
       "            </div>\n",
       "            <label id=\"5637a530-bfc4-43b0-9ff7-8859534f7c76\" style=\"padding-left: 10px;\" text = \"\"/>\n",
       "            "
      ],
      "text/plain": [
       "<IPython.core.display.HTML object>"
      ]
     },
     "metadata": {},
     "output_type": "display_data"
    },
    {
     "data": {
      "text/html": [
       "\n",
       "            <div style=\"float: left; border: 1px solid black; width:500px\">\n",
       "              <div id=\"dfba3ce7-dfe2-46f8-aef4-06e54584f97d\" style=\"background-color:blue; width:0%\">&nbsp;</div>\n",
       "            </div>\n",
       "            <label id=\"f9d36097-75d1-4dbc-8a88-f65eb2459b10\" style=\"padding-left: 10px;\" text = \"\"/>\n",
       "            "
      ],
      "text/plain": [
       "<IPython.core.display.HTML object>"
      ]
     },
     "metadata": {},
     "output_type": "display_data"
    },
    {
     "data": {
      "text/html": [
       "\n",
       "            <div style=\"float: left; border: 1px solid black; width:500px\">\n",
       "              <div id=\"28adc41f-303c-4b07-ad4a-5bc7ab652a60\" style=\"background-color:blue; width:0%\">&nbsp;</div>\n",
       "            </div>\n",
       "            <label id=\"c9de0dff-01b3-4574-91ef-5dc16c2b28f8\" style=\"padding-left: 10px;\" text = \"\"/>\n",
       "            "
      ],
      "text/plain": [
       "<IPython.core.display.HTML object>"
      ]
     },
     "metadata": {},
     "output_type": "display_data"
    },
    {
     "data": {
      "text/html": [
       "\n",
       "            <div style=\"float: left; border: 1px solid black; width:500px\">\n",
       "              <div id=\"da6e87f1-1c76-4c0d-82d0-c43eadce6ff6\" style=\"background-color:blue; width:0%\">&nbsp;</div>\n",
       "            </div>\n",
       "            <label id=\"639aa288-a707-4d9e-b160-62fb2206e08a\" style=\"padding-left: 10px;\" text = \"\"/>\n",
       "            "
      ],
      "text/plain": [
       "<IPython.core.display.HTML object>"
      ]
     },
     "metadata": {},
     "output_type": "display_data"
    },
    {
     "data": {
      "text/html": [
       "\n",
       "            <div style=\"float: left; border: 1px solid black; width:500px\">\n",
       "              <div id=\"77098abe-5b12-470f-aa1a-b7f554a1bb7f\" style=\"background-color:blue; width:0%\">&nbsp;</div>\n",
       "            </div>\n",
       "            <label id=\"0ff01546-167d-4c8b-9160-6a281e1a1ba3\" style=\"padding-left: 10px;\" text = \"\"/>\n",
       "            "
      ],
      "text/plain": [
       "<IPython.core.display.HTML object>"
      ]
     },
     "metadata": {},
     "output_type": "display_data"
    },
    {
     "data": {
      "text/html": [
       "\n",
       "            <div style=\"float: left; border: 1px solid black; width:500px\">\n",
       "              <div id=\"604ce86d-2da0-48e3-aeea-05b6b705b274\" style=\"background-color:blue; width:0%\">&nbsp;</div>\n",
       "            </div>\n",
       "            <label id=\"38b238f2-76a9-4530-8bdc-4eb17edb1531\" style=\"padding-left: 10px;\" text = \"\"/>\n",
       "            "
      ],
      "text/plain": [
       "<IPython.core.display.HTML object>"
      ]
     },
     "metadata": {},
     "output_type": "display_data"
    },
    {
     "data": {
      "text/html": [
       "\n",
       "            <div style=\"float: left; border: 1px solid black; width:500px\">\n",
       "              <div id=\"87573683-1833-429a-8498-197eb2dfd590\" style=\"background-color:blue; width:0%\">&nbsp;</div>\n",
       "            </div>\n",
       "            <label id=\"a6f41418-80a2-4033-84d5-8a3930b54501\" style=\"padding-left: 10px;\" text = \"\"/>\n",
       "            "
      ],
      "text/plain": [
       "<IPython.core.display.HTML object>"
      ]
     },
     "metadata": {},
     "output_type": "display_data"
    },
    {
     "data": {
      "text/html": [
       "\n",
       "            <div style=\"float: left; border: 1px solid black; width:500px\">\n",
       "              <div id=\"c9be5e68-1a3d-4e98-9f61-9db13355ec0c\" style=\"background-color:blue; width:0%\">&nbsp;</div>\n",
       "            </div>\n",
       "            <label id=\"d95b47ae-ad3b-4199-8add-0a6e1cfba768\" style=\"padding-left: 10px;\" text = \"\"/>\n",
       "            "
      ],
      "text/plain": [
       "<IPython.core.display.HTML object>"
      ]
     },
     "metadata": {},
     "output_type": "display_data"
    },
    {
     "data": {
      "text/html": [
       "\n",
       "            <div style=\"float: left; border: 1px solid black; width:500px\">\n",
       "              <div id=\"4d777f3a-85ee-49ee-8745-1dbaacc4143d\" style=\"background-color:blue; width:0%\">&nbsp;</div>\n",
       "            </div>\n",
       "            <label id=\"4c739509-a1fb-4368-9d8f-3dd6ac692a70\" style=\"padding-left: 10px;\" text = \"\"/>\n",
       "            "
      ],
      "text/plain": [
       "<IPython.core.display.HTML object>"
      ]
     },
     "metadata": {},
     "output_type": "display_data"
    },
    {
     "data": {
      "text/html": [
       "\n",
       "            <div style=\"float: left; border: 1px solid black; width:500px\">\n",
       "              <div id=\"a878e416-97d4-40d0-b437-49fd1747eebe\" style=\"background-color:blue; width:0%\">&nbsp;</div>\n",
       "            </div>\n",
       "            <label id=\"11fec480-85e2-4fd5-be2f-6e042b25a6e1\" style=\"padding-left: 10px;\" text = \"\"/>\n",
       "            "
      ],
      "text/plain": [
       "<IPython.core.display.HTML object>"
      ]
     },
     "metadata": {},
     "output_type": "display_data"
    },
    {
     "data": {
      "text/html": [
       "\n",
       "            <div style=\"float: left; border: 1px solid black; width:500px\">\n",
       "              <div id=\"6448b574-9537-4b96-8955-3c41b90a764a\" style=\"background-color:blue; width:0%\">&nbsp;</div>\n",
       "            </div>\n",
       "            <label id=\"903e4ad8-f4dd-4107-bd3c-0fddf3986f05\" style=\"padding-left: 10px;\" text = \"\"/>\n",
       "            "
      ],
      "text/plain": [
       "<IPython.core.display.HTML object>"
      ]
     },
     "metadata": {},
     "output_type": "display_data"
    },
    {
     "data": {
      "text/html": [
       "\n",
       "            <div style=\"float: left; border: 1px solid black; width:500px\">\n",
       "              <div id=\"65377c9b-a879-45f0-bb17-c53e891482c1\" style=\"background-color:blue; width:0%\">&nbsp;</div>\n",
       "            </div>\n",
       "            <label id=\"bbb5c371-1393-4658-aeb2-ed1c476f6418\" style=\"padding-left: 10px;\" text = \"\"/>\n",
       "            "
      ],
      "text/plain": [
       "<IPython.core.display.HTML object>"
      ]
     },
     "metadata": {},
     "output_type": "display_data"
    },
    {
     "data": {
      "text/html": [
       "\n",
       "            <div style=\"float: left; border: 1px solid black; width:500px\">\n",
       "              <div id=\"f24401f7-470a-4820-ad35-8b89fb4dc616\" style=\"background-color:blue; width:0%\">&nbsp;</div>\n",
       "            </div>\n",
       "            <label id=\"b22fba5f-4082-4a87-a50a-eda2c2e7b66c\" style=\"padding-left: 10px;\" text = \"\"/>\n",
       "            "
      ],
      "text/plain": [
       "<IPython.core.display.HTML object>"
      ]
     },
     "metadata": {},
     "output_type": "display_data"
    },
    {
     "data": {
      "text/html": [
       "\n",
       "            <div style=\"float: left; border: 1px solid black; width:500px\">\n",
       "              <div id=\"1f3cd353-250f-410b-bd5c-1a112254cbf0\" style=\"background-color:blue; width:0%\">&nbsp;</div>\n",
       "            </div>\n",
       "            <label id=\"a884a0ae-68a2-4a1e-ac78-9acc348dd678\" style=\"padding-left: 10px;\" text = \"\"/>\n",
       "            "
      ],
      "text/plain": [
       "<IPython.core.display.HTML object>"
      ]
     },
     "metadata": {},
     "output_type": "display_data"
    },
    {
     "data": {
      "text/html": [
       "\n",
       "            <div style=\"float: left; border: 1px solid black; width:500px\">\n",
       "              <div id=\"46abbe36-b735-4148-8d27-2df9bf2d5c14\" style=\"background-color:blue; width:0%\">&nbsp;</div>\n",
       "            </div>\n",
       "            <label id=\"68b25a7c-bae8-4253-84ea-c0998e1ed4d2\" style=\"padding-left: 10px;\" text = \"\"/>\n",
       "            "
      ],
      "text/plain": [
       "<IPython.core.display.HTML object>"
      ]
     },
     "metadata": {},
     "output_type": "display_data"
    },
    {
     "data": {
      "text/html": [
       "\n",
       "            <div style=\"float: left; border: 1px solid black; width:500px\">\n",
       "              <div id=\"92e12dbc-076c-471e-b541-bd5a749ea44f\" style=\"background-color:blue; width:0%\">&nbsp;</div>\n",
       "            </div>\n",
       "            <label id=\"33c6bbcb-0a52-473a-baad-76cd33384503\" style=\"padding-left: 10px;\" text = \"\"/>\n",
       "            "
      ],
      "text/plain": [
       "<IPython.core.display.HTML object>"
      ]
     },
     "metadata": {},
     "output_type": "display_data"
    },
    {
     "data": {
      "text/html": [
       "\n",
       "            <div style=\"float: left; border: 1px solid black; width:500px\">\n",
       "              <div id=\"3a8ce813-ce38-4ba0-92e6-cfebec77ea23\" style=\"background-color:blue; width:0%\">&nbsp;</div>\n",
       "            </div>\n",
       "            <label id=\"6df4d701-7ef0-4c56-bc9d-e1407b32d04c\" style=\"padding-left: 10px;\" text = \"\"/>\n",
       "            "
      ],
      "text/plain": [
       "<IPython.core.display.HTML object>"
      ]
     },
     "metadata": {},
     "output_type": "display_data"
    },
    {
     "data": {
      "text/html": [
       "\n",
       "            <div style=\"float: left; border: 1px solid black; width:500px\">\n",
       "              <div id=\"9bad1948-131c-4687-86a9-123c4684f545\" style=\"background-color:blue; width:0%\">&nbsp;</div>\n",
       "            </div>\n",
       "            <label id=\"92c64b75-0f43-4b42-86ab-0053932dea49\" style=\"padding-left: 10px;\" text = \"\"/>\n",
       "            "
      ],
      "text/plain": [
       "<IPython.core.display.HTML object>"
      ]
     },
     "metadata": {},
     "output_type": "display_data"
    },
    {
     "name": "stdout",
     "output_type": "stream",
     "text": [
      "Lions\n",
      "Falcons\n"
     ]
    },
    {
     "data": {
      "text/html": [
       "\n",
       "            <div style=\"float: left; border: 1px solid black; width:500px\">\n",
       "              <div id=\"4da33a88-9af1-44f9-9f4d-54292af33022\" style=\"background-color:blue; width:0%\">&nbsp;</div>\n",
       "            </div>\n",
       "            <label id=\"0fd30f35-37cc-4fc9-bcdf-d7ec2d43a412\" style=\"padding-left: 10px;\" text = \"\"/>\n",
       "            "
      ],
      "text/plain": [
       "<IPython.core.display.HTML object>"
      ]
     },
     "metadata": {},
     "output_type": "display_data"
    },
    {
     "data": {
      "text/html": [
       "\n",
       "            <div style=\"float: left; border: 1px solid black; width:500px\">\n",
       "              <div id=\"4f4b7951-3c9d-4c6e-bb97-c4b40e38eff1\" style=\"background-color:blue; width:0%\">&nbsp;</div>\n",
       "            </div>\n",
       "            <label id=\"d1cb4ad3-483c-4b4f-b974-c75ba2e824f7\" style=\"padding-left: 10px;\" text = \"\"/>\n",
       "            "
      ],
      "text/plain": [
       "<IPython.core.display.HTML object>"
      ]
     },
     "metadata": {},
     "output_type": "display_data"
    },
    {
     "data": {
      "text/html": [
       "\n",
       "            <div style=\"float: left; border: 1px solid black; width:500px\">\n",
       "              <div id=\"07b5b68f-b265-4606-8abc-f407053faf20\" style=\"background-color:blue; width:0%\">&nbsp;</div>\n",
       "            </div>\n",
       "            <label id=\"6d06fc69-3e7d-437c-87ea-98817601b7b7\" style=\"padding-left: 10px;\" text = \"\"/>\n",
       "            "
      ],
      "text/plain": [
       "<IPython.core.display.HTML object>"
      ]
     },
     "metadata": {},
     "output_type": "display_data"
    },
    {
     "data": {
      "text/html": [
       "\n",
       "            <div style=\"float: left; border: 1px solid black; width:500px\">\n",
       "              <div id=\"264b008a-55c7-4cfe-8a7d-49f87bf5689a\" style=\"background-color:blue; width:0%\">&nbsp;</div>\n",
       "            </div>\n",
       "            <label id=\"09267da0-a9bb-4598-9c51-aadec1e116ec\" style=\"padding-left: 10px;\" text = \"\"/>\n",
       "            "
      ],
      "text/plain": [
       "<IPython.core.display.HTML object>"
      ]
     },
     "metadata": {},
     "output_type": "display_data"
    },
    {
     "data": {
      "text/html": [
       "\n",
       "            <div style=\"float: left; border: 1px solid black; width:500px\">\n",
       "              <div id=\"b04c2c09-0df6-457a-8f1a-679dc32f048e\" style=\"background-color:blue; width:0%\">&nbsp;</div>\n",
       "            </div>\n",
       "            <label id=\"91c1cdb4-6fc5-4a24-be22-aa62cfb7e7b9\" style=\"padding-left: 10px;\" text = \"\"/>\n",
       "            "
      ],
      "text/plain": [
       "<IPython.core.display.HTML object>"
      ]
     },
     "metadata": {},
     "output_type": "display_data"
    },
    {
     "data": {
      "text/html": [
       "\n",
       "            <div style=\"float: left; border: 1px solid black; width:500px\">\n",
       "              <div id=\"a502dbcd-724f-4da8-9b99-b7eda745f182\" style=\"background-color:blue; width:0%\">&nbsp;</div>\n",
       "            </div>\n",
       "            <label id=\"0335dfc0-6458-43e7-a087-05dd3400f492\" style=\"padding-left: 10px;\" text = \"\"/>\n",
       "            "
      ],
      "text/plain": [
       "<IPython.core.display.HTML object>"
      ]
     },
     "metadata": {},
     "output_type": "display_data"
    },
    {
     "data": {
      "text/html": [
       "\n",
       "            <div style=\"float: left; border: 1px solid black; width:500px\">\n",
       "              <div id=\"10cbe990-800c-4551-836c-c90bca0aa529\" style=\"background-color:blue; width:0%\">&nbsp;</div>\n",
       "            </div>\n",
       "            <label id=\"69ceff03-121d-48be-8062-6a4a371c889c\" style=\"padding-left: 10px;\" text = \"\"/>\n",
       "            "
      ],
      "text/plain": [
       "<IPython.core.display.HTML object>"
      ]
     },
     "metadata": {},
     "output_type": "display_data"
    },
    {
     "data": {
      "text/html": [
       "\n",
       "            <div style=\"float: left; border: 1px solid black; width:500px\">\n",
       "              <div id=\"7091ec3e-fb54-4e24-b415-c259f2605818\" style=\"background-color:blue; width:0%\">&nbsp;</div>\n",
       "            </div>\n",
       "            <label id=\"04833b3a-d31c-46d6-ac75-6074fc119592\" style=\"padding-left: 10px;\" text = \"\"/>\n",
       "            "
      ],
      "text/plain": [
       "<IPython.core.display.HTML object>"
      ]
     },
     "metadata": {},
     "output_type": "display_data"
    },
    {
     "data": {
      "text/html": [
       "\n",
       "            <div style=\"float: left; border: 1px solid black; width:500px\">\n",
       "              <div id=\"31236a7c-d3ce-4722-a927-c6ce1e094da2\" style=\"background-color:blue; width:0%\">&nbsp;</div>\n",
       "            </div>\n",
       "            <label id=\"234fd100-9eb0-4b4e-b866-24ffb76b3003\" style=\"padding-left: 10px;\" text = \"\"/>\n",
       "            "
      ],
      "text/plain": [
       "<IPython.core.display.HTML object>"
      ]
     },
     "metadata": {},
     "output_type": "display_data"
    },
    {
     "data": {
      "text/html": [
       "\n",
       "            <div style=\"float: left; border: 1px solid black; width:500px\">\n",
       "              <div id=\"9cede29f-9548-4a4a-92b1-681abeae2aff\" style=\"background-color:blue; width:0%\">&nbsp;</div>\n",
       "            </div>\n",
       "            <label id=\"997627fa-c32f-4eda-ae64-fa332db70669\" style=\"padding-left: 10px;\" text = \"\"/>\n",
       "            "
      ],
      "text/plain": [
       "<IPython.core.display.HTML object>"
      ]
     },
     "metadata": {},
     "output_type": "display_data"
    },
    {
     "data": {
      "text/html": [
       "\n",
       "            <div style=\"float: left; border: 1px solid black; width:500px\">\n",
       "              <div id=\"4a02d27d-9cad-4966-9195-a6d4215a60e2\" style=\"background-color:blue; width:0%\">&nbsp;</div>\n",
       "            </div>\n",
       "            <label id=\"241b0ad0-185d-456f-9980-17480b5f4bef\" style=\"padding-left: 10px;\" text = \"\"/>\n",
       "            "
      ],
      "text/plain": [
       "<IPython.core.display.HTML object>"
      ]
     },
     "metadata": {},
     "output_type": "display_data"
    },
    {
     "data": {
      "text/html": [
       "\n",
       "            <div style=\"float: left; border: 1px solid black; width:500px\">\n",
       "              <div id=\"94d3f7be-fc82-4d46-81ef-9a6ff2ca3f01\" style=\"background-color:blue; width:0%\">&nbsp;</div>\n",
       "            </div>\n",
       "            <label id=\"f5508802-c2e5-413b-9868-b2caece7b76e\" style=\"padding-left: 10px;\" text = \"\"/>\n",
       "            "
      ],
      "text/plain": [
       "<IPython.core.display.HTML object>"
      ]
     },
     "metadata": {},
     "output_type": "display_data"
    },
    {
     "data": {
      "text/html": [
       "\n",
       "            <div style=\"float: left; border: 1px solid black; width:500px\">\n",
       "              <div id=\"12a7e7f3-8432-4c76-bd0a-2d272be9b404\" style=\"background-color:blue; width:0%\">&nbsp;</div>\n",
       "            </div>\n",
       "            <label id=\"cdf0d092-409f-4219-b823-ec2d49993242\" style=\"padding-left: 10px;\" text = \"\"/>\n",
       "            "
      ],
      "text/plain": [
       "<IPython.core.display.HTML object>"
      ]
     },
     "metadata": {},
     "output_type": "display_data"
    },
    {
     "data": {
      "text/html": [
       "\n",
       "            <div style=\"float: left; border: 1px solid black; width:500px\">\n",
       "              <div id=\"eb0060e9-b929-4e76-b8da-b996e3c7d065\" style=\"background-color:blue; width:0%\">&nbsp;</div>\n",
       "            </div>\n",
       "            <label id=\"02d98f10-0ffe-489e-92db-3ebac1a6ef11\" style=\"padding-left: 10px;\" text = \"\"/>\n",
       "            "
      ],
      "text/plain": [
       "<IPython.core.display.HTML object>"
      ]
     },
     "metadata": {},
     "output_type": "display_data"
    },
    {
     "data": {
      "text/html": [
       "\n",
       "            <div style=\"float: left; border: 1px solid black; width:500px\">\n",
       "              <div id=\"c1476230-b609-417b-a8a0-ca253e9c14fa\" style=\"background-color:blue; width:0%\">&nbsp;</div>\n",
       "            </div>\n",
       "            <label id=\"b5480aca-c655-4704-97c8-4c47ef3fbccf\" style=\"padding-left: 10px;\" text = \"\"/>\n",
       "            "
      ],
      "text/plain": [
       "<IPython.core.display.HTML object>"
      ]
     },
     "metadata": {},
     "output_type": "display_data"
    },
    {
     "data": {
      "text/html": [
       "\n",
       "            <div style=\"float: left; border: 1px solid black; width:500px\">\n",
       "              <div id=\"00f8679d-5d61-4b9d-b506-3f0bf9e3806a\" style=\"background-color:blue; width:0%\">&nbsp;</div>\n",
       "            </div>\n",
       "            <label id=\"61bb5c71-acc1-4204-af3d-a832b78945aa\" style=\"padding-left: 10px;\" text = \"\"/>\n",
       "            "
      ],
      "text/plain": [
       "<IPython.core.display.HTML object>"
      ]
     },
     "metadata": {},
     "output_type": "display_data"
    },
    {
     "data": {
      "text/html": [
       "\n",
       "            <div style=\"float: left; border: 1px solid black; width:500px\">\n",
       "              <div id=\"96c0919e-c2aa-4086-af94-0bb412c68ea4\" style=\"background-color:blue; width:0%\">&nbsp;</div>\n",
       "            </div>\n",
       "            <label id=\"bb7c6db7-a92e-4905-9c08-09a84079731d\" style=\"padding-left: 10px;\" text = \"\"/>\n",
       "            "
      ],
      "text/plain": [
       "<IPython.core.display.HTML object>"
      ]
     },
     "metadata": {},
     "output_type": "display_data"
    },
    {
     "data": {
      "text/html": [
       "\n",
       "            <div style=\"float: left; border: 1px solid black; width:500px\">\n",
       "              <div id=\"a70ec3dd-c416-4657-8128-37c6d5fd698e\" style=\"background-color:blue; width:0%\">&nbsp;</div>\n",
       "            </div>\n",
       "            <label id=\"f8e4f2f7-134f-4861-89fd-3e9b99556c59\" style=\"padding-left: 10px;\" text = \"\"/>\n",
       "            "
      ],
      "text/plain": [
       "<IPython.core.display.HTML object>"
      ]
     },
     "metadata": {},
     "output_type": "display_data"
    },
    {
     "name": "stdout",
     "output_type": "stream",
     "text": [
      "Chargers\n",
      "Texans\n"
     ]
    },
    {
     "data": {
      "text/html": [
       "\n",
       "            <div style=\"float: left; border: 1px solid black; width:500px\">\n",
       "              <div id=\"9406f02b-b19d-4a85-aff0-52bc309fb368\" style=\"background-color:blue; width:0%\">&nbsp;</div>\n",
       "            </div>\n",
       "            <label id=\"ad379e39-523f-4a32-a0ca-21346e9934e1\" style=\"padding-left: 10px;\" text = \"\"/>\n",
       "            "
      ],
      "text/plain": [
       "<IPython.core.display.HTML object>"
      ]
     },
     "metadata": {},
     "output_type": "display_data"
    },
    {
     "data": {
      "text/html": [
       "\n",
       "            <div style=\"float: left; border: 1px solid black; width:500px\">\n",
       "              <div id=\"072728f9-aa05-4efa-b3a5-98ed8dbb0b1f\" style=\"background-color:blue; width:0%\">&nbsp;</div>\n",
       "            </div>\n",
       "            <label id=\"d82236bd-96e6-44c5-b648-67abb3e220ca\" style=\"padding-left: 10px;\" text = \"\"/>\n",
       "            "
      ],
      "text/plain": [
       "<IPython.core.display.HTML object>"
      ]
     },
     "metadata": {},
     "output_type": "display_data"
    },
    {
     "data": {
      "text/html": [
       "\n",
       "            <div style=\"float: left; border: 1px solid black; width:500px\">\n",
       "              <div id=\"a83d4a2f-9ea8-4d7e-95ac-48478119965d\" style=\"background-color:blue; width:0%\">&nbsp;</div>\n",
       "            </div>\n",
       "            <label id=\"fddccc6d-634c-439a-8815-b6dbac674545\" style=\"padding-left: 10px;\" text = \"\"/>\n",
       "            "
      ],
      "text/plain": [
       "<IPython.core.display.HTML object>"
      ]
     },
     "metadata": {},
     "output_type": "display_data"
    },
    {
     "data": {
      "text/html": [
       "\n",
       "            <div style=\"float: left; border: 1px solid black; width:500px\">\n",
       "              <div id=\"7d6c7ce6-a95e-48f5-8e37-b0fbf14c484e\" style=\"background-color:blue; width:0%\">&nbsp;</div>\n",
       "            </div>\n",
       "            <label id=\"ea1ffd18-2837-4ccc-af1c-b3102a1b1fff\" style=\"padding-left: 10px;\" text = \"\"/>\n",
       "            "
      ],
      "text/plain": [
       "<IPython.core.display.HTML object>"
      ]
     },
     "metadata": {},
     "output_type": "display_data"
    },
    {
     "data": {
      "text/html": [
       "\n",
       "            <div style=\"float: left; border: 1px solid black; width:500px\">\n",
       "              <div id=\"e6a9854c-2c12-4f94-8bf2-2baf3b38b194\" style=\"background-color:blue; width:0%\">&nbsp;</div>\n",
       "            </div>\n",
       "            <label id=\"fc672f58-6953-4d19-aede-c2a7ac7d8b36\" style=\"padding-left: 10px;\" text = \"\"/>\n",
       "            "
      ],
      "text/plain": [
       "<IPython.core.display.HTML object>"
      ]
     },
     "metadata": {},
     "output_type": "display_data"
    },
    {
     "data": {
      "text/html": [
       "\n",
       "            <div style=\"float: left; border: 1px solid black; width:500px\">\n",
       "              <div id=\"e364e56a-8d80-43fa-87ce-0715cec59341\" style=\"background-color:blue; width:0%\">&nbsp;</div>\n",
       "            </div>\n",
       "            <label id=\"9e8d5fb5-6f1b-4a67-889f-f0db4c99cc40\" style=\"padding-left: 10px;\" text = \"\"/>\n",
       "            "
      ],
      "text/plain": [
       "<IPython.core.display.HTML object>"
      ]
     },
     "metadata": {},
     "output_type": "display_data"
    },
    {
     "data": {
      "text/html": [
       "\n",
       "            <div style=\"float: left; border: 1px solid black; width:500px\">\n",
       "              <div id=\"a8b01ba9-46bc-42bf-abcf-c804d11b6a2a\" style=\"background-color:blue; width:0%\">&nbsp;</div>\n",
       "            </div>\n",
       "            <label id=\"5f037aea-9ee4-49eb-b11c-ac1f762bd3fb\" style=\"padding-left: 10px;\" text = \"\"/>\n",
       "            "
      ],
      "text/plain": [
       "<IPython.core.display.HTML object>"
      ]
     },
     "metadata": {},
     "output_type": "display_data"
    },
    {
     "data": {
      "text/html": [
       "\n",
       "            <div style=\"float: left; border: 1px solid black; width:500px\">\n",
       "              <div id=\"0e195828-173d-4f1d-9416-2acdf2340823\" style=\"background-color:blue; width:0%\">&nbsp;</div>\n",
       "            </div>\n",
       "            <label id=\"18c83245-b669-42fe-a551-cbb2a135b992\" style=\"padding-left: 10px;\" text = \"\"/>\n",
       "            "
      ],
      "text/plain": [
       "<IPython.core.display.HTML object>"
      ]
     },
     "metadata": {},
     "output_type": "display_data"
    },
    {
     "data": {
      "text/html": [
       "\n",
       "            <div style=\"float: left; border: 1px solid black; width:500px\">\n",
       "              <div id=\"a85ebe87-823c-4ef5-8962-db751f9d6682\" style=\"background-color:blue; width:0%\">&nbsp;</div>\n",
       "            </div>\n",
       "            <label id=\"29961d38-e9aa-41eb-9c7d-c82814bf7ebf\" style=\"padding-left: 10px;\" text = \"\"/>\n",
       "            "
      ],
      "text/plain": [
       "<IPython.core.display.HTML object>"
      ]
     },
     "metadata": {},
     "output_type": "display_data"
    },
    {
     "data": {
      "text/html": [
       "\n",
       "            <div style=\"float: left; border: 1px solid black; width:500px\">\n",
       "              <div id=\"a3280abb-f7dd-45d6-aa2e-01cc4b22d056\" style=\"background-color:blue; width:0%\">&nbsp;</div>\n",
       "            </div>\n",
       "            <label id=\"d4ffb4b7-774c-4dd5-84ef-8bda6db7c98e\" style=\"padding-left: 10px;\" text = \"\"/>\n",
       "            "
      ],
      "text/plain": [
       "<IPython.core.display.HTML object>"
      ]
     },
     "metadata": {},
     "output_type": "display_data"
    },
    {
     "data": {
      "text/html": [
       "\n",
       "            <div style=\"float: left; border: 1px solid black; width:500px\">\n",
       "              <div id=\"f369479f-084f-42d5-a252-0b2ef46ed3bc\" style=\"background-color:blue; width:0%\">&nbsp;</div>\n",
       "            </div>\n",
       "            <label id=\"fd28debb-59e8-4462-96f4-c94a04ce580f\" style=\"padding-left: 10px;\" text = \"\"/>\n",
       "            "
      ],
      "text/plain": [
       "<IPython.core.display.HTML object>"
      ]
     },
     "metadata": {},
     "output_type": "display_data"
    },
    {
     "data": {
      "text/html": [
       "\n",
       "            <div style=\"float: left; border: 1px solid black; width:500px\">\n",
       "              <div id=\"f8db6f15-67cb-4371-8f10-30bc6a2e565c\" style=\"background-color:blue; width:0%\">&nbsp;</div>\n",
       "            </div>\n",
       "            <label id=\"b7574e83-db67-46a2-98aa-b2008c16ec08\" style=\"padding-left: 10px;\" text = \"\"/>\n",
       "            "
      ],
      "text/plain": [
       "<IPython.core.display.HTML object>"
      ]
     },
     "metadata": {},
     "output_type": "display_data"
    },
    {
     "data": {
      "text/html": [
       "\n",
       "            <div style=\"float: left; border: 1px solid black; width:500px\">\n",
       "              <div id=\"f28b2d6d-5972-4255-b455-7e5acf8c2699\" style=\"background-color:blue; width:0%\">&nbsp;</div>\n",
       "            </div>\n",
       "            <label id=\"508f288d-c21c-4c75-bf63-99a936da51b8\" style=\"padding-left: 10px;\" text = \"\"/>\n",
       "            "
      ],
      "text/plain": [
       "<IPython.core.display.HTML object>"
      ]
     },
     "metadata": {},
     "output_type": "display_data"
    },
    {
     "data": {
      "text/html": [
       "\n",
       "            <div style=\"float: left; border: 1px solid black; width:500px\">\n",
       "              <div id=\"c99dd39b-4c25-410b-9a6e-ca3132a81729\" style=\"background-color:blue; width:0%\">&nbsp;</div>\n",
       "            </div>\n",
       "            <label id=\"e04fc63b-2634-4bc1-9ade-d2c084556917\" style=\"padding-left: 10px;\" text = \"\"/>\n",
       "            "
      ],
      "text/plain": [
       "<IPython.core.display.HTML object>"
      ]
     },
     "metadata": {},
     "output_type": "display_data"
    },
    {
     "data": {
      "text/html": [
       "\n",
       "            <div style=\"float: left; border: 1px solid black; width:500px\">\n",
       "              <div id=\"2bcf1108-23ce-4cec-bb39-5b54c548dbfd\" style=\"background-color:blue; width:0%\">&nbsp;</div>\n",
       "            </div>\n",
       "            <label id=\"33c2376d-2bd0-43f3-8631-db5349ada3f9\" style=\"padding-left: 10px;\" text = \"\"/>\n",
       "            "
      ],
      "text/plain": [
       "<IPython.core.display.HTML object>"
      ]
     },
     "metadata": {},
     "output_type": "display_data"
    },
    {
     "data": {
      "text/html": [
       "\n",
       "            <div style=\"float: left; border: 1px solid black; width:500px\">\n",
       "              <div id=\"90fcdc49-08a2-4d29-8c45-ca68607365bf\" style=\"background-color:blue; width:0%\">&nbsp;</div>\n",
       "            </div>\n",
       "            <label id=\"a550ecf2-9b7e-495b-ae0d-63447476470b\" style=\"padding-left: 10px;\" text = \"\"/>\n",
       "            "
      ],
      "text/plain": [
       "<IPython.core.display.HTML object>"
      ]
     },
     "metadata": {},
     "output_type": "display_data"
    },
    {
     "data": {
      "text/html": [
       "\n",
       "            <div style=\"float: left; border: 1px solid black; width:500px\">\n",
       "              <div id=\"55e413b2-a9d9-4c52-91e9-f683367bc827\" style=\"background-color:blue; width:0%\">&nbsp;</div>\n",
       "            </div>\n",
       "            <label id=\"c80d282c-2ba0-4b2e-a51b-0c69c771d219\" style=\"padding-left: 10px;\" text = \"\"/>\n",
       "            "
      ],
      "text/plain": [
       "<IPython.core.display.HTML object>"
      ]
     },
     "metadata": {},
     "output_type": "display_data"
    },
    {
     "data": {
      "text/html": [
       "\n",
       "            <div style=\"float: left; border: 1px solid black; width:500px\">\n",
       "              <div id=\"796fc2f8-2bcf-4d8b-80dc-545bd143c922\" style=\"background-color:blue; width:0%\">&nbsp;</div>\n",
       "            </div>\n",
       "            <label id=\"75ffe538-5391-4452-8f57-e7e68f660fba\" style=\"padding-left: 10px;\" text = \"\"/>\n",
       "            "
      ],
      "text/plain": [
       "<IPython.core.display.HTML object>"
      ]
     },
     "metadata": {},
     "output_type": "display_data"
    },
    {
     "name": "stdout",
     "output_type": "stream",
     "text": [
      "Ravens\n",
      "Bengals\n"
     ]
    },
    {
     "data": {
      "text/html": [
       "\n",
       "            <div style=\"float: left; border: 1px solid black; width:500px\">\n",
       "              <div id=\"8396666a-2720-48b4-a0b3-ec2ea48c9840\" style=\"background-color:blue; width:0%\">&nbsp;</div>\n",
       "            </div>\n",
       "            <label id=\"56e34bbc-19c0-4cd5-b417-8bf739cf3fbd\" style=\"padding-left: 10px;\" text = \"\"/>\n",
       "            "
      ],
      "text/plain": [
       "<IPython.core.display.HTML object>"
      ]
     },
     "metadata": {},
     "output_type": "display_data"
    },
    {
     "data": {
      "text/html": [
       "\n",
       "            <div style=\"float: left; border: 1px solid black; width:500px\">\n",
       "              <div id=\"d63bc48a-a127-415c-83f5-2de6cc02750e\" style=\"background-color:blue; width:0%\">&nbsp;</div>\n",
       "            </div>\n",
       "            <label id=\"ad125690-30f2-4633-83b0-421a51e6b054\" style=\"padding-left: 10px;\" text = \"\"/>\n",
       "            "
      ],
      "text/plain": [
       "<IPython.core.display.HTML object>"
      ]
     },
     "metadata": {},
     "output_type": "display_data"
    },
    {
     "data": {
      "text/html": [
       "\n",
       "            <div style=\"float: left; border: 1px solid black; width:500px\">\n",
       "              <div id=\"f018f898-b842-45d4-950d-d041923d99ad\" style=\"background-color:blue; width:0%\">&nbsp;</div>\n",
       "            </div>\n",
       "            <label id=\"cf3946b0-40ea-4291-812d-25123eb28148\" style=\"padding-left: 10px;\" text = \"\"/>\n",
       "            "
      ],
      "text/plain": [
       "<IPython.core.display.HTML object>"
      ]
     },
     "metadata": {},
     "output_type": "display_data"
    },
    {
     "data": {
      "text/html": [
       "\n",
       "            <div style=\"float: left; border: 1px solid black; width:500px\">\n",
       "              <div id=\"1753bf50-c93b-459c-8a4f-3f1b9cbdc4c2\" style=\"background-color:blue; width:0%\">&nbsp;</div>\n",
       "            </div>\n",
       "            <label id=\"d549f89c-c0a1-498d-bd81-821c46452ef2\" style=\"padding-left: 10px;\" text = \"\"/>\n",
       "            "
      ],
      "text/plain": [
       "<IPython.core.display.HTML object>"
      ]
     },
     "metadata": {},
     "output_type": "display_data"
    },
    {
     "data": {
      "text/html": [
       "\n",
       "            <div style=\"float: left; border: 1px solid black; width:500px\">\n",
       "              <div id=\"b98ed0f4-7ee6-426d-9090-1ba346f4a620\" style=\"background-color:blue; width:0%\">&nbsp;</div>\n",
       "            </div>\n",
       "            <label id=\"6607ff1d-fcc7-465a-a3c5-aa3174147a4d\" style=\"padding-left: 10px;\" text = \"\"/>\n",
       "            "
      ],
      "text/plain": [
       "<IPython.core.display.HTML object>"
      ]
     },
     "metadata": {},
     "output_type": "display_data"
    },
    {
     "data": {
      "text/html": [
       "\n",
       "            <div style=\"float: left; border: 1px solid black; width:500px\">\n",
       "              <div id=\"e4c49d79-42dd-42ac-8d8d-6ee3e531d12d\" style=\"background-color:blue; width:0%\">&nbsp;</div>\n",
       "            </div>\n",
       "            <label id=\"d3dcb0e8-4975-4606-b004-a9cd936160be\" style=\"padding-left: 10px;\" text = \"\"/>\n",
       "            "
      ],
      "text/plain": [
       "<IPython.core.display.HTML object>"
      ]
     },
     "metadata": {},
     "output_type": "display_data"
    },
    {
     "data": {
      "text/html": [
       "\n",
       "            <div style=\"float: left; border: 1px solid black; width:500px\">\n",
       "              <div id=\"30c93a4d-afdf-43e9-bee7-0c4f2bcbfa6f\" style=\"background-color:blue; width:0%\">&nbsp;</div>\n",
       "            </div>\n",
       "            <label id=\"15f1bffa-7d17-4eac-a9a5-38f3fe6053ba\" style=\"padding-left: 10px;\" text = \"\"/>\n",
       "            "
      ],
      "text/plain": [
       "<IPython.core.display.HTML object>"
      ]
     },
     "metadata": {},
     "output_type": "display_data"
    },
    {
     "data": {
      "text/html": [
       "\n",
       "            <div style=\"float: left; border: 1px solid black; width:500px\">\n",
       "              <div id=\"db59ca70-9b8a-4601-86b1-59059597b4f1\" style=\"background-color:blue; width:0%\">&nbsp;</div>\n",
       "            </div>\n",
       "            <label id=\"98bc5417-40a0-4e54-bbb0-766f33f8ec74\" style=\"padding-left: 10px;\" text = \"\"/>\n",
       "            "
      ],
      "text/plain": [
       "<IPython.core.display.HTML object>"
      ]
     },
     "metadata": {},
     "output_type": "display_data"
    },
    {
     "data": {
      "text/html": [
       "\n",
       "            <div style=\"float: left; border: 1px solid black; width:500px\">\n",
       "              <div id=\"9317bd13-3179-4e9a-a78f-a9152e8c939a\" style=\"background-color:blue; width:0%\">&nbsp;</div>\n",
       "            </div>\n",
       "            <label id=\"56ccb5dd-4629-42cd-9460-6623b4e6702a\" style=\"padding-left: 10px;\" text = \"\"/>\n",
       "            "
      ],
      "text/plain": [
       "<IPython.core.display.HTML object>"
      ]
     },
     "metadata": {},
     "output_type": "display_data"
    },
    {
     "data": {
      "text/html": [
       "\n",
       "            <div style=\"float: left; border: 1px solid black; width:500px\">\n",
       "              <div id=\"621ada5f-eccf-4713-9b09-89079b09976a\" style=\"background-color:blue; width:0%\">&nbsp;</div>\n",
       "            </div>\n",
       "            <label id=\"bcb03425-7cc9-4996-853b-214dc2502e63\" style=\"padding-left: 10px;\" text = \"\"/>\n",
       "            "
      ],
      "text/plain": [
       "<IPython.core.display.HTML object>"
      ]
     },
     "metadata": {},
     "output_type": "display_data"
    },
    {
     "data": {
      "text/html": [
       "\n",
       "            <div style=\"float: left; border: 1px solid black; width:500px\">\n",
       "              <div id=\"d7be06e9-0fef-4912-a5c4-edbc8f6d5f07\" style=\"background-color:blue; width:0%\">&nbsp;</div>\n",
       "            </div>\n",
       "            <label id=\"90611cc4-d419-4d4b-8a76-722cad5a81ef\" style=\"padding-left: 10px;\" text = \"\"/>\n",
       "            "
      ],
      "text/plain": [
       "<IPython.core.display.HTML object>"
      ]
     },
     "metadata": {},
     "output_type": "display_data"
    },
    {
     "data": {
      "text/html": [
       "\n",
       "            <div style=\"float: left; border: 1px solid black; width:500px\">\n",
       "              <div id=\"f953b7da-e212-4540-baaa-36f2a806ce20\" style=\"background-color:blue; width:0%\">&nbsp;</div>\n",
       "            </div>\n",
       "            <label id=\"3afa6ff3-a770-475e-a042-bda024359f70\" style=\"padding-left: 10px;\" text = \"\"/>\n",
       "            "
      ],
      "text/plain": [
       "<IPython.core.display.HTML object>"
      ]
     },
     "metadata": {},
     "output_type": "display_data"
    },
    {
     "data": {
      "text/html": [
       "\n",
       "            <div style=\"float: left; border: 1px solid black; width:500px\">\n",
       "              <div id=\"5548338d-354d-4785-a1cd-30b6eea300c8\" style=\"background-color:blue; width:0%\">&nbsp;</div>\n",
       "            </div>\n",
       "            <label id=\"184ee9a4-91a3-4a76-9b23-76c3ba1c9f4c\" style=\"padding-left: 10px;\" text = \"\"/>\n",
       "            "
      ],
      "text/plain": [
       "<IPython.core.display.HTML object>"
      ]
     },
     "metadata": {},
     "output_type": "display_data"
    },
    {
     "data": {
      "text/html": [
       "\n",
       "            <div style=\"float: left; border: 1px solid black; width:500px\">\n",
       "              <div id=\"647a9f58-df58-473b-bfb4-cac3272a5b1e\" style=\"background-color:blue; width:0%\">&nbsp;</div>\n",
       "            </div>\n",
       "            <label id=\"fd29dfaf-7d08-4b35-be19-9425c6e3e9de\" style=\"padding-left: 10px;\" text = \"\"/>\n",
       "            "
      ],
      "text/plain": [
       "<IPython.core.display.HTML object>"
      ]
     },
     "metadata": {},
     "output_type": "display_data"
    },
    {
     "data": {
      "text/html": [
       "\n",
       "            <div style=\"float: left; border: 1px solid black; width:500px\">\n",
       "              <div id=\"09e326e6-9f48-4546-b699-bb5356383745\" style=\"background-color:blue; width:0%\">&nbsp;</div>\n",
       "            </div>\n",
       "            <label id=\"d47119fe-5a5b-4680-87da-a097c963764e\" style=\"padding-left: 10px;\" text = \"\"/>\n",
       "            "
      ],
      "text/plain": [
       "<IPython.core.display.HTML object>"
      ]
     },
     "metadata": {},
     "output_type": "display_data"
    },
    {
     "data": {
      "text/html": [
       "\n",
       "            <div style=\"float: left; border: 1px solid black; width:500px\">\n",
       "              <div id=\"7e334189-9364-4f36-829c-d2bee0530646\" style=\"background-color:blue; width:0%\">&nbsp;</div>\n",
       "            </div>\n",
       "            <label id=\"938947f7-0648-497e-90eb-69f5098396b5\" style=\"padding-left: 10px;\" text = \"\"/>\n",
       "            "
      ],
      "text/plain": [
       "<IPython.core.display.HTML object>"
      ]
     },
     "metadata": {},
     "output_type": "display_data"
    },
    {
     "data": {
      "text/html": [
       "\n",
       "            <div style=\"float: left; border: 1px solid black; width:500px\">\n",
       "              <div id=\"e1918750-fe85-4077-9790-693787274887\" style=\"background-color:blue; width:0%\">&nbsp;</div>\n",
       "            </div>\n",
       "            <label id=\"15ce12cf-1e33-4be7-8e2f-170362513d85\" style=\"padding-left: 10px;\" text = \"\"/>\n",
       "            "
      ],
      "text/plain": [
       "<IPython.core.display.HTML object>"
      ]
     },
     "metadata": {},
     "output_type": "display_data"
    },
    {
     "data": {
      "text/html": [
       "\n",
       "            <div style=\"float: left; border: 1px solid black; width:500px\">\n",
       "              <div id=\"e55ad33c-8b07-482f-9620-2a1f162c73ae\" style=\"background-color:blue; width:0%\">&nbsp;</div>\n",
       "            </div>\n",
       "            <label id=\"79b51f2a-f847-4ef7-a0dc-5153d3cca0fe\" style=\"padding-left: 10px;\" text = \"\"/>\n",
       "            "
      ],
      "text/plain": [
       "<IPython.core.display.HTML object>"
      ]
     },
     "metadata": {},
     "output_type": "display_data"
    },
    {
     "name": "stdout",
     "output_type": "stream",
     "text": [
      "Bears\n",
      "Seahawks\n"
     ]
    },
    {
     "data": {
      "text/html": [
       "\n",
       "            <div style=\"float: left; border: 1px solid black; width:500px\">\n",
       "              <div id=\"b0c0e747-45ef-41ab-887c-e355f75a8950\" style=\"background-color:blue; width:0%\">&nbsp;</div>\n",
       "            </div>\n",
       "            <label id=\"57c45e7c-77e9-44a1-af77-30656b9216b8\" style=\"padding-left: 10px;\" text = \"\"/>\n",
       "            "
      ],
      "text/plain": [
       "<IPython.core.display.HTML object>"
      ]
     },
     "metadata": {},
     "output_type": "display_data"
    },
    {
     "data": {
      "text/html": [
       "\n",
       "            <div style=\"float: left; border: 1px solid black; width:500px\">\n",
       "              <div id=\"4501027b-44cd-4347-854d-183381851660\" style=\"background-color:blue; width:0%\">&nbsp;</div>\n",
       "            </div>\n",
       "            <label id=\"c9a27641-0b2f-40cf-9267-86770994ccdd\" style=\"padding-left: 10px;\" text = \"\"/>\n",
       "            "
      ],
      "text/plain": [
       "<IPython.core.display.HTML object>"
      ]
     },
     "metadata": {},
     "output_type": "display_data"
    },
    {
     "data": {
      "text/html": [
       "\n",
       "            <div style=\"float: left; border: 1px solid black; width:500px\">\n",
       "              <div id=\"2e6e0108-a0a7-4b54-8460-48837a8fd6dc\" style=\"background-color:blue; width:0%\">&nbsp;</div>\n",
       "            </div>\n",
       "            <label id=\"84a6d828-3d27-4de5-925e-6307fb1a2bb6\" style=\"padding-left: 10px;\" text = \"\"/>\n",
       "            "
      ],
      "text/plain": [
       "<IPython.core.display.HTML object>"
      ]
     },
     "metadata": {},
     "output_type": "display_data"
    },
    {
     "data": {
      "text/html": [
       "\n",
       "            <div style=\"float: left; border: 1px solid black; width:500px\">\n",
       "              <div id=\"bdb039e2-da05-4017-ad5f-6ca13c4bf096\" style=\"background-color:blue; width:0%\">&nbsp;</div>\n",
       "            </div>\n",
       "            <label id=\"43e6859f-3170-4ef8-9678-1fdeb0191802\" style=\"padding-left: 10px;\" text = \"\"/>\n",
       "            "
      ],
      "text/plain": [
       "<IPython.core.display.HTML object>"
      ]
     },
     "metadata": {},
     "output_type": "display_data"
    },
    {
     "data": {
      "text/html": [
       "\n",
       "            <div style=\"float: left; border: 1px solid black; width:500px\">\n",
       "              <div id=\"e7f2ecec-14e8-40d4-a7ac-26fa16ba5832\" style=\"background-color:blue; width:0%\">&nbsp;</div>\n",
       "            </div>\n",
       "            <label id=\"ead2d9ef-a624-4928-8046-285bffd53d24\" style=\"padding-left: 10px;\" text = \"\"/>\n",
       "            "
      ],
      "text/plain": [
       "<IPython.core.display.HTML object>"
      ]
     },
     "metadata": {},
     "output_type": "display_data"
    },
    {
     "data": {
      "text/html": [
       "\n",
       "            <div style=\"float: left; border: 1px solid black; width:500px\">\n",
       "              <div id=\"f4c980a8-2112-448b-bb35-973d2f57c707\" style=\"background-color:blue; width:0%\">&nbsp;</div>\n",
       "            </div>\n",
       "            <label id=\"a29fc4f3-07a6-4e19-9597-d8e4821e7931\" style=\"padding-left: 10px;\" text = \"\"/>\n",
       "            "
      ],
      "text/plain": [
       "<IPython.core.display.HTML object>"
      ]
     },
     "metadata": {},
     "output_type": "display_data"
    },
    {
     "data": {
      "text/html": [
       "\n",
       "            <div style=\"float: left; border: 1px solid black; width:500px\">\n",
       "              <div id=\"35c5a855-8f11-42b0-9aaf-ac6e6f4570e1\" style=\"background-color:blue; width:0%\">&nbsp;</div>\n",
       "            </div>\n",
       "            <label id=\"2d601ebd-93b4-4835-b31e-8dbba308c3d4\" style=\"padding-left: 10px;\" text = \"\"/>\n",
       "            "
      ],
      "text/plain": [
       "<IPython.core.display.HTML object>"
      ]
     },
     "metadata": {},
     "output_type": "display_data"
    },
    {
     "data": {
      "text/html": [
       "\n",
       "            <div style=\"float: left; border: 1px solid black; width:500px\">\n",
       "              <div id=\"c8e2f0e8-7106-41eb-9ba7-eaa56e94d855\" style=\"background-color:blue; width:0%\">&nbsp;</div>\n",
       "            </div>\n",
       "            <label id=\"a9304fa1-00bc-42a8-839a-4be5141a192b\" style=\"padding-left: 10px;\" text = \"\"/>\n",
       "            "
      ],
      "text/plain": [
       "<IPython.core.display.HTML object>"
      ]
     },
     "metadata": {},
     "output_type": "display_data"
    },
    {
     "data": {
      "text/html": [
       "\n",
       "            <div style=\"float: left; border: 1px solid black; width:500px\">\n",
       "              <div id=\"fa5f087f-7a29-4253-9174-2f97838b03c6\" style=\"background-color:blue; width:0%\">&nbsp;</div>\n",
       "            </div>\n",
       "            <label id=\"157b6e50-bbb9-43a1-a016-b0d7df372ede\" style=\"padding-left: 10px;\" text = \"\"/>\n",
       "            "
      ],
      "text/plain": [
       "<IPython.core.display.HTML object>"
      ]
     },
     "metadata": {},
     "output_type": "display_data"
    },
    {
     "data": {
      "text/html": [
       "\n",
       "            <div style=\"float: left; border: 1px solid black; width:500px\">\n",
       "              <div id=\"46e5a0d0-8b52-462b-85d9-01e9a83d508c\" style=\"background-color:blue; width:0%\">&nbsp;</div>\n",
       "            </div>\n",
       "            <label id=\"0f72cc20-4dd4-4b7d-aa64-70e9704bf7a2\" style=\"padding-left: 10px;\" text = \"\"/>\n",
       "            "
      ],
      "text/plain": [
       "<IPython.core.display.HTML object>"
      ]
     },
     "metadata": {},
     "output_type": "display_data"
    },
    {
     "data": {
      "text/html": [
       "\n",
       "            <div style=\"float: left; border: 1px solid black; width:500px\">\n",
       "              <div id=\"2afd7883-4b8e-4b42-9cef-352f07f51366\" style=\"background-color:blue; width:0%\">&nbsp;</div>\n",
       "            </div>\n",
       "            <label id=\"cce9a6e6-8ef2-4c16-869d-56a43ba63ec9\" style=\"padding-left: 10px;\" text = \"\"/>\n",
       "            "
      ],
      "text/plain": [
       "<IPython.core.display.HTML object>"
      ]
     },
     "metadata": {},
     "output_type": "display_data"
    },
    {
     "data": {
      "text/html": [
       "\n",
       "            <div style=\"float: left; border: 1px solid black; width:500px\">\n",
       "              <div id=\"1a0cd4c2-042c-491a-888b-d62fa7e61c83\" style=\"background-color:blue; width:0%\">&nbsp;</div>\n",
       "            </div>\n",
       "            <label id=\"31c387a6-4243-4a18-9798-9ab1ddb643db\" style=\"padding-left: 10px;\" text = \"\"/>\n",
       "            "
      ],
      "text/plain": [
       "<IPython.core.display.HTML object>"
      ]
     },
     "metadata": {},
     "output_type": "display_data"
    },
    {
     "data": {
      "text/html": [
       "\n",
       "            <div style=\"float: left; border: 1px solid black; width:500px\">\n",
       "              <div id=\"6f907390-9a8a-4749-98a5-9b8d3f7416df\" style=\"background-color:blue; width:0%\">&nbsp;</div>\n",
       "            </div>\n",
       "            <label id=\"15a915ba-9d46-4d1b-a4b4-9fc99e11d8b1\" style=\"padding-left: 10px;\" text = \"\"/>\n",
       "            "
      ],
      "text/plain": [
       "<IPython.core.display.HTML object>"
      ]
     },
     "metadata": {},
     "output_type": "display_data"
    },
    {
     "data": {
      "text/html": [
       "\n",
       "            <div style=\"float: left; border: 1px solid black; width:500px\">\n",
       "              <div id=\"ab0d1a2b-6812-4693-9955-137a4cca619f\" style=\"background-color:blue; width:0%\">&nbsp;</div>\n",
       "            </div>\n",
       "            <label id=\"755fb4f7-c4f1-43a5-9520-cebcebe59ea9\" style=\"padding-left: 10px;\" text = \"\"/>\n",
       "            "
      ],
      "text/plain": [
       "<IPython.core.display.HTML object>"
      ]
     },
     "metadata": {},
     "output_type": "display_data"
    },
    {
     "data": {
      "text/html": [
       "\n",
       "            <div style=\"float: left; border: 1px solid black; width:500px\">\n",
       "              <div id=\"23b3d1e5-5b04-44a2-86ef-9f6f1e51dd33\" style=\"background-color:blue; width:0%\">&nbsp;</div>\n",
       "            </div>\n",
       "            <label id=\"bffdfe80-ed7c-46b4-bdc4-836e521fcedf\" style=\"padding-left: 10px;\" text = \"\"/>\n",
       "            "
      ],
      "text/plain": [
       "<IPython.core.display.HTML object>"
      ]
     },
     "metadata": {},
     "output_type": "display_data"
    },
    {
     "data": {
      "text/html": [
       "\n",
       "            <div style=\"float: left; border: 1px solid black; width:500px\">\n",
       "              <div id=\"bec8e891-441a-4bb4-a68a-83e1185d9f2e\" style=\"background-color:blue; width:0%\">&nbsp;</div>\n",
       "            </div>\n",
       "            <label id=\"a5b7922c-c390-472c-8ff5-84eecf159433\" style=\"padding-left: 10px;\" text = \"\"/>\n",
       "            "
      ],
      "text/plain": [
       "<IPython.core.display.HTML object>"
      ]
     },
     "metadata": {},
     "output_type": "display_data"
    },
    {
     "data": {
      "text/html": [
       "\n",
       "            <div style=\"float: left; border: 1px solid black; width:500px\">\n",
       "              <div id=\"a10b6a87-6df3-4df2-b05c-d4ae953c4674\" style=\"background-color:blue; width:0%\">&nbsp;</div>\n",
       "            </div>\n",
       "            <label id=\"ce6fbcb3-6b93-4794-8557-12d8ef0cf9f1\" style=\"padding-left: 10px;\" text = \"\"/>\n",
       "            "
      ],
      "text/plain": [
       "<IPython.core.display.HTML object>"
      ]
     },
     "metadata": {},
     "output_type": "display_data"
    },
    {
     "data": {
      "text/html": [
       "\n",
       "            <div style=\"float: left; border: 1px solid black; width:500px\">\n",
       "              <div id=\"e7e09252-fc06-4a9a-a2e9-a9eb28804764\" style=\"background-color:blue; width:0%\">&nbsp;</div>\n",
       "            </div>\n",
       "            <label id=\"6f83e5ef-9eac-4896-ba3b-9d7995e92139\" style=\"padding-left: 10px;\" text = \"\"/>\n",
       "            "
      ],
      "text/plain": [
       "<IPython.core.display.HTML object>"
      ]
     },
     "metadata": {},
     "output_type": "display_data"
    },
    {
     "name": "stdout",
     "output_type": "stream",
     "text": [
      "Steelers\n",
      "Chiefs\n"
     ]
    },
    {
     "data": {
      "text/html": [
       "\n",
       "            <div style=\"float: left; border: 1px solid black; width:500px\">\n",
       "              <div id=\"f9d1df7e-498f-4a21-964a-924d042f44ff\" style=\"background-color:blue; width:0%\">&nbsp;</div>\n",
       "            </div>\n",
       "            <label id=\"989f16da-2257-49b2-8fc2-306d09a598b0\" style=\"padding-left: 10px;\" text = \"\"/>\n",
       "            "
      ],
      "text/plain": [
       "<IPython.core.display.HTML object>"
      ]
     },
     "metadata": {},
     "output_type": "display_data"
    },
    {
     "data": {
      "text/html": [
       "\n",
       "            <div style=\"float: left; border: 1px solid black; width:500px\">\n",
       "              <div id=\"21c216d1-8be6-40ab-a395-20ae7e7bff98\" style=\"background-color:blue; width:0%\">&nbsp;</div>\n",
       "            </div>\n",
       "            <label id=\"b26a2dae-e3ff-4efd-a42c-a24fb6910bba\" style=\"padding-left: 10px;\" text = \"\"/>\n",
       "            "
      ],
      "text/plain": [
       "<IPython.core.display.HTML object>"
      ]
     },
     "metadata": {},
     "output_type": "display_data"
    },
    {
     "data": {
      "text/html": [
       "\n",
       "            <div style=\"float: left; border: 1px solid black; width:500px\">\n",
       "              <div id=\"842c4290-b8d1-4354-9f75-651c61aa412e\" style=\"background-color:blue; width:0%\">&nbsp;</div>\n",
       "            </div>\n",
       "            <label id=\"623b6d94-b82f-4cd7-a54d-2ce5e6e34ac6\" style=\"padding-left: 10px;\" text = \"\"/>\n",
       "            "
      ],
      "text/plain": [
       "<IPython.core.display.HTML object>"
      ]
     },
     "metadata": {},
     "output_type": "display_data"
    },
    {
     "data": {
      "text/html": [
       "\n",
       "            <div style=\"float: left; border: 1px solid black; width:500px\">\n",
       "              <div id=\"778da981-d23f-4345-a176-394d4a2d99b5\" style=\"background-color:blue; width:0%\">&nbsp;</div>\n",
       "            </div>\n",
       "            <label id=\"d5a0a4d5-d820-45b6-a54d-344224fbd672\" style=\"padding-left: 10px;\" text = \"\"/>\n",
       "            "
      ],
      "text/plain": [
       "<IPython.core.display.HTML object>"
      ]
     },
     "metadata": {},
     "output_type": "display_data"
    },
    {
     "data": {
      "text/html": [
       "\n",
       "            <div style=\"float: left; border: 1px solid black; width:500px\">\n",
       "              <div id=\"995dc239-06f1-4c03-829f-0b4682e1551e\" style=\"background-color:blue; width:0%\">&nbsp;</div>\n",
       "            </div>\n",
       "            <label id=\"ea0bc533-d705-45e8-af75-109771a40c9a\" style=\"padding-left: 10px;\" text = \"\"/>\n",
       "            "
      ],
      "text/plain": [
       "<IPython.core.display.HTML object>"
      ]
     },
     "metadata": {},
     "output_type": "display_data"
    },
    {
     "data": {
      "text/html": [
       "\n",
       "            <div style=\"float: left; border: 1px solid black; width:500px\">\n",
       "              <div id=\"31af986c-5914-4089-8da0-9223b966d12e\" style=\"background-color:blue; width:0%\">&nbsp;</div>\n",
       "            </div>\n",
       "            <label id=\"44145664-e4d4-4e6b-b0c1-014104c063ac\" style=\"padding-left: 10px;\" text = \"\"/>\n",
       "            "
      ],
      "text/plain": [
       "<IPython.core.display.HTML object>"
      ]
     },
     "metadata": {},
     "output_type": "display_data"
    },
    {
     "data": {
      "text/html": [
       "\n",
       "            <div style=\"float: left; border: 1px solid black; width:500px\">\n",
       "              <div id=\"81f750e8-baa2-405d-958b-5f71b8db1ab7\" style=\"background-color:blue; width:0%\">&nbsp;</div>\n",
       "            </div>\n",
       "            <label id=\"04091e38-2efe-4907-9040-5a2a5777df31\" style=\"padding-left: 10px;\" text = \"\"/>\n",
       "            "
      ],
      "text/plain": [
       "<IPython.core.display.HTML object>"
      ]
     },
     "metadata": {},
     "output_type": "display_data"
    },
    {
     "data": {
      "text/html": [
       "\n",
       "            <div style=\"float: left; border: 1px solid black; width:500px\">\n",
       "              <div id=\"505aba2a-0097-4b92-8ad9-30e664ebd12c\" style=\"background-color:blue; width:0%\">&nbsp;</div>\n",
       "            </div>\n",
       "            <label id=\"cd24b7d6-c5e6-4d80-9ed5-01b390a029a8\" style=\"padding-left: 10px;\" text = \"\"/>\n",
       "            "
      ],
      "text/plain": [
       "<IPython.core.display.HTML object>"
      ]
     },
     "metadata": {},
     "output_type": "display_data"
    },
    {
     "data": {
      "text/html": [
       "\n",
       "            <div style=\"float: left; border: 1px solid black; width:500px\">\n",
       "              <div id=\"c78ed386-f019-4b08-bd51-4f2dae8ef581\" style=\"background-color:blue; width:0%\">&nbsp;</div>\n",
       "            </div>\n",
       "            <label id=\"d7e89d20-8d22-4d64-a8bb-8ed157949bc8\" style=\"padding-left: 10px;\" text = \"\"/>\n",
       "            "
      ],
      "text/plain": [
       "<IPython.core.display.HTML object>"
      ]
     },
     "metadata": {},
     "output_type": "display_data"
    },
    {
     "data": {
      "text/html": [
       "\n",
       "            <div style=\"float: left; border: 1px solid black; width:500px\">\n",
       "              <div id=\"19212184-fe1c-43cf-b965-0e19ffbf046a\" style=\"background-color:blue; width:0%\">&nbsp;</div>\n",
       "            </div>\n",
       "            <label id=\"8387d85a-6427-496c-8166-26f7d5dd0441\" style=\"padding-left: 10px;\" text = \"\"/>\n",
       "            "
      ],
      "text/plain": [
       "<IPython.core.display.HTML object>"
      ]
     },
     "metadata": {},
     "output_type": "display_data"
    },
    {
     "data": {
      "text/html": [
       "\n",
       "            <div style=\"float: left; border: 1px solid black; width:500px\">\n",
       "              <div id=\"0c24beff-5d74-46f9-a92d-fe40b7db806f\" style=\"background-color:blue; width:0%\">&nbsp;</div>\n",
       "            </div>\n",
       "            <label id=\"0bfb3597-fe26-4fea-917b-43d969bedd2b\" style=\"padding-left: 10px;\" text = \"\"/>\n",
       "            "
      ],
      "text/plain": [
       "<IPython.core.display.HTML object>"
      ]
     },
     "metadata": {},
     "output_type": "display_data"
    },
    {
     "data": {
      "text/html": [
       "\n",
       "            <div style=\"float: left; border: 1px solid black; width:500px\">\n",
       "              <div id=\"9cb485f7-ed16-46d8-b4a4-5c67005b1722\" style=\"background-color:blue; width:0%\">&nbsp;</div>\n",
       "            </div>\n",
       "            <label id=\"a3a92fe9-3834-4073-887d-e3ff863e0b8d\" style=\"padding-left: 10px;\" text = \"\"/>\n",
       "            "
      ],
      "text/plain": [
       "<IPython.core.display.HTML object>"
      ]
     },
     "metadata": {},
     "output_type": "display_data"
    },
    {
     "data": {
      "text/html": [
       "\n",
       "            <div style=\"float: left; border: 1px solid black; width:500px\">\n",
       "              <div id=\"fbe17616-78a2-436b-b684-2ecd76ab6110\" style=\"background-color:blue; width:0%\">&nbsp;</div>\n",
       "            </div>\n",
       "            <label id=\"947bf7a0-d4eb-4e95-b734-7cf6b50fb3a0\" style=\"padding-left: 10px;\" text = \"\"/>\n",
       "            "
      ],
      "text/plain": [
       "<IPython.core.display.HTML object>"
      ]
     },
     "metadata": {},
     "output_type": "display_data"
    },
    {
     "data": {
      "text/html": [
       "\n",
       "            <div style=\"float: left; border: 1px solid black; width:500px\">\n",
       "              <div id=\"300984ed-1bc6-4dd5-9770-708aa6c657b2\" style=\"background-color:blue; width:0%\">&nbsp;</div>\n",
       "            </div>\n",
       "            <label id=\"67e1c2d3-3598-4ad2-991d-1384891df1a9\" style=\"padding-left: 10px;\" text = \"\"/>\n",
       "            "
      ],
      "text/plain": [
       "<IPython.core.display.HTML object>"
      ]
     },
     "metadata": {},
     "output_type": "display_data"
    },
    {
     "data": {
      "text/html": [
       "\n",
       "            <div style=\"float: left; border: 1px solid black; width:500px\">\n",
       "              <div id=\"3a80367d-0d31-4399-99f7-661c21a44fd6\" style=\"background-color:blue; width:0%\">&nbsp;</div>\n",
       "            </div>\n",
       "            <label id=\"b68310d3-6d65-46fb-a772-3de1096f69d8\" style=\"padding-left: 10px;\" text = \"\"/>\n",
       "            "
      ],
      "text/plain": [
       "<IPython.core.display.HTML object>"
      ]
     },
     "metadata": {},
     "output_type": "display_data"
    },
    {
     "data": {
      "text/html": [
       "\n",
       "            <div style=\"float: left; border: 1px solid black; width:500px\">\n",
       "              <div id=\"3438bf13-63d2-45f5-a655-03a0bc3f7d92\" style=\"background-color:blue; width:0%\">&nbsp;</div>\n",
       "            </div>\n",
       "            <label id=\"a42efeb1-f640-4b2a-8c99-7eef25aefda3\" style=\"padding-left: 10px;\" text = \"\"/>\n",
       "            "
      ],
      "text/plain": [
       "<IPython.core.display.HTML object>"
      ]
     },
     "metadata": {},
     "output_type": "display_data"
    },
    {
     "data": {
      "text/html": [
       "\n",
       "            <div style=\"float: left; border: 1px solid black; width:500px\">\n",
       "              <div id=\"1909446b-24f5-4ca8-a890-7bbb01287656\" style=\"background-color:blue; width:0%\">&nbsp;</div>\n",
       "            </div>\n",
       "            <label id=\"4b7568a6-e6de-43e3-88fe-f7f89057c34f\" style=\"padding-left: 10px;\" text = \"\"/>\n",
       "            "
      ],
      "text/plain": [
       "<IPython.core.display.HTML object>"
      ]
     },
     "metadata": {},
     "output_type": "display_data"
    },
    {
     "data": {
      "text/html": [
       "\n",
       "            <div style=\"float: left; border: 1px solid black; width:500px\">\n",
       "              <div id=\"fa303658-0f57-4308-9144-dbf0aa01211b\" style=\"background-color:blue; width:0%\">&nbsp;</div>\n",
       "            </div>\n",
       "            <label id=\"5c0a35d0-31fd-41a9-ac14-810695318800\" style=\"padding-left: 10px;\" text = \"\"/>\n",
       "            "
      ],
      "text/plain": [
       "<IPython.core.display.HTML object>"
      ]
     },
     "metadata": {},
     "output_type": "display_data"
    },
    {
     "name": "stdout",
     "output_type": "stream",
     "text": [
      "Broncos\n",
      "Raiders\n"
     ]
    },
    {
     "data": {
      "text/html": [
       "\n",
       "            <div style=\"float: left; border: 1px solid black; width:500px\">\n",
       "              <div id=\"a8a66a04-86f1-4705-90a7-1f48ac9884ae\" style=\"background-color:blue; width:0%\">&nbsp;</div>\n",
       "            </div>\n",
       "            <label id=\"a467f10c-4ddd-4cb0-bb08-f398fc738587\" style=\"padding-left: 10px;\" text = \"\"/>\n",
       "            "
      ],
      "text/plain": [
       "<IPython.core.display.HTML object>"
      ]
     },
     "metadata": {},
     "output_type": "display_data"
    },
    {
     "data": {
      "text/html": [
       "\n",
       "            <div style=\"float: left; border: 1px solid black; width:500px\">\n",
       "              <div id=\"27c84be5-43dd-4cb5-a115-f90405c5e0b7\" style=\"background-color:blue; width:0%\">&nbsp;</div>\n",
       "            </div>\n",
       "            <label id=\"593394e6-93ca-4cc3-a0e8-c23d5879f0a1\" style=\"padding-left: 10px;\" text = \"\"/>\n",
       "            "
      ],
      "text/plain": [
       "<IPython.core.display.HTML object>"
      ]
     },
     "metadata": {},
     "output_type": "display_data"
    },
    {
     "data": {
      "text/html": [
       "\n",
       "            <div style=\"float: left; border: 1px solid black; width:500px\">\n",
       "              <div id=\"68f90685-ce0d-4aba-9b29-37189011dd3b\" style=\"background-color:blue; width:0%\">&nbsp;</div>\n",
       "            </div>\n",
       "            <label id=\"88025db4-9a95-4e0b-a157-9210243f5689\" style=\"padding-left: 10px;\" text = \"\"/>\n",
       "            "
      ],
      "text/plain": [
       "<IPython.core.display.HTML object>"
      ]
     },
     "metadata": {},
     "output_type": "display_data"
    },
    {
     "data": {
      "text/html": [
       "\n",
       "            <div style=\"float: left; border: 1px solid black; width:500px\">\n",
       "              <div id=\"951bb6fb-2100-4ebc-9152-31a9275f249e\" style=\"background-color:blue; width:0%\">&nbsp;</div>\n",
       "            </div>\n",
       "            <label id=\"ab30b380-e97c-4194-af4e-50554fe73897\" style=\"padding-left: 10px;\" text = \"\"/>\n",
       "            "
      ],
      "text/plain": [
       "<IPython.core.display.HTML object>"
      ]
     },
     "metadata": {},
     "output_type": "display_data"
    },
    {
     "data": {
      "text/html": [
       "\n",
       "            <div style=\"float: left; border: 1px solid black; width:500px\">\n",
       "              <div id=\"81d3373f-2102-4cd9-ae0b-13d04b634d1d\" style=\"background-color:blue; width:0%\">&nbsp;</div>\n",
       "            </div>\n",
       "            <label id=\"f5e8a366-0048-4d70-9252-ea2f8a91bab4\" style=\"padding-left: 10px;\" text = \"\"/>\n",
       "            "
      ],
      "text/plain": [
       "<IPython.core.display.HTML object>"
      ]
     },
     "metadata": {},
     "output_type": "display_data"
    },
    {
     "data": {
      "text/html": [
       "\n",
       "            <div style=\"float: left; border: 1px solid black; width:500px\">\n",
       "              <div id=\"fa930d2d-6f60-46ef-ae76-e969afe0cfea\" style=\"background-color:blue; width:0%\">&nbsp;</div>\n",
       "            </div>\n",
       "            <label id=\"c782afbd-9f4c-442d-93fb-14581f4f982f\" style=\"padding-left: 10px;\" text = \"\"/>\n",
       "            "
      ],
      "text/plain": [
       "<IPython.core.display.HTML object>"
      ]
     },
     "metadata": {},
     "output_type": "display_data"
    },
    {
     "data": {
      "text/html": [
       "\n",
       "            <div style=\"float: left; border: 1px solid black; width:500px\">\n",
       "              <div id=\"7c6df04f-d91c-4013-b214-72e5aaa87a14\" style=\"background-color:blue; width:0%\">&nbsp;</div>\n",
       "            </div>\n",
       "            <label id=\"11283ffd-cfb0-4158-ba8c-f7806aa55ef1\" style=\"padding-left: 10px;\" text = \"\"/>\n",
       "            "
      ],
      "text/plain": [
       "<IPython.core.display.HTML object>"
      ]
     },
     "metadata": {},
     "output_type": "display_data"
    },
    {
     "data": {
      "text/html": [
       "\n",
       "            <div style=\"float: left; border: 1px solid black; width:500px\">\n",
       "              <div id=\"ae283468-fc1f-4fe7-a206-9a50108edbf8\" style=\"background-color:blue; width:0%\">&nbsp;</div>\n",
       "            </div>\n",
       "            <label id=\"c8e52fde-a7e7-445e-ba9c-7d1fd1b3232d\" style=\"padding-left: 10px;\" text = \"\"/>\n",
       "            "
      ],
      "text/plain": [
       "<IPython.core.display.HTML object>"
      ]
     },
     "metadata": {},
     "output_type": "display_data"
    },
    {
     "data": {
      "text/html": [
       "\n",
       "            <div style=\"float: left; border: 1px solid black; width:500px\">\n",
       "              <div id=\"98ecce82-68a6-4215-985f-ddfd17c1d58d\" style=\"background-color:blue; width:0%\">&nbsp;</div>\n",
       "            </div>\n",
       "            <label id=\"2d6d9d27-6452-4fd9-937c-4e3988813401\" style=\"padding-left: 10px;\" text = \"\"/>\n",
       "            "
      ],
      "text/plain": [
       "<IPython.core.display.HTML object>"
      ]
     },
     "metadata": {},
     "output_type": "display_data"
    },
    {
     "data": {
      "text/html": [
       "\n",
       "            <div style=\"float: left; border: 1px solid black; width:500px\">\n",
       "              <div id=\"e98cd9dd-daa3-4c5a-82fd-d33a6b5da82a\" style=\"background-color:blue; width:0%\">&nbsp;</div>\n",
       "            </div>\n",
       "            <label id=\"ac160815-b2dc-467b-9676-c74cac5996d5\" style=\"padding-left: 10px;\" text = \"\"/>\n",
       "            "
      ],
      "text/plain": [
       "<IPython.core.display.HTML object>"
      ]
     },
     "metadata": {},
     "output_type": "display_data"
    },
    {
     "data": {
      "text/html": [
       "\n",
       "            <div style=\"float: left; border: 1px solid black; width:500px\">\n",
       "              <div id=\"501bd911-40e2-4684-8a21-71c528204b27\" style=\"background-color:blue; width:0%\">&nbsp;</div>\n",
       "            </div>\n",
       "            <label id=\"762d6bd2-4b56-40d8-b9ca-2e0c3ec66079\" style=\"padding-left: 10px;\" text = \"\"/>\n",
       "            "
      ],
      "text/plain": [
       "<IPython.core.display.HTML object>"
      ]
     },
     "metadata": {},
     "output_type": "display_data"
    },
    {
     "data": {
      "text/html": [
       "\n",
       "            <div style=\"float: left; border: 1px solid black; width:500px\">\n",
       "              <div id=\"f12d917b-3959-41bb-bd38-226b1796e6c2\" style=\"background-color:blue; width:0%\">&nbsp;</div>\n",
       "            </div>\n",
       "            <label id=\"b44994e5-64cf-4e4e-8ad3-8823a32f9a58\" style=\"padding-left: 10px;\" text = \"\"/>\n",
       "            "
      ],
      "text/plain": [
       "<IPython.core.display.HTML object>"
      ]
     },
     "metadata": {},
     "output_type": "display_data"
    },
    {
     "data": {
      "text/html": [
       "\n",
       "            <div style=\"float: left; border: 1px solid black; width:500px\">\n",
       "              <div id=\"78702322-f27a-49a4-825d-37706c677572\" style=\"background-color:blue; width:0%\">&nbsp;</div>\n",
       "            </div>\n",
       "            <label id=\"e520d250-b4b1-4078-8ee9-5ae13a7bad6b\" style=\"padding-left: 10px;\" text = \"\"/>\n",
       "            "
      ],
      "text/plain": [
       "<IPython.core.display.HTML object>"
      ]
     },
     "metadata": {},
     "output_type": "display_data"
    },
    {
     "data": {
      "text/html": [
       "\n",
       "            <div style=\"float: left; border: 1px solid black; width:500px\">\n",
       "              <div id=\"10d6a593-b26e-4b93-83d2-22fcbad855e6\" style=\"background-color:blue; width:0%\">&nbsp;</div>\n",
       "            </div>\n",
       "            <label id=\"c204b329-3246-44e7-ab01-f20cc6cfdd67\" style=\"padding-left: 10px;\" text = \"\"/>\n",
       "            "
      ],
      "text/plain": [
       "<IPython.core.display.HTML object>"
      ]
     },
     "metadata": {},
     "output_type": "display_data"
    },
    {
     "data": {
      "text/html": [
       "\n",
       "            <div style=\"float: left; border: 1px solid black; width:500px\">\n",
       "              <div id=\"2888a57e-a005-40d9-b9f8-3e91ca679b48\" style=\"background-color:blue; width:0%\">&nbsp;</div>\n",
       "            </div>\n",
       "            <label id=\"957034ee-900c-43fc-82aa-10acd0460efa\" style=\"padding-left: 10px;\" text = \"\"/>\n",
       "            "
      ],
      "text/plain": [
       "<IPython.core.display.HTML object>"
      ]
     },
     "metadata": {},
     "output_type": "display_data"
    },
    {
     "data": {
      "text/html": [
       "\n",
       "            <div style=\"float: left; border: 1px solid black; width:500px\">\n",
       "              <div id=\"21aaed5f-17d7-4289-a769-1a800fc68636\" style=\"background-color:blue; width:0%\">&nbsp;</div>\n",
       "            </div>\n",
       "            <label id=\"1055f734-9ad7-47a7-99f6-5f8c142c53cd\" style=\"padding-left: 10px;\" text = \"\"/>\n",
       "            "
      ],
      "text/plain": [
       "<IPython.core.display.HTML object>"
      ]
     },
     "metadata": {},
     "output_type": "display_data"
    },
    {
     "data": {
      "text/html": [
       "\n",
       "            <div style=\"float: left; border: 1px solid black; width:500px\">\n",
       "              <div id=\"5a77c532-8d57-47f3-a8ec-4a57c3d8572d\" style=\"background-color:blue; width:0%\">&nbsp;</div>\n",
       "            </div>\n",
       "            <label id=\"3f72d90a-59e3-403b-bca7-f84682b16400\" style=\"padding-left: 10px;\" text = \"\"/>\n",
       "            "
      ],
      "text/plain": [
       "<IPython.core.display.HTML object>"
      ]
     },
     "metadata": {},
     "output_type": "display_data"
    },
    {
     "data": {
      "text/html": [
       "\n",
       "            <div style=\"float: left; border: 1px solid black; width:500px\">\n",
       "              <div id=\"82a857a4-bf56-450a-b9ec-bddcedbf33b4\" style=\"background-color:blue; width:0%\">&nbsp;</div>\n",
       "            </div>\n",
       "            <label id=\"e75a6c3d-b040-456e-8781-8d4cf74f9861\" style=\"padding-left: 10px;\" text = \"\"/>\n",
       "            "
      ],
      "text/plain": [
       "<IPython.core.display.HTML object>"
      ]
     },
     "metadata": {},
     "output_type": "display_data"
    },
    {
     "name": "stdout",
     "output_type": "stream",
     "text": [
      "Football Team\n",
      "Cowboys\n"
     ]
    },
    {
     "data": {
      "text/html": [
       "\n",
       "            <div style=\"float: left; border: 1px solid black; width:500px\">\n",
       "              <div id=\"7283cd9e-13c1-49c6-adc5-5102b86a0eff\" style=\"background-color:blue; width:0%\">&nbsp;</div>\n",
       "            </div>\n",
       "            <label id=\"0c5a8b59-7ede-45c4-941e-b4fb23193aec\" style=\"padding-left: 10px;\" text = \"\"/>\n",
       "            "
      ],
      "text/plain": [
       "<IPython.core.display.HTML object>"
      ]
     },
     "metadata": {},
     "output_type": "display_data"
    },
    {
     "data": {
      "text/html": [
       "\n",
       "            <div style=\"float: left; border: 1px solid black; width:500px\">\n",
       "              <div id=\"04ba39c5-6a5c-42ab-b653-735c82b9c835\" style=\"background-color:blue; width:0%\">&nbsp;</div>\n",
       "            </div>\n",
       "            <label id=\"6109f546-e7ac-4ae9-9354-33276974564e\" style=\"padding-left: 10px;\" text = \"\"/>\n",
       "            "
      ],
      "text/plain": [
       "<IPython.core.display.HTML object>"
      ]
     },
     "metadata": {},
     "output_type": "display_data"
    },
    {
     "data": {
      "text/html": [
       "\n",
       "            <div style=\"float: left; border: 1px solid black; width:500px\">\n",
       "              <div id=\"001ede79-df23-4889-ac51-4daaace4a05e\" style=\"background-color:blue; width:0%\">&nbsp;</div>\n",
       "            </div>\n",
       "            <label id=\"cb3e1eeb-fcaa-433e-8116-d11cb57e089c\" style=\"padding-left: 10px;\" text = \"\"/>\n",
       "            "
      ],
      "text/plain": [
       "<IPython.core.display.HTML object>"
      ]
     },
     "metadata": {},
     "output_type": "display_data"
    },
    {
     "data": {
      "text/html": [
       "\n",
       "            <div style=\"float: left; border: 1px solid black; width:500px\">\n",
       "              <div id=\"bc1317b4-5ba7-48bd-b671-1dae31a0e4c7\" style=\"background-color:blue; width:0%\">&nbsp;</div>\n",
       "            </div>\n",
       "            <label id=\"12f0d22b-358a-4190-a87d-0a11268c5b28\" style=\"padding-left: 10px;\" text = \"\"/>\n",
       "            "
      ],
      "text/plain": [
       "<IPython.core.display.HTML object>"
      ]
     },
     "metadata": {},
     "output_type": "display_data"
    },
    {
     "data": {
      "text/html": [
       "\n",
       "            <div style=\"float: left; border: 1px solid black; width:500px\">\n",
       "              <div id=\"e920e7d0-8b88-4f0d-bb90-46105969e9fd\" style=\"background-color:blue; width:0%\">&nbsp;</div>\n",
       "            </div>\n",
       "            <label id=\"31cf3c07-8126-49ac-b689-995abae90759\" style=\"padding-left: 10px;\" text = \"\"/>\n",
       "            "
      ],
      "text/plain": [
       "<IPython.core.display.HTML object>"
      ]
     },
     "metadata": {},
     "output_type": "display_data"
    },
    {
     "data": {
      "text/html": [
       "\n",
       "            <div style=\"float: left; border: 1px solid black; width:500px\">\n",
       "              <div id=\"48426b25-aabf-4a50-8dbd-adae5eef17d8\" style=\"background-color:blue; width:0%\">&nbsp;</div>\n",
       "            </div>\n",
       "            <label id=\"ea05a745-f6ca-4ebb-a571-970b8179d1ea\" style=\"padding-left: 10px;\" text = \"\"/>\n",
       "            "
      ],
      "text/plain": [
       "<IPython.core.display.HTML object>"
      ]
     },
     "metadata": {},
     "output_type": "display_data"
    },
    {
     "data": {
      "text/html": [
       "\n",
       "            <div style=\"float: left; border: 1px solid black; width:500px\">\n",
       "              <div id=\"860275f8-1933-4a26-a69a-7ef5839ac04a\" style=\"background-color:blue; width:0%\">&nbsp;</div>\n",
       "            </div>\n",
       "            <label id=\"194618c4-da5a-46e4-8a64-a0c17368d2b8\" style=\"padding-left: 10px;\" text = \"\"/>\n",
       "            "
      ],
      "text/plain": [
       "<IPython.core.display.HTML object>"
      ]
     },
     "metadata": {},
     "output_type": "display_data"
    },
    {
     "data": {
      "text/html": [
       "\n",
       "            <div style=\"float: left; border: 1px solid black; width:500px\">\n",
       "              <div id=\"3cdf1f0c-122c-43f4-945a-62e93d52bfcf\" style=\"background-color:blue; width:0%\">&nbsp;</div>\n",
       "            </div>\n",
       "            <label id=\"e6973a2e-bc22-4a4e-a6c6-90af15ad6b6e\" style=\"padding-left: 10px;\" text = \"\"/>\n",
       "            "
      ],
      "text/plain": [
       "<IPython.core.display.HTML object>"
      ]
     },
     "metadata": {},
     "output_type": "display_data"
    },
    {
     "data": {
      "text/html": [
       "\n",
       "            <div style=\"float: left; border: 1px solid black; width:500px\">\n",
       "              <div id=\"ad58f848-be30-481f-8485-e1eed6ee8f85\" style=\"background-color:blue; width:0%\">&nbsp;</div>\n",
       "            </div>\n",
       "            <label id=\"cec29486-eea2-490d-b998-0ab4f7da70e8\" style=\"padding-left: 10px;\" text = \"\"/>\n",
       "            "
      ],
      "text/plain": [
       "<IPython.core.display.HTML object>"
      ]
     },
     "metadata": {},
     "output_type": "display_data"
    },
    {
     "data": {
      "text/html": [
       "\n",
       "            <div style=\"float: left; border: 1px solid black; width:500px\">\n",
       "              <div id=\"6b8d8a0d-141c-4484-9487-00e326e7569f\" style=\"background-color:blue; width:0%\">&nbsp;</div>\n",
       "            </div>\n",
       "            <label id=\"b7d694c8-8d3d-4052-a2ca-317a0595cb84\" style=\"padding-left: 10px;\" text = \"\"/>\n",
       "            "
      ],
      "text/plain": [
       "<IPython.core.display.HTML object>"
      ]
     },
     "metadata": {},
     "output_type": "display_data"
    },
    {
     "data": {
      "text/html": [
       "\n",
       "            <div style=\"float: left; border: 1px solid black; width:500px\">\n",
       "              <div id=\"6d559e36-5373-410f-a110-9eaebabfaaae\" style=\"background-color:blue; width:0%\">&nbsp;</div>\n",
       "            </div>\n",
       "            <label id=\"5b8dc8de-dad9-4221-95d2-963bdf28e4cf\" style=\"padding-left: 10px;\" text = \"\"/>\n",
       "            "
      ],
      "text/plain": [
       "<IPython.core.display.HTML object>"
      ]
     },
     "metadata": {},
     "output_type": "display_data"
    },
    {
     "data": {
      "text/html": [
       "\n",
       "            <div style=\"float: left; border: 1px solid black; width:500px\">\n",
       "              <div id=\"b8205370-59af-4d1a-ba36-f31c5345e125\" style=\"background-color:blue; width:0%\">&nbsp;</div>\n",
       "            </div>\n",
       "            <label id=\"498280e3-bb83-4b0d-884b-6d8db5c4b52c\" style=\"padding-left: 10px;\" text = \"\"/>\n",
       "            "
      ],
      "text/plain": [
       "<IPython.core.display.HTML object>"
      ]
     },
     "metadata": {},
     "output_type": "display_data"
    },
    {
     "data": {
      "text/html": [
       "\n",
       "            <div style=\"float: left; border: 1px solid black; width:500px\">\n",
       "              <div id=\"96390b72-8734-448f-90bb-e0c7ad92b2d4\" style=\"background-color:blue; width:0%\">&nbsp;</div>\n",
       "            </div>\n",
       "            <label id=\"5db9ad58-a499-445e-a4f9-d374df457716\" style=\"padding-left: 10px;\" text = \"\"/>\n",
       "            "
      ],
      "text/plain": [
       "<IPython.core.display.HTML object>"
      ]
     },
     "metadata": {},
     "output_type": "display_data"
    },
    {
     "data": {
      "text/html": [
       "\n",
       "            <div style=\"float: left; border: 1px solid black; width:500px\">\n",
       "              <div id=\"5aeab9ca-2ade-46f6-9121-b02d431eb20a\" style=\"background-color:blue; width:0%\">&nbsp;</div>\n",
       "            </div>\n",
       "            <label id=\"3e7015df-0ee4-4cea-a9f7-aefc77f37e9a\" style=\"padding-left: 10px;\" text = \"\"/>\n",
       "            "
      ],
      "text/plain": [
       "<IPython.core.display.HTML object>"
      ]
     },
     "metadata": {},
     "output_type": "display_data"
    },
    {
     "data": {
      "text/html": [
       "\n",
       "            <div style=\"float: left; border: 1px solid black; width:500px\">\n",
       "              <div id=\"63a46f37-b0be-4539-a0b0-64c866bc32fa\" style=\"background-color:blue; width:0%\">&nbsp;</div>\n",
       "            </div>\n",
       "            <label id=\"0094a552-e305-41af-b7e8-ac085ddf36f6\" style=\"padding-left: 10px;\" text = \"\"/>\n",
       "            "
      ],
      "text/plain": [
       "<IPython.core.display.HTML object>"
      ]
     },
     "metadata": {},
     "output_type": "display_data"
    },
    {
     "data": {
      "text/html": [
       "\n",
       "            <div style=\"float: left; border: 1px solid black; width:500px\">\n",
       "              <div id=\"e117ccb2-12cb-4929-af12-98dc6970946c\" style=\"background-color:blue; width:0%\">&nbsp;</div>\n",
       "            </div>\n",
       "            <label id=\"2ba73192-d360-4529-b408-304c2a53f6bd\" style=\"padding-left: 10px;\" text = \"\"/>\n",
       "            "
      ],
      "text/plain": [
       "<IPython.core.display.HTML object>"
      ]
     },
     "metadata": {},
     "output_type": "display_data"
    },
    {
     "data": {
      "text/html": [
       "\n",
       "            <div style=\"float: left; border: 1px solid black; width:500px\">\n",
       "              <div id=\"53442bc5-1000-4b8d-bfbe-0a56ccf6321a\" style=\"background-color:blue; width:0%\">&nbsp;</div>\n",
       "            </div>\n",
       "            <label id=\"2226ebda-4fd1-438e-970e-fbf7b0f0e498\" style=\"padding-left: 10px;\" text = \"\"/>\n",
       "            "
      ],
      "text/plain": [
       "<IPython.core.display.HTML object>"
      ]
     },
     "metadata": {},
     "output_type": "display_data"
    },
    {
     "data": {
      "text/html": [
       "\n",
       "            <div style=\"float: left; border: 1px solid black; width:500px\">\n",
       "              <div id=\"54010ed5-4f64-404e-9d72-992ee4feb1b7\" style=\"background-color:blue; width:0%\">&nbsp;</div>\n",
       "            </div>\n",
       "            <label id=\"33beb283-f1ae-416f-afd5-0783b4cf39a6\" style=\"padding-left: 10px;\" text = \"\"/>\n",
       "            "
      ],
      "text/plain": [
       "<IPython.core.display.HTML object>"
      ]
     },
     "metadata": {},
     "output_type": "display_data"
    },
    {
     "name": "stdout",
     "output_type": "stream",
     "text": [
      "Dolphins\n",
      "Saints\n"
     ]
    },
    {
     "data": {
      "text/html": [
       "\n",
       "            <div style=\"float: left; border: 1px solid black; width:500px\">\n",
       "              <div id=\"94dc8798-1a18-44d7-88d7-fed309d9fa56\" style=\"background-color:blue; width:0%\">&nbsp;</div>\n",
       "            </div>\n",
       "            <label id=\"dda6f1d4-097a-4ba6-90a0-0c21074a16f9\" style=\"padding-left: 10px;\" text = \"\"/>\n",
       "            "
      ],
      "text/plain": [
       "<IPython.core.display.HTML object>"
      ]
     },
     "metadata": {},
     "output_type": "display_data"
    },
    {
     "data": {
      "text/html": [
       "\n",
       "            <div style=\"float: left; border: 1px solid black; width:500px\">\n",
       "              <div id=\"62bff744-ec62-4bd1-8cd7-a80643e6f58f\" style=\"background-color:blue; width:0%\">&nbsp;</div>\n",
       "            </div>\n",
       "            <label id=\"05876a4d-0277-4b79-94bd-00add1102838\" style=\"padding-left: 10px;\" text = \"\"/>\n",
       "            "
      ],
      "text/plain": [
       "<IPython.core.display.HTML object>"
      ]
     },
     "metadata": {},
     "output_type": "display_data"
    },
    {
     "data": {
      "text/html": [
       "\n",
       "            <div style=\"float: left; border: 1px solid black; width:500px\">\n",
       "              <div id=\"78d74b20-c845-495a-8df8-8d7de2945820\" style=\"background-color:blue; width:0%\">&nbsp;</div>\n",
       "            </div>\n",
       "            <label id=\"bbf97f2f-ec7e-451b-9411-cc68f2256bea\" style=\"padding-left: 10px;\" text = \"\"/>\n",
       "            "
      ],
      "text/plain": [
       "<IPython.core.display.HTML object>"
      ]
     },
     "metadata": {},
     "output_type": "display_data"
    },
    {
     "data": {
      "text/html": [
       "\n",
       "            <div style=\"float: left; border: 1px solid black; width:500px\">\n",
       "              <div id=\"1f2f9e69-0424-4e23-8e4b-ed9f1b7de961\" style=\"background-color:blue; width:0%\">&nbsp;</div>\n",
       "            </div>\n",
       "            <label id=\"992e69d5-ed14-4c27-9242-09ee2c24f7a3\" style=\"padding-left: 10px;\" text = \"\"/>\n",
       "            "
      ],
      "text/plain": [
       "<IPython.core.display.HTML object>"
      ]
     },
     "metadata": {},
     "output_type": "display_data"
    },
    {
     "data": {
      "text/html": [
       "\n",
       "            <div style=\"float: left; border: 1px solid black; width:500px\">\n",
       "              <div id=\"7c00700f-909c-4be0-8c15-8cd82e62de18\" style=\"background-color:blue; width:0%\">&nbsp;</div>\n",
       "            </div>\n",
       "            <label id=\"2c638ddc-d27a-4be1-815a-6befe7c93153\" style=\"padding-left: 10px;\" text = \"\"/>\n",
       "            "
      ],
      "text/plain": [
       "<IPython.core.display.HTML object>"
      ]
     },
     "metadata": {},
     "output_type": "display_data"
    },
    {
     "data": {
      "text/html": [
       "\n",
       "            <div style=\"float: left; border: 1px solid black; width:500px\">\n",
       "              <div id=\"cbfdbfa0-f070-4fa0-a2cb-718ced146d1b\" style=\"background-color:blue; width:0%\">&nbsp;</div>\n",
       "            </div>\n",
       "            <label id=\"5f76df4a-1dcc-426d-9989-65cfe4b1c433\" style=\"padding-left: 10px;\" text = \"\"/>\n",
       "            "
      ],
      "text/plain": [
       "<IPython.core.display.HTML object>"
      ]
     },
     "metadata": {},
     "output_type": "display_data"
    },
    {
     "data": {
      "text/html": [
       "\n",
       "            <div style=\"float: left; border: 1px solid black; width:500px\">\n",
       "              <div id=\"d0057ac3-2876-4892-9312-4fe41a02a794\" style=\"background-color:blue; width:0%\">&nbsp;</div>\n",
       "            </div>\n",
       "            <label id=\"e4ab5fb7-d5fb-4442-9ed7-c6c5abc74d3f\" style=\"padding-left: 10px;\" text = \"\"/>\n",
       "            "
      ],
      "text/plain": [
       "<IPython.core.display.HTML object>"
      ]
     },
     "metadata": {},
     "output_type": "display_data"
    },
    {
     "data": {
      "text/html": [
       "\n",
       "            <div style=\"float: left; border: 1px solid black; width:500px\">\n",
       "              <div id=\"a13d0921-8a53-416f-a026-9ef0db9607ba\" style=\"background-color:blue; width:0%\">&nbsp;</div>\n",
       "            </div>\n",
       "            <label id=\"33506b1b-80e3-4576-a5fd-58f8f96a84e6\" style=\"padding-left: 10px;\" text = \"\"/>\n",
       "            "
      ],
      "text/plain": [
       "<IPython.core.display.HTML object>"
      ]
     },
     "metadata": {},
     "output_type": "display_data"
    },
    {
     "data": {
      "text/html": [
       "\n",
       "            <div style=\"float: left; border: 1px solid black; width:500px\">\n",
       "              <div id=\"692818ce-0077-4844-974b-759f0101311d\" style=\"background-color:blue; width:0%\">&nbsp;</div>\n",
       "            </div>\n",
       "            <label id=\"a526d108-83e9-45dd-827f-768f920d1c06\" style=\"padding-left: 10px;\" text = \"\"/>\n",
       "            "
      ],
      "text/plain": [
       "<IPython.core.display.HTML object>"
      ]
     },
     "metadata": {},
     "output_type": "display_data"
    },
    {
     "data": {
      "text/html": [
       "\n",
       "            <div style=\"float: left; border: 1px solid black; width:500px\">\n",
       "              <div id=\"d89c98bb-0629-4bf9-bfc6-e1669a2b3f25\" style=\"background-color:blue; width:0%\">&nbsp;</div>\n",
       "            </div>\n",
       "            <label id=\"0c05c2a3-935f-4254-aef9-fb013f328295\" style=\"padding-left: 10px;\" text = \"\"/>\n",
       "            "
      ],
      "text/plain": [
       "<IPython.core.display.HTML object>"
      ]
     },
     "metadata": {},
     "output_type": "display_data"
    },
    {
     "data": {
      "text/html": [
       "\n",
       "            <div style=\"float: left; border: 1px solid black; width:500px\">\n",
       "              <div id=\"77090fec-ad72-4780-ba34-32127ed461ed\" style=\"background-color:blue; width:0%\">&nbsp;</div>\n",
       "            </div>\n",
       "            <label id=\"ad771156-f5d5-48fa-8ce8-343d590ee893\" style=\"padding-left: 10px;\" text = \"\"/>\n",
       "            "
      ],
      "text/plain": [
       "<IPython.core.display.HTML object>"
      ]
     },
     "metadata": {},
     "output_type": "display_data"
    },
    {
     "data": {
      "text/html": [
       "\n",
       "            <div style=\"float: left; border: 1px solid black; width:500px\">\n",
       "              <div id=\"29bbbc56-a6bb-455d-bfca-fb3718ea3035\" style=\"background-color:blue; width:0%\">&nbsp;</div>\n",
       "            </div>\n",
       "            <label id=\"afc29613-19cb-41d3-8418-4ab047cdbab7\" style=\"padding-left: 10px;\" text = \"\"/>\n",
       "            "
      ],
      "text/plain": [
       "<IPython.core.display.HTML object>"
      ]
     },
     "metadata": {},
     "output_type": "display_data"
    },
    {
     "data": {
      "text/html": [
       "\n",
       "            <div style=\"float: left; border: 1px solid black; width:500px\">\n",
       "              <div id=\"f15a6f72-3fc8-4c4f-a8e7-64f42bf6c38d\" style=\"background-color:blue; width:0%\">&nbsp;</div>\n",
       "            </div>\n",
       "            <label id=\"95bc1df0-1850-4bef-aa15-a415d1a46157\" style=\"padding-left: 10px;\" text = \"\"/>\n",
       "            "
      ],
      "text/plain": [
       "<IPython.core.display.HTML object>"
      ]
     },
     "metadata": {},
     "output_type": "display_data"
    },
    {
     "data": {
      "text/html": [
       "\n",
       "            <div style=\"float: left; border: 1px solid black; width:500px\">\n",
       "              <div id=\"85569191-b114-4418-95a1-09099260da70\" style=\"background-color:blue; width:0%\">&nbsp;</div>\n",
       "            </div>\n",
       "            <label id=\"9582d458-168b-4944-8585-b802d1446e6d\" style=\"padding-left: 10px;\" text = \"\"/>\n",
       "            "
      ],
      "text/plain": [
       "<IPython.core.display.HTML object>"
      ]
     },
     "metadata": {},
     "output_type": "display_data"
    },
    {
     "data": {
      "text/html": [
       "\n",
       "            <div style=\"float: left; border: 1px solid black; width:500px\">\n",
       "              <div id=\"5ad735a1-f704-44ab-a045-c61d84777622\" style=\"background-color:blue; width:0%\">&nbsp;</div>\n",
       "            </div>\n",
       "            <label id=\"c0082bcd-2e87-41ac-b365-d11cd4eda1c6\" style=\"padding-left: 10px;\" text = \"\"/>\n",
       "            "
      ],
      "text/plain": [
       "<IPython.core.display.HTML object>"
      ]
     },
     "metadata": {},
     "output_type": "display_data"
    },
    {
     "data": {
      "text/html": [
       "\n",
       "            <div style=\"float: left; border: 1px solid black; width:500px\">\n",
       "              <div id=\"fd975c65-c4f0-41b8-acbf-f488eb2d9082\" style=\"background-color:blue; width:0%\">&nbsp;</div>\n",
       "            </div>\n",
       "            <label id=\"0d487ab7-b879-415a-9781-9bd17d2600a8\" style=\"padding-left: 10px;\" text = \"\"/>\n",
       "            "
      ],
      "text/plain": [
       "<IPython.core.display.HTML object>"
      ]
     },
     "metadata": {},
     "output_type": "display_data"
    },
    {
     "data": {
      "text/html": [
       "\n",
       "            <div style=\"float: left; border: 1px solid black; width:500px\">\n",
       "              <div id=\"35b7539e-6f6c-47b7-98a0-4dbb54ed9df4\" style=\"background-color:blue; width:0%\">&nbsp;</div>\n",
       "            </div>\n",
       "            <label id=\"5e3db338-711e-4856-ae4d-7c5cd02da214\" style=\"padding-left: 10px;\" text = \"\"/>\n",
       "            "
      ],
      "text/plain": [
       "<IPython.core.display.HTML object>"
      ]
     },
     "metadata": {},
     "output_type": "display_data"
    },
    {
     "data": {
      "text/html": [
       "\n",
       "            <div style=\"float: left; border: 1px solid black; width:500px\">\n",
       "              <div id=\"7c7a7b58-7f65-4ae6-b2a6-09f3cd36c0f6\" style=\"background-color:blue; width:0%\">&nbsp;</div>\n",
       "            </div>\n",
       "            <label id=\"2ad3ad66-8b00-4fd6-b67a-5b7ed9d18528\" style=\"padding-left: 10px;\" text = \"\"/>\n",
       "            "
      ],
      "text/plain": [
       "<IPython.core.display.HTML object>"
      ]
     },
     "metadata": {},
     "output_type": "display_data"
    },
    {
     "name": "stdout",
     "output_type": "stream",
     "text": [
      "Done\n"
     ]
    }
   ],
   "source": [
    "from fitter import Fitter\n",
    "import pandas as pd\n",
    "import numpy as np\n",
    "from Classes import Simulation_Team\n",
    "from Simulate import simulate\n",
    "from Image_Making import create_win_probabilities_image, create_fantasy_rankings_image, create_primetime_opener_image, create_primetime_stat_projections_image\n",
    "from Other_Functions import bubble_sort_by_fpts, return_best_fit_in_str_format\n",
    "\n",
    "# Base team colors, for image making\n",
    "team_colors = {\"Bills\": (2, 45, 147), \"Dolphins\": (1, 142, 151), \"Jets\": (12, 87, 64), \"Patriots\": (206, 2, 29), \"Bengals\": (239, 72, 30), \"Browns\": (221, 96, 6), \"Ravens\": (42, 44, 129), \"Steelers\": (240, 200, 24), \"Colts\": (0, 50, 101), \"Jaguars\": (18, 101, 119), \"Texans\": (199, 35, 62), \"Titans\": (68, 148, 209), \"Broncos\": (242, 105, 34), \"Chargers\": (55, 120, 188), \"Chiefs\": (204, 3, 25), \"Raiders\": (209, 209, 211), \"Cowboys\": (212, 213, 215), \"Eagles\": (0, 71, 81), \"Football Team\": (88, 20, 19), \"Giants\": (0, 57, 124), \"Bears\": (27, 27, 63), \"Lions\": (1, 116, 181), \"Packers\": (31, 53, 48), \"Vikings\": (70, 23, 89), \"Buccaneers\": (234, 18, 5), \"Falcons\": (200, 33, 59), \"Panthers\": (12, 149, 211), \"Saints\": (209, 187, 140), \"49ers\": (196, 168, 114), \"Cardinals\": (176, 5, 57), \"Rams\": (0, 53, 148), \"Seahawks\": (99, 187, 38)}\n",
    "# Team abbrevations, for image making\n",
    "team_mnemonics = {\"Bills\": \"BUF\", \"Dolphins\": \"MIA\", \"Jets\": \"NYJ\", \"Patriots\": \"NE\", \"Bengals\": \"CIN\", \"Browns\": \"CLE\", \"Ravens\": \"BAL\", \"Steelers\": \"PIT\", \"Colts\": \"IND\", \"Jaguars\": \"JAX\", \"Texans\": \"HOU\", \"Titans\": \"TEN\", \"Broncos\": \"DEN\", \"Chargers\": \"LAC\", \"Chiefs\": \"KC\", \"Raiders\": \"LV\", \"Cowboys\": \"DAL\", \"Eagles\": \"PHI\", \"Football Team\": \"WAS\", \"Giants\": \"NYG\", \"Bears\": \"CHI\", \"Lions\": \"DET\", \"Packers\": \"GB\", \"Vikings\": \"MIN\", \"Buccaneers\": \"TB\", \"Falcons\": \"ATL\", \"Panthers\": \"CAR\", \"Saints\": \"NO\", \"49ers\": \"SF\", \"Cardinals\": \"ARI\", \"Rams\": \"LAR\", \"Seahawks\": \"SEA\"}\n",
    "# Weekly schedule. Games with a value of \"Primetime\" indicate they are primetime games, and should not be included when making Sunday win probability images\n",
    "schedule = {\"49ers at Titans\": \"Primetime\", \"Browns at Packers\": \"Primetime\", \"Colts at Cardinals\": \"Primetime\", \"Giants at Eagles\": \"\", \"Rams at Vikings\": \"\", \"Bills at Patriots\": \"\", \"Buccaneers at Panthers\": \"\", \"Jaguars at Jets\": \"\", \"Lions at Falcons\": \"\", \"Chargers at Texans\": \"\", \"Ravens at Bengals\": \"\", \"Bears at Seahawks\": \"\", \"Steelers at Chiefs\": \"\", \"Broncos at Raiders\": \"\", \"Football Team at Cowboys\": \"Primetime\", \"Dolphins at Saints\": \"Primetime\"}\n",
    "# Fanduel Sportsbook bets for each game (only primetime games considered). In form [road spread, total points over/under]\n",
    "bets = [[-3.5, 44.5], [7, 44], [1.5, 49.5], [], [], [], [], [], [], [], [], [], [], [], [10.5, 47.5], [3, 38.5]]\n",
    "week = 16 # Current week being simulated\n",
    "n = 10000 # Number of times to simulate each game\n",
    "matchups_data = list()\n",
    "primetime_data = list()\n",
    "all_qbs = list()\n",
    "all_rbs = list()\n",
    "all_wrs = list()\n",
    "all_tes = list()\n",
    "all_ks = list()\n",
    "all_teams = list()\n",
    "j = -1 # Acts as an indexer, don't use range() for loop as it looks more readable this way\n",
    "for game in schedule:\n",
    "    j += 1\n",
    "\n",
    "    # Initalize road and home team objects for the current game\n",
    "    road = game[0:game.index(\" at\")]\n",
    "    home = game[game.index(\" at\") + 4:]\n",
    "    print(road)\n",
    "    print(home)\n",
    "    road_team = Simulation_Team(road, year=\"2021 \")\n",
    "    home_team = Simulation_Team(home, year=\"2021 \")\n",
    "    road_team.create_players_data()\n",
    "    home_team.create_players_data()\n",
    "\n",
    "    # Add road and home team to teams playing this week    \n",
    "    all_teams.append(road_team)\n",
    "    all_teams.append(home_team)\n",
    "\n",
    "    # Add road and home players to respective positional lists\n",
    "    for position in road_team.players:\n",
    "        for player in road_team.players[position]:\n",
    "            if position == \"QBs\":\n",
    "                all_qbs.append(player)\n",
    "            elif position == \"RBs\":\n",
    "                all_rbs.append(player)\n",
    "            elif position == \"WRs\":\n",
    "                all_wrs.append(player)\n",
    "            elif position == \"TEs\":\n",
    "                all_tes.append(player)\n",
    "            elif position == \"Ks\":\n",
    "                all_ks.append(player)\n",
    "    for position in home_team.players:\n",
    "        for player in home_team.players[position]:\n",
    "            if position == \"QBs\":\n",
    "                all_qbs.append(player)\n",
    "            elif position == \"RBs\":\n",
    "                all_rbs.append(player)\n",
    "            elif position == \"WRs\":\n",
    "                all_wrs.append(player)\n",
    "            elif position == \"TEs\":\n",
    "                all_tes.append(player)\n",
    "            elif position == \"Ks\":\n",
    "                all_ks.append(player)\n",
    "    point_differential = list() # List of point differential in every simulation for this game\n",
    "    total_points = list() # List of total points in every simulation for this game\n",
    "    for i in range(0, n): # Simulate game n times, update stats\n",
    "        simulate(road_team, home_team)\n",
    "        point_differential.append(road_team.points - home_team.points)\n",
    "        total_points.append(road_team.points + home_team.points)\n",
    "        road_team.update_all_games_or_season_stats(home_team, \"games\")\n",
    "        home_team.update_all_games_or_season_stats(road_team, \"games\")\n",
    "        road_team.reset_game_or_season_stats(\"game\")\n",
    "        home_team.reset_game_or_season_stats(\"game\")\n",
    "    if schedule[road_team.name + \" at \" + home_team.name] != \"Primetime\": # Game is not primetime\n",
    "        # Add data for the matchup to matchups_data, which will later be passed to a function to create the Sunday win probabilities image\n",
    "        matchups_data.append([road_team.name, round(100 * road_team.record[0] / n, 1), home_team.name, round(100 * home_team.record[0] / n, 1), round(100 - round(100 * home_team.record[0] / n, 1) - round(100 * road_team.record[0] / n, 1), 1)])\n",
    "    else: # Game is primetime\n",
    "        primetime_data.append([road_team, home_team, bets[j]]) # Add data for the matchup to primetime_data\n",
    "\n",
    "    # Statistical distributions to consider when fitting data    \n",
    "    _distributions = [\"exponnorm\", \"f\", \"fatiguelife\", \"gamma\", \"johnsonsb\", \"johnsonsu\", \"mielke\", \"norminvgauss\", \"norm\"]\n",
    "\n",
    "    # Fit several stats to data\n",
    "    f_point_differential = Fitter(point_differential, distributions=_distributions)\n",
    "    f_point_differential.fit()\n",
    "    f_total_points = Fitter(total_points, distributions=_distributions)\n",
    "    f_total_points.fit()\n",
    "    f_road_points = Fitter(road_team.all_games_stats[\"PTS\"], distributions=_distributions)\n",
    "    f_road_points.fit()\n",
    "    f_road_pass_comps = Fitter(road_team.all_games_stats[\"PCOMPs\"], distributions=_distributions)\n",
    "    f_road_pass_comps.fit()\n",
    "    f_road_pass_atts = Fitter(road_team.all_games_stats[\"PATTs\"], distributions=_distributions)\n",
    "    f_road_pass_atts.fit()\n",
    "    f_road_pass_yards = Fitter(road_team.all_games_stats[\"PYDs\"], distributions=_distributions)\n",
    "    f_road_pass_yards.fit()\n",
    "    f_road_pass_tds = Fitter(road_team.all_games_stats[\"PTDs\"], distributions=_distributions)\n",
    "    f_road_pass_tds.fit()\n",
    "    f_road_ints = Fitter(road_team.all_games_stats[\"INTs\"], distributions=_distributions)\n",
    "    f_road_ints.fit()\n",
    "    f_road_rush_yards = Fitter(road_team.all_games_stats[\"RYDs\"], distributions=_distributions)\n",
    "    f_road_rush_yards.fit()\n",
    "    f_road_rush_tds = Fitter(road_team.all_games_stats[\"RTDs\"], distributions=_distributions)\n",
    "    f_road_rush_tds.fit()\n",
    "    f_home_points = Fitter(home_team.all_games_stats[\"PTS\"], distributions=_distributions)\n",
    "    f_home_points.fit()\n",
    "    f_home_pass_comps = Fitter(home_team.all_games_stats[\"PCOMPs\"], distributions=_distributions)\n",
    "    f_home_pass_comps.fit()\n",
    "    f_home_pass_atts = Fitter(home_team.all_games_stats[\"PATTs\"], distributions=_distributions)\n",
    "    f_home_pass_atts.fit()\n",
    "    f_home_pass_yards = Fitter(home_team.all_games_stats[\"PYDs\"], distributions=_distributions)\n",
    "    f_home_pass_yards.fit()\n",
    "    f_home_pass_tds = Fitter(home_team.all_games_stats[\"PTDs\"], distributions=_distributions)\n",
    "    f_home_pass_tds.fit()\n",
    "    f_home_ints = Fitter(home_team.all_games_stats[\"INTs\"], distributions=_distributions)\n",
    "    f_home_ints.fit()\n",
    "    f_home_rush_yards = Fitter(home_team.all_games_stats[\"RYDs\"], distributions=_distributions)\n",
    "    f_home_rush_yards.fit()\n",
    "    f_home_rush_tds = Fitter(home_team.all_games_stats[\"RTDs\"], distributions=_distributions)\n",
    "    f_home_rush_tds.fit()\n",
    "\n",
    "    # Create data frames to write to excel for the game, and write them to an Excel Spreadsheet\n",
    "    overall_stats_df = pd.DataFrame([[round(100 * road_team.record[0] / n, 1), round(100 * home_team.record[0] / n, 1), round(100 * road_team.record[2] / n, 1), round(np.mean(point_differential), 1), return_best_fit_in_str_format(f_point_differential.get_best(method=\"sumsquare_error\")), \" \".join([str(num) for num in point_differential]), round(np.mean(total_points), 1), return_best_fit_in_str_format(f_total_points.get_best(method=\"sumsquare_error\")), \" \".join([str(num) for num in total_points]), round(np.mean(road_team.all_games_stats[\"FPTS\"]), 2), round(np.mean(home_team.all_games_stats[\"FPTS\"]), 2)]], columns=[road_team.name + \" WIN %\", home_team.name + \" WIN %\", \"TIE %\", \"Avg. Point Differential\", \"Point Differential Distribution\", \"Point Differential List\", \"Avg. Tot. PTS\", \"PTS Distribution\", \"PTS List\", road_team.name + \"Avg. FPTS\", home_team.name + \"Avg. FPTS\"])\n",
    "    road_stats_df = pd.DataFrame([[round(np.mean(road_team.all_games_stats[\"PTS\"]), 1), round(np.mean(road_team.all_games_stats[\"PCOMPs\"]), 1), round(np.mean(road_team.all_games_stats[\"PATTs\"]), 1), round(np.mean(road_team.all_games_stats[\"PYDs\"]), 2), round(np.mean(road_team.all_games_stats[\"PTDs\"]), 2), round(np.mean(road_team.all_games_stats[\"INTs\"]), 2), round(np.mean(road_team.all_games_stats[\"RYDs\"]), 2), round(np.mean(road_team.all_games_stats[\"RTDs\"]), 2)], [return_best_fit_in_str_format(f_road_points.get_best(method=\"sumsquare_error\")), return_best_fit_in_str_format(f_road_pass_comps.get_best(method=\"sumsquare_error\")), return_best_fit_in_str_format(f_road_pass_atts.get_best(method=\"sumsquare_error\")), return_best_fit_in_str_format(f_road_pass_yards.get_best(method=\"sumsquare_error\")), return_best_fit_in_str_format(f_road_pass_tds.get_best(method=\"sumsquare_error\")), return_best_fit_in_str_format(f_road_ints.get_best(method=\"sumsquare_error\")), return_best_fit_in_str_format(f_road_rush_yards.get_best(method=\"sumsquare_error\")), return_best_fit_in_str_format(f_road_rush_tds.get_best(method=\"sumsquare_error\"))], [\" \".join([str(num) for num in road_team.all_games_stats[\"PTS\"]]), \" \".join([str(num) for num in road_team.all_games_stats[\"PCOMPs\"]]), \" \".join([str(num) for num in road_team.all_games_stats[\"PATTs\"]]), \" \".join([str(num) for num in road_team.all_games_stats[\"PYDs\"]]), \" \".join([str(num) for num in road_team.all_games_stats[\"PTDs\"]]), \" \".join([str(num) for num in road_team.all_games_stats[\"INTs\"]]), \" \".join([str(num) for num in road_team.all_games_stats[\"RYDs\"]]), \" \".join([str(num) for num in road_team.all_games_stats[\"RTDs\"]])]], columns=[\"PTS\", \"PCOMPs\", \"PATTs\", \"PYDs\", \"PTDs\", \"INTs\", \"RYDs\", \"RTDs\"], index=[\"Avg.\", \"Best Dist.\", \"List\"])\n",
    "    road_qbs_stats_df = pd.DataFrame([[player.name, round(np.mean(player.all_games_stats[\"PCOMPs\"]), 1), round(np.mean(player.all_games_stats[\"PATTs\"]), 1), round(np.mean(player.all_games_stats[\"PYDs\"]), 2), round(np.mean(player.all_games_stats[\"PTDs\"]), 2), round(np.mean(player.all_games_stats[\"INTs\"]), 2), round(np.mean(player.all_games_stats[\"FMBLs\"]), 2), round(np.mean(player.all_games_stats[\"RATTs\"]), 1), round(np.mean(player.all_games_stats[\"RYDs\"]), 2), round(np.mean(player.all_games_stats[\"RTDs\"]), 2), round(np.mean(player.all_games_stats[\"2PCs\"]), 2), round(np.mean(player.all_games_stats[\"FPTS\"]), 2)] for player in bubble_sort_by_fpts(road_team.players[\"QBs\"])], columns=[\"Name\", \"PCOMPs\", \"PATTs\", \"PYDs\", \"PTDs\", \"INTs\", \"FMBLs\", \"RATTs\", \"RYDs\", \"RTDs\", \"2PCs\", \"FPTS\"])\n",
    "    road_skill_players_stats_df = pd.DataFrame([[player.name, round(np.mean(player.all_games_stats[\"Rec\"]), 2), round(np.mean(player.all_games_stats[\"RecYDs\"]), 2), round(np.mean(player.all_games_stats[\"RecTDs\"]), 2), round(np.mean(player.all_games_stats[\"FMBLs\"]), 2), round(np.mean(player.all_games_stats[\"RATTs\"]), 1), round(np.mean(player.all_games_stats[\"RYDs\"]), 2), round(np.mean(player.all_games_stats[\"RTDs\"]), 2), round(np.mean(player.all_games_stats[\"2PCs\"]), 2), round(np.mean(player.all_games_stats[\"FPTS\"]), 2), round(np.mean(player.all_games_stats[\"FPTS\"]) - np.mean(player.all_games_stats[\"Rec\"]), 2)] for player in bubble_sort_by_fpts(road_team.skill_position_players)], columns=[\"Name\", \"Rec\", \"RecYDs\", \"RecTDs\", \"FMBLs\", \"RATTs\", \"RYDs\", \"RTDs\", \"2PCs\", \"FPTS (PPR)\", \"FPTS (Non-PPR)\"])\n",
    "    road_k_stats_df = pd.DataFrame([[road_team.players[\"Ks\"][0].name, round(np.mean(road_team.players[\"Ks\"][0].all_games_stats[\"XPM\"]), 2), round(np.mean(road_team.players[\"Ks\"][0].all_games_stats[\"XPA\"]), 2), round(np.mean(road_team.players[\"Ks\"][0].all_games_stats[\"FG50-M\"]), 2), round(np.mean(road_team.players[\"Ks\"][0].all_games_stats[\"FG50-A\"]), 2), round(np.mean(road_team.players[\"Ks\"][0].all_games_stats[\"FG50+M\"]), 2), round(np.mean(road_team.players[\"Ks\"][0].all_games_stats[\"FG50+A\"]), 2), round(np.mean(road_team.players[\"Ks\"][0].all_games_stats[\"FPTS\"]), 2)]], columns=[\"Name\", \"XPM\", \"XPA\", \"FG50-M\", \"FG50-A\", \"FG50+M\", \"FG50+A\", \"FPTS\"])\n",
    "    home_stats_df = pd.DataFrame([[round(np.mean(home_team.all_games_stats[\"PTS\"]), 1), round(np.mean(home_team.all_games_stats[\"PCOMPs\"]), 1), round(np.mean(home_team.all_games_stats[\"PATTs\"]), 1), round(np.mean(home_team.all_games_stats[\"PYDs\"]), 2), round(np.mean(home_team.all_games_stats[\"PTDs\"]), 2), round(np.mean(home_team.all_games_stats[\"INTs\"]), 2), round(np.mean(home_team.all_games_stats[\"RYDs\"]), 2), round(np.mean(home_team.all_games_stats[\"RTDs\"]), 2)], [return_best_fit_in_str_format(f_home_points.get_best(method=\"sumsquare_error\")), return_best_fit_in_str_format(f_home_pass_comps.get_best(method=\"sumsquare_error\")), return_best_fit_in_str_format(f_home_pass_atts.get_best(method=\"sumsquare_error\")), return_best_fit_in_str_format(f_home_pass_yards.get_best(method=\"sumsquare_error\")), return_best_fit_in_str_format(f_home_pass_tds.get_best(method=\"sumsquare_error\")), return_best_fit_in_str_format(f_home_ints.get_best(method=\"sumsquare_error\")), return_best_fit_in_str_format(f_home_rush_yards.get_best(method=\"sumsquare_error\")), return_best_fit_in_str_format(f_home_rush_tds.get_best(method=\"sumsquare_error\"))], [\" \".join([str(num) for num in home_team.all_games_stats[\"PTS\"]]), \" \".join([str(num) for num in home_team.all_games_stats[\"PCOMPs\"]]), \" \".join([str(num) for num in home_team.all_games_stats[\"PATTs\"]]), \" \".join([str(num) for num in home_team.all_games_stats[\"PYDs\"]]), \" \".join([str(num) for num in home_team.all_games_stats[\"PTDs\"]]), \" \".join([str(num) for num in home_team.all_games_stats[\"INTs\"]]), \" \".join([str(num) for num in home_team.all_games_stats[\"RYDs\"]]), \" \".join([str(num) for num in home_team.all_games_stats[\"RTDs\"]])]], columns=[\"PTS\", \"PCOMPs\", \"PATTs\", \"PYDs\", \"PTDs\", \"INTs\", \"RYDs\", \"RTDs\"], index=[\"Avg.\", \"Best Dist.\", \"List\"])\n",
    "    home_qbs_stats_df = pd.DataFrame([[player.name, round(np.mean(player.all_games_stats[\"PCOMPs\"]), 1), round(np.mean(player.all_games_stats[\"PATTs\"]), 1), round(np.mean(player.all_games_stats[\"PYDs\"]), 2), round(np.mean(player.all_games_stats[\"PTDs\"]), 2), round(np.mean(player.all_games_stats[\"INTs\"]), 2), round(np.mean(player.all_games_stats[\"FMBLs\"]), 2), round(np.mean(player.all_games_stats[\"RATTs\"]), 1), round(np.mean(player.all_games_stats[\"RYDs\"]), 2), round(np.mean(player.all_games_stats[\"RTDs\"]), 2), round(np.mean(player.all_games_stats[\"2PCs\"]), 2), round(np.mean(player.all_games_stats[\"FPTS\"]), 2)] for player in bubble_sort_by_fpts(home_team.players[\"QBs\"])], columns=[\"Name\", \"PCOMPs\", \"PATTs\", \"PYDs\", \"PTDs\", \"INTs\", \"FMBLs\", \"RATTs\", \"RYDs\", \"RTDs\", \"2PCs\", \"FPTS\"])\n",
    "    home_skill_players_stats_df = pd.DataFrame([[player.name, round(np.mean(player.all_games_stats[\"Rec\"]), 2), round(np.mean(player.all_games_stats[\"RecYDs\"]), 2), round(np.mean(player.all_games_stats[\"RecTDs\"]), 2), round(np.mean(player.all_games_stats[\"FMBLs\"]), 2), round(np.mean(player.all_games_stats[\"RATTs\"]), 1), round(np.mean(player.all_games_stats[\"RYDs\"]), 2), round(np.mean(player.all_games_stats[\"RTDs\"]), 2), round(np.mean(player.all_games_stats[\"2PCs\"]), 2), round(np.mean(player.all_games_stats[\"FPTS\"]), 2), round(np.mean(player.all_games_stats[\"FPTS\"]) - np.mean(player.all_games_stats[\"Rec\"]), 2)] for player in bubble_sort_by_fpts(home_team.skill_position_players)], columns=[\"Name\", \"Rec\", \"RecYDs\", \"RecTDs\", \"FMBLs\", \"RATTs\", \"RYDs\", \"RTDs\", \"2PCs\", \"FPTS (PPR)\", \"FPTS (Non-PPR)\"])\n",
    "    home_k_stats_df = pd.DataFrame([[home_team.players[\"Ks\"][0].name, round(np.mean(home_team.players[\"Ks\"][0].all_games_stats[\"XPM\"]), 2), round(np.mean(home_team.players[\"Ks\"][0].all_games_stats[\"XPA\"]), 2), round(np.mean(home_team.players[\"Ks\"][0].all_games_stats[\"FG50-M\"]), 2), round(np.mean(home_team.players[\"Ks\"][0].all_games_stats[\"FG50-A\"]), 2), round(np.mean(home_team.players[\"Ks\"][0].all_games_stats[\"FG50+M\"]), 2), round(np.mean(home_team.players[\"Ks\"][0].all_games_stats[\"FG50+A\"]), 2), round(np.mean(home_team.players[\"Ks\"][0].all_games_stats[\"FPTS\"]), 2)]], columns=[\"Name\", \"XPM\", \"XPA\", \"FG50-M\", \"FG50-A\", \"FG50+M\", \"FG50+A\", \"FPTS\"])\n",
    "    with pd.ExcelWriter(\"Game Simulations/Week \" + str(week) + \"/\" + road_team.name + \" at \" + home_team.name + \".xlsx\") as writer:\n",
    "        overall_stats_df.to_excel(writer, sheet_name=\"Overall game stats\")\n",
    "        road_stats_df.to_excel(writer, sheet_name=team_mnemonics[road_team.name] + \" game stats\")\n",
    "        road_qbs_stats_df.to_excel(writer, sheet_name=team_mnemonics[road_team.name] + \" pass stats\")\n",
    "        road_skill_players_stats_df.to_excel(writer, sheet_name=team_mnemonics[road_team.name] + \" rec and rush stats\")\n",
    "        road_k_stats_df.to_excel(writer, sheet_name=team_mnemonics[road_team.name] + \" kicking stats\")\n",
    "        home_stats_df.to_excel(writer, sheet_name=team_mnemonics[home_team.name] + \" game stats\")\n",
    "        home_qbs_stats_df.to_excel(writer, sheet_name=team_mnemonics[home_team.name] + \" pass stats\")\n",
    "        home_skill_players_stats_df.to_excel(writer, sheet_name=team_mnemonics[home_team.name] + \" rec and rush stats\")\n",
    "        home_k_stats_df.to_excel(writer, sheet_name=home_team.name + \" kicking stats\")\n",
    "\n",
    "# Create data frames for the full weekly fantasy projections, and write them to an Excel spreadsheet\n",
    "all_qbs_stats_df = pd.DataFrame([[player.name + \"(\" + team_mnemonics[player.team] + \")\", round(np.mean(player.all_games_stats[\"PCOMPs\"]), 1), round(np.mean(player.all_games_stats[\"PATTs\"]), 1), round(np.mean(player.all_games_stats[\"PYDs\"]), 2), round(np.mean(player.all_games_stats[\"PTDs\"]), 2), round(np.mean(player.all_games_stats[\"INTs\"]), 2), round(np.mean(player.all_games_stats[\"FMBLs\"]), 2), round(np.mean(player.all_games_stats[\"RATTs\"]), 1), round(np.mean(player.all_games_stats[\"RYDs\"]), 2), round(np.mean(player.all_games_stats[\"RTDs\"]), 2), round(np.mean(player.all_games_stats[\"2PCs\"]), 2), round(np.mean(player.all_games_stats[\"FPTS\"]), 2)] for player in bubble_sort_by_fpts(all_qbs)], columns=[\"Name\", \"PCOMPs\", \"PATTs\", \"PYDs\", \"PTDs\", \"INTs\", \"FMBLs\", \"RATTs\", \"RYDs\", \"RTDs\", \"2PCs\", \"FPTS\"]) \n",
    "all_rbs_stats_df = pd.DataFrame([[player.name + \"(\" + team_mnemonics[player.team] + \")\", round(np.mean(player.all_games_stats[\"Rec\"]), 2), round(np.mean(player.all_games_stats[\"RecYDs\"]), 2), round(np.mean(player.all_games_stats[\"RecTDs\"]), 2), round(np.mean(player.all_games_stats[\"FMBLs\"]), 2), round(np.mean(player.all_games_stats[\"RATTs\"]), 1), round(np.mean(player.all_games_stats[\"RYDs\"]), 2), round(np.mean(player.all_games_stats[\"RTDs\"]), 2), round(np.mean(player.all_games_stats[\"2PCs\"]), 2), round(np.mean(player.all_games_stats[\"FPTS\"]), 2), round(np.mean(player.all_games_stats[\"FPTS\"]) - np.mean(player.all_games_stats[\"Rec\"]), 2)] for player in bubble_sort_by_fpts(all_rbs)], columns=[\"Name\", \"Rec\", \"RecYDs\", \"RecTDs\", \"FMBLs\", \"RATTs\", \"RYDs\", \"RTDs\", \"2PCs\", \"FPTS (PPR)\", \"FPTS (Non-PPR)\"])\n",
    "all_wrs_stats_df = pd.DataFrame([[player.name + \"(\" + team_mnemonics[player.team] + \")\", round(np.mean(player.all_games_stats[\"Rec\"]), 2), round(np.mean(player.all_games_stats[\"RecYDs\"]), 2), round(np.mean(player.all_games_stats[\"RecTDs\"]), 2), round(np.mean(player.all_games_stats[\"FMBLs\"]), 2), round(np.mean(player.all_games_stats[\"RATTs\"]), 1), round(np.mean(player.all_games_stats[\"RYDs\"]), 2), round(np.mean(player.all_games_stats[\"RTDs\"]), 2), round(np.mean(player.all_games_stats[\"2PCs\"]), 2), round(np.mean(player.all_games_stats[\"FPTS\"]), 2), round(np.mean(player.all_games_stats[\"FPTS\"]) - np.mean(player.all_games_stats[\"Rec\"]), 2)] for player in bubble_sort_by_fpts(all_wrs)], columns=[\"Name\", \"Rec\", \"RecYDs\", \"RecTDs\", \"FMBLs\", \"RATTs\", \"RYDs\", \"RTDs\", \"2PCs\", \"FPTS (PPR)\", \"FPTS (Non-PPR)\"])\n",
    "all_tes_stats_df = pd.DataFrame([[player.name + \"(\" + team_mnemonics[player.team] + \")\", round(np.mean(player.all_games_stats[\"Rec\"]), 2), round(np.mean(player.all_games_stats[\"RecYDs\"]), 2), round(np.mean(player.all_games_stats[\"RecTDs\"]), 2), round(np.mean(player.all_games_stats[\"FMBLs\"]), 2), round(np.mean(player.all_games_stats[\"RATTs\"]), 1), round(np.mean(player.all_games_stats[\"RYDs\"]), 2), round(np.mean(player.all_games_stats[\"RTDs\"]), 2), round(np.mean(player.all_games_stats[\"2PCs\"]), 2), round(np.mean(player.all_games_stats[\"FPTS\"]), 2), round(np.mean(player.all_games_stats[\"FPTS\"]) - np.mean(player.all_games_stats[\"Rec\"]), 2)] for player in bubble_sort_by_fpts(all_tes)], columns=[\"Name\", \"Rec\", \"RecYDs\", \"RecTDs\", \"FMBLs\", \"RATTs\", \"RYDs\", \"RTDs\", \"2PCs\", \"FPTS (PPR)\", \"FPTS (Non-PPR)\"])\n",
    "all_ks_stats_df = pd.DataFrame([[player.name + \"(\" + team_mnemonics[player.team] + \")\", round(np.mean(player.all_games_stats[\"XPM\"]), 2), round(np.mean(player.all_games_stats[\"XPA\"]), 2), round(np.mean(player.all_games_stats[\"FG50-M\"]), 2), round(np.mean(player.all_games_stats[\"FG50-A\"]), 2), round(np.mean(player.all_games_stats[\"FG50+M\"]), 2), round(np.mean(player.all_games_stats[\"FG50+A\"]), 2), round(np.mean(player.all_games_stats[\"FPTS\"]), 2)] for player in bubble_sort_by_fpts(all_ks)], columns=[\"Name\", \"XPM\", \"XPA\", \"FG50-M\", \"FG50-A\", \"FG50+M\", \"FG50+A\", \"FPTS\"])\n",
    "all_defenses_stats_df = pd.DataFrame([[team.name, round(np.mean(team.all_games_stats[\"FPTS\"]), 2)] for team in bubble_sort_by_fpts(all_teams)], columns=[\"Team\", \"FPTS\"])\n",
    "with pd.ExcelWriter(\"Game Simulations/Week \" + str(week) + \"/Fantasy Projections.xlsx\") as writer:\n",
    "    all_qbs_stats_df.to_excel(writer, sheet_name=\"QBs\")\n",
    "    all_rbs_stats_df.to_excel(writer, sheet_name=\"RBs\")\n",
    "    all_wrs_stats_df.to_excel(writer, sheet_name=\"WRs\")\n",
    "    all_tes_stats_df.to_excel(writer, sheet_name=\"TEs\")\n",
    "    all_ks_stats_df.to_excel(writer, sheet_name=\"Ks\")\n",
    "    all_defenses_stats_df.to_excel(writer, sheet_name=\"DEFs\")\n",
    "\n",
    "for p in primetime_data: # Loop through primetime games\n",
    "    # Create primetime images for each game (automatically saved)\n",
    "    create_primetime_opener_image(p[0], p[1], week, p[2], n)\n",
    "    create_primetime_stat_projections_image(p[0], p[1], week)\n",
    "create_win_probabilities_image(matchups_data[0:8], week, 1) # Create and save win probabilities image for the first 8 Sunday early matchups\n",
    "create_win_probabilities_image(matchups_data[8:], week, 2) # Create and save win probabilities image for the remaining Sunday early matchups\n",
    "\n",
    "# Create and save fantasy rankings image for each position, for different scoring formats\n",
    "all_qbs = bubble_sort_by_fpts(all_qbs)\n",
    "create_fantasy_rankings_image(all_qbs[0:2*len(bets)], [qb.team for qb in all_qbs[0:2*len(bets)]], team_colors, team_mnemonics, \"QB\", week, 1, schedule=schedule)\n",
    "all_rbs = bubble_sort_by_fpts(all_rbs)\n",
    "create_fantasy_rankings_image(all_rbs[0:32], [rb.team for rb in all_rbs[0:32]], team_colors, team_mnemonics, \"RB\", week, 1, scoring_format=\"PPR\", schedule=schedule)\n",
    "create_fantasy_rankings_image(all_rbs[32:64], [rb.team for rb in all_rbs[32:64]], team_colors, team_mnemonics, \"RB\", week, 2, scoring_format=\"PPR\", schedule=schedule, starting_num=33)\n",
    "all_rbs = bubble_sort_by_fpts(all_rbs, scoring_format=\"Non-PPR\")\n",
    "create_fantasy_rankings_image(all_rbs[0:32], [rb.team for rb in all_rbs[0:32]], team_colors, team_mnemonics, \"RB\", week, 1, scoring_format=\"Non-PPR\", schedule=schedule)\n",
    "create_fantasy_rankings_image(all_rbs[32:64], [rb.team for rb in all_rbs[32:64]], team_colors, team_mnemonics, \"RB\", week, 2, scoring_format=\"Non-PPR\", schedule=schedule, starting_num=33)\n",
    "all_wrs = bubble_sort_by_fpts(all_wrs)\n",
    "create_fantasy_rankings_image(all_wrs[0:32], [wr.team for wr in all_wrs[0:32]], team_colors, team_mnemonics, \"WR\", week, 1, scoring_format=\"PPR\", schedule=schedule)\n",
    "create_fantasy_rankings_image(all_wrs[32:64], [wr.team for wr in all_wrs[32:64]], team_colors, team_mnemonics, \"WR\", week, 2, scoring_format=\"PPR\", schedule=schedule, starting_num=33) \n",
    "all_wrs = bubble_sort_by_fpts(all_wrs, scoring_format=\"Non-PPR\")\n",
    "create_fantasy_rankings_image(all_wrs[0:32], [wr.team for wr in all_wrs[0:32]], team_colors, team_mnemonics, \"WR\", week, 1, scoring_format=\"Non-PPR\", schedule=schedule)\n",
    "create_fantasy_rankings_image(all_wrs[32:64], [wr.team for wr in all_wrs[32:64]], team_colors, team_mnemonics, \"WR\", week, 2, scoring_format=\"Non-PPR\", schedule=schedule, starting_num=33)\n",
    "all_tes = bubble_sort_by_fpts(all_tes)\n",
    "create_fantasy_rankings_image(all_tes[0:32], [te.team for te in all_tes[0:32]], team_colors, team_mnemonics, \"TE\", week, 1, scoring_format=\"PPR\", schedule=schedule)\n",
    "all_tes = bubble_sort_by_fpts(all_tes, scoring_format=\"Non-PPR\")\n",
    "create_fantasy_rankings_image(all_tes[0:32], [te.team for te in all_tes[0:32]], team_colors, team_mnemonics, \"TE\", week, 1, scoring_format=\"Non-PPR\", schedule=schedule)\n",
    "all_ks = bubble_sort_by_fpts(all_ks)\n",
    "create_fantasy_rankings_image(all_ks, [k.team for k in all_ks], team_colors, team_mnemonics, \"K\", week, 1, schedule=schedule)\n",
    "all_teams = bubble_sort_by_fpts(all_teams)\n",
    "create_fantasy_rankings_image(all_teams, [team.name for team in all_teams], team_colors, team_mnemonics, \"DEF\", week, 1, schedule=schedule)\n",
    "print(\"Done\")"
   ]
  }
 ],
 "metadata": {
  "kernelspec": {
   "display_name": "Python 3",
   "language": "python",
   "name": "python3"
  },
  "language_info": {
   "codemirror_mode": {
    "name": "ipython",
    "version": 3
   },
   "file_extension": ".py",
   "mimetype": "text/x-python",
   "name": "python",
   "nbconvert_exporter": "python",
   "pygments_lexer": "ipython3",
   "version": "3.8.5"
  }
 },
 "nbformat": 4,
 "nbformat_minor": 4
}
