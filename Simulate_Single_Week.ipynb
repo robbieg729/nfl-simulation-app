{
 "cells": [
  {
   "cell_type": "code",
   "execution_count": 1,
   "metadata": {},
   "outputs": [
    {
     "name": "stdout",
     "output_type": "stream",
     "text": [
      "Bengals\n",
      "Titans\n"
     ]
    },
    {
     "data": {
      "text/html": [
       "\n",
       "            <div style=\"float: left; border: 1px solid black; width:500px\">\n",
       "              <div id=\"371c97a6-f823-4eee-b676-71dc6164d435\" style=\"background-color:blue; width:0%\">&nbsp;</div>\n",
       "            </div>\n",
       "            <label id=\"78c91785-4d1e-4693-a9f5-ef15dd861aa7\" style=\"padding-left: 10px;\" text = \"\"/>\n",
       "            "
      ],
      "text/plain": [
       "<IPython.core.display.HTML object>"
      ]
     },
     "metadata": {},
     "output_type": "display_data"
    },
    {
     "data": {
      "text/html": [
       "\n",
       "            <div style=\"float: left; border: 1px solid black; width:500px\">\n",
       "              <div id=\"0a93b59a-3f22-4bca-b39e-886fcfc2e819\" style=\"background-color:blue; width:0%\">&nbsp;</div>\n",
       "            </div>\n",
       "            <label id=\"03b324c5-5af0-4da0-9e8d-e301ef9ac6d2\" style=\"padding-left: 10px;\" text = \"\"/>\n",
       "            "
      ],
      "text/plain": [
       "<IPython.core.display.HTML object>"
      ]
     },
     "metadata": {},
     "output_type": "display_data"
    },
    {
     "data": {
      "text/html": [
       "\n",
       "            <div style=\"float: left; border: 1px solid black; width:500px\">\n",
       "              <div id=\"3cb8d5f1-bc58-4856-8929-d9a9c63383f3\" style=\"background-color:blue; width:0%\">&nbsp;</div>\n",
       "            </div>\n",
       "            <label id=\"0c600bd6-f747-47f6-b4e6-087524aece0b\" style=\"padding-left: 10px;\" text = \"\"/>\n",
       "            "
      ],
      "text/plain": [
       "<IPython.core.display.HTML object>"
      ]
     },
     "metadata": {},
     "output_type": "display_data"
    },
    {
     "data": {
      "text/html": [
       "\n",
       "            <div style=\"float: left; border: 1px solid black; width:500px\">\n",
       "              <div id=\"63a49053-bfc8-48d7-9ead-4f2f0e38a97e\" style=\"background-color:blue; width:0%\">&nbsp;</div>\n",
       "            </div>\n",
       "            <label id=\"4011c545-7605-47d5-8dfa-75a032e59c96\" style=\"padding-left: 10px;\" text = \"\"/>\n",
       "            "
      ],
      "text/plain": [
       "<IPython.core.display.HTML object>"
      ]
     },
     "metadata": {},
     "output_type": "display_data"
    },
    {
     "data": {
      "text/html": [
       "\n",
       "            <div style=\"float: left; border: 1px solid black; width:500px\">\n",
       "              <div id=\"a2560fb9-03d1-442b-b04c-dc4aadd94dd9\" style=\"background-color:blue; width:0%\">&nbsp;</div>\n",
       "            </div>\n",
       "            <label id=\"3591a0c9-3ba9-4953-92b0-56bd3da690cc\" style=\"padding-left: 10px;\" text = \"\"/>\n",
       "            "
      ],
      "text/plain": [
       "<IPython.core.display.HTML object>"
      ]
     },
     "metadata": {},
     "output_type": "display_data"
    },
    {
     "data": {
      "text/html": [
       "\n",
       "            <div style=\"float: left; border: 1px solid black; width:500px\">\n",
       "              <div id=\"5fb7ffb3-25df-46b4-ad9a-7fcc5395310b\" style=\"background-color:blue; width:0%\">&nbsp;</div>\n",
       "            </div>\n",
       "            <label id=\"b65a15bf-afba-41db-963c-e27be0ef70db\" style=\"padding-left: 10px;\" text = \"\"/>\n",
       "            "
      ],
      "text/plain": [
       "<IPython.core.display.HTML object>"
      ]
     },
     "metadata": {},
     "output_type": "display_data"
    },
    {
     "data": {
      "text/html": [
       "\n",
       "            <div style=\"float: left; border: 1px solid black; width:500px\">\n",
       "              <div id=\"4ee30ce8-52ec-4d1b-83d2-85e48be56c53\" style=\"background-color:blue; width:0%\">&nbsp;</div>\n",
       "            </div>\n",
       "            <label id=\"b92621a9-10d4-4716-9e2f-c47f3f802485\" style=\"padding-left: 10px;\" text = \"\"/>\n",
       "            "
      ],
      "text/plain": [
       "<IPython.core.display.HTML object>"
      ]
     },
     "metadata": {},
     "output_type": "display_data"
    },
    {
     "data": {
      "text/html": [
       "\n",
       "            <div style=\"float: left; border: 1px solid black; width:500px\">\n",
       "              <div id=\"953d48c1-97a3-4acb-a0a8-264543a755c7\" style=\"background-color:blue; width:0%\">&nbsp;</div>\n",
       "            </div>\n",
       "            <label id=\"7936b076-3997-4114-b346-dbb11739ef0e\" style=\"padding-left: 10px;\" text = \"\"/>\n",
       "            "
      ],
      "text/plain": [
       "<IPython.core.display.HTML object>"
      ]
     },
     "metadata": {},
     "output_type": "display_data"
    },
    {
     "data": {
      "text/html": [
       "\n",
       "            <div style=\"float: left; border: 1px solid black; width:500px\">\n",
       "              <div id=\"a68e3135-f297-4627-b9d4-36941f0289eb\" style=\"background-color:blue; width:0%\">&nbsp;</div>\n",
       "            </div>\n",
       "            <label id=\"c85d7d23-dfd0-4b54-b2dc-fb6c0b7528d6\" style=\"padding-left: 10px;\" text = \"\"/>\n",
       "            "
      ],
      "text/plain": [
       "<IPython.core.display.HTML object>"
      ]
     },
     "metadata": {},
     "output_type": "display_data"
    },
    {
     "data": {
      "text/html": [
       "\n",
       "            <div style=\"float: left; border: 1px solid black; width:500px\">\n",
       "              <div id=\"07dbc7d2-a5a8-47db-b9bf-2dcb30f823eb\" style=\"background-color:blue; width:0%\">&nbsp;</div>\n",
       "            </div>\n",
       "            <label id=\"7616531c-c2be-4c97-a0c6-0c07606c5140\" style=\"padding-left: 10px;\" text = \"\"/>\n",
       "            "
      ],
      "text/plain": [
       "<IPython.core.display.HTML object>"
      ]
     },
     "metadata": {},
     "output_type": "display_data"
    },
    {
     "data": {
      "text/html": [
       "\n",
       "            <div style=\"float: left; border: 1px solid black; width:500px\">\n",
       "              <div id=\"18ef085c-e41f-46eb-b95a-c94d67ebd266\" style=\"background-color:blue; width:0%\">&nbsp;</div>\n",
       "            </div>\n",
       "            <label id=\"66621d43-360c-46ca-9bd6-f6112b5155bd\" style=\"padding-left: 10px;\" text = \"\"/>\n",
       "            "
      ],
      "text/plain": [
       "<IPython.core.display.HTML object>"
      ]
     },
     "metadata": {},
     "output_type": "display_data"
    },
    {
     "data": {
      "text/html": [
       "\n",
       "            <div style=\"float: left; border: 1px solid black; width:500px\">\n",
       "              <div id=\"d61b15ed-aff0-483b-8991-a8a4faf909e7\" style=\"background-color:blue; width:0%\">&nbsp;</div>\n",
       "            </div>\n",
       "            <label id=\"2a015d69-1e1e-4374-b909-2e952ccc56db\" style=\"padding-left: 10px;\" text = \"\"/>\n",
       "            "
      ],
      "text/plain": [
       "<IPython.core.display.HTML object>"
      ]
     },
     "metadata": {},
     "output_type": "display_data"
    },
    {
     "data": {
      "text/html": [
       "\n",
       "            <div style=\"float: left; border: 1px solid black; width:500px\">\n",
       "              <div id=\"60a2cfe0-eb9c-4b39-82e7-38a65a90f2c0\" style=\"background-color:blue; width:0%\">&nbsp;</div>\n",
       "            </div>\n",
       "            <label id=\"842e185c-dcd8-41d8-8c40-e7562b2db376\" style=\"padding-left: 10px;\" text = \"\"/>\n",
       "            "
      ],
      "text/plain": [
       "<IPython.core.display.HTML object>"
      ]
     },
     "metadata": {},
     "output_type": "display_data"
    },
    {
     "data": {
      "text/html": [
       "\n",
       "            <div style=\"float: left; border: 1px solid black; width:500px\">\n",
       "              <div id=\"bd85d341-f0c7-400a-b35f-926b922d0485\" style=\"background-color:blue; width:0%\">&nbsp;</div>\n",
       "            </div>\n",
       "            <label id=\"18855f1b-77cc-486a-b44e-ef7dcab13e50\" style=\"padding-left: 10px;\" text = \"\"/>\n",
       "            "
      ],
      "text/plain": [
       "<IPython.core.display.HTML object>"
      ]
     },
     "metadata": {},
     "output_type": "display_data"
    },
    {
     "data": {
      "text/html": [
       "\n",
       "            <div style=\"float: left; border: 1px solid black; width:500px\">\n",
       "              <div id=\"9ec37d3c-4b60-4cce-adb5-bc959507ba73\" style=\"background-color:blue; width:0%\">&nbsp;</div>\n",
       "            </div>\n",
       "            <label id=\"264d69fd-95b9-4bcc-a369-ed1382f2cc5a\" style=\"padding-left: 10px;\" text = \"\"/>\n",
       "            "
      ],
      "text/plain": [
       "<IPython.core.display.HTML object>"
      ]
     },
     "metadata": {},
     "output_type": "display_data"
    },
    {
     "data": {
      "text/html": [
       "\n",
       "            <div style=\"float: left; border: 1px solid black; width:500px\">\n",
       "              <div id=\"631972cc-4a85-4606-a98e-6e8e5ad2b5ab\" style=\"background-color:blue; width:0%\">&nbsp;</div>\n",
       "            </div>\n",
       "            <label id=\"8e34b772-9f3f-4f28-8e9e-bf6d738fe9ca\" style=\"padding-left: 10px;\" text = \"\"/>\n",
       "            "
      ],
      "text/plain": [
       "<IPython.core.display.HTML object>"
      ]
     },
     "metadata": {},
     "output_type": "display_data"
    },
    {
     "data": {
      "text/html": [
       "\n",
       "            <div style=\"float: left; border: 1px solid black; width:500px\">\n",
       "              <div id=\"844d66e9-9b64-4a56-b045-dab110792be7\" style=\"background-color:blue; width:0%\">&nbsp;</div>\n",
       "            </div>\n",
       "            <label id=\"095bbebc-6a88-4b28-95ae-be49194e70be\" style=\"padding-left: 10px;\" text = \"\"/>\n",
       "            "
      ],
      "text/plain": [
       "<IPython.core.display.HTML object>"
      ]
     },
     "metadata": {},
     "output_type": "display_data"
    },
    {
     "data": {
      "text/html": [
       "\n",
       "            <div style=\"float: left; border: 1px solid black; width:500px\">\n",
       "              <div id=\"80475498-3874-451a-89d4-133b887be9d1\" style=\"background-color:blue; width:0%\">&nbsp;</div>\n",
       "            </div>\n",
       "            <label id=\"22a7065b-7e80-4209-8d86-50345c541906\" style=\"padding-left: 10px;\" text = \"\"/>\n",
       "            "
      ],
      "text/plain": [
       "<IPython.core.display.HTML object>"
      ]
     },
     "metadata": {},
     "output_type": "display_data"
    },
    {
     "name": "stdout",
     "output_type": "stream",
     "text": [
      "49ers\n",
      "Packers\n"
     ]
    },
    {
     "data": {
      "text/html": [
       "\n",
       "            <div style=\"float: left; border: 1px solid black; width:500px\">\n",
       "              <div id=\"16e9fd78-4eb2-40a3-a230-699ceeaa5f2d\" style=\"background-color:blue; width:0%\">&nbsp;</div>\n",
       "            </div>\n",
       "            <label id=\"8afaf721-4dd1-4e93-aa9b-3c459bd84aef\" style=\"padding-left: 10px;\" text = \"\"/>\n",
       "            "
      ],
      "text/plain": [
       "<IPython.core.display.HTML object>"
      ]
     },
     "metadata": {},
     "output_type": "display_data"
    },
    {
     "data": {
      "text/html": [
       "\n",
       "            <div style=\"float: left; border: 1px solid black; width:500px\">\n",
       "              <div id=\"66e90067-6e74-4458-9b4f-088ee27ec91e\" style=\"background-color:blue; width:0%\">&nbsp;</div>\n",
       "            </div>\n",
       "            <label id=\"97344d54-4834-4c3a-a982-c04549aceec2\" style=\"padding-left: 10px;\" text = \"\"/>\n",
       "            "
      ],
      "text/plain": [
       "<IPython.core.display.HTML object>"
      ]
     },
     "metadata": {},
     "output_type": "display_data"
    },
    {
     "data": {
      "text/html": [
       "\n",
       "            <div style=\"float: left; border: 1px solid black; width:500px\">\n",
       "              <div id=\"a482b733-f051-47d4-be4e-7ba96c814061\" style=\"background-color:blue; width:0%\">&nbsp;</div>\n",
       "            </div>\n",
       "            <label id=\"42fc7113-2d6d-4c89-a7f2-e53ee65e150e\" style=\"padding-left: 10px;\" text = \"\"/>\n",
       "            "
      ],
      "text/plain": [
       "<IPython.core.display.HTML object>"
      ]
     },
     "metadata": {},
     "output_type": "display_data"
    },
    {
     "data": {
      "text/html": [
       "\n",
       "            <div style=\"float: left; border: 1px solid black; width:500px\">\n",
       "              <div id=\"2202af4d-7aa8-4182-8e3b-655cbfd31052\" style=\"background-color:blue; width:0%\">&nbsp;</div>\n",
       "            </div>\n",
       "            <label id=\"3f319e8c-b8de-4692-8b64-8ff0e920e49e\" style=\"padding-left: 10px;\" text = \"\"/>\n",
       "            "
      ],
      "text/plain": [
       "<IPython.core.display.HTML object>"
      ]
     },
     "metadata": {},
     "output_type": "display_data"
    },
    {
     "data": {
      "text/html": [
       "\n",
       "            <div style=\"float: left; border: 1px solid black; width:500px\">\n",
       "              <div id=\"afb3455e-be11-4c1f-8779-f683ab7a43dd\" style=\"background-color:blue; width:0%\">&nbsp;</div>\n",
       "            </div>\n",
       "            <label id=\"8b164ea4-18e7-4725-be3e-de4767fab75a\" style=\"padding-left: 10px;\" text = \"\"/>\n",
       "            "
      ],
      "text/plain": [
       "<IPython.core.display.HTML object>"
      ]
     },
     "metadata": {},
     "output_type": "display_data"
    },
    {
     "data": {
      "text/html": [
       "\n",
       "            <div style=\"float: left; border: 1px solid black; width:500px\">\n",
       "              <div id=\"5f6268e4-cea5-47a1-bc77-f1775f98c9e7\" style=\"background-color:blue; width:0%\">&nbsp;</div>\n",
       "            </div>\n",
       "            <label id=\"ceeda9da-3c0b-4f4a-beb8-e32522a3136f\" style=\"padding-left: 10px;\" text = \"\"/>\n",
       "            "
      ],
      "text/plain": [
       "<IPython.core.display.HTML object>"
      ]
     },
     "metadata": {},
     "output_type": "display_data"
    },
    {
     "data": {
      "text/html": [
       "\n",
       "            <div style=\"float: left; border: 1px solid black; width:500px\">\n",
       "              <div id=\"0db37fdb-3f87-4367-8d7a-f00ff38d8d36\" style=\"background-color:blue; width:0%\">&nbsp;</div>\n",
       "            </div>\n",
       "            <label id=\"dc0da44a-6d2b-4a86-a362-e1dfe1d4b835\" style=\"padding-left: 10px;\" text = \"\"/>\n",
       "            "
      ],
      "text/plain": [
       "<IPython.core.display.HTML object>"
      ]
     },
     "metadata": {},
     "output_type": "display_data"
    },
    {
     "data": {
      "text/html": [
       "\n",
       "            <div style=\"float: left; border: 1px solid black; width:500px\">\n",
       "              <div id=\"4f223b8e-86b5-41ab-9590-d7b55523ee20\" style=\"background-color:blue; width:0%\">&nbsp;</div>\n",
       "            </div>\n",
       "            <label id=\"0ed04046-81a2-48ce-87ec-51224b284d12\" style=\"padding-left: 10px;\" text = \"\"/>\n",
       "            "
      ],
      "text/plain": [
       "<IPython.core.display.HTML object>"
      ]
     },
     "metadata": {},
     "output_type": "display_data"
    },
    {
     "data": {
      "text/html": [
       "\n",
       "            <div style=\"float: left; border: 1px solid black; width:500px\">\n",
       "              <div id=\"fa68d5da-33f6-446f-8d67-bcc0d694ef13\" style=\"background-color:blue; width:0%\">&nbsp;</div>\n",
       "            </div>\n",
       "            <label id=\"011e6bc2-fb7b-4510-8206-0dd2f708cf56\" style=\"padding-left: 10px;\" text = \"\"/>\n",
       "            "
      ],
      "text/plain": [
       "<IPython.core.display.HTML object>"
      ]
     },
     "metadata": {},
     "output_type": "display_data"
    },
    {
     "data": {
      "text/html": [
       "\n",
       "            <div style=\"float: left; border: 1px solid black; width:500px\">\n",
       "              <div id=\"8ee1d22e-4c18-4376-a395-f8951f5f747e\" style=\"background-color:blue; width:0%\">&nbsp;</div>\n",
       "            </div>\n",
       "            <label id=\"439feb15-1742-4e2c-8aea-3554c5c14907\" style=\"padding-left: 10px;\" text = \"\"/>\n",
       "            "
      ],
      "text/plain": [
       "<IPython.core.display.HTML object>"
      ]
     },
     "metadata": {},
     "output_type": "display_data"
    },
    {
     "data": {
      "text/html": [
       "\n",
       "            <div style=\"float: left; border: 1px solid black; width:500px\">\n",
       "              <div id=\"5ea32b3b-b924-4f62-b144-62a0d98e1918\" style=\"background-color:blue; width:0%\">&nbsp;</div>\n",
       "            </div>\n",
       "            <label id=\"0e97bcd1-3f98-4d2c-8e95-81cd553247d9\" style=\"padding-left: 10px;\" text = \"\"/>\n",
       "            "
      ],
      "text/plain": [
       "<IPython.core.display.HTML object>"
      ]
     },
     "metadata": {},
     "output_type": "display_data"
    },
    {
     "data": {
      "text/html": [
       "\n",
       "            <div style=\"float: left; border: 1px solid black; width:500px\">\n",
       "              <div id=\"96904c10-7734-4bf8-a2e4-f019a3ac2e3a\" style=\"background-color:blue; width:0%\">&nbsp;</div>\n",
       "            </div>\n",
       "            <label id=\"a499b76a-4ca4-4c39-a49f-9f93d06a0ab5\" style=\"padding-left: 10px;\" text = \"\"/>\n",
       "            "
      ],
      "text/plain": [
       "<IPython.core.display.HTML object>"
      ]
     },
     "metadata": {},
     "output_type": "display_data"
    },
    {
     "data": {
      "text/html": [
       "\n",
       "            <div style=\"float: left; border: 1px solid black; width:500px\">\n",
       "              <div id=\"a83d8132-feb3-4d5a-bd03-4972077140e5\" style=\"background-color:blue; width:0%\">&nbsp;</div>\n",
       "            </div>\n",
       "            <label id=\"4e50ad39-13b6-486f-abe3-cc10a3bf98b4\" style=\"padding-left: 10px;\" text = \"\"/>\n",
       "            "
      ],
      "text/plain": [
       "<IPython.core.display.HTML object>"
      ]
     },
     "metadata": {},
     "output_type": "display_data"
    },
    {
     "data": {
      "text/html": [
       "\n",
       "            <div style=\"float: left; border: 1px solid black; width:500px\">\n",
       "              <div id=\"50eb42d7-71fe-47af-850a-dcf1939e5093\" style=\"background-color:blue; width:0%\">&nbsp;</div>\n",
       "            </div>\n",
       "            <label id=\"a1601669-3590-4c12-9b0b-c122149c883c\" style=\"padding-left: 10px;\" text = \"\"/>\n",
       "            "
      ],
      "text/plain": [
       "<IPython.core.display.HTML object>"
      ]
     },
     "metadata": {},
     "output_type": "display_data"
    },
    {
     "data": {
      "text/html": [
       "\n",
       "            <div style=\"float: left; border: 1px solid black; width:500px\">\n",
       "              <div id=\"16f5f282-0394-4e56-a0f7-ea6c8e6ed1e0\" style=\"background-color:blue; width:0%\">&nbsp;</div>\n",
       "            </div>\n",
       "            <label id=\"1727b2e0-afd7-416f-a0f0-62505ce9d264\" style=\"padding-left: 10px;\" text = \"\"/>\n",
       "            "
      ],
      "text/plain": [
       "<IPython.core.display.HTML object>"
      ]
     },
     "metadata": {},
     "output_type": "display_data"
    },
    {
     "data": {
      "text/html": [
       "\n",
       "            <div style=\"float: left; border: 1px solid black; width:500px\">\n",
       "              <div id=\"58d92887-b9fd-4381-b164-bce624ebe0bf\" style=\"background-color:blue; width:0%\">&nbsp;</div>\n",
       "            </div>\n",
       "            <label id=\"58f3ae0c-834d-46c3-b6ee-5ec2ffa676b0\" style=\"padding-left: 10px;\" text = \"\"/>\n",
       "            "
      ],
      "text/plain": [
       "<IPython.core.display.HTML object>"
      ]
     },
     "metadata": {},
     "output_type": "display_data"
    },
    {
     "data": {
      "text/html": [
       "\n",
       "            <div style=\"float: left; border: 1px solid black; width:500px\">\n",
       "              <div id=\"698e9460-11e7-43fb-b54e-8b63537305b0\" style=\"background-color:blue; width:0%\">&nbsp;</div>\n",
       "            </div>\n",
       "            <label id=\"cd0d6936-b4c5-4848-a23e-722b5af1cfda\" style=\"padding-left: 10px;\" text = \"\"/>\n",
       "            "
      ],
      "text/plain": [
       "<IPython.core.display.HTML object>"
      ]
     },
     "metadata": {},
     "output_type": "display_data"
    },
    {
     "data": {
      "text/html": [
       "\n",
       "            <div style=\"float: left; border: 1px solid black; width:500px\">\n",
       "              <div id=\"83263247-7514-41fd-bac8-44a0492f9ba5\" style=\"background-color:blue; width:0%\">&nbsp;</div>\n",
       "            </div>\n",
       "            <label id=\"1d5197e7-effc-490b-af57-c92d619de9f9\" style=\"padding-left: 10px;\" text = \"\"/>\n",
       "            "
      ],
      "text/plain": [
       "<IPython.core.display.HTML object>"
      ]
     },
     "metadata": {},
     "output_type": "display_data"
    },
    {
     "name": "stdout",
     "output_type": "stream",
     "text": [
      "Rams\n",
      "Buccaneers\n"
     ]
    },
    {
     "data": {
      "text/html": [
       "\n",
       "            <div style=\"float: left; border: 1px solid black; width:500px\">\n",
       "              <div id=\"c2f73401-119b-4a9a-88bf-fb71b7757cf6\" style=\"background-color:blue; width:0%\">&nbsp;</div>\n",
       "            </div>\n",
       "            <label id=\"ea9747db-f615-4553-aaa5-5ecb376c875e\" style=\"padding-left: 10px;\" text = \"\"/>\n",
       "            "
      ],
      "text/plain": [
       "<IPython.core.display.HTML object>"
      ]
     },
     "metadata": {},
     "output_type": "display_data"
    },
    {
     "data": {
      "text/html": [
       "\n",
       "            <div style=\"float: left; border: 1px solid black; width:500px\">\n",
       "              <div id=\"d8706962-8efe-4fc7-94dc-cc623433547b\" style=\"background-color:blue; width:0%\">&nbsp;</div>\n",
       "            </div>\n",
       "            <label id=\"405af2a2-ecbe-4c65-a6ab-b98cd9e07801\" style=\"padding-left: 10px;\" text = \"\"/>\n",
       "            "
      ],
      "text/plain": [
       "<IPython.core.display.HTML object>"
      ]
     },
     "metadata": {},
     "output_type": "display_data"
    },
    {
     "data": {
      "text/html": [
       "\n",
       "            <div style=\"float: left; border: 1px solid black; width:500px\">\n",
       "              <div id=\"2ce3f7e7-d8ff-40ae-954b-e7dc2aedc616\" style=\"background-color:blue; width:0%\">&nbsp;</div>\n",
       "            </div>\n",
       "            <label id=\"a94e04f2-8351-45dd-b235-efeac0f15c61\" style=\"padding-left: 10px;\" text = \"\"/>\n",
       "            "
      ],
      "text/plain": [
       "<IPython.core.display.HTML object>"
      ]
     },
     "metadata": {},
     "output_type": "display_data"
    },
    {
     "data": {
      "text/html": [
       "\n",
       "            <div style=\"float: left; border: 1px solid black; width:500px\">\n",
       "              <div id=\"d29e571e-d7e2-4264-851f-de74a0493740\" style=\"background-color:blue; width:0%\">&nbsp;</div>\n",
       "            </div>\n",
       "            <label id=\"ed9d2982-facc-4c8b-ab3e-2069a9a59e36\" style=\"padding-left: 10px;\" text = \"\"/>\n",
       "            "
      ],
      "text/plain": [
       "<IPython.core.display.HTML object>"
      ]
     },
     "metadata": {},
     "output_type": "display_data"
    },
    {
     "data": {
      "text/html": [
       "\n",
       "            <div style=\"float: left; border: 1px solid black; width:500px\">\n",
       "              <div id=\"34d5075c-b0b4-4c75-a597-7768a2916ea1\" style=\"background-color:blue; width:0%\">&nbsp;</div>\n",
       "            </div>\n",
       "            <label id=\"d2b05024-e4f6-4065-9c48-8bf2f84fbd46\" style=\"padding-left: 10px;\" text = \"\"/>\n",
       "            "
      ],
      "text/plain": [
       "<IPython.core.display.HTML object>"
      ]
     },
     "metadata": {},
     "output_type": "display_data"
    },
    {
     "data": {
      "text/html": [
       "\n",
       "            <div style=\"float: left; border: 1px solid black; width:500px\">\n",
       "              <div id=\"ea940150-070f-4f2d-8065-299c493dc077\" style=\"background-color:blue; width:0%\">&nbsp;</div>\n",
       "            </div>\n",
       "            <label id=\"bb1b3438-0a68-46c7-9403-ab8717d297d3\" style=\"padding-left: 10px;\" text = \"\"/>\n",
       "            "
      ],
      "text/plain": [
       "<IPython.core.display.HTML object>"
      ]
     },
     "metadata": {},
     "output_type": "display_data"
    },
    {
     "data": {
      "text/html": [
       "\n",
       "            <div style=\"float: left; border: 1px solid black; width:500px\">\n",
       "              <div id=\"1c422bbc-3a26-40d3-ba82-e2c56b393a06\" style=\"background-color:blue; width:0%\">&nbsp;</div>\n",
       "            </div>\n",
       "            <label id=\"d6f34f7a-7606-42a1-b82a-22982f25587c\" style=\"padding-left: 10px;\" text = \"\"/>\n",
       "            "
      ],
      "text/plain": [
       "<IPython.core.display.HTML object>"
      ]
     },
     "metadata": {},
     "output_type": "display_data"
    },
    {
     "data": {
      "text/html": [
       "\n",
       "            <div style=\"float: left; border: 1px solid black; width:500px\">\n",
       "              <div id=\"d3feb868-459c-490a-bf3e-ac2a27b40e4e\" style=\"background-color:blue; width:0%\">&nbsp;</div>\n",
       "            </div>\n",
       "            <label id=\"f6dc47d9-6f5d-4570-9872-3a4efcc5c78c\" style=\"padding-left: 10px;\" text = \"\"/>\n",
       "            "
      ],
      "text/plain": [
       "<IPython.core.display.HTML object>"
      ]
     },
     "metadata": {},
     "output_type": "display_data"
    },
    {
     "data": {
      "text/html": [
       "\n",
       "            <div style=\"float: left; border: 1px solid black; width:500px\">\n",
       "              <div id=\"234a4a05-7d41-4cd6-ac22-7ca747f95637\" style=\"background-color:blue; width:0%\">&nbsp;</div>\n",
       "            </div>\n",
       "            <label id=\"455d3aef-4067-4a46-bdf6-6b679a0a2176\" style=\"padding-left: 10px;\" text = \"\"/>\n",
       "            "
      ],
      "text/plain": [
       "<IPython.core.display.HTML object>"
      ]
     },
     "metadata": {},
     "output_type": "display_data"
    },
    {
     "data": {
      "text/html": [
       "\n",
       "            <div style=\"float: left; border: 1px solid black; width:500px\">\n",
       "              <div id=\"31e34123-a804-4c2c-aa71-6c363ef326dc\" style=\"background-color:blue; width:0%\">&nbsp;</div>\n",
       "            </div>\n",
       "            <label id=\"6a1c0821-a68d-43c1-be20-ab47685ac0f4\" style=\"padding-left: 10px;\" text = \"\"/>\n",
       "            "
      ],
      "text/plain": [
       "<IPython.core.display.HTML object>"
      ]
     },
     "metadata": {},
     "output_type": "display_data"
    },
    {
     "data": {
      "text/html": [
       "\n",
       "            <div style=\"float: left; border: 1px solid black; width:500px\">\n",
       "              <div id=\"c2a67f72-3d8e-4cff-aa9f-691095a98f81\" style=\"background-color:blue; width:0%\">&nbsp;</div>\n",
       "            </div>\n",
       "            <label id=\"8691d526-5a4a-49d0-98cc-06dfe3df366e\" style=\"padding-left: 10px;\" text = \"\"/>\n",
       "            "
      ],
      "text/plain": [
       "<IPython.core.display.HTML object>"
      ]
     },
     "metadata": {},
     "output_type": "display_data"
    },
    {
     "data": {
      "text/html": [
       "\n",
       "            <div style=\"float: left; border: 1px solid black; width:500px\">\n",
       "              <div id=\"cd289633-866e-4b94-b091-0e76614b69f3\" style=\"background-color:blue; width:0%\">&nbsp;</div>\n",
       "            </div>\n",
       "            <label id=\"b627b49f-52c3-4513-adf6-44c1b8cfebe7\" style=\"padding-left: 10px;\" text = \"\"/>\n",
       "            "
      ],
      "text/plain": [
       "<IPython.core.display.HTML object>"
      ]
     },
     "metadata": {},
     "output_type": "display_data"
    },
    {
     "data": {
      "text/html": [
       "\n",
       "            <div style=\"float: left; border: 1px solid black; width:500px\">\n",
       "              <div id=\"42ebc56c-18e7-4b5e-b656-db96c63930f4\" style=\"background-color:blue; width:0%\">&nbsp;</div>\n",
       "            </div>\n",
       "            <label id=\"e411afe7-1c21-4412-ae0c-3f88e8ed275f\" style=\"padding-left: 10px;\" text = \"\"/>\n",
       "            "
      ],
      "text/plain": [
       "<IPython.core.display.HTML object>"
      ]
     },
     "metadata": {},
     "output_type": "display_data"
    },
    {
     "data": {
      "text/html": [
       "\n",
       "            <div style=\"float: left; border: 1px solid black; width:500px\">\n",
       "              <div id=\"896468c1-6aea-462c-9803-ad087194189d\" style=\"background-color:blue; width:0%\">&nbsp;</div>\n",
       "            </div>\n",
       "            <label id=\"945a9349-202b-461d-b49e-bdfa59f5eb28\" style=\"padding-left: 10px;\" text = \"\"/>\n",
       "            "
      ],
      "text/plain": [
       "<IPython.core.display.HTML object>"
      ]
     },
     "metadata": {},
     "output_type": "display_data"
    },
    {
     "data": {
      "text/html": [
       "\n",
       "            <div style=\"float: left; border: 1px solid black; width:500px\">\n",
       "              <div id=\"80320cc2-f5f0-4ef2-aa49-f854f7ac01fa\" style=\"background-color:blue; width:0%\">&nbsp;</div>\n",
       "            </div>\n",
       "            <label id=\"bb68cb10-da05-4716-b908-30be36c8d2a9\" style=\"padding-left: 10px;\" text = \"\"/>\n",
       "            "
      ],
      "text/plain": [
       "<IPython.core.display.HTML object>"
      ]
     },
     "metadata": {},
     "output_type": "display_data"
    },
    {
     "data": {
      "text/html": [
       "\n",
       "            <div style=\"float: left; border: 1px solid black; width:500px\">\n",
       "              <div id=\"20396e11-51e6-414f-8841-1197e4f46513\" style=\"background-color:blue; width:0%\">&nbsp;</div>\n",
       "            </div>\n",
       "            <label id=\"3260fcc6-1b6d-4b0e-ae0f-1f323a2ad2b5\" style=\"padding-left: 10px;\" text = \"\"/>\n",
       "            "
      ],
      "text/plain": [
       "<IPython.core.display.HTML object>"
      ]
     },
     "metadata": {},
     "output_type": "display_data"
    },
    {
     "data": {
      "text/html": [
       "\n",
       "            <div style=\"float: left; border: 1px solid black; width:500px\">\n",
       "              <div id=\"fa0e727d-5591-407c-b7a8-7f409f733c7f\" style=\"background-color:blue; width:0%\">&nbsp;</div>\n",
       "            </div>\n",
       "            <label id=\"c8269a57-613b-4e2f-ae9f-a7254a9f95d2\" style=\"padding-left: 10px;\" text = \"\"/>\n",
       "            "
      ],
      "text/plain": [
       "<IPython.core.display.HTML object>"
      ]
     },
     "metadata": {},
     "output_type": "display_data"
    },
    {
     "data": {
      "text/html": [
       "\n",
       "            <div style=\"float: left; border: 1px solid black; width:500px\">\n",
       "              <div id=\"b68de6bf-2645-4354-8128-0a1515a54bd3\" style=\"background-color:blue; width:0%\">&nbsp;</div>\n",
       "            </div>\n",
       "            <label id=\"57388984-f347-45be-b31b-4e985371c8dc\" style=\"padding-left: 10px;\" text = \"\"/>\n",
       "            "
      ],
      "text/plain": [
       "<IPython.core.display.HTML object>"
      ]
     },
     "metadata": {},
     "output_type": "display_data"
    },
    {
     "name": "stdout",
     "output_type": "stream",
     "text": [
      "Bills\n",
      "Chiefs\n"
     ]
    },
    {
     "data": {
      "text/html": [
       "\n",
       "            <div style=\"float: left; border: 1px solid black; width:500px\">\n",
       "              <div id=\"15873b4f-7177-4d8d-8bac-416372b5d372\" style=\"background-color:blue; width:0%\">&nbsp;</div>\n",
       "            </div>\n",
       "            <label id=\"490cf972-3845-496c-ac8d-c74be1e62c0a\" style=\"padding-left: 10px;\" text = \"\"/>\n",
       "            "
      ],
      "text/plain": [
       "<IPython.core.display.HTML object>"
      ]
     },
     "metadata": {},
     "output_type": "display_data"
    },
    {
     "data": {
      "text/html": [
       "\n",
       "            <div style=\"float: left; border: 1px solid black; width:500px\">\n",
       "              <div id=\"f2276595-8c4d-4ee0-8c64-def5ba0eebeb\" style=\"background-color:blue; width:0%\">&nbsp;</div>\n",
       "            </div>\n",
       "            <label id=\"9f0f3d10-5678-4c3d-ab88-e69e48cad5a6\" style=\"padding-left: 10px;\" text = \"\"/>\n",
       "            "
      ],
      "text/plain": [
       "<IPython.core.display.HTML object>"
      ]
     },
     "metadata": {},
     "output_type": "display_data"
    },
    {
     "data": {
      "text/html": [
       "\n",
       "            <div style=\"float: left; border: 1px solid black; width:500px\">\n",
       "              <div id=\"5fad5066-3acc-4290-b3ea-f792bf968eb4\" style=\"background-color:blue; width:0%\">&nbsp;</div>\n",
       "            </div>\n",
       "            <label id=\"919e0f3a-ac19-4bc4-b9a9-85b89f2dcd59\" style=\"padding-left: 10px;\" text = \"\"/>\n",
       "            "
      ],
      "text/plain": [
       "<IPython.core.display.HTML object>"
      ]
     },
     "metadata": {},
     "output_type": "display_data"
    },
    {
     "data": {
      "text/html": [
       "\n",
       "            <div style=\"float: left; border: 1px solid black; width:500px\">\n",
       "              <div id=\"bd74a9bd-47e5-4808-8627-2f893db2f46a\" style=\"background-color:blue; width:0%\">&nbsp;</div>\n",
       "            </div>\n",
       "            <label id=\"12842d5b-1a2a-44e3-b423-48e284cd4c93\" style=\"padding-left: 10px;\" text = \"\"/>\n",
       "            "
      ],
      "text/plain": [
       "<IPython.core.display.HTML object>"
      ]
     },
     "metadata": {},
     "output_type": "display_data"
    },
    {
     "data": {
      "text/html": [
       "\n",
       "            <div style=\"float: left; border: 1px solid black; width:500px\">\n",
       "              <div id=\"47dafec8-b971-407a-b974-94523cc787c6\" style=\"background-color:blue; width:0%\">&nbsp;</div>\n",
       "            </div>\n",
       "            <label id=\"36f7efd3-20df-4b65-94b9-2e85799f6150\" style=\"padding-left: 10px;\" text = \"\"/>\n",
       "            "
      ],
      "text/plain": [
       "<IPython.core.display.HTML object>"
      ]
     },
     "metadata": {},
     "output_type": "display_data"
    },
    {
     "data": {
      "text/html": [
       "\n",
       "            <div style=\"float: left; border: 1px solid black; width:500px\">\n",
       "              <div id=\"e5f85817-65f6-4bb1-a820-8001e03eefa3\" style=\"background-color:blue; width:0%\">&nbsp;</div>\n",
       "            </div>\n",
       "            <label id=\"82d97393-f907-4cfb-ac37-6f2c6193b46f\" style=\"padding-left: 10px;\" text = \"\"/>\n",
       "            "
      ],
      "text/plain": [
       "<IPython.core.display.HTML object>"
      ]
     },
     "metadata": {},
     "output_type": "display_data"
    },
    {
     "data": {
      "text/html": [
       "\n",
       "            <div style=\"float: left; border: 1px solid black; width:500px\">\n",
       "              <div id=\"133d5d39-5c31-4d0f-b2a3-d93bfe84cdaf\" style=\"background-color:blue; width:0%\">&nbsp;</div>\n",
       "            </div>\n",
       "            <label id=\"1ccdb6a2-b82e-4c79-a497-7eea42dec7d6\" style=\"padding-left: 10px;\" text = \"\"/>\n",
       "            "
      ],
      "text/plain": [
       "<IPython.core.display.HTML object>"
      ]
     },
     "metadata": {},
     "output_type": "display_data"
    },
    {
     "data": {
      "text/html": [
       "\n",
       "            <div style=\"float: left; border: 1px solid black; width:500px\">\n",
       "              <div id=\"2c787128-76a4-4b78-aebd-ba1004681432\" style=\"background-color:blue; width:0%\">&nbsp;</div>\n",
       "            </div>\n",
       "            <label id=\"757f9268-796b-48ea-a993-9b69cbce51ae\" style=\"padding-left: 10px;\" text = \"\"/>\n",
       "            "
      ],
      "text/plain": [
       "<IPython.core.display.HTML object>"
      ]
     },
     "metadata": {},
     "output_type": "display_data"
    },
    {
     "data": {
      "text/html": [
       "\n",
       "            <div style=\"float: left; border: 1px solid black; width:500px\">\n",
       "              <div id=\"ca1a2f2f-ba5a-4cad-b9b1-f8fec69c9e1c\" style=\"background-color:blue; width:0%\">&nbsp;</div>\n",
       "            </div>\n",
       "            <label id=\"738a647e-63c6-4226-9656-b7c9bd484959\" style=\"padding-left: 10px;\" text = \"\"/>\n",
       "            "
      ],
      "text/plain": [
       "<IPython.core.display.HTML object>"
      ]
     },
     "metadata": {},
     "output_type": "display_data"
    },
    {
     "data": {
      "text/html": [
       "\n",
       "            <div style=\"float: left; border: 1px solid black; width:500px\">\n",
       "              <div id=\"81c93952-c1ba-4d1d-b5f5-4d17e8494163\" style=\"background-color:blue; width:0%\">&nbsp;</div>\n",
       "            </div>\n",
       "            <label id=\"0a2a6355-a961-4866-8748-51510257b11b\" style=\"padding-left: 10px;\" text = \"\"/>\n",
       "            "
      ],
      "text/plain": [
       "<IPython.core.display.HTML object>"
      ]
     },
     "metadata": {},
     "output_type": "display_data"
    },
    {
     "data": {
      "text/html": [
       "\n",
       "            <div style=\"float: left; border: 1px solid black; width:500px\">\n",
       "              <div id=\"72c0dae2-3e77-4d6f-a66e-84726204d685\" style=\"background-color:blue; width:0%\">&nbsp;</div>\n",
       "            </div>\n",
       "            <label id=\"54dd0c6d-1522-47c3-9d63-7d5a67bcb6e7\" style=\"padding-left: 10px;\" text = \"\"/>\n",
       "            "
      ],
      "text/plain": [
       "<IPython.core.display.HTML object>"
      ]
     },
     "metadata": {},
     "output_type": "display_data"
    },
    {
     "data": {
      "text/html": [
       "\n",
       "            <div style=\"float: left; border: 1px solid black; width:500px\">\n",
       "              <div id=\"e0e577a7-87db-4dee-8649-9c50f08e40f6\" style=\"background-color:blue; width:0%\">&nbsp;</div>\n",
       "            </div>\n",
       "            <label id=\"2278714d-f205-4741-8e23-1a9e24d1dbd0\" style=\"padding-left: 10px;\" text = \"\"/>\n",
       "            "
      ],
      "text/plain": [
       "<IPython.core.display.HTML object>"
      ]
     },
     "metadata": {},
     "output_type": "display_data"
    },
    {
     "data": {
      "text/html": [
       "\n",
       "            <div style=\"float: left; border: 1px solid black; width:500px\">\n",
       "              <div id=\"853901ad-58b1-4457-8707-dbc34c34f923\" style=\"background-color:blue; width:0%\">&nbsp;</div>\n",
       "            </div>\n",
       "            <label id=\"ebe10a54-7b17-4a17-b84d-c6b53011eb7a\" style=\"padding-left: 10px;\" text = \"\"/>\n",
       "            "
      ],
      "text/plain": [
       "<IPython.core.display.HTML object>"
      ]
     },
     "metadata": {},
     "output_type": "display_data"
    },
    {
     "data": {
      "text/html": [
       "\n",
       "            <div style=\"float: left; border: 1px solid black; width:500px\">\n",
       "              <div id=\"29a9ce3c-b814-4e8d-a382-87eade199910\" style=\"background-color:blue; width:0%\">&nbsp;</div>\n",
       "            </div>\n",
       "            <label id=\"40d1bd4a-783e-4018-9b89-386d4c08e819\" style=\"padding-left: 10px;\" text = \"\"/>\n",
       "            "
      ],
      "text/plain": [
       "<IPython.core.display.HTML object>"
      ]
     },
     "metadata": {},
     "output_type": "display_data"
    },
    {
     "data": {
      "text/html": [
       "\n",
       "            <div style=\"float: left; border: 1px solid black; width:500px\">\n",
       "              <div id=\"54ba7f9f-9296-45dc-828b-93452c38f1e4\" style=\"background-color:blue; width:0%\">&nbsp;</div>\n",
       "            </div>\n",
       "            <label id=\"7caa479e-ea36-4482-b154-ed7c810eeace\" style=\"padding-left: 10px;\" text = \"\"/>\n",
       "            "
      ],
      "text/plain": [
       "<IPython.core.display.HTML object>"
      ]
     },
     "metadata": {},
     "output_type": "display_data"
    },
    {
     "data": {
      "text/html": [
       "\n",
       "            <div style=\"float: left; border: 1px solid black; width:500px\">\n",
       "              <div id=\"d3048771-055a-4856-b64b-407055df0255\" style=\"background-color:blue; width:0%\">&nbsp;</div>\n",
       "            </div>\n",
       "            <label id=\"ce54b155-fc00-4097-9233-7cbb70a9935b\" style=\"padding-left: 10px;\" text = \"\"/>\n",
       "            "
      ],
      "text/plain": [
       "<IPython.core.display.HTML object>"
      ]
     },
     "metadata": {},
     "output_type": "display_data"
    },
    {
     "data": {
      "text/html": [
       "\n",
       "            <div style=\"float: left; border: 1px solid black; width:500px\">\n",
       "              <div id=\"1233395d-67d2-4096-aaec-10b19f22c8ce\" style=\"background-color:blue; width:0%\">&nbsp;</div>\n",
       "            </div>\n",
       "            <label id=\"350810c1-8cb1-4a34-b135-9cf86bbf8bf5\" style=\"padding-left: 10px;\" text = \"\"/>\n",
       "            "
      ],
      "text/plain": [
       "<IPython.core.display.HTML object>"
      ]
     },
     "metadata": {},
     "output_type": "display_data"
    },
    {
     "data": {
      "text/html": [
       "\n",
       "            <div style=\"float: left; border: 1px solid black; width:500px\">\n",
       "              <div id=\"9e88e09c-7fd8-40c0-ae80-5b160e28ac9b\" style=\"background-color:blue; width:0%\">&nbsp;</div>\n",
       "            </div>\n",
       "            <label id=\"8ae4a90b-98db-4832-bbe6-6ef001da1efb\" style=\"padding-left: 10px;\" text = \"\"/>\n",
       "            "
      ],
      "text/plain": [
       "<IPython.core.display.HTML object>"
      ]
     },
     "metadata": {},
     "output_type": "display_data"
    },
    {
     "name": "stdout",
     "output_type": "stream",
     "text": [
      "Done\n"
     ]
    }
   ],
   "source": [
    "from fitter import Fitter\n",
    "import os\n",
    "import pandas as pd\n",
    "import numpy as np\n",
    "from Classes import Simulation_Team\n",
    "from Simulate import simulate\n",
    "from Image_Making import create_win_probabilities_image, create_fantasy_rankings_image, create_primetime_opener_image, create_primetime_stat_projections_image\n",
    "from Other_Functions import bubble_sort_by_fpts, return_best_fit_in_str_format\n",
    "\n",
    "# Base team colors, for image making\n",
    "team_colors = {\"Bills\": (2, 45, 147), \"Dolphins\": (1, 142, 151), \"Jets\": (12, 87, 64), \"Patriots\": (206, 2, 29), \"Bengals\": (239, 72, 30), \"Browns\": (221, 96, 6), \"Ravens\": (42, 44, 129), \"Steelers\": (240, 200, 24), \"Colts\": (0, 50, 101), \"Jaguars\": (18, 101, 119), \"Texans\": (199, 35, 62), \"Titans\": (68, 148, 209), \"Broncos\": (242, 105, 34), \"Chargers\": (55, 120, 188), \"Chiefs\": (204, 3, 25), \"Raiders\": (209, 209, 211), \"Cowboys\": (212, 213, 215), \"Eagles\": (0, 71, 81), \"Football Team\": (88, 20, 19), \"Giants\": (0, 57, 124), \"Bears\": (27, 27, 63), \"Lions\": (1, 116, 181), \"Packers\": (31, 53, 48), \"Vikings\": (70, 23, 89), \"Buccaneers\": (234, 18, 5), \"Falcons\": (200, 33, 59), \"Panthers\": (12, 149, 211), \"Saints\": (209, 187, 140), \"49ers\": (196, 168, 114), \"Cardinals\": (176, 5, 57), \"Rams\": (0, 53, 148), \"Seahawks\": (99, 187, 38)}\n",
    "# Team abbrevations, for image making\n",
    "team_mnemonics = {\"Bills\": \"BUF\", \"Dolphins\": \"MIA\", \"Jets\": \"NYJ\", \"Patriots\": \"NE\", \"Bengals\": \"CIN\", \"Browns\": \"CLE\", \"Ravens\": \"BAL\", \"Steelers\": \"PIT\", \"Colts\": \"IND\", \"Jaguars\": \"JAX\", \"Texans\": \"HOU\", \"Titans\": \"TEN\", \"Broncos\": \"DEN\", \"Chargers\": \"LAC\", \"Chiefs\": \"KC\", \"Raiders\": \"LV\", \"Cowboys\": \"DAL\", \"Eagles\": \"PHI\", \"Football Team\": \"WAS\", \"Giants\": \"NYG\", \"Bears\": \"CHI\", \"Lions\": \"DET\", \"Packers\": \"GB\", \"Vikings\": \"MIN\", \"Buccaneers\": \"TB\", \"Falcons\": \"ATL\", \"Panthers\": \"CAR\", \"Saints\": \"NO\", \"49ers\": \"SF\", \"Cardinals\": \"ARI\", \"Rams\": \"LAR\", \"Seahawks\": \"SEA\"}\n",
    "# Weekly schedule. Games with a value of \"Primetime\" indicate they are primetime games, and should not be included when making Sunday win probability images\n",
    "schedule = {\"Bengals at Titans\": \"Primetime\", \"49ers at Packers\": \"Primetime\", \"Rams at Buccaneers\": \"Primetime\", \"Bills at Chiefs\": \"Primetime\"}   \n",
    "# Fanduel Sportsbook bets for each game (only primetime games considered). In form [road spread, total points over/under]\n",
    "bets = [[3.5, 47], [6, 46.5], [3, 48], [1.5, 54.5]]\n",
    "week = 20 # Current week being simulated\n",
    "try:\n",
    "    os.mkdir(\"Game Simulations/Week \" + str(week))\n",
    "except:\n",
    "    None\n",
    "try:\n",
    "    os.mkdir(\"Instagram Posts/Week \" + str(week))\n",
    "except:\n",
    "    None\n",
    "n = 10000 # Number of times to simulate each game\n",
    "matchups_data = list()\n",
    "primetime_data = list()\n",
    "all_qbs = list()\n",
    "all_rbs = list()\n",
    "all_wrs = list()\n",
    "all_tes = list()\n",
    "all_ks = list()\n",
    "all_teams = list()\n",
    "j = -1 # Acts as an indexer, don't use range() for loop as it looks more readable this way\n",
    "for game in schedule:\n",
    "    j += 1\n",
    "\n",
    "    # Initalize road and home team objects for the current game\n",
    "    road = game[0:game.index(\" at\")]\n",
    "    home = game[game.index(\" at\") + 4:]\n",
    "    print(road)\n",
    "    print(home)\n",
    "    road_team = Simulation_Team(road, year=\"2021 \")\n",
    "    home_team = Simulation_Team(home, year=\"2021 \")\n",
    "    road_team.create_players_data()\n",
    "    home_team.create_players_data()\n",
    "\n",
    "    # Add road and home team to teams playing this week    \n",
    "    all_teams.append(road_team)\n",
    "    all_teams.append(home_team)\n",
    "\n",
    "    # Add road and home players to respective positional lists\n",
    "    for position in road_team.players:\n",
    "        for player in road_team.players[position]:\n",
    "            if position == \"QBs\":\n",
    "                all_qbs.append(player)\n",
    "            elif position == \"RBs\":\n",
    "                all_rbs.append(player)\n",
    "            elif position == \"WRs\":\n",
    "                all_wrs.append(player)\n",
    "            elif position == \"TEs\":\n",
    "                all_tes.append(player)\n",
    "            elif position == \"Ks\":\n",
    "                all_ks.append(player)\n",
    "    for position in home_team.players:\n",
    "        for player in home_team.players[position]:\n",
    "            if position == \"QBs\":\n",
    "                all_qbs.append(player)\n",
    "            elif position == \"RBs\":\n",
    "                all_rbs.append(player)\n",
    "            elif position == \"WRs\":\n",
    "                all_wrs.append(player)\n",
    "            elif position == \"TEs\":\n",
    "                all_tes.append(player)\n",
    "            elif position == \"Ks\":\n",
    "                all_ks.append(player)\n",
    "    point_differential = list() # List of point differential in every simulation for this game\n",
    "    total_points = list() # List of total points in every simulation for this game\n",
    "    for i in range(0, n): # Simulate game n times, update stats\n",
    "        simulate(road_team, home_team)\n",
    "        point_differential.append(road_team.points - home_team.points)\n",
    "        total_points.append(road_team.points + home_team.points)\n",
    "        road_team.update_all_games_or_season_stats(home_team, \"games\")\n",
    "        home_team.update_all_games_or_season_stats(road_team, \"games\")\n",
    "        road_team.reset_game_or_season_stats(\"game\")\n",
    "        home_team.reset_game_or_season_stats(\"game\")\n",
    "    if schedule[road_team.name + \" at \" + home_team.name] != \"Primetime\": # Game is not primetime\n",
    "        # Add data for the matchup to matchups_data, which will later be passed to a function to create the Sunday win probabilities image\n",
    "        matchups_data.append([road_team.name, round(100 * road_team.record[0] / n, 1), home_team.name, round(100 * home_team.record[0] / n, 1), round(100 - round(100 * home_team.record[0] / n, 1) - round(100 * road_team.record[0] / n, 1), 1)])\n",
    "    else: # Game is primetime\n",
    "        primetime_data.append([road_team, home_team, bets[j]]) # Add data for the matchup to primetime_data\n",
    "\n",
    "    # Statistical distributions to consider when fitting data    \n",
    "    _distributions = [\"exponnorm\", \"f\", \"fatiguelife\", \"gamma\", \"johnsonsb\", \"johnsonsu\", \"mielke\", \"norminvgauss\", \"norm\"]\n",
    "\n",
    "    # Fit several stats to data\n",
    "    f_point_differential = Fitter(point_differential, distributions=_distributions)\n",
    "    f_point_differential.fit()\n",
    "    f_total_points = Fitter(total_points, distributions=_distributions)\n",
    "    f_total_points.fit()\n",
    "    f_road_points = Fitter(road_team.all_games_stats[\"PTS\"], distributions=_distributions)\n",
    "    f_road_points.fit()\n",
    "    f_road_pass_comps = Fitter(road_team.all_games_stats[\"PCOMPs\"], distributions=_distributions)\n",
    "    f_road_pass_comps.fit()\n",
    "    f_road_pass_atts = Fitter(road_team.all_games_stats[\"PATTs\"], distributions=_distributions)\n",
    "    f_road_pass_atts.fit()\n",
    "    f_road_pass_yards = Fitter(road_team.all_games_stats[\"PYDs\"], distributions=_distributions)\n",
    "    f_road_pass_yards.fit()\n",
    "    f_road_pass_tds = Fitter(road_team.all_games_stats[\"PTDs\"], distributions=_distributions)\n",
    "    f_road_pass_tds.fit()\n",
    "    f_road_ints = Fitter(road_team.all_games_stats[\"INTs\"], distributions=_distributions)\n",
    "    f_road_ints.fit()\n",
    "    f_road_rush_yards = Fitter(road_team.all_games_stats[\"RYDs\"], distributions=_distributions)\n",
    "    f_road_rush_yards.fit()\n",
    "    f_road_rush_tds = Fitter(road_team.all_games_stats[\"RTDs\"], distributions=_distributions)\n",
    "    f_road_rush_tds.fit()\n",
    "    f_home_points = Fitter(home_team.all_games_stats[\"PTS\"], distributions=_distributions)\n",
    "    f_home_points.fit()\n",
    "    f_home_pass_comps = Fitter(home_team.all_games_stats[\"PCOMPs\"], distributions=_distributions)\n",
    "    f_home_pass_comps.fit()\n",
    "    f_home_pass_atts = Fitter(home_team.all_games_stats[\"PATTs\"], distributions=_distributions)\n",
    "    f_home_pass_atts.fit()\n",
    "    f_home_pass_yards = Fitter(home_team.all_games_stats[\"PYDs\"], distributions=_distributions)\n",
    "    f_home_pass_yards.fit()\n",
    "    f_home_pass_tds = Fitter(home_team.all_games_stats[\"PTDs\"], distributions=_distributions)\n",
    "    f_home_pass_tds.fit()\n",
    "    f_home_ints = Fitter(home_team.all_games_stats[\"INTs\"], distributions=_distributions)\n",
    "    f_home_ints.fit()\n",
    "    f_home_rush_yards = Fitter(home_team.all_games_stats[\"RYDs\"], distributions=_distributions)\n",
    "    f_home_rush_yards.fit()\n",
    "    f_home_rush_tds = Fitter(home_team.all_games_stats[\"RTDs\"], distributions=_distributions)\n",
    "    f_home_rush_tds.fit()\n",
    "\n",
    "    # Create data frames to write to excel for the game, and write them to an Excel Spreadsheet\n",
    "    overall_stats_df = pd.DataFrame([[round(100 * road_team.record[0] / n, 1), round(100 * home_team.record[0] / n, 1), round(100 * road_team.record[2] / n, 1), round(np.mean(point_differential), 1), return_best_fit_in_str_format(f_point_differential.get_best(method=\"sumsquare_error\")), \" \".join([str(num) for num in point_differential]), round(np.mean(total_points), 1), return_best_fit_in_str_format(f_total_points.get_best(method=\"sumsquare_error\")), \" \".join([str(num) for num in total_points]), round(np.mean(road_team.all_games_stats[\"FPTS\"]), 2), round(np.mean(home_team.all_games_stats[\"FPTS\"]), 2)]], columns=[road_team.name + \" WIN %\", home_team.name + \" WIN %\", \"TIE %\", \"Avg. Point Differential\", \"Point Differential Distribution\", \"Point Differential List\", \"Avg. Tot. PTS\", \"PTS Distribution\", \"PTS List\", road_team.name + \"Avg. FPTS\", home_team.name + \"Avg. FPTS\"])\n",
    "    road_stats_df = pd.DataFrame([[round(np.mean(road_team.all_games_stats[\"PTS\"]), 1), round(np.mean(road_team.all_games_stats[\"PCOMPs\"]), 1), round(np.mean(road_team.all_games_stats[\"PATTs\"]), 1), round(np.mean(road_team.all_games_stats[\"PYDs\"]), 2), round(np.mean(road_team.all_games_stats[\"PTDs\"]), 2), round(np.mean(road_team.all_games_stats[\"INTs\"]), 2), round(np.mean(road_team.all_games_stats[\"RYDs\"]), 2), round(np.mean(road_team.all_games_stats[\"RTDs\"]), 2)], [return_best_fit_in_str_format(f_road_points.get_best(method=\"sumsquare_error\")), return_best_fit_in_str_format(f_road_pass_comps.get_best(method=\"sumsquare_error\")), return_best_fit_in_str_format(f_road_pass_atts.get_best(method=\"sumsquare_error\")), return_best_fit_in_str_format(f_road_pass_yards.get_best(method=\"sumsquare_error\")), return_best_fit_in_str_format(f_road_pass_tds.get_best(method=\"sumsquare_error\")), return_best_fit_in_str_format(f_road_ints.get_best(method=\"sumsquare_error\")), return_best_fit_in_str_format(f_road_rush_yards.get_best(method=\"sumsquare_error\")), return_best_fit_in_str_format(f_road_rush_tds.get_best(method=\"sumsquare_error\"))], [\" \".join([str(num) for num in road_team.all_games_stats[\"PTS\"]]), \" \".join([str(num) for num in road_team.all_games_stats[\"PCOMPs\"]]), \" \".join([str(num) for num in road_team.all_games_stats[\"PATTs\"]]), \" \".join([str(num) for num in road_team.all_games_stats[\"PYDs\"]]), \" \".join([str(num) for num in road_team.all_games_stats[\"PTDs\"]]), \" \".join([str(num) for num in road_team.all_games_stats[\"INTs\"]]), \" \".join([str(num) for num in road_team.all_games_stats[\"RYDs\"]]), \" \".join([str(num) for num in road_team.all_games_stats[\"RTDs\"]])]], columns=[\"PTS\", \"PCOMPs\", \"PATTs\", \"PYDs\", \"PTDs\", \"INTs\", \"RYDs\", \"RTDs\"], index=[\"Avg.\", \"Best Dist.\", \"List\"])\n",
    "    road_qbs_stats_df = pd.DataFrame([[player.name, round(np.mean(player.all_games_stats[\"PCOMPs\"]), 1), round(np.mean(player.all_games_stats[\"PATTs\"]), 1), round(np.mean(player.all_games_stats[\"PYDs\"]), 2), round(np.mean(player.all_games_stats[\"PTDs\"]), 2), round(np.mean(player.all_games_stats[\"INTs\"]), 2), round(np.mean(player.all_games_stats[\"FMBLs\"]), 2), round(np.mean(player.all_games_stats[\"RATTs\"]), 1), round(np.mean(player.all_games_stats[\"RYDs\"]), 2), round(np.mean(player.all_games_stats[\"RTDs\"]), 2), round(np.mean(player.all_games_stats[\"2PCs\"]), 2), round(np.mean(player.all_games_stats[\"FPTS\"]), 2)] for player in bubble_sort_by_fpts(road_team.players[\"QBs\"])], columns=[\"Name\", \"PCOMPs\", \"PATTs\", \"PYDs\", \"PTDs\", \"INTs\", \"FMBLs\", \"RATTs\", \"RYDs\", \"RTDs\", \"2PCs\", \"FPTS\"])\n",
    "    road_skill_players_stats_df = pd.DataFrame([[player.name, round(np.mean(player.all_games_stats[\"Rec\"]), 2), round(np.mean(player.all_games_stats[\"RecYDs\"]), 2), round(np.mean(player.all_games_stats[\"RecTDs\"]), 2), round(np.mean(player.all_games_stats[\"FMBLs\"]), 2), round(np.mean(player.all_games_stats[\"RATTs\"]), 1), round(np.mean(player.all_games_stats[\"RYDs\"]), 2), round(np.mean(player.all_games_stats[\"RTDs\"]), 2), round(np.mean(player.all_games_stats[\"2PCs\"]), 2), round(np.mean(player.all_games_stats[\"FPTS\"]), 2), round(np.mean(player.all_games_stats[\"FPTS\"]) - np.mean(player.all_games_stats[\"Rec\"]), 2)] for player in bubble_sort_by_fpts(road_team.skill_position_players)], columns=[\"Name\", \"Rec\", \"RecYDs\", \"RecTDs\", \"FMBLs\", \"RATTs\", \"RYDs\", \"RTDs\", \"2PCs\", \"FPTS (PPR)\", \"FPTS (Non-PPR)\"])\n",
    "    road_k_stats_df = pd.DataFrame([[road_team.players[\"Ks\"][0].name, round(np.mean(road_team.players[\"Ks\"][0].all_games_stats[\"XPM\"]), 2), round(np.mean(road_team.players[\"Ks\"][0].all_games_stats[\"XPA\"]), 2), round(np.mean(road_team.players[\"Ks\"][0].all_games_stats[\"FG50-M\"]), 2), round(np.mean(road_team.players[\"Ks\"][0].all_games_stats[\"FG50-A\"]), 2), round(np.mean(road_team.players[\"Ks\"][0].all_games_stats[\"FG50+M\"]), 2), round(np.mean(road_team.players[\"Ks\"][0].all_games_stats[\"FG50+A\"]), 2), round(np.mean(road_team.players[\"Ks\"][0].all_games_stats[\"FPTS\"]), 2)]], columns=[\"Name\", \"XPM\", \"XPA\", \"FG50-M\", \"FG50-A\", \"FG50+M\", \"FG50+A\", \"FPTS\"])\n",
    "    home_stats_df = pd.DataFrame([[round(np.mean(home_team.all_games_stats[\"PTS\"]), 1), round(np.mean(home_team.all_games_stats[\"PCOMPs\"]), 1), round(np.mean(home_team.all_games_stats[\"PATTs\"]), 1), round(np.mean(home_team.all_games_stats[\"PYDs\"]), 2), round(np.mean(home_team.all_games_stats[\"PTDs\"]), 2), round(np.mean(home_team.all_games_stats[\"INTs\"]), 2), round(np.mean(home_team.all_games_stats[\"RYDs\"]), 2), round(np.mean(home_team.all_games_stats[\"RTDs\"]), 2)], [return_best_fit_in_str_format(f_home_points.get_best(method=\"sumsquare_error\")), return_best_fit_in_str_format(f_home_pass_comps.get_best(method=\"sumsquare_error\")), return_best_fit_in_str_format(f_home_pass_atts.get_best(method=\"sumsquare_error\")), return_best_fit_in_str_format(f_home_pass_yards.get_best(method=\"sumsquare_error\")), return_best_fit_in_str_format(f_home_pass_tds.get_best(method=\"sumsquare_error\")), return_best_fit_in_str_format(f_home_ints.get_best(method=\"sumsquare_error\")), return_best_fit_in_str_format(f_home_rush_yards.get_best(method=\"sumsquare_error\")), return_best_fit_in_str_format(f_home_rush_tds.get_best(method=\"sumsquare_error\"))], [\" \".join([str(num) for num in home_team.all_games_stats[\"PTS\"]]), \" \".join([str(num) for num in home_team.all_games_stats[\"PCOMPs\"]]), \" \".join([str(num) for num in home_team.all_games_stats[\"PATTs\"]]), \" \".join([str(num) for num in home_team.all_games_stats[\"PYDs\"]]), \" \".join([str(num) for num in home_team.all_games_stats[\"PTDs\"]]), \" \".join([str(num) for num in home_team.all_games_stats[\"INTs\"]]), \" \".join([str(num) for num in home_team.all_games_stats[\"RYDs\"]]), \" \".join([str(num) for num in home_team.all_games_stats[\"RTDs\"]])]], columns=[\"PTS\", \"PCOMPs\", \"PATTs\", \"PYDs\", \"PTDs\", \"INTs\", \"RYDs\", \"RTDs\"], index=[\"Avg.\", \"Best Dist.\", \"List\"])\n",
    "    home_qbs_stats_df = pd.DataFrame([[player.name, round(np.mean(player.all_games_stats[\"PCOMPs\"]), 1), round(np.mean(player.all_games_stats[\"PATTs\"]), 1), round(np.mean(player.all_games_stats[\"PYDs\"]), 2), round(np.mean(player.all_games_stats[\"PTDs\"]), 2), round(np.mean(player.all_games_stats[\"INTs\"]), 2), round(np.mean(player.all_games_stats[\"FMBLs\"]), 2), round(np.mean(player.all_games_stats[\"RATTs\"]), 1), round(np.mean(player.all_games_stats[\"RYDs\"]), 2), round(np.mean(player.all_games_stats[\"RTDs\"]), 2), round(np.mean(player.all_games_stats[\"2PCs\"]), 2), round(np.mean(player.all_games_stats[\"FPTS\"]), 2)] for player in bubble_sort_by_fpts(home_team.players[\"QBs\"])], columns=[\"Name\", \"PCOMPs\", \"PATTs\", \"PYDs\", \"PTDs\", \"INTs\", \"FMBLs\", \"RATTs\", \"RYDs\", \"RTDs\", \"2PCs\", \"FPTS\"])\n",
    "    home_skill_players_stats_df = pd.DataFrame([[player.name, round(np.mean(player.all_games_stats[\"Rec\"]), 2), round(np.mean(player.all_games_stats[\"RecYDs\"]), 2), round(np.mean(player.all_games_stats[\"RecTDs\"]), 2), round(np.mean(player.all_games_stats[\"FMBLs\"]), 2), round(np.mean(player.all_games_stats[\"RATTs\"]), 1), round(np.mean(player.all_games_stats[\"RYDs\"]), 2), round(np.mean(player.all_games_stats[\"RTDs\"]), 2), round(np.mean(player.all_games_stats[\"2PCs\"]), 2), round(np.mean(player.all_games_stats[\"FPTS\"]), 2), round(np.mean(player.all_games_stats[\"FPTS\"]) - np.mean(player.all_games_stats[\"Rec\"]), 2)] for player in bubble_sort_by_fpts(home_team.skill_position_players)], columns=[\"Name\", \"Rec\", \"RecYDs\", \"RecTDs\", \"FMBLs\", \"RATTs\", \"RYDs\", \"RTDs\", \"2PCs\", \"FPTS (PPR)\", \"FPTS (Non-PPR)\"])\n",
    "    home_k_stats_df = pd.DataFrame([[home_team.players[\"Ks\"][0].name, round(np.mean(home_team.players[\"Ks\"][0].all_games_stats[\"XPM\"]), 2), round(np.mean(home_team.players[\"Ks\"][0].all_games_stats[\"XPA\"]), 2), round(np.mean(home_team.players[\"Ks\"][0].all_games_stats[\"FG50-M\"]), 2), round(np.mean(home_team.players[\"Ks\"][0].all_games_stats[\"FG50-A\"]), 2), round(np.mean(home_team.players[\"Ks\"][0].all_games_stats[\"FG50+M\"]), 2), round(np.mean(home_team.players[\"Ks\"][0].all_games_stats[\"FG50+A\"]), 2), round(np.mean(home_team.players[\"Ks\"][0].all_games_stats[\"FPTS\"]), 2)]], columns=[\"Name\", \"XPM\", \"XPA\", \"FG50-M\", \"FG50-A\", \"FG50+M\", \"FG50+A\", \"FPTS\"])\n",
    "    with pd.ExcelWriter(\"Game Simulations/Week \" + str(week) + \"/\" + road_team.name + \" at \" + home_team.name + \".xlsx\") as writer:\n",
    "        overall_stats_df.to_excel(writer, sheet_name=\"Overall game stats\")\n",
    "        road_stats_df.to_excel(writer, sheet_name=team_mnemonics[road_team.name] + \" game stats\")\n",
    "        road_qbs_stats_df.to_excel(writer, sheet_name=team_mnemonics[road_team.name] + \" pass stats\")\n",
    "        road_skill_players_stats_df.to_excel(writer, sheet_name=team_mnemonics[road_team.name] + \" rec and rush stats\")\n",
    "        road_k_stats_df.to_excel(writer, sheet_name=team_mnemonics[road_team.name] + \" kicking stats\")\n",
    "        home_stats_df.to_excel(writer, sheet_name=team_mnemonics[home_team.name] + \" game stats\")\n",
    "        home_qbs_stats_df.to_excel(writer, sheet_name=team_mnemonics[home_team.name] + \" pass stats\")\n",
    "        home_skill_players_stats_df.to_excel(writer, sheet_name=team_mnemonics[home_team.name] + \" rec and rush stats\")\n",
    "        home_k_stats_df.to_excel(writer, sheet_name=home_team.name + \" kicking stats\")\n",
    "\n",
    "# Create data frames for the full weekly fantasy projections, and write them to an Excel spreadsheet\n",
    "all_qbs_stats_df = pd.DataFrame([[player.name + \"(\" + team_mnemonics[player.team] + \")\", round(np.mean(player.all_games_stats[\"PCOMPs\"]), 1), round(np.mean(player.all_games_stats[\"PATTs\"]), 1), round(np.mean(player.all_games_stats[\"PYDs\"]), 2), round(np.mean(player.all_games_stats[\"PTDs\"]), 2), round(np.mean(player.all_games_stats[\"INTs\"]), 2), round(np.mean(player.all_games_stats[\"FMBLs\"]), 2), round(np.mean(player.all_games_stats[\"RATTs\"]), 1), round(np.mean(player.all_games_stats[\"RYDs\"]), 2), round(np.mean(player.all_games_stats[\"RTDs\"]), 2), round(np.mean(player.all_games_stats[\"2PCs\"]), 2), round(np.mean(player.all_games_stats[\"FPTS\"]), 2)] for player in bubble_sort_by_fpts(all_qbs)], columns=[\"Name\", \"PCOMPs\", \"PATTs\", \"PYDs\", \"PTDs\", \"INTs\", \"FMBLs\", \"RATTs\", \"RYDs\", \"RTDs\", \"2PCs\", \"FPTS\"]) \n",
    "all_rbs_stats_df = pd.DataFrame([[player.name + \"(\" + team_mnemonics[player.team] + \")\", round(np.mean(player.all_games_stats[\"Rec\"]), 2), round(np.mean(player.all_games_stats[\"RecYDs\"]), 2), round(np.mean(player.all_games_stats[\"RecTDs\"]), 2), round(np.mean(player.all_games_stats[\"FMBLs\"]), 2), round(np.mean(player.all_games_stats[\"RATTs\"]), 1), round(np.mean(player.all_games_stats[\"RYDs\"]), 2), round(np.mean(player.all_games_stats[\"RTDs\"]), 2), round(np.mean(player.all_games_stats[\"2PCs\"]), 2), round(np.mean(player.all_games_stats[\"FPTS\"]), 2), round(np.mean(player.all_games_stats[\"FPTS\"]) - np.mean(player.all_games_stats[\"Rec\"]), 2)] for player in bubble_sort_by_fpts(all_rbs)], columns=[\"Name\", \"Rec\", \"RecYDs\", \"RecTDs\", \"FMBLs\", \"RATTs\", \"RYDs\", \"RTDs\", \"2PCs\", \"FPTS (PPR)\", \"FPTS (Non-PPR)\"])\n",
    "all_wrs_stats_df = pd.DataFrame([[player.name + \"(\" + team_mnemonics[player.team] + \")\", round(np.mean(player.all_games_stats[\"Rec\"]), 2), round(np.mean(player.all_games_stats[\"RecYDs\"]), 2), round(np.mean(player.all_games_stats[\"RecTDs\"]), 2), round(np.mean(player.all_games_stats[\"FMBLs\"]), 2), round(np.mean(player.all_games_stats[\"RATTs\"]), 1), round(np.mean(player.all_games_stats[\"RYDs\"]), 2), round(np.mean(player.all_games_stats[\"RTDs\"]), 2), round(np.mean(player.all_games_stats[\"2PCs\"]), 2), round(np.mean(player.all_games_stats[\"FPTS\"]), 2), round(np.mean(player.all_games_stats[\"FPTS\"]) - np.mean(player.all_games_stats[\"Rec\"]), 2)] for player in bubble_sort_by_fpts(all_wrs)], columns=[\"Name\", \"Rec\", \"RecYDs\", \"RecTDs\", \"FMBLs\", \"RATTs\", \"RYDs\", \"RTDs\", \"2PCs\", \"FPTS (PPR)\", \"FPTS (Non-PPR)\"])\n",
    "all_tes_stats_df = pd.DataFrame([[player.name + \"(\" + team_mnemonics[player.team] + \")\", round(np.mean(player.all_games_stats[\"Rec\"]), 2), round(np.mean(player.all_games_stats[\"RecYDs\"]), 2), round(np.mean(player.all_games_stats[\"RecTDs\"]), 2), round(np.mean(player.all_games_stats[\"FMBLs\"]), 2), round(np.mean(player.all_games_stats[\"RATTs\"]), 1), round(np.mean(player.all_games_stats[\"RYDs\"]), 2), round(np.mean(player.all_games_stats[\"RTDs\"]), 2), round(np.mean(player.all_games_stats[\"2PCs\"]), 2), round(np.mean(player.all_games_stats[\"FPTS\"]), 2), round(np.mean(player.all_games_stats[\"FPTS\"]) - np.mean(player.all_games_stats[\"Rec\"]), 2)] for player in bubble_sort_by_fpts(all_tes)], columns=[\"Name\", \"Rec\", \"RecYDs\", \"RecTDs\", \"FMBLs\", \"RATTs\", \"RYDs\", \"RTDs\", \"2PCs\", \"FPTS (PPR)\", \"FPTS (Non-PPR)\"])\n",
    "all_ks_stats_df = pd.DataFrame([[player.name + \"(\" + team_mnemonics[player.team] + \")\", round(np.mean(player.all_games_stats[\"XPM\"]), 2), round(np.mean(player.all_games_stats[\"XPA\"]), 2), round(np.mean(player.all_games_stats[\"FG50-M\"]), 2), round(np.mean(player.all_games_stats[\"FG50-A\"]), 2), round(np.mean(player.all_games_stats[\"FG50+M\"]), 2), round(np.mean(player.all_games_stats[\"FG50+A\"]), 2), round(np.mean(player.all_games_stats[\"FPTS\"]), 2)] for player in bubble_sort_by_fpts(all_ks)], columns=[\"Name\", \"XPM\", \"XPA\", \"FG50-M\", \"FG50-A\", \"FG50+M\", \"FG50+A\", \"FPTS\"])\n",
    "all_defenses_stats_df = pd.DataFrame([[team.name, round(np.mean(team.all_games_stats[\"FPTS\"]), 2)] for team in bubble_sort_by_fpts(all_teams)], columns=[\"Team\", \"FPTS\"])\n",
    "with pd.ExcelWriter(\"Game Simulations/Week \" + str(week) + \"/Fantasy Projections.xlsx\") as writer:\n",
    "    all_qbs_stats_df.to_excel(writer, sheet_name=\"QBs\")\n",
    "    all_rbs_stats_df.to_excel(writer, sheet_name=\"RBs\")\n",
    "    all_wrs_stats_df.to_excel(writer, sheet_name=\"WRs\")\n",
    "    all_tes_stats_df.to_excel(writer, sheet_name=\"TEs\")\n",
    "    all_ks_stats_df.to_excel(writer, sheet_name=\"Ks\")\n",
    "    all_defenses_stats_df.to_excel(writer, sheet_name=\"DEFs\")\n",
    "\n",
    "for p in primetime_data: # Loop through primetime games\n",
    "    # Create primetime images for each game (automatically saved)\n",
    "    create_primetime_opener_image(p[0], p[1], week, p[2], n)\n",
    "    create_primetime_stat_projections_image(p[0], p[1], week)\n",
    "#create_win_probabilities_image(matchups_data[0:8], week, 1) # Create and save win probabilities image for the first 8 Sunday early matchups\n",
    "#create_win_probabilities_image(matchups_data[8:], week, 2) # Create and save win probabilities image for the remaining Sunday early matchups\n",
    "\n",
    "# Create and save fantasy rankings image for each position, for different scoring formats\n",
    "#all_qbs = bubble_sort_by_fpts(all_qbs)\n",
    "#create_fantasy_rankings_image(all_qbs[0:2*len(bets)], [qb.team for qb in all_qbs[0:2*len(bets)]], team_colors, team_mnemonics, \"QB\", week, 1, schedule=schedule)\n",
    "#all_rbs = bubble_sort_by_fpts(all_rbs)\n",
    "#create_fantasy_rankings_image(all_rbs[0:32], [rb.team for rb in all_rbs[0:32]], team_colors, team_mnemonics, \"RB\", week, 1, scoring_format=\"PPR\", schedule=schedule)\n",
    "#create_fantasy_rankings_image(all_rbs[32:64], [rb.team for rb in all_rbs[32:64]], team_colors, team_mnemonics, \"RB\", week, 2, scoring_format=\"PPR\", schedule=schedule, starting_num=33)\n",
    "#all_rbs = bubble_sort_by_fpts(all_rbs, scoring_format=\"Non-PPR\")\n",
    "#create_fantasy_rankings_image(all_rbs[0:32], [rb.team for rb in all_rbs[0:32]], team_colors, team_mnemonics, \"RB\", week, 1, scoring_format=\"Non-PPR\", schedule=schedule)\n",
    "#create_fantasy_rankings_image(all_rbs[32:64], [rb.team for rb in all_rbs[32:64]], team_colors, team_mnemonics, \"RB\", week, 2, scoring_format=\"Non-PPR\", schedule=schedule, starting_num=33)\n",
    "#all_wrs = bubble_sort_by_fpts(all_wrs)\n",
    "#create_fantasy_rankings_image(all_wrs[0:32], [wr.team for wr in all_wrs[0:32]], team_colors, team_mnemonics, \"WR\", week, 1, scoring_format=\"PPR\", schedule=schedule)\n",
    "#create_fantasy_rankings_image(all_wrs[32:64], [wr.team for wr in all_wrs[32:64]], team_colors, team_mnemonics, \"WR\", week, 2, scoring_format=\"PPR\", schedule=schedule, starting_num=33) \n",
    "#all_wrs = bubble_sort_by_fpts(all_wrs, scoring_format=\"Non-PPR\")\n",
    "#create_fantasy_rankings_image(all_wrs[0:32], [wr.team for wr in all_wrs[0:32]], team_colors, team_mnemonics, \"WR\", week, 1, scoring_format=\"Non-PPR\", schedule=schedule)\n",
    "#create_fantasy_rankings_image(all_wrs[32:64], [wr.team for wr in all_wrs[32:64]], team_colors, team_mnemonics, \"WR\", week, 2, scoring_format=\"Non-PPR\", schedule=schedule, starting_num=33)\n",
    "#all_tes = bubble_sort_by_fpts(all_tes)\n",
    "#create_fantasy_rankings_image(all_tes[0:32], [te.team for te in all_tes[0:32]], team_colors, team_mnemonics, \"TE\", week, 1, scoring_format=\"PPR\", schedule=schedule)\n",
    "#all_tes = bubble_sort_by_fpts(all_tes, scoring_format=\"Non-PPR\")\n",
    "#create_fantasy_rankings_image(all_tes[0:32], [te.team for te in all_tes[0:32]], team_colors, team_mnemonics, \"TE\", week, 1, scoring_format=\"Non-PPR\", schedule=schedule)\n",
    "#all_ks = bubble_sort_by_fpts(all_ks)\n",
    "#create_fantasy_rankings_image(all_ks, [k.team for k in all_ks], team_colors, team_mnemonics, \"K\", week, 1, schedule=schedule)\n",
    "#all_teams = bubble_sort_by_fpts(all_teams)\n",
    "#create_fantasy_rankings_image(all_teams, [team.name for team in all_teams], team_colors, team_mnemonics, \"DEF\", week, 1, schedule=schedule)\n",
    "print(\"Done\")"
   ]
  },
  {
   "cell_type": "code",
   "execution_count": null,
   "metadata": {},
   "outputs": [],
   "source": []
  }
 ],
 "metadata": {
  "kernelspec": {
   "display_name": "Python 3",
   "language": "python",
   "name": "python3"
  },
  "language_info": {
   "codemirror_mode": {
    "name": "ipython",
    "version": 3
   },
   "file_extension": ".py",
   "mimetype": "text/x-python",
   "name": "python",
   "nbconvert_exporter": "python",
   "pygments_lexer": "ipython3",
   "version": "3.8.5"
  }
 },
 "nbformat": 4,
 "nbformat_minor": 4
}
