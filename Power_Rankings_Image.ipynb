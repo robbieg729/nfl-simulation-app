{
 "cells": [
  {
   "cell_type": "code",
   "execution_count": 2,
   "metadata": {},
   "outputs": [
    {
     "name": "stdout",
     "output_type": "stream",
     "text": [
      "Team 1: GB\n",
      "Team 2: TB\n",
      "Team 3: KC\n",
      "Team 4: ARI\n",
      "Team 5: NE\n",
      "Team 6: LAR\n",
      "Team 7: DAL\n",
      "Team 8: IND\n",
      "Team 9: LAC\n",
      "Team 10: TEN\n",
      "Team 11: BAL\n",
      "Team 12: BUF\n",
      "Team 13: SF\n",
      "Team 14: CIN\n",
      "Team 15: DEN\n",
      "Team 16: MIN\n",
      "Team 17: CLE\n",
      "Team 18: LV\n",
      "Team 19: WAS\n",
      "Team 20: PHI\n",
      "Team 21: MIA\n",
      "Team 22: NO\n",
      "Team 23: ATL\n",
      "Team 24: SEAS\n",
      "Try again:\n",
      "Team 24: SEA\n",
      "Team 25: CHI\n",
      "Team 26: PIT\n",
      "Team 27: CAR\n",
      "Team 28: NYG\n",
      "Team 29: JAX\n",
      "Team 30: NYJ\n",
      "Team 31: HOU\n",
      "Team 32: DET\n",
      "Done\n"
     ]
    }
   ],
   "source": [
    "from Image_Making import create_power_rankings_image\n",
    "# Team abbreviations to use in the image\n",
    "team_mnemonics = {\"Bills\": \"BUF\", \"Dolphins\": \"MIA\", \"Jets\": \"NYJ\", \"Patriots\": \"NE\", \"Bengals\": \"CIN\", \"Browns\": \"CLE\", \"Ravens\": \"BAL\", \"Steelers\": \"PIT\", \"Colts\": \"IND\", \"Jaguars\": \"JAX\", \"Texans\": \"HOU\", \"Titans\": \"TEN\", \"Broncos\": \"DEN\", \"Chargers\": \"LAC\", \"Chiefs\": \"KC\", \"Raiders\": \"LV\", \"Cowboys\": \"DAL\", \"Eagles\": \"PHI\", \"Football Team\": \"WAS\", \"Giants\": \"NYG\", \"Bears\": \"CHI\", \"Lions\": \"DET\", \"Packers\": \"GB\", \"Vikings\": \"MIN\", \"Buccaneers\": \"TB\", \"Falcons\": \"ATL\", \"Panthers\": \"CAR\", \"Saints\": \"NO\", \"49ers\": \"SF\", \"Cardinals\": \"ARI\", \"Rams\": \"LAR\", \"Seahawks\": \"SEA\"}\n",
    "# Base team colors\n",
    "team_colors = {\"Bills\": (2, 45, 147), \"Dolphins\": (1, 142, 151), \"Jets\": (12, 87, 64), \"Patriots\": (206, 2, 29), \"Bengals\": (239, 72, 30), \"Browns\": (221, 96, 6), \"Ravens\": (42, 44, 129), \"Steelers\": (240, 200, 24), \"Colts\": (0, 50, 101), \"Jaguars\": (18, 101, 119), \"Texans\": (199, 35, 62), \"Titans\": (68, 148, 209), \"Broncos\": (242, 105, 34), \"Chargers\": (55, 120, 188), \"Chiefs\": (204, 3, 25), \"Raiders\": (209, 209, 211), \"Cowboys\": (212, 213, 215), \"Eagles\": (0, 71, 81), \"Football Team\": (88, 20, 19), \"Giants\": (0, 57, 124), \"Bears\": (27, 27, 63), \"Lions\": (1, 116, 181), \"Packers\": (31, 53, 48), \"Vikings\": (70, 23, 89), \"Buccaneers\": (234, 18, 5), \"Falcons\": (200, 33, 59), \"Panthers\": (12, 149, 211), \"Saints\": (209, 187, 140), \"49ers\": (196, 168, 114), \"Cardinals\": (176, 5, 57), \"Rams\": (0, 53, 148), \"Seahawks\": (99, 187, 38)}\n",
    "teams = list()\n",
    "week = 15 # Week of season\n",
    "for i in range(0, 32): # Loop through each rank\n",
    "    team = \"\"\n",
    "    while team == \"\": # No team has been selected for the current rank\n",
    "        mnemonic = input(\"Team \" + str(i + 1) + \": \") # Allow user to input team for this rank, using abbreviations in team_mnemonics\n",
    "        # Find team\n",
    "        for key in team_mnemonics:\n",
    "            if team_mnemonics[key] == mnemonic:\n",
    "                team = key\n",
    "        if team == \"\": # Input not valid\n",
    "            print(\"Try again:\")\n",
    "    teams.append(team) # Add team to end of teams list (maintains correct order)\n",
    "create_power_rankings_image(teams, team_colors, week) # Create image (automatically saved)\n",
    "print(\"Done\")"
   ]
  }
 ],
 "metadata": {
  "kernelspec": {
   "display_name": "Python 3",
   "language": "python",
   "name": "python3"
  },
  "language_info": {
   "codemirror_mode": {
    "name": "ipython",
    "version": 3
   },
   "file_extension": ".py",
   "mimetype": "text/x-python",
   "name": "python",
   "nbconvert_exporter": "python",
   "pygments_lexer": "ipython3",
   "version": "3.8.5"
  }
 },
 "nbformat": 4,
 "nbformat_minor": 4
}
